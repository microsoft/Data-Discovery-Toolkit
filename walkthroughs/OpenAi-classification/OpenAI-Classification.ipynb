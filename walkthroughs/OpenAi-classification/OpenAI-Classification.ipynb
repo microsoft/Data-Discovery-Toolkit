{
  "cells": [
    {
      "cell_type": "markdown",
      "source": [
        "Copyright (c) Microsoft Corporation. All rights reserved.\n",
        "\n",
        "Licensed under the MIT License.\n",
        "\n",
        "# Using OpenAI to classify the BBC Sports documents\n",
        "\n",
        "## This cell configures the spark session - Do not change"
      ],
      "metadata": {
        "nteract": {
          "transient": {
            "deleting": false
          }
        }
      }
    },
    {
      "cell_type": "code",
      "source": [
        "%%configure -f\n",
        "{\n",
        "\"conf\": {\n",
        "     \"spark.rpc.message.maxSize\": 1024,\n",
        "     \"spark.kryoserializer.buffer.max\": \"256m\"\n",
        "   }\n",
        "}"
      ],
      "outputs": [
        {
          "output_type": "display_data",
          "data": {
            "application/vnd.livy.statement-meta+json": {
              "spark_pool": null,
              "session_id": "13",
              "statement_id": -1,
              "state": "finished",
              "livy_statement_state": "available",
              "queued_time": "2023-02-16T11:34:27.8115713Z",
              "session_start_time": "2023-02-16T11:34:27.9234324Z",
              "execution_start_time": "2023-02-16T11:35:06.5182534Z",
              "execution_finish_time": "2023-02-16T11:35:06.5185363Z",
              "spark_jobs": null,
              "parent_msg_id": "8a6d7ff0-f102-4f5c-8055-3c2796859f82"
            },
            "text/plain": "StatementMeta(, 13, -1, Finished, Available)"
          },
          "metadata": {}
        }
      ],
      "execution_count": 27,
      "metadata": {
        "jupyter": {
          "source_hidden": false,
          "outputs_hidden": false
        },
        "nteract": {
          "transient": {
            "deleting": false
          }
        }
      }
    },
    {
      "cell_type": "markdown",
      "source": [
        "\n",
        "## These are the parameters that need to be changed to your values"
      ],
      "metadata": {
        "nteract": {
          "transient": {
            "deleting": false
          }
        }
      }
    },
    {
      "cell_type": "code",
      "source": [
        "# The input file name \n",
        "input_filename = 'abfss://share@datadiscoverypipeline.dfs.core.windows.net/sport_articles.csv'\n",
        "# The output directory where the output file will be written to\n",
        "output_directory = 'abfss://share@datadiscoverypipeline.dfs.core.windows.net/sport_articles/output/'\n",
        "# The name of the output file\n",
        "output_filename = 'bbc_classification.csv'\n",
        "\n",
        "# The OpenAI deployment\n",
        "deployment_name = \"\"\n",
        "# The OpenAI key\n",
        "key=\"\"\n",
        "# The OpenAI service name e.g. myopenai - just the prefix of the endpoint\n",
        "service_name=\"\"\n",
        "\n",
        "# Azure SubscriptionId\n",
        "subscription_id=\"\"\n",
        "# AzureML Workspace Resource Group\n",
        "resource_group=\"\"\n",
        "# AzureML Workspace Name\n",
        "workspace_name=\"\"\n",
        "\n"
      ],
      "outputs": [
        {
          "output_type": "display_data",
          "data": {
            "application/vnd.livy.statement-meta+json": {
              "spark_pool": "DataDiscovery",
              "session_id": "13",
              "statement_id": 1,
              "state": "finished",
              "livy_statement_state": "available",
              "queued_time": "2023-02-16T11:34:30.9747272Z",
              "session_start_time": null,
              "execution_start_time": "2023-02-16T11:35:18.683554Z",
              "execution_finish_time": "2023-02-16T11:35:18.838595Z",
              "spark_jobs": null,
              "parent_msg_id": "65cb5f0c-f7ef-4be0-8c50-ca7fa27de514"
            },
            "text/plain": "StatementMeta(DataDiscovery, 13, 1, Finished, Available)"
          },
          "metadata": {}
        }
      ],
      "execution_count": 28,
      "metadata": {
        "jupyter": {
          "source_hidden": false,
          "outputs_hidden": false
        },
        "nteract": {
          "transient": {
            "deleting": false
          }
        }
      }
    },
    {
      "cell_type": "markdown",
      "source": [
        "## Track the Experiment in Azure ML"
      ],
      "metadata": {
        "nteract": {
          "transient": {
            "deleting": false
          }
        }
      }
    },
    {
      "cell_type": "code",
      "source": [
        "from azureml.core import Workspace, Experiment, Run\n",
        "import mlflow\n",
        "\n",
        "ws = Workspace(subscription_id=subscription_id, resource_group=resource_group, workspace_name=workspace_name)    \n",
        "mlflow.set_tracking_uri(ws.get_mlflow_tracking_uri())\n",
        "experiment_name = f\"({mssparkutils.runtime.context['notebookname']}_{str(mssparkutils.env.getJobId())})\"\n",
        "mlflow.set_experiment(experiment_name)\n",
        "mlflow.log_param(\"input_filename\", input_filename)\n",
        "mlflow.log_param(\"number_of_clusters\", number_of_clusters)\n",
        "mlflow.log_param(\"output_directory\", output_directory)\n",
        "mlflow.log_param(\"output_filename\", output_filename)\n",
        "mlflow.log_param(\"account_url\", account_url)\n",
        "mlflow.log_param(\"account_name\", account_name)\n",
        "mlflow.log_param(\"file_system_name\", file_system_name)\n",
        "mlflow.log_param(\"directory_name\", directory_name)\n",
        "mlflow.log_param(\"SCATTER_PLOT_3D\", SCATTER_PLOT_3D)\n",
        "mlflow.log_param(\"LOW_MEMORY_MODE\", LOW_MEMORY_MODE)\n",
        "params = {\n",
        "    \"sparkpool\": mssparkutils.runtime.context['sparkpool'],\n",
        "    \"workspace\": mssparkutils.runtime.context['workspace'],\n",
        "    \"notebookname\": mssparkutils.runtime.context['notebookname'],\n",
        "    \"isForPipeline\": mssparkutils.runtime.context['isForPipeline'],\n",
        "    \"pipelinejobid\": mssparkutils.runtime.context['pipelinejobid']\n",
        "}\n",
        "\n",
        "mlflow.log_params(params)\n",
        "mlflow.pyspark.ml.autolog()"
      ],
      "outputs": [],
      "execution_count": null,
      "metadata": {
        "jupyter": {
          "source_hidden": false,
          "outputs_hidden": false
        },
        "nteract": {
          "transient": {
            "deleting": false
          }
        }
      }
    },
    {
      "cell_type": "code",
      "source": [
        "from pyspark.ml import Pipeline\n",
        "from pyspark import SparkContext, SparkConf\n",
        "import sys\n",
        "from pyspark.sql.functions import udf\n",
        "from pyspark.sql.types import StringType\n",
        "from pyspark.sql import SparkSession\n",
        "import ntpath\n",
        "import os\n",
        "import numpy as np\n",
        "from pyspark.sql.functions import  col, udf,mean,  concat, lit\n",
        "from pyspark.sql import functions as F\n",
        "from synapse.ml.cognitive import OpenAICompletion\n",
        "\n",
        "df = spark.read.load(input_filename, header=True, format='csv')"
      ],
      "outputs": [
        {
          "output_type": "display_data",
          "data": {
            "application/vnd.livy.statement-meta+json": {
              "spark_pool": "DataDiscovery",
              "session_id": "13",
              "statement_id": 2,
              "state": "finished",
              "livy_statement_state": "available",
              "queued_time": "2023-02-16T11:34:34.6336415Z",
              "session_start_time": null,
              "execution_start_time": "2023-02-16T11:35:19.0293141Z",
              "execution_finish_time": "2023-02-16T11:35:33.6753482Z",
              "spark_jobs": null,
              "parent_msg_id": "3fd9340d-c112-4dff-a6d6-5dca52780a9b"
            },
            "text/plain": "StatementMeta(DataDiscovery, 13, 2, Finished, Available)"
          },
          "metadata": {}
        }
      ],
      "execution_count": 29,
      "metadata": {
        "jupyter": {
          "source_hidden": false,
          "outputs_hidden": false
        },
        "nteract": {
          "transient": {
            "deleting": false
          }
        }
      }
    },
    {
      "cell_type": "code",
      "source": [
        "df = df.select(concat(lit(\"Classify the following news article into only 1 of the following categories: [Football, Athletics, Cricket, Rugby, Tennis]\"), col('text')).alias('prompt'), \"filename\", \"text\")\n",
        "\n",
        "classification = (\n",
        "    OpenAICompletion()\n",
        "    .setSubscriptionKey(key)\n",
        "    .setDeploymentName(deployment_name)\n",
        "    .setUrl(\"https://{}.openai.azure.com/\".format(service_name))\n",
        "    .setMaxTokens(200)\n",
        "    .setPromptCol(\"prompt\")\n",
        "    .setErrorCol(\"error\")\n",
        "    .setOutputCol(\"classification_output\")\n",
        ")\n",
        "\n",
        "classification_df = classification.transform(df).select(\n",
        "        col(\"classification_output\"),\n",
        "        col(\"error\"),\n",
        "        col('filename'),\n",
        "        col(\"classification_output.choices.text\").getItem(0).alias(\"classification\")\n",
        ")\n",
        "\n"
      ],
      "outputs": [
        {
          "output_type": "display_data",
          "data": {
            "application/vnd.livy.statement-meta+json": {
              "spark_pool": "DataDiscovery",
              "session_id": "13",
              "statement_id": 8,
              "state": "finished",
              "livy_statement_state": "available",
              "queued_time": "2023-02-16T11:40:14.2915547Z",
              "session_start_time": null,
              "execution_start_time": "2023-02-16T11:40:14.4286078Z",
              "execution_finish_time": "2023-02-16T11:40:15.509253Z",
              "spark_jobs": null,
              "parent_msg_id": "b847f85e-c8ad-461f-9bfc-8392133cfb72"
            },
            "text/plain": "StatementMeta(DataDiscovery, 13, 8, Finished, Available)"
          },
          "metadata": {}
        }
      ],
      "execution_count": 35,
      "metadata": {
        "jupyter": {
          "source_hidden": false,
          "outputs_hidden": false
        },
        "nteract": {
          "transient": {
            "deleting": false
          }
        },
        "collapsed": false
      }
    },
    {
      "cell_type": "markdown",
      "source": [
        "# Generate the actual labels from the file names\n"
      ],
      "metadata": {
        "nteract": {
          "transient": {
            "deleting": false
          }
        }
      }
    },
    {
      "cell_type": "code",
      "source": [
        "import re\n",
        "def find_first_digit(s1):\n",
        "\n",
        "    return_index = -1\n",
        "    return_result = \"\"\n",
        "    m = re.search(r\"\\d\", s1)\n",
        "    \n",
        "    if m:\n",
        "        return_index = m.start()\n",
        "        return_result = s1[:m.start()]\n",
        "              \n",
        "    return return_result\n",
        "\n",
        "udf_get_label = udf(find_first_digit, StringType())\n",
        "\n",
        "classification_df = classification_df.withColumn(\"actual_sport_classification\", udf_get_label(classification_df.filename))"
      ],
      "outputs": [
        {
          "output_type": "display_data",
          "data": {
            "application/vnd.livy.statement-meta+json": {
              "spark_pool": "DataDiscovery",
              "session_id": "13",
              "statement_id": 13,
              "state": "finished",
              "livy_statement_state": "available",
              "queued_time": "2023-02-16T12:01:45.7618584Z",
              "session_start_time": null,
              "execution_start_time": "2023-02-16T12:01:45.901613Z",
              "execution_finish_time": "2023-02-16T12:01:46.0493217Z",
              "spark_jobs": null,
              "parent_msg_id": "bfef891b-b24f-4787-91b5-51c3a1820c8f"
            },
            "text/plain": "StatementMeta(DataDiscovery, 13, 13, Finished, Available)"
          },
          "metadata": {}
        }
      ],
      "execution_count": 40,
      "metadata": {
        "jupyter": {
          "source_hidden": false,
          "outputs_hidden": false
        },
        "nteract": {
          "transient": {
            "deleting": false
          }
        }
      }
    },
    {
      "cell_type": "markdown",
      "source": [
        "# Search for the label"
      ],
      "metadata": {
        "nteract": {
          "transient": {
            "deleting": false
          }
        }
      }
    },
    {
      "cell_type": "code",
      "source": [
        "from flashtext import KeywordProcessor\n",
        "list_of_sports = [\"athletics\", \"football\", \"rugby\", \"tennis\", \"cricket\"]\n",
        "\n",
        "keyword_processor = KeywordProcessor()\n",
        "\n",
        "for sport in list_of_sports:\n",
        "    keyword_processor.add_keyword(sport)\n",
        "\n",
        "\n",
        "def classify(row):              \n",
        "    keywords_found_top = keyword_processor.extract_keywords(row, span_info=True)\n",
        "\n",
        "    if len(keywords_found_top) > 0:\n",
        "        found = sorted(keywords_found_top, reverse=False, key=lambda x:x[1])[0][0]\n",
        "        # Unfortunately we have spelling mistake in a label so let's apply it\n",
        "        if found == \"athletics\":\n",
        "            found = \"atheletics\"\n",
        "    else:\n",
        "        found = \"\"\n",
        "    return found\n",
        "\n",
        "udf_classify = udf(classify, StringType())\n",
        "classification_df = classification_df.withColumn(\"openai_sport_classification\", udf_classify(classification_df.classification))"
      ],
      "outputs": [
        {
          "output_type": "display_data",
          "data": {
            "application/vnd.livy.statement-meta+json": {
              "spark_pool": "DataDiscovery",
              "session_id": "13",
              "statement_id": 16,
              "state": "finished",
              "livy_statement_state": "available",
              "queued_time": "2023-02-16T12:11:18.2589048Z",
              "session_start_time": null,
              "execution_start_time": "2023-02-16T12:11:18.3941719Z",
              "execution_finish_time": "2023-02-16T12:11:18.54429Z",
              "spark_jobs": null,
              "parent_msg_id": "f5d308ce-25f1-4a81-8bfa-ecd50ce75982"
            },
            "text/plain": "StatementMeta(DataDiscovery, 13, 16, Finished, Available)"
          },
          "metadata": {}
        }
      ],
      "execution_count": 43,
      "metadata": {
        "jupyter": {
          "source_hidden": false,
          "outputs_hidden": false
        },
        "nteract": {
          "transient": {
            "deleting": false
          }
        }
      }
    },
    {
      "cell_type": "code",
      "source": [
        "display(classification_df)"
      ],
      "outputs": [
        {
          "output_type": "display_data",
          "data": {
            "application/vnd.livy.statement-meta+json": {
              "spark_pool": "DataDiscovery",
              "session_id": "13",
              "statement_id": 17,
              "state": "finished",
              "livy_statement_state": "available",
              "queued_time": "2023-02-16T12:11:31.0639991Z",
              "session_start_time": null,
              "execution_start_time": "2023-02-16T12:11:31.196732Z",
              "execution_finish_time": "2023-02-16T12:18:41.9583351Z",
              "spark_jobs": null,
              "parent_msg_id": "86d769af-744a-4d26-a562-85e66e0cb8e5"
            },
            "text/plain": "StatementMeta(DataDiscovery, 13, 17, Finished, Available)"
          },
          "metadata": {}
        },
        {
          "output_type": "display_data",
          "data": {
            "application/vnd.synapse.widget-view+json": {
              "widget_id": "a82032d3-25fa-47ae-a1e7-3f44aa738a7a",
              "widget_type": "Synapse.DataFrame"
            },
            "text/plain": "SynapseWidget(Synapse.DataFrame, a82032d3-25fa-47ae-a1e7-3f44aa738a7a)"
          },
          "metadata": {}
        }
      ],
      "execution_count": 44,
      "metadata": {
        "jupyter": {
          "source_hidden": false,
          "outputs_hidden": false
        },
        "nteract": {
          "transient": {
            "deleting": false
          }
        },
        "collapsed": false
      }
    },
    {
      "cell_type": "code",
      "source": [
        "y_true = classification_df.select(\"actual_sport_classification\").rdd.flatMap(lambda x: x).collect()\n",
        "y_pred = classification_df.select(\"openai_sport_classification\").rdd.flatMap(lambda x: x).collect()"
      ],
      "outputs": [
        {
          "output_type": "display_data",
          "data": {
            "application/vnd.livy.statement-meta+json": {
              "spark_pool": "DataDiscovery",
              "session_id": "13",
              "statement_id": 18,
              "state": "finished",
              "livy_statement_state": "available",
              "queued_time": "2023-02-16T12:19:32.5590766Z",
              "session_start_time": null,
              "execution_start_time": "2023-02-16T12:19:32.6895061Z",
              "execution_finish_time": "2023-02-16T12:33:50.639613Z",
              "spark_jobs": null,
              "parent_msg_id": "7797c3b0-1f34-445a-8d7c-2999e90f8774"
            },
            "text/plain": "StatementMeta(DataDiscovery, 13, 18, Finished, Available)"
          },
          "metadata": {}
        }
      ],
      "execution_count": 45,
      "metadata": {
        "jupyter": {
          "source_hidden": false,
          "outputs_hidden": false
        },
        "nteract": {
          "transient": {
            "deleting": false
          }
        }
      }
    },
    {
      "cell_type": "markdown",
      "source": [
        "# Let's evaluate"
      ],
      "metadata": {
        "nteract": {
          "transient": {
            "deleting": false
          }
        }
      }
    },
    {
      "cell_type": "code",
      "source": [
        "from sklearn.metrics import classification_report, confusion_matrix\n",
        "\n",
        "print(len(y_pred), len(y_true))\n",
        "\n",
        "\n",
        "print(classification_report(y_true, y_pred))"
      ],
      "outputs": [
        {
          "output_type": "display_data",
          "data": {
            "application/vnd.livy.statement-meta+json": {
              "spark_pool": "DataDiscovery",
              "session_id": "13",
              "statement_id": 19,
              "state": "finished",
              "livy_statement_state": "available",
              "queued_time": "2023-02-16T12:19:44.2616447Z",
              "session_start_time": null,
              "execution_start_time": "2023-02-16T12:33:50.8280402Z",
              "execution_finish_time": "2023-02-16T12:33:51.9190542Z",
              "spark_jobs": null,
              "parent_msg_id": "08b664b7-172b-4175-b160-8a182c7a1290"
            },
            "text/plain": "StatementMeta(DataDiscovery, 13, 19, Finished, Available)"
          },
          "metadata": {}
        },
        {
          "output_type": "stream",
          "name": "stdout",
          "text": [
            "737 737\n              precision    recall  f1-score   support\n\n                   0.00      0.00      0.00         0\n  atheletics       0.99      0.84      0.91       101\n     cricket       1.00      0.87      0.93       124\n    football       0.78      0.99      0.88       265\n       rugby       0.99      0.63      0.77       147\n      tennis       1.00      0.98      0.99       100\n\n    accuracy                           0.88       737\n   macro avg       0.79      0.72      0.75       737\nweighted avg       0.92      0.88      0.88       737\n\n"
          ]
        }
      ],
      "execution_count": 46,
      "metadata": {
        "jupyter": {
          "source_hidden": false,
          "outputs_hidden": false
        },
        "nteract": {
          "transient": {
            "deleting": false
          }
        }
      }
    }
  ],
  "metadata": {
    "kernelspec": {
      "name": "synapse_pyspark",
      "language": "Python",
      "display_name": "Synapse PySpark"
    },
    "language_info": {
      "name": "python"
    },
    "kernel_info": {
      "name": "synapse_pyspark"
    },
    "description": null,
    "save_output": true,
    "synapse_widget": {
      "version": "0.1",
      "state": {
        "a82032d3-25fa-47ae-a1e7-3f44aa738a7a": {
          "type": "Synapse.DataFrame",
          "sync_state": {
            "table": {
              "rows": [
                {
                  "0": {
                    "model": "text-davinci-002",
                    "choices": [
                      {
                        "text": " of the striker who quit the club in 1997 for kung-fu-kicking a fan.\"\"\n\nFootball",
                        "index": 0,
                        "finish_reason": "stop"
                      }
                    ],
                    "object": "text_completion",
                    "id": "cmpl-6kXOmMKY82DF4g5wIqxPhzs9NR8uo",
                    "created": "1676549492"
                  },
                  "2": "football054.txt",
                  "3": " of the striker who quit the club in 1997 for kung-fu-kicking a fan.\"\"\n\nFootball",
                  "4": "football",
                  "5": "football"
                },
                {
                  "0": {
                    "model": "text-davinci-002",
                    "choices": [
                      {
                        "text": "\n\nFootball",
                        "index": 0,
                        "finish_reason": "stop"
                      }
                    ],
                    "object": "text_completion",
                    "id": "cmpl-6kXOmQ4GxPmYg5hUBTHCYU6TFl8cx",
                    "created": "1676549492"
                  },
                  "2": "football040.txt",
                  "3": "\n\nFootball",
                  "4": "football",
                  "5": "football"
                },
                {
                  "0": {
                    "model": "text-davinci-002",
                    "choices": [
                      {
                        "text": " in an Under-21 game against holland.\n\nFootball",
                        "index": 0,
                        "finish_reason": "stop"
                      }
                    ],
                    "object": "text_completion",
                    "id": "cmpl-6kXOoVnpMbKo0cEQcYV6md2Wd2VXn",
                    "created": "1676549494"
                  },
                  "2": "football068.txt",
                  "3": " in an Under-21 game against holland.\n\nFootball",
                  "4": "football",
                  "5": "football"
                },
                {
                  "0": {
                    "model": "text-davinci-002",
                    "choices": [
                      {
                        "text": " and £4m for reid turned down by Forest\"\n\nFootball",
                        "index": 0,
                        "finish_reason": "stop"
                      }
                    ],
                    "object": "text_completion",
                    "id": "cmpl-6kXOp9o8q4QCq6XhtN1763WVJD2fT",
                    "created": "1676549495"
                  },
                  "2": "football097.txt",
                  "3": " and £4m for reid turned down by Forest\"\n\nFootball",
                  "4": "football",
                  "5": "football"
                },
                {
                  "0": {
                    "model": "text-davinci-002",
                    "choices": [
                      {
                        "text": " - once you have won something, it is for life.\"\"\n\nFootball",
                        "index": 0,
                        "finish_reason": "stop"
                      }
                    ],
                    "object": "text_completion",
                    "id": "cmpl-6kXOpDT5aZIMyMMmDFeLiiiylvT1v",
                    "created": "1676549495"
                  },
                  "2": "football083.txt",
                  "3": " - once you have won something, it is for life.\"\"\n\nFootball",
                  "4": "football",
                  "5": "football"
                },
                {
                  "0": {
                    "model": "text-davinci-002",
                    "choices": [
                      {
                        "text": ", with denis obua telling the media that he will not step down as president and that the government has no right to suspend the uganda fa.\"\n\nFootball",
                        "index": 0,
                        "finish_reason": "stop"
                      }
                    ],
                    "object": "text_completion",
                    "id": "cmpl-6kXOpCDm9XUA6RSUCjmruu8XfWVjm",
                    "created": "1676549495"
                  },
                  "2": "football256.txt",
                  "3": ", with denis obua telling the media that he will not step down as president and that the government has no right to suspend the uganda fa.\"\n\nFootball",
                  "4": "football",
                  "5": "football"
                },
                {
                  "0": {
                    "model": "text-davinci-002",
                    "choices": [
                      {
                        "text": " and i hope to god that we can cause a little bit of an uproar and get him back ... im sorry to say, but you will see in two or three years time, if he doesnt die on the road somewhere, that hes cured,\"\"\"}\n\nFootball",
                        "index": 0,
                        "finish_reason": "stop"
                      }
                    ],
                    "object": "text_completion",
                    "id": "cmpl-6kXOqPl5m6u7lzJG2vwLcDDnhNesJ",
                    "created": "1676549496"
                  },
                  "2": "football242.txt",
                  "3": " and i hope to god that we can cause a little bit of an uproar and get him back ... im sorry to say, but you will see in two or three years time, if he doesnt die on the road somewhere, that hes cured,\"\"\"}\n\nFootball",
                  "4": "football",
                  "5": "football"
                },
                {
                  "0": {
                    "model": "text-davinci-002",
                    "choices": [
                      {
                        "text": " to both kent cricket and england cricket, denness told the BBC.\"\n\nCricket",
                        "index": 0,
                        "finish_reason": "stop"
                      }
                    ],
                    "object": "text_completion",
                    "id": "cmpl-6kXOrKWcIFYMGy4tNqxtRuqKtofkX",
                    "created": "1676549497"
                  },
                  "2": "cricket030.txt",
                  "3": " to both kent cricket and england cricket, denness told the BBC.\"\n\nCricket",
                  "4": "cricket",
                  "5": "cricket"
                },
                {
                  "0": {
                    "model": "text-davinci-002",
                    "choices": [
                      {
                        "text": ",\"\" ganguly told espnstar.com. ganguly has batted at number three in two test victories over Australia but has been dropped down to sixth in the one-day team to accommodate virender sehwag.\"\n\nCricket",
                        "index": 0,
                        "finish_reason": "stop"
                      }
                    ],
                    "object": "text_completion",
                    "id": "cmpl-6kXOrywisOoqIHe9r4HExgyBsiIqJ",
                    "created": "1676549497"
                  },
                  "2": "cricket024.txt",
                  "3": ",\"\" ganguly told espnstar.com. ganguly has batted at number three in two test victories over Australia but has been dropped down to sixth in the one-day team to accommodate virender sehwag.\"\n\nCricket",
                  "4": "cricket",
                  "5": "cricket"
                },
                {
                  "0": {
                    "model": "text-davinci-002",
                    "choices": [
                      {
                        "text": " but happy with the manner in which i batted.\n\nCricket",
                        "index": 0,
                        "finish_reason": "stop"
                      }
                    ],
                    "object": "text_completion",
                    "id": "cmpl-6kXOsCi7MrmUDRnGdT9WWsvx7ZMx9",
                    "created": "1676549498"
                  },
                  "2": "cricket018.txt",
                  "3": " but happy with the manner in which i batted.\n\nCricket",
                  "4": "cricket",
                  "5": "cricket"
                },
                {
                  "0": {
                    "model": "text-davinci-002",
                    "choices": [
                      {
                        "text": "\n\nFootball",
                        "index": 0,
                        "finish_reason": "stop"
                      }
                    ],
                    "object": "text_completion",
                    "id": "cmpl-6kXOsItLQRkXp8bvRq9o96yGBoRAe",
                    "created": "1676549498"
                  },
                  "2": "football120.txt",
                  "3": "\n\nFootball",
                  "4": "football",
                  "5": "football"
                },
                {
                  "0": {
                    "model": "text-davinci-002",
                    "choices": [
                      {
                        "text": "\n\nRugby",
                        "index": 0,
                        "finish_reason": "stop"
                      }
                    ],
                    "object": "text_completion",
                    "id": "cmpl-6kXOt4g1whRHpajuJXNPu3kDpkCXh",
                    "created": "1676549499"
                  },
                  "2": "rugby029.txt",
                  "3": "\n\nRugby",
                  "4": "rugby",
                  "5": "rugby"
                },
                {
                  "0": {
                    "model": "text-davinci-002",
                    "choices": [
                      {
                        "text": ", i've spoke to him (benitez) a few times and given him good advice whenever he's asked me.  houllier added: \"i'm very pleased with what he's doing. he's a very good coach.\n\nFootball",
                        "index": 0,
                        "finish_reason": "stop"
                      }
                    ],
                    "object": "text_completion",
                    "id": "cmpl-6kXOtZ90z0RBZ8rAG65sCpF6rDOuq",
                    "created": "1676549499"
                  },
                  "2": "football134.txt",
                  "3": ", i've spoke to him (benitez) a few times and given him good advice whenever he's asked me.  houllier added: \"i'm very pleased with what he's doing. he's a very good coach.\n\nFootball",
                  "4": "football",
                  "5": "football"
                },
                {
                  "0": {
                    "model": "text-davinci-002",
                    "choices": [
                      {
                        "text": ", the international rugby board has thrown out an appeal by the irish rugby union against a decision to award a penalty try to england in the final minutes of the irland v england game\"\n\nRugby",
                        "index": 0,
                        "finish_reason": "stop"
                      }
                    ],
                    "object": "text_completion",
                    "id": "cmpl-6kXOu0QLX9oSbuzzw3vdDqrKqNI8v",
                    "created": "1676549500"
                  },
                  "2": "rugby015.txt",
                  "3": ", the international rugby board has thrown out an appeal by the irish rugby union against a decision to award a penalty try to england in the final minutes of the irland v england game\"\n\nRugby",
                  "4": "rugby",
                  "5": "rugby"
                },
                {
                  "0": {
                    "model": "text-davinci-002",
                    "choices": [
                      {
                        "text": " morning.\"\"\n\nFootball",
                        "index": 0,
                        "finish_reason": "stop"
                      }
                    ],
                    "object": "text_completion",
                    "id": "cmpl-6kXOvexcruJgEenOKid6ijSybpW0j",
                    "created": "1676549501"
                  },
                  "2": "football108.txt",
                  "3": " morning.\"\"\n\nFootball",
                  "4": "football",
                  "5": "football"
                },
                {
                  "0": {
                    "model": "text-davinci-002",
                    "choices": [
                      {
                        "text": ",\" he said.\n\nFootball",
                        "index": 0,
                        "finish_reason": "stop"
                      }
                    ],
                    "object": "text_completion",
                    "id": "cmpl-6kXOvPoYpDjsJF5tQwT9SUYjrEIEj",
                    "created": "1676549501"
                  },
                  "2": "rugby001.txt",
                  "3": ",\" he said.\n\nFootball",
                  "4": "rugby",
                  "5": "football"
                },
                {
                  "0": {
                    "model": "text-davinci-002",
                    "choices": [
                      {
                        "text": " that if i can get it right on the day theres no reason why i cant come away with a win in madrid.  im feeling very confident,\"\" mcilroy told uksport\"\"\n\nAthletics",
                        "index": 0,
                        "finish_reason": "stop"
                      }
                    ],
                    "object": "text_completion",
                    "id": "cmpl-6kXOvtgBen3916dydlPn9bUyhYmSH",
                    "created": "1676549501"
                  },
                  "2": "atheletics014.txt",
                  "3": " that if i can get it right on the day theres no reason why i cant come away with a win in madrid.  im feeling very confident,\"\" mcilroy told uksport\"\"\n\nAthletics",
                  "4": "atheletics",
                  "5": "atheletics"
                },
                {
                  "0": {
                    "model": "text-davinci-002",
                    "choices": [
                      {
                        "text": " and it will be a test but if i play like i did at Hyderabad and keep my standard up then i think i can put her in trouble,\"\"  said mirza.\n\nTennis",
                        "index": 0,
                        "finish_reason": "stop"
                      }
                    ],
                    "object": "text_completion",
                    "id": "cmpl-6kXOwOXLXhBnfatK6YXKQPg0ovGPJ",
                    "created": "1676549502"
                  },
                  "2": "tennis019.txt",
                  "3": " and it will be a test but if i play like i did at Hyderabad and keep my standard up then i think i can put her in trouble,\"\"  said mirza.\n\nTennis",
                  "4": "tennis",
                  "5": "tennis"
                },
                {
                  "0": {
                    "model": "text-davinci-002",
                    "choices": [
                      {
                        "text": " and also the children in madrid.\"\"Tennis",
                        "index": 0,
                        "finish_reason": "stop"
                      }
                    ],
                    "object": "text_completion",
                    "id": "cmpl-6kXOxj4h4dGC0fsGhpvEIieDyuOzX",
                    "created": "1676549503"
                  },
                  "2": "tennis031.txt",
                  "3": " and also the children in madrid.\"\"Tennis",
                  "4": "tennis",
                  "5": "tennis"
                },
                {
                  "0": {
                    "model": "text-davinci-002",
                    "choices": [
                      {
                        "text": ", marlon devonish and marcus laurenson set a world record of 37.73 seconds.\"\n\nAthletics",
                        "index": 0,
                        "finish_reason": "stop"
                      }
                    ],
                    "object": "text_completion",
                    "id": "cmpl-6kXOxkvBvzh5AT3EasLHxJCIdi6Rx",
                    "created": "1676549503"
                  },
                  "2": "atheletics028.txt",
                  "3": ", marlon devonish and marcus laurenson set a world record of 37.73 seconds.\"\n\nAthletics",
                  "4": "atheletics",
                  "5": "atheletics"
                },
                {
                  "0": {
                    "model": "text-davinci-002",
                    "choices": [
                      {
                        "text": " that its tough.\n\nTennis",
                        "index": 0,
                        "finish_reason": "stop"
                      }
                    ],
                    "object": "text_completion",
                    "id": "cmpl-6kXOxbtlVfX9mfrmelM3kKuWiCuLs",
                    "created": "1676549503"
                  },
                  "2": "tennis025.txt",
                  "3": " that its tough.\n\nTennis",
                  "4": "tennis",
                  "5": "tennis"
                },
                {
                  "0": {
                    "model": "text-davinci-002",
                    "choices": [
                      {
                        "text": ",\" said the 24-year-old russian, who set the world indoor record of 4.83m in birmingham in february 2004.\n\nAthletics",
                        "index": 0,
                        "finish_reason": "stop"
                      }
                    ],
                    "object": "text_completion",
                    "id": "cmpl-6kXOy0vUmQveFkGP79Hvl1OkxYyLH",
                    "created": "1676549504"
                  },
                  "2": "atheletics029.txt",
                  "3": ",\" said the 24-year-old russian, who set the world indoor record of 4.83m in birmingham in february 2004.\n\nAthletics",
                  "4": "atheletics",
                  "5": "atheletics"
                },
                {
                  "0": {
                    "model": "text-davinci-002",
                    "choices": [
                      {
                        "text": " than him but he was getting so many balls back off the line,\"\" a surprised hewitt said.\n\nTennis",
                        "index": 0,
                        "finish_reason": "stop"
                      }
                    ],
                    "object": "text_completion",
                    "id": "cmpl-6kXOyjVFMzB9ehqh4aooY48uc1Bqd",
                    "created": "1676549504"
                  },
                  "2": "tennis024.txt",
                  "3": " than him but he was getting so many balls back off the line,\"\" a surprised hewitt said.\n\nTennis",
                  "4": "tennis",
                  "5": "tennis"
                },
                {
                  "0": {
                    "model": "text-davinci-002",
                    "choices": [
                      {
                        "text": " in tennis are so big and that was an example,\"\" hewitt said.\"\"\n\nTennis",
                        "index": 0,
                        "finish_reason": "stop"
                      }
                    ],
                    "object": "text_completion",
                    "id": "cmpl-6kXOz9J5u7wJygMBkzc5claj8aDwZ",
                    "created": "1676549505"
                  },
                  "2": "tennis030.txt",
                  "3": " in tennis are so big and that was an example,\"\" hewitt said.\"\"\n\nTennis",
                  "4": "tennis",
                  "5": "tennis"
                },
                {
                  "0": {
                    "model": "text-davinci-002",
                    "choices": [
                      {
                        "text": "'s deal is similar in value to the one uk athletics had with puma, who have supplied their kit for the last four years.\n\nFootbal",
                        "index": 0,
                        "finish_reason": "stop"
                      }
                    ],
                    "object": "text_completion",
                    "id": "cmpl-6kXOzpRI4NsuLkdW7rMYOYsJRQD1T",
                    "created": "1676549505"
                  },
                  "2": "atheletics015.txt",
                  "3": "'s deal is similar in value to the one uk athletics had with puma, who have supplied their kit for the last four years.\n\nFootbal",
                  "4": "atheletics",
                  "5": "atheletics"
                },
                {
                  "0": {
                    "model": "text-davinci-002",
                    "choices": [
                      {
                        "text": " said we bring in less money, but that is not exactly true because it is the same amount of matches and the same amount of time we are on centre court.\"\n\nTennis",
                        "index": 0,
                        "finish_reason": "stop"
                      }
                    ],
                    "object": "text_completion",
                    "id": "cmpl-6kXP0Va2srZWOxLe1Mh0m8KCGbTrs",
                    "created": "1676549506"
                  },
                  "2": "tennis018.txt",
                  "3": " said we bring in less money, but that is not exactly true because it is the same amount of matches and the same amount of time we are on centre court.\"\n\nTennis",
                  "4": "tennis",
                  "5": "tennis"
                },
                {
                  "0": {
                    "model": "text-davinci-002",
                    "choices": [
                      {
                        "text": " i can go there and do something,\" said claxton, who is a part of britain s 12-strong team for the championships, which take place from 7-9 march.\"\n\nathletics",
                        "index": 0,
                        "finish_reason": "stop"
                      }
                    ],
                    "object": "text_completion",
                    "id": "cmpl-6kXP1LAskS322lnNYRo5JhYk0EFdV",
                    "created": "1676549507"
                  },
                  "2": "atheletics001.txt",
                  "3": " i can go there and do something,\" said claxton, who is a part of britain s 12-strong team for the championships, which take place from 7-9 march.\"\n\nathletics",
                  "4": "atheletics",
                  "5": "atheletics"
                },
                {
                  "0": {
                    "model": "text-davinci-002",
                    "choices": [
                      {
                        "text": ".  \"\"afterwards, he will have a brief\n\nFootball",
                        "index": 0,
                        "finish_reason": "stop"
                      }
                    ],
                    "object": "text_completion",
                    "id": "cmpl-6kXP1EBLzpirReGb1A7IyZegJgXd6",
                    "created": "1676549507"
                  },
                  "2": "football109.txt",
                  "3": ".  \"\"afterwards, he will have a brief\n\nFootball",
                  "4": "football",
                  "5": "football"
                },
                {
                  "0": {
                    "model": "text-davinci-002",
                    "choices": [
                      {
                        "text": " during that time and there was no offer of a good contract at first,\"\" davies said.\"\"\n\nFootball",
                        "index": 0,
                        "finish_reason": "stop"
                      }
                    ],
                    "object": "text_completion",
                    "id": "cmpl-6kXP2L7PgqPu1AK3mY3KlZIGznwJw",
                    "created": "1676549508"
                  },
                  "2": "rugby014.txt",
                  "3": " during that time and there was no offer of a good contract at first,\"\" davies said.\"\"\n\nFootball",
                  "4": "rugby",
                  "5": "football"
                },
                {
                  "0": {
                    "model": "text-davinci-002",
                    "choices": [
                      {
                        "text": " and scoring lots of goals - that is the key.  if you look at the top four sides they score lots of goals.  we have to keep that going.\"\"\n\nFootball",
                        "index": 0,
                        "finish_reason": "stop"
                      }
                    ],
                    "object": "text_completion",
                    "id": "cmpl-6kXP2zF3jasHEygclNWtniTYyaNLY",
                    "created": "1676549508"
                  },
                  "2": "football135.txt",
                  "3": " and scoring lots of goals - that is the key.  if you look at the top four sides they score lots of goals.  we have to keep that going.\"\"\n\nFootball",
                  "4": "football",
                  "5": "football"
                },
                {
                  "0": {
                    "model": "text-davinci-002",
                    "choices": [
                      {
                        "text": "\n\nFootball",
                        "index": 0,
                        "finish_reason": "stop"
                      }
                    ],
                    "object": "text_completion",
                    "id": "cmpl-6kXP3IXRuTWrhj0v3fopZxnUznZj9",
                    "created": "1676549509"
                  },
                  "2": "rugby028.txt",
                  "3": "\n\nFootball",
                  "4": "rugby",
                  "5": "football"
                },
                {
                  "0": {
                    "model": "text-davinci-002",
                    "choices": [
                      {
                        "text": " insists that winning is not a priority: \"\"this game is a preparation for the 2010 fifa world cup qualifiers and not about winning.\"\"\n\nFootball",
                        "index": 0,
                        "finish_reason": "stop"
                      }
                    ],
                    "object": "text_completion",
                    "id": "cmpl-6kXP3zsEmPyCQoQRFCCa09QrhQ2RD",
                    "created": "1676549509"
                  },
                  "2": "football121.txt",
                  "3": " insists that winning is not a priority: \"\"this game is a preparation for the 2010 fifa world cup qualifiers and not about winning.\"\"\n\nFootball",
                  "4": "football",
                  "5": "football"
                },
                {
                  "0": {
                    "model": "text-davinci-002",
                    "choices": [
                      {
                        "text": " right now, but we are looking forward to the test. this will be a good gauge to see where we are at. australia have great players right across the board and we have to be at our best to beat them,\" wilson said.\"\n\nCricket",
                        "index": 0,
                        "finish_reason": "stop"
                      }
                    ],
                    "object": "text_completion",
                    "id": "cmpl-6kXP4GDUMZsGxRSH6F8118qZnASlu",
                    "created": "1676549510"
                  },
                  "2": "cricket019.txt",
                  "3": " right now, but we are looking forward to the test. this will be a good gauge to see where we are at. australia have great players right across the board and we have to be at our best to beat them,\" wilson said.\"\n\nCricket",
                  "4": "cricket",
                  "5": "cricket"
                },
                {
                  "0": {
                    "model": "text-davinci-002",
                    "choices": [
                      {
                        "text": ", harbhajan missed the rest of indias tour.\"\n\nCricket",
                        "index": 0,
                        "finish_reason": "stop"
                      }
                    ],
                    "object": "text_completion",
                    "id": "cmpl-6kXP5sAT9ItXW2xLk5jLY9H2Q9oX2",
                    "created": "1676549511"
                  },
                  "2": "cricket025.txt",
                  "3": ", harbhajan missed the rest of indias tour.\"\n\nCricket",
                  "4": "cricket",
                  "5": "cricket"
                },
                {
                  "0": {
                    "model": "text-davinci-002",
                    "choices": [
                      {
                        "text": "\nFootball",
                        "index": 0,
                        "finish_reason": "stop"
                      }
                    ],
                    "object": "text_completion",
                    "id": "cmpl-6kXP5f2wtRjyenPttze1fDhfjU2xD",
                    "created": "1676549511"
                  },
                  "2": "cricket031.txt",
                  "3": "\nFootball",
                  "4": "cricket",
                  "5": "football"
                },
                {
                  "0": {
                    "model": "text-davinci-002",
                    "choices": [
                      {
                        "text": ",\" mourinho told post match conference.\"\n\nFootball",
                        "index": 0,
                        "finish_reason": "stop"
                      }
                    ],
                    "object": "text_completion",
                    "id": "cmpl-6kXP5mYDlvEg3L5N3O9iCiuJUo5TE",
                    "created": "1676549511"
                  },
                  "2": "football243.txt",
                  "3": ",\" mourinho told post match conference.\"\n\nFootball",
                  "4": "football",
                  "5": "football"
                },
                {
                  "0": {
                    "model": "text-davinci-002",
                    "choices": [
                      {
                        "text": ",\" said kevin moyes, the man utd manager.\n\nFootball",
                        "index": 0,
                        "finish_reason": "stop"
                      }
                    ],
                    "object": "text_completion",
                    "id": "cmpl-6kXP6rlIFuEaYaFFDf8iLKBk58tcQ",
                    "created": "1676549512"
                  },
                  "2": "football257.txt",
                  "3": ",\" said kevin moyes, the man utd manager.\n\nFootball",
                  "4": "football",
                  "5": "football"
                },
                {
                  "0": {
                    "model": "text-davinci-002",
                    "choices": [
                      {
                        "text": " congratulations to him on another landmark,\" he told the clubs website.\n\nFootball",
                        "index": 0,
                        "finish_reason": "stop"
                      }
                    ],
                    "object": "text_completion",
                    "id": "cmpl-6kXP6NDq6Y2QFbYJyYVd5z11YYvba",
                    "created": "1676549512"
                  },
                  "2": "football082.txt",
                  "3": " congratulations to him on another landmark,\" he told the clubs website.\n\nFootball",
                  "4": "football",
                  "5": "football"
                },
                {
                  "0": {
                    "model": "text-davinci-002",
                    "choices": [
                      {
                        "text": "\n\nFootball",
                        "index": 0,
                        "finish_reason": "stop"
                      }
                    ],
                    "object": "text_completion",
                    "id": "cmpl-6kXP7BJ8Xw2jqwlNtBu0tv7fMpAHe",
                    "created": "1676549513"
                  },
                  "2": "football096.txt",
                  "3": "\n\nFootball",
                  "4": "football",
                  "5": "football"
                },
                {
                  "0": {
                    "model": "text-davinci-002",
                    "choices": [
                      {
                        "text": "\n\nFootball",
                        "index": 0,
                        "finish_reason": "stop"
                      }
                    ],
                    "object": "text_completion",
                    "id": "cmpl-6kXP8I5yIne49lxZGxWygLIqJ2Y4J",
                    "created": "1676549514"
                  },
                  "2": "football069.txt",
                  "3": "\n\nFootball",
                  "4": "football",
                  "5": "football"
                },
                {
                  "0": {
                    "model": "text-davinci-002",
                    "choices": [
                      {
                        "text": "\n\nFootball",
                        "index": 0,
                        "finish_reason": "stop"
                      }
                    ],
                    "object": "text_completion",
                    "id": "cmpl-6kXP8EqwbmARl62pHCB6FbcgnG2NE",
                    "created": "1676549514"
                  },
                  "2": "football041.txt",
                  "3": "\n\nFootball",
                  "4": "football",
                  "5": "football"
                },
                {
                  "0": {
                    "model": "text-davinci-002",
                    "choices": [
                      {
                        "text": " and leading the netherlands to the 1974 world cup final, has died.\n\n\n\nFootball",
                        "index": 0,
                        "finish_reason": "stop"
                      }
                    ],
                    "object": "text_completion",
                    "id": "cmpl-6kXP9K1uvJFZZ1rR1EzE3TYTWSqUq",
                    "created": "1676549515"
                  },
                  "2": "football055.txt",
                  "3": " and leading the netherlands to the 1974 world cup final, has died.\n\n\n\nFootball",
                  "4": "football",
                  "5": "football"
                },
                {
                  "0": {
                    "model": "text-davinci-002",
                    "choices": [
                      {
                        "text": " and considers the matter closed,\" an fa spokesman said.\"\n\nFootball",
                        "index": 0,
                        "finish_reason": "stop"
                      }
                    ],
                    "object": "text_completion",
                    "id": "cmpl-6kXP9NiX5YOS26fta613jTh8EvnJG",
                    "created": "1676549515"
                  },
                  "2": "football043.txt",
                  "3": " and considers the matter closed,\" an fa spokesman said.\"\n\nFootball",
                  "4": "football",
                  "5": "football"
                },
                {
                  "0": {
                    "model": "text-davinci-002",
                    "choices": [
                      {
                        "text": ", who had spent the last five matches on the substitutes' bench, restored order for the home side after betis took a shock lead through a goal from former real madrid striker ronaldinho.\n\nFootball",
                        "index": 0,
                        "finish_reason": "stop"
                      }
                    ],
                    "object": "text_completion",
                    "id": "cmpl-6kXP9HxHcV6YSnwi0q49Ly7sOyRD0",
                    "created": "1676549515"
                  },
                  "2": "football057.txt",
                  "3": ", who had spent the last five matches on the substitutes' bench, restored order for the home side after betis took a shock lead through a goal from former real madrid striker ronaldinho.\n\nFootball",
                  "4": "football",
                  "5": "football"
                },
                {
                  "0": {
                    "model": "text-davinci-002",
                    "choices": [
                      {
                        "text": "\n\nFootball",
                        "index": 0,
                        "finish_reason": "stop"
                      }
                    ],
                    "object": "text_completion",
                    "id": "cmpl-6kXPDPLpSGJGZQyh5e5SUJK1VNl3E",
                    "created": "1676549519"
                  },
                  "2": "football080.txt",
                  "3": "\n\nFootball",
                  "4": "football",
                  "5": "football"
                },
                {
                  "0": {
                    "model": "text-davinci-002",
                    "choices": [
                      {
                        "text": ",\"\" said the england man.\n\nFootball",
                        "index": 0,
                        "finish_reason": "stop"
                      }
                    ],
                    "object": "text_completion",
                    "id": "cmpl-6kXPDT6VDaSJMhnxX9avWqxTexPuF",
                    "created": "1676549519"
                  },
                  "2": "football094.txt",
                  "3": ",\"\" said the england man.\n\nFootball",
                  "4": "football",
                  "5": "football"
                },
                {
                  "0": {
                    "model": "text-davinci-002",
                    "choices": [
                      {
                        "text": ", ronaldinho suggested he could be tempted to test himself in the premiership in years to come.\n\nFootball",
                        "index": 0,
                        "finish_reason": "stop"
                      }
                    ],
                    "object": "text_completion",
                    "id": "cmpl-6kXPEdiF2nt24KhKEpfKoHcqZytnM",
                    "created": "1676549520"
                  },
                  "2": "football241.txt",
                  "3": ", ronaldinho suggested he could be tempted to test himself in the premiership in years to come.\n\nFootball",
                  "4": "football",
                  "5": "football"
                },
                {
                  "0": {
                    "model": "text-davinci-002",
                    "choices": [
                      {
                        "text": " and i thought that there was barely anything in it. \"\"but the big turning point was paddy getting injured and having to go off.\"\"\n\nFootball",
                        "index": 0,
                        "finish_reason": "stop"
                      }
                    ],
                    "object": "text_completion",
                    "id": "cmpl-6kXPEX5P935nvdqgBQrZCKdiaRY5d",
                    "created": "1676549520"
                  },
                  "2": "football255.txt",
                  "3": " and i thought that there was barely anything in it. \"\"but the big turning point was paddy getting injured and having to go off.\"\"\n\nFootball",
                  "4": "football",
                  "5": "football"
                },
                {
                  "0": {
                    "model": "text-davinci-002",
                    "choices": [
                      {
                        "text": "\n\nCricket",
                        "index": 0,
                        "finish_reason": "stop"
                      }
                    ],
                    "object": "text_completion",
                    "id": "cmpl-6kXPGR6wOn1VCWQplFIZpdV5FFnRc",
                    "created": "1676549522"
                  },
                  "2": "cricket027.txt",
                  "3": "\n\nCricket",
                  "4": "cricket",
                  "5": "cricket"
                },
                {
                  "0": {
                    "model": "text-davinci-002",
                    "choices": [
                      {
                        "text": ", he was banned from bowling the doosra in test matches.\n\ncricket",
                        "index": 0,
                        "finish_reason": "stop"
                      }
                    ],
                    "object": "text_completion",
                    "id": "cmpl-6kXPGvmtmjaqxQJxH9iCKjCEm5v3a",
                    "created": "1676549522"
                  },
                  "2": "cricket033.txt",
                  "3": ", he was banned from bowling the doosra in test matches.\n\ncricket",
                  "4": "cricket",
                  "5": "cricket"
                },
                {
                  "0": {
                    "model": "text-davinci-002",
                    "choices": [
                      {
                        "text": " half,\"\" he said.\n\nFootball",
                        "index": 0,
                        "finish_reason": "stop"
                      }
                    ],
                    "object": "text_completion",
                    "id": "cmpl-6kXPHaJg0jRRXo2WYLxHP6P8pygty",
                    "created": "1676549523"
                  },
                  "2": "football137.txt",
                  "3": " half,\"\" he said.\n\nFootball",
                  "4": "football",
                  "5": "football"
                },
                {
                  "0": {
                    "model": "text-davinci-002",
                    "choices": [
                      {
                        "text": " as croatia,\"\" kerr said.\"\n\nFootball",
                        "index": 0,
                        "finish_reason": "stop"
                      }
                    ],
                    "object": "text_completion",
                    "id": "cmpl-6kXPH6epRSXd9KOQk6z8WkrnvAxkO",
                    "created": "1676549523"
                  },
                  "2": "football123.txt",
                  "3": " as croatia,\"\" kerr said.\"\n\nFootball",
                  "4": "football",
                  "5": "football"
                },
                {
                  "0": {
                    "model": "text-davinci-002",
                    "choices": [
                      {
                        "text": ", then probably will start with duncan at twickenham on saturday.\n\nRugby",
                        "index": 0,
                        "finish_reason": "stop"
                      }
                    ],
                    "object": "text_completion",
                    "id": "cmpl-6kXPHWlqiwebve4etY2ZV1fzjssDn",
                    "created": "1676549523"
                  },
                  "2": "rugby002.txt",
                  "3": ", then probably will start with duncan at twickenham on saturday.\n\nRugby",
                  "4": "rugby",
                  "5": "rugby"
                },
                {
                  "0": {
                    "model": "text-davinci-002",
                    "choices": [
                      {
                        "text": ".\"\"\n\nfootball",
                        "index": 0,
                        "finish_reason": "stop"
                      }
                    ],
                    "object": "text_completion",
                    "id": "cmpl-6kXPIjx5qBtaBTSSeMzZjsxahfiNu",
                    "created": "1676549524"
                  },
                  "2": "rugby016.txt",
                  "3": ".\"\"\n\nfootball",
                  "4": "rugby",
                  "5": "football"
                },
                {
                  "0": {
                    "model": "text-davinci-002",
                    "choices": [
                      {
                        "text": "\"\n\nathletics",
                        "index": 0,
                        "finish_reason": "stop"
                      }
                    ],
                    "object": "text_completion",
                    "id": "cmpl-6kXPItQjSfDhMz5IL2j547l3T3f2L",
                    "created": "1676549524"
                  },
                  "2": "atheletics017.txt",
                  "3": "\"\n\nathletics",
                  "4": "atheletics",
                  "5": "atheletics"
                },
                {
                  "0": {
                    "model": "text-davinci-002",
                    "choices": [
                      {
                        "text": " wrong.\n\nFootball",
                        "index": 0,
                        "finish_reason": "stop"
                      }
                    ],
                    "object": "text_completion",
                    "id": "cmpl-6kXPI5KOGjIqEj7bGvmoytzQX4mmO",
                    "created": "1676549524"
                  },
                  "2": "atheletics003.txt",
                  "3": " wrong.\n\nFootball",
                  "4": "atheletics",
                  "5": "football"
                },
                {
                  "0": {
                    "model": "text-davinci-002",
                    "choices": [
                      {
                        "text": ",”\"\n\nTennis",
                        "index": 0,
                        "finish_reason": "stop"
                      }
                    ],
                    "object": "text_completion",
                    "id": "cmpl-6kXPI7NVK0QEWH6MqwDVOVG5Nluob",
                    "created": "1676549524"
                  },
                  "2": "tennis026.txt",
                  "3": ",”\"\n\nTennis",
                  "4": "tennis",
                  "5": "tennis"
                },
                {
                  "0": {
                    "model": "text-davinci-002",
                    "choices": [
                      {
                        "text": ",\"\" he said.\n\nTennis",
                        "index": 0,
                        "finish_reason": "stop"
                      }
                    ],
                    "object": "text_completion",
                    "id": "cmpl-6kXPJn3oWtZ6EshiZqSQU5pf1kwtc",
                    "created": "1676549525"
                  },
                  "2": "tennis032.txt",
                  "3": ",\"\" he said.\n\nTennis",
                  "4": "tennis",
                  "5": "tennis"
                },
                {
                  "0": {
                    "model": "text-davinci-002",
                    "choices": [
                      {
                        "text": ". hes a big guy, hits the ball extremistly flat. he gets to 15-40, 40-15, 30-0 really quick,\" he said.\"\n\nTennis",
                        "index": 0,
                        "finish_reason": "stop"
                      }
                    ],
                    "object": "text_completion",
                    "id": "cmpl-6kXPJ3v1BpL7qAq26VZWqMHpfPXZl",
                    "created": "1676549525"
                  },
                  "2": "tennis033.txt",
                  "3": ". hes a big guy, hits the ball extremistly flat. he gets to 15-40, 40-15, 30-0 really quick,\" he said.\"\n\nTennis",
                  "4": "tennis",
                  "5": "tennis"
                },
                {
                  "0": {
                    "model": "text-davinci-002",
                    "choices": [
                      {
                        "text": ",\"\" mirza said after her second-round win.\"\n\nTennis",
                        "index": 0,
                        "finish_reason": "stop"
                      }
                    ],
                    "object": "text_completion",
                    "id": "cmpl-6kXPKcp3w4bAJuFTOQEo4vzAFIFJ4",
                    "created": "1676549526"
                  },
                  "2": "tennis027.txt",
                  "3": ",\"\" mirza said after her second-round win.\"\n\nTennis",
                  "4": "tennis",
                  "5": "tennis"
                },
                {
                  "0": {
                    "model": "text-davinci-002",
                    "choices": [
                      {
                        "text": "\n\nAthletics",
                        "index": 0,
                        "finish_reason": "stop"
                      }
                    ],
                    "object": "text_completion",
                    "id": "cmpl-6kXPKfcTIJt3BWv2dyJn0bmgrE5Jl",
                    "created": "1676549526"
                  },
                  "2": "atheletics002.txt",
                  "3": "\n\nAthletics",
                  "4": "atheletics",
                  "5": "atheletics"
                },
                {
                  "0": {
                    "model": "text-davinci-002",
                    "choices": [
                      {
                        "text": ",\"\" a greek athletics federation spokesman said.\"\n\nAthletics",
                        "index": 0,
                        "finish_reason": "stop"
                      }
                    ],
                    "object": "text_completion",
                    "id": "cmpl-6kXPKjA03gGthFxRQI9YqxwdwUaSP",
                    "created": "1676549526"
                  },
                  "2": "atheletics016.txt",
                  "3": ",\"\" a greek athletics federation spokesman said.\"\n\nAthletics",
                  "4": "atheletics",
                  "5": "atheletics"
                },
                {
                  "0": {
                    "model": "text-davinci-002",
                    "choices": [
                      {
                        "text": "\n\nRugby",
                        "index": 0,
                        "finish_reason": "stop"
                      }
                    ],
                    "object": "text_completion",
                    "id": "cmpl-6kXPLRilRe2bSBoqKKFgBVVH2FPnm",
                    "created": "1676549527"
                  },
                  "2": "rugby017.txt",
                  "3": "\n\nRugby",
                  "4": "rugby",
                  "5": "rugby"
                },
                {
                  "0": {
                    "model": "text-davinci-002",
                    "choices": [
                      {
                        "text": ". we played much better in the second but it was a great game and even a great advertisement for the six nations rugby\n\nRugby",
                        "index": 0,
                        "finish_reason": "stop"
                      }
                    ],
                    "object": "text_completion",
                    "id": "cmpl-6kXPLR3U8vHmjkUHlK0pyjJTifTqD",
                    "created": "1676549527"
                  },
                  "2": "rugby003.txt",
                  "3": ". we played much better in the second but it was a great game and even a great advertisement for the six nations rugby\n\nRugby",
                  "4": "rugby",
                  "5": "rugby"
                },
                {
                  "0": {
                    "model": "text-davinci-002",
                    "choices": [
                      {
                        "text": ", the colonial past is forgotten, but london and paris always bring it up. it was a way of defending himself and a way of saying - this has nothing to do with henrys skin.\"\" \n\nFootball",
                        "index": 0,
                        "finish_reason": "stop"
                      }
                    ],
                    "object": "text_completion",
                    "id": "cmpl-6kXPOzE36WoxinKOunCvpZmQ3ADcR",
                    "created": "1676549530"
                  },
                  "2": "football122.txt",
                  "3": ", the colonial past is forgotten, but london and paris always bring it up. it was a way of defending himself and a way of saying - this has nothing to do with henrys skin.\"\" \n\nFootball",
                  "4": "football",
                  "5": "football"
                },
                {
                  "0": {
                    "model": "text-davinci-002",
                    "choices": [
                      {
                        "text": ", but wants assurances over the future direction of the club.\"\n\nFootball",
                        "index": 0,
                        "finish_reason": "stop"
                      }
                    ],
                    "object": "text_completion",
                    "id": "cmpl-6kXPP2oPcVCRL6k2l4DTIE5HuCgUJ",
                    "created": "1676549531"
                  },
                  "2": "football136.txt",
                  "3": ", but wants assurances over the future direction of the club.\"\n\nFootball",
                  "4": "football",
                  "5": "football"
                },
                {
                  "0": {
                    "model": "text-davinci-002",
                    "choices": [
                      {
                        "text": ",\"\" ganguly told the daily times.\"\"\n\nCricket",
                        "index": 0,
                        "finish_reason": "stop"
                      }
                    ],
                    "object": "text_completion",
                    "id": "cmpl-6kXPPP0NsK4zNn8paUWCrOklwyG7G",
                    "created": "1676549531"
                  },
                  "2": "cricket032.txt",
                  "3": ",\"\" ganguly told the daily times.\"\"\n\nCricket",
                  "4": "cricket",
                  "5": "cricket"
                },
                {
                  "0": {
                    "model": "text-davinci-002",
                    "choices": [
                      {
                        "text": ". we feel very secure, although we expected the security to be even tighter,\"Squad captain inzamam-ul-haq said.\"\n\nCricket",
                        "index": 0,
                        "finish_reason": "stop"
                      }
                    ],
                    "object": "text_completion",
                    "id": "cmpl-6kXPPjwkf0WXowRppi0WntdG0MVUZ",
                    "created": "1676549531"
                  },
                  "2": "cricket026.txt",
                  "3": ". we feel very secure, although we expected the security to be even tighter,\"Squad captain inzamam-ul-haq said.\"\n\nCricket",
                  "4": "cricket",
                  "5": "cricket"
                },
                {
                  "0": {
                    "model": "text-davinci-002",
                    "choices": [
                      {
                        "text": " of the Premier League players,\"\n\nFootball",
                        "index": 0,
                        "finish_reason": "stop"
                      }
                    ],
                    "object": "text_completion",
                    "id": "cmpl-6kXPRGCySrRQf0r2dD7jSkHtn5kVw",
                    "created": "1676549533"
                  },
                  "2": "football254.txt",
                  "3": " of the Premier League players,\"\n\nFootball",
                  "4": "football",
                  "5": "football"
                },
                {
                  "0": {
                    "model": "text-davinci-002",
                    "choices": [
                      {
                        "text": " where you can forget all your human rights.\"\"\n\nFootball",
                        "index": 0,
                        "finish_reason": "stop"
                      }
                    ],
                    "object": "text_completion",
                    "id": "cmpl-6kXPSvbcZgjO07TgYGHWcpjWKZZhP",
                    "created": "1676549534"
                  },
                  "2": "football240.txt",
                  "3": " where you can forget all your human rights.\"\"\n\nFootball",
                  "4": "football",
                  "5": "football"
                },
                {
                  "0": {
                    "model": "text-davinci-002",
                    "choices": [
                      {
                        "text": ", who joined blackburn in 2003.\n\nFootball",
                        "index": 0,
                        "finish_reason": "stop"
                      }
                    ],
                    "object": "text_completion",
                    "id": "cmpl-6kXPSIeNgr3XJe5Lp5IsU9R2CiRov",
                    "created": "1676549534"
                  },
                  "2": "football095.txt",
                  "3": ", who joined blackburn in 2003.\n\nFootball",
                  "4": "football",
                  "5": "football"
                },
                {
                  "0": {
                    "model": "text-davinci-002",
                    "choices": [
                      {
                        "text": ",\"\" said manager david moyes, who confirmed that beattie will report for training with the rest of the first team squad when they return from the international break.\"\"\n\nFootball",
                        "index": 0,
                        "finish_reason": "stop"
                      }
                    ],
                    "object": "text_completion",
                    "id": "cmpl-6kXPSc72H9qpINwYK2nYmwVME9bS5",
                    "created": "1676549534"
                  },
                  "2": "football081.txt",
                  "3": ",\"\" said manager david moyes, who confirmed that beattie will report for training with the rest of the first team squad when they return from the international break.\"\"\n\nFootball",
                  "4": "football",
                  "5": "football"
                },
                {
                  "0": {
                    "model": "text-davinci-002",
                    "choices": [
                      {
                        "text": ",\" he said\"\n\nFootball",
                        "index": 0,
                        "finish_reason": "stop"
                      }
                    ],
                    "object": "text_completion",
                    "id": "cmpl-6kXPThxXMbxVLFs3OnWuPWWuojj3P",
                    "created": "1676549535"
                  },
                  "2": "football056.txt",
                  "3": ",\" he said\"\n\nFootball",
                  "4": "football",
                  "5": "football"
                },
                {
                  "0": {
                    "model": "text-davinci-002",
                    "choices": [
                      {
                        "text": " with us today,\"\" the spokesman said. \"\n\nFootball",
                        "index": 0,
                        "finish_reason": "stop"
                      }
                    ],
                    "object": "text_completion",
                    "id": "cmpl-6kXPTqGQE602X6k6P0HU9wkz8LHYz",
                    "created": "1676549535"
                  },
                  "2": "football042.txt",
                  "3": " with us today,\"\" the spokesman said. \"\n\nFootball",
                  "4": "football",
                  "5": "football"
                },
                {
                  "0": {
                    "model": "text-davinci-002",
                    "choices": [
                      {
                        "text": " during the interval.\n\nFootball",
                        "index": 0,
                        "finish_reason": "stop"
                      }
                    ],
                    "object": "text_completion",
                    "id": "cmpl-6kXPTtzZh3XAgAEWCbKeyfDccY742",
                    "created": "1676549535"
                  },
                  "2": "football046.txt",
                  "3": " during the interval.\n\nFootball",
                  "4": "football",
                  "5": "football"
                },
                {
                  "0": {
                    "model": "text-davinci-002",
                    "choices": [
                      {
                        "text": " \n\nFootball",
                        "index": 0,
                        "finish_reason": "stop"
                      }
                    ],
                    "object": "text_completion",
                    "id": "cmpl-6kXPUa7p6F3MsJRZuSgDJnHt83017",
                    "created": "1676549536"
                  },
                  "2": "football052.txt",
                  "3": " \n\nFootball",
                  "4": "football",
                  "5": "football"
                },
                {
                  "0": {
                    "model": "text-davinci-002",
                    "choices": [
                      {
                        "text": ", theres a possibility we could have a couple of all-premier league ties.\"\"\n\nFootball",
                        "index": 0,
                        "finish_reason": "stop"
                      }
                    ],
                    "object": "text_completion",
                    "id": "cmpl-6kXPUnlk7lfumydXzdDH0C0nhlbly",
                    "created": "1676549536"
                  },
                  "2": "football085.txt",
                  "3": ", theres a possibility we could have a couple of all-premier league ties.\"\"\n\nFootball",
                  "4": "football",
                  "5": "football"
                },
                {
                  "0": {
                    "model": "text-davinci-002",
                    "choices": [
                      {
                        "text": " wanderers,\" candela told reporters. \"i hope to have a good time here in england, i hope to play well and to return to italy with bolton.\"\"\n\nFootball",
                        "index": 0,
                        "finish_reason": "stop"
                      }
                    ],
                    "object": "text_completion",
                    "id": "cmpl-6kXPUNv5qgwIcBw7VbbSOFh4531JX",
                    "created": "1676549536"
                  },
                  "2": "football091.txt",
                  "3": " wanderers,\" candela told reporters. \"i hope to have a good time here in england, i hope to play well and to return to italy with bolton.\"\"\n\nFootball",
                  "4": "football",
                  "5": "football"
                },
                {
                  "0": {
                    "model": "text-davinci-002",
                    "choices": [
                      {
                        "text": " resources with faye a target.\n\nFootball",
                        "index": 0,
                        "finish_reason": "stop"
                      }
                    ],
                    "object": "text_completion",
                    "id": "cmpl-6kXPV1WpRx8q0P6b7h8aZmBBaFBH2",
                    "created": "1676549537"
                  },
                  "2": "football244.txt",
                  "3": " resources with faye a target.\n\nFootball",
                  "4": "football",
                  "5": "football"
                },
                {
                  "0": {
                    "model": "text-davinci-002",
                    "choices": [
                      {
                        "text": " to win and make a statement,\"\" mourinho told chelsea tv\"\n\nFootball",
                        "index": 0,
                        "finish_reason": "stop"
                      }
                    ],
                    "object": "text_completion",
                    "id": "cmpl-6kXPVbB01FzA8fkHTtQRRXbTTVzlq",
                    "created": "1676549537"
                  },
                  "2": "football250.txt",
                  "3": " to win and make a statement,\"\" mourinho told chelsea tv\"\n\nFootball",
                  "4": "football",
                  "5": "football"
                },
                {
                  "0": {
                    "model": "text-davinci-002",
                    "choices": [
                      {
                        "text": "Cricket",
                        "index": 0,
                        "finish_reason": "stop"
                      }
                    ],
                    "object": "text_completion",
                    "id": "cmpl-6kXPWP6glRtGU1mBQmmV751cwUQcr",
                    "created": "1676549538"
                  },
                  "2": "cricket022.txt",
                  "3": "Cricket",
                  "4": "cricket",
                  "5": "cricket"
                },
                {
                  "0": {
                    "model": "text-davinci-002",
                    "choices": [
                      {
                        "text": " but hopefully ill slip straight back in.\"\"\n\nCricket",
                        "index": 0,
                        "finish_reason": "stop"
                      }
                    ],
                    "object": "text_completion",
                    "id": "cmpl-6kXPWf7wAJufE90OIdqfDXGFDM2B8",
                    "created": "1676549538"
                  },
                  "2": "cricket036.txt",
                  "3": " but hopefully ill slip straight back in.\"\"\n\nCricket",
                  "4": "cricket",
                  "5": "cricket"
                },
                {
                  "0": {
                    "model": "text-davinci-002",
                    "choices": [
                      {
                        "text": " as the irish launched an impressive fightback to snatch the win.\n\nFootball",
                        "index": 0,
                        "finish_reason": "stop"
                      }
                    ],
                    "object": "text_completion",
                    "id": "cmpl-6kXPWaWB8iPGFzcpqmhYht8IsbEqM",
                    "created": "1676549538"
                  },
                  "2": "rugby007.txt",
                  "3": " as the irish launched an impressive fightback to snatch the win.\n\nFootball",
                  "4": "rugby",
                  "5": "football"
                },
                {
                  "0": {
                    "model": "text-davinci-002",
                    "choices": [
                      {
                        "text": ",\"\" said laporte. \"\"\n\nRugby",
                        "index": 0,
                        "finish_reason": "stop"
                      }
                    ],
                    "object": "text_completion",
                    "id": "cmpl-6kXPXTCBwAqaecl81Ed2lzerOy3bH",
                    "created": "1676549539"
                  },
                  "2": "rugby013.txt",
                  "3": ",\"\" said laporte. \"\"\n\nRugby",
                  "4": "rugby",
                  "5": "rugby"
                },
                {
                  "0": {
                    "model": "text-davinci-002",
                    "choices": [
                      {
                        "text": "\n\nFootball",
                        "index": 0,
                        "finish_reason": "stop"
                      }
                    ],
                    "object": "text_completion",
                    "id": "cmpl-6kXPY2ko1t9HigcrlhEQkIlqBY1cx",
                    "created": "1676549540"
                  },
                  "2": "football132.txt",
                  "3": "\n\nFootball",
                  "4": "football",
                  "5": "football"
                },
                {
                  "0": {
                    "model": "text-davinci-002",
                    "choices": [
                      {
                        "text": " and that hes got a big part to play for us.\"\"\n\nFootball",
                        "index": 0,
                        "finish_reason": "stop"
                      }
                    ],
                    "object": "text_completion",
                    "id": "cmpl-6kXPaEmr5bGHRLAXA3XNTgmMUDzz9",
                    "created": "1676549542"
                  },
                  "2": "football126.txt",
                  "3": " and that hes got a big part to play for us.\"\"\n\nFootball",
                  "4": "football",
                  "5": "football"
                },
                {
                  "0": {
                    "model": "text-davinci-002",
                    "choices": [
                      {
                        "text": " but was forced to postpone her return due to the abdominal muscle strain she picked up at the exhibition event in brussels last weekend.\n\nTennis",
                        "index": 0,
                        "finish_reason": "stop"
                      }
                    ],
                    "object": "text_completion",
                    "id": "cmpl-6kXPavQJBtcmQm5TPII3S8mMieW2E",
                    "created": "1676549542"
                  },
                  "2": "tennis023.txt",
                  "3": " but was forced to postpone her return due to the abdominal muscle strain she picked up at the exhibition event in brussels last weekend.\n\nTennis",
                  "4": "tennis",
                  "5": "tennis"
                },
                {
                  "0": {
                    "model": "text-davinci-002",
                    "choices": [
                      {
                        "text": "\n\nTennis",
                        "index": 0,
                        "finish_reason": "stop"
                      }
                    ],
                    "object": "text_completion",
                    "id": "cmpl-6kXPaiL1Nr23Ot7JQPaR1qn2KOCbb",
                    "created": "1676549542"
                  },
                  "2": "tennis037.txt",
                  "3": "\n\nTennis",
                  "4": "tennis",
                  "5": "tennis"
                },
                {
                  "0": {
                    "model": "text-davinci-002",
                    "choices": [
                      {
                        "text": ",\" edwards said. \"i wont be surprised if he jumps 18 metres and i wouldnt be surprised if he wins gold.\n\nAthletics",
                        "index": 0,
                        "finish_reason": "stop"
                      }
                    ],
                    "object": "text_completion",
                    "id": "cmpl-6kXPcY4FOeUasJ6HNPOTMcW8INxUb",
                    "created": "1676549544"
                  },
                  "2": "atheletics012.txt",
                  "3": ",\" edwards said. \"i wont be surprised if he jumps 18 metres and i wouldnt be surprised if he wins gold.\n\nAthletics",
                  "4": "atheletics",
                  "5": "atheletics"
                },
                {
                  "0": {
                    "model": "text-davinci-002",
                    "choices": [
                      {
                        "text": " tonight. i felt very good coming into the competition. i had a lot of energy left in the tank,\"\" said scott, who ran 6.55 seconds.\"\n\nright\n\nAthletics",
                        "index": 0,
                        "finish_reason": "stop"
                      }
                    ],
                    "object": "text_completion",
                    "id": "cmpl-6kXPdsfFrLZ6qn5ipGpnxlkDjYwG8",
                    "created": "1676549545"
                  },
                  "2": "atheletics006.txt",
                  "3": " tonight. i felt very good coming into the competition. i had a lot of energy left in the tank,\"\" said scott, who ran 6.55 seconds.\"\n\nright\n\nAthletics",
                  "4": "atheletics",
                  "5": "atheletics"
                },
                {
                  "0": {
                    "model": "text-davinci-002",
                    "choices": [
                      {
                        "text": ",\"\" said a spokesperson.\"\n\nAthletics",
                        "index": 0,
                        "finish_reason": "stop"
                      }
                    ],
                    "object": "text_completion",
                    "id": "cmpl-6kXPdTbRMQYkx29qeMauj1NsQDehR",
                    "created": "1676549545"
                  },
                  "2": "atheletics007.txt",
                  "3": ",\"\" said a spokesperson.\"\n\nAthletics",
                  "4": "atheletics",
                  "5": "atheletics"
                },
                {
                  "0": {
                    "model": "text-davinci-002",
                    "choices": [
                      {
                        "text": " and has apologised to us,\"\" ak president isaiah kiplagat told the associated press.\n\nAthletics",
                        "index": 0,
                        "finish_reason": "stop"
                      }
                    ],
                    "object": "text_completion",
                    "id": "cmpl-6kXPePs7dvk2AFsekjGywgsCK3Lxq",
                    "created": "1676549546"
                  },
                  "2": "atheletics013.txt",
                  "3": " and has apologised to us,\"\" ak president isaiah kiplagat told the associated press.\n\nAthletics",
                  "4": "atheletics",
                  "5": "atheletics"
                },
                {
                  "0": {
                    "model": "text-davinci-002",
                    "choices": [
                      {
                        "text": " well today,\"\"\"\n\nTennis",
                        "index": 0,
                        "finish_reason": "stop"
                      }
                    ],
                    "object": "text_completion",
                    "id": "cmpl-6kXPeYdogALCkh8BCBiPeICXfHHPd",
                    "created": "1676549546"
                  },
                  "2": "tennis036.txt",
                  "3": " well today,\"\"\"\n\nTennis",
                  "4": "tennis",
                  "5": "tennis"
                },
                {
                  "0": {
                    "model": "text-davinci-002",
                    "choices": [
                      {
                        "text": ", i feel like something is missing in my life without playing tennis, i'm very excited about tomorrow,\" hingis said on the eve of the tournament.\"\n\nTennis",
                        "index": 0,
                        "finish_reason": "stop"
                      }
                    ],
                    "object": "text_completion",
                    "id": "cmpl-6kXPfrO3AaINxpldizt3KKvjAnwAT",
                    "created": "1676549547"
                  },
                  "2": "tennis022.txt",
                  "3": ", i feel like something is missing in my life without playing tennis, i'm very excited about tomorrow,\" hingis said on the eve of the tournament.\"\n\nTennis",
                  "4": "tennis",
                  "5": "tennis"
                },
                {
                  "0": {
                    "model": "text-davinci-002",
                    "choices": [
                      {
                        "text": " with celtics\"\"\n\nFootball",
                        "index": 0,
                        "finish_reason": "stop"
                      }
                    ],
                    "object": "text_completion",
                    "id": "cmpl-6kXPfKoQMEbGeeFH29WAFM9vmxlen",
                    "created": "1676549547"
                  },
                  "2": "football127.txt",
                  "3": " with celtics\"\"\n\nFootball",
                  "4": "football",
                  "5": "football"
                },
                {
                  "0": {
                    "model": "text-davinci-002",
                    "choices": [
                      {
                        "text": ". rosenborg are not an easy team to deal with. manuel is fully focused and is doing a great job.\"\"\n\n Football",
                        "index": 0,
                        "finish_reason": "stop"
                      }
                    ],
                    "object": "text_completion",
                    "id": "cmpl-6kXPgElY8wOvSSqJHaBK0rMvxi2mZ",
                    "created": "1676549548"
                  },
                  "2": "football133.txt",
                  "3": ". rosenborg are not an easy team to deal with. manuel is fully focused and is doing a great job.\"\"\n\n Football",
                  "4": "football",
                  "5": "football"
                },
                {
                  "0": {
                    "model": "text-davinci-002",
                    "choices": [
                      {
                        "text": ",\"\" murray said.\"\n\nRugby",
                        "index": 0,
                        "finish_reason": "stop"
                      }
                    ],
                    "object": "text_completion",
                    "id": "cmpl-6kXPgRqI4EHaXLzPatRIx54suvUj9",
                    "created": "1676549548"
                  },
                  "2": "rugby012.txt",
                  "3": ",\"\" murray said.\"\n\nRugby",
                  "4": "rugby",
                  "5": "rugby"
                },
                {
                  "0": {
                    "model": "text-davinci-002",
                    "choices": [
                      {
                        "text": ",\"\" said robinson. \"\"the [first-half] one, if the linesman doesnt see that, then theres no one seeing it. if hes not in line with the last foot, how can he see that?\"\"\"\n\nRugby",
                        "index": 0,
                        "finish_reason": "stop"
                      }
                    ],
                    "object": "text_completion",
                    "id": "cmpl-6kXPhgrOJ01oOv19f9BzYQ5A3MYbU",
                    "created": "1676549549"
                  },
                  "2": "rugby006.txt",
                  "3": ",\"\" said robinson. \"\"the [first-half] one, if the linesman doesnt see that, then theres no one seeing it. if hes not in line with the last foot, how can he see that?\"\"\"\n\nRugby",
                  "4": "rugby",
                  "5": "rugby"
                },
                {
                  "0": {
                    "model": "text-davinci-002",
                    "choices": [
                      {
                        "text": " we will be able to announce something,\" narayanaswami said.\n\nCricket",
                        "index": 0,
                        "finish_reason": "stop"
                      }
                    ],
                    "object": "text_completion",
                    "id": "cmpl-6kXPhQPDHAAEtj7cIKnw7L5NuJ0Lh",
                    "created": "1676549549"
                  },
                  "2": "cricket037.txt",
                  "3": " we will be able to announce something,\" narayanaswami said.\n\nCricket",
                  "4": "cricket",
                  "5": "cricket"
                },
                {
                  "0": {
                    "model": "text-davinci-002",
                    "choices": [
                      {
                        "text": " here, we will not have a practice session in mohali,\"\" said manzoor.\"\n\nCricket",
                        "index": 0,
                        "finish_reason": "stop"
                      }
                    ],
                    "object": "text_completion",
                    "id": "cmpl-6kXPihHnjO9TVbFB5u1SZHli9heEZ",
                    "created": "1676549550"
                  },
                  "2": "cricket023.txt",
                  "3": " here, we will not have a practice session in mohali,\"\" said manzoor.\"\n\nCricket",
                  "4": "cricket",
                  "5": "cricket"
                },
                {
                  "0": {
                    "model": "text-davinci-002",
                    "choices": [
                      {
                        "text": " and championship.  odriscoll said: \"\"what my real problem with it is that it inhibits the movement of players down the divisions.\"\"\n\nFootball",
                        "index": 0,
                        "finish_reason": "stop"
                      }
                    ],
                    "object": "text_completion",
                    "id": "cmpl-6kXPibqMlxsrWXPpesn51NEu71MXF",
                    "created": "1676549550"
                  },
                  "2": "football251.txt",
                  "3": " and championship.  odriscoll said: \"\"what my real problem with it is that it inhibits the movement of players down the divisions.\"\"\n\nFootball",
                  "4": "football",
                  "5": "football"
                },
                {
                  "0": {
                    "model": "text-davinci-002",
                    "choices": [
                      {
                        "text": ", who he joined as a 17-year-old.\"\n\nFootball",
                        "index": 0,
                        "finish_reason": "stop"
                      }
                    ],
                    "object": "text_completion",
                    "id": "cmpl-6kXPjJXaNcAb9nS5GNQDWQ7477O2n",
                    "created": "1676549551"
                  },
                  "2": "football245.txt",
                  "3": ", who he joined as a 17-year-old.\"\n\nFootball",
                  "4": "football",
                  "5": "football"
                },
                {
                  "0": {
                    "model": "text-davinci-002",
                    "choices": [
                      {
                        "text": "\n\nFootball",
                        "index": 0,
                        "finish_reason": "stop"
                      }
                    ],
                    "object": "text_completion",
                    "id": "cmpl-6kXPjgTtIrOwAGKRoxMTW5Ixr7jL4",
                    "created": "1676549551"
                  },
                  "2": "football090.txt",
                  "3": "\n\nFootball",
                  "4": "football",
                  "5": "football"
                },
                {
                  "0": {
                    "model": "text-davinci-002",
                    "choices": [
                      {
                        "text": " or cesc fàbregas\")\n\nFootball",
                        "index": 0,
                        "finish_reason": "stop"
                      }
                    ],
                    "object": "text_completion",
                    "id": "cmpl-6kXPkOqcMmQ3hhWHGwKB3zjgV1vEV",
                    "created": "1676549552"
                  },
                  "2": "football084.txt",
                  "3": " or cesc fàbregas\")\n\nFootball",
                  "4": "football",
                  "5": "football"
                },
                {
                  "0": {
                    "model": "text-davinci-002",
                    "choices": [
                      {
                        "text": ", but the second one is normally for dissent.\"\"\n\nFootball",
                        "index": 0,
                        "finish_reason": "stop"
                      }
                    ],
                    "object": "text_completion",
                    "id": "cmpl-6kXPkb3ox9W13rq2lP7uokqWbnRnv",
                    "created": "1676549552"
                  },
                  "2": "football053.txt",
                  "3": ", but the second one is normally for dissent.\"\"\n\nFootball",
                  "4": "football",
                  "5": "football"
                },
                {
                  "0": {
                    "model": "text-davinci-002",
                    "choices": [
                      {
                        "text": " you will get a winning mentality\"\"\n\nFootball",
                        "index": 0,
                        "finish_reason": "stop"
                      }
                    ],
                    "object": "text_completion",
                    "id": "cmpl-6kXPkZaUmOiq63dg6cS76S0Fj3nH2",
                    "created": "1676549552"
                  },
                  "2": "football047.txt",
                  "3": " you will get a winning mentality\"\"\n\nFootball",
                  "4": "football",
                  "5": "football"
                },
                {
                  "0": {
                    "model": "text-davinci-002",
                    "choices": [
                      {
                        "text": ", coventry have not been allowed to extend their loan deal with aston villa for ian taylor\n\nFootball",
                        "index": 0,
                        "finish_reason": "stop"
                      }
                    ],
                    "object": "text_completion",
                    "id": "cmpl-6kXPlxCk6UtzD9QMsmwFZ0qbcN81H",
                    "created": "1676549553"
                  },
                  "2": "football079.txt",
                  "3": ", coventry have not been allowed to extend their loan deal with aston villa for ian taylor\n\nFootball",
                  "4": "football",
                  "5": "football"
                },
                {
                  "0": {
                    "model": "text-davinci-002",
                    "choices": [
                      {
                        "text": ", hopefully it won't be too serious.Football",
                        "index": 0,
                        "finish_reason": "stop"
                      }
                    ],
                    "object": "text_completion",
                    "id": "cmpl-6kXPlwMEhMW9lY999zIMn6ZyWPSzp",
                    "created": "1676549553"
                  },
                  "2": "football051.txt",
                  "3": ", hopefully it won't be too serious.Football",
                  "4": "football",
                  "5": "football"
                },
                {
                  "0": {
                    "model": "text-davinci-002",
                    "choices": [
                      {
                        "text": "\n\nFootball",
                        "index": 0,
                        "finish_reason": "stop"
                      }
                    ],
                    "object": "text_completion",
                    "id": "cmpl-6kXPniGzYnLRjWYFeW2gWJFfCgpCz",
                    "created": "1676549555"
                  },
                  "2": "football045.txt",
                  "3": "\n\nFootball",
                  "4": "football",
                  "5": "football"
                },
                {
                  "0": {
                    "model": "text-davinci-002",
                    "choices": [
                      {
                        "text": ",\" said the former england international. \"\n\nFootball",
                        "index": 0,
                        "finish_reason": "stop"
                      }
                    ],
                    "object": "text_completion",
                    "id": "cmpl-6kXPn1aCYLpmlDL3LtGAWkNVXO3c3",
                    "created": "1676549555"
                  },
                  "2": "football092.txt",
                  "3": ",\" said the former england international. \"\n\nFootball",
                  "4": "football",
                  "5": "football"
                },
                {
                  "0": {
                    "model": "text-davinci-002",
                    "choices": [
                      {
                        "text": " i'm delighted to have kept another clean sheet\"\"\n\nfootball",
                        "index": 0,
                        "finish_reason": "stop"
                      }
                    ],
                    "object": "text_completion",
                    "id": "cmpl-6kXPpMuzJZPS2RkppLos37JLqOFgo",
                    "created": "1676549557"
                  },
                  "2": "football086.txt",
                  "3": " i'm delighted to have kept another clean sheet\"\"\n\nfootball",
                  "4": "football",
                  "5": "football"
                },
                {
                  "0": {
                    "model": "text-davinci-002",
                    "choices": [
                      {
                        "text": "\n\nFootball",
                        "index": 0,
                        "finish_reason": "stop"
                      }
                    ],
                    "object": "text_completion",
                    "id": "cmpl-6kXPp9wSTi8i0ixLs9uRp4Q3b1lyd",
                    "created": "1676549557"
                  },
                  "2": "football253.txt",
                  "3": "\n\nFootball",
                  "4": "football",
                  "5": "football"
                },
                {
                  "0": {
                    "model": "text-davinci-002",
                    "choices": [
                      {
                        "text": ", onuoha, dunne, sun, brennan, thatcher, musampa (tarnat 79), distin, wright-phillips, fowler, macken (fletcher 90). newcastle: given, babayaro, bramble, o'brien (bowyer 46), hughes, speed, but, dyer (butt 74), jenas, shearer, ameobi (milner 90).\n\nFootball",
                        "index": 0,
                        "finish_reason": "stop"
                      }
                    ],
                    "object": "text_completion",
                    "id": "cmpl-6kXPpAJiFH43hxymxTVgNkfUluFor",
                    "created": "1676549557"
                  },
                  "2": "football247.txt",
                  "3": ", onuoha, dunne, sun, brennan, thatcher, musampa (tarnat 79), distin, wright-phillips, fowler, macken (fletcher 90). newcastle: given, babayaro, bramble, o'brien (bowyer 46), hughes, speed, but, dyer (butt 74), jenas, shearer, ameobi (milner 90).\n\nFootball",
                  "4": "football",
                  "5": "football"
                },
                {
                  "0": {
                    "model": "text-davinci-002",
                    "choices": [
                      {
                        "text": ".  but an official announcement is expected soon\"\n\ncricket",
                        "index": 0,
                        "finish_reason": "stop"
                      }
                    ],
                    "object": "text_completion",
                    "id": "cmpl-6kXPr19gdePSlZD3FMBNas9nhVrE5",
                    "created": "1676549559"
                  },
                  "2": "cricket009.txt",
                  "3": ".  but an official announcement is expected soon\"\n\ncricket",
                  "4": "cricket",
                  "5": "cricket"
                },
                {
                  "0": {
                    "model": "text-davinci-002",
                    "choices": [
                      {
                        "text": " - strong determination, self-discipline, an overriding drive to succeed, and total commitment to the task in hand.\"\"\n\nCricket",
                        "index": 0,
                        "finish_reason": "stop"
                      }
                    ],
                    "object": "text_completion",
                    "id": "cmpl-6kXPr1zM8qdJHdigktHpCxRQcdqF7",
                    "created": "1676549559"
                  },
                  "2": "cricket035.txt",
                  "3": " - strong determination, self-discipline, an overriding drive to succeed, and total commitment to the task in hand.\"\"\n\nCricket",
                  "4": "cricket",
                  "5": "cricket"
                },
                {
                  "0": {
                    "model": "text-davinci-002",
                    "choices": [
                      {
                        "text": "\n\nCricket",
                        "index": 0,
                        "finish_reason": "stop"
                      }
                    ],
                    "object": "text_completion",
                    "id": "cmpl-6kXPsX6Et366jM4HOwjPwNZ10dwJx",
                    "created": "1676549560"
                  },
                  "2": "cricket021.txt",
                  "3": "\n\nCricket",
                  "4": "cricket",
                  "5": "cricket"
                },
                {
                  "0": {
                    "model": "text-davinci-002",
                    "choices": [
                      {
                        "text": "\n\nFootball",
                        "index": 0,
                        "finish_reason": "stop"
                      }
                    ],
                    "object": "text_completion",
                    "id": "cmpl-6kXPtY7D1OyPG0C6SP7pMw8kNgRWw",
                    "created": "1676549561"
                  },
                  "2": "rugby010.txt",
                  "3": "\n\nFootball",
                  "4": "rugby",
                  "5": "football"
                },
                {
                  "0": {
                    "model": "text-davinci-002",
                    "choices": [
                      {
                        "text": " that will give him a bit more comfort, but will mean he is out for two to three weeks.\"\n\nFootball",
                        "index": 0,
                        "finish_reason": "stop"
                      }
                    ],
                    "object": "text_completion",
                    "id": "cmpl-6kXPtetDIrvla57gvRxfQ4YIcfEm0",
                    "created": "1676549561"
                  },
                  "2": "football119.txt",
                  "3": " that will give him a bit more comfort, but will mean he is out for two to three weeks.\"\n\nFootball",
                  "4": "football",
                  "5": "football"
                },
                {
                  "0": {
                    "model": "text-davinci-002",
                    "choices": [
                      {
                        "text": ", but he holds the reins in his hands,\" said laporte of laharrague. \"\n\nFootball",
                        "index": 0,
                        "finish_reason": "stop"
                      }
                    ],
                    "object": "text_completion",
                    "id": "cmpl-6kXPuoexvngtoE2x2VRSlljNeW2Ky",
                    "created": "1676549562"
                  },
                  "2": "rugby004.txt",
                  "3": ", but he holds the reins in his hands,\" said laporte of laharrague. \"\n\nFootball",
                  "4": "rugby",
                  "5": "football"
                },
                {
                  "0": {
                    "model": "text-davinci-002",
                    "choices": [
                      {
                        "text": "\n\nFootball",
                        "index": 0,
                        "finish_reason": "stop"
                      }
                    ],
                    "object": "text_completion",
                    "id": "cmpl-6kXPuiH3RG0eAh7xgpRU7kiJlWh0z",
                    "created": "1676549562"
                  },
                  "2": "football125.txt",
                  "3": "\n\nFootball",
                  "4": "football",
                  "5": "football"
                },
                {
                  "0": {
                    "model": "text-davinci-002",
                    "choices": [
                      {
                        "text": ",\"\" said his toulouse coach, guy novellon.\n\nFootball",
                        "index": 0,
                        "finish_reason": "stop"
                      }
                    ],
                    "object": "text_completion",
                    "id": "cmpl-6kXPuF2SHCuRSw0a73Z7UQ97cYVhQ",
                    "created": "1676549562"
                  },
                  "2": "rugby038.txt",
                  "3": ",\"\" said his toulouse coach, guy novellon.\n\nFootball",
                  "4": "rugby",
                  "5": "football"
                },
                {
                  "0": {
                    "model": "text-davinci-002",
                    "choices": [
                      {
                        "text": "\n\nFootball",
                        "index": 0,
                        "finish_reason": "stop"
                      }
                    ],
                    "object": "text_completion",
                    "id": "cmpl-6kXPv4dehJKWqjiNQze8fJveU39Eh",
                    "created": "1676549563"
                  },
                  "2": "football131.txt",
                  "3": "\n\nFootball",
                  "4": "football",
                  "5": "football"
                },
                {
                  "0": {
                    "model": "text-davinci-002",
                    "choices": [
                      {
                        "text": ",\"\" pound told the BBC.\"\n\nAthletics",
                        "index": 0,
                        "finish_reason": "stop"
                      }
                    ],
                    "object": "text_completion",
                    "id": "cmpl-6kXPvLLZmmhn7pL3ncvu6ZZMI4yCx",
                    "created": "1676549563"
                  },
                  "2": "atheletics039.txt",
                  "3": ",\"\" pound told the BBC.\"\n\nAthletics",
                  "4": "atheletics",
                  "5": "atheletics"
                },
                {
                  "0": {
                    "model": "text-davinci-002",
                    "choices": [
                      {
                        "text": " to see how my foot is doing, how my body doesn't react,\"\" said hingis, who suffered a stress fracture in 2006.\n\nTennis",
                        "index": 0,
                        "finish_reason": "stop"
                      }
                    ],
                    "object": "text_completion",
                    "id": "cmpl-6kXPvJK0dsw3IUTRFK225pM433lLV",
                    "created": "1676549563"
                  },
                  "2": "tennis034.txt",
                  "3": " to see how my foot is doing, how my body doesn't react,\"\" said hingis, who suffered a stress fracture in 2006.\n\nTennis",
                  "4": "tennis",
                  "5": "tennis"
                },
                {
                  "0": {
                    "model": "text-davinci-002",
                    "choices": [
                      {
                        "text": "Tennis",
                        "index": 0,
                        "finish_reason": "stop"
                      }
                    ],
                    "object": "text_completion",
                    "id": "cmpl-6kXPw5e4jBUssdfzooeMyrXsBjimX",
                    "created": "1676549564"
                  },
                  "2": "tennis020.txt",
                  "3": "Tennis",
                  "4": "tennis",
                  "5": "tennis"
                },
                {
                  "0": {
                    "model": "text-davinci-002",
                    "choices": [
                      {
                        "text": " by cragg at the end.  i picked up the pace and tried to go by but i ran out of laps,\"\" bekele lamented.\"\n\nAthletics",
                        "index": 0,
                        "finish_reason": "stop"
                      }
                    ],
                    "object": "text_completion",
                    "id": "cmpl-6kXPwy88q0PkBOqOCjogxGQ3A5c8G",
                    "created": "1676549564"
                  },
                  "2": "atheletics005.txt",
                  "3": " by cragg at the end.  i picked up the pace and tried to go by but i ran out of laps,\"\" bekele lamented.\"\n\nAthletics",
                  "4": "atheletics",
                  "5": "atheletics"
                },
                {
                  "0": {
                    "model": "text-davinci-002",
                    "choices": [
                      {
                        "text": ",\"\" federer told reporters. \"\"but im glad i finally made it today.\"\"\n\nTennis",
                        "index": 0,
                        "finish_reason": "stop"
                      }
                    ],
                    "object": "text_completion",
                    "id": "cmpl-6kXPxZNvNyT7e0JbOkdAFXnVdOhFX",
                    "created": "1676549565"
                  },
                  "2": "tennis008.txt",
                  "3": ",\"\" federer told reporters. \"\"but im glad i finally made it today.\"\"\n\nTennis",
                  "4": "tennis",
                  "5": "tennis"
                },
                {
                  "0": {
                    "model": "text-davinci-002",
                    "choices": [
                      {
                        "text": " but she has carefully considered her options and has sought advice from her coach alberto salazar,\"\" a uk athletics spo\n\nAthletics",
                        "index": 0,
                        "finish_reason": "stop"
                      }
                    ],
                    "object": "text_completion",
                    "id": "cmpl-6kXPxydfRftKneunoNVc1vTywiXHi",
                    "created": "1676549565"
                  },
                  "2": "atheletics011.txt",
                  "3": " but she has carefully considered her options and has sought advice from her coach alberto salazar,\"\" a uk athletics spo\n\nAthletics",
                  "4": "atheletics",
                  "5": "atheletics"
                },
                {
                  "0": {
                    "model": "text-davinci-002",
                    "choices": [
                      {
                        "text": " and hopefully ill be able to run fast and often in 2006,\" said collins.\"\n\nTrack and Field",
                        "index": 0,
                        "finish_reason": "stop"
                      }
                    ],
                    "object": "text_completion",
                    "id": "cmpl-6kXPyV1V02JXFnSvKmsUNTsv9mCUI",
                    "created": "1676549566"
                  },
                  "2": "atheletics010.txt",
                  "3": " and hopefully ill be able to run fast and often in 2006,\" said collins.\"\n\nTrack and Field",
                  "4": "atheletics",
                  "5": ""
                },
                {
                  "0": {
                    "model": "text-davinci-002",
                    "choices": [
                      {
                        "text": " would be drawn up\"\n\nAthletics",
                        "index": 0,
                        "finish_reason": "stop"
                      }
                    ],
                    "object": "text_completion",
                    "id": "cmpl-6kXPzkB0nvTbLZyWFN83Id9rITBP9",
                    "created": "1676549567"
                  },
                  "2": "atheletics004.txt",
                  "3": " would be drawn up\"\n\nAthletics",
                  "4": "atheletics",
                  "5": "atheletics"
                },
                {
                  "0": {
                    "model": "text-davinci-002",
                    "choices": [
                      {
                        "text": " puerta will meet rafael nadal, who beat fellow argentine guillermo canas 7-5 6-3\n\nTennis",
                        "index": 0,
                        "finish_reason": "stop"
                      }
                    ],
                    "object": "text_completion",
                    "id": "cmpl-6kXPzp0iLLYaPp92h0AgWtfuk5K4P",
                    "created": "1676549567"
                  },
                  "2": "tennis009.txt",
                  "3": " puerta will meet rafael nadal, who beat fellow argentine guillermo canas 7-5 6-3\n\nTennis",
                  "4": "tennis",
                  "5": "tennis"
                },
                {
                  "0": {
                    "model": "text-davinci-002",
                    "choices": [
                      {
                        "text": "\n\nTennis",
                        "index": 0,
                        "finish_reason": "stop"
                      }
                    ],
                    "object": "text_completion",
                    "id": "cmpl-6kXQ032FpJ6cJ5Y4BwqEcGesN1Lav",
                    "created": "1676549568"
                  },
                  "2": "tennis021.txt",
                  "3": "\n\nTennis",
                  "4": "tennis",
                  "5": "tennis"
                },
                {
                  "0": {
                    "model": "text-davinci-002",
                    "choices": [
                      {
                        "text": ", it would be a case of \"\"what went wrong this time?\"\"\"\n\nAthletics",
                        "index": 0,
                        "finish_reason": "stop"
                      }
                    ],
                    "object": "text_completion",
                    "id": "cmpl-6kXQ0nnCQvA4MZjd3jwHcvpc41uuf",
                    "created": "1676549568"
                  },
                  "2": "atheletics038.txt",
                  "3": ", it would be a case of \"\"what went wrong this time?\"\"\"\n\nAthletics",
                  "4": "atheletics",
                  "5": "atheletics"
                },
                {
                  "0": {
                    "model": "text-davinci-002",
                    "choices": [
                      {
                        "text": " and dominik for the unbelievable fighting spirit throughout the whole tournament, commented pera.  Tennis",
                        "index": 0,
                        "finish_reason": "stop"
                      }
                    ],
                    "object": "text_completion",
                    "id": "cmpl-6kXQ2rL78tbp0Oseij1udM8z8whrq",
                    "created": "1676549570"
                  },
                  "2": "tennis035.txt",
                  "3": " and dominik for the unbelievable fighting spirit throughout the whole tournament, commented pera.  Tennis",
                  "4": "tennis",
                  "5": "tennis"
                },
                {
                  "0": {
                    "model": "text-davinci-002",
                    "choices": [
                      {
                        "text": "\n\nFootball",
                        "index": 0,
                        "finish_reason": "stop"
                      }
                    ],
                    "object": "text_completion",
                    "id": "cmpl-6kXQ3TKMZYTQbPfuPlF4mggqhmhxX",
                    "created": "1676549571"
                  },
                  "2": "football130.txt",
                  "3": "\n\nFootball",
                  "4": "football",
                  "5": "football"
                },
                {
                  "0": {
                    "model": "text-davinci-002",
                    "choices": [
                      {
                        "text": " it is that we need to be concentrated for the whole 80 minutes. if we give a team like scotland even a little space, they will punish us.\"\"\n\nRugby",
                        "index": 0,
                        "finish_reason": "stop"
                      }
                    ],
                    "object": "text_completion",
                    "id": "cmpl-6kXQ3seNgbj0Da1SsyTAKqZ6tbK0P",
                    "created": "1676549571"
                  },
                  "2": "rugby039.txt",
                  "3": " it is that we need to be concentrated for the whole 80 minutes. if we give a team like scotland even a little space, they will punish us.\"\"\n\nRugby",
                  "4": "rugby",
                  "5": "rugby"
                },
                {
                  "0": {
                    "model": "text-davinci-002",
                    "choices": [
                      {
                        "text": ". for football, it should finish 0-0.\",\" Football",
                        "index": 0,
                        "finish_reason": "stop"
                      }
                    ],
                    "object": "text_completion",
                    "id": "cmpl-6kXQ4G9jdGx4lFr9TIthu5mBTDqoO",
                    "created": "1676549572"
                  },
                  "2": "football124.txt",
                  "3": ". for football, it should finish 0-0.\",\" Football",
                  "4": "football",
                  "5": "football"
                },
                {
                  "0": {
                    "model": "text-davinci-002",
                    "choices": [
                      {
                        "text": ", its frustrating,\"\" lewsey said.\"\"\n\nRugby",
                        "index": 0,
                        "finish_reason": "stop"
                      }
                    ],
                    "object": "text_completion",
                    "id": "cmpl-6kXQ4xn8MKQn0meR2fvsxoZqaSJJB",
                    "created": "1676549572"
                  },
                  "2": "rugby005.txt",
                  "3": ", its frustrating,\"\" lewsey said.\"\"\n\nRugby",
                  "4": "rugby",
                  "5": "rugby"
                },
                {
                  "0": {
                    "model": "text-davinci-002",
                    "choices": [
                      {
                        "text": "Football",
                        "index": 0,
                        "finish_reason": "stop"
                      }
                    ],
                    "object": "text_completion",
                    "id": "cmpl-6kXQ4BBgxI30nUwVzxXZ59ADjx7Rq",
                    "created": "1676549572"
                  },
                  "2": "football118.txt",
                  "3": "Football",
                  "4": "football",
                  "5": "football"
                },
                {
                  "0": {
                    "model": "text-davinci-002",
                    "choices": [
                      {
                        "text": ",\"\" he said.\n\nRugby",
                        "index": 0,
                        "finish_reason": "stop"
                      }
                    ],
                    "object": "text_completion",
                    "id": "cmpl-6kXQ5T9tCZUFvjq93rQp6wRY23FOh",
                    "created": "1676549573"
                  },
                  "2": "rugby011.txt",
                  "3": ",\"\" he said.\n\nRugby",
                  "4": "rugby",
                  "5": "rugby"
                },
                {
                  "0": {
                    "model": "text-davinci-002",
                    "choices": [
                      {
                        "text": ",\" said vaughan.\"\n\nCricket",
                        "index": 0,
                        "finish_reason": "stop"
                      }
                    ],
                    "object": "text_completion",
                    "id": "cmpl-6kXQ5cvs1hr5PdzgnS2eXas3c2Ids",
                    "created": "1676549573"
                  },
                  "2": "cricket020.txt",
                  "3": ",\" said vaughan.\"\n\nCricket",
                  "4": "cricket",
                  "5": "cricket"
                },
                {
                  "0": {
                    "model": "text-davinci-002",
                    "choices": [
                      {
                        "text": ", perth and durban,\"\" said mohammad sami, one of only three Test players in the squad.\n\nCricket",
                        "index": 0,
                        "finish_reason": "stop"
                      }
                    ],
                    "object": "text_completion",
                    "id": "cmpl-6kXQ5zRA2tFy0K5D8Jr6sOm3GLeGt",
                    "created": "1676549573"
                  },
                  "2": "cricket034.txt",
                  "3": ", perth and durban,\"\" said mohammad sami, one of only three Test players in the squad.\n\nCricket",
                  "4": "cricket",
                  "5": "cricket"
                },
                {
                  "0": {
                    "model": "text-davinci-002",
                    "choices": [
                      {
                        "text": " in wellington but the trouble is it doesnt make our guys feel any better.\n\nCricket",
                        "index": 0,
                        "finish_reason": "stop"
                      }
                    ],
                    "object": "text_completion",
                    "id": "cmpl-6kXQ6ANBN0nlRziF2thitUTueCK9K",
                    "created": "1676549574"
                  },
                  "2": "cricket008.txt",
                  "3": " in wellington but the trouble is it doesnt make our guys feel any better.\n\nCricket",
                  "4": "cricket",
                  "5": "cricket"
                },
                {
                  "0": {
                    "model": "text-davinci-002",
                    "choices": [
                      {
                        "text": "\n\nFootball",
                        "index": 0,
                        "finish_reason": "stop"
                      }
                    ],
                    "object": "text_completion",
                    "id": "cmpl-6kXQ6GV3pSDzHa0ERauj4aXv0SUqG",
                    "created": "1676549574"
                  },
                  "2": "football246.txt",
                  "3": "\n\nFootball",
                  "4": "football",
                  "5": "football"
                },
                {
                  "0": {
                    "model": "text-davinci-002",
                    "choices": [
                      {
                        "text": ",\" the 28-year-old told liverpool's website.\n\nFootball",
                        "index": 0,
                        "finish_reason": "stop"
                      }
                    ],
                    "object": "text_completion",
                    "id": "cmpl-6kXQ6xAmAkxYgATBp3BiahLxTPcXD",
                    "created": "1676549574"
                  },
                  "2": "football252.txt",
                  "3": ",\" the 28-year-old told liverpool's website.\n\nFootball",
                  "4": "football",
                  "5": "football"
                },
                {
                  "0": {
                    "model": "text-davinci-002",
                    "choices": [
                      {
                        "text": ",\"\" said desailly who could be partnering ryan giggs in the midfield for carlo ancelotti's side.\"\n\nFootball",
                        "index": 0,
                        "finish_reason": "stop"
                      }
                    ],
                    "object": "text_completion",
                    "id": "cmpl-6kXQ7UfMvMKKbu3pOEJE9ucpbaH9W",
                    "created": "1676549575"
                  },
                  "2": "football087.txt",
                  "3": ",\"\" said desailly who could be partnering ryan giggs in the midfield for carlo ancelotti's side.\"\n\nFootball",
                  "4": "football",
                  "5": "football"
                },
                {
                  "0": {
                    "model": "text-davinci-002",
                    "choices": [
                      {
                        "text": "\n\nFootball",
                        "index": 0,
                        "finish_reason": "stop"
                      }
                    ],
                    "object": "text_completion",
                    "id": "cmpl-6kXQ7rtloNbAN5Wgg5lUJ7dwCDU3M",
                    "created": "1676549575"
                  },
                  "2": "football093.txt",
                  "3": "\n\nFootball",
                  "4": "football",
                  "5": "football"
                },
                {
                  "0": {
                    "model": "text-davinci-002",
                    "choices": [
                      {
                        "text": ". he left celtic after a bust-up with manager gordon strachan, who criticised him over an interview in which he claimed the clubs training ground was too cold.\"\n\nFootball",
                        "index": 0,
                        "finish_reason": "stop"
                      }
                    ],
                    "object": "text_completion",
                    "id": "cmpl-6kXQ8ejGHTJtcCByyb1UEIOvzcIvE",
                    "created": "1676549576"
                  },
                  "2": "football044.txt",
                  "3": ". he left celtic after a bust-up with manager gordon strachan, who criticised him over an interview in which he claimed the clubs training ground was too cold.\"\n\nFootball",
                  "4": "football",
                  "5": "football"
                },
                {
                  "0": {
                    "model": "text-davinci-002",
                    "choices": [
                      {
                        "text": ". we were looking at trying to get the away goal as quickly as possible, and that`s what we did,\"\" souness told sky sports news.\n\nFootball",
                        "index": 0,
                        "finish_reason": "stop"
                      }
                    ],
                    "object": "text_completion",
                    "id": "cmpl-6kXQ8ZhVykTxMzzAa5ug8TCDQIwYk",
                    "created": "1676549576"
                  },
                  "2": "football050.txt",
                  "3": ". we were looking at trying to get the away goal as quickly as possible, and that`s what we did,\"\" souness told sky sports news.\n\nFootball",
                  "4": "football",
                  "5": "football"
                },
                {
                  "0": {
                    "model": "text-davinci-002",
                    "choices": [
                      {
                        "text": ", but there are times when the situation will storm at you, and then you must be careful,\"\" robson said.\n\nFootball",
                        "index": 0,
                        "finish_reason": "stop"
                      }
                    ],
                    "object": "text_completion",
                    "id": "cmpl-6kXQA7nDtPaHlNkmcPCd4G1Hex5Jb",
                    "created": "1676549578"
                  },
                  "2": "football078.txt",
                  "3": ", but there are times when the situation will storm at you, and then you must be careful,\"\" robson said.\n\nFootball",
                  "4": "football",
                  "5": "football"
                },
                {
                  "0": {
                    "model": "text-davinci-002",
                    "choices": [
                      {
                        "text": " about the player's status and vowed to fight their case to the bitter end\"\n\nFootball",
                        "index": 0,
                        "finish_reason": "stop"
                      }
                    ],
                    "object": "text_completion",
                    "id": "cmpl-6kXQB3Xg2Ju4BWRzD2Vh8462yzRoN",
                    "created": "1676549579"
                  },
                  "2": "football037.txt",
                  "3": " about the player's status and vowed to fight their case to the bitter end\"\n\nFootball",
                  "4": "football",
                  "5": "football"
                },
                {
                  "0": {
                    "model": "text-davinci-002",
                    "choices": [
                      {
                        "text": "\n\nFootball",
                        "index": 0,
                        "finish_reason": "stop"
                      }
                    ],
                    "object": "text_completion",
                    "id": "cmpl-6kXQBwB69cWDiJ5Ine84gjVZWC177",
                    "created": "1676549579"
                  },
                  "2": "football023.txt",
                  "3": "\n\nFootball",
                  "4": "football",
                  "5": "football"
                },
                {
                  "0": {
                    "model": "text-davinci-002",
                    "choices": [
                      {
                        "text": " but i will not be going out of my way to pick players who havent played six nations,\"\" said woodward.\"\"\n\nRugby",
                        "index": 0,
                        "finish_reason": "stop"
                      }
                    ],
                    "object": "text_completion",
                    "id": "cmpl-6kXQCiHHsBgXCMUeZ9gItYOxVurdj",
                    "created": "1676549580"
                  },
                  "2": "rugby102.txt",
                  "3": " but i will not be going out of my way to pick players who havent played six nations,\"\" said woodward.\"\"\n\nRugby",
                  "4": "rugby",
                  "5": "rugby"
                },
                {
                  "0": {
                    "model": "text-davinci-002",
                    "choices": [
                      {
                        "text": " have done in the past,\" an rfu spokesman said.\"\n\nRugby",
                        "index": 0,
                        "finish_reason": "stop"
                      }
                    ],
                    "object": "text_completion",
                    "id": "cmpl-6kXQDb6QATkfP1VhVY3ArIcbxDoyF",
                    "created": "1676549581"
                  },
                  "2": "rugby116.txt",
                  "3": " have done in the past,\" an rfu spokesman said.\"\n\nRugby",
                  "4": "rugby",
                  "5": "rugby"
                },
                {
                  "0": {
                    "model": "text-davinci-002",
                    "choices": [
                      {
                        "text": "\n\nFootball",
                        "index": 0,
                        "finish_reason": "stop"
                      }
                    ],
                    "object": "text_completion",
                    "id": "cmpl-6kXQE71eBsIpa2oOB359miQdbDUXp",
                    "created": "1676549582"
                  },
                  "2": "football235.txt",
                  "3": "\n\nFootball",
                  "4": "football",
                  "5": "football"
                },
                {
                  "0": {
                    "model": "text-davinci-002",
                    "choices": [
                      {
                        "text": "\n\nFootball",
                        "index": 0,
                        "finish_reason": "stop"
                      }
                    ],
                    "object": "text_completion",
                    "id": "cmpl-6kXQETIYnRDHKhxzQMoLn2bJu5YXN",
                    "created": "1676549582"
                  },
                  "2": "football221.txt",
                  "3": "\n\nFootball",
                  "4": "football",
                  "5": "football"
                },
                {
                  "0": {
                    "model": "text-davinci-002",
                    "choices": [
                      {
                        "text": "\n\nFootball",
                        "index": 0,
                        "finish_reason": "stop"
                      }
                    ],
                    "object": "text_completion",
                    "id": "cmpl-6kXQEoU0HQmu6xU40OOp99z7UcSXE",
                    "created": "1676549582"
                  },
                  "2": "football209.txt",
                  "3": "\n\nFootball",
                  "4": "football",
                  "5": "football"
                },
                {
                  "0": {
                    "model": "text-davinci-002",
                    "choices": [
                      {
                        "text": "\n\nsouth africa recall spinner boje- Cricket",
                        "index": 0,
                        "finish_reason": "stop"
                      }
                    ],
                    "object": "text_completion",
                    "id": "cmpl-6kXQEA3M6dwNIOiYOndZTCg6iVFcZ",
                    "created": "1676549582"
                  },
                  "2": "cricket053.txt",
                  "3": "\n\nsouth africa recall spinner boje- Cricket",
                  "4": "cricket",
                  "5": "cricket"
                },
                {
                  "0": {
                    "model": "text-davinci-002",
                    "choices": [
                      {
                        "text": " to enable him to keep bowling his doosra. its a disgrace,\"\"said boycott.\"\"\n\nCricket",
                        "index": 0,
                        "finish_reason": "stop"
                      }
                    ],
                    "object": "text_completion",
                    "id": "cmpl-6kXQFv1xmZpY5UA2WtvHTDMCIIMYk",
                    "created": "1676549583"
                  },
                  "2": "cricket047.txt",
                  "3": " to enable him to keep bowling his doosra. its a disgrace,\"\"said boycott.\"\"\n\nCricket",
                  "4": "cricket",
                  "5": "cricket"
                },
                {
                  "0": {
                    "model": "text-davinci-002",
                    "choices": [
                      {
                        "text": "\n\nCricket",
                        "index": 0,
                        "finish_reason": "stop"
                      }
                    ],
                    "object": "text_completion",
                    "id": "cmpl-6kXQFHt0octEfvVgex4YaaWBzWbke",
                    "created": "1676549583"
                  },
                  "2": "cricket090.txt",
                  "3": "\n\nCricket",
                  "4": "cricket",
                  "5": "cricket"
                },
                {
                  "0": {
                    "model": "text-davinci-002",
                    "choices": [
                      {
                        "text": "\n\nFootball",
                        "index": 0,
                        "finish_reason": "stop"
                      }
                    ],
                    "object": "text_completion",
                    "id": "cmpl-6kXQGPgMY6usqE9QRpncSod3uHiSG",
                    "created": "1676549584"
                  },
                  "2": "cricket084.txt",
                  "3": "\n\nFootball",
                  "4": "cricket",
                  "5": "football"
                },
                {
                  "0": {
                    "model": "text-davinci-002",
                    "choices": [
                      {
                        "text": "\n\nFootball",
                        "index": 0,
                        "finish_reason": "stop"
                      }
                    ],
                    "object": "text_completion",
                    "id": "cmpl-6kXQGB4NGlycDKkXm0ANEFCsGECN5",
                    "created": "1676549584"
                  },
                  "2": "football143.txt",
                  "3": "\n\nFootball",
                  "4": "football",
                  "5": "football"
                },
                {
                  "0": {
                    "model": "text-davinci-002",
                    "choices": [
                      {
                        "text": " again, but with the fantastic fans we have, breathing down our necks, we will have to succeed.\"\"\n\nFootball",
                        "index": 0,
                        "finish_reason": "stop"
                      }
                    ],
                    "object": "text_completion",
                    "id": "cmpl-6kXQG2Rhij1ogMvcuGi6UYY8mINAb",
                    "created": "1676549584"
                  },
                  "2": "football157.txt",
                  "3": " again, but with the fantastic fans we have, breathing down our necks, we will have to succeed.\"\"\n\nFootball",
                  "4": "football",
                  "5": "football"
                },
                {
                  "0": {
                    "model": "text-davinci-002",
                    "choices": [
                      {
                        "text": ". john is a new breed of front-row forward who is athletic and quick around the paddock.\"\"\n\nRugby",
                        "index": 0,
                        "finish_reason": "stop"
                      }
                    ],
                    "object": "text_completion",
                    "id": "cmpl-6kXQHss6OWA7OWyY5xGIpLLEcntl8",
                    "created": "1676549585"
                  },
                  "2": "rugby076.txt",
                  "3": ". john is a new breed of front-row forward who is athletic and quick around the paddock.\"\"\n\nRugby",
                  "4": "rugby",
                  "5": "rugby"
                },
                {
                  "0": {
                    "model": "text-davinci-002",
                    "choices": [
                      {
                        "text": " and thought i wasnt going to make it through my first match,\" roddick said. \"\n\nTennis",
                        "index": 0,
                        "finish_reason": "stop"
                      }
                    ],
                    "object": "text_completion",
                    "id": "cmpl-6kXQIOWBUuR5LEgJqtiQCzU348uws",
                    "created": "1676549586"
                  },
                  "2": "tennis091.txt",
                  "3": " and thought i wasnt going to make it through my first match,\" roddick said. \"\n\nTennis",
                  "4": "tennis",
                  "5": "tennis"
                },
                {
                  "0": {
                    "model": "text-davinci-002",
                    "choices": [
                      {
                        "text": ", soderling said.\n\nTennis",
                        "index": 0,
                        "finish_reason": "stop"
                      }
                    ],
                    "object": "text_completion",
                    "id": "cmpl-6kXQJ4yHv0aSF8NPDdTGS7aTwt7qs",
                    "created": "1676549587"
                  },
                  "2": "tennis085.txt",
                  "3": ", soderling said.\n\nTennis",
                  "4": "tennis",
                  "5": "tennis"
                },
                {
                  "0": {
                    "model": "text-davinci-002",
                    "choices": [
                      {
                        "text": " like that,\" andrew told the sunday times.\n\nFootball",
                        "index": 0,
                        "finish_reason": "stop"
                      }
                    ],
                    "object": "text_completion",
                    "id": "cmpl-6kXQJmzE8WQHtsukrrJ2inYwBk52I",
                    "created": "1676549587"
                  },
                  "2": "rugby062.txt",
                  "3": " like that,\" andrew told the sunday times.\n\nFootball",
                  "4": "rugby",
                  "5": "football"
                },
                {
                  "0": {
                    "model": "text-davinci-002",
                    "choices": [
                      {
                        "text": " is expected to allege that conte's claims have depleted her earnings potential.\"\n\nAthletics",
                        "index": 0,
                        "finish_reason": "stop"
                      }
                    ],
                    "object": "text_completion",
                    "id": "cmpl-6kXQJcNaB8fYX4yyhHcmHHXlGAJOw",
                    "created": "1676549587"
                  },
                  "2": "atheletics088.txt",
                  "3": " is expected to allege that conte's claims have depleted her earnings potential.\"\n\nAthletics",
                  "4": "atheletics",
                  "5": "atheletics"
                },
                {
                  "0": {
                    "model": "text-davinci-002",
                    "choices": [
                      {
                        "text": " in recent weeks.\n\nFootball",
                        "index": 0,
                        "finish_reason": "stop"
                      }
                    ],
                    "object": "text_completion",
                    "id": "cmpl-6kXQLA2lRVmWlYsbdPDMyM8MmLm4Z",
                    "created": "1676549589"
                  },
                  "2": "football180.txt",
                  "3": " in recent weeks.\n\nFootball",
                  "4": "football",
                  "5": "football"
                },
                {
                  "0": {
                    "model": "text-davinci-002",
                    "choices": [
                      {
                        "text": "\n\nAthletics",
                        "index": 0,
                        "finish_reason": "stop"
                      }
                    ],
                    "object": "text_completion",
                    "id": "cmpl-6kXQLJOrzZ1n78FnC2TYu2RuuvnUZ",
                    "created": "1676549589"
                  },
                  "2": "atheletics063.txt",
                  "3": "\n\nAthletics",
                  "4": "atheletics",
                  "5": "atheletics"
                },
                {
                  "0": {
                    "model": "text-davinci-002",
                    "choices": [
                      {
                        "text": " important would be the fact that this would enable each union to adjust its playing patterns to suit its own economic and social needs, which at present are dictated to a large extent by structure of the northern hemisphere season.\"\"\n\nRugby",
                        "index": 0,
                        "finish_reason": "stop"
                      }
                    ],
                    "object": "text_completion",
                    "id": "cmpl-6kXQMzUJXcch5FM9b4lEfqdvMSO1w",
                    "created": "1676549590"
                  },
                  "2": "rugby089.txt",
                  "3": " important would be the fact that this would enable each union to adjust its playing patterns to suit its own economic and social needs, which at present are dictated to a large extent by structure of the northern hemisphere season.\"\"\n\nRugby",
                  "4": "rugby",
                  "5": "rugby"
                },
                {
                  "0": {
                    "model": "text-davinci-002",
                    "choices": [
                      {
                        "text": ", which will be two months to the day since our last competitive fixture\"\"\n\nFootball",
                        "index": 0,
                        "finish_reason": "stop"
                      }
                    ],
                    "object": "text_completion",
                    "id": "cmpl-6kXQN04lixEnINaltGbnpQmdrYvS5",
                    "created": "1676549591"
                  },
                  "2": "football194.txt",
                  "3": ", which will be two months to the day since our last competitive fixture\"\"\n\nFootball",
                  "4": "football",
                  "5": "football"
                },
                {
                  "0": {
                    "model": "text-davinci-002",
                    "choices": [
                      {
                        "text": "\n\nAthletics",
                        "index": 0,
                        "finish_reason": "stop"
                      }
                    ],
                    "object": "text_completion",
                    "id": "cmpl-6kXQOy8NRUSsEtty72jZMD9JHFyOw",
                    "created": "1676549592"
                  },
                  "2": "atheletics077.txt",
                  "3": "\n\nAthletics",
                  "4": "atheletics",
                  "5": "atheletics"
                },
                {
                  "0": {
                    "model": "text-davinci-002",
                    "choices": [
                      {
                        "text": ",\"\" said bob bryan.  \"\"this was a good team effort.  hopefully we can get a win now.  we never gave up.  we just kept playing through.  to give us a chance is just huge.\"\"\n\nFootball",
                        "index": 0,
                        "finish_reason": "stop"
                      }
                    ],
                    "object": "text_completion",
                    "id": "cmpl-6kXQOw9uWPgSqOhGewyBIPXKzxedW",
                    "created": "1676549592"
                  },
                  "2": "tennis052.txt",
                  "3": ",\"\" said bob bryan.  \"\"this was a good team effort.  hopefully we can get a win now.  we never gave up.  we just kept playing through.  to give us a chance is just huge.\"\"\n\nFootball",
                  "4": "tennis",
                  "5": "football"
                },
                {
                  "0": {
                    "model": "text-davinci-002",
                    "choices": [
                      {
                        "text": ",\" said moya.\"\"\n\nTennis",
                        "index": 0,
                        "finish_reason": "stop"
                      }
                    ],
                    "object": "text_completion",
                    "id": "cmpl-6kXQPPX0qe7ZcQwEuPnyyx198HZBZ",
                    "created": "1676549593"
                  },
                  "2": "tennis046.txt",
                  "3": ",\" said moya.\"\"\n\nTennis",
                  "4": "tennis",
                  "5": "tennis"
                },
                {
                  "0": {
                    "model": "text-davinci-002",
                    "choices": [
                      {
                        "text": "Tennis",
                        "index": 0,
                        "finish_reason": "stop"
                      }
                    ],
                    "object": "text_completion",
                    "id": "cmpl-6kXQPG9TCCIUFq38q3aL0ULq1Exvj",
                    "created": "1676549593"
                  },
                  "2": "tennis047.txt",
                  "3": "Tennis",
                  "4": "tennis",
                  "5": "tennis"
                },
                {
                  "0": {
                    "model": "text-davinci-002",
                    "choices": [
                      {
                        "text": " and rafael nadal are the players who have made him work hard to win this year and nadal apart, federer has lost just one match in the past 12 months, when marat safin downed him at the australian open.\n\nTennis",
                        "index": 0,
                        "finish_reason": "stop"
                      }
                    ],
                    "object": "text_completion",
                    "id": "cmpl-6kXQP18exCP7V2ZZfJilPO2hAhlFd",
                    "created": "1676549593"
                  },
                  "2": "tennis053.txt",
                  "3": " and rafael nadal are the players who have made him work hard to win this year and nadal apart, federer has lost just one match in the past 12 months, when marat safin downed him at the australian open.\n\nTennis",
                  "4": "tennis",
                  "5": "tennis"
                },
                {
                  "0": {
                    "model": "text-davinci-002",
                    "choices": [
                      {
                        "text": ",\"\" said mccormick\"\n\nAthletics",
                        "index": 0,
                        "finish_reason": "stop"
                      }
                    ],
                    "object": "text_completion",
                    "id": "cmpl-6kXQQNMcgZGX5eRnRKUXc5YcsHUrA",
                    "created": "1676549594"
                  },
                  "2": "atheletics076.txt",
                  "3": ",\"\" said mccormick\"\n\nAthletics",
                  "4": "atheletics",
                  "5": "atheletics"
                },
                {
                  "0": {
                    "model": "text-davinci-002",
                    "choices": [
                      {
                        "text": " in part-exchange\"\n\nFootball",
                        "index": 0,
                        "finish_reason": "stop"
                      }
                    ],
                    "object": "text_completion",
                    "id": "cmpl-6kXQQOZwKBb76RlJLeikMmhNUsYNM",
                    "created": "1676549594"
                  },
                  "2": "football195.txt",
                  "3": " in part-exchange\"\n\nFootball",
                  "4": "football",
                  "5": "football"
                },
                {
                  "0": {
                    "model": "text-davinci-002",
                    "choices": [
                      {
                        "text": " and new zealand played their first rugby league international in 1907, beating austral momentous day in new zealand rugby\n\nRugby",
                        "index": 0,
                        "finish_reason": "stop"
                      }
                    ],
                    "object": "text_completion",
                    "id": "cmpl-6kXQR2PUve9FTRlkLM4iMZURqnlWT",
                    "created": "1676549595"
                  },
                  "2": "rugby088.txt",
                  "3": " and new zealand played their first rugby league international in 1907, beating austral momentous day in new zealand rugby\n\nRugby",
                  "4": "rugby",
                  "5": "rugby"
                },
                {
                  "0": {
                    "model": "text-davinci-002",
                    "choices": [
                      {
                        "text": "\n\nAthletics",
                        "index": 0,
                        "finish_reason": "stop"
                      }
                    ],
                    "object": "text_completion",
                    "id": "cmpl-6kXQRbAy90TgCZBJwwQ4xHTr0jia5",
                    "created": "1676549595"
                  },
                  "2": "atheletics062.txt",
                  "3": "\n\nAthletics",
                  "4": "atheletics",
                  "5": "atheletics"
                },
                {
                  "0": {
                    "model": "text-davinci-002",
                    "choices": [
                      {
                        "text": " around the world,\" beckham told radio station cadena ser.\n\nFootball",
                        "index": 0,
                        "finish_reason": "stop"
                      }
                    ],
                    "object": "text_completion",
                    "id": "cmpl-6kXQRaXQLClosnMbduXOH2K8UEuRW",
                    "created": "1676549595"
                  },
                  "2": "football181.txt",
                  "3": " around the world,\" beckham told radio station cadena ser.\n\nFootball",
                  "4": "football",
                  "5": "football"
                },
                {
                  "0": {
                    "model": "text-davinci-002",
                    "choices": [
                      {
                        "text": " and it will give me a lot of confidence going into the clay season,\" she said.\n\nTennis",
                        "index": 0,
                        "finish_reason": "stop"
                      }
                    ],
                    "object": "text_completion",
                    "id": "cmpl-6kXQS73InDiC9Mz5YNqbEJR9wN939",
                    "created": "1676549596"
                  },
                  "2": "tennis084.txt",
                  "3": " and it will give me a lot of confidence going into the clay season,\" she said.\n\nTennis",
                  "4": "tennis",
                  "5": "tennis"
                },
                {
                  "0": {
                    "model": "text-davinci-002",
                    "choices": [
                      {
                        "text": ",\"\" thanou said.\n\nAthletics",
                        "index": 0,
                        "finish_reason": "stop"
                      }
                    ],
                    "object": "text_completion",
                    "id": "cmpl-6kXQSfCjT9WrOWghhCuTrirvYL2Gg",
                    "created": "1676549596"
                  },
                  "2": "atheletics089.txt",
                  "3": ",\"\" thanou said.\n\nAthletics",
                  "4": "atheletics",
                  "5": "atheletics"
                },
                {
                  "0": {
                    "model": "text-davinci-002",
                    "choices": [
                      {
                        "text": " and see what they make of it - and we will be asking for some answers from the irb as well,\" said robinson.\n\nRugby",
                        "index": 0,
                        "finish_reason": "stop"
                      }
                    ],
                    "object": "text_completion",
                    "id": "cmpl-6kXQTUiOSFpKdrDcAv1h6RqWFuVuV",
                    "created": "1676549597"
                  },
                  "2": "rugby063.txt",
                  "3": " and see what they make of it - and we will be asking for some answers from the irb as well,\" said robinson.\n\nRugby",
                  "4": "rugby",
                  "5": "rugby"
                },
                {
                  "0": {
                    "model": "text-davinci-002",
                    "choices": [
                      {
                        "text": ",\"\n\nRugby",
                        "index": 0,
                        "finish_reason": "stop"
                      }
                    ],
                    "object": "text_completion",
                    "id": "cmpl-6kXQTdZ2G7GNLKElJNyctDVaHoi8A",
                    "created": "1676549597"
                  },
                  "2": "rugby077.txt",
                  "3": ",\"\n\nRugby",
                  "4": "rugby",
                  "5": "rugby"
                },
                {
                  "0": {
                    "model": "text-davinci-002",
                    "choices": [
                      {
                        "text": ",\" said mirza, who had previously won only two wta tour matches.\"\n\nTennis",
                        "index": 0,
                        "finish_reason": "stop"
                      }
                    ],
                    "object": "text_completion",
                    "id": "cmpl-6kXQTuRgJUhGzFF7hRKFPzFn0aQi0",
                    "created": "1676549597"
                  },
                  "2": "tennis090.txt",
                  "3": ",\" said mirza, who had previously won only two wta tour matches.\"\n\nTennis",
                  "4": "tennis",
                  "5": "tennis"
                },
                {
                  "0": {
                    "model": "text-davinci-002",
                    "choices": [
                      {
                        "text": " but the player responded by becoming a key figure in the side that won promotion to the premier league two seasons ago.\n\nFootball",
                        "index": 0,
                        "finish_reason": "stop"
                      }
                    ],
                    "object": "text_completion",
                    "id": "cmpl-6kXQUOpLMujzxrK4ScJ6ORoE2x0xn",
                    "created": "1676549598"
                  },
                  "2": "football156.txt",
                  "3": " but the player responded by becoming a key figure in the side that won promotion to the premier league two seasons ago.\n\nFootball",
                  "4": "football",
                  "5": "football"
                },
                {
                  "0": {
                    "model": "text-davinci-002",
                    "choices": [
                      {
                        "text": " fans this is one of the best nights in recent years.\"\"\n\nFootball",
                        "index": 0,
                        "finish_reason": "stop"
                      }
                    ],
                    "object": "text_completion",
                    "id": "cmpl-6kXQWaefCYEyJagS1fW8auNHZHaaA",
                    "created": "1676549600"
                  },
                  "2": "football142.txt",
                  "3": " fans this is one of the best nights in recent years.\"\"\n\nFootball",
                  "4": "football",
                  "5": "football"
                },
                {
                  "0": {
                    "model": "text-davinci-002",
                    "choices": [
                      {
                        "text": " made by sri lanka cricket and respect it,\"\" new zealand cricket chief executive chris moller said in a statement\n\nCricket",
                        "index": 0,
                        "finish_reason": "stop"
                      }
                    ],
                    "object": "text_completion",
                    "id": "cmpl-6kXQWH6yDqZxwRZpVkyfgSSdLI7vC",
                    "created": "1676549600"
                  },
                  "2": "cricket085.txt",
                  "3": " made by sri lanka cricket and respect it,\"\" new zealand cricket chief executive chris moller said in a statement\n\nCricket",
                  "4": "cricket",
                  "5": "cricket"
                },
                {
                  "0": {
                    "model": "text-davinci-002",
                    "choices": [
                      {
                        "text": ",\" he said.\"\n\nCricket",
                        "index": 0,
                        "finish_reason": "stop"
                      }
                    ],
                    "object": "text_completion",
                    "id": "cmpl-6kXQXdKnIppAUEkaEBPJDPk6k0xlt",
                    "created": "1676549601"
                  },
                  "2": "cricket091.txt",
                  "3": ",\" he said.\"\n\nCricket",
                  "4": "cricket",
                  "5": "cricket"
                },
                {
                  "0": {
                    "model": "text-davinci-002",
                    "choices": [
                      {
                        "text": " with the condition of the wicket\"\n\nCricket",
                        "index": 0,
                        "finish_reason": "stop"
                      }
                    ],
                    "object": "text_completion",
                    "id": "cmpl-6kXQYHn87X1TSOScA8SV9sYWmcetQ",
                    "created": "1676549602"
                  },
                  "2": "cricket046.txt",
                  "3": " with the condition of the wicket\"\n\nCricket",
                  "4": "cricket",
                  "5": "cricket"
                },
                {
                  "0": {
                    "model": "text-davinci-002",
                    "choices": [
                      {
                        "text": "\n\nCricket",
                        "index": 0,
                        "finish_reason": "stop"
                      }
                    ],
                    "object": "text_completion",
                    "id": "cmpl-6kXQYrF2saa1r7zq5sO5O5KGOA7wA",
                    "created": "1676549602"
                  },
                  "2": "cricket052.txt",
                  "3": "\n\nCricket",
                  "4": "cricket",
                  "5": "cricket"
                },
                {
                  "0": {
                    "model": "text-davinci-002",
                    "choices": [
                      {
                        "text": "\n\nFootball",
                        "index": 0,
                        "finish_reason": "stop"
                      }
                    ],
                    "object": "text_completion",
                    "id": "cmpl-6kXQZEWUT13vmNiWyhVvauxhu227V",
                    "created": "1676549603"
                  },
                  "2": "football208.txt",
                  "3": "\n\nFootball",
                  "4": "football",
                  "5": "football"
                },
                {
                  "0": {
                    "model": "text-davinci-002",
                    "choices": [
                      {
                        "text": "\n\nFootball",
                        "index": 0,
                        "finish_reason": "stop"
                      }
                    ],
                    "object": "text_completion",
                    "id": "cmpl-6kXQZZBOfb6LJayIw0i9RYHsjoymz",
                    "created": "1676549603"
                  },
                  "2": "football220.txt",
                  "3": "\n\nFootball",
                  "4": "football",
                  "5": "football"
                },
                {
                  "0": {
                    "model": "text-davinci-002",
                    "choices": [
                      {
                        "text": " on a football pitch and the referee or linesman or fourth official doesnt see it then the only way for that to be dealt with is for players to report it via the channels that are there,\"\" he told bbc radio 5 live.\"\"\n\nFootball",
                        "index": 0,
                        "finish_reason": "stop"
                      }
                    ],
                    "object": "text_completion",
                    "id": "cmpl-6kXQaIozEFhJIN0V1JNQzkGnwKixp",
                    "created": "1676549604"
                  },
                  "2": "football234.txt",
                  "3": " on a football pitch and the referee or linesman or fourth official doesnt see it then the only way for that to be dealt with is for players to report it via the channels that are there,\"\" he told bbc radio 5 live.\"\"\n\nFootball",
                  "4": "football",
                  "5": "football"
                },
                {
                  "0": {
                    "model": "text-davinci-002",
                    "choices": [
                      {
                        "text": ".  but he has been named in the 44-man squad for the tournament and is hoping to return to action in time to face scotland on march 14.\n\nRugby",
                        "index": 0,
                        "finish_reason": "stop"
                      }
                    ],
                    "object": "text_completion",
                    "id": "cmpl-6kXQbZXDqGh7b5eVECcozzlIJWGnf",
                    "created": "1676549605"
                  },
                  "2": "rugby117.txt",
                  "3": ".  but he has been named in the 44-man squad for the tournament and is hoping to return to action in time to face scotland on march 14.\n\nRugby",
                  "4": "rugby",
                  "5": "rugby"
                },
                {
                  "0": {
                    "model": "text-davinci-002",
                    "choices": [
                      {
                        "text": " for the tour and be available for specific tasks leading up to and during the tour, \" said campbell\"\n\nRugby",
                        "index": 0,
                        "finish_reason": "stop"
                      }
                    ],
                    "object": "text_completion",
                    "id": "cmpl-6kXQc4P0FWxbkZoBk7fxTxFhMvwf8",
                    "created": "1676549606"
                  },
                  "2": "rugby103.txt",
                  "3": " for the tour and be available for specific tasks leading up to and during the tour, \" said campbell\"\n\nRugby",
                  "4": "rugby",
                  "5": "rugby"
                },
                {
                  "0": {
                    "model": "text-davinci-002",
                    "choices": [
                      {
                        "text": " has been beset by injuries this season.\n\nFootball",
                        "index": 0,
                        "finish_reason": "stop"
                      }
                    ],
                    "object": "text_completion",
                    "id": "cmpl-6kXQcarU2BLzJdMoW1G3lQFox5oTm",
                    "created": "1676549606"
                  },
                  "2": "football022.txt",
                  "3": " has been beset by injuries this season.\n\nFootball",
                  "4": "football",
                  "5": "football"
                },
                {
                  "0": {
                    "model": "text-davinci-002",
                    "choices": [
                      {
                        "text": ".  i think they have paid larne 45,000 for him. hes been on the books at arsenal and fulham in the past\"\n\nFootball",
                        "index": 0,
                        "finish_reason": "stop"
                      }
                    ],
                    "object": "text_completion",
                    "id": "cmpl-6kXQdO3cuxxc1maUEbXERlqv3jwAW",
                    "created": "1676549607"
                  },
                  "2": "football036.txt",
                  "3": ".  i think they have paid larne 45,000 for him. hes been on the books at arsenal and fulham in the past\"\n\nFootball",
                  "4": "football",
                  "5": "football"
                },
                {
                  "0": {
                    "model": "text-davinci-002",
                    "choices": [
                      {
                        "text": ",\"\" robben told chelsea's official website.\"\"\n\nFootball",
                        "index": 0,
                        "finish_reason": "stop"
                      }
                    ],
                    "object": "text_completion",
                    "id": "cmpl-6kXQeQFhfmTZNgFBmQqHx59rxO8x2",
                    "created": "1676549608"
                  },
                  "2": "football020.txt",
                  "3": ",\"\" robben told chelsea's official website.\"\"\n\nFootball",
                  "4": "football",
                  "5": "football"
                },
                {
                  "0": {
                    "model": "text-davinci-002",
                    "choices": [
                      {
                        "text": "\"\n\n rugby",
                        "index": 0,
                        "finish_reason": "stop"
                      }
                    ],
                    "object": "text_completion",
                    "id": "cmpl-6kXQezmGFET3X05SGmSiH4Jf04DT4",
                    "created": "1676549608"
                  },
                  "2": "rugby129.txt",
                  "3": "\"\n\n rugby",
                  "4": "rugby",
                  "5": "rugby"
                },
                {
                  "0": {
                    "model": "text-davinci-002",
                    "choices": [
                      {
                        "text": ",\"\" he said.\n\nsmith aims to bring back respect Football",
                        "index": 0,
                        "finish_reason": "stop"
                      }
                    ],
                    "object": "text_completion",
                    "id": "cmpl-6kXQfkwAHkr01lVeOdU5X282zsisd",
                    "created": "1676549609"
                  },
                  "2": "football034.txt",
                  "3": ",\"\" he said.\n\nsmith aims to bring back respect Football",
                  "4": "football",
                  "5": "football"
                },
                {
                  "0": {
                    "model": "text-davinci-002",
                    "choices": [
                      {
                        "text": ",\"\" oshea said.\"\"\n\nRugby",
                        "index": 0,
                        "finish_reason": "stop"
                      }
                    ],
                    "object": "text_completion",
                    "id": "cmpl-6kXQfwUZpVJaCNpncGue47dsIpeJ5",
                    "created": "1676549609"
                  },
                  "2": "rugby115.txt",
                  "3": ",\"\" oshea said.\"\"\n\nRugby",
                  "4": "rugby",
                  "5": "rugby"
                },
                {
                  "0": {
                    "model": "text-davinci-002",
                    "choices": [
                      {
                        "text": ", we go into this game with a very slim chance of winning the competition.  we are a little bit more experienced than when we went into the chelsea game last season, but i think its very important that we dont get too caught up in the hype.\"\"\n\nFootball",
                        "index": 0,
                        "finish_reason": "stop"
                      }
                    ],
                    "object": "text_completion",
                    "id": "cmpl-6kXQfNIvjurqbIpVDBkQqEbhzMPBC",
                    "created": "1676549609"
                  },
                  "2": "football008.txt",
                  "3": ", we go into this game with a very slim chance of winning the competition.  we are a little bit more experienced than when we went into the chelsea game last season, but i think its very important that we dont get too caught up in the hype.\"\"\n\nFootball",
                  "4": "football",
                  "5": "football"
                },
                {
                  "0": {
                    "model": "text-davinci-002",
                    "choices": [
                      {
                        "text": ",\"\" said mccall. \"\"we did not play very well in the second half but to come away with a win is good.\"\"\n\n Football",
                        "index": 0,
                        "finish_reason": "stop"
                      }
                    ],
                    "object": "text_completion",
                    "id": "cmpl-6kXQi9XFe6O5qZmUrgvW6NClcMwNA",
                    "created": "1676549612"
                  },
                  "2": "rugby101.txt",
                  "3": ",\"\" said mccall. \"\"we did not play very well in the second half but to come away with a win is good.\"\"\n\n Football",
                  "4": "rugby",
                  "5": "football"
                },
                {
                  "0": {
                    "model": "text-davinci-002",
                    "choices": [
                      {
                        "text": ",\"\" the australian stirrer reported freeman as saying.\"\n\nAthletics",
                        "index": 0,
                        "finish_reason": "stop"
                      }
                    ],
                    "object": "text_completion",
                    "id": "cmpl-6kXQiy5jIWKQgPouKz0fL6oSCn3zh",
                    "created": "1676549612"
                  },
                  "2": "atheletics100.txt",
                  "3": ",\"\" the australian stirrer reported freeman as saying.\"\n\nAthletics",
                  "4": "atheletics",
                  "5": "atheletics"
                },
                {
                  "0": {
                    "model": "text-davinci-002",
                    "choices": [
                      {
                        "text": "\n\nFootball",
                        "index": 0,
                        "finish_reason": "stop"
                      }
                    ],
                    "object": "text_completion",
                    "id": "cmpl-6kXQjzc9d44yBwwEpfRsFxNHFDfDz",
                    "created": "1676549613"
                  },
                  "2": "football222.txt",
                  "3": "\n\nFootball",
                  "4": "football",
                  "5": "football"
                },
                {
                  "0": {
                    "model": "text-davinci-002",
                    "choices": [
                      {
                        "text": ", and newcastle uniteds shay given have all been caught out by the movement of the ball.\n\nFootball",
                        "index": 0,
                        "finish_reason": "stop"
                      }
                    ],
                    "object": "text_completion",
                    "id": "cmpl-6kXQjoExGLBAU2WL4lVxv9fvsI7Vz",
                    "created": "1676549613"
                  },
                  "2": "football236.txt",
                  "3": ", and newcastle uniteds shay given have all been caught out by the movement of the ball.\n\nFootball",
                  "4": "football",
                  "5": "football"
                },
                {
                  "0": {
                    "model": "text-davinci-002",
                    "choices": [
                      {
                        "text": ",\"\" ijaz butt told a private television channel.\n\nCricket",
                        "index": 0,
                        "finish_reason": "stop"
                      }
                    ],
                    "object": "text_completion",
                    "id": "cmpl-6kXQlYjN0cbhgA42qgXC0k7YYZP2p",
                    "created": "1676549615"
                  },
                  "2": "cricket124.txt",
                  "3": ",\"\" ijaz butt told a private television channel.\n\nCricket",
                  "4": "cricket",
                  "5": "cricket"
                },
                {
                  "0": {
                    "model": "text-davinci-002",
                    "choices": [
                      {
                        "text": ", england selectors may be minded to take a look at his performances if he has a strong domestic season\"\n\nCricket",
                        "index": 0,
                        "finish_reason": "stop"
                      }
                    ],
                    "object": "text_completion",
                    "id": "cmpl-6kXQlrAsO24dcCXNWJBA8BqUf58og",
                    "created": "1676549615"
                  },
                  "2": "cricket118.txt",
                  "3": ", england selectors may be minded to take a look at his performances if he has a strong domestic season\"\n\nCricket",
                  "4": "cricket",
                  "5": "cricket"
                },
                {
                  "0": {
                    "model": "text-davinci-002",
                    "choices": [
                      {
                        "text": "\n\nFootball",
                        "index": 0,
                        "finish_reason": "stop"
                      }
                    ],
                    "object": "text_completion",
                    "id": "cmpl-6kXQmuDGTvJv5I48z35S7BKGWuHLq",
                    "created": "1676549616"
                  },
                  "2": "cricket044.txt",
                  "3": "\n\nFootball",
                  "4": "cricket",
                  "5": "football"
                },
                {
                  "0": {
                    "model": "text-davinci-002",
                    "choices": [
                      {
                        "text": "\n\nCricket",
                        "index": 0,
                        "finish_reason": "stop"
                      }
                    ],
                    "object": "text_completion",
                    "id": "cmpl-6kXQmzACimm9qg1MuRW5Zs80Zq0V1",
                    "created": "1676549616"
                  },
                  "2": "cricket050.txt",
                  "3": "\n\nCricket",
                  "4": "cricket",
                  "5": "cricket"
                },
                {
                  "0": {
                    "model": "text-davinci-002",
                    "choices": [
                      {
                        "text": ",`` said howard snyman, the west indies team manager.``\n\nCricket",
                        "index": 0,
                        "finish_reason": "stop"
                      }
                    ],
                    "object": "text_completion",
                    "id": "cmpl-6kXQmpmQsqI2CgwcxxsU1FUgzC69W",
                    "created": "1676549616"
                  },
                  "2": "cricket078.txt",
                  "3": ",`` said howard snyman, the west indies team manager.``\n\nCricket",
                  "4": "cricket",
                  "5": "cricket"
                },
                {
                  "0": {
                    "model": "text-davinci-002",
                    "choices": [
                      {
                        "text": "\n\nCricket",
                        "index": 0,
                        "finish_reason": "stop"
                      }
                    ],
                    "object": "text_completion",
                    "id": "cmpl-6kXQnrxnZfOZnsAIYgceB7IO82d2V",
                    "created": "1676549617"
                  },
                  "2": "cricket087.txt",
                  "3": "\n\nCricket",
                  "4": "cricket",
                  "5": "cricket"
                },
                {
                  "0": {
                    "model": "text-davinci-002",
                    "choices": [
                      {
                        "text": "\n\nFootball",
                        "index": 0,
                        "finish_reason": "stop"
                      }
                    ],
                    "object": "text_completion",
                    "id": "cmpl-6kXQnJNPJdwsaQzSGB1xQbDNgrpMM",
                    "created": "1676549617"
                  },
                  "2": "cricket093.txt",
                  "3": "\n\nFootball",
                  "4": "cricket",
                  "5": "football"
                },
                {
                  "0": {
                    "model": "text-davinci-002",
                    "choices": [
                      {
                        "text": " you can. so i allowed the free-kick to be taken.\"\"\n\nFootball",
                        "index": 0,
                        "finish_reason": "stop"
                      }
                    ],
                    "object": "text_completion",
                    "id": "cmpl-6kXQnL8HnDooeI4As93VUUxoWMNk9",
                    "created": "1676549617"
                  },
                  "2": "football154.txt",
                  "3": " you can. so i allowed the free-kick to be taken.\"\"\n\nFootball",
                  "4": "football",
                  "5": "football"
                },
                {
                  "0": {
                    "model": "text-davinci-002",
                    "choices": [
                      {
                        "text": ",\"\" laporte said.  \"\n\nFootball",
                        "index": 0,
                        "finish_reason": "stop"
                      }
                    ],
                    "object": "text_completion",
                    "id": "cmpl-6kXQozQcyCzTsZR5PDSSJWdGWRQNa",
                    "created": "1676549618"
                  },
                  "2": "rugby049.txt",
                  "3": ",\"\" laporte said.  \"\n\nFootball",
                  "4": "rugby",
                  "5": "football"
                },
                {
                  "0": {
                    "model": "text-davinci-002",
                    "choices": [
                      {
                        "text": "\n\nFootball",
                        "index": 0,
                        "finish_reason": "stop"
                      }
                    ],
                    "object": "text_completion",
                    "id": "cmpl-6kXQov2WvT5JIb9E6IaMOHYoc1Gbv",
                    "created": "1676549618"
                  },
                  "2": "football140.txt",
                  "3": "\n\nFootball",
                  "4": "football",
                  "5": "football"
                },
                {
                  "0": {
                    "model": "text-davinci-002",
                    "choices": [
                      {
                        "text": " last week,\"\" laporte was quoted as saying by the afp news agency.\"\"\n\nRugby",
                        "index": 0,
                        "finish_reason": "stop"
                      }
                    ],
                    "object": "text_completion",
                    "id": "cmpl-6kXQobdBUxnYt2UvxvkKFKcWp6Rvv",
                    "created": "1676549618"
                  },
                  "2": "rugby061.txt",
                  "3": " last week,\"\" laporte was quoted as saying by the afp news agency.\"\"\n\nRugby",
                  "4": "rugby",
                  "5": "rugby"
                },
                {
                  "0": {
                    "model": "text-davinci-002",
                    "choices": [
                      {
                        "text": ". he has fallen in love with the place,\"\" a source close to the player told the guardian\"\n\nFootball",
                        "index": 0,
                        "finish_reason": "stop"
                      }
                    ],
                    "object": "text_completion",
                    "id": "cmpl-6kXQpFiMXBKnuMrClUzWxHnlsToMN",
                    "created": "1676549619"
                  },
                  "2": "football168.txt",
                  "3": ". he has fallen in love with the place,\"\" a source close to the player told the guardian\"\n\nFootball",
                  "4": "football",
                  "5": "football"
                },
                {
                  "0": {
                    "model": "text-davinci-002",
                    "choices": [
                      {
                        "text": "\n\nTennis",
                        "index": 0,
                        "finish_reason": "stop"
                      }
                    ],
                    "object": "text_completion",
                    "id": "cmpl-6kXQqEgsznIUfsnXZomT5COWmNgns",
                    "created": "1676549620"
                  },
                  "2": "tennis086.txt",
                  "3": "\n\nTennis",
                  "4": "tennis",
                  "5": "tennis"
                },
                {
                  "0": {
                    "model": "text-davinci-002",
                    "choices": [
                      {
                        "text": " in 2006,\"\" alexander said.\"\n\nTennis",
                        "index": 0,
                        "finish_reason": "stop"
                      }
                    ],
                    "object": "text_completion",
                    "id": "cmpl-6kXQqqrVjZpsM4je9zWzc4JK9dWjC",
                    "created": "1676549620"
                  },
                  "2": "tennis092.txt",
                  "3": " in 2006,\"\" alexander said.\"\n\nTennis",
                  "4": "tennis",
                  "5": "tennis"
                },
                {
                  "0": {
                    "model": "text-davinci-002",
                    "choices": [
                      {
                        "text": ". simple as that. you dont change the date of the fa cup or the champions league or anything.\"\"\n\nRugby",
                        "index": 0,
                        "finish_reason": "stop"
                      }
                    ],
                    "object": "text_completion",
                    "id": "cmpl-6kXQqqpg3A37fAU4EgheoSSpnj933",
                    "created": "1676549620"
                  },
                  "2": "rugby075.txt",
                  "3": ". simple as that. you dont change the date of the fa cup or the champions league or anything.\"\"\n\nRugby",
                  "4": "rugby",
                  "5": "rugby"
                },
                {
                  "0": {
                    "model": "text-davinci-002",
                    "choices": [
                      {
                        "text": " said fai general secretary john delaney.\n\nFootball",
                        "index": 0,
                        "finish_reason": "stop"
                      }
                    ],
                    "object": "text_completion",
                    "id": "cmpl-6kXQrZttGtxkpdGvITtDOPhUtTZBc",
                    "created": "1676549621"
                  },
                  "2": "football197.txt",
                  "3": " said fai general secretary john delaney.\n\nFootball",
                  "4": "football",
                  "5": "football"
                },
                {
                  "0": {
                    "model": "text-davinci-002",
                    "choices": [
                      {
                        "text": ",\"\" said the banbury harrier.Athletics",
                        "index": 0,
                        "finish_reason": "stop"
                      }
                    ],
                    "object": "text_completion",
                    "id": "cmpl-6kXQt7UFxS5xKE6N8bq2BNujqrM3S",
                    "created": "1676549623"
                  },
                  "2": "atheletics074.txt",
                  "3": ",\"\" said the banbury harrier.Athletics",
                  "4": "atheletics",
                  "5": "atheletics"
                },
                {
                  "0": {
                    "model": "text-davinci-002",
                    "choices": [
                      {
                        "text": ",\"\" moya said.\"\n\nTennis",
                        "index": 0,
                        "finish_reason": "stop"
                      }
                    ],
                    "object": "text_completion",
                    "id": "cmpl-6kXQto7gfjoWG0X96hpsoZNzdDT3Z",
                    "created": "1676549623"
                  },
                  "2": "tennis079.txt",
                  "3": ",\"\" moya said.\"\n\nTennis",
                  "4": "tennis",
                  "5": "tennis"
                },
                {
                  "0": {
                    "model": "text-davinci-002",
                    "choices": [
                      {
                        "text": ",\"\" oneill said.\"\"\n\nFootball",
                        "index": 0,
                        "finish_reason": "stop"
                      }
                    ],
                    "object": "text_completion",
                    "id": "cmpl-6kXQtH2mcpteTTnwHL8Jhr7GRbxJB",
                    "created": "1676549623"
                  },
                  "2": "football183.txt",
                  "3": ",\"\" oneill said.\"\"\n\nFootball",
                  "4": "football",
                  "5": "football"
                },
                {
                  "0": {
                    "model": "text-davinci-002",
                    "choices": [
                      {
                        "text": ",\"\" said mcilroy\"}\n\nAthletics",
                        "index": 0,
                        "finish_reason": "stop"
                      }
                    ],
                    "object": "text_completion",
                    "id": "cmpl-6kXQuJ77wgsWvtts7dHt5CgNSIeBp",
                    "created": "1676549624"
                  },
                  "2": "atheletics060.txt",
                  "3": ",\"\" said mcilroy\"}\n\nAthletics",
                  "4": "atheletics",
                  "5": "atheletics"
                },
                {
                  "0": {
                    "model": "text-davinci-002",
                    "choices": [
                      {
                        "text": ". so i believe we have a chance to win. if we manage to do so, both runners will take part in the olympic games\".Athletics",
                        "index": 0,
                        "finish_reason": "stop"
                      }
                    ],
                    "object": "text_completion",
                    "id": "cmpl-6kXQvisKR42XjhUUTLQGyS99Tqnka",
                    "created": "1676549625"
                  },
                  "2": "atheletics048.txt",
                  "3": ". so i believe we have a chance to win. if we manage to do so, both runners will take part in the olympic games\".Athletics",
                  "4": "atheletics",
                  "5": "atheletics"
                },
                {
                  "0": {
                    "model": "text-davinci-002",
                    "choices": [
                      {
                        "text": ",\"\" said henin-hardenne.\n\nTennis",
                        "index": 0,
                        "finish_reason": "stop"
                      }
                    ],
                    "object": "text_completion",
                    "id": "cmpl-6kXQwXVJoHJ0LL8QTtMa6ikCydYyq",
                    "created": "1676549626"
                  },
                  "2": "tennis045.txt",
                  "3": ",\"\" said henin-hardenne.\n\nTennis",
                  "4": "tennis",
                  "5": "tennis"
                },
                {
                  "0": {
                    "model": "text-davinci-002",
                    "choices": [
                      {
                        "text": "\n\nTennis",
                        "index": 0,
                        "finish_reason": "stop"
                      }
                    ],
                    "object": "text_completion",
                    "id": "cmpl-6kXQwutI5s06hqBzvuRtHz1IgGd60",
                    "created": "1676549626"
                  },
                  "2": "tennis051.txt",
                  "3": "\n\nTennis",
                  "4": "tennis",
                  "5": "tennis"
                },
                {
                  "0": {
                    "model": "text-davinci-002",
                    "choices": [
                      {
                        "text": ",\" said 26-year-old moya.\n\nFootball",
                        "index": 0,
                        "finish_reason": "stop"
                      }
                    ],
                    "object": "text_completion",
                    "id": "cmpl-6kXQwX2k26oLdNXV8NUyRBWo50vUE",
                    "created": "1676549626"
                  },
                  "2": "tennis050.txt",
                  "3": ",\" said 26-year-old moya.\n\nFootball",
                  "4": "tennis",
                  "5": "football"
                },
                {
                  "0": {
                    "model": "text-davinci-002",
                    "choices": [
                      {
                        "text": ", filed in the california superior court, names conte, his son anthony and his balco business as defendants\"\n\nAthletics",
                        "index": 0,
                        "finish_reason": "stop"
                      }
                    ],
                    "object": "text_completion",
                    "id": "cmpl-6kXQxPvuvWS1XsmvOJrkueh4CtD3w",
                    "created": "1676549627"
                  },
                  "2": "atheletics049.txt",
                  "3": ", filed in the california superior court, names conte, his son anthony and his balco business as defendants\"\n\nAthletics",
                  "4": "atheletics",
                  "5": "atheletics"
                },
                {
                  "0": {
                    "model": "text-davinci-002",
                    "choices": [
                      {
                        "text": " now. it's positive,\" said connors\"\n\nTennis",
                        "index": 0,
                        "finish_reason": "stop"
                      }
                    ],
                    "object": "text_completion",
                    "id": "cmpl-6kXQxRt7WUCGHRV5Fz7bF7hn0NYYn",
                    "created": "1676549627"
                  },
                  "2": "tennis044.txt",
                  "3": " now. it's positive,\" said connors\"\n\nTennis",
                  "4": "tennis",
                  "5": "tennis"
                },
                {
                  "0": {
                    "model": "text-davinci-002",
                    "choices": [
                      {
                        "text": "\n\nAthletics",
                        "index": 0,
                        "finish_reason": "stop"
                      }
                    ],
                    "object": "text_completion",
                    "id": "cmpl-6kXQyz1yhAwPdSzk2BoS6IxM9jVG1",
                    "created": "1676549628"
                  },
                  "2": "atheletics061.txt",
                  "3": "\n\nAthletics",
                  "4": "atheletics",
                  "5": "atheletics"
                },
                {
                  "0": {
                    "model": "text-davinci-002",
                    "choices": [
                      {
                        "text": " i'm hearing that he is not happy with the situation at celtic, so veracruz may be an option for him,\"\" he added.\"\"\n\nFootball",
                        "index": 0,
                        "finish_reason": "stop"
                      }
                    ],
                    "object": "text_completion",
                    "id": "cmpl-6kXQyI6apbvGOfvIXdDTWSbYRXKB7",
                    "created": "1676549628"
                  },
                  "2": "football182.txt",
                  "3": " i'm hearing that he is not happy with the situation at celtic, so veracruz may be an option for him,\"\" he added.\"\"\n\nFootball",
                  "4": "football",
                  "5": "football"
                },
                {
                  "0": {
                    "model": "text-davinci-002",
                    "choices": [
                      {
                        "text": ",\"\" said gardener.\"\"\n\nAthletics",
                        "index": 0,
                        "finish_reason": "stop"
                      }
                    ],
                    "object": "text_completion",
                    "id": "cmpl-6kXQyIQTbZ4O3yNUg9Mha8ZJiQNrA",
                    "created": "1676549628"
                  },
                  "2": "atheletics075.txt",
                  "3": ",\"\" said gardener.\"\"\n\nAthletics",
                  "4": "atheletics",
                  "5": "atheletics"
                },
                {
                  "0": {
                    "model": "text-davinci-002",
                    "choices": [
                      {
                        "text": " and we will be scrapping for scraps,\" he said.\"\n\nFootball",
                        "index": 0,
                        "finish_reason": "stop"
                      }
                    ],
                    "object": "text_completion",
                    "id": "cmpl-6kXQzdmnNRNQqTjTwRtvxry5ozwZg",
                    "created": "1676549629"
                  },
                  "2": "football196.txt",
                  "3": " and we will be scrapping for scraps,\" he said.\"\n\nFootball",
                  "4": "football",
                  "5": "football"
                },
                {
                  "0": {
                    "model": "text-davinci-002",
                    "choices": [
                      {
                        "text": " here, theres always a really good atmosphere out there,\"\" he said.\"\n\nTennis",
                        "index": 0,
                        "finish_reason": "stop"
                      }
                    ],
                    "object": "text_completion",
                    "id": "cmpl-6kXQzbVkR1SZGH8kyU9BKhvNZ1Pac",
                    "created": "1676549629"
                  },
                  "2": "tennis078.txt",
                  "3": " here, theres always a really good atmosphere out there,\"\" he said.\"\n\nTennis",
                  "4": "tennis",
                  "5": "tennis"
                },
                {
                  "0": {
                    "model": "text-davinci-002",
                    "choices": [
                      {
                        "text": ", clijsters said.\"\"\n\nTennis",
                        "index": 0,
                        "finish_reason": "stop"
                      }
                    ],
                    "object": "text_completion",
                    "id": "cmpl-6kXR059TVdC7JjrdHcDIBeMGhLQyj",
                    "created": "1676549630"
                  },
                  "2": "tennis093.txt",
                  "3": ", clijsters said.\"\"\n\nTennis",
                  "4": "tennis",
                  "5": "tennis"
                },
                {
                  "0": {
                    "model": "text-davinci-002",
                    "choices": [
                      {
                        "text": ", who are very much keen to do something in this area,\"\" said millward. \"\"nothing has been decided yet, but it could happen in the future.  \"\n\nRugby",
                        "index": 0,
                        "finish_reason": "stop"
                      }
                    ],
                    "object": "text_completion",
                    "id": "cmpl-6kXR1rimc9tipAy3wxPLlkyzCfzeV",
                    "created": "1676549631"
                  },
                  "2": "rugby074.txt",
                  "3": ", who are very much keen to do something in this area,\"\" said millward. \"\"nothing has been decided yet, but it could happen in the future.  \"\n\nRugby",
                  "4": "rugby",
                  "5": "rugby"
                },
                {
                  "0": {
                    "model": "text-davinci-002",
                    "choices": [
                      {
                        "text": ".\n\"\n\nFootball",
                        "index": 0,
                        "finish_reason": "stop"
                      }
                    ],
                    "object": "text_completion",
                    "id": "cmpl-6kXR26NqntQ3aHBUxvDIESyC9t0X5",
                    "created": "1676549632"
                  },
                  "2": "football169.txt",
                  "3": ".\n\"\n\nFootball",
                  "4": "football",
                  "5": "football"
                },
                {
                  "0": {
                    "model": "text-davinci-002",
                    "choices": [
                      {
                        "text": ", however, kaplan said his decisions were correct\"\"\n\nRugby",
                        "index": 0,
                        "finish_reason": "stop"
                      }
                    ],
                    "object": "text_completion",
                    "id": "cmpl-6kXR21GIxFntLT0Jz57A9Q0x8i0SP",
                    "created": "1676549632"
                  },
                  "2": "rugby060.txt",
                  "3": ", however, kaplan said his decisions were correct\"\"\n\nRugby",
                  "4": "rugby",
                  "5": "rugby"
                },
                {
                  "0": {
                    "model": "text-davinci-002",
                    "choices": [
                      {
                        "text": " tennis right now,\" he said in a post-match press conference.\"\n\nTennis",
                        "index": 0,
                        "finish_reason": "stop"
                      }
                    ],
                    "object": "text_completion",
                    "id": "cmpl-6kXR3IuumeDdxiyrqBmQkMmm9lzHR",
                    "created": "1676549633"
                  },
                  "2": "tennis087.txt",
                  "3": " tennis right now,\" he said in a post-match press conference.\"\n\nTennis",
                  "4": "tennis",
                  "5": "tennis"
                },
                {
                  "0": {
                    "model": "text-davinci-002",
                    "choices": [
                      {
                        "text": " but yesterday he said: \"i don't think he behaved well at all, it's brought the game in disrepute.  you can criticise me as much as you want but i don't think you can question my integrity.\"\n\nFootball",
                        "index": 0,
                        "finish_reason": "stop"
                      }
                    ],
                    "object": "text_completion",
                    "id": "cmpl-6kXR3ntZOYIw0ESaPFTrI1C4zDkwz",
                    "created": "1676549633"
                  },
                  "2": "football141.txt",
                  "3": " but yesterday he said: \"i don't think he behaved well at all, it's brought the game in disrepute.  you can criticise me as much as you want but i don't think you can question my integrity.\"\n\nFootball",
                  "4": "football",
                  "5": "football"
                },
                {
                  "0": {
                    "model": "text-davinci-002",
                    "choices": [
                      {
                        "text": ",\"\" said smith. Rugby",
                        "index": 0,
                        "finish_reason": "stop"
                      }
                    ],
                    "object": "text_completion",
                    "id": "cmpl-6kXR4myZ6RiYt44sT201yS5Cnieiq",
                    "created": "1676549634"
                  },
                  "2": "rugby048.txt",
                  "3": ",\"\" said smith. Rugby",
                  "4": "rugby",
                  "5": "rugby"
                },
                {
                  "0": {
                    "model": "text-davinci-002",
                    "choices": [
                      {
                        "text": ", im desperate to get back,\"\" solskjaer told a united fans website.\n\nFootball",
                        "index": 0,
                        "finish_reason": "stop"
                      }
                    ],
                    "object": "text_completion",
                    "id": "cmpl-6kXR4cWAP1Ur4X7txHE8TFPm3faoz",
                    "created": "1676549634"
                  },
                  "2": "football155.txt",
                  "3": ", im desperate to get back,\"\" solskjaer told a united fans website.\n\nFootball",
                  "4": "football",
                  "5": "football"
                },
                {
                  "0": {
                    "model": "text-davinci-002",
                    "choices": [
                      {
                        "text": ".\"\"\n\nCricket",
                        "index": 0,
                        "finish_reason": "stop"
                      }
                    ],
                    "object": "text_completion",
                    "id": "cmpl-6kXR49e3yp0jC6HVr8ExI3WQf7Jdt",
                    "created": "1676549634"
                  },
                  "2": "cricket092.txt",
                  "3": ".\"\"\n\nCricket",
                  "4": "cricket",
                  "5": "cricket"
                },
                {
                  "0": {
                    "model": "text-davinci-002",
                    "choices": [
                      {
                        "text": "\n\nCricket",
                        "index": 0,
                        "finish_reason": "stop"
                      }
                    ],
                    "object": "text_completion",
                    "id": "cmpl-6kXR6oVT5yytD70YYM9hl1APeFRrl",
                    "created": "1676549636"
                  },
                  "2": "cricket086.txt",
                  "3": "\n\nCricket",
                  "4": "cricket",
                  "5": "cricket"
                },
                {
                  "0": {
                    "model": "text-davinci-002",
                    "choices": [
                      {
                        "text": " this afternoon,\"\" said england assistant coach duncan fletcher.\n\nCricket",
                        "index": 0,
                        "finish_reason": "stop"
                      }
                    ],
                    "object": "text_completion",
                    "id": "cmpl-6kXR6CqQ7bPF7HSqedqcJSm2iPQkD",
                    "created": "1676549636"
                  },
                  "2": "cricket079.txt",
                  "3": " this afternoon,\"\" said england assistant coach duncan fletcher.\n\nCricket",
                  "4": "cricket",
                  "5": "cricket"
                },
                {
                  "0": {
                    "model": "text-davinci-002",
                    "choices": [
                      {
                        "text": " with our cricket,\"\" he said. \"\"it was nice to win something in the uae and to win comfortably bodes well for the future.\"\"\n\nCricket",
                        "index": 0,
                        "finish_reason": "stop"
                      }
                    ],
                    "object": "text_completion",
                    "id": "cmpl-6kXR7FjdXTb2oT8vkciSqvb1o4zbj",
                    "created": "1676549637"
                  },
                  "2": "cricket051.txt",
                  "3": " with our cricket,\"\" he said. \"\"it was nice to win something in the uae and to win comfortably bodes well for the future.\"\"\n\nCricket",
                  "4": "cricket",
                  "5": "cricket"
                },
                {
                  "0": {
                    "model": "text-davinci-002",
                    "choices": [
                      {
                        "text": "  \n\nCricket",
                        "index": 0,
                        "finish_reason": "stop"
                      }
                    ],
                    "object": "text_completion",
                    "id": "cmpl-6kXR7eUsangHBKGtcdAe8U0COJ6Sn",
                    "created": "1676549637"
                  },
                  "2": "cricket045.txt",
                  "3": "  \n\nCricket",
                  "4": "cricket",
                  "5": "cricket"
                },
                {
                  "0": {
                    "model": "text-davinci-002",
                    "choices": [
                      {
                        "text": "\n\nCricket",
                        "index": 0,
                        "finish_reason": "stop"
                      }
                    ],
                    "object": "text_completion",
                    "id": "cmpl-6kXR7vqjBfPaEHKs01VtFThg6Yndm",
                    "created": "1676549637"
                  },
                  "2": "cricket119.txt",
                  "3": "\n\nCricket",
                  "4": "cricket",
                  "5": "cricket"
                },
                {
                  "0": {
                    "model": "text-davinci-002",
                    "choices": [
                      {
                        "text": " and 2000 european championships, he joined chelsea from barcelona in 2001\"\"\n\nFootball",
                        "index": 0,
                        "finish_reason": "stop"
                      }
                    ],
                    "object": "text_completion",
                    "id": "cmpl-6kXR88TmnxdpQqSgt5VAjIoWst8TO",
                    "created": "1676549638"
                  },
                  "2": "football237.txt",
                  "3": " and 2000 european championships, he joined chelsea from barcelona in 2001\"\"\n\nFootball",
                  "4": "football",
                  "5": "football"
                },
                {
                  "0": {
                    "model": "text-davinci-002",
                    "choices": [
                      {
                        "text": " whether its a back-heeled goal, a spray of passes that unlock a defence or one of his now trademark no-look flicks, \"\"dinho\"\" is always the man to produce it.\n\nFootball",
                        "index": 0,
                        "finish_reason": "stop"
                      }
                    ],
                    "object": "text_completion",
                    "id": "cmpl-6kXR8FvOA9enHXihHkuCehigWcsi6",
                    "created": "1676549638"
                  },
                  "2": "football223.txt",
                  "3": " whether its a back-heeled goal, a spray of passes that unlock a defence or one of his now trademark no-look flicks, \"\"dinho\"\" is always the man to produce it.\n\nFootball",
                  "4": "football",
                  "5": "football"
                },
                {
                  "0": {
                    "model": "text-davinci-002",
                    "choices": [
                      {
                        "text": ",\"\" he said.\n\nAthletics",
                        "index": 0,
                        "finish_reason": "stop"
                      }
                    ],
                    "object": "text_completion",
                    "id": "cmpl-6kXR9po75Puh0dBk33erJjnVbrtHs",
                    "created": "1676549639"
                  },
                  "2": "atheletics101.txt",
                  "3": ",\"\" he said.\n\nAthletics",
                  "4": "atheletics",
                  "5": "atheletics"
                },
                {
                  "0": {
                    "model": "text-davinci-002",
                    "choices": [
                      {
                        "text": " enough,\"\" robinson told bbc radio five live. rugby\n\nRugby",
                        "index": 0,
                        "finish_reason": "stop"
                      }
                    ],
                    "object": "text_completion",
                    "id": "cmpl-6kXR93xZunSarGII46JVp8mv0CGNy",
                    "created": "1676549639"
                  },
                  "2": "rugby100.txt",
                  "3": " enough,\"\" robinson told bbc radio five live. rugby\n\nRugby",
                  "4": "rugby",
                  "5": "rugby"
                },
                {
                  "0": {
                    "model": "text-davinci-002",
                    "choices": [
                      {
                        "text": " and we have not taken a chance.\"\"\n\nFootball",
                        "index": 0,
                        "finish_reason": "stop"
                      }
                    ],
                    "object": "text_completion",
                    "id": "cmpl-6kXRAYtKSmwENtuHnnB5W5RLUlLpa",
                    "created": "1676549640"
                  },
                  "2": "football009.txt",
                  "3": " and we have not taken a chance.\"\"\n\nFootball",
                  "4": "football",
                  "5": "football"
                },
                {
                  "0": {
                    "model": "text-davinci-002",
                    "choices": [
                      {
                        "text": " added: \"\"the decision was 24r7 Rugby",
                        "index": 0,
                        "finish_reason": "stop"
                      }
                    ],
                    "object": "text_completion",
                    "id": "cmpl-6kXRAcDnrHkeGiYAQqOw9KBDKjn7F",
                    "created": "1676549640"
                  },
                  "2": "rugby114.txt",
                  "3": " added: \"\"the decision was 24r7 Rugby",
                  "4": "rugby",
                  "5": "rugby"
                },
                {
                  "0": {
                    "model": "text-davinci-002",
                    "choices": [
                      {
                        "text": "\n\nFootball",
                        "index": 0,
                        "finish_reason": "stop"
                      }
                    ],
                    "object": "text_completion",
                    "id": "cmpl-6kXRAqi3yaGUiJCcNdpAvnbWq9P1n",
                    "created": "1676549640"
                  },
                  "2": "football035.txt",
                  "3": "\n\nFootball",
                  "4": "football",
                  "5": "football"
                },
                {
                  "0": {
                    "model": "text-davinci-002",
                    "choices": [
                      {
                        "text": ". but Wales' conquerors of world champions england are refusing to get carried away with the hype surrounding their side's potential\"\n\nRugby",
                        "index": 0,
                        "finish_reason": "stop"
                      }
                    ],
                    "object": "text_completion",
                    "id": "cmpl-6kXRCd1295N6Q3NbqGKV2jUgRk9of",
                    "created": "1676549642"
                  },
                  "2": "rugby128.txt",
                  "3": ". but Wales' conquerors of world champions england are refusing to get carried away with the hype surrounding their side's potential\"\n\nRugby",
                  "4": "rugby",
                  "5": "rugby"
                },
                {
                  "0": {
                    "model": "text-davinci-002",
                    "choices": [
                      {
                        "text": " and his maturity, it seems hes been round for an awful long time.  hes only 29 and hes got many, many good years in front of him.\"\n\nFootball",
                        "index": 0,
                        "finish_reason": "stop"
                      }
                    ],
                    "object": "text_completion",
                    "id": "cmpl-6kXRCaeVAAp8dD17ycUpXZX5pCJP8",
                    "created": "1676549642"
                  },
                  "2": "football021.txt",
                  "3": " and his maturity, it seems hes been round for an awful long time.  hes only 29 and hes got many, many good years in front of him.\"\n\nFootball",
                  "4": "football",
                  "5": "football"
                },
                {
                  "0": {
                    "model": "text-davinci-002",
                    "choices": [
                      {
                        "text": ", whose 20-point haul against the scarlets on october 29 was his best performance of the season, added: \"\"it's nice to have some confidence back and i'm really looking forward to the next few weeks.\"\"\n\nFootball",
                        "index": 0,
                        "finish_reason": "stop"
                      }
                    ],
                    "object": "text_completion",
                    "id": "cmpl-6kXRDeDtSuUuNqYjp0bRiK9CKmOzw",
                    "created": "1676549643"
                  },
                  "2": "rugby110.txt",
                  "3": ", whose 20-point haul against the scarlets on october 29 was his best performance of the season, added: \"\"it's nice to have some confidence back and i'm really looking forward to the next few weeks.\"\"\n\nFootball",
                  "4": "rugby",
                  "5": "football"
                },
                {
                  "0": {
                    "model": "text-davinci-002",
                    "choices": [
                      {
                        "text": ",\" said eriksson.\n\nFootball",
                        "index": 0,
                        "finish_reason": "stop"
                      }
                    ],
                    "object": "text_completion",
                    "id": "cmpl-6kXREpk5cNT7wWWuBKiojMBfOcFTm",
                    "created": "1676549644"
                  },
                  "2": "football019.txt",
                  "3": ",\" said eriksson.\n\nFootball",
                  "4": "football",
                  "5": "football"
                },
                {
                  "0": {
                    "model": "text-davinci-002",
                    "choices": [
                      {
                        "text": ", but i think the those players are unlikely to be selected so its best to focus the squad on guys who can play in the first test,\" woodward told a new zealand newspaper.\"\n\n rugby",
                        "index": 0,
                        "finish_reason": "stop"
                      }
                    ],
                    "object": "text_completion",
                    "id": "cmpl-6kXREGsNQLjZwedkLBebtqzBqEraq",
                    "created": "1676549644"
                  },
                  "2": "rugby104.txt",
                  "3": ", but i think the those players are unlikely to be selected so its best to focus the squad on guys who can play in the first test,\" woodward told a new zealand newspaper.\"\n\n rugby",
                  "4": "rugby",
                  "5": "rugby"
                },
                {
                  "0": {
                    "model": "text-davinci-002",
                    "choices": [
                      {
                        "text": "\n\nFootball",
                        "index": 0,
                        "finish_reason": "stop"
                      }
                    ],
                    "object": "text_completion",
                    "id": "cmpl-6kXRF61ZVH3DZ419Qb66Upx08kUlM",
                    "created": "1676549645"
                  },
                  "2": "football025.txt",
                  "3": "\n\nFootball",
                  "4": "football",
                  "5": "football"
                },
                {
                  "0": {
                    "model": "text-davinci-002",
                    "choices": [
                      {
                        "text": " ive just got to be positive. ive had a phenomenal 18 months and luckily i havent had much time out through injury.\"\"\n\nFootball",
                        "index": 0,
                        "finish_reason": "stop"
                      }
                    ],
                    "object": "text_completion",
                    "id": "cmpl-6kXRFf6J1BLxc2onOHwoZZ64RxRBf",
                    "created": "1676549645"
                  },
                  "2": "rugby138.txt",
                  "3": " ive just got to be positive. ive had a phenomenal 18 months and luckily i havent had much time out through injury.\"\"\n\nFootball",
                  "4": "rugby",
                  "5": "football"
                },
                {
                  "0": {
                    "model": "text-davinci-002",
                    "choices": [
                      {
                        "text": ",\" said a spokesman.\n\nFootball",
                        "index": 0,
                        "finish_reason": "stop"
                      }
                    ],
                    "object": "text_completion",
                    "id": "cmpl-6kXRIbip13TNvBYgzra8WVbkiWxlm",
                    "created": "1676549648"
                  },
                  "2": "football031.txt",
                  "3": ",\" said a spokesman.\n\nFootball",
                  "4": "football",
                  "5": "football"
                },
                {
                  "0": {
                    "model": "text-davinci-002",
                    "choices": [
                      {
                        "text": " against one of the top sides in world cricket,\" said england national selector david graveney.\"\n\nCricket",
                        "index": 0,
                        "finish_reason": "stop"
                      }
                    ],
                    "object": "text_completion",
                    "id": "cmpl-6kXRJbWnCIZ69OKv0ZteScCt5oMlH",
                    "created": "1676549649"
                  },
                  "2": "cricket109.txt",
                  "3": " against one of the top sides in world cricket,\" said england national selector david graveney.\"\n\nCricket",
                  "4": "cricket",
                  "5": "cricket"
                },
                {
                  "0": {
                    "model": "text-davinci-002",
                    "choices": [
                      {
                        "text": ",\" said blatter.\n\nBlatter suggests offside change: Football",
                        "index": 0,
                        "finish_reason": "stop"
                      }
                    ],
                    "object": "text_completion",
                    "id": "cmpl-6kXRJxaKCL0eqdm5tM6RVMEX0dKpJ",
                    "created": "1676549649"
                  },
                  "2": "football227.txt",
                  "3": ",\" said blatter.\n\nBlatter suggests offside change: Football",
                  "4": "football",
                  "5": "football"
                },
                {
                  "0": {
                    "model": "text-davinci-002",
                    "choices": [
                      {
                        "text": ",\"\" giggs agent jonathan barnett told PA Sport. United have time on their side as giggs will not be able to sign a pre-contract agreement with another club until january 2005.\n\nFootball",
                        "index": 0,
                        "finish_reason": "stop"
                      }
                    ],
                    "object": "text_completion",
                    "id": "cmpl-6kXRK9K06Grk3IwATtbFrZ8PwfOez",
                    "created": "1676549650"
                  },
                  "2": "football233.txt",
                  "3": ",\"\" giggs agent jonathan barnett told PA Sport. United have time on their side as giggs will not be able to sign a pre-contract agreement with another club until january 2005.\n\nFootball",
                  "4": "football",
                  "5": "football"
                },
                {
                  "0": {
                    "model": "text-davinci-002",
                    "choices": [
                      {
                        "text": ",\"\" said mohamed zahir, the sri lankan team's manager.\n\ncricket",
                        "index": 0,
                        "finish_reason": "stop"
                      }
                    ],
                    "object": "text_completion",
                    "id": "cmpl-6kXRKCOMpNe47loFX1hlkcHCVHEuA",
                    "created": "1676549650"
                  },
                  "2": "cricket121.txt",
                  "3": ",\"\" said mohamed zahir, the sri lankan team's manager.\n\ncricket",
                  "4": "cricket",
                  "5": "cricket"
                },
                {
                  "0": {
                    "model": "text-davinci-002",
                    "choices": [
                      {
                        "text": ".\n\nCricket",
                        "index": 0,
                        "finish_reason": "stop"
                      }
                    ],
                    "object": "text_completion",
                    "id": "cmpl-6kXRLE9NNJjmPvakG88dHvdekCvNE",
                    "created": "1676549651"
                  },
                  "2": "cricket069.txt",
                  "3": ".\n\nCricket",
                  "4": "cricket",
                  "5": "cricket"
                },
                {
                  "0": {
                    "model": "text-davinci-002",
                    "choices": [
                      {
                        "text": " because hes previously opened and then got the biggest cheer of all by bowling. Cricket\"",
                        "index": 0,
                        "finish_reason": "stop"
                      }
                    ],
                    "object": "text_completion",
                    "id": "cmpl-6kXRL2fttR6E2VvSLCbPqUJfMkzv1",
                    "created": "1676549651"
                  },
                  "2": "cricket041.txt",
                  "3": " because hes previously opened and then got the biggest cheer of all by bowling. Cricket\"",
                  "4": "cricket",
                  "5": "cricket"
                },
                {
                  "0": {
                    "model": "text-davinci-002",
                    "choices": [
                      {
                        "text": "\n\nCricket",
                        "index": 0,
                        "finish_reason": "stop"
                      }
                    ],
                    "object": "text_completion",
                    "id": "cmpl-6kXRMXWHwNIWOvwfrbPJ8gbNVRZGy",
                    "created": "1676549652"
                  },
                  "2": "cricket055.txt",
                  "3": "\n\nCricket",
                  "4": "cricket",
                  "5": "cricket"
                },
                {
                  "0": {
                    "model": "text-davinci-002",
                    "choices": [
                      {
                        "text": "  \n\nCricket",
                        "index": 0,
                        "finish_reason": "stop"
                      }
                    ],
                    "object": "text_completion",
                    "id": "cmpl-6kXRMh09lYX3Oh9sN7l1a7dUXKTz5",
                    "created": "1676549652"
                  },
                  "2": "cricket082.txt",
                  "3": "  \n\nCricket",
                  "4": "cricket",
                  "5": "cricket"
                },
                {
                  "0": {
                    "model": "text-davinci-002",
                    "choices": [
                      {
                        "text": " and the expectation was that they would go on and win the series.\n\nCricket",
                        "index": 0,
                        "finish_reason": "stop"
                      }
                    ],
                    "object": "text_completion",
                    "id": "cmpl-6kXRMpNK3A2NcMf9Vp2nMLf7j62R0",
                    "created": "1676549652"
                  },
                  "2": "cricket096.txt",
                  "3": " and the expectation was that they would go on and win the series.\n\nCricket",
                  "4": "cricket",
                  "5": "cricket"
                },
                {
                  "0": {
                    "model": "text-davinci-002",
                    "choices": [
                      {
                        "text": " at all,\"\" said the 25-year-old, who has slumped to number 13 in the world.\"\n\nFootball",
                        "index": 0,
                        "finish_reason": "stop"
                      }
                    ],
                    "object": "text_completion",
                    "id": "cmpl-6kXRMBZu0gp9nNA21PxbXvOASyzbB",
                    "created": "1676549652"
                  },
                  "2": "tennis083.txt",
                  "3": " at all,\"\" said the 25-year-old, who has slumped to number 13 in the world.\"\n\nFootball",
                  "4": "tennis",
                  "5": "football"
                },
                {
                  "0": {
                    "model": "text-davinci-002",
                    "choices": [
                      {
                        "text": " normally in the second row or the back row.\"\"\n\nRugby",
                        "index": 0,
                        "finish_reason": "stop"
                      }
                    ],
                    "object": "text_completion",
                    "id": "cmpl-6kXRNTNoh5Se7oQVwOFE5AR7ECjel",
                    "created": "1676549653"
                  },
                  "2": "rugby064.txt",
                  "3": " normally in the second row or the back row.\"\"\n\nRugby",
                  "4": "rugby",
                  "5": "rugby"
                },
                {
                  "0": {
                    "model": "text-davinci-002",
                    "choices": [
                      {
                        "text": ",000 for the 34-year-old midfielder, who has been told he can leave st andrew's. \"\n\nFootball",
                        "index": 0,
                        "finish_reason": "stop"
                      }
                    ],
                    "object": "text_completion",
                    "id": "cmpl-6kXRNybopkIgPdIn4RfVrwykZ1tGk",
                    "created": "1676549653"
                  },
                  "2": "football179.txt",
                  "3": ",000 for the 34-year-old midfielder, who has been told he can leave st andrew's. \"\n\nFootball",
                  "4": "football",
                  "5": "football"
                },
                {
                  "0": {
                    "model": "text-davinci-002",
                    "choices": [
                      {
                        "text": " for the scots is ...\n\nFootball",
                        "index": 0,
                        "finish_reason": "stop"
                      }
                    ],
                    "object": "text_completion",
                    "id": "cmpl-6kXROgsI7c5AURVeX3a1PAJru8jVe",
                    "created": "1676549654"
                  },
                  "2": "rugby070.txt",
                  "3": " for the scots is ...\n\nFootball",
                  "4": "rugby",
                  "5": "football"
                },
                {
                  "0": {
                    "model": "text-davinci-002",
                    "choices": [
                      {
                        "text": ",\" a tearful mauresmo said.\"\n\nTennis",
                        "index": 0,
                        "finish_reason": "stop"
                      }
                    ],
                    "object": "text_completion",
                    "id": "cmpl-6kXROqaR3Vr0dlUMASMJNA4lmsckf",
                    "created": "1676549654"
                  },
                  "2": "tennis097.txt",
                  "3": ",\" a tearful mauresmo said.\"\n\nTennis",
                  "4": "tennis",
                  "5": "tennis"
                },
                {
                  "0": {
                    "model": "text-davinci-002",
                    "choices": [
                      {
                        "text": ",\"\"\n\nFootball",
                        "index": 0,
                        "finish_reason": "stop"
                      }
                    ],
                    "object": "text_completion",
                    "id": "cmpl-6kXROsLtVG5igGmUmyuWlE7QSanqC",
                    "created": "1676549654"
                  },
                  "2": "football151.txt",
                  "3": ",\"\"\n\nFootball",
                  "4": "football",
                  "5": "football"
                },
                {
                  "0": {
                    "model": "text-davinci-002",
                    "choices": [
                      {
                        "text": " against england at twickenham.Rugby",
                        "index": 0,
                        "finish_reason": "stop"
                      }
                    ],
                    "object": "text_completion",
                    "id": "cmpl-6kXRPgD7wy7aIv0ynlfRASzWefsEm",
                    "created": "1676549655"
                  },
                  "2": "rugby058.txt",
                  "3": " against england at twickenham.Rugby",
                  "4": "rugby",
                  "5": "rugby"
                },
                {
                  "0": {
                    "model": "text-davinci-002",
                    "choices": [
                      {
                        "text": " to the last 16.\"\"we all felt the pressure, we know how important it is for us to get into the next phase. the fans made their feelings known and the players came under pressure too.\"\"\n\nFootball",
                        "index": 0,
                        "finish_reason": "stop"
                      }
                    ],
                    "object": "text_completion",
                    "id": "cmpl-6kXRPZgpxOsGSv5PWS5JJIQzH7hrp",
                    "created": "1676549655"
                  },
                  "2": "football145.txt",
                  "3": " to the last 16.\"\"we all felt the pressure, we know how important it is for us to get into the next phase. the fans made their feelings known and the players came under pressure too.\"\"\n\nFootball",
                  "4": "football",
                  "5": "football"
                },
                {
                  "0": {
                    "model": "text-davinci-002",
                    "choices": [
                      {
                        "text": ", and then to win one felt great,\"\" she said.\n\nTennis",
                        "index": 0,
                        "finish_reason": "stop"
                      }
                    ],
                    "object": "text_completion",
                    "id": "cmpl-6kXRQm8Syn0GqhhE6p3FqjqGKYTpp",
                    "created": "1676549656"
                  },
                  "2": "tennis040.txt",
                  "3": ", and then to win one felt great,\"\" she said.\n\nTennis",
                  "4": "tennis",
                  "5": "tennis"
                },
                {
                  "0": {
                    "model": "text-davinci-002",
                    "choices": [
                      {
                        "text": "\n\nAthletics",
                        "index": 0,
                        "finish_reason": "stop"
                      }
                    ],
                    "object": "text_completion",
                    "id": "cmpl-6kXRQMY0Bpa9AgeEz43hGVGHsE7vc",
                    "created": "1676549656"
                  },
                  "2": "atheletics059.txt",
                  "3": "\n\nAthletics",
                  "4": "atheletics",
                  "5": "atheletics"
                },
                {
                  "0": {
                    "model": "text-davinci-002",
                    "choices": [
                      {
                        "text": " ive been coming along pretty well,\"\" mauresmo said after the match.\"\n\nTennis",
                        "index": 0,
                        "finish_reason": "stop"
                      }
                    ],
                    "object": "text_completion",
                    "id": "cmpl-6kXRT4jCp8hTHYpupyihXNlaBneAH",
                    "created": "1676549659"
                  },
                  "2": "tennis054.txt",
                  "3": " ive been coming along pretty well,\"\" mauresmo said after the match.\"\n\nTennis",
                  "4": "tennis",
                  "5": "tennis"
                },
                {
                  "0": {
                    "model": "text-davinci-002",
                    "choices": [
                      {
                        "text": " and said: \"\"although we are not making excuses, it is very difficult at the moment.\"\"\n\nArsenal Football Club is an English professional football club based in Holloway, London. They play in the Premier League, the top tier of English football. The club has won 13 League titles, 12 FA Cups, a record 7 FA Community Shields, the League Cup twice and the UEFA Cup Winners' Cup twice.",
                        "index": 0,
                        "finish_reason": "stop"
                      }
                    ],
                    "object": "text_completion",
                    "id": "cmpl-6kXRTgmRyM9g0NzLjbOgSYotPxXsJ",
                    "created": "1676549659"
                  },
                  "2": "football192.txt",
                  "3": " and said: \"\"although we are not making excuses, it is very difficult at the moment.\"\"\n\nArsenal Football Club is an English professional football club based in Holloway, London. They play in the Premier League, the top tier of English football. The club has won 13 League titles, 12 FA Cups, a record 7 FA Community Shields, the League Cup twice and the UEFA Cup Winners' Cup twice.",
                  "4": "football",
                  "5": "football"
                },
                {
                  "0": {
                    "model": "text-davinci-002",
                    "choices": [
                      {
                        "text": ", but it might have flared up if i had raced,\"\" he said.\n\nAthletics",
                        "index": 0,
                        "finish_reason": "stop"
                      }
                    ],
                    "object": "text_completion",
                    "id": "cmpl-6kXRUJftFwxXQr7bvCSVNTob31WYv",
                    "created": "1676549660"
                  },
                  "2": "atheletics071.txt",
                  "3": ", but it might have flared up if i had raced,\"\" he said.\n\nAthletics",
                  "4": "atheletics",
                  "5": "atheletics"
                },
                {
                  "0": {
                    "model": "text-davinci-002",
                    "choices": [
                      {
                        "text": ". the majority of my squad only returned from the club world cup on sunday.  some players, like injured ricardo carvalho, only trained on wednesday.\"\n\nFootball",
                        "index": 0,
                        "finish_reason": "stop"
                      }
                    ],
                    "object": "text_completion",
                    "id": "cmpl-6kXRVQpq9RlYoQw5k1jlmpULwsouc",
                    "created": "1676549661"
                  },
                  "2": "football186.txt",
                  "3": ". the majority of my squad only returned from the club world cup on sunday.  some players, like injured ricardo carvalho, only trained on wednesday.\"\n\nFootball",
                  "4": "football",
                  "5": "football"
                },
                {
                  "0": {
                    "model": "text-davinci-002",
                    "choices": [
                      {
                        "text": " of the floramornington crescent. london is my favourite city and the london marathon my favourite race,\" said radcliffe\n\nRunning",
                        "index": 0,
                        "finish_reason": "stop"
                      }
                    ],
                    "object": "text_completion",
                    "id": "cmpl-6kXRWM2kr808W1iCeW7TGp7KE0vty",
                    "created": "1676549662"
                  },
                  "2": "atheletics065.txt",
                  "3": " of the floramornington crescent. london is my favourite city and the london marathon my favourite race,\" said radcliffe\n\nRunning",
                  "4": "atheletics",
                  "5": ""
                },
                {
                  "0": {
                    "model": "text-davinci-002",
                    "choices": [
                      {
                        "text": " and win,\" she said.\"\n\nTennis",
                        "index": 0,
                        "finish_reason": "stop"
                      }
                    ],
                    "object": "text_completion",
                    "id": "cmpl-6kXRW0RqHlAh2hOEorIWVVLnJ4pff",
                    "created": "1676549662"
                  },
                  "2": "tennis068.txt",
                  "3": " and win,\" she said.\"\n\nTennis",
                  "4": "tennis",
                  "5": "tennis"
                },
                {
                  "0": {
                    "model": "text-davinci-002",
                    "choices": [
                      {
                        "text": ", mcilroy said.\n\nAthletics",
                        "index": 0,
                        "finish_reason": "stop"
                      }
                    ],
                    "object": "text_completion",
                    "id": "cmpl-6kXRWBtrBt2nwth8gKuOFqx0lfBDz",
                    "created": "1676549662"
                  },
                  "2": "atheletics064.txt",
                  "3": ", mcilroy said.\n\nAthletics",
                  "4": "atheletics",
                  "5": "atheletics"
                },
                {
                  "0": {
                    "model": "text-davinci-002",
                    "choices": [
                      {
                        "text": " should return for the trip to newcastle\"\"\n\nFootball",
                        "index": 0,
                        "finish_reason": "stop"
                      }
                    ],
                    "object": "text_completion",
                    "id": "cmpl-6kXRXzsGHCYBwPJZZwzNOW8wSnUt5",
                    "created": "1676549663"
                  },
                  "2": "football187.txt",
                  "3": " should return for the trip to newcastle\"\"\n\nFootball",
                  "4": "football",
                  "5": "football"
                },
                {
                  "0": {
                    "model": "text-davinci-002",
                    "choices": [
                      {
                        "text": " well on other surfaces but not on grass,\"\" he said\"\n\nTennis",
                        "index": 0,
                        "finish_reason": "stop"
                      }
                    ],
                    "object": "text_completion",
                    "id": "cmpl-6kXRX66HJIXtpwNxF8EBMXV5tjyr8",
                    "created": "1676549663"
                  },
                  "2": "tennis069.txt",
                  "3": " well on other surfaces but not on grass,\"\" he said\"\n\nTennis",
                  "4": "tennis",
                  "5": "tennis"
                },
                {
                  "0": {
                    "model": "text-davinci-002",
                    "choices": [
                      {
                        "text": "\n\nAthletics",
                        "index": 0,
                        "finish_reason": "stop"
                      }
                    ],
                    "object": "text_completion",
                    "id": "cmpl-6kXRZbVIaXKpISEPh6NnUxn72Z1yU",
                    "created": "1676549665"
                  },
                  "2": "atheletics070.txt",
                  "3": "\n\nAthletics",
                  "4": "atheletics",
                  "5": "atheletics"
                },
                {
                  "0": {
                    "model": "text-davinci-002",
                    "choices": [
                      {
                        "text": "\"\n\nFootball",
                        "index": 0,
                        "finish_reason": "stop"
                      }
                    ],
                    "object": "text_completion",
                    "id": "cmpl-6kXRZeamVSWzCyAio07V67pd67uJu",
                    "created": "1676549665"
                  },
                  "2": "football193.txt",
                  "3": "\"\n\nFootball",
                  "4": "football",
                  "5": "football"
                },
                {
                  "0": {
                    "model": "text-davinci-002",
                    "choices": [
                      {
                        "text": " and a technical race at that,\"\" said gardener\"\n\nAthletics",
                        "index": 0,
                        "finish_reason": "stop"
                      }
                    ],
                    "object": "text_completion",
                    "id": "cmpl-6kXRZaVUVzdlJ4KHuLL23YzFdb8Dl",
                    "created": "1676549665"
                  },
                  "2": "atheletics058.txt",
                  "3": " and a technical race at that,\"\" said gardener\"\n\nAthletics",
                  "4": "atheletics",
                  "5": "atheletics"
                },
                {
                  "0": {
                    "model": "text-davinci-002",
                    "choices": [
                      {
                        "text": ",\" said agassi, who spent Fl 6m last year on legal action to secure his future in tennis.\n\nTennis",
                        "index": 0,
                        "finish_reason": "stop"
                      }
                    ],
                    "object": "text_completion",
                    "id": "cmpl-6kXRaFW4h85caRlZ0UaIyS7MgsChA",
                    "created": "1676549666"
                  },
                  "2": "tennis055.txt",
                  "3": ",\" said agassi, who spent Fl 6m last year on legal action to secure his future in tennis.\n\nTennis",
                  "4": "tennis",
                  "5": "tennis"
                },
                {
                  "0": {
                    "model": "text-davinci-002",
                    "choices": [
                      {
                        "text": ", which is october to april, and not having the supplement is a big deal to me.\"\"\n\nTennis",
                        "index": 0,
                        "finish_reason": "stop"
                      }
                    ],
                    "object": "text_completion",
                    "id": "cmpl-6kXRaDZ94wjJDnR9jqLuJNnS6zszo",
                    "created": "1676549666"
                  },
                  "2": "tennis041.txt",
                  "3": ", which is october to april, and not having the supplement is a big deal to me.\"\"\n\nTennis",
                  "4": "tennis",
                  "5": "tennis"
                },
                {
                  "0": {
                    "model": "text-davinci-002",
                    "choices": [
                      {
                        "text": ", it's been my life for 25 years and it will be for another 25.\"\"\n\nFootball",
                        "index": 0,
                        "finish_reason": "stop"
                      }
                    ],
                    "object": "text_completion",
                    "id": "cmpl-6kXRbToCvrCca9TGlx6ncLOtaCrcH",
                    "created": "1676549667"
                  },
                  "2": "football144.txt",
                  "3": ", it's been my life for 25 years and it will be for another 25.\"\"\n\nFootball",
                  "4": "football",
                  "5": "football"
                },
                {
                  "0": {
                    "model": "text-davinci-002",
                    "choices": [
                      {
                        "text": ", sale.\n\nFootball",
                        "index": 0,
                        "finish_reason": "stop"
                      }
                    ],
                    "object": "text_completion",
                    "id": "cmpl-6kXRbwKCoxsxzgxxqIbCmOsdMbyDp",
                    "created": "1676549667"
                  },
                  "2": "rugby059.txt",
                  "3": ", sale.\n\nFootball",
                  "4": "rugby",
                  "5": "football"
                },
                {
                  "0": {
                    "model": "text-davinci-002",
                    "choices": [
                      {
                        "text": ",\" pearce said\n\nFootball",
                        "index": 0,
                        "finish_reason": "stop"
                      }
                    ],
                    "object": "text_completion",
                    "id": "cmpl-6kXRcwS0favsYAmSAK3gfkT7HFLpg",
                    "created": "1676549668"
                  },
                  "2": "football150.txt",
                  "3": ",\" pearce said\n\nFootball",
                  "4": "football",
                  "5": "football"
                },
                {
                  "0": {
                    "model": "text-davinci-002",
                    "choices": [
                      {
                        "text": "\n\nfootball",
                        "index": 0,
                        "finish_reason": "stop"
                      }
                    ],
                    "object": "text_completion",
                    "id": "cmpl-6kXRcGzgj5TW690G0fsIeNp3dnLWj",
                    "created": "1676549668"
                  },
                  "2": "rugby071.txt",
                  "3": "\n\nfootball",
                  "4": "rugby",
                  "5": "football"
                },
                {
                  "0": {
                    "model": "text-davinci-002",
                    "choices": [
                      {
                        "text": ". i have to play.  Football",
                        "index": 0,
                        "finish_reason": "stop"
                      }
                    ],
                    "object": "text_completion",
                    "id": "cmpl-6kXRci92ONCnIEddwNHVzOg11qNVN",
                    "created": "1676549668"
                  },
                  "2": "football178.txt",
                  "3": ". i have to play.  Football",
                  "4": "football",
                  "5": "football"
                },
                {
                  "0": {
                    "model": "text-davinci-002",
                    "choices": [
                      {
                        "text": ", due to the organisers wanting to wait for the construction of the stadium to be finished.\"\"\n\nTennis",
                        "index": 0,
                        "finish_reason": "stop"
                      }
                    ],
                    "object": "text_completion",
                    "id": "cmpl-6kXRc72nA5CVtwrluSuNoK6VRO1R3",
                    "created": "1676549668"
                  },
                  "2": "tennis096.txt",
                  "3": ", due to the organisers wanting to wait for the construction of the stadium to be finished.\"\"\n\nTennis",
                  "4": "tennis",
                  "5": "tennis"
                },
                {
                  "0": {
                    "model": "text-davinci-002",
                    "choices": [
                      {
                        "text": ".\n\nTennis",
                        "index": 0,
                        "finish_reason": "stop"
                      }
                    ],
                    "object": "text_completion",
                    "id": "cmpl-6kXRdImpdyU7eaG2EYTcU369hhmSq",
                    "created": "1676549669"
                  },
                  "2": "tennis082.txt",
                  "3": ".\n\nTennis",
                  "4": "tennis",
                  "5": "tennis"
                },
                {
                  "0": {
                    "model": "text-davinci-002",
                    "choices": [
                      {
                        "text": ", let alone captaining them,\" said owen, who has been picked as the replacement for thomas... Football",
                        "index": 0,
                        "finish_reason": "stop"
                      }
                    ],
                    "object": "text_completion",
                    "id": "cmpl-6kXRfWNsyduUyZ3vCIN9H47Y3eWss",
                    "created": "1676549671"
                  },
                  "2": "rugby065.txt",
                  "3": ", let alone captaining them,\" said owen, who has been picked as the replacement for thomas... Football",
                  "4": "rugby",
                  "5": "football"
                },
                {
                  "0": {
                    "model": "text-davinci-002",
                    "choices": [
                      {
                        "text": " it wouldn't do any damage,\"\" said the former test wicketkeeper, who was in london as a radio commentator for the oneday internationals against england.\n\nCricket",
                        "index": 0,
                        "finish_reason": "stop"
                      }
                    ],
                    "object": "text_completion",
                    "id": "cmpl-6kXRfRgCiS15ATiSPM3Mw9X7SP662",
                    "created": "1676549671"
                  },
                  "2": "cricket097.txt",
                  "3": " it wouldn't do any damage,\"\" said the former test wicketkeeper, who was in london as a radio commentator for the oneday internationals against england.\n\nCricket",
                  "4": "cricket",
                  "5": "cricket"
                },
                {
                  "0": {
                    "model": "text-davinci-002",
                    "choices": [
                      {
                        "text": "\n\nCricket",
                        "index": 0,
                        "finish_reason": "stop"
                      }
                    ],
                    "object": "text_completion",
                    "id": "cmpl-6kXRgWH7Ip6SZxq6WrXEwIHkflL97",
                    "created": "1676549672"
                  },
                  "2": "cricket083.txt",
                  "3": "\n\nCricket",
                  "4": "cricket",
                  "5": "cricket"
                },
                {
                  "0": {
                    "model": "text-davinci-002",
                    "choices": [
                      {
                        "text": ",\"\" said a pakistan spokesman.\n\nCricket",
                        "index": 0,
                        "finish_reason": "stop"
                      }
                    ],
                    "object": "text_completion",
                    "id": "cmpl-6kXRgwEGG19OMMvtaW6PqVtg8LgBP",
                    "created": "1676549672"
                  },
                  "2": "cricket054.txt",
                  "3": ",\"\" said a pakistan spokesman.\n\nCricket",
                  "4": "cricket",
                  "5": "cricket"
                },
                {
                  "0": {
                    "model": "text-davinci-002",
                    "choices": [
                      {
                        "text": "#\n\nCricket",
                        "index": 0,
                        "finish_reason": "stop"
                      }
                    ],
                    "object": "text_completion",
                    "id": "cmpl-6kXRh0irYRwJZi7jQkB154TpIgs2F",
                    "created": "1676549673"
                  },
                  "2": "cricket040.txt",
                  "3": "#\n\nCricket",
                  "4": "cricket",
                  "5": "cricket"
                },
                {
                  "0": {
                    "model": "text-davinci-002",
                    "choices": [
                      {
                        "text": "\n\nSports - Cricket",
                        "index": 0,
                        "finish_reason": "stop"
                      }
                    ],
                    "object": "text_completion",
                    "id": "cmpl-6kXRhXTFk3CoQI3RqWhzUSbtYtDL6",
                    "created": "1676549673"
                  },
                  "2": "cricket068.txt",
                  "3": "\n\nSports - Cricket",
                  "4": "cricket",
                  "5": "cricket"
                },
                {
                  "0": {
                    "model": "text-davinci-002",
                    "choices": [
                      {
                        "text": " and even years to get everything back to normal, but we have to start somewhere, anil sable, the manager of the indian football team, said before his teams departure.\"\n\nCricket",
                        "index": 0,
                        "finish_reason": "stop"
                      }
                    ],
                    "object": "text_completion",
                    "id": "cmpl-6kXRhsPCbYkcdG44TbvrA8FbcVpuA",
                    "created": "1676549673"
                  },
                  "2": "cricket120.txt",
                  "3": " and even years to get everything back to normal, but we have to start somewhere, anil sable, the manager of the indian football team, said before his teams departure.\"\n\nCricket",
                  "4": "cricket",
                  "5": "football"
                },
                {
                  "0": {
                    "model": "text-davinci-002",
                    "choices": [
                      {
                        "text": ". it is not a question of waiting for sir alex ferguson to retire,\" cantona told france football.\"\"\n\nFootball",
                        "index": 0,
                        "finish_reason": "stop"
                      }
                    ],
                    "object": "text_completion",
                    "id": "cmpl-6kXRis1KdA6r0qK8Re15ib4GFlpIY",
                    "created": "1676549674"
                  },
                  "2": "football232.txt",
                  "3": ". it is not a question of waiting for sir alex ferguson to retire,\" cantona told france football.\"\"\n\nFootball",
                  "4": "football",
                  "5": "football"
                },
                {
                  "0": {
                    "model": "text-davinci-002",
                    "choices": [
                      {
                        "text": "\n\nFootball",
                        "index": 0,
                        "finish_reason": "stop"
                      }
                    ],
                    "object": "text_completion",
                    "id": "cmpl-6kXRjmT5Vp3akedoZOAxFRTJHDdjI",
                    "created": "1676549675"
                  },
                  "2": "football226.txt",
                  "3": "\n\nFootball",
                  "4": "football",
                  "5": "football"
                },
                {
                  "0": {
                    "model": "text-davinci-002",
                    "choices": [
                      {
                        "text": " later there was a 20-minute window before the waves hit. \n\nCricket",
                        "index": 0,
                        "finish_reason": "stop"
                      }
                    ],
                    "object": "text_completion",
                    "id": "cmpl-6kXRjWEa8wHi3GoLWeI04YLMKzwKc",
                    "created": "1676549675"
                  },
                  "2": "cricket108.txt",
                  "3": " later there was a 20-minute window before the waves hit. \n\nCricket",
                  "4": "cricket",
                  "5": "cricket"
                },
                {
                  "0": {
                    "model": "text-davinci-002",
                    "choices": [
                      {
                        "text": ".  i have reservations about that.  with all due respect to malcolm glazer he doesnt understand what this club is all about.\"\n\nFootball",
                        "index": 0,
                        "finish_reason": "stop"
                      }
                    ],
                    "object": "text_completion",
                    "id": "cmpl-6kXRjrgDq47DbIOMYn5eouaptWRE7",
                    "created": "1676549675"
                  },
                  "2": "football030.txt",
                  "3": ".  i have reservations about that.  with all due respect to malcolm glazer he doesnt understand what this club is all about.\"\n\nFootball",
                  "4": "football",
                  "5": "football"
                },
                {
                  "0": {
                    "model": "text-davinci-002",
                    "choices": [
                      {
                        "text": " because of their own mistakes and the referee,\"\" said dominici.\"\n\nRugby",
                        "index": 0,
                        "finish_reason": "stop"
                      }
                    ],
                    "object": "text_completion",
                    "id": "cmpl-6kXRkyGb7tsBDmax0wmpzjnrrs5Ed",
                    "created": "1676549676"
                  },
                  "2": "rugby139.txt",
                  "3": " because of their own mistakes and the referee,\"\" said dominici.\"\n\nRugby",
                  "4": "rugby",
                  "5": "rugby"
                },
                {
                  "0": {
                    "model": "text-davinci-002",
                    "choices": [
                      {
                        "text": " - but this is more parry the wheeler dealer than soft fan. anfield may yet become the anfield lite stadium - by liverpool standards - that can help him turn the wheel of fortune at the club he adores.\n\nFootball",
                        "index": 0,
                        "finish_reason": "stop"
                      }
                    ],
                    "object": "text_completion",
                    "id": "cmpl-6kXRleyeNgyM1a5nZf3rGW6AEtsdb",
                    "created": "1676549677"
                  },
                  "2": "football024.txt",
                  "3": " - but this is more parry the wheeler dealer than soft fan. anfield may yet become the anfield lite stadium - by liverpool standards - that can help him turn the wheel of fortune at the club he adores.\n\nFootball",
                  "4": "football",
                  "5": "football"
                },
                {
                  "0": {
                    "model": "text-davinci-002",
                    "choices": [
                      {
                        "text": ", south africa, new zealand and samoa but wilkinson is now fit and raring to go.\"\n\nFootball",
                        "index": 0,
                        "finish_reason": "stop"
                      }
                    ],
                    "object": "text_completion",
                    "id": "cmpl-6kXRnaBcnBhrgjVg64Kydx2X3jPDQ",
                    "created": "1676549679"
                  },
                  "2": "rugby105.txt",
                  "3": ", south africa, new zealand and samoa but wilkinson is now fit and raring to go.\"\n\nFootball",
                  "4": "rugby",
                  "5": "football"
                },
                {
                  "0": {
                    "model": "text-davinci-002",
                    "choices": [
                      {
                        "text": " or £40m or £50m, he's going nowhere. \"\n\nFootball",
                        "index": 0,
                        "finish_reason": "stop"
                      }
                    ],
                    "object": "text_completion",
                    "id": "cmpl-6kXRnhzSWGo2iDPZBqvEoql4e2j31",
                    "created": "1676549679"
                  },
                  "2": "football018.txt",
                  "3": " or £40m or £50m, he's going nowhere. \"\n\nFootball",
                  "4": "football",
                  "5": "football"
                },
                {
                  "0": {
                    "model": "text-davinci-002",
                    "choices": [
                      {
                        "text": " up front,\" said gatland.\"\n\nRugby",
                        "index": 0,
                        "finish_reason": "stop"
                      }
                    ],
                    "object": "text_completion",
                    "id": "cmpl-6kXRoonlUvfQGnMtQPIJ0a1C9gMX8",
                    "created": "1676549680"
                  },
                  "2": "rugby111.txt",
                  "3": " up front,\" said gatland.\"\n\nRugby",
                  "4": "rugby",
                  "5": "rugby"
                },
                {
                  "0": {
                    "model": "text-davinci-002",
                    "choices": [
                      {
                        "text": " and regain my place in the england team,\"\" said dawson.\"\n\nRugby",
                        "index": 0,
                        "finish_reason": "stop"
                      }
                    ],
                    "object": "text_completion",
                    "id": "cmpl-6kXRoFCu4NDu47UnwvvlhSW5dgAYB",
                    "created": "1676549680"
                  },
                  "2": "rugby107.txt",
                  "3": " and regain my place in the england team,\"\" said dawson.\"\n\nRugby",
                  "4": "rugby",
                  "5": "rugby"
                },
                {
                  "0": {
                    "model": "text-davinci-002",
                    "choices": [
                      {
                        "text": " at the club, i have mutually agreed with the management that now is the right time to part company,\" kafer said in a statement. \"\n\nRugby",
                        "index": 0,
                        "finish_reason": "stop"
                      }
                    ],
                    "object": "text_completion",
                    "id": "cmpl-6kXRoDU8l5xuijWNYHZSQNmxYDFUv",
                    "created": "1676549680"
                  },
                  "2": "rugby113.txt",
                  "3": " at the club, i have mutually agreed with the management that now is the right time to part company,\" kafer said in a statement. \"\n\nRugby",
                  "4": "rugby",
                  "5": "rugby"
                },
                {
                  "0": {
                    "model": "text-davinci-002",
                    "choices": [
                      {
                        "text": " and not speculating on other people,\" said thompson after saturday's 2-2 draw with aberdeen.\"\n\nFootball",
                        "index": 0,
                        "finish_reason": "stop"
                      }
                    ],
                    "object": "text_completion",
                    "id": "cmpl-6kXRpty0LPeammuT68qi00f9cB8GA",
                    "created": "1676549681"
                  },
                  "2": "football032.txt",
                  "3": " and not speculating on other people,\" said thompson after saturday's 2-2 draw with aberdeen.\"\n\nFootball",
                  "4": "football",
                  "5": "football"
                },
                {
                  "0": {
                    "model": "text-davinci-002",
                    "choices": [
                      {
                        "text": "\n\nFootball",
                        "index": 0,
                        "finish_reason": "stop"
                      }
                    ],
                    "object": "text_completion",
                    "id": "cmpl-6kXRpDBnnmpq4lU7rokVGKJTl2mRD",
                    "created": "1676549681"
                  },
                  "2": "football026.txt",
                  "3": "\n\nFootball",
                  "4": "football",
                  "5": "football"
                },
                {
                  "0": {
                    "model": "text-davinci-002",
                    "choices": [
                      {
                        "text": ", you dont play in europe,\" said uefa communications director william gaillard.\n\nFootball",
                        "index": 0,
                        "finish_reason": "stop"
                      }
                    ],
                    "object": "text_completion",
                    "id": "cmpl-6kXRq8vNkfH0TK40NgXTVfj6i7qc0",
                    "created": "1676549682"
                  },
                  "2": "football218.txt",
                  "3": ", you dont play in europe,\" said uefa communications director william gaillard.\n\nFootball",
                  "4": "football",
                  "5": "football"
                },
                {
                  "0": {
                    "model": "text-davinci-002",
                    "choices": [
                      {
                        "text": ",\"\" the 26-year-old said on his website.\n\n\"\n\nFootball",
                        "index": 0,
                        "finish_reason": "stop"
                      }
                    ],
                    "object": "text_completion",
                    "id": "cmpl-6kXRqcenhNQv3GfMcKfaBLNQklKUO",
                    "created": "1676549682"
                  },
                  "2": "football230.txt",
                  "3": ",\"\" the 26-year-old said on his website.\n\n\"\n\nFootball",
                  "4": "football",
                  "5": "football"
                },
                {
                  "0": {
                    "model": "text-davinci-002",
                    "choices": [
                      {
                        "text": ",\" he said. \"\n\ncricket",
                        "index": 0,
                        "finish_reason": "stop"
                      }
                    ],
                    "object": "text_completion",
                    "id": "cmpl-6kXRqJCJ1BsO7Wk41JrkB8DYaC896",
                    "created": "1676549682"
                  },
                  "2": "cricket122.txt",
                  "3": ",\" he said. \"\n\ncricket",
                  "4": "cricket",
                  "5": "cricket"
                },
                {
                  "0": {
                    "model": "text-davinci-002",
                    "choices": [
                      {
                        "text": "\n\nFootball",
                        "index": 0,
                        "finish_reason": "stop"
                      }
                    ],
                    "object": "text_completion",
                    "id": "cmpl-6kXRr8MAy6JYk6ov5DXSd3naAgEo6",
                    "created": "1676549683"
                  },
                  "2": "football224.txt",
                  "3": "\n\nFootball",
                  "4": "football",
                  "5": "football"
                },
                {
                  "0": {
                    "model": "text-davinci-002",
                    "choices": [
                      {
                        "text": "\n\nCricket",
                        "index": 0,
                        "finish_reason": "stop"
                      }
                    ],
                    "object": "text_completion",
                    "id": "cmpl-6kXRspf3zYkaPA56xUIpeRb4jKR5N",
                    "created": "1676549684"
                  },
                  "2": "cricket056.txt",
                  "3": "\n\nCricket",
                  "4": "cricket",
                  "5": "cricket"
                },
                {
                  "0": {
                    "model": "text-davinci-002",
                    "choices": [
                      {
                        "text": ".Cricket",
                        "index": 0,
                        "finish_reason": "stop"
                      }
                    ],
                    "object": "text_completion",
                    "id": "cmpl-6kXRs3GltrnosJy47Js8PJwxCliWJ",
                    "created": "1676549684"
                  },
                  "2": "cricket042.txt",
                  "3": ".Cricket",
                  "4": "cricket",
                  "5": "cricket"
                },
                {
                  "0": {
                    "model": "text-davinci-002",
                    "choices": [
                      {
                        "text": ",\"\" the 35-year-old told bbc sport wales.  \"\"but i definitely want to play for glamorgan for a number of seasons.  \"(\n\nCricket",
                        "index": 0,
                        "finish_reason": "stop"
                      }
                    ],
                    "object": "text_completion",
                    "id": "cmpl-6kXRttpspuYGmYyTsqwWcmFOLoLYe",
                    "created": "1676549685"
                  },
                  "2": "cricket095.txt",
                  "3": ",\"\" the 35-year-old told bbc sport wales.  \"\"but i definitely want to play for glamorgan for a number of seasons.  \"(\n\nCricket",
                  "4": "cricket",
                  "5": "cricket"
                },
                {
                  "0": {
                    "model": "text-davinci-002",
                    "choices": [
                      {
                        "text": " this week so it was nice to get some wickets out there.  australia\"\n\nFootball",
                        "index": 0,
                        "finish_reason": "stop"
                      }
                    ],
                    "object": "text_completion",
                    "id": "cmpl-6kXRtsI5rskbiSDkDckKs6F3qF54Y",
                    "created": "1676549685"
                  },
                  "2": "cricket081.txt",
                  "3": " this week so it was nice to get some wickets out there.  australia\"\n\nFootball",
                  "4": "cricket",
                  "5": "football"
                },
                {
                  "0": {
                    "model": "text-davinci-002",
                    "choices": [
                      {
                        "text": " today,\"\" roddick said.Tennis",
                        "index": 0,
                        "finish_reason": "stop"
                      }
                    ],
                    "object": "text_completion",
                    "id": "cmpl-6kXRulWl7cDDaJm9o7qLTyeqASSWH",
                    "created": "1676549686"
                  },
                  "2": "tennis094.txt",
                  "3": " today,\"\" roddick said.Tennis",
                  "4": "tennis",
                  "5": "tennis"
                },
                {
                  "0": {
                    "model": "text-davinci-002",
                    "choices": [
                      {
                        "text": ",\"\" a uka spokesman said.\"\"\n\nAthletics",
                        "index": 0,
                        "finish_reason": "stop"
                      }
                    ],
                    "object": "text_completion",
                    "id": "cmpl-6kXRuC1e4QGBvu82LTCOHx5WHIa4e",
                    "created": "1676549686"
                  },
                  "2": "atheletics099.txt",
                  "3": ",\"\" a uka spokesman said.\"\"\n\nAthletics",
                  "4": "atheletics",
                  "5": "atheletics"
                },
                {
                  "0": {
                    "model": "text-davinci-002",
                    "choices": [
                      {
                        "text": " but all three players are expected to be available for selection on saturday\"\n\nRugby",
                        "index": 0,
                        "finish_reason": "stop"
                      }
                    ],
                    "object": "text_completion",
                    "id": "cmpl-6kXRuyxwI9ybuOh36HQE9JKIBPobE",
                    "created": "1676549686"
                  },
                  "2": "rugby073.txt",
                  "3": " but all three players are expected to be available for selection on saturday\"\n\nRugby",
                  "4": "rugby",
                  "5": "rugby"
                },
                {
                  "0": {
                    "model": "text-davinci-002",
                    "choices": [
                      {
                        "text": ",\" said coach john Kirwan\n\nFootball",
                        "index": 0,
                        "finish_reason": "stop"
                      }
                    ],
                    "object": "text_completion",
                    "id": "cmpl-6kXRvIags0Pd8uNxgXNYpAlcPrw9n",
                    "created": "1676549687"
                  },
                  "2": "rugby067.txt",
                  "3": ",\" said coach john Kirwan\n\nFootball",
                  "4": "rugby",
                  "5": "football"
                },
                {
                  "0": {
                    "model": "text-davinci-002",
                    "choices": [
                      {
                        "text": ".  however, there has always been the Challenge of balancing my interests in playing for the country and also concentrating on building my career,\"\" he said.\"\n\nTennis",
                        "index": 0,
                        "finish_reason": "stop"
                      }
                    ],
                    "object": "text_completion",
                    "id": "cmpl-6kXRwwTx1kDIORBCKZMM5uzDc1P9D",
                    "created": "1676549688"
                  },
                  "2": "tennis080.txt",
                  "3": ".  however, there has always been the Challenge of balancing my interests in playing for the country and also concentrating on building my career,\"\" he said.\"\n\nTennis",
                  "4": "tennis",
                  "5": "tennis"
                },
                {
                  "0": {
                    "model": "text-davinci-002",
                    "choices": [
                      {
                        "text": "\n\nFootball",
                        "index": 0,
                        "finish_reason": "stop"
                      }
                    ],
                    "object": "text_completion",
                    "id": "cmpl-6kXRx8efYhg5SqBqZnPSZOeN19dGx",
                    "created": "1676549689"
                  },
                  "2": "football146.txt",
                  "3": "\n\nFootball",
                  "4": "football",
                  "5": "football"
                },
                {
                  "0": {
                    "model": "text-davinci-002",
                    "choices": [
                      {
                        "text": "\n\nFootball",
                        "index": 0,
                        "finish_reason": "stop"
                      }
                    ],
                    "object": "text_completion",
                    "id": "cmpl-6kXRx59qgGC4yGZWFVFCowBzbNw5w",
                    "created": "1676549689"
                  },
                  "2": "football152.txt",
                  "3": "\n\nFootball",
                  "4": "football",
                  "5": "football"
                },
                {
                  "0": {
                    "model": "text-davinci-002",
                    "choices": [
                      {
                        "text": " and i was not even thinking of winning when the match started,\"\" he said.\"\n\nTennis",
                        "index": 0,
                        "finish_reason": "stop"
                      }
                    ],
                    "object": "text_completion",
                    "id": "cmpl-6kXRyKh1LzZH4OCS7rucH8K21k5IH",
                    "created": "1676549690"
                  },
                  "2": "tennis057.txt",
                  "3": " and i was not even thinking of winning when the match started,\"\" he said.\"\n\nTennis",
                  "4": "tennis",
                  "5": "tennis"
                },
                {
                  "0": {
                    "model": "text-davinci-002",
                    "choices": [
                      {
                        "text": " game.\"\"\n\nTennis",
                        "index": 0,
                        "finish_reason": "stop"
                      }
                    ],
                    "object": "text_completion",
                    "id": "cmpl-6kXRykO9xbHprCkGYSHirIXDf1dkG",
                    "created": "1676549690"
                  },
                  "2": "tennis043.txt",
                  "3": " game.\"\"\n\nTennis",
                  "4": "tennis",
                  "5": "tennis"
                },
                {
                  "0": {
                    "model": "text-davinci-002",
                    "choices": [
                      {
                        "text": " and make us a bit more competitive. i think if you look at the squad we have got, it needs a bit of strengthening. we got some targets in january and we hope to land one or two players in the summer.\"Football",
                        "index": 0,
                        "finish_reason": "stop"
                      }
                    ],
                    "object": "text_completion",
                    "id": "cmpl-6kXRzTTIs4gN7ubO4R4b2KxJFFGEO",
                    "created": "1676549691"
                  },
                  "2": "football185.txt",
                  "3": " and make us a bit more competitive. i think if you look at the squad we have got, it needs a bit of strengthening. we got some targets in january and we hope to land one or two players in the summer.\"Football",
                  "4": "football",
                  "5": "football"
                },
                {
                  "0": {
                    "model": "text-davinci-002",
                    "choices": [
                      {
                        "text": "\n\nAthletics",
                        "index": 0,
                        "finish_reason": "stop"
                      }
                    ],
                    "object": "text_completion",
                    "id": "cmpl-6kXS0c2MoDBhBkKiJuFDJQmBVU21a",
                    "created": "1676549692"
                  },
                  "2": "atheletics066.txt",
                  "3": "\n\nAthletics",
                  "4": "atheletics",
                  "5": "atheletics"
                },
                {
                  "0": {
                    "model": "text-davinci-002",
                    "choices": [
                      {
                        "text": " we expected a big backlash in the second half and got it,\"\" said fridays afterwards. \"\"Fiji nearly snatched it from us, but we did enough to keep our heads and win it.\"\"\n\nRugby",
                        "index": 0,
                        "finish_reason": "stop"
                      }
                    ],
                    "object": "text_completion",
                    "id": "cmpl-6kXS1CQFsJKI6xEKmp4l7LoOWY2Nu",
                    "created": "1676549693"
                  },
                  "2": "rugby098.txt",
                  "3": " we expected a big backlash in the second half and got it,\"\" said fridays afterwards. \"\"Fiji nearly snatched it from us, but we did enough to keep our heads and win it.\"\"\n\nRugby",
                  "4": "rugby",
                  "5": "rugby"
                },
                {
                  "0": {
                    "model": "text-davinci-002",
                    "choices": [
                      {
                        "text": ". but we know how difficult it is,\" said mourinho.\n\nFootball",
                        "index": 0,
                        "finish_reason": "stop"
                      }
                    ],
                    "object": "text_completion",
                    "id": "cmpl-6kXS17jligaB9PrzDImUwW7qZDjhV",
                    "created": "1676549693"
                  },
                  "2": "football191.txt",
                  "3": ". but we know how difficult it is,\" said mourinho.\n\nFootball",
                  "4": "football",
                  "5": "football"
                },
                {
                  "0": {
                    "model": "text-davinci-002",
                    "choices": [
                      {
                        "text": "\n\nRunning",
                        "index": 0,
                        "finish_reason": "stop"
                      }
                    ],
                    "object": "text_completion",
                    "id": "cmpl-6kXS2VqXU5OaoxnyJ5nuTDxmpruUL",
                    "created": "1676549694"
                  },
                  "2": "atheletics072.txt",
                  "3": "\n\nRunning",
                  "4": "atheletics",
                  "5": ""
                },
                {
                  "0": {
                    "model": "text-davinci-002",
                    "choices": [
                      {
                        "text": ",\"\" johnson said.\"\"\n\nAthletics",
                        "index": 0,
                        "finish_reason": "stop"
                      }
                    ],
                    "object": "text_completion",
                    "id": "cmpl-6kXS2bz8bJYPMsqccFpfdVsFe2LZI",
                    "created": "1676549694"
                  },
                  "2": "atheletics073.txt",
                  "3": ",\"\" johnson said.\"\"\n\nAthletics",
                  "4": "atheletics",
                  "5": "atheletics"
                },
                {
                  "0": {
                    "model": "text-davinci-002",
                    "choices": [
                      {
                        "text": " and whistle and whistle\"\"\n\nFootball",
                        "index": 0,
                        "finish_reason": "stop"
                      }
                    ],
                    "object": "text_completion",
                    "id": "cmpl-6kXS3iWQ3w43rm44OaqXv7OkhHDId",
                    "created": "1676549695"
                  },
                  "2": "football190.txt",
                  "3": " and whistle and whistle\"\"\n\nFootball",
                  "4": "football",
                  "5": "football"
                },
                {
                  "0": {
                    "model": "text-davinci-002",
                    "choices": [
                      {
                        "text": " successive tries from joe richardson and carl hayman put the visitors in total command. more tries from brett sheehan and Darren albert came late on but nothing could salvage what was a poor match.\n\nRugby",
                        "index": 0,
                        "finish_reason": "stop"
                      }
                    ],
                    "object": "text_completion",
                    "id": "cmpl-6kXS3WPybNCbipgascMzzI337Db05",
                    "created": "1676549695"
                  },
                  "2": "rugby099.txt",
                  "3": " successive tries from joe richardson and carl hayman put the visitors in total command. more tries from brett sheehan and Darren albert came late on but nothing could salvage what was a poor match.\n\nRugby",
                  "4": "rugby",
                  "5": "rugby"
                },
                {
                  "0": {
                    "model": "text-davinci-002",
                    "choices": [
                      {
                        "text": ". i just need to work hard,\" lewis-francis told the sun newspaper.\"\n\nAthletics",
                        "index": 0,
                        "finish_reason": "stop"
                      }
                    ],
                    "object": "text_completion",
                    "id": "cmpl-6kXS50GFY7fOADLCCUZZdWcZAlGAx",
                    "created": "1676549697"
                  },
                  "2": "atheletics067.txt",
                  "3": ". i just need to work hard,\" lewis-francis told the sun newspaper.\"\n\nAthletics",
                  "4": "atheletics",
                  "5": "atheletics"
                },
                {
                  "0": {
                    "model": "text-davinci-002",
                    "choices": [
                      {
                        "text": "\n\nFootball",
                        "index": 0,
                        "finish_reason": "stop"
                      }
                    ],
                    "object": "text_completion",
                    "id": "cmpl-6kXS6UBvR2r48RHwQd2y69uH6rDps",
                    "created": "1676549698"
                  },
                  "2": "football184.txt",
                  "3": "\n\nFootball",
                  "4": "football",
                  "5": "football"
                },
                {
                  "0": {
                    "model": "text-davinci-002",
                    "choices": [
                      {
                        "text": " right now - its the best its ever been,\" navratilova told bbc five live. \"i can still play and enjoy it and take advantage of it while im still in shape. id be stupid not to.\"\n\nTennis",
                        "index": 0,
                        "finish_reason": "stop"
                      }
                    ],
                    "object": "text_completion",
                    "id": "cmpl-6kXS6Fdahbh79uvs71Qyb04Ukm7Tv",
                    "created": "1676549698"
                  },
                  "2": "tennis042.txt",
                  "3": " right now - its the best its ever been,\" navratilova told bbc five live. \"i can still play and enjoy it and take advantage of it while im still in shape. id be stupid not to.\"\n\nTennis",
                  "4": "tennis",
                  "5": "tennis"
                },
                {
                  "0": {
                    "model": "text-davinci-002",
                    "choices": [
                      {
                        "text": ", anywhere and especially in australia on the hard court,\" said henman. \"\n\nTennis",
                        "index": 0,
                        "finish_reason": "stop"
                      }
                    ],
                    "object": "text_completion",
                    "id": "cmpl-6kXS7FXAOHGHdwJ6CXRqwVtcpxJVT",
                    "created": "1676549699"
                  },
                  "2": "tennis056.txt",
                  "3": ", anywhere and especially in australia on the hard court,\" said henman. \"\n\nTennis",
                  "4": "tennis",
                  "5": "tennis"
                },
                {
                  "0": {
                    "model": "text-davinci-002",
                    "choices": [
                      {
                        "text": ",\"\" he said. \"\"basically, everyone left the stadium in an orderly fashion and with good humour. we had a lot of people in the stadium and they behaved well.\"\"\n\nFootball",
                        "index": 0,
                        "finish_reason": "stop"
                      }
                    ],
                    "object": "text_completion",
                    "id": "cmpl-6kXS8UXS2NKZiwvHW8mDopCCE5hkh",
                    "created": "1676549700"
                  },
                  "2": "football153.txt",
                  "3": ",\"\" he said. \"\"basically, everyone left the stadium in an orderly fashion and with good humour. we had a lot of people in the stadium and they behaved well.\"\"\n\nFootball",
                  "4": "football",
                  "5": "football"
                },
                {
                  "0": {
                    "model": "text-davinci-002",
                    "choices": [
                      {
                        "text": " nomar garciaparra, a baseball player.\")\n\nFootball",
                        "index": 0,
                        "finish_reason": "stop"
                      }
                    ],
                    "object": "text_completion",
                    "id": "cmpl-6kXS9Iv4F4Sr9finUAskUFt0FEaxl",
                    "created": "1676549701"
                  },
                  "2": "football147.txt",
                  "3": " nomar garciaparra, a baseball player.\")\n\nFootball",
                  "4": "football",
                  "5": "football"
                },
                {
                  "0": {
                    "model": "text-davinci-002",
                    "choices": [
                      {
                        "text": ".\n\nRugby",
                        "index": 0,
                        "finish_reason": "stop"
                      }
                    ],
                    "object": "text_completion",
                    "id": "cmpl-6kXS9XHVCCeFqMz1WHzXfyLU7xToN",
                    "created": "1676549701"
                  },
                  "2": "rugby066.txt",
                  "3": ".\n\nRugby",
                  "4": "rugby",
                  "5": "rugby"
                },
                {
                  "0": {
                    "model": "text-davinci-002",
                    "choices": [
                      {
                        "text": ". i think we both played well. i was making mistakes but i was so glad to get through it.\"\"\n\nTennis",
                        "index": 0,
                        "finish_reason": "stop"
                      }
                    ],
                    "object": "text_completion",
                    "id": "cmpl-6kXS9IiC1kpGv4ganeRzgWVIsiiY9",
                    "created": "1676549701"
                  },
                  "2": "tennis081.txt",
                  "3": ". i think we both played well. i was making mistakes but i was so glad to get through it.\"\"\n\nTennis",
                  "4": "tennis",
                  "5": "tennis"
                },
                {
                  "0": {
                    "model": "text-davinci-002",
                    "choices": [
                      {
                        "text": ",\"\" he said. \"\"i'd lost my rhythm by the end.\"\"\n\nTennis",
                        "index": 0,
                        "finish_reason": "stop"
                      }
                    ],
                    "object": "text_completion",
                    "id": "cmpl-6kXSAbarOQphNYsNzm0sN2Y4CvC6O",
                    "created": "1676549702"
                  },
                  "2": "tennis095.txt",
                  "3": ",\"\" he said. \"\"i'd lost my rhythm by the end.\"\"\n\nTennis",
                  "4": "tennis",
                  "5": "tennis"
                },
                {
                  "0": {
                    "model": "text-davinci-002",
                    "choices": [
                      {
                        "text": ",\" wales coach steve hansen said.\n\nRugby",
                        "index": 0,
                        "finish_reason": "stop"
                      }
                    ],
                    "object": "text_completion",
                    "id": "cmpl-6kXSAVqbW5gChcKq4axcREXEIwGLd",
                    "created": "1676549702"
                  },
                  "2": "rugby072.txt",
                  "3": ",\" wales coach steve hansen said.\n\nRugby",
                  "4": "rugby",
                  "5": "rugby"
                },
                {
                  "0": {
                    "model": "text-davinci-002",
                    "choices": [
                      {
                        "text": ",\" lewis-francis said.\"\n\nAthletics",
                        "index": 0,
                        "finish_reason": "stop"
                      }
                    ],
                    "object": "text_completion",
                    "id": "cmpl-6kXSAG408VSwgIa9PqxBDRnaknrJ2",
                    "created": "1676549702"
                  },
                  "2": "atheletics098.txt",
                  "3": ",\" lewis-francis said.\"\n\nAthletics",
                  "4": "atheletics",
                  "5": "atheletics"
                },
                {
                  "0": {
                    "model": "text-davinci-002",
                    "choices": [
                      {
                        "text": "\n\nCricket",
                        "index": 0,
                        "finish_reason": "stop"
                      }
                    ],
                    "object": "text_completion",
                    "id": "cmpl-6kXSBjcwEUf33EvKc0vj0cv0PcchH",
                    "created": "1676549703"
                  },
                  "2": "cricket080.txt",
                  "3": "\n\nCricket",
                  "4": "cricket",
                  "5": "cricket"
                },
                {
                  "0": {
                    "model": "text-davinci-002",
                    "choices": [
                      {
                        "text": " and lokuarachchi now play for sri lanka ' a ' and england ' respectively\n\nCricket",
                        "index": 0,
                        "finish_reason": "stop"
                      }
                    ],
                    "object": "text_completion",
                    "id": "cmpl-6kXSBUvU8OSNvbb0EFIqQA1g2SnQT",
                    "created": "1676549703"
                  },
                  "2": "cricket094.txt",
                  "3": " and lokuarachchi now play for sri lanka ' a ' and england ' respectively\n\nCricket",
                  "4": "cricket",
                  "5": "cricket"
                },
                {
                  "0": {
                    "model": "text-davinci-002",
                    "choices": [
                      {
                        "text": ". were disappointed with having to follow on in cape town, but theres still enough fight in us to win the series.\"\"\n\nCricket",
                        "index": 0,
                        "finish_reason": "stop"
                      }
                    ],
                    "object": "text_completion",
                    "id": "cmpl-6kXSCPrEml3scBFIivX1uMYh8TRFB",
                    "created": "1676549704"
                  },
                  "2": "cricket043.txt",
                  "3": ". were disappointed with having to follow on in cape town, but theres still enough fight in us to win the series.\"\"\n\nCricket",
                  "4": "cricket",
                  "5": "cricket"
                },
                {
                  "0": {
                    "model": "text-davinci-002",
                    "choices": [
                      {
                        "text": ",\"\" ganguly told reporters.\n\nCricket",
                        "index": 0,
                        "finish_reason": "stop"
                      }
                    ],
                    "object": "text_completion",
                    "id": "cmpl-6kXSCRCIKigHJRzHmL5d5Wafiw5qL",
                    "created": "1676549704"
                  },
                  "2": "cricket057.txt",
                  "3": ",\"\" ganguly told reporters.\n\nCricket",
                  "4": "cricket",
                  "5": "cricket"
                },
                {
                  "0": {
                    "model": "text-davinci-002",
                    "choices": [
                      {
                        "text": ", i'm in good shape, but i'm not going to carry on playing football,\" he said on radio.\n\nFootball",
                        "index": 0,
                        "finish_reason": "stop"
                      }
                    ],
                    "object": "text_completion",
                    "id": "cmpl-6kXSCrkd6utgMMMtuCbGWR7Hxx505",
                    "created": "1676549704"
                  },
                  "2": "football225.txt",
                  "3": ", i'm in good shape, but i'm not going to carry on playing football,\" he said on radio.\n\nFootball",
                  "4": "football",
                  "5": "football"
                },
                {
                  "0": {
                    "model": "text-davinci-002",
                    "choices": [
                      {
                        "text": ",\" he said\"\n\nCricket",
                        "index": 0,
                        "finish_reason": "stop"
                      }
                    ],
                    "object": "text_completion",
                    "id": "cmpl-6kXSDYRurAWNDHMCoFeGLYE8w68m0",
                    "created": "1676549705"
                  },
                  "2": "cricket123.txt",
                  "3": ",\" he said\"\n\nCricket",
                  "4": "cricket",
                  "5": "cricket"
                },
                {
                  "0": {
                    "model": "text-davinci-002",
                    "choices": [
                      {
                        "text": ",\"\" she told reporters. \"\"this award is recognition for all of the hard work i do and an incentive to carry on working hard. to be honest, i never thought id win.\"\"\n\nFootball",
                        "index": 0,
                        "finish_reason": "stop"
                      }
                    ],
                    "object": "text_completion",
                    "id": "cmpl-6kXSDtVYsUmLX9FdjqRtuepHpVS8c",
                    "created": "1676549705"
                  },
                  "2": "football231.txt",
                  "3": ",\"\" she told reporters. \"\"this award is recognition for all of the hard work i do and an incentive to carry on working hard. to be honest, i never thought id win.\"\"\n\nFootball",
                  "4": "football",
                  "5": "football"
                },
                {
                  "0": {
                    "model": "text-davinci-002",
                    "choices": [
                      {
                        "text": "\n\nFootball",
                        "index": 0,
                        "finish_reason": "stop"
                      }
                    ],
                    "object": "text_completion",
                    "id": "cmpl-6kXSEwO4EPfj7IfvJpQjEnMD2qnDt",
                    "created": "1676549706"
                  },
                  "2": "football219.txt",
                  "3": "\n\nFootball",
                  "4": "football",
                  "5": "football"
                },
                {
                  "0": {
                    "model": "text-davinci-002",
                    "choices": [
                      {
                        "text": " or £40m. if we got £30m for him i think wed make a loss anyway.\n\"\n\nFootball",
                        "index": 0,
                        "finish_reason": "stop"
                      }
                    ],
                    "object": "text_completion",
                    "id": "cmpl-6kXSEv1MiprejiSTjMEALXYagrEpr",
                    "created": "1676549706"
                  },
                  "2": "football027.txt",
                  "3": " or £40m. if we got £30m for him i think wed make a loss anyway.\n\"\n\nFootball",
                  "4": "football",
                  "5": "football"
                },
                {
                  "0": {
                    "model": "text-davinci-002",
                    "choices": [
                      {
                        "text": " with the australia squad.\"\n\nFootball",
                        "index": 0,
                        "finish_reason": "stop"
                      }
                    ],
                    "object": "text_completion",
                    "id": "cmpl-6kXSGbtGJvJ6s81rImn955ZVvf8wG",
                    "created": "1676549708"
                  },
                  "2": "football033.txt",
                  "3": " with the australia squad.\"\n\nFootball",
                  "4": "football",
                  "5": "football"
                },
                {
                  "0": {
                    "model": "text-davinci-002",
                    "choices": [
                      {
                        "text": ", i am sad to say that we did not see eye to eye, said kafer. \"\"there was no other option but to leave the club. \"\"i have not regretted my decision to come to saracens and thank the players, staff and everyone who has been part of the family over the past two and a half years.\"\n\nRugby",
                        "index": 0,
                        "finish_reason": "stop"
                      }
                    ],
                    "object": "text_completion",
                    "id": "cmpl-6kXSGuFo4JFgMU9lbGlrUnS4TpIoP",
                    "created": "1676549708"
                  },
                  "2": "rugby112.txt",
                  "3": ", i am sad to say that we did not see eye to eye, said kafer. \"\"there was no other option but to leave the club. \"\"i have not regretted my decision to come to saracens and thank the players, staff and everyone who has been part of the family over the past two and a half years.\"\n\nRugby",
                  "4": "rugby",
                  "5": "rugby"
                },
                {
                  "0": {
                    "model": "text-davinci-002",
                    "choices": [
                      {
                        "text": ". im happy with my form and arent thinking about retirement.\"\"\n\nRugby",
                        "index": 0,
                        "finish_reason": "stop"
                      }
                    ],
                    "object": "text_completion",
                    "id": "cmpl-6kXSIrSSdL3OGohXSFPATVxfRdtxE",
                    "created": "1676549710"
                  },
                  "2": "rugby106.txt",
                  "3": ". im happy with my form and arent thinking about retirement.\"\"\n\nRugby",
                  "4": "rugby",
                  "5": "rugby"
                },
                {
                  "0": {
                    "model": "text-davinci-002",
                    "choices": [
                      {
                        "text": " morning.  \"\"\n\nFootball",
                        "index": 0,
                        "finish_reason": "stop"
                      }
                    ],
                    "object": "text_completion",
                    "id": "cmpl-6kXSIx2J2NPzSTgfDjjHnK9Hdxl8S",
                    "created": "1676549710"
                  },
                  "2": "football016.txt",
                  "3": " morning.  \"\"\n\nFootball",
                  "4": "football",
                  "5": "football"
                },
                {
                  "0": {
                    "model": "text-davinci-002",
                    "choices": [
                      {
                        "text": "\"\n\nFootball",
                        "index": 0,
                        "finish_reason": "stop"
                      }
                    ],
                    "object": "text_completion",
                    "id": "cmpl-6kXSIUTnHAr1OhaJDnSxLmG4MTCbb",
                    "created": "1676549710"
                  },
                  "2": "football002.txt",
                  "3": "\"\n\nFootball",
                  "4": "football",
                  "5": "football"
                },
                {
                  "0": {
                    "model": "text-davinci-002",
                    "choices": [
                      {
                        "text": ",\"\" said the ospreys prop.  \"\"we are just concentrating on the next match against england at twickenham.\"\"\n\nRugby",
                        "index": 0,
                        "finish_reason": "stop"
                      }
                    ],
                    "object": "text_completion",
                    "id": "cmpl-6kXSKKE4cRTQC0qYHk42rx25ClcYe",
                    "created": "1676549712"
                  },
                  "2": "rugby123.txt",
                  "3": ",\"\" said the ospreys prop.  \"\"we are just concentrating on the next match against england at twickenham.\"\"\n\nRugby",
                  "4": "rugby",
                  "5": "rugby"
                },
                {
                  "0": {
                    "model": "text-davinci-002",
                    "choices": [
                      {
                        "text": " to have him back in the squad this weekend,\" said coach brian murphy\"\"\n\nRugby",
                        "index": 0,
                        "finish_reason": "stop"
                      }
                    ],
                    "object": "text_completion",
                    "id": "cmpl-6kXSKyXh8C2WjvFLlkhRpAd81dooZ",
                    "created": "1676549712"
                  },
                  "2": "rugby137.txt",
                  "3": " to have him back in the squad this weekend,\" said coach brian murphy\"\"\n\nRugby",
                  "4": "rugby",
                  "5": "rugby"
                },
                {
                  "0": {
                    "model": "text-davinci-002",
                    "choices": [
                      {
                        "text": ",\"\" the letter said.\"\n\nCricket",
                        "index": 0,
                        "finish_reason": "stop"
                      }
                    ],
                    "object": "text_completion",
                    "id": "cmpl-6kXSL5D2BVxUEh8NbKjHMICUza5J3",
                    "created": "1676549713"
                  },
                  "2": "cricket106.txt",
                  "3": ",\"\" the letter said.\"\n\nCricket",
                  "4": "cricket",
                  "5": "cricket"
                },
                {
                  "0": {
                    "model": "text-davinci-002",
                    "choices": [
                      {
                        "text": " or anything like this, it is simply whether the ball crosses the line - that is the hard and fast rule. the electronic aid would help the referee get the verdict right.\"\"\n\nFootball",
                        "index": 0,
                        "finish_reason": "stop"
                      }
                    ],
                    "object": "text_completion",
                    "id": "cmpl-6kXSLJEXSpan54lllQ4CWq65dvHrb",
                    "created": "1676549713"
                  },
                  "2": "football214.txt",
                  "3": " or anything like this, it is simply whether the ball crosses the line - that is the hard and fast rule. the electronic aid would help the referee get the verdict right.\"\"\n\nFootball",
                  "4": "football",
                  "5": "football"
                },
                {
                  "0": {
                    "model": "text-davinci-002",
                    "choices": [
                      {
                        "text": ",\" beckham told reporters.\n\nFootball",
                        "index": 0,
                        "finish_reason": "stop"
                      }
                    ],
                    "object": "text_completion",
                    "id": "cmpl-6kXSMXsDcJAd7KAbZhhqqYMvOYFqw",
                    "created": "1676549714"
                  },
                  "2": "football200.txt",
                  "3": ",\" beckham told reporters.\n\nFootball",
                  "4": "football",
                  "5": "football"
                },
                {
                  "0": {
                    "model": "text-davinci-002",
                    "choices": [
                      {
                        "text": "\n\nCricket",
                        "index": 0,
                        "finish_reason": "stop"
                      }
                    ],
                    "object": "text_completion",
                    "id": "cmpl-6kXSMHW6YIdXa4SGRxynXQm6MiPD2",
                    "created": "1676549714"
                  },
                  "2": "cricket112.txt",
                  "3": "\n\nCricket",
                  "4": "cricket",
                  "5": "cricket"
                },
                {
                  "0": {
                    "model": "text-davinci-002",
                    "choices": [
                      {
                        "text": " but he's a very good player.\n\nFootball",
                        "index": 0,
                        "finish_reason": "stop"
                      }
                    ],
                    "object": "text_completion",
                    "id": "cmpl-6kXSM3iNdBG2lyqVTIN5RygqL5eYa",
                    "created": "1676549714"
                  },
                  "2": "football228.txt",
                  "3": " but he's a very good player.\n\nFootball",
                  "4": "football",
                  "5": "football"
                },
                {
                  "0": {
                    "model": "text-davinci-002",
                    "choices": [
                      {
                        "text": "\n\nCricket",
                        "index": 0,
                        "finish_reason": "stop"
                      }
                    ],
                    "object": "text_completion",
                    "id": "cmpl-6kXSNJFXEg2W98pJgtR0KBTR2bxpV",
                    "created": "1676549715"
                  },
                  "2": "cricket072.txt",
                  "3": "\n\nCricket",
                  "4": "cricket",
                  "5": "cricket"
                },
                {
                  "0": {
                    "model": "text-davinci-002",
                    "choices": [
                      {
                        "text": ".\n\nCricket",
                        "index": 0,
                        "finish_reason": "stop"
                      }
                    ],
                    "object": "text_completion",
                    "id": "cmpl-6kXSNHlcjxcAkW0WsTNf0PBvcrX5l",
                    "created": "1676549715"
                  },
                  "2": "cricket066.txt",
                  "3": ".\n\nCricket",
                  "4": "cricket",
                  "5": "cricket"
                },
                {
                  "0": {
                    "model": "text-davinci-002",
                    "choices": [
                      {
                        "text": " that was the problem but more the quality of them,\"\" he said.\n\nCricket",
                        "index": 0,
                        "finish_reason": "stop"
                      }
                    ],
                    "object": "text_completion",
                    "id": "cmpl-6kXSNwonWQ3nMqrardom678GEShFj",
                    "created": "1676549715"
                  },
                  "2": "cricket099.txt",
                  "3": " that was the problem but more the quality of them,\"\" he said.\n\nCricket",
                  "4": "cricket",
                  "5": "cricket"
                },
                {
                  "0": {
                    "model": "text-davinci-002",
                    "choices": [
                      {
                        "text": " by the cas in order to talk. iaaf rules apply. they were expected to react like this,\"\" the greek federation said in a statement.\n\nFootball",
                        "index": 0,
                        "finish_reason": "stop"
                      }
                    ],
                    "object": "text_completion",
                    "id": "cmpl-6kXSOogY0ZyeJTSyqZuoHPZ9IDpu6",
                    "created": "1676549716"
                  },
                  "2": "atheletics081.txt",
                  "3": " by the cas in order to talk. iaaf rules apply. they were expected to react like this,\"\" the greek federation said in a statement.\n\nFootball",
                  "4": "atheletics",
                  "5": "football"
                },
                {
                  "0": {
                    "model": "text-davinci-002",
                    "choices": [
                      {
                        "text": "\n\nFootball",
                        "index": 0,
                        "finish_reason": "stop"
                      }
                    ],
                    "object": "text_completion",
                    "id": "cmpl-6kXSO4SgwxYTvLmRMQsDVR2aNB9f8",
                    "created": "1676549716"
                  },
                  "2": "football162.txt",
                  "3": "\n\nFootball",
                  "4": "football",
                  "5": "football"
                },
                {
                  "0": {
                    "model": "text-davinci-002",
                    "choices": [
                      {
                        "text": " through the second set and i was glad to get out of that.\"\"\n\nTennis",
                        "index": 0,
                        "finish_reason": "stop"
                      }
                    ],
                    "object": "text_completion",
                    "id": "cmpl-6kXSPInr0diyDiav7fYeZlkAVzMPY",
                    "created": "1676549717"
                  },
                  "2": "tennis098.txt",
                  "3": " through the second set and i was glad to get out of that.\"\"\n\nTennis",
                  "4": "tennis",
                  "5": "tennis"
                },
                {
                  "0": {
                    "model": "text-davinci-002",
                    "choices": [
                      {
                        "text": ",\"\n\nTrack and Field",
                        "index": 0,
                        "finish_reason": "stop"
                      }
                    ],
                    "object": "text_completion",
                    "id": "cmpl-6kXSPOSNVf4YehyTgDWrEEyaGHkrD",
                    "created": "1676549717"
                  },
                  "2": "atheletics095.txt",
                  "3": ",\"\n\nTrack and Field",
                  "4": "atheletics",
                  "5": ""
                },
                {
                  "0": {
                    "model": "text-davinci-002",
                    "choices": [
                      {
                        "text": ",\" strachan told bbc radio solent.\"\n\nFootball",
                        "index": 0,
                        "finish_reason": "stop"
                      }
                    ],
                    "object": "text_completion",
                    "id": "cmpl-6kXSPwlgKev6MDpHsJ7G5hW0ElRse",
                    "created": "1676549717"
                  },
                  "2": "football176.txt",
                  "3": ",\" strachan told bbc radio solent.\"\n\nFootball",
                  "4": "football",
                  "5": "football"
                },
                {
                  "0": {
                    "model": "text-davinci-002",
                    "choices": [
                      {
                        "text": " and now against wales. the patience of french fans is very small when you lose.\"\"\n\nFootball",
                        "index": 0,
                        "finish_reason": "stop"
                      }
                    ],
                    "object": "text_completion",
                    "id": "cmpl-6kXSRs4Lhxz0EWR3Fg43MG153m4Hu",
                    "created": "1676549719"
                  },
                  "2": "rugby057.txt",
                  "3": " and now against wales. the patience of french fans is very small when you lose.\"\"\n\nFootball",
                  "4": "rugby",
                  "5": "football"
                },
                {
                  "0": {
                    "model": "text-davinci-002",
                    "choices": [
                      {
                        "text": ". rugby is a funny game when you make mistakes, you are punished for it. \"\"there are a lot of new lads in the squad who have not experienced a loss like that before. hopefully well get over it quickly and concentrate on what lies ahead.\"\"\n\nRugby",
                        "index": 0,
                        "finish_reason": "stop"
                      }
                    ],
                    "object": "text_completion",
                    "id": "cmpl-6kXSRChZ2hrSjLmwuxfCmWcpCYFE1",
                    "created": "1676549719"
                  },
                  "2": "rugby043.txt",
                  "3": ". rugby is a funny game when you make mistakes, you are punished for it. \"\"there are a lot of new lads in the squad who have not experienced a loss like that before. hopefully well get over it quickly and concentrate on what lies ahead.\"\"\n\nRugby",
                  "4": "rugby",
                  "5": "rugby"
                },
                {
                  "0": {
                    "model": "text-davinci-002",
                    "choices": [
                      {
                        "text": ",\" radcliffe said.  \"\n\nRadcliffe's article would fall under the category of Athletics.",
                        "index": 0,
                        "finish_reason": "stop"
                      }
                    ],
                    "object": "text_completion",
                    "id": "cmpl-6kXSSES2z5TYag1nnqFG0jN2Ml9kW",
                    "created": "1676549720"
                  },
                  "2": "atheletics042.txt",
                  "3": ",\" radcliffe said.  \"\n\nRadcliffe's article would fall under the category of Athletics.",
                  "4": "atheletics",
                  "5": "atheletics"
                },
                {
                  "0": {
                    "model": "text-davinci-002",
                    "choices": [
                      {
                        "text": " before the olympics. i watched her and she is a very good athlete. Athletics",
                        "index": 0,
                        "finish_reason": "stop"
                      }
                    ],
                    "object": "text_completion",
                    "id": "cmpl-6kXSTDIetvjDL7wWkDlVd8VdeWYXx",
                    "created": "1676549721"
                  },
                  "2": "atheletics056.txt",
                  "3": " before the olympics. i watched her and she is a very good athlete. Athletics",
                  "4": "atheletics",
                  "5": "atheletics"
                },
                {
                  "0": {
                    "model": "text-davinci-002",
                    "choices": [
                      {
                        "text": "\n\nSchool\n\nFootball",
                        "index": 0,
                        "finish_reason": "stop"
                      }
                    ],
                    "object": "text_completion",
                    "id": "cmpl-6kXST2htQpnObOgeC8lsty3tiMRsf",
                    "created": "1676549721"
                  },
                  "2": "rugby094.txt",
                  "3": "\n\nSchool\n\nFootball",
                  "4": "rugby",
                  "5": "football"
                },
                {
                  "0": {
                    "model": "text-davinci-002",
                    "choices": [
                      {
                        "text": " to come.\n\nTennis",
                        "index": 0,
                        "finish_reason": "stop"
                      }
                    ],
                    "object": "text_completion",
                    "id": "cmpl-6kXSVAFqKvwE7BJ7HuHcngTAdmbpd",
                    "created": "1676549723"
                  },
                  "2": "tennis073.txt",
                  "3": " to come.\n\nTennis",
                  "4": "tennis",
                  "5": "tennis"
                },
                {
                  "0": {
                    "model": "text-davinci-002",
                    "choices": [
                      {
                        "text": " it is faster. you would expect it to be the same speed for all four grand slams.\"\"\")\n\nTennis",
                        "index": 0,
                        "finish_reason": "stop"
                      }
                    ],
                    "object": "text_completion",
                    "id": "cmpl-6kXSVeTgXYlf16OfzBs189lWNWkSy",
                    "created": "1676549723"
                  },
                  "2": "tennis067.txt",
                  "3": " it is faster. you would expect it to be the same speed for all four grand slams.\"\"\")\n\nTennis",
                  "4": "tennis",
                  "5": "tennis"
                },
                {
                  "0": {
                    "model": "text-davinci-002",
                    "choices": [
                      {
                        "text": ", it was him.calder fears for scottish rugby\n\nRugby",
                        "index": 0,
                        "finish_reason": "stop"
                      }
                    ],
                    "object": "text_completion",
                    "id": "cmpl-6kXSWCVhCAqP6dZMwJBlJiO3c6eXd",
                    "created": "1676549724"
                  },
                  "2": "rugby080.txt",
                  "3": ", it was him.calder fears for scottish rugby\n\nRugby",
                  "4": "rugby",
                  "5": "rugby"
                },
                {
                  "0": {
                    "model": "text-davinci-002",
                    "choices": [
                      {
                        "text": "?\"\" he said on sky sports.\n\nFootball",
                        "index": 0,
                        "finish_reason": "stop"
                      }
                    ],
                    "object": "text_completion",
                    "id": "cmpl-6kXSXXcor0JjTUdXzSCeagdLmUa6F",
                    "created": "1676549725"
                  },
                  "2": "football189.txt",
                  "3": "?\"\" he said on sky sports.\n\nFootball",
                  "4": "football",
                  "5": "football"
                },
                {
                  "0": {
                    "model": "text-davinci-002",
                    "choices": [
                      {
                        "text": ",\"\" said hewitt after the match. \"\"i just dont know what to say.\"\"\n\nTennis",
                        "index": 0,
                        "finish_reason": "stop"
                      }
                    ],
                    "object": "text_completion",
                    "id": "cmpl-6kXSXVkzoElNjDdmnaGVCLywaZnsb",
                    "created": "1676549725"
                  },
                  "2": "tennis066.txt",
                  "3": ",\"\" said hewitt after the match. \"\"i just dont know what to say.\"\"\n\nTennis",
                  "4": "tennis",
                  "5": "tennis"
                },
                {
                  "0": {
                    "model": "text-davinci-002",
                    "choices": [
                      {
                        "text": ",\" said ferguson.\n\nFootball",
                        "index": 0,
                        "finish_reason": "stop"
                      }
                    ],
                    "object": "text_completion",
                    "id": "cmpl-6kXSXkim4HJ1kNZ1ts3YWTzMo2tvw",
                    "created": "1676549725"
                  },
                  "2": "football188.txt",
                  "3": ",\" said ferguson.\n\nFootball",
                  "4": "football",
                  "5": "football"
                },
                {
                  "0": {
                    "model": "text-davinci-002",
                    "choices": [
                      {
                        "text": "\n\nRugby",
                        "index": 0,
                        "finish_reason": "stop"
                      }
                    ],
                    "object": "text_completion",
                    "id": "cmpl-6kXSYE2epdX4wOeGSZCHKcqsVhJ8v",
                    "created": "1676549726"
                  },
                  "2": "rugby081.txt",
                  "3": "\n\nRugby",
                  "4": "rugby",
                  "5": "rugby"
                },
                {
                  "0": {
                    "model": "text-davinci-002",
                    "choices": [
                      {
                        "text": ". it will be a tough challenge,\"\" he said of the ireland v usa (sat) saturday 20 november lansdowne road, dublin 1300 gmt\"\n\nRugby",
                        "index": 0,
                        "finish_reason": "stop"
                      }
                    ],
                    "object": "text_completion",
                    "id": "cmpl-6kXSYPbNrfRbYg4eBvzSY8wciD4HB",
                    "created": "1676549726"
                  },
                  "2": "rugby095.txt",
                  "3": ". it will be a tough challenge,\"\" he said of the ireland v usa (sat) saturday 20 november lansdowne road, dublin 1300 gmt\"\n\nRugby",
                  "4": "rugby",
                  "5": "rugby"
                },
                {
                  "0": {
                    "model": "text-davinci-002",
                    "choices": [
                      {
                        "text": ",\" he said.\"\n\nTennis",
                        "index": 0,
                        "finish_reason": "stop"
                      }
                    ],
                    "object": "text_completion",
                    "id": "cmpl-6kXSafTL8M5Wb8w9nceqeiQrd05Mp",
                    "created": "1676549728"
                  },
                  "2": "tennis072.txt",
                  "3": ",\" he said.\"\n\nTennis",
                  "4": "tennis",
                  "5": "tennis"
                },
                {
                  "0": {
                    "model": "text-davinci-002",
                    "choices": [
                      {
                        "text": " in madrid, where she had been due to defend her 800m title from two years ago\n\nAthletics",
                        "index": 0,
                        "finish_reason": "stop"
                      }
                    ],
                    "object": "text_completion",
                    "id": "cmpl-6kXSaanwYeAGFtIx4CJ0lUIjrKulB",
                    "created": "1676549728"
                  },
                  "2": "atheletics057.txt",
                  "3": " in madrid, where she had been due to defend her 800m title from two years ago\n\nAthletics",
                  "4": "atheletics",
                  "5": "atheletics"
                },
                {
                  "0": {
                    "model": "text-davinci-002",
                    "choices": [
                      {
                        "text": " for this important role,\" said chief executive ian stewart. collins, who will work out of the sports science and medicine centre in loughborough, will be responsible for the elite athlete performance programme. he played rugby union for wales and was part of their grand slam-winning squad in 1976.\"\n\nAthletics",
                        "index": 0,
                        "finish_reason": "stop"
                      }
                    ],
                    "object": "text_completion",
                    "id": "cmpl-6kXSbfjnLuJwMYulCAOMcdVBlLTLW",
                    "created": "1676549729"
                  },
                  "2": "atheletics043.txt",
                  "3": " for this important role,\" said chief executive ian stewart. collins, who will work out of the sports science and medicine centre in loughborough, will be responsible for the elite athlete performance programme. he played rugby union for wales and was part of their grand slam-winning squad in 1976.\"\n\nAthletics",
                  "4": "atheletics",
                  "5": "rugby"
                },
                {
                  "0": {
                    "model": "text-davinci-002",
                    "choices": [
                      {
                        "text": "\n\nFootball",
                        "index": 0,
                        "finish_reason": "stop"
                      }
                    ],
                    "object": "text_completion",
                    "id": "cmpl-6kXSeEoCvzlvVj1oIZ4EpQVzNnXk3",
                    "created": "1676549732"
                  },
                  "2": "rugby042.txt",
                  "3": "\n\nFootball",
                  "4": "rugby",
                  "5": "football"
                },
                {
                  "0": {
                    "model": "text-davinci-002",
                    "choices": [
                      {
                        "text": " who, first and foremost, have an outstanding commitment to the international game,\"\" said woodward.\"\n\nRugby",
                        "index": 0,
                        "finish_reason": "stop"
                      }
                    ],
                    "object": "text_completion",
                    "id": "cmpl-6kXSe9rc1L4U7istr8Bzke7x2LbAo",
                    "created": "1676549732"
                  },
                  "2": "rugby056.txt",
                  "3": " who, first and foremost, have an outstanding commitment to the international game,\"\" said woodward.\"\n\nRugby",
                  "4": "rugby",
                  "5": "rugby"
                },
                {
                  "0": {
                    "model": "text-davinci-002",
                    "choices": [
                      {
                        "text": ",\"\" said gb captain david lloyd.\n\nTennis",
                        "index": 0,
                        "finish_reason": "stop"
                      }
                    ],
                    "object": "text_completion",
                    "id": "cmpl-6kXSeKEYsx8hUm2u5EK5OhO0Zjyou",
                    "created": "1676549732"
                  },
                  "2": "tennis099.txt",
                  "3": ",\"\" said gb captain david lloyd.\n\nTennis",
                  "4": "tennis",
                  "5": "tennis"
                },
                {
                  "0": {
                    "model": "text-davinci-002",
                    "choices": [
                      {
                        "text": " has been nominated and i think he will win.\"\"\n\nSports - Football",
                        "index": 0,
                        "finish_reason": "stop"
                      }
                    ],
                    "object": "text_completion",
                    "id": "cmpl-6kXSfBASKYIunC9TLxmqj0xWTTCHa",
                    "created": "1676549733"
                  },
                  "2": "football177.txt",
                  "3": " has been nominated and i think he will win.\"\"\n\nSports - Football",
                  "4": "football",
                  "5": "football"
                },
                {
                  "0": {
                    "model": "text-davinci-002",
                    "choices": [
                      {
                        "text": " and giving me a lot of confidence.\"\"\n\n Football",
                        "index": 0,
                        "finish_reason": "stop"
                      }
                    ],
                    "object": "text_completion",
                    "id": "cmpl-6kXSfafDhtXsdjyBqRiNWDA9CbabR",
                    "created": "1676549733"
                  },
                  "2": "atheletics094.txt",
                  "3": " and giving me a lot of confidence.\"\"\n\n Football",
                  "4": "atheletics",
                  "5": "football"
                },
                {
                  "0": {
                    "model": "text-davinci-002",
                    "choices": [
                      {
                        "text": ",\"\" he said.\"\"\n\nFootball",
                        "index": 0,
                        "finish_reason": "stop"
                      }
                    ],
                    "object": "text_completion",
                    "id": "cmpl-6kXSfnm4GfMNDvKTiypaneG8OteTI",
                    "created": "1676549733"
                  },
                  "2": "football163.txt",
                  "3": ",\"\" he said.\"\"\n\nFootball",
                  "4": "football",
                  "5": "football"
                },
                {
                  "0": {
                    "model": "text-davinci-002",
                    "choices": [
                      {
                        "text": " and it would be best for the sport.\"\"\n\nAthletics",
                        "index": 0,
                        "finish_reason": "stop"
                      }
                    ],
                    "object": "text_completion",
                    "id": "cmpl-6kXSgrruxd3ETmjTMQ19ZERb0WA8U",
                    "created": "1676549734"
                  },
                  "2": "atheletics080.txt",
                  "3": " and it would be best for the sport.\"\"\n\nAthletics",
                  "4": "atheletics",
                  "5": "atheletics"
                },
                {
                  "0": {
                    "model": "text-davinci-002",
                    "choices": [
                      {
                        "text": " in england, pakistan beat zimbabwe and new zealand. Cricket",
                        "index": 0,
                        "finish_reason": "stop"
                      }
                    ],
                    "object": "text_completion",
                    "id": "cmpl-6kXSgmhcBEi1Ll62y9r0JGn8Yw8yu",
                    "created": "1676549734"
                  },
                  "2": "cricket098.txt",
                  "3": " in england, pakistan beat zimbabwe and new zealand. Cricket",
                  "4": "cricket",
                  "5": "cricket"
                },
                {
                  "0": {
                    "model": "text-davinci-002",
                    "choices": [
                      {
                        "text": ".  if we don't, we'll be in big trouble,\" said thorpe.\"\n\nCricket",
                        "index": 0,
                        "finish_reason": "stop"
                      }
                    ],
                    "object": "text_completion",
                    "id": "cmpl-6kXShMDkTseSLkv956Ld6nAn0Enzv",
                    "created": "1676549735"
                  },
                  "2": "cricket067.txt",
                  "3": ".  if we don't, we'll be in big trouble,\" said thorpe.\"\n\nCricket",
                  "4": "cricket",
                  "5": "cricket"
                },
                {
                  "0": {
                    "model": "text-davinci-002",
                    "choices": [
                      {
                        "text": "\n\nCricket",
                        "index": 0,
                        "finish_reason": "stop"
                      }
                    ],
                    "object": "text_completion",
                    "id": "cmpl-6kXSh8wCsm0zNrWhMmUAyBJhzHQ7V",
                    "created": "1676549735"
                  },
                  "2": "cricket073.txt",
                  "3": "\n\nCricket",
                  "4": "cricket",
                  "5": "cricket"
                },
                {
                  "0": {
                    "model": "text-davinci-002",
                    "choices": [
                      {
                        "text": ".\n\ndein concerned by chelsea stance  arsenal vice-chairman david dein has voiced concern at chelseas stance over the ashley cole controversy.  the premier league is to examine \"\"further information\"\" from a newspaper claiming chelsea made an alleged illegal approach for the defender. chelsea have denied that cole met boss jose mourinho to discuss a move.\n\nFootball",
                        "index": 0,
                        "finish_reason": "stop"
                      }
                    ],
                    "object": "text_completion",
                    "id": "cmpl-6kXShSwpIoksQ9VFbCETHWyXSa0ZV",
                    "created": "1676549735"
                  },
                  "2": "football229.txt",
                  "3": ".\n\ndein concerned by chelsea stance  arsenal vice-chairman david dein has voiced concern at chelseas stance over the ashley cole controversy.  the premier league is to examine \"\"further information\"\" from a newspaper claiming chelsea made an alleged illegal approach for the defender. chelsea have denied that cole met boss jose mourinho to discuss a move.\n\nFootball",
                  "4": "football",
                  "5": "football"
                },
                {
                  "0": {
                    "model": "text-davinci-002",
                    "choices": [
                      {
                        "text": ". there will be no pressure on the players other than to enjoy themselves and to play some cricket,\"\" new zealand cricket chief executive darren sh GO TO NEXT PAGE FOR ANSWER\n\nCricket",
                        "index": 0,
                        "finish_reason": "stop"
                      }
                    ],
                    "object": "text_completion",
                    "id": "cmpl-6kXSjiSSQfBVUA8PN97iHjO1L0cuk",
                    "created": "1676549737"
                  },
                  "2": "cricket113.txt",
                  "3": ". there will be no pressure on the players other than to enjoy themselves and to play some cricket,\"\" new zealand cricket chief executive darren sh GO TO NEXT PAGE FOR ANSWER\n\nCricket",
                  "4": "cricket",
                  "5": "cricket"
                },
                {
                  "0": {
                    "model": "text-davinci-002",
                    "choices": [
                      {
                        "text": " no?  por que, porque era muy importante para nuestra confianza.\"\"\n\nFootball",
                        "index": 0,
                        "finish_reason": "stop"
                      }
                    ],
                    "object": "text_completion",
                    "id": "cmpl-6kXSk4slNC2F5hbNssPIJPndDjFDp",
                    "created": "1676549738"
                  },
                  "2": "football201.txt",
                  "3": " no?  por que, porque era muy importante para nuestra confianza.\"\"\n\nFootball",
                  "4": "football",
                  "5": "football"
                },
                {
                  "0": {
                    "model": "text-davinci-002",
                    "choices": [
                      {
                        "text": " when we see these things,\"\" said shilton, who holds the record for most clean sheets.\n\nFootball",
                        "index": 0,
                        "finish_reason": "stop"
                      }
                    ],
                    "object": "text_completion",
                    "id": "cmpl-6kXSkFK2MF6draOtf7iy9NOgy1hJQ",
                    "created": "1676549738"
                  },
                  "2": "football215.txt",
                  "3": " when we see these things,\"\" said shilton, who holds the record for most clean sheets.\n\nFootball",
                  "4": "football",
                  "5": "football"
                },
                {
                  "0": {
                    "model": "text-davinci-002",
                    "choices": [
                      {
                        "text": "\n\nFootball",
                        "index": 0,
                        "finish_reason": "stop"
                      }
                    ],
                    "object": "text_completion",
                    "id": "cmpl-6kXSll6ug17hVtEzqseceM7VzLxrm",
                    "created": "1676549739"
                  },
                  "2": "cricket107.txt",
                  "3": "\n\nFootball",
                  "4": "cricket",
                  "5": "football"
                },
                {
                  "0": {
                    "model": "text-davinci-002",
                    "choices": [
                      {
                        "text": ",\"\" he said.\n\nRugby",
                        "index": 0,
                        "finish_reason": "stop"
                      }
                    ],
                    "object": "text_completion",
                    "id": "cmpl-6kXSlOz3nJZVkoDV9b3IqJkdq7hID",
                    "created": "1676549739"
                  },
                  "2": "rugby136.txt",
                  "3": ",\"\" he said.\n\nRugby",
                  "4": "rugby",
                  "5": "rugby"
                },
                {
                  "0": {
                    "model": "text-davinci-002",
                    "choices": [
                      {
                        "text": ", another of that trio and the only welsh player to have won 100 caps, agreed. it was a magnificent effort\"\n\nRugby",
                        "index": 0,
                        "finish_reason": "stop"
                      }
                    ],
                    "object": "text_completion",
                    "id": "cmpl-6kXSlxj6xmLc4wPgfUxO2L2zoZgqo",
                    "created": "1676549739"
                  },
                  "2": "rugby122.txt",
                  "3": ", another of that trio and the only welsh player to have won 100 caps, agreed. it was a magnificent effort\"\n\nRugby",
                  "4": "rugby",
                  "5": "rugby"
                },
                {
                  "0": {
                    "model": "text-davinci-002",
                    "choices": [
                      {
                        "text": " television replay.\"\"\n\nFootball",
                        "index": 0,
                        "finish_reason": "stop"
                      }
                    ],
                    "object": "text_completion",
                    "id": "cmpl-6kXSmyYCVkEQKO22l1MRDhk9QysoP",
                    "created": "1676549740"
                  },
                  "2": "football003.txt",
                  "3": " television replay.\"\"\n\nFootball",
                  "4": "football",
                  "5": "football"
                },
                {
                  "0": {
                    "model": "text-davinci-002",
                    "choices": [
                      {
                        "text": ", a bad injury,\"\" chelsea boss jose mourinho told setanta sports news.\"\n\nFootball",
                        "index": 0,
                        "finish_reason": "stop"
                      }
                    ],
                    "object": "text_completion",
                    "id": "cmpl-6kXSmTTYV2fVXIHY1Z6ZFYOxVTqTO",
                    "created": "1676549740"
                  },
                  "2": "football017.txt",
                  "3": ", a bad injury,\"\" chelsea boss jose mourinho told setanta sports news.\"\n\nFootball",
                  "4": "football",
                  "5": "football"
                },
                {
                  "0": {
                    "model": "text-davinci-002",
                    "choices": [
                      {
                        "text": ", even though the goo\"\n\nFootball",
                        "index": 0,
                        "finish_reason": "stop"
                      }
                    ],
                    "object": "text_completion",
                    "id": "cmpl-6kXSnofmZEE4JtMOPiWbmTsokKhtt",
                    "created": "1676549741"
                  },
                  "2": "rugby108.txt",
                  "3": ", even though the goo\"\n\nFootball",
                  "4": "rugby",
                  "5": "football"
                },
                {
                  "0": {
                    "model": "text-davinci-002",
                    "choices": [
                      {
                        "text": ". hes a terrific lad and a good lad to have in the team.\"\"\n\nFootball",
                        "index": 0,
                        "finish_reason": "stop"
                      }
                    ],
                    "object": "text_completion",
                    "id": "cmpl-6kXSopDd7KM84qr3pUAwGCYxKwlTl",
                    "created": "1676549742"
                  },
                  "2": "football001.txt",
                  "3": ". hes a terrific lad and a good lad to have in the team.\"\"\n\nFootball",
                  "4": "football",
                  "5": "football"
                },
                {
                  "0": {
                    "model": "text-davinci-002",
                    "choices": [
                      {
                        "text": ".\n\nFootball",
                        "index": 0,
                        "finish_reason": "stop"
                      }
                    ],
                    "object": "text_completion",
                    "id": "cmpl-6kXSpltIieHGiZnXZ0nCO03oIcl1f",
                    "created": "1676549743"
                  },
                  "2": "football015.txt",
                  "3": ".\n\nFootball",
                  "4": "football",
                  "5": "football"
                },
                {
                  "0": {
                    "model": "text-davinci-002",
                    "choices": [
                      {
                        "text": "\n\nRugby.",
                        "index": 0,
                        "finish_reason": "stop"
                      }
                    ],
                    "object": "text_completion",
                    "id": "cmpl-6kXSpAv6va2cpwamPkzcfbdRCXBo4",
                    "created": "1676549743"
                  },
                  "2": "rugby134.txt",
                  "3": "\n\nRugby.",
                  "4": "rugby",
                  "5": "rugby"
                },
                {
                  "0": {
                    "model": "text-davinci-002",
                    "choices": [
                      {
                        "text": ",\" said alli\"\n\nRugby",
                        "index": 0,
                        "finish_reason": "stop"
                      }
                    ],
                    "object": "text_completion",
                    "id": "cmpl-6kXSp6tiwd73Yico4dW37zGlyD8tv",
                    "created": "1676549743"
                  },
                  "2": "rugby120.txt",
                  "3": ",\" said alli\"\n\nRugby",
                  "4": "rugby",
                  "5": "rugby"
                },
                {
                  "0": {
                    "model": "text-davinci-002",
                    "choices": [
                      {
                        "text": "\n\nFootball",
                        "index": 0,
                        "finish_reason": "stop"
                      }
                    ],
                    "object": "text_completion",
                    "id": "cmpl-6kXSqSDoEmBQCLE12zb5Qw5uLxf4L",
                    "created": "1676549744"
                  },
                  "2": "football029.txt",
                  "3": "\n\nFootball",
                  "4": "football",
                  "5": "football"
                },
                {
                  "0": {
                    "model": "text-davinci-002",
                    "choices": [
                      {
                        "text": ", coach chelsea deny the claim\"\n\nFootball",
                        "index": 0,
                        "finish_reason": "stop"
                      }
                    ],
                    "object": "text_completion",
                    "id": "cmpl-6kXSqH44BdJVqzJf3UWFtbuJUyjYi",
                    "created": "1676549744"
                  },
                  "2": "football203.txt",
                  "3": ", coach chelsea deny the claim\"\n\nFootball",
                  "4": "football",
                  "5": "football"
                },
                {
                  "0": {
                    "model": "text-davinci-002",
                    "choices": [
                      {
                        "text": "\n\nCricket",
                        "index": 0,
                        "finish_reason": "stop"
                      }
                    ],
                    "object": "text_completion",
                    "id": "cmpl-6kXSq55fNvJHdpjtXqzP1WPUadXd6",
                    "created": "1676549744"
                  },
                  "2": "cricket111.txt",
                  "3": "\n\nCricket",
                  "4": "cricket",
                  "5": "cricket"
                },
                {
                  "0": {
                    "model": "text-davinci-002",
                    "choices": [
                      {
                        "text": ".  if we can stick to our discipline and remove the major stumbling blocks with the batting we should do well,\"\" said west indies all-rounder shawn sealy.\"\n\ncricket",
                        "index": 0,
                        "finish_reason": "stop"
                      }
                    ],
                    "object": "text_completion",
                    "id": "cmpl-6kXSq3cXUBxS7bBBmHKjDLQnk78sR",
                    "created": "1676549744"
                  },
                  "2": "cricket105.txt",
                  "3": ".  if we can stick to our discipline and remove the major stumbling blocks with the batting we should do well,\"\" said west indies all-rounder shawn sealy.\"\n\ncricket",
                  "4": "cricket",
                  "5": "cricket"
                },
                {
                  "0": {
                    "model": "text-davinci-002",
                    "choices": [
                      {
                        "text": ",\" santini told le parisien.\n\n\"\n\nFootball",
                        "index": 0,
                        "finish_reason": "stop"
                      }
                    ],
                    "object": "text_completion",
                    "id": "cmpl-6kXSrIgoRwB6C18Mu0POnocmPW2ng",
                    "created": "1676549745"
                  },
                  "2": "football217.txt",
                  "3": ",\" santini told le parisien.\n\n\"\n\nFootball",
                  "4": "football",
                  "5": "football"
                },
                {
                  "0": {
                    "model": "text-davinci-002",
                    "choices": [
                      {
                        "text": "\n\nCricket",
                        "index": 0,
                        "finish_reason": "stop"
                      }
                    ],
                    "object": "text_completion",
                    "id": "cmpl-6kXSsZ03mDhVnuPe9D5cOtTZfI3Zs",
                    "created": "1676549746"
                  },
                  "2": "cricket065.txt",
                  "3": "\n\nCricket",
                  "4": "cricket",
                  "5": "cricket"
                },
                {
                  "0": {
                    "model": "text-davinci-002",
                    "choices": [
                      {
                        "text": " and the way we need to play,\" said england batting coach graham gooch.\"\n\nCricket",
                        "index": 0,
                        "finish_reason": "stop"
                      }
                    ],
                    "object": "text_completion",
                    "id": "cmpl-6kXSshKqZSmhHceBJ706UuOrmlZk7",
                    "created": "1676549746"
                  },
                  "2": "cricket071.txt",
                  "3": " and the way we need to play,\" said england batting coach graham gooch.\"\n\nCricket",
                  "4": "cricket",
                  "5": "cricket"
                },
                {
                  "0": {
                    "model": "text-davinci-002",
                    "choices": [
                      {
                        "text": ",\" new zealand coach john bracewell told reporters. \"\n\nCricket",
                        "index": 0,
                        "finish_reason": "stop"
                      }
                    ],
                    "object": "text_completion",
                    "id": "cmpl-6kXStnyfFShvs4v6yzswtOWRCUp5s",
                    "created": "1676549747"
                  },
                  "2": "cricket059.txt",
                  "3": ",\" new zealand coach john bracewell told reporters. \"\n\nCricket",
                  "4": "cricket",
                  "5": "cricket"
                },
                {
                  "0": {
                    "model": "text-davinci-002",
                    "choices": [
                      {
                        "text": ",\"\" kluft told BBC Sport. \"\"but you never know.  everything's possible in sport.\"\"\n\nAthletics",
                        "index": 0,
                        "finish_reason": "stop"
                      }
                    ],
                    "object": "text_completion",
                    "id": "cmpl-6kXSuWN1C6icPbfvfkNSc6zDNtig5",
                    "created": "1676549748"
                  },
                  "2": "atheletics096.txt",
                  "3": ",\"\" kluft told BBC Sport. \"\"but you never know.  everything's possible in sport.\"\"\n\nAthletics",
                  "4": "atheletics",
                  "5": "atheletics"
                },
                {
                  "0": {
                    "model": "text-davinci-002",
                    "choices": [
                      {
                        "text": "\n\nFootball",
                        "index": 0,
                        "finish_reason": "stop"
                      }
                    ],
                    "object": "text_completion",
                    "id": "cmpl-6kXSvp2rD1aLrgG4VgW8FNLCVjl19",
                    "created": "1676549749"
                  },
                  "2": "football175.txt",
                  "3": "\n\nFootball",
                  "4": "football",
                  "5": "football"
                },
                {
                  "0": {
                    "model": "text-davinci-002",
                    "choices": [
                      {
                        "text": " by the evidence. the fact is that an official from the ioc collected the samples at the precise time and place and the athletes were not there,\"\" he said.\n\nFootball",
                        "index": 0,
                        "finish_reason": "stop"
                      }
                    ],
                    "object": "text_completion",
                    "id": "cmpl-6kXSv7Ia5rhMy2YW36q871VtCk0Jd",
                    "created": "1676549749"
                  },
                  "2": "atheletics082.txt",
                  "3": " by the evidence. the fact is that an official from the ioc collected the samples at the precise time and place and the athletes were not there,\"\" he said.\n\nFootball",
                  "4": "atheletics",
                  "5": "football"
                },
                {
                  "0": {
                    "model": "text-davinci-002",
                    "choices": [
                      {
                        "text": ", i think we got away with murder in the first half. fulham are a very good side and theyve shown that with the way they drew with liverpool and won at white hart lane. \"\"but we gave two points away, no question about it. i was very disappointed with that - we should have got three points.\"\"\n\nFootball",
                        "index": 0,
                        "finish_reason": "stop"
                      }
                    ],
                    "object": "text_completion",
                    "id": "cmpl-6kXSwtRomNTTHnR6iIKD22Jfn5S5s",
                    "created": "1676549750"
                  },
                  "2": "football161.txt",
                  "3": ", i think we got away with murder in the first half. fulham are a very good side and theyve shown that with the way they drew with liverpool and won at white hart lane. \"\"but we gave two points away, no question about it. i was very disappointed with that - we should have got three points.\"\"\n\nFootball",
                  "4": "football",
                  "5": "football"
                },
                {
                  "0": {
                    "model": "text-davinci-002",
                    "choices": [
                      {
                        "text": "\n\nRugby",
                        "index": 0,
                        "finish_reason": "stop"
                      }
                    ],
                    "object": "text_completion",
                    "id": "cmpl-6kXSx1OD3FGVt7cEmgMm0NKfW2Agv",
                    "created": "1676549751"
                  },
                  "2": "rugby068.txt",
                  "3": "\n\nRugby",
                  "4": "rugby",
                  "5": "rugby"
                },
                {
                  "0": {
                    "model": "text-davinci-002",
                    "choices": [
                      {
                        "text": " or at any stage in the future,\"\" he said.\n\nFootball",
                        "index": 0,
                        "finish_reason": "stop"
                      }
                    ],
                    "object": "text_completion",
                    "id": "cmpl-6kXSxW5xp7JEpSGWefo5OPfAUQWS0",
                    "created": "1676549751"
                  },
                  "2": "football149.txt",
                  "3": " or at any stage in the future,\"\" he said.\n\nFootball",
                  "4": "football",
                  "5": "football"
                },
                {
                  "0": {
                    "model": "text-davinci-002",
                    "choices": [
                      {
                        "text": ",\"\" he said. Osullivan has injury worries over centre jason gerald (hamstring) and prop john hayes (back), who will have fitness tests.\n\nRugby",
                        "index": 0,
                        "finish_reason": "stop"
                      }
                    ],
                    "object": "text_completion",
                    "id": "cmpl-6kXSxCC3HOS2VuBSlbeY5aGqvL4qd",
                    "created": "1676549751"
                  },
                  "2": "rugby040.txt",
                  "3": ",\"\" he said. Osullivan has injury worries over centre jason gerald (hamstring) and prop john hayes (back), who will have fitness tests.\n\nRugby",
                  "4": "rugby",
                  "5": "rugby"
                },
                {
                  "0": {
                    "model": "text-davinci-002",
                    "choices": [
                      {
                        "text": ", scrum, scrum... we will have to get up and put in a big performance because if they dominate they will hurt us.  it is going to be one massive battle and i would not be surprised if it ends up a draw. \"\n\nFootball",
                        "index": 0,
                        "finish_reason": "stop"
                      }
                    ],
                    "object": "text_completion",
                    "id": "cmpl-6kXSyO1F0KbG5vGXta1tpv6BHUWLX",
                    "created": "1676549752"
                  },
                  "2": "rugby054.txt",
                  "3": ", scrum, scrum... we will have to get up and put in a big performance because if they dominate they will hurt us.  it is going to be one massive battle and i would not be surprised if it ends up a draw. \"\n\nFootball",
                  "4": "rugby",
                  "5": "football"
                },
                {
                  "0": {
                    "model": "text-davinci-002",
                    "choices": [
                      {
                        "text": ",500m title in the world indoor trials two weeks ago.\n\nAthletics",
                        "index": 0,
                        "finish_reason": "stop"
                      }
                    ],
                    "object": "text_completion",
                    "id": "cmpl-6kXSzJcUXyCFPPT5ehckFfuku3nNT",
                    "created": "1676549753"
                  },
                  "2": "atheletics055.txt",
                  "3": ",500m title in the world indoor trials two weeks ago.\n\nAthletics",
                  "4": "atheletics",
                  "5": "atheletics"
                },
                {
                  "0": {
                    "model": "text-davinci-002",
                    "choices": [
                      {
                        "text": "\n\nTennis",
                        "index": 0,
                        "finish_reason": "stop"
                      }
                    ],
                    "object": "text_completion",
                    "id": "cmpl-6kXSz1cwNVmPwcI0zh5knAusONm7H",
                    "created": "1676549753"
                  },
                  "2": "tennis058.txt",
                  "3": "\n\nTennis",
                  "4": "tennis",
                  "5": "tennis"
                },
                {
                  "0": {
                    "model": "text-davinci-002",
                    "choices": [
                      {
                        "text": ",\"\" gatlin said. \"\"not only am i fulfilling my lifelong dream to win an olympic medal, but also to follow in the footsteps of my hero.\"\" \n\nAthletics",
                        "index": 0,
                        "finish_reason": "stop"
                      }
                    ],
                    "object": "text_completion",
                    "id": "cmpl-6kXSzKyKmN2rser09ltg1JavbJ440",
                    "created": "1676549753"
                  },
                  "2": "atheletics041.txt",
                  "3": ",\"\" gatlin said. \"\"not only am i fulfilling my lifelong dream to win an olympic medal, but also to follow in the footsteps of my hero.\"\" \n\nAthletics",
                  "4": "atheletics",
                  "5": "atheletics"
                },
                {
                  "0": {
                    "model": "text-davinci-002",
                    "choices": [
                      {
                        "text": ". rugby\"\n\nRugby",
                        "index": 0,
                        "finish_reason": "stop"
                      }
                    ],
                    "object": "text_completion",
                    "id": "cmpl-6kXT07IA5UJbqAb4RGCSEd8k4maD6",
                    "created": "1676549754"
                  },
                  "2": "rugby083.txt",
                  "3": ". rugby\"\n\nRugby",
                  "4": "rugby",
                  "5": "rugby"
                },
                {
                  "0": {
                    "model": "text-davinci-002",
                    "choices": [
                      {
                        "text": ",\"\" she said.\"\n\nAthletics",
                        "index": 0,
                        "finish_reason": "stop"
                      }
                    ],
                    "object": "text_completion",
                    "id": "cmpl-6kXT0dP1U81J4WiKpJUOdLptGWNAK",
                    "created": "1676549754"
                  },
                  "2": "atheletics069.txt",
                  "3": ",\"\" she said.\"\n\nAthletics",
                  "4": "atheletics",
                  "5": "atheletics"
                },
                {
                  "0": {
                    "model": "text-davinci-002",
                    "choices": [
                      {
                        "text": " that he was looking forward to coming back, so im expecting him to put in a great performance.  also in the field are french open finalist mariano puerta and guillermo canas.\"\n\nTennis",
                        "index": 0,
                        "finish_reason": "stop"
                      }
                    ],
                    "object": "text_completion",
                    "id": "cmpl-6kXT1EQaheOgKfPOUoJOHetH22jES",
                    "created": "1676549755"
                  },
                  "2": "tennis064.txt",
                  "3": " that he was looking forward to coming back, so im expecting him to put in a great performance.  also in the field are french open finalist mariano puerta and guillermo canas.\"\n\nTennis",
                  "4": "tennis",
                  "5": "tennis"
                },
                {
                  "0": {
                    "model": "text-davinci-002",
                    "choices": [
                      {
                        "text": " some tournaments, but to win wimbledon, this is a long way away.\"\"\n\nTennis",
                        "index": 0,
                        "finish_reason": "stop"
                      }
                    ],
                    "object": "text_completion",
                    "id": "cmpl-6kXT2RE58NQyI5vOAFzQG7yxJN45U",
                    "created": "1676549756"
                  },
                  "2": "tennis070.txt",
                  "3": " some tournaments, but to win wimbledon, this is a long way away.\"\"\n\nTennis",
                  "4": "tennis",
                  "5": "tennis"
                },
                {
                  "0": {
                    "model": "text-davinci-002",
                    "choices": [
                      {
                        "text": "\n\nRugby",
                        "index": 0,
                        "finish_reason": "stop"
                      }
                    ],
                    "object": "text_completion",
                    "id": "cmpl-6kXT2ysbTQdoLLUg06QsLxnCw0KR5",
                    "created": "1676549756"
                  },
                  "2": "rugby097.txt",
                  "3": "\n\nRugby",
                  "4": "rugby",
                  "5": "rugby"
                },
                {
                  "0": {
                    "model": "text-davinci-002",
                    "choices": [
                      {
                        "text": "\n\nTennis",
                        "index": 0,
                        "finish_reason": "stop"
                      }
                    ],
                    "object": "text_completion",
                    "id": "cmpl-6kXT2kxvfx1Y8cg1zFpCBKHBZDQen",
                    "created": "1676549756"
                  },
                  "2": "tennis071.txt",
                  "3": "\n\nTennis",
                  "4": "tennis",
                  "5": "tennis"
                },
                {
                  "0": {
                    "model": "text-davinci-002",
                    "choices": [
                      {
                        "text": " this season and we want to keep that energy and those performances going,\" said coach eddie o'sullivan. \"\n\nRugby",
                        "index": 0,
                        "finish_reason": "stop"
                      }
                    ],
                    "object": "text_completion",
                    "id": "cmpl-6kXT2HfRYkxtnbm2XSgCb8LhzoZEZ",
                    "created": "1676549756"
                  },
                  "2": "rugby096.txt",
                  "3": " this season and we want to keep that energy and those performances going,\" said coach eddie o'sullivan. \"\n\nRugby",
                  "4": "rugby",
                  "5": "rugby"
                },
                {
                  "0": {
                    "model": "text-davinci-002",
                    "choices": [
                      {
                        "text": " in my opinion as she is in such good form.\"\"\n\nAthletics.",
                        "index": 0,
                        "finish_reason": "stop"
                      }
                    ],
                    "object": "text_completion",
                    "id": "cmpl-6kXT3OEfh4Pw69jXwENVtzshvZCqI",
                    "created": "1676549757"
                  },
                  "2": "atheletics068.txt",
                  "3": " in my opinion as she is in such good form.\"\"\n\nAthletics.",
                  "4": "atheletics",
                  "5": "atheletics"
                },
                {
                  "0": {
                    "model": "text-davinci-002",
                    "choices": [
                      {
                        "text": ", two members of the senior playing squad - john Barclay and greig Laidlaw - have accepted pay-cuts in order to take up new deals with their clubs\n\nRugby",
                        "index": 0,
                        "finish_reason": "stop"
                      }
                    ],
                    "object": "text_completion",
                    "id": "cmpl-6kXT5UskC453sPrsVUyTnt14UWMkL",
                    "created": "1676549759"
                  },
                  "2": "rugby082.txt",
                  "3": ", two members of the senior playing squad - john Barclay and greig Laidlaw - have accepted pay-cuts in order to take up new deals with their clubs\n\nRugby",
                  "4": "rugby",
                  "5": "rugby"
                },
                {
                  "0": {
                    "model": "text-davinci-002",
                    "choices": [
                      {
                        "text": " and done nothing wrong,\" the 26-year-old all-tennis.com quoted koubek as saying.\"\n\nTennis",
                        "index": 0,
                        "finish_reason": "stop"
                      }
                    ],
                    "object": "text_completion",
                    "id": "cmpl-6kXT5Y4DXBsRnl0LZLZOBLQqxsobK",
                    "created": "1676549759"
                  },
                  "2": "tennis065.txt",
                  "3": " and done nothing wrong,\" the 26-year-old all-tennis.com quoted koubek as saying.\"\n\nTennis",
                  "4": "tennis",
                  "5": "tennis"
                },
                {
                  "0": {
                    "model": "text-davinci-002",
                    "choices": [
                      {
                        "text": " in sport that goes 'success breeds success'. paula will have to rely on her past successes to give her the confidence to continue,\"\" he says.\"\"\n\nMarathon",
                        "index": 0,
                        "finish_reason": "stop"
                      }
                    ],
                    "object": "text_completion",
                    "id": "cmpl-6kXT6jC1gvoqXlFVeyAOzWIWR1824",
                    "created": "1676549760"
                  },
                  "2": "atheletics040.txt",
                  "3": " in sport that goes 'success breeds success'. paula will have to rely on her past successes to give her the confidence to continue,\"\" he says.\"\"\n\nMarathon",
                  "4": "atheletics",
                  "5": ""
                },
                {
                  "0": {
                    "model": "text-davinci-002",
                    "choices": [
                      {
                        "text": " that everything will be fine,\"\" thanou told reporters.\n\nAthletics",
                        "index": 0,
                        "finish_reason": "stop"
                      }
                    ],
                    "object": "text_completion",
                    "id": "cmpl-6kXT75veUDeYcQ5TGxwxYhGq2jZvb",
                    "created": "1676549761"
                  },
                  "2": "atheletics054.txt",
                  "3": " that everything will be fine,\"\" thanou told reporters.\n\nAthletics",
                  "4": "atheletics",
                  "5": "atheletics"
                },
                {
                  "0": {
                    "model": "text-davinci-002",
                    "choices": [
                      {
                        "text": " starting on january 17, []\n\nTennis",
                        "index": 0,
                        "finish_reason": "stop"
                      }
                    ],
                    "object": "text_completion",
                    "id": "cmpl-6kXT7dk1qGt7JwaATMGGrhXyw3k9L",
                    "created": "1676549761"
                  },
                  "2": "tennis059.txt",
                  "3": " starting on january 17, []\n\nTennis",
                  "4": "tennis",
                  "5": "tennis"
                },
                {
                  "0": {
                    "model": "text-davinci-002",
                    "choices": [
                      {
                        "text": ", he will not be going to the world cup either\"\n\nRugby",
                        "index": 0,
                        "finish_reason": "stop"
                      }
                    ],
                    "object": "text_completion",
                    "id": "cmpl-6kXT773J64wGsYNsY1Xown004QskL",
                    "created": "1676549761"
                  },
                  "2": "rugby055.txt",
                  "3": ", he will not be going to the world cup either\"\n\nRugby",
                  "4": "rugby",
                  "5": "rugby"
                },
                {
                  "0": {
                    "model": "text-davinci-002",
                    "choices": [
                      {
                        "text": "\n\nRugby",
                        "index": 0,
                        "finish_reason": "stop"
                      }
                    ],
                    "object": "text_completion",
                    "id": "cmpl-6kXT8nq7SXT0temk9anb0Jeq0Scki",
                    "created": "1676549762"
                  },
                  "2": "rugby041.txt",
                  "3": "\n\nRugby",
                  "4": "rugby",
                  "5": "rugby"
                },
                {
                  "0": {
                    "model": "text-davinci-002",
                    "choices": [
                      {
                        "text": ",\"\" he said\"\n\nFootball",
                        "index": 0,
                        "finish_reason": "stop"
                      }
                    ],
                    "object": "text_completion",
                    "id": "cmpl-6kXT8v6WVds4JT9wfLP5DEZI2gjpV",
                    "created": "1676549762"
                  },
                  "2": "football148.txt",
                  "3": ",\"\" he said\"\n\nFootball",
                  "4": "football",
                  "5": "football"
                },
                {
                  "0": {
                    "model": "text-davinci-002",
                    "choices": [
                      {
                        "text": ",\" wood told the aviva stadium website\"\n\nRugby",
                        "index": 0,
                        "finish_reason": "stop"
                      }
                    ],
                    "object": "text_completion",
                    "id": "cmpl-6kXT8LLOA3eIuQfpjt0yPx9iF3Rtg",
                    "created": "1676549762"
                  },
                  "2": "rugby069.txt",
                  "3": ",\" wood told the aviva stadium website\"\n\nRugby",
                  "4": "rugby",
                  "5": "rugby"
                },
                {
                  "0": {
                    "model": "text-davinci-002",
                    "choices": [
                      {
                        "text": "\n\nFootball",
                        "index": 0,
                        "finish_reason": "stop"
                      }
                    ],
                    "object": "text_completion",
                    "id": "cmpl-6kXTAachUvUpz7rR7h8n19Hdjx3p7",
                    "created": "1676549764"
                  },
                  "2": "football160.txt",
                  "3": "\n\nFootball",
                  "4": "football",
                  "5": "football"
                },
                {
                  "0": {
                    "model": "text-davinci-002",
                    "choices": [
                      {
                        "text": ".\"\n\nAthletics",
                        "index": 0,
                        "finish_reason": "stop"
                      }
                    ],
                    "object": "text_completion",
                    "id": "cmpl-6kXTAFPfhh8UwXK559ROrun1gB17v",
                    "created": "1676549764"
                  },
                  "2": "atheletics083.txt",
                  "3": ".\"\n\nAthletics",
                  "4": "atheletics",
                  "5": "atheletics"
                },
                {
                  "0": {
                    "model": "text-davinci-002",
                    "choices": [
                      {
                        "text": "\n\nFootball",
                        "index": 0,
                        "finish_reason": "stop"
                      }
                    ],
                    "object": "text_completion",
                    "id": "cmpl-6kXTA4fnpPFhGy6pngBO5e0NeLs8V",
                    "created": "1676549764"
                  },
                  "2": "football174.txt",
                  "3": "\n\nFootball",
                  "4": "football",
                  "5": "football"
                },
                {
                  "0": {
                    "model": "text-davinci-002",
                    "choices": [
                      {
                        "text": " and this is a decision she has taken very seriously,\"\" pittmans manager john boulous said.\"\n\nAthletics",
                        "index": 0,
                        "finish_reason": "stop"
                      }
                    ],
                    "object": "text_completion",
                    "id": "cmpl-6kXTBMP6415R1cevPVAtzqxzj857i",
                    "created": "1676549765"
                  },
                  "2": "atheletics097.txt",
                  "3": " and this is a decision she has taken very seriously,\"\" pittmans manager john boulous said.\"\n\nAthletics",
                  "4": "atheletics",
                  "5": "atheletics"
                },
                {
                  "0": {
                    "model": "text-davinci-002",
                    "choices": [
                      {
                        "text": " and the situation in chittagong and were satisfied with the arrangements. \"\"\n\nCricket",
                        "index": 0,
                        "finish_reason": "stop"
                      }
                    ],
                    "object": "text_completion",
                    "id": "cmpl-6kXTB4M58Qv11bOse0NRhas7e5DCC",
                    "created": "1676549765"
                  },
                  "2": "cricket058.txt",
                  "3": " and the situation in chittagong and were satisfied with the arrangements. \"\"\n\nCricket",
                  "4": "cricket",
                  "5": "cricket"
                },
                {
                  "0": {
                    "model": "text-davinci-002",
                    "choices": [
                      {
                        "text": "\n\nFootball",
                        "index": 0,
                        "finish_reason": "stop"
                      }
                    ],
                    "object": "text_completion",
                    "id": "cmpl-6kXTCOLxDPYeeMonp3esic7WylvvI",
                    "created": "1676549766"
                  },
                  "2": "cricket070.txt",
                  "3": "\n\nFootball",
                  "4": "cricket",
                  "5": "football"
                },
                {
                  "0": {
                    "model": "text-davinci-002",
                    "choices": [
                      {
                        "text": "\n\nCricket",
                        "index": 0,
                        "finish_reason": "stop"
                      }
                    ],
                    "object": "text_completion",
                    "id": "cmpl-6kXTC8VfRaKzH0WU25ov8EUb7deR6",
                    "created": "1676549766"
                  },
                  "2": "cricket064.txt",
                  "3": "\n\nCricket",
                  "4": "cricket",
                  "5": "cricket"
                },
                {
                  "0": {
                    "model": "text-davinci-002",
                    "choices": [
                      {
                        "text": ", liverpool are looking very strong\"\n\nFootball",
                        "index": 0,
                        "finish_reason": "stop"
                      }
                    ],
                    "object": "text_completion",
                    "id": "cmpl-6kXTCPdZkiu6nRuzyWFW0VFiKWWN5",
                    "created": "1676549766"
                  },
                  "2": "football216.txt",
                  "3": ", liverpool are looking very strong\"\n\nFootball",
                  "4": "football",
                  "5": "football"
                },
                {
                  "0": {
                    "model": "text-davinci-002",
                    "choices": [
                      {
                        "text": "\n\nCricket",
                        "index": 0,
                        "finish_reason": "stop"
                      }
                    ],
                    "object": "text_completion",
                    "id": "cmpl-6kXTCK3LQksQ2I5lkwGlQ1h0cfJf1",
                    "created": "1676549766"
                  },
                  "2": "cricket104.txt",
                  "3": "\n\nCricket",
                  "4": "cricket",
                  "5": "cricket"
                },
                {
                  "0": {
                    "model": "text-davinci-002",
                    "choices": [
                      {
                        "text": ", so why cant it happen here\"\n\nCricket",
                        "index": 0,
                        "finish_reason": "stop"
                      }
                    ],
                    "object": "text_completion",
                    "id": "cmpl-6kXTDW0swt45i4f89YbFOW8tkSFrA",
                    "created": "1676549767"
                  },
                  "2": "cricket110.txt",
                  "3": ", so why cant it happen here\"\n\nCricket",
                  "4": "cricket",
                  "5": "cricket"
                },
                {
                  "0": {
                    "model": "text-davinci-002",
                    "choices": [
                      {
                        "text": "\n\nFootball",
                        "index": 0,
                        "finish_reason": "stop"
                      }
                    ],
                    "object": "text_completion",
                    "id": "cmpl-6kXTDpShIHAJHG1dugcid1nDhZCee",
                    "created": "1676549767"
                  },
                  "2": "football202.txt",
                  "3": "\n\nFootball",
                  "4": "football",
                  "5": "football"
                },
                {
                  "0": {
                    "model": "text-davinci-002",
                    "choices": [
                      {
                        "text": ",\"\" he told the brentford website.\"\n\nFootball",
                        "index": 0,
                        "finish_reason": "stop"
                      }
                    ],
                    "object": "text_completion",
                    "id": "cmpl-6kXTFRQQf256G3ZKybChXNpyv1lwU",
                    "created": "1676549769"
                  },
                  "2": "football028.txt",
                  "3": ",\"\" he told the brentford website.\"\n\nFootball",
                  "4": "football",
                  "5": "football"
                },
                {
                  "0": {
                    "model": "text-davinci-002",
                    "choices": [
                      {
                        "text": " which is the one he's had all the trouble with,\"\" manager ian ritchie told the club website.\"\"\n\nRugby",
                        "index": 0,
                        "finish_reason": "stop"
                      }
                    ],
                    "object": "text_completion",
                    "id": "cmpl-6kXTGhvZChyRRYv2XyVeEBZjLG7Tl",
                    "created": "1676549770"
                  },
                  "2": "rugby121.txt",
                  "3": " which is the one he's had all the trouble with,\"\" manager ian ritchie told the club website.\"\"\n\nRugby",
                  "4": "rugby",
                  "5": "rugby"
                },
                {
                  "0": {
                    "model": "text-davinci-002",
                    "choices": [
                      {
                        "text": " in the championship,\"\" said the stade toulousain lock\"\n\nRugby",
                        "index": 0,
                        "finish_reason": "stop"
                      }
                    ],
                    "object": "text_completion",
                    "id": "cmpl-6kXTHYlvWJqkR1H2le6tilymHZmWL",
                    "created": "1676549771"
                  },
                  "2": "rugby135.txt",
                  "3": " in the championship,\"\" said the stade toulousain lock\"\n\nRugby",
                  "4": "rugby",
                  "5": "rugby"
                },
                {
                  "0": {
                    "model": "text-davinci-002",
                    "choices": [
                      {
                        "text": "\n\nFootball",
                        "index": 0,
                        "finish_reason": "stop"
                      }
                    ],
                    "object": "text_completion",
                    "id": "cmpl-6kXTHv9BZh6Ebf60DmRxptfofaal4",
                    "created": "1676549771"
                  },
                  "2": "football014.txt",
                  "3": "\n\nFootball",
                  "4": "football",
                  "5": "football"
                },
                {
                  "0": {
                    "model": "text-davinci-002",
                    "choices": [
                      {
                        "text": " youve got to respect that decision for the next two years,\"\" johnson said at the time.\n\nRugby",
                        "index": 0,
                        "finish_reason": "stop"
                      }
                    ],
                    "object": "text_completion",
                    "id": "cmpl-6kXTHAn2QhnDy6ZbXrMEDZLRSqU9S",
                    "created": "1676549771"
                  },
                  "2": "rugby109.txt",
                  "3": " youve got to respect that decision for the next two years,\"\" johnson said at the time.\n\nRugby",
                  "4": "rugby",
                  "5": "rugby"
                },
                {
                  "0": {
                    "model": "text-davinci-002",
                    "choices": [
                      {
                        "text": " and how they made life difficult for many of the sides. Football",
                        "index": 0,
                        "finish_reason": "stop"
                      }
                    ],
                    "object": "text_completion",
                    "id": "cmpl-6kXTIkuih1TIcz4HWT5FnGIh8osZR",
                    "created": "1676549772"
                  },
                  "2": "football038.txt",
                  "3": " and how they made life difficult for many of the sides. Football",
                  "4": "football",
                  "5": "football"
                },
                {
                  "0": {
                    "model": "text-davinci-002",
                    "choices": [
                      {
                        "text": ", the south african has enough on his mind, trying to explain the decision that gave ireland a penalty try in the first half, the result of which was 10 points for ireland.\n\nRugby",
                        "index": 0,
                        "finish_reason": "stop"
                      }
                    ],
                    "object": "text_completion",
                    "id": "cmpl-6kXTIQYj3ettJafuutFGq8TgGd5N4",
                    "created": "1676549772"
                  },
                  "2": "rugby131.txt",
                  "3": ", the south african has enough on his mind, trying to explain the decision that gave ireland a penalty try in the first half, the result of which was 10 points for ireland.\n\nRugby",
                  "4": "rugby",
                  "5": "rugby"
                },
                {
                  "0": {
                    "model": "text-davinci-002",
                    "choices": [
                      {
                        "text": ",\"\" said leicester rugby director richard cockerill of the possibility of signing farrell.\"\"\n\nRugby",
                        "index": 0,
                        "finish_reason": "stop"
                      }
                    ],
                    "object": "text_completion",
                    "id": "cmpl-6kXTJXCkMKkcADdQ2tGt0uRPUgbyc",
                    "created": "1676549773"
                  },
                  "2": "rugby125.txt",
                  "3": ",\"\" said leicester rugby director richard cockerill of the possibility of signing farrell.\"\"\n\nRugby",
                  "4": "rugby",
                  "5": "rugby"
                },
                {
                  "0": {
                    "model": "text-davinci-002",
                    "choices": [
                      {
                        "text": ".  i just want to concentrate on my football,\"\" he said.\"\"\n\nFootball",
                        "index": 0,
                        "finish_reason": "stop"
                      }
                    ],
                    "object": "text_completion",
                    "id": "cmpl-6kXTJLMxD9T3X5AYDwSJ4KU6ptw1V",
                    "created": "1676549773"
                  },
                  "2": "football004.txt",
                  "3": ".  i just want to concentrate on my football,\"\" he said.\"\"\n\nFootball",
                  "4": "football",
                  "5": "football"
                },
                {
                  "0": {
                    "model": "text-davinci-002",
                    "choices": [
                      {
                        "text": "\n\nFootball",
                        "index": 0,
                        "finish_reason": "stop"
                      }
                    ],
                    "object": "text_completion",
                    "id": "cmpl-6kXTLRrKSmsx4d1pL5HJmEVj6zUxz",
                    "created": "1676549775"
                  },
                  "2": "football010.txt",
                  "3": "\n\nFootball",
                  "4": "football",
                  "5": "football"
                },
                {
                  "0": {
                    "model": "text-davinci-002",
                    "choices": [
                      {
                        "text": " it was an absolute no-brainer for me.\"\"\n\nRugby",
                        "index": 0,
                        "finish_reason": "stop"
                      }
                    ],
                    "object": "text_completion",
                    "id": "cmpl-6kXTLvdPFiWubNaQUXz48FpUKZN2s",
                    "created": "1676549775"
                  },
                  "2": "rugby119.txt",
                  "3": " it was an absolute no-brainer for me.\"\"\n\nRugby",
                  "4": "rugby",
                  "5": "rugby"
                },
                {
                  "0": {
                    "model": "text-davinci-002",
                    "choices": [
                      {
                        "text": ",\"\" said a william hill spokesman.\"\n\nFootball",
                        "index": 0,
                        "finish_reason": "stop"
                      }
                    ],
                    "object": "text_completion",
                    "id": "cmpl-6kXTMBY7U4LvUkuy6AJgN1AofuJq5",
                    "created": "1676549776"
                  },
                  "2": "football206.txt",
                  "3": ",\"\" said a william hill spokesman.\"\n\nFootball",
                  "4": "football",
                  "5": "football"
                },
                {
                  "0": {
                    "model": "text-davinci-002",
                    "choices": [
                      {
                        "text": " and executed a neat switch hit for boundaries off razzaq.  Ponting led from the front but all the batsmen played their part in a total of 344-8, Dravid top-scoring with 75 not out for the Asian XI in reply\"Cricket",
                        "index": 0,
                        "finish_reason": "stop"
                      }
                    ],
                    "object": "text_completion",
                    "id": "cmpl-6kXTMtbCcq4SQ77THMvxs0ppUfPQe",
                    "created": "1676549776"
                  },
                  "2": "cricket114.txt",
                  "3": " and executed a neat switch hit for boundaries off razzaq.  Ponting led from the front but all the batsmen played their part in a total of 344-8, Dravid top-scoring with 75 not out for the Asian XI in reply\"Cricket",
                  "4": "cricket",
                  "5": "cricket"
                },
                {
                  "0": {
                    "model": "text-davinci-002",
                    "choices": [
                      {
                        "text": "\"\n\nCricket",
                        "index": 0,
                        "finish_reason": "stop"
                      }
                    ],
                    "object": "text_completion",
                    "id": "cmpl-6kXTNjvQcQoxXqqcgh4cEomnV5qyh",
                    "created": "1676549777"
                  },
                  "2": "cricket100.txt",
                  "3": "\"\n\nCricket",
                  "4": "cricket",
                  "5": "cricket"
                },
                {
                  "0": {
                    "model": "text-davinci-002",
                    "choices": [
                      {
                        "text": "\n\nFootball",
                        "index": 0,
                        "finish_reason": "stop"
                      }
                    ],
                    "object": "text_completion",
                    "id": "cmpl-6kXTNvDpsaSINfESmsyFmx65BpL1v",
                    "created": "1676549777"
                  },
                  "2": "football212.txt",
                  "3": "\n\nFootball",
                  "4": "football",
                  "5": "football"
                },
                {
                  "0": {
                    "model": "text-davinci-002",
                    "choices": [
                      {
                        "text": " and there were some very encouraging signs.\n\nFootball",
                        "index": 0,
                        "finish_reason": "stop"
                      }
                    ],
                    "object": "text_completion",
                    "id": "cmpl-6kXTN31KvufxyxTvSiLcIw6o1ITX3",
                    "created": "1676549777"
                  },
                  "2": "cricket048.txt",
                  "3": " and there were some very encouraging signs.\n\nFootball",
                  "4": "cricket",
                  "5": "football"
                },
                {
                  "0": {
                    "model": "text-davinci-002",
                    "choices": [
                      {
                        "text": "\n\nCricket",
                        "index": 0,
                        "finish_reason": "stop"
                      }
                    ],
                    "object": "text_completion",
                    "id": "cmpl-6kXTOtPvY1jOIFYuD9Q9ELsdtDlPp",
                    "created": "1676549778"
                  },
                  "2": "cricket060.txt",
                  "3": "\n\nCricket",
                  "4": "cricket",
                  "5": "cricket"
                },
                {
                  "0": {
                    "model": "text-davinci-002",
                    "choices": [
                      {
                        "text": "\n\nCricket",
                        "index": 0,
                        "finish_reason": "stop"
                      }
                    ],
                    "object": "text_completion",
                    "id": "cmpl-6kXTOtHcgjLRWVNEotkouK5HAu0bI",
                    "created": "1676549778"
                  },
                  "2": "cricket074.txt",
                  "3": "\n\nCricket",
                  "4": "cricket",
                  "5": "cricket"
                },
                {
                  "0": {
                    "model": "text-davinci-002",
                    "choices": [
                      {
                        "text": " he named the all blacks as his main rivals for the 2003 world cup.\n\nRugby",
                        "index": 0,
                        "finish_reason": "stop"
                      }
                    ],
                    "object": "text_completion",
                    "id": "cmpl-6kXTOP2mQL4DvW9JlMR5LbqallrqO",
                    "created": "1676549778"
                  },
                  "2": "rugby045.txt",
                  "3": " he named the all blacks as his main rivals for the 2003 world cup.\n\nRugby",
                  "4": "rugby",
                  "5": "rugby"
                },
                {
                  "0": {
                    "model": "text-davinci-002",
                    "choices": [
                      {
                        "text": ",\"\" said robinson.Props\"\n\nAction 1: Football\nAction 2: Rugby",
                        "index": 0,
                        "finish_reason": "stop"
                      }
                    ],
                    "object": "text_completion",
                    "id": "cmpl-6kXTP7YmyqG0QcD5hcZT860eXxENk",
                    "created": "1676549779"
                  },
                  "2": "rugby051.txt",
                  "3": ",\"\" said robinson.Props\"\n\nAction 1: Football\nAction 2: Rugby",
                  "4": "rugby",
                  "5": "football"
                },
                {
                  "0": {
                    "model": "text-davinci-002",
                    "choices": [
                      {
                        "text": " we had two or three really good chances to kill them off.\"\"\n\nFootball",
                        "index": 0,
                        "finish_reason": "stop"
                      }
                    ],
                    "object": "text_completion",
                    "id": "cmpl-6kXTQxhWgiQFl1PjZV4BbwRjwn2jE",
                    "created": "1676549780"
                  },
                  "2": "football158.txt",
                  "3": " we had two or three really good chances to kill them off.\"\"\n\nFootball",
                  "4": "football",
                  "5": "football"
                },
                {
                  "0": {
                    "model": "text-davinci-002",
                    "choices": [
                      {
                        "text": " they can, and that has been the case against england and france.\"\"\n\nRugby",
                        "index": 0,
                        "finish_reason": "stop"
                      }
                    ],
                    "object": "text_completion",
                    "id": "cmpl-6kXTRbWbgJ4vnCQaPmGju9hzk5F5X",
                    "created": "1676549781"
                  },
                  "2": "rugby079.txt",
                  "3": " they can, and that has been the case against england and france.\"\"\n\nRugby",
                  "4": "rugby",
                  "5": "rugby"
                },
                {
                  "0": {
                    "model": "text-davinci-002",
                    "choices": [
                      {
                        "text": ",\"\" he says, before adding nonchalantly: \"\"at that point i was just annoyed at myself because i'd been looking forward to the olympics for so long and then this had to happen. \n\nRugby",
                        "index": 0,
                        "finish_reason": "stop"
                      }
                    ],
                    "object": "text_completion",
                    "id": "cmpl-6kXTRlW9uy0I3YfaS8bfB70xAR7zL",
                    "created": "1676549781"
                  },
                  "2": "atheletics093.txt",
                  "3": ",\"\" he says, before adding nonchalantly: \"\"at that point i was just annoyed at myself because i'd been looking forward to the olympics for so long and then this had to happen. \n\nRugby",
                  "4": "atheletics",
                  "5": "rugby"
                },
                {
                  "0": {
                    "model": "text-davinci-002",
                    "choices": [
                      {
                        "text": ",\"\" ellis said.\n\nFootball",
                        "index": 0,
                        "finish_reason": "stop"
                      }
                    ],
                    "object": "text_completion",
                    "id": "cmpl-6kXTS2DlTqIQCpXUV1k0maT34l63v",
                    "created": "1676549782"
                  },
                  "2": "football170.txt",
                  "3": ",\"\" ellis said.\n\nFootball",
                  "4": "football",
                  "5": "football"
                },
                {
                  "0": {
                    "model": "text-davinci-002",
                    "choices": [
                      {
                        "text": ", i just couldnt resist the opportunity to defend my title,\"\" said yelling.\"\"\n\nAthletics",
                        "index": 0,
                        "finish_reason": "stop"
                      }
                    ],
                    "object": "text_completion",
                    "id": "cmpl-6kXTSrOP9atQE3E1kXjxZbtFi3sve",
                    "created": "1676549782"
                  },
                  "2": "atheletics087.txt",
                  "3": ", i just couldnt resist the opportunity to defend my title,\"\" said yelling.\"\"\n\nAthletics",
                  "4": "atheletics",
                  "5": "atheletics"
                },
                {
                  "0": {
                    "model": "text-davinci-002",
                    "choices": [
                      {
                        "text": " with my comments,\"\" aragones said in a statement.\"\n\nFootball",
                        "index": 0,
                        "finish_reason": "stop"
                      }
                    ],
                    "object": "text_completion",
                    "id": "cmpl-6kXTTe3YQ6tzlhBci8xboc3lcBZEz",
                    "created": "1676549783"
                  },
                  "2": "football164.txt",
                  "3": " with my comments,\"\" aragones said in a statement.\"\n\nFootball",
                  "4": "football",
                  "5": "football"
                },
                {
                  "0": {
                    "model": "text-davinci-002",
                    "choices": [
                      {
                        "text": ". i enjoyed our success together and our friendship will continue,\"\n\nTennis",
                        "index": 0,
                        "finish_reason": "stop"
                      }
                    ],
                    "object": "text_completion",
                    "id": "cmpl-6kXTTOEyeVjZ1cq1pLicpPAQTEJcw",
                    "created": "1676549783"
                  },
                  "2": "tennis061.txt",
                  "3": ". i enjoyed our success together and our friendship will continue,\"\n\nTennis",
                  "4": "tennis",
                  "5": "tennis"
                },
                {
                  "0": {
                    "model": "text-davinci-002",
                    "choices": [
                      {
                        "text": " and it is fantastic that he has received this recognition,\"\" he said.\"\n\nRugby",
                        "index": 0,
                        "finish_reason": "stop"
                      }
                    ],
                    "object": "text_completion",
                    "id": "cmpl-6kXTUGCYxUD9RfjCGiO3I0OLs4yfk",
                    "created": "1676549784"
                  },
                  "2": "rugby086.txt",
                  "3": " and it is fantastic that he has received this recognition,\"\" he said.\"\n\nRugby",
                  "4": "rugby",
                  "5": "rugby"
                },
                {
                  "0": {
                    "model": "text-davinci-002",
                    "choices": [
                      {
                        "text": ", algeria s noureddine morceli produced some tough running to win the mens 5km race at the vt Bersl New Year races in hannut, belgium. the algerian - a former 1500m world record-holder - covered the distance in 12:59, coasting home 94 seconds clear of the field.\"\n\nAthletics",
                        "index": 0,
                        "finish_reason": "stop"
                      }
                    ],
                    "object": "text_completion",
                    "id": "cmpl-6kXTUG3iubCW1P9lf4S3lubHLFjzk",
                    "created": "1676549784"
                  },
                  "2": "atheletics078.txt",
                  "3": ", algeria s noureddine morceli produced some tough running to win the mens 5km race at the vt Bersl New Year races in hannut, belgium. the algerian - a former 1500m world record-holder - covered the distance in 12:59, coasting home 94 seconds clear of the field.\"\n\nAthletics",
                  "4": "atheletics",
                  "5": "atheletics"
                },
                {
                  "0": {
                    "model": "text-davinci-002",
                    "choices": [
                      {
                        "text": "\n\nRugby",
                        "index": 0,
                        "finish_reason": "stop"
                      }
                    ],
                    "object": "text_completion",
                    "id": "cmpl-6kXTVn2qs9e2l1MsV7tNvUTfeoOxc",
                    "created": "1676549785"
                  },
                  "2": "rugby092.txt",
                  "3": "\n\nRugby",
                  "4": "rugby",
                  "5": "rugby"
                },
                {
                  "0": {
                    "model": "text-davinci-002",
                    "choices": [
                      {
                        "text": "\n\nTennis",
                        "index": 0,
                        "finish_reason": "stop"
                      }
                    ],
                    "object": "text_completion",
                    "id": "cmpl-6kXTWYMU55RFwotF3awNY5dO1uITh",
                    "created": "1676549786"
                  },
                  "2": "tennis075.txt",
                  "3": "\n\nTennis",
                  "4": "tennis",
                  "5": "tennis"
                },
                {
                  "0": {
                    "model": "text-davinci-002",
                    "choices": [
                      {
                        "text": ", the case will be referred to the iaaf disciplinary commission for further action.\n\nAthletics",
                        "index": 0,
                        "finish_reason": "stop"
                      }
                    ],
                    "object": "text_completion",
                    "id": "cmpl-6kXTW8W4PH8EmWKHFzNuqhpjfzxaa",
                    "created": "1676549786"
                  },
                  "2": "atheletics050.txt",
                  "3": ", the case will be referred to the iaaf disciplinary commission for further action.\n\nAthletics",
                  "4": "atheletics",
                  "5": "atheletics"
                },
                {
                  "0": {
                    "model": "text-davinci-002",
                    "choices": [
                      {
                        "text": ",\"\" said white, who added that she believed conte when he assured her the drugs were legal and would help her train better.\"\n\nAthletics",
                        "index": 0,
                        "finish_reason": "stop"
                      }
                    ],
                    "object": "text_completion",
                    "id": "cmpl-6kXTW4UYgy6jkRAj361bG2qspSFx3",
                    "created": "1676549786"
                  },
                  "2": "atheletics044.txt",
                  "3": ",\"\" said white, who added that she believed conte when he assured her the drugs were legal and would help her train better.\"\n\nAthletics",
                  "4": "atheletics",
                  "5": "atheletics"
                },
                {
                  "0": {
                    "model": "text-davinci-002",
                    "choices": [
                      {
                        "text": ",\" moya said after embracing captain pato alvarez.\n\nDavis Cup",
                        "index": 0,
                        "finish_reason": "stop"
                      }
                    ],
                    "object": "text_completion",
                    "id": "cmpl-6kXTYg6LI5tzRdANSghlWW5XVsBsy",
                    "created": "1676549788"
                  },
                  "2": "tennis049.txt",
                  "3": ",\" moya said after embracing captain pato alvarez.\n\nDavis Cup",
                  "4": "tennis",
                  "5": ""
                },
                {
                  "0": {
                    "model": "text-davinci-002",
                    "choices": [
                      {
                        "text": ",\"\" he said.\"\n\nAthletics",
                        "index": 0,
                        "finish_reason": "stop"
                      }
                    ],
                    "object": "text_completion",
                    "id": "cmpl-6kXTZNwvss1cOf2hoEt1R4wOIZpQq",
                    "created": "1676549789"
                  },
                  "2": "atheletics045.txt",
                  "3": ",\"\" he said.\"\n\nAthletics",
                  "4": "atheletics",
                  "5": "atheletics"
                },
                {
                  "0": {
                    "model": "text-davinci-002",
                    "choices": [
                      {
                        "text": ",\"                tennis",
                        "index": 0,
                        "finish_reason": "stop"
                      }
                    ],
                    "object": "text_completion",
                    "id": "cmpl-6kXTZbjO2I4GTkQsSqRRlXMagSiqd",
                    "created": "1676549789"
                  },
                  "2": "tennis048.txt",
                  "3": ",\"                tennis",
                  "4": "tennis",
                  "5": "tennis"
                },
                {
                  "0": {
                    "model": "text-davinci-002",
                    "choices": [
                      {
                        "text": "\n\nAthletics",
                        "index": 0,
                        "finish_reason": "stop"
                      }
                    ],
                    "object": "text_completion",
                    "id": "cmpl-6kXTZ5iWW0QdT4oPIszxnyp4TnD4y",
                    "created": "1676549789"
                  },
                  "2": "atheletics051.txt",
                  "3": "\n\nAthletics",
                  "4": "atheletics",
                  "5": "atheletics"
                },
                {
                  "0": {
                    "model": "text-davinci-002",
                    "choices": [
                      {
                        "text": " we are dead and buried\n\nFootball",
                        "index": 0,
                        "finish_reason": "stop"
                      }
                    ],
                    "object": "text_completion",
                    "id": "cmpl-6kXTZ9wQDAYZpeQ2yGf58edYlSPu6",
                    "created": "1676549789"
                  },
                  "2": "rugby093.txt",
                  "3": " we are dead and buried\n\nFootball",
                  "4": "rugby",
                  "5": "football"
                },
                {
                  "0": {
                    "model": "text-davinci-002",
                    "choices": [
                      {
                        "text": " and if they do not we will.\"\"\n\nFootball",
                        "index": 0,
                        "finish_reason": "stop"
                      }
                    ],
                    "object": "text_completion",
                    "id": "cmpl-6kXTawoWfKth3SGbTzvHnzv5msg65",
                    "created": "1676549790"
                  },
                  "2": "atheletics079.txt",
                  "3": " and if they do not we will.\"\"\n\nFootball",
                  "4": "atheletics",
                  "5": "football"
                },
                {
                  "0": {
                    "model": "text-davinci-002",
                    "choices": [
                      {
                        "text": "\n\nTennis",
                        "index": 0,
                        "finish_reason": "stop"
                      }
                    ],
                    "object": "text_completion",
                    "id": "cmpl-6kXTah2HZmbHPW7iQhngTeDXY32NL",
                    "created": "1676549790"
                  },
                  "2": "tennis074.txt",
                  "3": "\n\nTennis",
                  "4": "tennis",
                  "5": "tennis"
                },
                {
                  "0": {
                    "model": "text-davinci-002",
                    "choices": [
                      {
                        "text": " its just a waste of energy,\" safin said.\"\n\nTennis",
                        "index": 0,
                        "finish_reason": "stop"
                      }
                    ],
                    "object": "text_completion",
                    "id": "cmpl-6kXTc3mkcFrwDpDolFW5dVHfLNUeO",
                    "created": "1676549792"
                  },
                  "2": "tennis060.txt",
                  "3": " its just a waste of energy,\" safin said.\"\n\nTennis",
                  "4": "tennis",
                  "5": "tennis"
                },
                {
                  "0": {
                    "model": "text-davinci-002",
                    "choices": [
                      {
                        "text": ",\"\" robinson told the bbc.Rugby",
                        "index": 0,
                        "finish_reason": "stop"
                      }
                    ],
                    "object": "text_completion",
                    "id": "cmpl-6kXTcd3DvIjf9zWfq2HrOH68uu644",
                    "created": "1676549792"
                  },
                  "2": "rugby087.txt",
                  "3": ",\"\" robinson told the bbc.Rugby",
                  "4": "rugby",
                  "5": "rugby"
                },
                {
                  "0": {
                    "model": "text-davinci-002",
                    "choices": [
                      {
                        "text": " which was going down.\"\"\n\nFootball",
                        "index": 0,
                        "finish_reason": "stop"
                      }
                    ],
                    "object": "text_completion",
                    "id": "cmpl-6kXTdJ51LYNlutmF8dbViBFRi5jGr",
                    "created": "1676549793"
                  },
                  "2": "football165.txt",
                  "3": " which was going down.\"\"\n\nFootball",
                  "4": "football",
                  "5": "football"
                },
                {
                  "0": {
                    "model": "text-davinci-002",
                    "choices": [
                      {
                        "text": ",\" said scott, who holds the scottish record with a time of 7.62 seconds.\n\nAthletics",
                        "index": 0,
                        "finish_reason": "stop"
                      }
                    ],
                    "object": "text_completion",
                    "id": "cmpl-6kXTdPlHgiQz5bvn9CJm7uwMIZ4eU",
                    "created": "1676549793"
                  },
                  "2": "atheletics086.txt",
                  "3": ",\" said scott, who holds the scottish record with a time of 7.62 seconds.\n\nAthletics",
                  "4": "atheletics",
                  "5": "atheletics"
                },
                {
                  "0": {
                    "model": "text-davinci-002",
                    "choices": [
                      {
                        "text": ",\"\" an atletico madrid spokesman told the club's official website.\"\n\nFootball",
                        "index": 0,
                        "finish_reason": "stop"
                      }
                    ],
                    "object": "text_completion",
                    "id": "cmpl-6kXTeLB5RtfB1qGUirT2PH7095Jkc",
                    "created": "1676549794"
                  },
                  "2": "football171.txt",
                  "3": ",\"\" an atletico madrid spokesman told the club's official website.\"\n\nFootball",
                  "4": "football",
                  "5": "football"
                },
                {
                  "0": {
                    "model": "text-davinci-002",
                    "choices": [
                      {
                        "text": " and they should let him compete in athens,\"\" collins said. \"\"once you've served your time you should be allowed to get on with your life.\"\"\n\nAthletics",
                        "index": 0,
                        "finish_reason": "stop"
                      }
                    ],
                    "object": "text_completion",
                    "id": "cmpl-6kXTe2ZL0cTCKgCzrnypFQBeC96II",
                    "created": "1676549794"
                  },
                  "2": "atheletics092.txt",
                  "3": " and they should let him compete in athens,\"\" collins said. \"\"once you've served your time you should be allowed to get on with your life.\"\"\n\nAthletics",
                  "4": "atheletics",
                  "5": "atheletics"
                },
                {
                  "0": {
                    "model": "text-davinci-002",
                    "choices": [
                      {
                        "text": " and not having the same hunger and desire to get back, i feel now is the time for me to retire,\" said hodges.\"\"\n\nRugby",
                        "index": 0,
                        "finish_reason": "stop"
                      }
                    ],
                    "object": "text_completion",
                    "id": "cmpl-6kXTf4IyhoweXb4zwofPcQ5zFbKCj",
                    "created": "1676549795"
                  },
                  "2": "rugby078.txt",
                  "3": " and not having the same hunger and desire to get back, i feel now is the time for me to retire,\" said hodges.\"\"\n\nRugby",
                  "4": "rugby",
                  "5": "rugby"
                },
                {
                  "0": {
                    "model": "text-davinci-002",
                    "choices": [
                      {
                        "text": ",\"\" said rangers boss walter smith of the news.\"\n\nFootball",
                        "index": 0,
                        "finish_reason": "stop"
                      }
                    ],
                    "object": "text_completion",
                    "id": "cmpl-6kXTgg7Pld8jB5GEC0TQ3olbCJgD9",
                    "created": "1676549796"
                  },
                  "2": "football159.txt",
                  "3": ",\"\" said rangers boss walter smith of the news.\"\n\nFootball",
                  "4": "football",
                  "5": "football"
                },
                {
                  "0": {
                    "model": "text-davinci-002",
                    "choices": [
                      {
                        "text": ", which is why i wasnt too disappointed when i was left out of the side against england.  Rugby",
                        "index": 0,
                        "finish_reason": "stop"
                      }
                    ],
                    "object": "text_completion",
                    "id": "cmpl-6kXTglqbYTbTn3hdCn4LyVIHAwDQo",
                    "created": "1676549796"
                  },
                  "2": "rugby050.txt",
                  "3": ", which is why i wasnt too disappointed when i was left out of the side against england.  Rugby",
                  "4": "rugby",
                  "5": "rugby"
                },
                {
                  "0": {
                    "model": "text-davinci-002",
                    "choices": [
                      {
                        "text": " for the autumn internationals, delaigue's form looked certain to earn him the number 10 shirt against ireland.\n\nRugby",
                        "index": 0,
                        "finish_reason": "stop"
                      }
                    ],
                    "object": "text_completion",
                    "id": "cmpl-6kXThvMZP29PFs2NQ9XGxs1iLhclZ",
                    "created": "1676549797"
                  },
                  "2": "rugby044.txt",
                  "3": " for the autumn internationals, delaigue's form looked certain to earn him the number 10 shirt against ireland.\n\nRugby",
                  "4": "rugby",
                  "5": "rugby"
                },
                {
                  "0": {
                    "model": "text-davinci-002",
                    "choices": [
                      {
                        "text": "\n\nCricket",
                        "index": 0,
                        "finish_reason": "stop"
                      }
                    ],
                    "object": "text_completion",
                    "id": "cmpl-6kXThNDLLY7xaQIetHggyCI5QCjkk",
                    "created": "1676549797"
                  },
                  "2": "cricket075.txt",
                  "3": "\n\nCricket",
                  "4": "cricket",
                  "5": "cricket"
                },
                {
                  "0": {
                    "model": "text-davinci-002",
                    "choices": [
                      {
                        "text": "\n\nCricket",
                        "index": 0,
                        "finish_reason": "stop"
                      }
                    ],
                    "object": "text_completion",
                    "id": "cmpl-6kXThHEUXTAzYHQMgEL6IBAqcUk5N",
                    "created": "1676549797"
                  },
                  "2": "cricket061.txt",
                  "3": "\n\nCricket",
                  "4": "cricket",
                  "5": "cricket"
                },
                {
                  "0": {
                    "model": "text-davinci-002",
                    "choices": [
                      {
                        "text": ".  i'm not too far behind the game and there is still some gas left in the tank.\"  wilson will be playing under the captaincy of stephen fleming, who is also making a return to the side\"\"\n\nCricket",
                        "index": 0,
                        "finish_reason": "stop"
                      }
                    ],
                    "object": "text_completion",
                    "id": "cmpl-6kXTi0CwRk1Vo0i6X1rmarf5youIX",
                    "created": "1676549798"
                  },
                  "2": "cricket049.txt",
                  "3": ".  i'm not too far behind the game and there is still some gas left in the tank.\"  wilson will be playing under the captaincy of stephen fleming, who is also making a return to the side\"\"\n\nCricket",
                  "4": "cricket",
                  "5": "cricket"
                },
                {
                  "0": {
                    "model": "text-davinci-002",
                    "choices": [
                      {
                        "text": "\n\nFootball",
                        "index": 0,
                        "finish_reason": "stop"
                      }
                    ],
                    "object": "text_completion",
                    "id": "cmpl-6kXTkNXrC7jnDc9ALokeg3VgUzUu4",
                    "created": "1676549800"
                  },
                  "2": "football213.txt",
                  "3": "\n\nFootball",
                  "4": "football",
                  "5": "football"
                },
                {
                  "0": {
                    "model": "text-davinci-002",
                    "choices": [
                      {
                        "text": " and feel that something that would make the game exciting - silly mid-off and silly mid-on brought in to make it difficult for the batsman - would be something that every one-day cricket fan would look forward to,\"\" gavaskar told a local radio station. Cricket",
                        "index": 0,
                        "finish_reason": "stop"
                      }
                    ],
                    "object": "text_completion",
                    "id": "cmpl-6kXTkPp2PyCgm2EZV9DQZiaKJSZST",
                    "created": "1676549800"
                  },
                  "2": "cricket101.txt",
                  "3": " and feel that something that would make the game exciting - silly mid-off and silly mid-on brought in to make it difficult for the batsman - would be something that every one-day cricket fan would look forward to,\"\" gavaskar told a local radio station. Cricket",
                  "4": "cricket",
                  "5": "cricket"
                },
                {
                  "0": {
                    "model": "text-davinci-002",
                    "choices": [
                      {
                        "text": " anymore.Cricket",
                        "index": 0,
                        "finish_reason": "stop"
                      }
                    ],
                    "object": "text_completion",
                    "id": "cmpl-6kXTnbQ1xC7uxoGSIzoopDKq8ur5P",
                    "created": "1676549803"
                  },
                  "2": "cricket115.txt",
                  "3": " anymore.Cricket",
                  "4": "cricket",
                  "5": "cricket"
                },
                {
                  "0": {
                    "model": "text-davinci-002",
                    "choices": [
                      {
                        "text": " following the fall-out from a tunnel fracas that saw both managers castigated by the fa.\n\nFootball",
                        "index": 0,
                        "finish_reason": "stop"
                      }
                    ],
                    "object": "text_completion",
                    "id": "cmpl-6kXTnnmTp4cwentD6p059JsgpYMdJ",
                    "created": "1676549803"
                  },
                  "2": "football207.txt",
                  "3": " following the fall-out from a tunnel fracas that saw both managers castigated by the fa.\n\nFootball",
                  "4": "football",
                  "5": "football"
                },
                {
                  "0": {
                    "model": "text-davinci-002",
                    "choices": [
                      {
                        "text": " - i told myself that i just had to start playing my game,\"\" she said.\"\n\nTennis",
                        "index": 0,
                        "finish_reason": "stop"
                      }
                    ],
                    "object": "text_completion",
                    "id": "cmpl-6kXToAhpRozmLqLnLnKOVQt14fQCc",
                    "created": "1676549804"
                  },
                  "2": "tennis100.txt",
                  "3": " - i told myself that i just had to start playing my game,\"\" she said.\"\n\nTennis",
                  "4": "tennis",
                  "5": "tennis"
                },
                {
                  "0": {
                    "model": "text-davinci-002",
                    "choices": [
                      {
                        "text": ",\" said marshall.\n\nFootball",
                        "index": 0,
                        "finish_reason": "stop"
                      }
                    ],
                    "object": "text_completion",
                    "id": "cmpl-6kXTo8hYWKuZUM1HplOwo4Fv7IhRn",
                    "created": "1676549804"
                  },
                  "2": "rugby118.txt",
                  "3": ",\" said marshall.\n\nFootball",
                  "4": "rugby",
                  "5": "football"
                },
                {
                  "0": {
                    "model": "text-davinci-002",
                    "choices": [
                      {
                        "text": " and the way we conceded both goals.\n\nFootball",
                        "index": 0,
                        "finish_reason": "stop"
                      }
                    ],
                    "object": "text_completion",
                    "id": "cmpl-6kXToOaEzwHL3TuACGbNjmH28Pbpg",
                    "created": "1676549804"
                  },
                  "2": "football011.txt",
                  "3": " and the way we conceded both goals.\n\nFootball",
                  "4": "football",
                  "5": "football"
                },
                {
                  "0": {
                    "model": "text-davinci-002",
                    "choices": [
                      {
                        "text": "\n\nCricket",
                        "index": 0,
                        "finish_reason": "stop"
                      }
                    ],
                    "object": "text_completion",
                    "id": "cmpl-6kXTpeR3Al5qCScSW9os0xWxb2rx8",
                    "created": "1676549805"
                  },
                  "2": "football005.txt",
                  "3": "\n\nCricket",
                  "4": "football",
                  "5": "cricket"
                },
                {
                  "0": {
                    "model": "text-davinci-002",
                    "choices": [
                      {
                        "text": ",\"\" he told the new issue of wales on saturday magazine.\"\n\nRugby",
                        "index": 0,
                        "finish_reason": "stop"
                      }
                    ],
                    "object": "text_completion",
                    "id": "cmpl-6kXTpoRdBYvwdwMCTNOAlfWbNIJoc",
                    "created": "1676549805"
                  },
                  "2": "rugby124.txt",
                  "3": ",\"\" he told the new issue of wales on saturday magazine.\"\n\nRugby",
                  "4": "rugby",
                  "5": "rugby"
                },
                {
                  "0": {
                    "model": "text-davinci-002",
                    "choices": [
                      {
                        "text": " and in 2003 they contrived to lose out on the grand slam to england, going down in the final match at twickenham.  Rugby",
                        "index": 0,
                        "finish_reason": "stop"
                      }
                    ],
                    "object": "text_completion",
                    "id": "cmpl-6kXTpLDG21lsVcCZG0zxq6ajHE1G5",
                    "created": "1676549805"
                  },
                  "2": "rugby130.txt",
                  "3": " and in 2003 they contrived to lose out on the grand slam to england, going down in the final match at twickenham.  Rugby",
                  "4": "rugby",
                  "5": "rugby"
                },
                {
                  "0": {
                    "model": "text-davinci-002",
                    "choices": [
                      {
                        "text": " and win the group,\" he said.\"\n\nFootball",
                        "index": 0,
                        "finish_reason": "stop"
                      }
                    ],
                    "object": "text_completion",
                    "id": "cmpl-6kXTr3EBvcS5PT9zLKjbNRG8LvyJY",
                    "created": "1676549807"
                  },
                  "2": "football039.txt",
                  "3": " and win the group,\" he said.\"\n\nFootball",
                  "4": "football",
                  "5": "football"
                },
                {
                  "0": {
                    "model": "text-davinci-002",
                    "choices": [
                      {
                        "text": " (rfu) and lance thompson, andys agent, we have to consider andys wishes,\"\" he said.\n\nRugby",
                        "index": 0,
                        "finish_reason": "stop"
                      }
                    ],
                    "object": "text_completion",
                    "id": "cmpl-6kXTraggQ5ATBjovyHJx49rcIy6yj",
                    "created": "1676549807"
                  },
                  "2": "rugby126.txt",
                  "3": " (rfu) and lance thompson, andys agent, we have to consider andys wishes,\"\" he said.\n\nRugby",
                  "4": "rugby",
                  "5": "rugby"
                },
                {
                  "0": {
                    "model": "text-davinci-002",
                    "choices": [
                      {
                        "text": " in 1985.\"\"\n\nRugby",
                        "index": 0,
                        "finish_reason": "stop"
                      }
                    ],
                    "object": "text_completion",
                    "id": "cmpl-6kXTs4PBwjyhcq2AxuzSXIG46mqKW",
                    "created": "1676549808"
                  },
                  "2": "rugby132.txt",
                  "3": " in 1985.\"\"\n\nRugby",
                  "4": "rugby",
                  "5": "rugby"
                },
                {
                  "0": {
                    "model": "text-davinci-002",
                    "choices": [
                      {
                        "text": "\n\nFootball",
                        "index": 0,
                        "finish_reason": "stop"
                      }
                    ],
                    "object": "text_completion",
                    "id": "cmpl-6kXTsV6kPJTzXqIn9rVWWFZHsKaDp",
                    "created": "1676549808"
                  },
                  "2": "football013.txt",
                  "3": "\n\nFootball",
                  "4": "football",
                  "5": "football"
                },
                {
                  "0": {
                    "model": "text-davinci-002",
                    "choices": [
                      {
                        "text": " in the second half and, if wed have taken them, wed have won the match. \"\"i had a chat with the players about the importance of playing for the shirt and for the fans. \"\"\"- manchester united manager sir alex ferguson:\"\"this was a big, big win for us. manchester city Football",
                        "index": 0,
                        "finish_reason": "stop"
                      }
                    ],
                    "object": "text_completion",
                    "id": "cmpl-6kXTtnBxBnOQjvCRJQND6uT55v6y4",
                    "created": "1676549809"
                  },
                  "2": "football007.txt",
                  "3": " in the second half and, if wed have taken them, wed have won the match. \"\"i had a chat with the players about the importance of playing for the shirt and for the fans. \"\"\"- manchester united manager sir alex ferguson:\"\"this was a big, big win for us. manchester city Football",
                  "4": "football",
                  "5": "football"
                },
                {
                  "0": {
                    "model": "text-davinci-002",
                    "choices": [
                      {
                        "text": ".\n\nFootball",
                        "index": 0,
                        "finish_reason": "stop"
                      }
                    ],
                    "object": "text_completion",
                    "id": "cmpl-6kXTvOJLeGcwppamEhQY82waIfYnR",
                    "created": "1676549811"
                  },
                  "2": "football239.txt",
                  "3": ".\n\nFootball",
                  "4": "football",
                  "5": "football"
                },
                {
                  "0": {
                    "model": "text-davinci-002",
                    "choices": [
                      {
                        "text": " next month in dubai.\n\nCricket",
                        "index": 0,
                        "finish_reason": "stop"
                      }
                    ],
                    "object": "text_completion",
                    "id": "cmpl-6kXTvsn10h8rYcgfqpoAOtXmdFUDP",
                    "created": "1676549811"
                  },
                  "2": "cricket103.txt",
                  "3": " next month in dubai.\n\nCricket",
                  "4": "cricket",
                  "5": "cricket"
                },
                {
                  "0": {
                    "model": "text-davinci-002",
                    "choices": [
                      {
                        "text": ",\"\" owen told reporters.\n\nFootball",
                        "index": 0,
                        "finish_reason": "stop"
                      }
                    ],
                    "object": "text_completion",
                    "id": "cmpl-6kXTvODZNWSQEGtcE8ySQ7w2OlEPW",
                    "created": "1676549811"
                  },
                  "2": "football211.txt",
                  "3": ",\"\" owen told reporters.\n\nFootball",
                  "4": "football",
                  "5": "football"
                },
                {
                  "0": {
                    "model": "text-davinci-002",
                    "choices": [
                      {
                        "text": " but was praised for his restrained post-match reaction\"\n\nFootball",
                        "index": 0,
                        "finish_reason": "stop"
                      }
                    ],
                    "object": "text_completion",
                    "id": "cmpl-6kXTvnmJudMTf3kxvAArCpDDImcut",
                    "created": "1676549811"
                  },
                  "2": "football205.txt",
                  "3": " but was praised for his restrained post-match reaction\"\n\nFootball",
                  "4": "football",
                  "5": "football"
                },
                {
                  "0": {
                    "model": "text-davinci-002",
                    "choices": [
                      {
                        "text": " it is not possible to control the scheduling of test matches.  the three-week itinerary for the team was taking into account the fact that england had not been to south africa for six years\"\n\nCricket",
                        "index": 0,
                        "finish_reason": "stop"
                      }
                    ],
                    "object": "text_completion",
                    "id": "cmpl-6kXTwsu7VkixK0u4zGleZbwYyB6t9",
                    "created": "1676549812"
                  },
                  "2": "cricket117.txt",
                  "3": " it is not possible to control the scheduling of test matches.  the three-week itinerary for the team was taking into account the fact that england had not been to south africa for six years\"\n\nCricket",
                  "4": "cricket",
                  "5": "cricket"
                },
                {
                  "0": {
                    "model": "text-davinci-002",
                    "choices": [
                      {
                        "text": "  \n\nCricket",
                        "index": 0,
                        "finish_reason": "stop"
                      }
                    ],
                    "object": "text_completion",
                    "id": "cmpl-6kXTxVaMGanypvVebzaUDD3KNMEyD",
                    "created": "1676549813"
                  },
                  "2": "cricket077.txt",
                  "3": "  \n\nCricket",
                  "4": "cricket",
                  "5": "cricket"
                },
                {
                  "0": {
                    "model": "text-davinci-002",
                    "choices": [
                      {
                        "text": " have not won in this country since 1965.\n\nCricket",
                        "index": 0,
                        "finish_reason": "stop"
                      }
                    ],
                    "object": "text_completion",
                    "id": "cmpl-6kXTxM5DTQ5vaj2lTyYeD0jJnp4jE",
                    "created": "1676549813"
                  },
                  "2": "cricket063.txt",
                  "3": " have not won in this country since 1965.\n\nCricket",
                  "4": "cricket",
                  "5": "cricket"
                },
                {
                  "0": {
                    "model": "text-davinci-002",
                    "choices": [
                      {
                        "text": "\n\nCricket",
                        "index": 0,
                        "finish_reason": "stop"
                      }
                    ],
                    "object": "text_completion",
                    "id": "cmpl-6kXTyDMaMowx3y3HsVimWSDGOxadJ",
                    "created": "1676549814"
                  },
                  "2": "cricket088.txt",
                  "3": "\n\nCricket",
                  "4": "cricket",
                  "5": "cricket"
                },
                {
                  "0": {
                    "model": "text-davinci-002",
                    "choices": [
                      {
                        "text": ",\"\" the 31-year-old lock told gazzetta dello sport.  \"\"in my opinion it will be a close and scrappy game in which the team that makes least mistakes will come out on top.\"\"\n\nRugby",
                        "index": 0,
                        "finish_reason": "stop"
                      }
                    ],
                    "object": "text_completion",
                    "id": "cmpl-6kXTyP8uRGqAIoqa1XBdJ7iGJXEwH",
                    "created": "1676549814"
                  },
                  "2": "rugby052.txt",
                  "3": ",\"\" the 31-year-old lock told gazzetta dello sport.  \"\"in my opinion it will be a close and scrappy game in which the team that makes least mistakes will come out on top.\"\"\n\nRugby",
                  "4": "rugby",
                  "5": "rugby"
                },
                {
                  "0": {
                    "model": "text-davinci-002",
                    "choices": [
                      {
                        "text": " refused to be drawn on accusations that the reigning world champions had been deliberately targeting the welshman following a string of injuries to the likes of gavin henson and shane williams.\n\nRugby",
                        "index": 0,
                        "finish_reason": "stop"
                      }
                    ],
                    "object": "text_completion",
                    "id": "cmpl-6kXTz7UoHdxiNAokEzWBlNKtNxAv3",
                    "created": "1676549815"
                  },
                  "2": "rugby046.txt",
                  "3": " refused to be drawn on accusations that the reigning world champions had been deliberately targeting the welshman following a string of injuries to the likes of gavin henson and shane williams.\n\nRugby",
                  "4": "rugby",
                  "5": "rugby"
                },
                {
                  "0": {
                    "model": "text-davinci-002",
                    "choices": [
                      {
                        "text": ",\" said jurgen melzer. \"\"]\n\nTennis",
                        "index": 0,
                        "finish_reason": "stop"
                      }
                    ],
                    "object": "text_completion",
                    "id": "cmpl-6kXU0Oqyxz3q3SAJBpv5uX9ukNYvR",
                    "created": "1676549816"
                  },
                  "2": "tennis089.txt",
                  "3": ",\" said jurgen melzer. \"\"]\n\nTennis",
                  "4": "tennis",
                  "5": "tennis"
                },
                {
                  "0": {
                    "model": "text-davinci-002",
                    "choices": [
                      {
                        "text": " but there are not many international competitions left for me to do,\" said holmes, who plans to retire after this summer's world championships in helsinki.\"\n\nAthletics",
                        "index": 0,
                        "finish_reason": "stop"
                      }
                    ],
                    "object": "text_completion",
                    "id": "cmpl-6kXU06Xexa66NEl2Vzf9OqOYUdoOb",
                    "created": "1676549816"
                  },
                  "2": "atheletics084.txt",
                  "3": " but there are not many international competitions left for me to do,\" said holmes, who plans to retire after this summer's world championships in helsinki.\"\n\nAthletics",
                  "4": "atheletics",
                  "5": "atheletics"
                },
                {
                  "0": {
                    "model": "text-davinci-002",
                    "choices": [
                      {
                        "text": ",\" he said.\"\n\nFootball",
                        "index": 0,
                        "finish_reason": "stop"
                      }
                    ],
                    "object": "text_completion",
                    "id": "cmpl-6kXU1Nfl4j5WRc0phe81zbc1He9HS",
                    "created": "1676549817"
                  },
                  "2": "football167.txt",
                  "3": ",\" he said.\"\n\nFootball",
                  "4": "football",
                  "5": "football"
                },
                {
                  "0": {
                    "model": "text-davinci-002",
                    "choices": [
                      {
                        "text": ",\" gardener said. \"we went out there and grabbed the gold medal because we really wanted it.\"\n\n Athletics",
                        "index": 0,
                        "finish_reason": "stop"
                      }
                    ],
                    "object": "text_completion",
                    "id": "cmpl-6kXU1Ayh82em9s73sqOCn6tFHqz6h",
                    "created": "1676549817"
                  },
                  "2": "atheletics090.txt",
                  "3": ",\" gardener said. \"we went out there and grabbed the gold medal because we really wanted it.\"\n\n Athletics",
                  "4": "atheletics",
                  "5": "atheletics"
                },
                {
                  "0": {
                    "model": "text-davinci-002",
                    "choices": [
                      {
                        "text": ",\"\" he said.\n\nFootball",
                        "index": 0,
                        "finish_reason": "stop"
                      }
                    ],
                    "object": "text_completion",
                    "id": "cmpl-6kXU2SwSTNNgUepYUO7lxuT61YN1v",
                    "created": "1676549818"
                  },
                  "2": "football173.txt",
                  "3": ",\"\" he said.\n\nFootball",
                  "4": "football",
                  "5": "football"
                },
                {
                  "0": {
                    "model": "text-davinci-002",
                    "choices": [
                      {
                        "text": ",\"\" said darren cahill, philippoussis\"\n\nTennis",
                        "index": 0,
                        "finish_reason": "stop"
                      }
                    ],
                    "object": "text_completion",
                    "id": "cmpl-6kXU2C1DzYoCpCT0DWwKXbGR3ItYu",
                    "created": "1676549818"
                  },
                  "2": "tennis076.txt",
                  "3": ",\"\" said darren cahill, philippoussis\"\n\nTennis",
                  "4": "tennis",
                  "5": "tennis"
                },
                {
                  "0": {
                    "model": "text-davinci-002",
                    "choices": [
                      {
                        "text": "\n\nFootball",
                        "index": 0,
                        "finish_reason": "stop"
                      }
                    ],
                    "object": "text_completion",
                    "id": "cmpl-6kXU3VR3mPxOOUDYa4uRhwdmFiHhJ",
                    "created": "1676549819"
                  },
                  "2": "football198.txt",
                  "3": "\n\nFootball",
                  "4": "football",
                  "5": "football"
                },
                {
                  "0": {
                    "model": "text-davinci-002",
                    "choices": [
                      {
                        "text": ", however, we feel that japan could stage the whole tournament on its own,\"\" a jrfu spokesman said.\"\n\nRugby",
                        "index": 0,
                        "finish_reason": "stop"
                      }
                    ],
                    "object": "text_completion",
                    "id": "cmpl-6kXU3rNvuGxuZvTGduT8HkwrF0wmF",
                    "created": "1676549819"
                  },
                  "2": "rugby091.txt",
                  "3": ", however, we feel that japan could stage the whole tournament on its own,\"\" a jrfu spokesman said.\"\n\nRugby",
                  "4": "rugby",
                  "5": "rugby"
                },
                {
                  "0": {
                    "model": "text-davinci-002",
                    "choices": [
                      {
                        "text": ", rugby is the biggest winner\"\n\nRugby",
                        "index": 0,
                        "finish_reason": "stop"
                      }
                    ],
                    "object": "text_completion",
                    "id": "cmpl-6kXU3QZ6iG2v8ZGtiNsFJQLRDDXzl",
                    "created": "1676549819"
                  },
                  "2": "rugby085.txt",
                  "3": ", rugby is the biggest winner\"\n\nRugby",
                  "4": "rugby",
                  "5": "rugby"
                },
                {
                  "0": {
                    "model": "text-davinci-002",
                    "choices": [
                      {
                        "text": " as a player in terms of development,\"\" goldfine told the new york times.\"\n\nTennis",
                        "index": 0,
                        "finish_reason": "stop"
                      }
                    ],
                    "object": "text_completion",
                    "id": "cmpl-6kXU4qKaRX7TjnyOtZH1Zhfr0eZkw",
                    "created": "1676549820"
                  },
                  "2": "tennis062.txt",
                  "3": " as a player in terms of development,\"\" goldfine told the new york times.\"\n\nTennis",
                  "4": "tennis",
                  "5": "tennis"
                },
                {
                  "0": {
                    "model": "text-davinci-002",
                    "choices": [
                      {
                        "text": " and thanou, who both face being thrown out of the games, are among five greeks charged with making false statements about the incident.\n\nFootball",
                        "index": 0,
                        "finish_reason": "stop"
                      }
                    ],
                    "object": "text_completion",
                    "id": "cmpl-6kXU51EDc7Dns0oMgc2bRCFLUeT86",
                    "created": "1676549821"
                  },
                  "2": "atheletics047.txt",
                  "3": " and thanou, who both face being thrown out of the games, are among five greeks charged with making false statements about the incident.\n\nFootball",
                  "4": "atheletics",
                  "5": "football"
                },
                {
                  "0": {
                    "model": "text-davinci-002",
                    "choices": [
                      {
                        "text": ",\"\" said race director david bedford.\"\n\nMarathon",
                        "index": 0,
                        "finish_reason": "stop"
                      }
                    ],
                    "object": "text_completion",
                    "id": "cmpl-6kXU6Fbk2jn6y2CIOZJgrpHBkdXhd",
                    "created": "1676549822"
                  },
                  "2": "atheletics053.txt",
                  "3": ",\"\" said race director david bedford.\"\n\nMarathon",
                  "4": "atheletics",
                  "5": ""
                },
                {
                  "0": {
                    "model": "text-davinci-002",
                    "choices": [
                      {
                        "text": " races,\"\" she said.\"\n\nAthletics",
                        "index": 0,
                        "finish_reason": "stop"
                      }
                    ],
                    "object": "text_completion",
                    "id": "cmpl-6kXU6G3D4wMoqKipq9tXt4pwDt6h8",
                    "created": "1676549822"
                  },
                  "2": "atheletics052.txt",
                  "3": " races,\"\" she said.\"\n\nAthletics",
                  "4": "atheletics",
                  "5": "atheletics"
                },
                {
                  "0": {
                    "model": "text-davinci-002",
                    "choices": [
                      {
                        "text": ",\"\" said radcliffe, speaking at a fringe meeting at the labour party conference. rugby",
                        "index": 0,
                        "finish_reason": "stop"
                      }
                    ],
                    "object": "text_completion",
                    "id": "cmpl-6kXU7RQZILbOJJ01CShvra9Hq3UBr",
                    "created": "1676549823"
                  },
                  "2": "atheletics046.txt",
                  "3": ",\"\" said radcliffe, speaking at a fringe meeting at the labour party conference. rugby",
                  "4": "atheletics",
                  "5": "rugby"
                },
                {
                  "0": {
                    "model": "text-davinci-002",
                    "choices": [
                      {
                        "text": " at the end of the season,\"\" johnson said. \"\"i have been very lucky to have achieved what i have in my career, but ive enjoyed every minute and i now look forward to taking on new challenges.\"\"\n\nRugby",
                        "index": 0,
                        "finish_reason": "stop"
                      }
                    ],
                    "object": "text_completion",
                    "id": "cmpl-6kXU78MSrpcTrMBFIEThNSrV6VzTW",
                    "created": "1676549823"
                  },
                  "2": "rugby084.txt",
                  "3": " at the end of the season,\"\" johnson said. \"\"i have been very lucky to have achieved what i have in my career, but ive enjoyed every minute and i now look forward to taking on new challenges.\"\"\n\nRugby",
                  "4": "rugby",
                  "5": "rugby"
                },
                {
                  "0": {
                    "model": "text-davinci-002",
                    "choices": [
                      {
                        "text": " and nalbandian took full advantage to draw level at two sets all.  tensions remained on the surface as nalbandian refused to take part in the post-match handshake in front of the adoring home crowd.\"\"\n\nTennis",
                        "index": 0,
                        "finish_reason": "stop"
                      }
                    ],
                    "object": "text_completion",
                    "id": "cmpl-6kXU80iqHcDpiPFs5arjxLaGoZYNM",
                    "created": "1676549824"
                  },
                  "2": "tennis063.txt",
                  "3": " and nalbandian took full advantage to draw level at two sets all.  tensions remained on the surface as nalbandian refused to take part in the post-match handshake in front of the adoring home crowd.\"\"\n\nTennis",
                  "4": "tennis",
                  "5": "tennis"
                },
                {
                  "0": {
                    "model": "text-davinci-002",
                    "choices": [
                      {
                        "text": " the teams matches.  its nice to be in the final again and we have a chance for the title,\"\" she said.\"\n\nTennis",
                        "index": 0,
                        "finish_reason": "stop"
                      }
                    ],
                    "object": "text_completion",
                    "id": "cmpl-6kXU94o6jxP2xDCJ9Jy3A5iCwcZeD",
                    "created": "1676549825"
                  },
                  "2": "tennis077.txt",
                  "3": " the teams matches.  its nice to be in the final again and we have a chance for the title,\"\" she said.\"\n\nTennis",
                  "4": "tennis",
                  "5": "tennis"
                },
                {
                  "0": {
                    "model": "text-davinci-002",
                    "choices": [
                      {
                        "text": " and has captained newcastle for the past two seasons. he will do a great job.\"\"\n\nRuggy",
                        "index": 0,
                        "finish_reason": "stop"
                      }
                    ],
                    "object": "text_completion",
                    "id": "cmpl-6kXUA47aGeMUPXDti3ScRl7j5tvXn",
                    "created": "1676549826"
                  },
                  "2": "rugby090.txt",
                  "3": " and has captained newcastle for the past two seasons. he will do a great job.\"\"\n\nRuggy",
                  "4": "rugby",
                  "5": ""
                },
                {
                  "0": {
                    "model": "text-davinci-002",
                    "choices": [
                      {
                        "text": " and enjoying my football then everything else is a bonus\"  \"i dont get too wrapped up in what people say\"\n\nFootball",
                        "index": 0,
                        "finish_reason": "stop"
                      }
                    ],
                    "object": "text_completion",
                    "id": "cmpl-6kXUAx0pkdohBPNKln0nLm5nejijY",
                    "created": "1676549826"
                  },
                  "2": "football199.txt",
                  "3": " and enjoying my football then everything else is a bonus\"  \"i dont get too wrapped up in what people say\"\n\nFootball",
                  "4": "football",
                  "5": "football"
                },
                {
                  "0": {
                    "model": "text-davinci-002",
                    "choices": [
                      {
                        "text": ",\"\" morientes said last week.\"\n\nFootball",
                        "index": 0,
                        "finish_reason": "stop"
                      }
                    ],
                    "object": "text_completion",
                    "id": "cmpl-6kXUBazjkRVik6BYqW8qthvN48slE",
                    "created": "1676549827"
                  },
                  "2": "football172.txt",
                  "3": ",\"\" morientes said last week.\"\n\nFootball",
                  "4": "football",
                  "5": "football"
                },
                {
                  "0": {
                    "model": "text-davinci-002",
                    "choices": [
                      {
                        "text": "\n\nFootball",
                        "index": 0,
                        "finish_reason": "stop"
                      }
                    ],
                    "object": "text_completion",
                    "id": "cmpl-6kXUBeOAVIG2Lu9LJCHLq6dJhMq82",
                    "created": "1676549827"
                  },
                  "2": "atheletics091.txt",
                  "3": "\n\nFootball",
                  "4": "atheletics",
                  "5": "football"
                },
                {
                  "0": {
                    "model": "text-davinci-002",
                    "choices": [
                      {
                        "text": ",\"\"\")\n\nTennis",
                        "index": 0,
                        "finish_reason": "stop"
                      }
                    ],
                    "object": "text_completion",
                    "id": "cmpl-6kXUBXzrK5DJeSZjm4ROEX3CrV8EH",
                    "created": "1676549827"
                  },
                  "2": "tennis088.txt",
                  "3": ",\"\"\")\n\nTennis",
                  "4": "tennis",
                  "5": "tennis"
                },
                {
                  "0": {
                    "model": "text-davinci-002",
                    "choices": [
                      {
                        "text": " bigger than the club. no-one is bigger than any other player in that dressing room\"\"\n\nFootball",
                        "index": 0,
                        "finish_reason": "stop"
                      }
                    ],
                    "object": "text_completion",
                    "id": "cmpl-6kXUBq7PlCZd7w1nvtRDMQSsrSY2a",
                    "created": "1676549827"
                  },
                  "2": "football166.txt",
                  "3": " bigger than the club. no-one is bigger than any other player in that dressing room\"\"\n\nFootball",
                  "4": "football",
                  "5": "football"
                },
                {
                  "0": {
                    "model": "text-davinci-002",
                    "choices": [
                      {
                        "text": ",\"\" said race director Malcolm Sutherland.\"\n\nAthletics",
                        "index": 0,
                        "finish_reason": "stop"
                      }
                    ],
                    "object": "text_completion",
                    "id": "cmpl-6kXUCeUnOim82J2FU7izee9NTdgOr",
                    "created": "1676549828"
                  },
                  "2": "atheletics085.txt",
                  "3": ",\"\" said race director Malcolm Sutherland.\"\n\nAthletics",
                  "4": "atheletics",
                  "5": "atheletics"
                },
                {
                  "0": {
                    "model": "text-davinci-002",
                    "choices": [
                      {
                        "text": ".\"\"\n\nRugby",
                        "index": 0,
                        "finish_reason": "stop"
                      }
                    ],
                    "object": "text_completion",
                    "id": "cmpl-6kXUCXOsBHSH44umIQjV3NuTMJ7ld",
                    "created": "1676549828"
                  },
                  "2": "rugby047.txt",
                  "3": ".\"\"\n\nRugby",
                  "4": "rugby",
                  "5": "rugby"
                },
                {
                  "0": {
                    "model": "text-davinci-002",
                    "choices": [
                      {
                        "text": " because of the way he holds himself,\" said corry.\"\n\nFootball",
                        "index": 0,
                        "finish_reason": "stop"
                      }
                    ],
                    "object": "text_completion",
                    "id": "cmpl-6kXUDUlcWkItYrVRoOFXbi8IpCZvl",
                    "created": "1676549829"
                  },
                  "2": "rugby053.txt",
                  "3": " because of the way he holds himself,\" said corry.\"\n\nFootball",
                  "4": "rugby",
                  "5": "football"
                },
                {
                  "0": {
                    "model": "text-davinci-002",
                    "choices": [
                      {
                        "text": ", england\"\n\nCricket",
                        "index": 0,
                        "finish_reason": "stop"
                      }
                    ],
                    "object": "text_completion",
                    "id": "cmpl-6kXUDHPd4IU2wfrcINsdjtpLt2vb0",
                    "created": "1676549829"
                  },
                  "2": "cricket089.txt",
                  "3": ", england\"\n\nCricket",
                  "4": "cricket",
                  "5": "cricket"
                },
                {
                  "0": {
                    "model": "text-davinci-002",
                    "choices": [
                      {
                        "text": "\n\nCricket",
                        "index": 0,
                        "finish_reason": "stop"
                      }
                    ],
                    "object": "text_completion",
                    "id": "cmpl-6kXUD8AUWbo8y9zPXoshKNZhinCom",
                    "created": "1676549829"
                  },
                  "2": "cricket062.txt",
                  "3": "\n\nCricket",
                  "4": "cricket",
                  "5": "cricket"
                },
                {
                  "0": {
                    "model": "text-davinci-002",
                    "choices": [
                      {
                        "text": " in the world but, if our guys apply themselves, there is no reason why we cant go out there and beat the australians.\n\n\"\n\nFootball",
                        "index": 0,
                        "finish_reason": "stop"
                      }
                    ],
                    "object": "text_completion",
                    "id": "cmpl-6kXUDIHv1XFLZsBvDLG8bpmaVyz2r",
                    "created": "1676549829"
                  },
                  "2": "cricket076.txt",
                  "3": " in the world but, if our guys apply themselves, there is no reason why we cant go out there and beat the australians.\n\n\"\n\nFootball",
                  "4": "cricket",
                  "5": "football"
                },
                {
                  "0": {
                    "model": "text-davinci-002",
                    "choices": [
                      {
                        "text": ",\"\" he said.\n\nCricket",
                        "index": 0,
                        "finish_reason": "stop"
                      }
                    ],
                    "object": "text_completion",
                    "id": "cmpl-6kXUEBMV8fLhOv9zkdE9D3VIsTqKT",
                    "created": "1676549830"
                  },
                  "2": "cricket116.txt",
                  "3": ",\"\" he said.\n\nCricket",
                  "4": "cricket",
                  "5": "cricket"
                },
                {
                  "0": {
                    "model": "text-davinci-002",
                    "choices": [
                      {
                        "text": ",\" he said.\n\nFootball",
                        "index": 0,
                        "finish_reason": "stop"
                      }
                    ],
                    "object": "text_completion",
                    "id": "cmpl-6kXUG82trduLi9o7EIzqSb39r1ugb",
                    "created": "1676549832"
                  },
                  "2": "football204.txt",
                  "3": ",\" he said.\n\nFootball",
                  "4": "football",
                  "5": "football"
                },
                {
                  "0": {
                    "model": "text-davinci-002",
                    "choices": [
                      {
                        "text": " video recording of the incident.\"\"\n\nFootball",
                        "index": 0,
                        "finish_reason": "stop"
                      }
                    ],
                    "object": "text_completion",
                    "id": "cmpl-6kXUHENOWe7mRfuYXcR9MWtMCb8IM",
                    "created": "1676549833"
                  },
                  "2": "football210.txt",
                  "3": " video recording of the incident.\"\"\n\nFootball",
                  "4": "football",
                  "5": "football"
                },
                {
                  "0": {
                    "model": "text-davinci-002",
                    "choices": [
                      {
                        "text": ",\" said icc chief executive haroon lorgat.\"\n\nCricket",
                        "index": 0,
                        "finish_reason": "stop"
                      }
                    ],
                    "object": "text_completion",
                    "id": "cmpl-6kXUH8hoOpNPrgaaoRhFgurbRSbIl",
                    "created": "1676549833"
                  },
                  "2": "cricket102.txt",
                  "3": ",\" said icc chief executive haroon lorgat.\"\n\nCricket",
                  "4": "cricket",
                  "5": "cricket"
                },
                {
                  "0": {
                    "model": "text-davinci-002",
                    "choices": [
                      {
                        "text": "\n\nFootball",
                        "index": 0,
                        "finish_reason": "stop"
                      }
                    ],
                    "object": "text_completion",
                    "id": "cmpl-6kXUIxzYSC8UIaXK5EMaxSmjpkmHg",
                    "created": "1676549834"
                  },
                  "2": "football238.txt",
                  "3": "\n\nFootball",
                  "4": "football",
                  "5": "football"
                },
                {
                  "0": {
                    "model": "text-davinci-002",
                    "choices": [
                      {
                        "text": ", for the third time in two months i come to apologise for any mistakes i have made.  i am fully aware there are lots of people who wish me ill. i want to talk openly with hany ramzy and the board in order to play for my country.  by his performance on the pitch he deserves to return to the team\"\"\n\nFootball",
                        "index": 0,
                        "finish_reason": "stop"
                      }
                    ],
                    "object": "text_completion",
                    "id": "cmpl-6kXUIWwTnQNxWapNokjXa5VCFZcus",
                    "created": "1676549834"
                  },
                  "2": "football006.txt",
                  "3": ", for the third time in two months i come to apologise for any mistakes i have made.  i am fully aware there are lots of people who wish me ill. i want to talk openly with hany ramzy and the board in order to play for my country.  by his performance on the pitch he deserves to return to the team\"\"\n\nFootball",
                  "4": "football",
                  "5": "football"
                },
                {
                  "0": {
                    "model": "text-davinci-002",
                    "choices": [
                      {
                        "text": " and deserved to go on and win it.\"\"\n\nFootball",
                        "index": 0,
                        "finish_reason": "stop"
                      }
                    ],
                    "object": "text_completion",
                    "id": "cmpl-6kXUJcYjkfB2YqNqEjVnWXkAF5S2g",
                    "created": "1676549835"
                  },
                  "2": "football012.txt",
                  "3": " and deserved to go on and win it.\"\"\n\nFootball",
                  "4": "football",
                  "5": "football"
                },
                {
                  "0": {
                    "model": "text-davinci-002",
                    "choices": [
                      {
                        "text": ",\"\" said robinson, who had expressed his frustration to the officials as the match ended.\n\nRugby",
                        "index": 0,
                        "finish_reason": "stop"
                      }
                    ],
                    "object": "text_completion",
                    "id": "cmpl-6kXUKfOXKCjdRRXhsOeMSLjVXebtA",
                    "created": "1676549836"
                  },
                  "2": "rugby133.txt",
                  "3": ",\"\" said robinson, who had expressed his frustration to the officials as the match ended.\n\nRugby",
                  "4": "rugby",
                  "5": "rugby"
                },
                {
                  "0": {
                    "model": "text-davinci-002",
                    "choices": [
                      {
                        "text": ",\"\" said coach paul Simpson. Rugby",
                        "index": 0,
                        "finish_reason": "stop"
                      }
                    ],
                    "object": "text_completion",
                    "id": "cmpl-6kXUKmKdrMGHZbAsuNI2tYOFI9owg",
                    "created": "1676549836"
                  },
                  "2": "rugby127.txt",
                  "3": ",\"\" said coach paul Simpson. Rugby",
                  "4": "rugby",
                  "5": "rugby"
                },
                {
                  "0": {
                    "model": "text-davinci-002",
                    "choices": [
                      {
                        "text": ".\"\n\nFootball",
                        "index": 0,
                        "finish_reason": "stop"
                      }
                    ],
                    "object": "text_completion",
                    "id": "cmpl-6kXULwnz2mWPHQGOi1PaCqBUVt4NB",
                    "created": "1676549837"
                  },
                  "2": "football075.txt",
                  "3": ".\"\n\nFootball",
                  "4": "football",
                  "5": "football"
                },
                {
                  "0": {
                    "model": "text-davinci-002",
                    "choices": [
                      {
                        "text": ", although conceding the late goal was disappointing,\"\" he said.\n\nFootball",
                        "index": 0,
                        "finish_reason": "stop"
                      }
                    ],
                    "object": "text_completion",
                    "id": "cmpl-6kXULVMHyc2k0MeLx93kQWkePiNzs",
                    "created": "1676549837"
                  },
                  "2": "football061.txt",
                  "3": ", although conceding the late goal was disappointing,\"\" he said.\n\nFootball",
                  "4": "football",
                  "5": "football"
                },
                {
                  "0": {
                    "model": "text-davinci-002",
                    "choices": [
                      {
                        "text": ".\"\"\n\nFootball",
                        "index": 0,
                        "finish_reason": "stop"
                      }
                    ],
                    "object": "text_completion",
                    "id": "cmpl-6kXUL7DMsEIdsdWzIBtwMUEnA6eEd",
                    "created": "1676549837"
                  },
                  "2": "football049.txt",
                  "3": ".\"\"\n\nFootball",
                  "4": "football",
                  "5": "football"
                },
                {
                  "0": {
                    "model": "text-davinci-002",
                    "choices": [
                      {
                        "text": " yet.  i might consider retiring from rugby full stop,\"\" he told scrum v.\"\n\nRugby",
                        "index": 0,
                        "finish_reason": "stop"
                      }
                    ],
                    "object": "text_completion",
                    "id": "cmpl-6kXUMOhXgtnxwyk3kL8kZF4FLTrag",
                    "created": "1676549838"
                  },
                  "2": "rugby140.txt",
                  "3": " yet.  i might consider retiring from rugby full stop,\"\" he told scrum v.\"\n\nRugby",
                  "4": "rugby",
                  "5": "rugby"
                },
                {
                  "0": {
                    "model": "text-davinci-002",
                    "choices": [
                      {
                        "text": ",\"\" said keane.\"\"\n\nFootball",
                        "index": 0,
                        "finish_reason": "stop"
                      }
                    ],
                    "object": "text_completion",
                    "id": "cmpl-6kXUMEGv4JSemnAk5yfuB8kKEgLEI",
                    "created": "1676549838"
                  },
                  "2": "football263.txt",
                  "3": ",\"\" said keane.\"\"\n\nFootball",
                  "4": "football",
                  "5": "football"
                },
                {
                  "0": {
                    "model": "text-davinci-002",
                    "choices": [
                      {
                        "text": " and then see what the future brings and what opportunities come my way,\"\" he told times of india. Cricket",
                        "index": 0,
                        "finish_reason": "stop"
                      }
                    ],
                    "object": "text_completion",
                    "id": "cmpl-6kXUMCthQnNJkVdwfHdSzPcW9ElNQ",
                    "created": "1676549838"
                  },
                  "2": "cricket011.txt",
                  "3": " and then see what the future brings and what opportunities come my way,\"\" he told times of india. Cricket",
                  "4": "cricket",
                  "5": "cricket"
                },
                {
                  "0": {
                    "model": "text-davinci-002",
                    "choices": [
                      {
                        "text": ", it will be a very, very tough ask.''\"\n\nCricket",
                        "index": 0,
                        "finish_reason": "stop"
                      }
                    ],
                    "object": "text_completion",
                    "id": "cmpl-6kXUNzg7YjgCPqzPMSrmqTWc75erW",
                    "created": "1676549839"
                  },
                  "2": "cricket005.txt",
                  "3": ", it will be a very, very tough ask.''\"\n\nCricket",
                  "4": "cricket",
                  "5": "cricket"
                },
                {
                  "0": {
                    "model": "text-davinci-002",
                    "choices": [
                      {
                        "text": ", we are delighted with the win and the series triumph. it was a great team performance. everybody played really well,\" bashar said.\n\nCricket",
                        "index": 0,
                        "finish_reason": "stop"
                      }
                    ],
                    "object": "text_completion",
                    "id": "cmpl-6kXUNFRB63If1QHjROkvlNaTF6EhS",
                    "created": "1676549839"
                  },
                  "2": "cricket039.txt",
                  "3": ", we are delighted with the win and the series triumph. it was a great team performance. everybody played really well,\" bashar said.\n\nCricket",
                  "4": "cricket",
                  "5": "cricket"
                },
                {
                  "0": {
                    "model": "text-davinci-002",
                    "choices": [
                      {
                        "text": " i don't think it will make any difference. thomas himself said he would not be a burden on the team\"'\n\nFootball",
                        "index": 0,
                        "finish_reason": "stop"
                      }
                    ],
                    "object": "text_completion",
                    "id": "cmpl-6kXUO8IWpmMxWOsc5bOAhtZzmUm6z",
                    "created": "1676549840"
                  },
                  "2": "rugby008.txt",
                  "3": " i don't think it will make any difference. thomas himself said he would not be a burden on the team\"'\n\nFootball",
                  "4": "rugby",
                  "5": "football"
                },
                {
                  "0": {
                    "model": "text-davinci-002",
                    "choices": [
                      {
                        "text": " but nothing has been said.\"\" \"\n\nFootball",
                        "index": 0,
                        "finish_reason": "stop"
                      }
                    ],
                    "object": "text_completion",
                    "id": "cmpl-6kXUOwaSTxbgfDsvP0ZQYk85qG2jW",
                    "created": "1676549840"
                  },
                  "2": "football101.txt",
                  "3": " but nothing has been said.\"\" \"\n\nFootball",
                  "4": "football",
                  "5": "football"
                },
                {
                  "0": {
                    "model": "text-davinci-002",
                    "choices": [
                      {
                        "text": " weve got.\n\nFootball",
                        "index": 0,
                        "finish_reason": "stop"
                      }
                    ],
                    "object": "text_completion",
                    "id": "cmpl-6kXUPhYkAycpdepsVC6QuEpDcF978",
                    "created": "1676549841"
                  },
                  "2": "football115.txt",
                  "3": " weve got.\n\nFootball",
                  "4": "football",
                  "5": "football"
                },
                {
                  "0": {
                    "model": "text-davinci-002",
                    "choices": [
                      {
                        "text": "\"\"\n\nRugby",
                        "index": 0,
                        "finish_reason": "stop"
                      }
                    ],
                    "object": "text_completion",
                    "id": "cmpl-6kXUPVmDuCr30A8yIvPDjZbxCSmIB",
                    "created": "1676549841"
                  },
                  "2": "rugby034.txt",
                  "3": "\"\"\n\nRugby",
                  "4": "rugby",
                  "5": "rugby"
                },
                {
                  "0": {
                    "model": "text-davinci-002",
                    "choices": [
                      {
                        "text": ",\" said jones.\"\n\nRugby",
                        "index": 0,
                        "finish_reason": "stop"
                      }
                    ],
                    "object": "text_completion",
                    "id": "cmpl-6kXUQbW7m5igJe6pms2u0ahVgFAgE",
                    "created": "1676549842"
                  },
                  "2": "rugby020.txt",
                  "3": ",\" said jones.\"\n\nRugby",
                  "4": "rugby",
                  "5": "rugby"
                },
                {
                  "0": {
                    "model": "text-davinci-002",
                    "choices": [
                      {
                        "text": "\"\n\nFootball",
                        "index": 0,
                        "finish_reason": "stop"
                      }
                    ],
                    "object": "text_completion",
                    "id": "cmpl-6kXUScSDUjGQnSD9Xm7uvZcI4P0Ra",
                    "created": "1676549844"
                  },
                  "2": "football129.txt",
                  "3": "\"\n\nFootball",
                  "4": "football",
                  "5": "football"
                },
                {
                  "0": {
                    "model": "text-davinci-002",
                    "choices": [
                      {
                        "text": " until december 31. she has violated her contract with the national federation,\" athletics kenya secretary-general, david okeyo said in a statement.\n\nTrack and Field",
                        "index": 0,
                        "finish_reason": "stop"
                      }
                    ],
                    "object": "text_completion",
                    "id": "cmpl-6kXUTetvBTIdBR4WjZQ3sAbz9aF5l",
                    "created": "1676549845"
                  },
                  "2": "atheletics021.txt",
                  "3": " until december 31. she has violated her contract with the national federation,\" athletics kenya secretary-general, david okeyo said in a statement.\n\nTrack and Field",
                  "4": "atheletics",
                  "5": "atheletics"
                },
                {
                  "0": {
                    "model": "text-davinci-002",
                    "choices": [
                      {
                        "text": " that michelle collins deliberately doped,\"\" the court said in a statement.\"\n\nAthletics",
                        "index": 0,
                        "finish_reason": "stop"
                      }
                    ],
                    "object": "text_completion",
                    "id": "cmpl-6kXUUudbfVfW4oNeXEH8ZQDe8cMz3",
                    "created": "1676549846"
                  },
                  "2": "atheletics035.txt",
                  "3": " that michelle collins deliberately doped,\"\" the court said in a statement.\"\n\nAthletics",
                  "4": "atheletics",
                  "5": "atheletics"
                },
                {
                  "0": {
                    "model": "text-davinci-002",
                    "choices": [
                      {
                        "text": " than him in the first set and a half,\" hewitt, who has beaten dent twice this year, said. i\"\n\nTennis",
                        "index": 0,
                        "finish_reason": "stop"
                      }
                    ],
                    "object": "text_completion",
                    "id": "cmpl-6kXUV21Ch5v0meQveGlXjeaa6DWen",
                    "created": "1676549847"
                  },
                  "2": "tennis038.txt",
                  "3": " than him in the first set and a half,\" hewitt, who has beaten dent twice this year, said. i\"\n\nTennis",
                  "4": "tennis",
                  "5": "tennis"
                },
                {
                  "0": {
                    "model": "text-davinci-002",
                    "choices": [
                      {
                        "text": ", so that's always a good combination. i made a lot of unforced errors and got maybe a little nervous towards the end\":\"Tennis",
                        "index": 0,
                        "finish_reason": "stop"
                      }
                    ],
                    "object": "text_completion",
                    "id": "cmpl-6kXUWf8I943lFHx2MfSBvOhVBzrVz",
                    "created": "1676549848"
                  },
                  "2": "tennis010.txt",
                  "3": ", so that's always a good combination. i made a lot of unforced errors and got maybe a little nervous towards the end\":\"Tennis",
                  "4": "tennis",
                  "5": "tennis"
                },
                {
                  "0": {
                    "model": "text-davinci-002",
                    "choices": [
                      {
                        "text": " plans to race only once more this winter\"\n\nAthletics",
                        "index": 0,
                        "finish_reason": "stop"
                      }
                    ],
                    "object": "text_completion",
                    "id": "cmpl-6kXUX218MjxdLoVhiNUJIYjelYkcs",
                    "created": "1676549849"
                  },
                  "2": "atheletics009.txt",
                  "3": " plans to race only once more this winter\"\n\nAthletics",
                  "4": "atheletics",
                  "5": "atheletics"
                },
                {
                  "0": {
                    "model": "text-davinci-002",
                    "choices": [
                      {
                        "text": " so today is a great feeling,\"\" said roddick, who is looking for his fourth title of the year.\"\n\nTennis",
                        "index": 0,
                        "finish_reason": "stop"
                      }
                    ],
                    "object": "text_completion",
                    "id": "cmpl-6kXUX9bHs962XTmHhA7hAEggc2KVR",
                    "created": "1676549849"
                  },
                  "2": "tennis004.txt",
                  "3": " so today is a great feeling,\"\" said roddick, who is looking for his fourth title of the year.\"\n\nTennis",
                  "4": "tennis",
                  "5": "tennis"
                },
                {
                  "0": {
                    "model": "text-davinci-002",
                    "choices": [
                      {
                        "text": " now. shes in no mood to give up. weve just got to be patient.\"\"\n\ntrack and field",
                        "index": 0,
                        "finish_reason": "stop"
                      }
                    ],
                    "object": "text_completion",
                    "id": "cmpl-6kXUZTmTZXZj1VueJQgj2qrxTDbRX",
                    "created": "1676549851"
                  },
                  "2": "atheletics008.txt",
                  "3": " now. shes in no mood to give up. weve just got to be patient.\"\"\n\ntrack and field",
                  "4": "atheletics",
                  "5": ""
                },
                {
                  "0": {
                    "model": "text-davinci-002",
                    "choices": [
                      {
                        "text": " and i did that well. but ivan is a very tough player. i'm happy with the win and with the way i managed to get the break in the third set,\"\" said federer.\"\n\nTennis",
                        "index": 0,
                        "finish_reason": "stop"
                      }
                    ],
                    "object": "text_completion",
                    "id": "cmpl-6kXUaOc69dm9TNcw3y0LMycoKaXmX",
                    "created": "1676549852"
                  },
                  "2": "tennis005.txt",
                  "3": " and i did that well. but ivan is a very tough player. i'm happy with the win and with the way i managed to get the break in the third set,\"\" said federer.\"\n\nTennis",
                  "4": "tennis",
                  "5": "tennis"
                },
                {
                  "0": {
                    "model": "text-davinci-002",
                    "choices": [
                      {
                        "text": " also came through qualifying to reach the second round of the french open.\"\n\nTennis",
                        "index": 0,
                        "finish_reason": "stop"
                      }
                    ],
                    "object": "text_completion",
                    "id": "cmpl-6kXUamVKaG6tul1nFUMGrEBrwvvqH",
                    "created": "1676549852"
                  },
                  "2": "tennis011.txt",
                  "3": " also came through qualifying to reach the second round of the french open.\"\n\nTennis",
                  "4": "tennis",
                  "5": "tennis"
                },
                {
                  "0": {
                    "model": "text-davinci-002",
                    "choices": [
                      {
                        "text": ", shouldnt i\"\" moments over the previous few weeks, but i never doubted she would step on to that track and give it everything. and what a great smile she gave as she crossed the line!\"\n\nAthletics",
                        "index": 0,
                        "finish_reason": "stop"
                      }
                    ],
                    "object": "text_completion",
                    "id": "cmpl-6kXUbu36YjfYY5GkKDCW3bz6Jb01Y",
                    "created": "1676549853"
                  },
                  "2": "atheletics034.txt",
                  "3": ", shouldnt i\"\" moments over the previous few weeks, but i never doubted she would step on to that track and give it everything. and what a great smile she gave as she crossed the line!\"\n\nAthletics",
                  "4": "atheletics",
                  "5": "atheletics"
                },
                {
                  "0": {
                    "model": "text-davinci-002",
                    "choices": [
                      {
                        "text": ",\"\" the 26-year-old told reporters.\n\nTennis",
                        "index": 0,
                        "finish_reason": "stop"
                      }
                    ],
                    "object": "text_completion",
                    "id": "cmpl-6kXUdVOCTNVtydwL9QImKUnskfU6x",
                    "created": "1676549855"
                  },
                  "2": "tennis039.txt",
                  "3": ",\"\" the 26-year-old told reporters.\n\nTennis",
                  "4": "tennis",
                  "5": "tennis"
                },
                {
                  "0": {
                    "model": "text-davinci-002",
                    "choices": [
                      {
                        "text": " really because he has come out and said how much he wants it,\" said edwards.\"\n\nAthletics",
                        "index": 0,
                        "finish_reason": "stop"
                      }
                    ],
                    "object": "text_completion",
                    "id": "cmpl-6kXUdm2smK1tTpeouvl6n1UMVCe8p",
                    "created": "1676549855"
                  },
                  "2": "atheletics020.txt",
                  "3": " really because he has come out and said how much he wants it,\" said edwards.\"\n\nAthletics",
                  "4": "atheletics",
                  "5": "atheletics"
                },
                {
                  "0": {
                    "model": "text-davinci-002",
                    "choices": [
                      {
                        "text": ",\" mcclaren told uefa.com. \"\n\nFootball",
                        "index": 0,
                        "finish_reason": "stop"
                      }
                    ],
                    "object": "text_completion",
                    "id": "cmpl-6kXUedoCvWFynH7lxuG8V5ALrjaNC",
                    "created": "1676549856"
                  },
                  "2": "football128.txt",
                  "3": ",\" mcclaren told uefa.com. \"\n\nFootball",
                  "4": "football",
                  "5": "football"
                },
                {
                  "0": {
                    "model": "text-davinci-002",
                    "choices": [
                      {
                        "text": " so we put him on the bench to see how he went,\" said ruddock. \"but next week one of the things well try to do is give him some early involvement. \n\nFootball",
                        "index": 0,
                        "finish_reason": "stop"
                      }
                    ],
                    "object": "text_completion",
                    "id": "cmpl-6kXUeqnGcG2GJfHE7utnqdfCTT3Tr",
                    "created": "1676549856"
                  },
                  "2": "rugby021.txt",
                  "3": " so we put him on the bench to see how he went,\" said ruddock. \"but next week one of the things well try to do is give him some early involvement. \n\nFootball",
                  "4": "rugby",
                  "5": "football"
                },
                {
                  "0": {
                    "model": "text-davinci-002",
                    "choices": [
                      {
                        "text": ", \" said williams. \"\n\nFootball",
                        "index": 0,
                        "finish_reason": "stop"
                      }
                    ],
                    "object": "text_completion",
                    "id": "cmpl-6kXUfDtKw7RKm1rH4V8hnMMa6NQ36",
                    "created": "1676549857"
                  },
                  "2": "rugby035.txt",
                  "3": ", \" said williams. \"\n\nFootball",
                  "4": "rugby",
                  "5": "football"
                },
                {
                  "0": {
                    "model": "text-davinci-002",
                    "choices": [
                      {
                        "text": ",\"\" souness told the rangers website.\"\"\n\nFootball",
                        "index": 0,
                        "finish_reason": "stop"
                      }
                    ],
                    "object": "text_completion",
                    "id": "cmpl-6kXUgIX3RyLnlLDPiTsTH76sFHjLv",
                    "created": "1676549858"
                  },
                  "2": "football114.txt",
                  "3": ",\"\" souness told the rangers website.\"\"\n\nFootball",
                  "4": "football",
                  "5": "football"
                },
                {
                  "0": {
                    "model": "text-davinci-002",
                    "choices": [
                      {
                        "text": " he must speak to Arsene Wenger and tell him he needs to leave. otherwise he will find it difficult to make the squad for the world cup.\"\"\n\nFootball",
                        "index": 0,
                        "finish_reason": "stop"
                      }
                    ],
                    "object": "text_completion",
                    "id": "cmpl-6kXUgM7ADBMCLXCWOOfc1T9vwBHex",
                    "created": "1676549858"
                  },
                  "2": "football100.txt",
                  "3": " he must speak to Arsene Wenger and tell him he needs to leave. otherwise he will find it difficult to make the squad for the world cup.\"\"\n\nFootball",
                  "4": "football",
                  "5": "football"
                },
                {
                  "0": {
                    "model": "text-davinci-002",
                    "choices": [
                      {
                        "text": " and belief. it is a fantastic result for us against a good french side.\"\"\n\nFootball",
                        "index": 0,
                        "finish_reason": "stop"
                      }
                    ],
                    "object": "text_completion",
                    "id": "cmpl-6kXUh0lkKStDaaVmONYgooOtjNqXf",
                    "created": "1676549859"
                  },
                  "2": "rugby009.txt",
                  "3": " and belief. it is a fantastic result for us against a good french side.\"\"\n\nFootball",
                  "4": "rugby",
                  "5": "football"
                },
                {
                  "0": {
                    "model": "text-davinci-002",
                    "choices": [
                      {
                        "text": " it.\"\"\n\nCricket",
                        "index": 0,
                        "finish_reason": "stop"
                      }
                    ],
                    "object": "text_completion",
                    "id": "cmpl-6kXUhpKit2XUoEYhCfdNAcXJdbGDI",
                    "created": "1676549859"
                  },
                  "2": "cricket038.txt",
                  "3": " it.\"\"\n\nCricket",
                  "4": "cricket",
                  "5": "cricket"
                },
                {
                  "0": {
                    "model": "text-davinci-002",
                    "choices": [
                      {
                        "text": " by fans and this series is no different,\"\n\nCricket",
                        "index": 0,
                        "finish_reason": "stop"
                      }
                    ],
                    "object": "text_completion",
                    "id": "cmpl-6kXUhqvidTlUFJcNbtM46VRijxoWz",
                    "created": "1676549859"
                  },
                  "2": "cricket004.txt",
                  "3": " by fans and this series is no different,\"\n\nCricket",
                  "4": "cricket",
                  "5": "cricket"
                },
                {
                  "0": {
                    "model": "text-davinci-002",
                    "choices": [
                      {
                        "text": ", but he let us down a little bit. hopefully hell be able to bounce back as soon as hes given another chance,\"\" said fleming.\"\n\nCricket",
                        "index": 0,
                        "finish_reason": "stop"
                      }
                    ],
                    "object": "text_completion",
                    "id": "cmpl-6kXUhukcUEi3MzI6GsrD40IZQYHee",
                    "created": "1676549859"
                  },
                  "2": "cricket010.txt",
                  "3": ", but he let us down a little bit. hopefully hell be able to bounce back as soon as hes given another chance,\"\" said fleming.\"\n\nCricket",
                  "4": "cricket",
                  "5": "cricket"
                },
                {
                  "0": {
                    "model": "text-davinci-002",
                    "choices": [
                      {
                        "text": " has not played for united since limping out of the champions league game against porto on september 15 with a hamstring injury.\"\n\nFootball",
                        "index": 0,
                        "finish_reason": "stop"
                      }
                    ],
                    "object": "text_completion",
                    "id": "cmpl-6kXUie29BAAQDctieB1j9dOouLUzg",
                    "created": "1676549860"
                  },
                  "2": "football262.txt",
                  "3": " has not played for united since limping out of the champions league game against porto on september 15 with a hamstring injury.\"\n\nFootball",
                  "4": "football",
                  "5": "football"
                },
                {
                  "0": {
                    "model": "text-davinci-002",
                    "choices": [
                      {
                        "text": "\n\nRugby",
                        "index": 0,
                        "finish_reason": "stop"
                      }
                    ],
                    "object": "text_completion",
                    "id": "cmpl-6kXUkbyUQvJcngPfAHmpKNpVBmnxW",
                    "created": "1676549862"
                  },
                  "2": "rugby141.txt",
                  "3": "\n\nRugby",
                  "4": "rugby",
                  "5": "rugby"
                },
                {
                  "0": {
                    "model": "text-davinci-002",
                    "choices": [
                      {
                        "text": ",\" owen said in his first d\"\n\nFootball",
                        "index": 0,
                        "finish_reason": "stop"
                      }
                    ],
                    "object": "text_completion",
                    "id": "cmpl-6kXUkU7wKMV9mKDqH3UcsZZgD38SQ",
                    "created": "1676549862"
                  },
                  "2": "football048.txt",
                  "3": ",\" owen said in his first d\"\n\nFootball",
                  "4": "football",
                  "5": "football"
                },
                {
                  "0": {
                    "model": "text-davinci-002",
                    "choices": [
                      {
                        "text": ". they are a much better team than arsenal,\"\" he said.\n\nFootball",
                        "index": 0,
                        "finish_reason": "stop"
                      }
                    ],
                    "object": "text_completion",
                    "id": "cmpl-6kXUlRR49doy1dswytWMzFERlozu0",
                    "created": "1676549863"
                  },
                  "2": "football060.txt",
                  "3": ". they are a much better team than arsenal,\"\" he said.\n\nFootball",
                  "4": "football",
                  "5": "football"
                },
                {
                  "0": {
                    "model": "text-davinci-002",
                    "choices": [
                      {
                        "text": " sign him, then come and talk to me. but its obvious that that hasnt happened.\"\"\n\nFootball",
                        "index": 0,
                        "finish_reason": "stop"
                      }
                    ],
                    "object": "text_completion",
                    "id": "cmpl-6kXUlpnMDplhexzPN0wb7AtQy8N2d",
                    "created": "1676549863"
                  },
                  "2": "football074.txt",
                  "3": " sign him, then come and talk to me. but its obvious that that hasnt happened.\"\"\n\nFootball",
                  "4": "football",
                  "5": "football"
                },
                {
                  "0": {
                    "model": "text-davinci-002",
                    "choices": [
                      {
                        "text": " closely,\"\" said souness\"\n\nFootball",
                        "index": 0,
                        "finish_reason": "stop"
                      }
                    ],
                    "object": "text_completion",
                    "id": "cmpl-6kXUm7czg7WkcuIlLsnNxG4S3NjlM",
                    "created": "1676549864"
                  },
                  "2": "football062.txt",
                  "3": " closely,\"\" said souness\"\n\nFootball",
                  "4": "football",
                  "5": "football"
                },
                {
                  "0": {
                    "model": "text-davinci-002",
                    "choices": [
                      {
                        "text": ".  i have not committed any crime, it was just a few words,\" he told reporters.\"\n\nFootball",
                        "index": 0,
                        "finish_reason": "stop"
                      }
                    ],
                    "object": "text_completion",
                    "id": "cmpl-6kXUmdJHGLBF1W4KcVqSaYXCX97JV",
                    "created": "1676549864"
                  },
                  "2": "football076.txt",
                  "3": ".  i have not committed any crime, it was just a few words,\" he told reporters.\"\n\nFootball",
                  "4": "football",
                  "5": "football"
                },
                {
                  "0": {
                    "model": "text-davinci-002",
                    "choices": [
                      {
                        "text": "\n\nFootball",
                        "index": 0,
                        "finish_reason": "stop"
                      }
                    ],
                    "object": "text_completion",
                    "id": "cmpl-6kXUnqRDIN1rX9HqMpkJYKAp8AcHu",
                    "created": "1676549865"
                  },
                  "2": "rugby143.txt",
                  "3": "\n\nFootball",
                  "4": "rugby",
                  "5": "football"
                },
                {
                  "0": {
                    "model": "text-davinci-002",
                    "choices": [
                      {
                        "text": "\n\nFootball",
                        "index": 0,
                        "finish_reason": "stop"
                      }
                    ],
                    "object": "text_completion",
                    "id": "cmpl-6kXUno7Qsky0E0QYSOWnqrJSAh8QK",
                    "created": "1676549865"
                  },
                  "2": "football089.txt",
                  "3": "\n\nFootball",
                  "4": "football",
                  "5": "football"
                },
                {
                  "0": {
                    "model": "text-davinci-002",
                    "choices": [
                      {
                        "text": ", lauren, senderos, Djourou, traore, bischoff, fabregas (silva 88), wiltord (van persie 83), diaby (pires 62), reyes, bergkamp.  \n\nFootball",
                        "index": 0,
                        "finish_reason": "stop"
                      }
                    ],
                    "object": "text_completion",
                    "id": "cmpl-6kXUodeeij0iBtKqh3cB2EYA9tKv4",
                    "created": "1676549866"
                  },
                  "2": "football260.txt",
                  "3": ", lauren, senderos, Djourou, traore, bischoff, fabregas (silva 88), wiltord (van persie 83), diaby (pires 62), reyes, bergkamp.  \n\nFootball",
                  "4": "football",
                  "5": "football"
                },
                {
                  "0": {
                    "model": "text-davinci-002",
                    "choices": [
                      {
                        "text": "\n\nFootball",
                        "index": 0,
                        "finish_reason": "stop"
                      }
                    ],
                    "object": "text_completion",
                    "id": "cmpl-6kXUoiE75L2fe3ZVKkTPsuqlCoHXI",
                    "created": "1676549866"
                  },
                  "2": "football248.txt",
                  "3": "\n\nFootball",
                  "4": "football",
                  "5": "football"
                },
                {
                  "0": {
                    "model": "text-davinci-002",
                    "choices": [
                      {
                        "text": " (12th men)\n\nCricket",
                        "index": 0,
                        "finish_reason": "stop"
                      }
                    ],
                    "object": "text_completion",
                    "id": "cmpl-6kXUpoXXXt0uJ9qXttpHElcrVylnM",
                    "created": "1676549867"
                  },
                  "2": "cricket006.txt",
                  "3": " (12th men)\n\nCricket",
                  "4": "cricket",
                  "5": "cricket"
                },
                {
                  "0": {
                    "model": "text-davinci-002",
                    "choices": [
                      {
                        "text": " and perform,\"\" he conceded he may need surgery on the injury in the future but added: \"\"i have been working hard in the nets and feel great. \"\"\n\nCricket",
                        "index": 0,
                        "finish_reason": "stop"
                      }
                    ],
                    "object": "text_completion",
                    "id": "cmpl-6kXUpEKBTpaw0BJBLdwkKNXj1Heus",
                    "created": "1676549867"
                  },
                  "2": "cricket012.txt",
                  "3": " and perform,\"\" he conceded he may need surgery on the injury in the future but added: \"\"i have been working hard in the nets and feel great. \"\"\n\nCricket",
                  "4": "cricket",
                  "5": "cricket"
                },
                {
                  "0": {
                    "model": "text-davinci-002",
                    "choices": [
                      {
                        "text": "\n\nFootball",
                        "index": 0,
                        "finish_reason": "stop"
                      }
                    ],
                    "object": "text_completion",
                    "id": "cmpl-6kXUqBN3XvjyRyUzPnXct9q63LflX",
                    "created": "1676549868"
                  },
                  "2": "football116.txt",
                  "3": "\n\nFootball",
                  "4": "football",
                  "5": "football"
                },
                {
                  "0": {
                    "model": "text-davinci-002",
                    "choices": [
                      {
                        "text": ", arsene has transformed the shape of arsenal football club.\"\"\n\nFootball",
                        "index": 0,
                        "finish_reason": "stop"
                      }
                    ],
                    "object": "text_completion",
                    "id": "cmpl-6kXUqcX5GkJz0YBP0bU2X4CLbvzOp",
                    "created": "1676549868"
                  },
                  "2": "football102.txt",
                  "3": ", arsene has transformed the shape of arsenal football club.\"\"\n\nFootball",
                  "4": "football",
                  "5": "football"
                },
                {
                  "0": {
                    "model": "text-davinci-002",
                    "choices": [
                      {
                        "text": ",\"\" said france coach brice matelau.\"\n\nRugby",
                        "index": 0,
                        "finish_reason": "stop"
                      }
                    ],
                    "object": "text_completion",
                    "id": "cmpl-6kXUqtFPAsaugEAV5tEIJUb64rZxm",
                    "created": "1676549868"
                  },
                  "2": "rugby023.txt",
                  "3": ",\"\" said france coach brice matelau.\"\n\nRugby",
                  "4": "rugby",
                  "5": "rugby"
                },
                {
                  "0": {
                    "model": "text-davinci-002",
                    "choices": [
                      {
                        "text": ",\" said ruddock.\"\n\nRugby",
                        "index": 0,
                        "finish_reason": "stop"
                      }
                    ],
                    "object": "text_completion",
                    "id": "cmpl-6kXUrVQL6AUUt8htE0vlr3Jjf0N11",
                    "created": "1676549869"
                  },
                  "2": "rugby037.txt",
                  "3": ",\" said ruddock.\"\n\nRugby",
                  "4": "rugby",
                  "5": "rugby"
                },
                {
                  "0": {
                    "model": "text-davinci-002",
                    "choices": [
                      {
                        "text": ".\n\nAthletics",
                        "index": 0,
                        "finish_reason": "stop"
                      }
                    ],
                    "object": "text_completion",
                    "id": "cmpl-6kXUrcobkiliK2VKB0mrKQQr4d9kg",
                    "created": "1676549869"
                  },
                  "2": "atheletics036.txt",
                  "3": ".\n\nAthletics",
                  "4": "atheletics",
                  "5": "atheletics"
                },
                {
                  "0": {
                    "model": "text-davinci-002",
                    "choices": [
                      {
                        "text": ". i knew it would be all right once i was out there, Athletics",
                        "index": 0,
                        "finish_reason": "stop"
                      }
                    ],
                    "object": "text_completion",
                    "id": "cmpl-6kXUruFwKRpbcLAMHsvV1nDg63uJu",
                    "created": "1676549869"
                  },
                  "2": "atheletics022.txt",
                  "3": ". i knew it would be all right once i was out there, Athletics",
                  "4": "atheletics",
                  "5": "atheletics"
                },
                {
                  "0": {
                    "model": "text-davinci-002",
                    "choices": [
                      {
                        "text": ",\"\" said the 24-year-old melzer.\"\n\nTennis",
                        "index": 0,
                        "finish_reason": "stop"
                      }
                    ],
                    "object": "text_completion",
                    "id": "cmpl-6kXUsVBUacChehlsCyiTRtLFVa2Lp",
                    "created": "1676549870"
                  },
                  "2": "tennis007.txt",
                  "3": ",\"\" said the 24-year-old melzer.\"\n\nTennis",
                  "4": "tennis",
                  "5": "tennis"
                },
                {
                  "0": {
                    "model": "text-davinci-002",
                    "choices": [
                      {
                        "text": " around,\" said federer. \"i was very concentrated  very happy to win again.\"\n\nTennis",
                        "index": 0,
                        "finish_reason": "stop"
                      }
                    ],
                    "object": "text_completion",
                    "id": "cmpl-6kXUtLTFzu2JxA8EaW5e9QqN6ltEh",
                    "created": "1676549871"
                  },
                  "2": "tennis013.txt",
                  "3": " around,\" said federer. \"i was very concentrated  very happy to win again.\"\n\nTennis",
                  "4": "tennis",
                  "5": "tennis"
                },
                {
                  "0": {
                    "model": "text-davinci-002",
                    "choices": [
                      {
                        "text": " made a statement recently that they would pay less money to a women's tennis match than they would to a men's. i don't think there's anywhere that's true any more.\"\n\nTennis",
                        "index": 0,
                        "finish_reason": "stop"
                      }
                    ],
                    "object": "text_completion",
                    "id": "cmpl-6kXUv3LGF7bT3W7LUIpTgTSl5nfb2",
                    "created": "1676549873"
                  },
                  "2": "tennis012.txt",
                  "3": " made a statement recently that they would pay less money to a women's tennis match than they would to a men's. i don't think there's anywhere that's true any more.\"\n\nTennis",
                  "4": "tennis",
                  "5": "tennis"
                },
                {
                  "0": {
                    "model": "text-davinci-002",
                    "choices": [
                      {
                        "text": ",\"\" he said.\"\n\nTennis",
                        "index": 0,
                        "finish_reason": "stop"
                      }
                    ],
                    "object": "text_completion",
                    "id": "cmpl-6kXUw7QgPPjJD85IcmZFAOgRL5A2J",
                    "created": "1676549874"
                  },
                  "2": "tennis006.txt",
                  "3": ",\"\" he said.\"\n\nTennis",
                  "4": "tennis",
                  "5": "tennis"
                },
                {
                  "0": {
                    "model": "text-davinci-002",
                    "choices": [
                      {
                        "text": " of olympism, that will preserve the purity of sport and that will submit those who damage sport to strict sanctions,\"\" mr papadoyiannakis said.\n\nAthletics",
                        "index": 0,
                        "finish_reason": "stop"
                      }
                    ],
                    "object": "text_completion",
                    "id": "cmpl-6kXUw6mflAedYXOWA9TWPvpRHuqwS",
                    "created": "1676549874"
                  },
                  "2": "atheletics023.txt",
                  "3": " of olympism, that will preserve the purity of sport and that will submit those who damage sport to strict sanctions,\"\" mr papadoyiannakis said.\n\nAthletics",
                  "4": "atheletics",
                  "5": "atheletics"
                },
                {
                  "0": {
                    "model": "text-davinci-002",
                    "choices": [
                      {
                        "text": " we are a shambles,\" johnson told bbc radio.\n\nAthletics",
                        "index": 0,
                        "finish_reason": "stop"
                      }
                    ],
                    "object": "text_completion",
                    "id": "cmpl-6kXUx0yZFhLtCTgINpd7DoqYAgXRm",
                    "created": "1676549875"
                  },
                  "2": "atheletics037.txt",
                  "3": " we are a shambles,\" johnson told bbc radio.\n\nAthletics",
                  "4": "atheletics",
                  "5": "atheletics"
                },
                {
                  "0": {
                    "model": "text-davinci-002",
                    "choices": [
                      {
                        "text": ", mike Hamlin and fiona Luckhurst.\"\n\nRugby",
                        "index": 0,
                        "finish_reason": "stop"
                      }
                    ],
                    "object": "text_completion",
                    "id": "cmpl-6kXUxk8iRYhTHEzwhIzDzEAUBT6p1",
                    "created": "1676549875"
                  },
                  "2": "rugby036.txt",
                  "3": ", mike Hamlin and fiona Luckhurst.\"\n\nRugby",
                  "4": "rugby",
                  "5": "rugby"
                },
                {
                  "0": {
                    "model": "text-davinci-002",
                    "choices": [
                      {
                        "text": ",\" kirwan said.\"\n\nFootball\n\n\nCategory:Italy national rugby team",
                        "index": 0,
                        "finish_reason": "stop"
                      }
                    ],
                    "object": "text_completion",
                    "id": "cmpl-6kXUyCEqg0qcnIjYf3PtKLkUPjR9q",
                    "created": "1676549876"
                  },
                  "2": "rugby022.txt",
                  "3": ",\" kirwan said.\"\n\nFootball\n\n\nCategory:Italy national rugby team",
                  "4": "rugby",
                  "5": "football"
                },
                {
                  "0": {
                    "model": "text-davinci-002",
                    "choices": [
                      {
                        "text": " when he was warming up\"\"\n\nFootball",
                        "index": 0,
                        "finish_reason": "stop"
                      }
                    ],
                    "object": "text_completion",
                    "id": "cmpl-6kXUyfRmQdLZOAxqGCN8sGmg62s8s",
                    "created": "1676549876"
                  },
                  "2": "football103.txt",
                  "3": " when he was warming up\"\"\n\nFootball",
                  "4": "football",
                  "5": "football"
                },
                {
                  "0": {
                    "model": "text-davinci-002",
                    "choices": [
                      {
                        "text": ", who won the fa cup in his first season with arsenal in 2002-03, believes other clubs are interested in signing him: \"\n\nFootball",
                        "index": 0,
                        "finish_reason": "stop"
                      }
                    ],
                    "object": "text_completion",
                    "id": "cmpl-6kXUyTzPWUi87bErAM7hiC30E8eui",
                    "created": "1676549876"
                  },
                  "2": "football117.txt",
                  "3": ", who won the fa cup in his first season with arsenal in 2002-03, believes other clubs are interested in signing him: \"\n\nFootball",
                  "4": "football",
                  "5": "football"
                },
                {
                  "0": {
                    "model": "text-davinci-002",
                    "choices": [
                      {
                        "text": "\n\nCricket",
                        "index": 0,
                        "finish_reason": "stop"
                      }
                    ],
                    "object": "text_completion",
                    "id": "cmpl-6kXUznpkrfqMvnvW7xYynuc74lOkR",
                    "created": "1676549877"
                  },
                  "2": "cricket013.txt",
                  "3": "\n\nCricket",
                  "4": "cricket",
                  "5": "cricket"
                },
                {
                  "0": {
                    "model": "text-davinci-002",
                    "choices": [
                      {
                        "text": " in chennai and showed a lot of character.\n\nFootball",
                        "index": 0,
                        "finish_reason": "stop"
                      }
                    ],
                    "object": "text_completion",
                    "id": "cmpl-6kXUzHfQNN7CgMA2l6FFQOCsMm3Sy",
                    "created": "1676549877"
                  },
                  "2": "cricket007.txt",
                  "3": " in chennai and showed a lot of character.\n\nFootball",
                  "4": "cricket",
                  "5": "football"
                },
                {
                  "0": {
                    "model": "text-davinci-002",
                    "choices": [
                      {
                        "text": ", which is very good, and the movement and finishing was very good. charlton manager alan pardew: \"\"we are disappointed but we played well and matched a good side. \"\"i dont think we deserved to lose and maybe a draw would have been a fairer result.\"\"\n\nFootball",
                        "index": 0,
                        "finish_reason": "stop"
                      }
                    ],
                    "object": "text_completion",
                    "id": "cmpl-6kXUzG0P9A6kYV3TNMyzruFgM09eF",
                    "created": "1676549877"
                  },
                  "2": "football249.txt",
                  "3": ", which is very good, and the movement and finishing was very good. charlton manager alan pardew: \"\"we are disappointed but we played well and matched a good side. \"\"i dont think we deserved to lose and maybe a draw would have been a fairer result.\"\"\n\nFootball",
                  "4": "football",
                  "5": "football"
                },
                {
                  "0": {
                    "model": "text-davinci-002",
                    "choices": [
                      {
                        "text": "Football",
                        "index": 0,
                        "finish_reason": "stop"
                      }
                    ],
                    "object": "text_completion",
                    "id": "cmpl-6kXV1bIuVrznWIYAR04u9hfaZqIce",
                    "created": "1676549879"
                  },
                  "2": "football261.txt",
                  "3": "Football",
                  "4": "football",
                  "5": "football"
                },
                {
                  "0": {
                    "model": "text-davinci-002",
                    "choices": [
                      {
                        "text": ",\" he said. \"\n\nFootball",
                        "index": 0,
                        "finish_reason": "stop"
                      }
                    ],
                    "object": "text_completion",
                    "id": "cmpl-6kXV13r8Vgt9dPZukv04eIeazFjle",
                    "created": "1676549879"
                  },
                  "2": "football088.txt",
                  "3": ",\" he said. \"\n\nFootball",
                  "4": "football",
                  "5": "football"
                },
                {
                  "0": {
                    "model": "text-davinci-002",
                    "choices": [
                      {
                        "text": ", said andrew.  we are hopeful for the italy game (6 march) but we will not push him\"\n\nFootball",
                        "index": 0,
                        "finish_reason": "stop"
                      }
                    ],
                    "object": "text_completion",
                    "id": "cmpl-6kXV18CbDbhMjbLVAUPSpFHEvWipc",
                    "created": "1676549879"
                  },
                  "2": "rugby142.txt",
                  "3": ", said andrew.  we are hopeful for the italy game (6 march) but we will not push him\"\n\nFootball",
                  "4": "rugby",
                  "5": "football"
                },
                {
                  "0": {
                    "model": "text-davinci-002",
                    "choices": [
                      {
                        "text": ", which has been operated on. the timescale for his return is anywhere between four and eight weeks\"\n\nFootball",
                        "index": 0,
                        "finish_reason": "stop"
                      }
                    ],
                    "object": "text_completion",
                    "id": "cmpl-6kXV2xEXbRuQjsVoSXSN4DXvpgghb",
                    "created": "1676549880"
                  },
                  "2": "football077.txt",
                  "3": ", which has been operated on. the timescale for his return is anywhere between four and eight weeks\"\n\nFootball",
                  "4": "football",
                  "5": "football"
                },
                {
                  "0": {
                    "model": "text-davinci-002",
                    "choices": [
                      {
                        "text": " but wenger admitted afterwards that arsenal were outclassed for long periods.\"\n\nFootball",
                        "index": 0,
                        "finish_reason": "stop"
                      }
                    ],
                    "object": "text_completion",
                    "id": "cmpl-6kXV2Fr2FEZ5g6vL0YHGuID4SQXwb",
                    "created": "1676549880"
                  },
                  "2": "football063.txt",
                  "3": " but wenger admitted afterwards that arsenal were outclassed for long periods.\"\n\nFootball",
                  "4": "football",
                  "5": "football"
                },
                {
                  "0": {
                    "model": "text-davinci-002",
                    "choices": [
                      {
                        "text": " on,\"\" he said\"\n\nRugby",
                        "index": 0,
                        "finish_reason": "stop"
                      }
                    ],
                    "object": "text_completion",
                    "id": "cmpl-6kXV3BABSRuK310xeCxhseWj3IQZI",
                    "created": "1676549881"
                  },
                  "2": "rugby146.txt",
                  "3": " on,\"\" he said\"\n\nRugby",
                  "4": "rugby",
                  "5": "rugby"
                },
                {
                  "0": {
                    "model": "text-davinci-002",
                    "choices": [
                      {
                        "text": " these decisions have to be taken when the results aren't what is expected,\" ranieri told a news conference.Football",
                        "index": 0,
                        "finish_reason": "stop"
                      }
                    ],
                    "object": "text_completion",
                    "id": "cmpl-6kXV3IdFz7lnw87STdeDlUiJLRyzp",
                    "created": "1676549881"
                  },
                  "2": "football067.txt",
                  "3": " these decisions have to be taken when the results aren't what is expected,\" ranieri told a news conference.Football",
                  "4": "football",
                  "5": "football"
                },
                {
                  "0": {
                    "model": "text-davinci-002",
                    "choices": [
                      {
                        "text": " small chance. at the moment it is 10% but who knows, it might be 30% by next week.\"\"\n\nFootball",
                        "index": 0,
                        "finish_reason": "stop"
                      }
                    ],
                    "object": "text_completion",
                    "id": "cmpl-6kXV36aEyYg2cjYRv2ggnSLESjtWO",
                    "created": "1676549881"
                  },
                  "2": "football073.txt",
                  "3": " small chance. at the moment it is 10% but who knows, it might be 30% by next week.\"\"\n\nFootball",
                  "4": "football",
                  "5": "football"
                },
                {
                  "0": {
                    "model": "text-davinci-002",
                    "choices": [
                      {
                        "text": " that im looking forward to going back there so its a great game for us to have,\" he told bbc radio solent. \"\n\nFootball",
                        "index": 0,
                        "finish_reason": "stop"
                      }
                    ],
                    "object": "text_completion",
                    "id": "cmpl-6kXV4X2NbocSvG58bzPsrQfbz9Lix",
                    "created": "1676549882"
                  },
                  "2": "football098.txt",
                  "3": " that im looking forward to going back there so its a great game for us to have,\" he told bbc radio solent. \"\n\nFootball",
                  "4": "football",
                  "5": "football"
                },
                {
                  "0": {
                    "model": "text-davinci-002",
                    "choices": [
                      {
                        "text": "\n\nFootball",
                        "index": 0,
                        "finish_reason": "stop"
                      }
                    ],
                    "object": "text_completion",
                    "id": "cmpl-6kXV6ZMMwvLoCHnAshBXidquT0MBJ",
                    "created": "1676549884"
                  },
                  "2": "football259.txt",
                  "3": "\n\nFootball",
                  "4": "football",
                  "5": "football"
                },
                {
                  "0": {
                    "model": "text-davinci-002",
                    "choices": [
                      {
                        "text": "\n\nFootball",
                        "index": 0,
                        "finish_reason": "stop"
                      }
                    ],
                    "object": "text_completion",
                    "id": "cmpl-6kXV7in3UPBukE6ROoZSi1VGHM5H0",
                    "created": "1676549885"
                  },
                  "2": "football265.txt",
                  "3": "\n\nFootball",
                  "4": "football",
                  "5": "football"
                },
                {
                  "0": {
                    "model": "text-davinci-002",
                    "choices": [
                      {
                        "text": ". smith said to me that we were on for a big score so i just played my shots,\"\" he said.\n\nCricket",
                        "index": 0,
                        "finish_reason": "stop"
                      }
                    ],
                    "object": "text_completion",
                    "id": "cmpl-6kXV7pG82I37IiXSJcNItua8erAaf",
                    "created": "1676549885"
                  },
                  "2": "cricket003.txt",
                  "3": ". smith said to me that we were on for a big score so i just played my shots,\"\" he said.\n\nCricket",
                  "4": "cricket",
                  "5": "cricket"
                },
                {
                  "0": {
                    "model": "text-davinci-002",
                    "choices": [
                      {
                        "text": "\n\nCricket",
                        "index": 0,
                        "finish_reason": "stop"
                      }
                    ],
                    "object": "text_completion",
                    "id": "cmpl-6kXV7Z6RpJRGkPXVMy5u0aGCaFhcX",
                    "created": "1676549885"
                  },
                  "2": "cricket017.txt",
                  "3": "\n\nCricket",
                  "4": "cricket",
                  "5": "cricket"
                },
                {
                  "0": {
                    "model": "text-davinci-002",
                    "choices": [
                      {
                        "text": "\n\nFootball",
                        "index": 0,
                        "finish_reason": "stop"
                      }
                    ],
                    "object": "text_completion",
                    "id": "cmpl-6kXV8nn1cIAHsQMmu9GaeAEHUBaXN",
                    "created": "1676549886"
                  },
                  "2": "rugby026.txt",
                  "3": "\n\nFootball",
                  "4": "rugby",
                  "5": "football"
                },
                {
                  "0": {
                    "model": "text-davinci-002",
                    "choices": [
                      {
                        "text": ",\"\" said bell. rugby\"\n\nRugby",
                        "index": 0,
                        "finish_reason": "stop"
                      }
                    ],
                    "object": "text_completion",
                    "id": "cmpl-6kXV8AME9d4psJaooOADcV9wasR5w",
                    "created": "1676549886"
                  },
                  "2": "rugby032.txt",
                  "3": ",\"\" said bell. rugby\"\n\nRugby",
                  "4": "rugby",
                  "5": "rugby"
                },
                {
                  "0": {
                    "model": "text-davinci-002",
                    "choices": [
                      {
                        "text": ", said arnesen about the friction between him and santini.\n\nFootball",
                        "index": 0,
                        "finish_reason": "stop"
                      }
                    ],
                    "object": "text_completion",
                    "id": "cmpl-6kXV9z6cMgCDTgvjxgGzVEujsaoOO",
                    "created": "1676549887"
                  },
                  "2": "football113.txt",
                  "3": ", said arnesen about the friction between him and santini.\n\nFootball",
                  "4": "football",
                  "5": "football"
                },
                {
                  "0": {
                    "model": "text-davinci-002",
                    "choices": [
                      {
                        "text": ", yes. of course id be interested.\"\"\n\nFootball",
                        "index": 0,
                        "finish_reason": "stop"
                      }
                    ],
                    "object": "text_completion",
                    "id": "cmpl-6kXVAEcEfAU1UCCjo1ulBySkU6AC3",
                    "created": "1676549888"
                  },
                  "2": "football107.txt",
                  "3": ", yes. of course id be interested.\"\"\n\nFootball",
                  "4": "football",
                  "5": "football"
                },
                {
                  "0": {
                    "model": "text-davinci-002",
                    "choices": [
                      {
                        "text": "\n\ntennis",
                        "index": 0,
                        "finish_reason": "stop"
                      }
                    ],
                    "object": "text_completion",
                    "id": "cmpl-6kXVAEHFFL5fWKg11HRetx11dCwup",
                    "created": "1676549888"
                  },
                  "2": "tennis002.txt",
                  "3": "\n\ntennis",
                  "4": "tennis",
                  "5": "tennis"
                },
                {
                  "0": {
                    "model": "text-davinci-002",
                    "choices": [
                      {
                        "text": " but i have to focus on playing well at the start of the second set,\n\nTennis",
                        "index": 0,
                        "finish_reason": "stop"
                      }
                    ],
                    "object": "text_completion",
                    "id": "cmpl-6kXVA2rx51ZLSrLz6bsKkA3ERq2BP",
                    "created": "1676549888"
                  },
                  "2": "tennis016.txt",
                  "3": " but i have to focus on playing well at the start of the second set,\n\nTennis",
                  "4": "tennis",
                  "5": "tennis"
                },
                {
                  "0": {
                    "model": "text-davinci-002",
                    "choices": [
                      {
                        "text": " christos tsekos.\n\nAthletics",
                        "index": 0,
                        "finish_reason": "stop"
                      }
                    ],
                    "object": "text_completion",
                    "id": "cmpl-6kXVB2ZeHO5bSnXary7UxMSEnT33f",
                    "created": "1676549889"
                  },
                  "2": "atheletics033.txt",
                  "3": " christos tsekos.\n\nAthletics",
                  "4": "atheletics",
                  "5": "atheletics"
                },
                {
                  "0": {
                    "model": "text-davinci-002",
                    "choices": [
                      {
                        "text": "\n\nAthletics",
                        "index": 0,
                        "finish_reason": "stop"
                      }
                    ],
                    "object": "text_completion",
                    "id": "cmpl-6kXVBpMjRceDS72d9BeN5Z9kVXMbs",
                    "created": "1676549889"
                  },
                  "2": "atheletics027.txt",
                  "3": "\n\nAthletics",
                  "4": "atheletics",
                  "5": "atheletics"
                },
                {
                  "0": {
                    "model": "text-davinci-002",
                    "choices": [
                      {
                        "text": "\n\nAthletics",
                        "index": 0,
                        "finish_reason": "stop"
                      }
                    ],
                    "object": "text_completion",
                    "id": "cmpl-6kXVBHachMMLZkfQaZYTllvxtZJPX",
                    "created": "1676549889"
                  },
                  "2": "atheletics026.txt",
                  "3": "\n\nAthletics",
                  "4": "atheletics",
                  "5": "atheletics"
                },
                {
                  "0": {
                    "model": "text-davinci-002",
                    "choices": [
                      {
                        "text": " as i was when i first started,\"\" said bekele, who takes on a strong field including olympic 3000m steeplechase silver medallist Eliud Kipchoge, who has also been successful over the longer distances.\n\nAthletics",
                        "index": 0,
                        "finish_reason": "stop"
                      }
                    ],
                    "object": "text_completion",
                    "id": "cmpl-6kXVCWRitJnI4CgShhdBav9knrM9h",
                    "created": "1676549890"
                  },
                  "2": "atheletics032.txt",
                  "3": " as i was when i first started,\"\" said bekele, who takes on a strong field including olympic 3000m steeplechase silver medallist Eliud Kipchoge, who has also been successful over the longer distances.\n\nAthletics",
                  "4": "atheletics",
                  "5": "atheletics"
                },
                {
                  "0": {
                    "model": "text-davinci-002",
                    "choices": [
                      {
                        "text": ",\" he said.\n\nTennis",
                        "index": 0,
                        "finish_reason": "stop"
                      }
                    ],
                    "object": "text_completion",
                    "id": "cmpl-6kXVDN7dsQyszyP4YMB7VZgWunvgs",
                    "created": "1676549891"
                  },
                  "2": "tennis017.txt",
                  "3": ",\" he said.\n\nTennis",
                  "4": "tennis",
                  "5": "tennis"
                },
                {
                  "0": {
                    "model": "text-davinci-002",
                    "choices": [
                      {
                        "text": ", but i am sure that things will improve.  following a first-round defeat at the australian open and a first-round retirement at the chennai open in january, things couldnt get much worse,\"\" said the 26-year-old.\"\n\nTennis",
                        "index": 0,
                        "finish_reason": "stop"
                      }
                    ],
                    "object": "text_completion",
                    "id": "cmpl-6kXVDL77s0sQFWvkj7MU6x4dvS9pi",
                    "created": "1676549891"
                  },
                  "2": "tennis003.txt",
                  "3": ", but i am sure that things will improve.  following a first-round defeat at the australian open and a first-round retirement at the chennai open in january, things couldnt get much worse,\"\" said the 26-year-old.\"\n\nTennis",
                  "4": "tennis",
                  "5": "tennis"
                },
                {
                  "0": {
                    "model": "text-davinci-002",
                    "choices": [
                      {
                        "text": ". i wouldnt be surprised if thierry got a longer ban than ruud\",\"Football\"]\n\nFootball",
                        "index": 0,
                        "finish_reason": "stop"
                      }
                    ],
                    "object": "text_completion",
                    "id": "cmpl-6kXVESNCd1f1uIZ56wwRZsNu7DJtr",
                    "created": "1676549892"
                  },
                  "2": "football106.txt",
                  "3": ". i wouldnt be surprised if thierry got a longer ban than ruud\",\"Football\"]\n\nFootball",
                  "4": "football",
                  "5": "football"
                },
                {
                  "0": {
                    "model": "text-davinci-002",
                    "choices": [
                      {
                        "text": ".\"\"\n\nFootball",
                        "index": 0,
                        "finish_reason": "stop"
                      }
                    ],
                    "object": "text_completion",
                    "id": "cmpl-6kXVEm62bd2yWFjKwwUPpW4veiyts",
                    "created": "1676549892"
                  },
                  "2": "football112.txt",
                  "3": ".\"\"\n\nFootball",
                  "4": "football",
                  "5": "football"
                },
                {
                  "0": {
                    "model": "text-davinci-002",
                    "choices": [
                      {
                        "text": " over the international season. this weekend a lot of people were talking about releasing players, but weve decided that its best for wales if they have a rest,\"\" he said.\"\n\nRugby",
                        "index": 0,
                        "finish_reason": "stop"
                      }
                    ],
                    "object": "text_completion",
                    "id": "cmpl-6kXVFiYriROJHw0asMSFIcZXrxKuO",
                    "created": "1676549893"
                  },
                  "2": "rugby033.txt",
                  "3": " over the international season. this weekend a lot of people were talking about releasing players, but weve decided that its best for wales if they have a rest,\"\" he said.\"\n\nRugby",
                  "4": "rugby",
                  "5": "rugby"
                },
                {
                  "0": {
                    "model": "text-davinci-002",
                    "choices": [
                      {
                        "text": " in the previous three matches, we felt this was the time to give him a start on the right wing,\"\" ruddock said \\n\n\nFootball",
                        "index": 0,
                        "finish_reason": "stop"
                      }
                    ],
                    "object": "text_completion",
                    "id": "cmpl-6kXVFETYQReXkm0Ex0CYvyqEvs7rU",
                    "created": "1676549893"
                  },
                  "2": "rugby027.txt",
                  "3": " in the previous three matches, we felt this was the time to give him a start on the right wing,\"\" ruddock said \\n\n\nFootball",
                  "4": "rugby",
                  "5": "football"
                },
                {
                  "0": {
                    "model": "text-davinci-002",
                    "choices": [
                      {
                        "text": " until today. he will come over in a couple of days and will be available for selection on saturday,\"\" he said.\n\nCricket",
                        "index": 0,
                        "finish_reason": "stop"
                      }
                    ],
                    "object": "text_completion",
                    "id": "cmpl-6kXVH3pfFJdcGpLhkvroRwr8Iyiau",
                    "created": "1676549895"
                  },
                  "2": "cricket016.txt",
                  "3": " until today. he will come over in a couple of days and will be available for selection on saturday,\"\" he said.\n\nCricket",
                  "4": "cricket",
                  "5": "cricket"
                },
                {
                  "0": {
                    "model": "text-davinci-002",
                    "choices": [
                      {
                        "text": "\n\nCricket",
                        "index": 0,
                        "finish_reason": "stop"
                      }
                    ],
                    "object": "text_completion",
                    "id": "cmpl-6kXVIKRRLART3JXxuvOWaLB4STBYG",
                    "created": "1676549896"
                  },
                  "2": "cricket002.txt",
                  "3": "\n\nCricket",
                  "4": "cricket",
                  "5": "cricket"
                },
                {
                  "0": {
                    "model": "text-davinci-002",
                    "choices": [
                      {
                        "text": " gave us a real platform to negotiate from and we are grateful for the backing of uefa and fifa.\"\"\n\nFootball",
                        "index": 0,
                        "finish_reason": "stop"
                      }
                    ],
                    "object": "text_completion",
                    "id": "cmpl-6kXVI3gXH0fQwoDEViVbBgt467McI",
                    "created": "1676549896"
                  },
                  "2": "football264.txt",
                  "3": " gave us a real platform to negotiate from and we are grateful for the backing of uefa and fifa.\"\"\n\nFootball",
                  "4": "football",
                  "5": "football"
                },
                {
                  "0": {
                    "model": "text-davinci-002",
                    "choices": [
                      {
                        "text": "'s embattled world governing body, mbeki said fifa had the right to set up the 2010 loc in line with its statutes.\n\nFootball",
                        "index": 0,
                        "finish_reason": "stop"
                      }
                    ],
                    "object": "text_completion",
                    "id": "cmpl-6kXVJYieQJTzzxOsFP27718qVH5di",
                    "created": "1676549897"
                  },
                  "2": "football258.txt",
                  "3": "'s embattled world governing body, mbeki said fifa had the right to set up the 2010 loc in line with its statutes.\n\nFootball",
                  "4": "football",
                  "5": "football"
                },
                {
                  "0": {
                    "model": "text-davinci-002",
                    "choices": [
                      {
                        "text": ".\"\"\n\nFootball",
                        "index": 0,
                        "finish_reason": "stop"
                      }
                    ],
                    "object": "text_completion",
                    "id": "cmpl-6kXVJGUxJCnXzzk6EQxEz1xbEvpRa",
                    "created": "1676549897"
                  },
                  "2": "football099.txt",
                  "3": ".\"\"\n\nFootball",
                  "4": "football",
                  "5": "football"
                },
                {
                  "0": {
                    "model": "text-davinci-002",
                    "choices": [
                      {
                        "text": ",\" said redknapp\"\n\nFootball",
                        "index": 0,
                        "finish_reason": "stop"
                      }
                    ],
                    "object": "text_completion",
                    "id": "cmpl-6kXVJbZPy8hvNfemWRuJBOIJZvr9l",
                    "created": "1676549897"
                  },
                  "2": "football072.txt",
                  "3": ",\" said redknapp\"\n\nFootball",
                  "4": "football",
                  "5": "football"
                },
                {
                  "0": {
                    "model": "text-davinci-002",
                    "choices": [
                      {
                        "text": " and that can only be of benefit to any side.\"\"\n\nFootball",
                        "index": 0,
                        "finish_reason": "stop"
                      }
                    ],
                    "object": "text_completion",
                    "id": "cmpl-6kXVKFpi8bng6YbtijVRTwHlFiNwF",
                    "created": "1676549898"
                  },
                  "2": "football066.txt",
                  "3": " and that can only be of benefit to any side.\"\"\n\nFootball",
                  "4": "football",
                  "5": "football"
                },
                {
                  "0": {
                    "model": "text-davinci-002",
                    "choices": [
                      {
                        "text": ",\" said oconnor.\n\nRugby",
                        "index": 0,
                        "finish_reason": "stop"
                      }
                    ],
                    "object": "text_completion",
                    "id": "cmpl-6kXVKmpe0pjarPHCx7WefGf3MYV5c",
                    "created": "1676549898"
                  },
                  "2": "rugby147.txt",
                  "3": ",\" said oconnor.\n\nRugby",
                  "4": "rugby",
                  "5": "rugby"
                },
                {
                  "0": {
                    "model": "text-davinci-002",
                    "choices": [
                      {
                        "text": "\n\nFootball",
                        "index": 0,
                        "finish_reason": "stop"
                      }
                    ],
                    "object": "text_completion",
                    "id": "cmpl-6kXVKJBEBJ0BaHBRlAq7r2VinY9m0",
                    "created": "1676549898"
                  },
                  "2": "rugby145.txt",
                  "3": "\n\nFootball",
                  "4": "rugby",
                  "5": "football"
                },
                {
                  "0": {
                    "model": "text-davinci-002",
                    "choices": [
                      {
                        "text": " because hes a top player,\"\" the united boss told a news conference on tuesday.\n\nFootball",
                        "index": 0,
                        "finish_reason": "stop"
                      }
                    ],
                    "object": "text_completion",
                    "id": "cmpl-6kXVMUWOhJUq4kzjy9rspFRgXoSJ0",
                    "created": "1676549900"
                  },
                  "2": "football058.txt",
                  "3": " because hes a top player,\"\" the united boss told a news conference on tuesday.\n\nFootball",
                  "4": "football",
                  "5": "football"
                },
                {
                  "0": {
                    "model": "text-davinci-002",
                    "choices": [
                      {
                        "text": ", hopefully next week.\"\"\n\nFootball",
                        "index": 0,
                        "finish_reason": "stop"
                      }
                    ],
                    "object": "text_completion",
                    "id": "cmpl-6kXVMzY3FBd0p57T4DtlDEaw5iD6m",
                    "created": "1676549900"
                  },
                  "2": "football070.txt",
                  "3": ", hopefully next week.\"\"\n\nFootball",
                  "4": "football",
                  "5": "football"
                },
                {
                  "0": {
                    "model": "text-davinci-002",
                    "choices": [
                      {
                        "text": ",\"\" the former netherlands international centre-back said in the build-up to the game.\n\nFootball",
                        "index": 0,
                        "finish_reason": "stop"
                      }
                    ],
                    "object": "text_completion",
                    "id": "cmpl-6kXVM18LV7gTycnRkhHfOJHQCG0BT",
                    "created": "1676549900"
                  },
                  "2": "football064.txt",
                  "3": ",\"\" the former netherlands international centre-back said in the build-up to the game.\n\nFootball",
                  "4": "football",
                  "5": "football"
                },
                {
                  "0": {
                    "model": "text-davinci-002",
                    "choices": [
                      {
                        "text": ", we are very confident that he will take it.\"\"\n\nCricket",
                        "index": 0,
                        "finish_reason": "stop"
                      }
                    ],
                    "object": "text_completion",
                    "id": "cmpl-6kXVNnU6sC14eRN3OZlkaT0a1UWhb",
                    "created": "1676549901"
                  },
                  "2": "cricket028.txt",
                  "3": ", we are very confident that he will take it.\"\"\n\nCricket",
                  "4": "cricket",
                  "5": "cricket"
                },
                {
                  "0": {
                    "model": "text-davinci-002",
                    "choices": [
                      {
                        "text": ",\" he said\"\n\nCricket",
                        "index": 0,
                        "finish_reason": "stop"
                      }
                    ],
                    "object": "text_completion",
                    "id": "cmpl-6kXVOnj6fAKw8K0FkOwJ5AOOyXcae",
                    "created": "1676549902"
                  },
                  "2": "cricket014.txt",
                  "3": ",\" he said\"\n\nCricket",
                  "4": "cricket",
                  "5": "cricket"
                },
                {
                  "0": {
                    "model": "text-davinci-002",
                    "choices": [
                      {
                        "text": " added: \"\"i'm really pleased to be back in football and especially at wolves because i think theres a lot of potential.\"\"\n\nFootball",
                        "index": 0,
                        "finish_reason": "stop"
                      }
                    ],
                    "object": "text_completion",
                    "id": "cmpl-6kXVP7kbUAejKY68hCqZgBSxHNaGm",
                    "created": "1676549903"
                  },
                  "2": "football138.txt",
                  "3": " added: \"\"i'm really pleased to be back in football and especially at wolves because i think theres a lot of potential.\"\"\n\nFootball",
                  "4": "football",
                  "5": "football"
                },
                {
                  "0": {
                    "model": "text-davinci-002",
                    "choices": [
                      {
                        "text": "\n\nFootball",
                        "index": 0,
                        "finish_reason": "stop"
                      }
                    ],
                    "object": "text_completion",
                    "id": "cmpl-6kXVPK5p7wOpaRJEq7jE4M0pbN5Se",
                    "created": "1676549903"
                  },
                  "2": "rugby031.txt",
                  "3": "\n\nFootball",
                  "4": "rugby",
                  "5": "football"
                },
                {
                  "0": {
                    "model": "text-davinci-002",
                    "choices": [
                      {
                        "text": "\n\nRugby",
                        "index": 0,
                        "finish_reason": "stop"
                      }
                    ],
                    "object": "text_completion",
                    "id": "cmpl-6kXVPVcvZoUCQvRQwhzyrhAPCZ3bF",
                    "created": "1676549903"
                  },
                  "2": "rugby025.txt",
                  "3": "\n\nRugby",
                  "4": "rugby",
                  "5": "rugby"
                },
                {
                  "0": {
                    "model": "text-davinci-002",
                    "choices": [
                      {
                        "text": " but thats normal in football.  everyones emotional at the end of the game.\n\nFootball",
                        "index": 0,
                        "finish_reason": "stop"
                      }
                    ],
                    "object": "text_completion",
                    "id": "cmpl-6kXVQ3Hjl2IUMv8WXNkkrNbUnoVO7",
                    "created": "1676549904"
                  },
                  "2": "football104.txt",
                  "3": " but thats normal in football.  everyones emotional at the end of the game.\n\nFootball",
                  "4": "football",
                  "5": "football"
                },
                {
                  "0": {
                    "model": "text-davinci-002",
                    "choices": [
                      {
                        "text": " town was the first english club to install an artificial pitch, in 1985. six top-flight teams now play on such a surface.\"\n\nFootball",
                        "index": 0,
                        "finish_reason": "stop"
                      }
                    ],
                    "object": "text_completion",
                    "id": "cmpl-6kXVRJ0xWXo8LflyUiyml8wZfIrHy",
                    "created": "1676549905"
                  },
                  "2": "football110.txt",
                  "3": " town was the first english club to install an artificial pitch, in 1985. six top-flight teams now play on such a surface.\"\n\nFootball",
                  "4": "football",
                  "5": "football"
                },
                {
                  "0": {
                    "model": "text-davinci-002",
                    "choices": [
                      {
                        "text": "\n\nRugby",
                        "index": 0,
                        "finish_reason": "stop"
                      }
                    ],
                    "object": "text_completion",
                    "id": "cmpl-6kXVRDe9ZGx3CnraRfvGDZiWulDye",
                    "created": "1676549905"
                  },
                  "2": "rugby019.txt",
                  "3": "\n\nRugby",
                  "4": "rugby",
                  "5": "rugby"
                },
                {
                  "0": {
                    "model": "text-davinci-002",
                    "choices": [
                      {
                        "text": "\n\nAthletics",
                        "index": 0,
                        "finish_reason": "stop"
                      }
                    ],
                    "object": "text_completion",
                    "id": "cmpl-6kXVSdCczoA47eN1a3yNNkP5npQRK",
                    "created": "1676549906"
                  },
                  "2": "atheletics018.txt",
                  "3": "\n\nAthletics",
                  "4": "atheletics",
                  "5": "atheletics"
                },
                {
                  "0": {
                    "model": "text-davinci-002",
                    "choices": [
                      {
                        "text": ",\"\" said mirza, who is assured of a place in the top 40 for the first time when the new rankings are published on monday.Tennis",
                        "index": 0,
                        "finish_reason": "stop"
                      }
                    ],
                    "object": "text_completion",
                    "id": "cmpl-6kXVTyjNh1pQdNC7hFbQO06Bg5HIT",
                    "created": "1676549907"
                  },
                  "2": "tennis015.txt",
                  "3": ",\"\" said mirza, who is assured of a place in the top 40 for the first time when the new rankings are published on monday.Tennis",
                  "4": "tennis",
                  "5": "tennis"
                },
                {
                  "0": {
                    "model": "text-davinci-002",
                    "choices": [
                      {
                        "text": ",\"\" he said.\n\nTennis",
                        "index": 0,
                        "finish_reason": "stop"
                      }
                    ],
                    "object": "text_completion",
                    "id": "cmpl-6kXVUsjbLfQuRBP6q8H3NSggUJORo",
                    "created": "1676549908"
                  },
                  "2": "tennis001.txt",
                  "3": ",\"\" he said.\n\nTennis",
                  "4": "tennis",
                  "5": "tennis"
                },
                {
                  "0": {
                    "model": "text-davinci-002",
                    "choices": [
                      {
                        "text": " has twice been world cross country champion\"\n\nAthletics",
                        "index": 0,
                        "finish_reason": "stop"
                      }
                    ],
                    "object": "text_completion",
                    "id": "cmpl-6kXVVQhq5F1SJhPynB7muZScg3uDk",
                    "created": "1676549909"
                  },
                  "2": "atheletics024.txt",
                  "3": " has twice been world cross country champion\"\n\nAthletics",
                  "4": "atheletics",
                  "5": "atheletics"
                },
                {
                  "0": {
                    "model": "text-davinci-002",
                    "choices": [
                      {
                        "text": " i dont see who could replace him in the team.\n\nTennis",
                        "index": 0,
                        "finish_reason": "stop"
                      }
                    ],
                    "object": "text_completion",
                    "id": "cmpl-6kXVWXJQ5OujvSgjssXoJF9yLGtq7",
                    "created": "1676549910"
                  },
                  "2": "tennis029.txt",
                  "3": " i dont see who could replace him in the team.\n\nTennis",
                  "4": "tennis",
                  "5": "tennis"
                },
                {
                  "0": {
                    "model": "text-davinci-002",
                    "choices": [
                      {
                        "text": "\n\nAthletics",
                        "index": 0,
                        "finish_reason": "stop"
                      }
                    ],
                    "object": "text_completion",
                    "id": "cmpl-6kXVWGkUIhZsSfrjG4hp6hBf1UqDK",
                    "created": "1676549910"
                  },
                  "2": "atheletics030.txt",
                  "3": "\n\nAthletics",
                  "4": "atheletics",
                  "5": "atheletics"
                },
                {
                  "0": {
                    "model": "text-davinci-002",
                    "choices": [
                      {
                        "text": " and cant put any pressure on it,\" walker said.\"\n\nAthletics",
                        "index": 0,
                        "finish_reason": "stop"
                      }
                    ],
                    "object": "text_completion",
                    "id": "cmpl-6kXVWKQiso5xixWmECzE98De1ARBT",
                    "created": "1676549910"
                  },
                  "2": "atheletics031.txt",
                  "3": " and cant put any pressure on it,\" walker said.\"\n\nAthletics",
                  "4": "atheletics",
                  "5": "atheletics"
                },
                {
                  "0": {
                    "model": "text-davinci-002",
                    "choices": [
                      {
                        "text": ", i might as well go for the title,\"\" said el guerrouj, 34, who will defend his outdoor 3,000 metres title in brussels in september.\"\n\nFootbal",
                        "index": 0,
                        "finish_reason": "stop"
                      }
                    ],
                    "object": "text_completion",
                    "id": "cmpl-6kXVXAJDEQltA6vm4CWJ70ELI6pWX",
                    "created": "1676549911"
                  },
                  "2": "atheletics025.txt",
                  "3": ", i might as well go for the title,\"\" said el guerrouj, 34, who will defend his outdoor 3,000 metres title in brussels in september.\"\n\nFootbal",
                  "4": "atheletics",
                  "5": ""
                },
                {
                  "0": {
                    "model": "text-davinci-002",
                    "choices": [
                      {
                        "text": " or the international tennis federation (itf)\n\nTennis",
                        "index": 0,
                        "finish_reason": "stop"
                      }
                    ],
                    "object": "text_completion",
                    "id": "cmpl-6kXVYyiZBbe1BvvHkP60ydQxT4GGS",
                    "created": "1676549912"
                  },
                  "2": "tennis028.txt",
                  "3": " or the international tennis federation (itf)\n\nTennis",
                  "4": "tennis",
                  "5": "tennis"
                },
                {
                  "0": {
                    "model": "text-davinci-002",
                    "choices": [
                      {
                        "text": " with susan and her manager,\" said london marathon race director david bedford.Athletics",
                        "index": 0,
                        "finish_reason": "stop"
                      }
                    ],
                    "object": "text_completion",
                    "id": "cmpl-6kXVY4NmZwTAolBb8vkxfZ62UWHI4",
                    "created": "1676549912"
                  },
                  "2": "atheletics019.txt",
                  "3": " with susan and her manager,\" said london marathon race director david bedford.Athletics",
                  "4": "atheletics",
                  "5": "atheletics"
                },
                {
                  "0": {
                    "model": "text-davinci-002",
                    "choices": [
                      {
                        "text": ". it was just stop-start, stop-start all day. credit to ivan, he did really well to concentrate,\" said Henman\n\nTennis",
                        "index": 0,
                        "finish_reason": "stop"
                      }
                    ],
                    "object": "text_completion",
                    "id": "cmpl-6kXVZLb79TMlXTOl0g80EWhiauwp3",
                    "created": "1676549913"
                  },
                  "2": "tennis014.txt",
                  "3": ". it was just stop-start, stop-start all day. credit to ivan, he did really well to concentrate,\" said Henman\n\nTennis",
                  "4": "tennis",
                  "5": "tennis"
                },
                {
                  "0": {
                    "model": "text-davinci-002",
                    "choices": [
                      {
                        "text": ",\" said osullivan. \"congratulations to italy. it was a hell of an effort. hopefully we will see them in the world cup.\"\n\nFootball",
                        "index": 0,
                        "finish_reason": "stop"
                      }
                    ],
                    "object": "text_completion",
                    "id": "cmpl-6kXVZwyrlWSyqap6CYwroANuGibFh",
                    "created": "1676549913"
                  },
                  "2": "rugby018.txt",
                  "3": ",\" said osullivan. \"congratulations to italy. it was a hell of an effort. hopefully we will see them in the world cup.\"\n\nFootball",
                  "4": "rugby",
                  "5": "football"
                },
                {
                  "0": {
                    "model": "text-davinci-002",
                    "choices": [
                      {
                        "text": "\n\nFootball",
                        "index": 0,
                        "finish_reason": "stop"
                      }
                    ],
                    "object": "text_completion",
                    "id": "cmpl-6kXVaIu7IWTPzBUc0fWMdwoCnGw25",
                    "created": "1676549914"
                  },
                  "2": "football111.txt",
                  "3": "\n\nFootball",
                  "4": "football",
                  "5": "football"
                },
                {
                  "0": {
                    "model": "text-davinci-002",
                    "choices": [
                      {
                        "text": " we took into account mutus excellent record before he joined us, which was reflected by his �15.8m fee. we have also considered the cost and the time involved in pursuing a lengthy legal case. however, it is important that everyone understands the absolute need for our policy in this area to be respected and complied with.\"\"\n\nFootball",
                        "index": 0,
                        "finish_reason": "stop"
                      }
                    ],
                    "object": "text_completion",
                    "id": "cmpl-6kXVaKXWErqZWqvnFEfqZWiYBHR7Y",
                    "created": "1676549914"
                  },
                  "2": "football105.txt",
                  "3": " we took into account mutus excellent record before he joined us, which was reflected by his �15.8m fee. we have also considered the cost and the time involved in pursuing a lengthy legal case. however, it is important that everyone understands the absolute need for our policy in this area to be respected and complied with.\"\"\n\nFootball",
                  "4": "football",
                  "5": "football"
                },
                {
                  "0": {
                    "model": "text-davinci-002",
                    "choices": [
                      {
                        "text": " now, but if you watch it live, you dont know what the referee has seen. our players are not dirty at all, but danny did hit him with a late kick. i dont think he should have done that. you review it and see it was costly,\"\" ruddock said\"\n\nFootball",
                        "index": 0,
                        "finish_reason": "stop"
                      }
                    ],
                    "object": "text_completion",
                    "id": "cmpl-6kXVbAJY7oeKmaUApVEJnDDuAdsoF",
                    "created": "1676549915"
                  },
                  "2": "rugby024.txt",
                  "3": " now, but if you watch it live, you dont know what the referee has seen. our players are not dirty at all, but danny did hit him with a late kick. i dont think he should have done that. you review it and see it was costly,\"\" ruddock said\"\n\nFootball",
                  "4": "rugby",
                  "5": "football"
                },
                {
                  "0": {
                    "model": "text-davinci-002",
                    "choices": [
                      {
                        "text": ". theyll be out to give us a good hiding,\" the 31-year-old said.\"\n\nRugby",
                        "index": 0,
                        "finish_reason": "stop"
                      }
                    ],
                    "object": "text_completion",
                    "id": "cmpl-6kXVciH2xh3ZxjGparaGpxGQeK0wK",
                    "created": "1676549916"
                  },
                  "2": "rugby030.txt",
                  "3": ". theyll be out to give us a good hiding,\" the 31-year-old said.\"\n\nRugby",
                  "4": "rugby",
                  "5": "rugby"
                },
                {
                  "0": {
                    "model": "text-davinci-002",
                    "choices": [
                      {
                        "text": "'s southampton staff as his number two.\"\n\nFootball",
                        "index": 0,
                        "finish_reason": "stop"
                      }
                    ],
                    "object": "text_completion",
                    "id": "cmpl-6kXVdF5A7FllYWVTnnbQCV8kUOqL2",
                    "created": "1676549917"
                  },
                  "2": "football139.txt",
                  "3": "'s southampton staff as his number two.\"\n\nFootball",
                  "4": "football",
                  "5": "football"
                },
                {
                  "0": {
                    "model": "text-davinci-002",
                    "choices": [
                      {
                        "text": "\n\nCricket",
                        "index": 0,
                        "finish_reason": "stop"
                      }
                    ],
                    "object": "text_completion",
                    "id": "cmpl-6kXVdniqmbDTbPYE2wXHtCFCib2Do",
                    "created": "1676549917"
                  },
                  "2": "cricket001.txt",
                  "3": "\n\nCricket",
                  "4": "cricket",
                  "5": "cricket"
                },
                {
                  "0": {
                    "model": "text-davinci-002",
                    "choices": [
                      {
                        "text": ",\"\" he said.\n\nCricket",
                        "index": 0,
                        "finish_reason": "stop"
                      }
                    ],
                    "object": "text_completion",
                    "id": "cmpl-6kXVdxdMrwUhNRBSrbEPah5DypMXI",
                    "created": "1676549917"
                  },
                  "2": "cricket015.txt",
                  "3": ",\"\" he said.\n\nCricket",
                  "4": "cricket",
                  "5": "cricket"
                },
                {
                  "0": {
                    "model": "text-davinci-002",
                    "choices": [
                      {
                        "text": ", that takes another two or three hours,\"\" said captain misbah-ul-haq.\n\nCricket",
                        "index": 0,
                        "finish_reason": "stop"
                      }
                    ],
                    "object": "text_completion",
                    "id": "cmpl-6kXVeBKjCkTwgBE5oXLqh5MdnxsHE",
                    "created": "1676549918"
                  },
                  "2": "cricket029.txt",
                  "3": ", that takes another two or three hours,\"\" said captain misbah-ul-haq.\n\nCricket",
                  "4": "cricket",
                  "5": "cricket"
                },
                {
                  "0": {
                    "model": "text-davinci-002",
                    "choices": [
                      {
                        "text": " now,\"\" he told chelseas official website.\n\nFootball",
                        "index": 0,
                        "finish_reason": "stop"
                      }
                    ],
                    "object": "text_completion",
                    "id": "cmpl-6kXVefnjhmIef45rYG8dHVTIQRmIw",
                    "created": "1676549918"
                  },
                  "2": "football065.txt",
                  "3": " now,\"\" he told chelseas official website.\n\nFootball",
                  "4": "football",
                  "5": "football"
                },
                {
                  "0": {
                    "model": "text-davinci-002",
                    "choices": [
                      {
                        "text": " after.\"\"\n\nFootball",
                        "index": 0,
                        "finish_reason": "stop"
                      }
                    ],
                    "object": "text_completion",
                    "id": "cmpl-6kXVffu7BVEY1zs2NTBarGWcz6hz8",
                    "created": "1676549919"
                  },
                  "2": "football071.txt",
                  "3": " after.\"\"\n\nFootball",
                  "4": "football",
                  "5": "football"
                },
                {
                  "0": {
                    "model": "text-davinci-002",
                    "choices": [
                      {
                        "text": " involved. an amicable settlement would be the best way but it is not going to happen. \"\"we are in a very difficult situation, probably one of the most difficult since the war.\"\"\n\nFootball",
                        "index": 0,
                        "finish_reason": "stop"
                      }
                    ],
                    "object": "text_completion",
                    "id": "cmpl-6kXVfNaKnI4T6ir242AgAxv03ssKJ",
                    "created": "1676549919"
                  },
                  "2": "football059.txt",
                  "3": " involved. an amicable settlement would be the best way but it is not going to happen. \"\"we are in a very difficult situation, probably one of the most difficult since the war.\"\"\n\nFootball",
                  "4": "football",
                  "5": "football"
                },
                {
                  "0": {
                    "model": "text-davinci-002",
                    "choices": [
                      {
                        "text": "\n\nFootball",
                        "index": 0,
                        "finish_reason": "stop"
                      }
                    ],
                    "object": "text_completion",
                    "id": "cmpl-6kXVguUYjBQZRkCISuCAtFP3XqpZh",
                    "created": "1676549920"
                  },
                  "2": "rugby144.txt",
                  "3": "\n\nFootball",
                  "4": "rugby",
                  "5": "football"
                }
              ],
              "schema": [
                {
                  "key": "0",
                  "name": "classification_output",
                  "type": "StructType(StructField(id,StringType,true), StructField(object,StringType,true), StructField(created,StringType,true), StructField(model,StringType,true), StructField(choices,ArrayType(StructType(StructField(text,StringType,true), StructField(index,LongType,true), StructField(logprobs,StructType(StructField(tokens,ArrayType(StringType,true),true), StructField(token_logprobs,ArrayType(DoubleType,true),true), StructField(top_logprobs,ArrayType(MapType(StringType,DoubleType,true),true),true), StructField(text_offset,ArrayType(LongType,true),true)),true), StructField(finish_reason,StringType,true)),true),true))"
                },
                {
                  "key": "1",
                  "name": "error",
                  "type": "StructType(StructField(response,StringType,true), StructField(status,StructType(StructField(protocolVersion,StructType(StructField(protocol,StringType,true), StructField(major,IntegerType,false), StructField(minor,IntegerType,false)),true), StructField(statusCode,IntegerType,false), StructField(reasonPhrase,StringType,true)),true))"
                },
                {
                  "key": "2",
                  "name": "filename",
                  "type": "string"
                },
                {
                  "key": "3",
                  "name": "classification",
                  "type": "string"
                },
                {
                  "key": "4",
                  "name": "actual_sport_classification",
                  "type": "string"
                },
                {
                  "key": "5",
                  "name": "openai_sport_classification",
                  "type": "string"
                }
              ],
              "truncated": false
            },
            "isSummary": false,
            "language": "scala"
          },
          "persist_state": {
            "view": {
              "type": "details",
              "tableOptions": {},
              "chartOptions": {
                "chartType": "bar",
                "aggregationType": "count",
                "categoryFieldKeys": [
                  "2"
                ],
                "seriesFieldKeys": [
                  "0"
                ],
                "isStacked": false
              }
            }
          }
        }
      }
    }
  },
  "nbformat": 4,
  "nbformat_minor": 2
}