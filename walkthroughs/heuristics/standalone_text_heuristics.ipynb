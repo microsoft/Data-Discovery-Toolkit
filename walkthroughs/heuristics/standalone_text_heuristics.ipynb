{
  "cells": [
    {
      "cell_type": "markdown",
      "source": [
        "# This cell configures the spark session - Do not change"
      ],
      "metadata": {
        "nteract": {
          "transient": {
            "deleting": false
          }
        }
      }
    },
    {
      "cell_type": "code",
      "source": [
        "%%configure -f\n",
        "{\n",
        "\"conf\": {\n",
        "     \"spark.rpc.message.maxSize\": 1024,\n",
        "     \"spark.kryoserializer.buffer.max\": \"256m\"\n",
        "   }\n",
        "}"
      ],
      "outputs": [
        {
          "output_type": "display_data",
          "data": {
            "application/vnd.livy.statement-meta+json": {
              "spark_pool": null,
              "session_id": "38",
              "statement_id": -1,
              "state": "finished",
              "livy_statement_state": "available",
              "queued_time": "2022-08-04T13:14:36.1100395Z",
              "session_start_time": "2022-08-04T13:14:36.2276337Z",
              "execution_start_time": "2022-08-04T13:15:40.218013Z",
              "execution_finish_time": "2022-08-04T13:15:40.218364Z",
              "spark_jobs": null
            },
            "text/plain": "StatementMeta(, 38, -1, Finished, Available)"
          },
          "metadata": {}
        }
      ],
      "execution_count": 1,
      "metadata": {
        "jupyter": {
          "source_hidden": false,
          "outputs_hidden": false
        },
        "nteract": {
          "transient": {
            "deleting": false
          }
        }
      }
    },
    {
      "cell_type": "markdown",
      "source": [
        "# These are the parameters that need to be changed to your values"
      ],
      "metadata": {
        "nteract": {
          "transient": {
            "deleting": false
          }
        }
      }
    },
    {
      "cell_type": "code",
      "source": [
        "# The input file name \n",
        "input_filename = 'abfss://share@[accountname].dfs.core.windows.net/sport_articles.csv'\n",
        "# The output directory where the output file will be written to\n",
        "output_directory = 'abfss://share@[accountname].dfs.core.windows.net/sport_articles/output/'\n",
        "# The name of the output file\n",
        "output_filename = 'sports_heuristics.csv'\n",
        "\n"
      ],
      "outputs": [
        {
          "output_type": "display_data",
          "data": {
            "application/vnd.livy.statement-meta+json": {
              "spark_pool": "small",
              "session_id": "38",
              "statement_id": 2,
              "state": "finished",
              "livy_statement_state": "available",
              "queued_time": "2022-08-04T13:15:50.0994241Z",
              "session_start_time": null,
              "execution_start_time": "2022-08-04T13:15:58.1282042Z",
              "execution_finish_time": "2022-08-04T13:15:58.2930456Z",
              "spark_jobs": null
            },
            "text/plain": "StatementMeta(small, 38, 2, Finished, Available)"
          },
          "metadata": {}
        }
      ],
      "execution_count": 2,
      "metadata": {
        "jupyter": {
          "source_hidden": false,
          "outputs_hidden": false
        },
        "nteract": {
          "transient": {
            "deleting": false
          }
        },
        "tags": [
          "parameters"
        ]
      }
    },
    {
      "cell_type": "code",
      "source": [
        "from pyspark import SparkContext, SparkConf\n",
        "import sys\n",
        "from pyspark.sql.functions import udf\n",
        "from pyspark.sql.types import StringType\n",
        "from pyspark.sql import SparkSession\n",
        "import ntpath\n",
        "import os\n",
        "from  pyspark.sql.functions import input_file_name\n",
        "import numpy as np\n",
        "from pyspark.sql.functions import regexp_extract,col\n",
        "from pyspark.sql.types import ArrayType,StringType, FloatType, BooleanType\n",
        "from flashtext import KeywordProcessor\n",
        "\n",
        "\n",
        "df = spark.read.load(input_filename, header=True, format='csv')\n",
        "\n",
        "df.show()\n",
        "\n"
      ],
      "outputs": [
        {
          "output_type": "display_data",
          "data": {
            "application/vnd.livy.statement-meta+json": {
              "spark_pool": "small",
              "session_id": "38",
              "statement_id": 3,
              "state": "finished",
              "livy_statement_state": "available",
              "queued_time": "2022-08-04T13:16:00.5182699Z",
              "session_start_time": null,
              "execution_start_time": "2022-08-04T13:16:00.6479522Z",
              "execution_finish_time": "2022-08-04T13:17:23.9129335Z",
              "spark_jobs": null
            },
            "text/plain": "StatementMeta(small, 38, 3, Finished, Available)"
          },
          "metadata": {}
        },
        {
          "output_type": "stream",
          "name": "stdout",
          "text": [
            "+---+-----------------+--------------------+\n|_c0|         filename|                text|\n+---+-----------------+--------------------+\n|  0|  football054.txt|\"palace threat ov...|\n|  1|  football040.txt|irish finish with...|\n|  2|  football068.txt|\"cole faces lengt...|\n|  3|  football097.txt|\"tottenham bid &#...|\n|  4|  football083.txt|\"thompson says ge...|\n|  5|  football256.txt|\"uganda fa suspen...|\n|  6|  football242.txt|\"pennant guilty o...|\n|  7|   cricket030.txt|\"denness leads lu...|\n|  8|   cricket024.txt|\"indias top six s...|\n|  9|   cricket018.txt|\"streak happy wit...|\n| 10|  football120.txt|mansfield 0-1 ley...|\n| 11|     rugby029.txt|wales win in rome...|\n| 12|  football134.txt|\"houllier praises...|\n| 13|     rugby015.txt|\"ref stands by sc...|\n| 14|  football108.txt|\"santini resigns ...|\n| 15|     rugby001.txt|\"hodgson shoulder...|\n| 16|atheletics014.txt|\"mcilroy aiming f...|\n| 17|    tennis019.txt|\"venus stunned by...|\n| 18|    tennis031.txt|\"moya fights back...|\n| 19|atheletics028.txt|\"campbell to exte...|\n+---+-----------------+--------------------+\nonly showing top 20 rows\n\n"
          ]
        }
      ],
      "execution_count": 3,
      "metadata": {
        "jupyter": {
          "source_hidden": false
        }
      }
    },
    {
      "cell_type": "markdown",
      "source": [
        "# Apply some simple search rules"
      ],
      "metadata": {
        "nteract": {
          "transient": {
            "deleting": false
          }
        }
      }
    },
    {
      "cell_type": "code",
      "source": [
        "list_of_sports = [\"athletics\", \"football\", \"rugby\", \"tennis\", \"cricket\"]\n",
        "\n",
        "keyword_processor = KeywordProcessor()\n",
        "\n",
        "for sport in list_of_sports:\n",
        "    keyword_processor.add_keyword(sport)\n",
        "\n",
        "\n",
        "def classify(row):              \n",
        "    keywords_found_top = keyword_processor.extract_keywords(row, span_info=True)\n",
        "\n",
        "    if len(keywords_found_top) > 0:\n",
        "        found = sorted(keywords_found_top, reverse=False, key=lambda x:x[1])[0][0]\n",
        "        # Unfortunately we have spelling mistake in a label so let's apply it\n",
        "        if found == \"athletics\":\n",
        "            found = \"atheletics\"\n",
        "    else:\n",
        "        found = \"\"\n",
        "    return found\n",
        "\n",
        "udf_classify = udf(classify, StringType())\n",
        "df = df.withColumn(\"simple_sport_classification\", udf_classify(df.text))"
      ],
      "outputs": [
        {
          "output_type": "display_data",
          "data": {
            "application/vnd.livy.statement-meta+json": {
              "spark_pool": "small",
              "session_id": "38",
              "statement_id": 10,
              "state": "finished",
              "livy_statement_state": "available",
              "queued_time": "2022-08-04T13:26:04.170568Z",
              "session_start_time": null,
              "execution_start_time": "2022-08-04T13:26:04.3454236Z",
              "execution_finish_time": "2022-08-04T13:26:04.5092623Z",
              "spark_jobs": null
            },
            "text/plain": "StatementMeta(small, 38, 10, Finished, Available)"
          },
          "metadata": {}
        }
      ],
      "execution_count": 10,
      "metadata": {
        "jupyter": {
          "source_hidden": false,
          "outputs_hidden": false
        },
        "nteract": {
          "transient": {
            "deleting": false
          }
        },
        "collapsed": false
      }
    },
    {
      "cell_type": "markdown",
      "source": [
        "# Generate the actual labels from the file names"
      ],
      "metadata": {
        "nteract": {
          "transient": {
            "deleting": false
          }
        }
      }
    },
    {
      "cell_type": "code",
      "source": [
        "import re\n",
        "def find_first_digit(s1):\n",
        "\n",
        "    return_index = -1\n",
        "    return_result = \"\"\n",
        "    m = re.search(r\"\\d\", s1)\n",
        "    \n",
        "    if m:\n",
        "        return_index = m.start()\n",
        "        return_result = s1[:m.start()]\n",
        "              \n",
        "    return return_result\n",
        "\n",
        "udf_get_label = udf(find_first_digit, StringType())\n",
        "\n",
        "df = df.withColumn(\"actual_sport_classification\", udf_get_label(df.filename))"
      ],
      "outputs": [
        {
          "output_type": "display_data",
          "data": {
            "application/vnd.livy.statement-meta+json": {
              "spark_pool": "small",
              "session_id": "38",
              "statement_id": 11,
              "state": "finished",
              "livy_statement_state": "available",
              "queued_time": "2022-08-04T13:26:07.2215271Z",
              "session_start_time": null,
              "execution_start_time": "2022-08-04T13:26:07.5455733Z",
              "execution_finish_time": "2022-08-04T13:26:07.6930256Z",
              "spark_jobs": null
            },
            "text/plain": "StatementMeta(small, 38, 11, Finished, Available)"
          },
          "metadata": {}
        }
      ],
      "execution_count": 11,
      "metadata": {
        "jupyter": {
          "source_hidden": false,
          "outputs_hidden": false
        },
        "nteract": {
          "transient": {
            "deleting": false
          }
        }
      }
    },
    {
      "cell_type": "code",
      "source": [
        "display(df)"
      ],
      "outputs": [
        {
          "output_type": "display_data",
          "data": {
            "application/vnd.livy.statement-meta+json": {
              "spark_pool": "small",
              "session_id": "38",
              "statement_id": 12,
              "state": "finished",
              "livy_statement_state": "available",
              "queued_time": "2022-08-04T13:26:12.1976681Z",
              "session_start_time": null,
              "execution_start_time": "2022-08-04T13:26:12.3185887Z",
              "execution_finish_time": "2022-08-04T13:27:23.324087Z",
              "spark_jobs": null
            },
            "text/plain": "StatementMeta(small, 38, 12, Finished, Available)"
          },
          "metadata": {}
        },
        {
          "output_type": "display_data",
          "data": {
            "application/vnd.synapse.widget-view+json": {
              "widget_id": "3b968899-c462-42e6-96b2-d7a4f1a621c0",
              "widget_type": "Synapse.DataFrame"
            },
            "text/plain": "SynapseWidget(Synapse.DataFrame, 3b968899-c462-42e6-96b2-d7a4f1a621c0)"
          },
          "metadata": {}
        }
      ],
      "execution_count": 12,
      "metadata": {
        "jupyter": {
          "source_hidden": false,
          "outputs_hidden": false
        },
        "nteract": {
          "transient": {
            "deleting": false
          }
        },
        "collapsed": false
      }
    },
    {
      "cell_type": "code",
      "source": [
        "y_true = df.select(\"actual_sport_classification\").rdd.flatMap(lambda x: x).collect()\n",
        "y_pred = df.select(\"simple_sport_classification\").rdd.flatMap(lambda x: x).collect()"
      ],
      "outputs": [
        {
          "output_type": "display_data",
          "data": {
            "application/vnd.livy.statement-meta+json": {
              "spark_pool": "small",
              "session_id": "38",
              "statement_id": 13,
              "state": "finished",
              "livy_statement_state": "available",
              "queued_time": "2022-08-04T13:27:36.0936059Z",
              "session_start_time": null,
              "execution_start_time": "2022-08-04T13:27:36.3439986Z",
              "execution_finish_time": "2022-08-04T13:29:29.7947876Z",
              "spark_jobs": null
            },
            "text/plain": "StatementMeta(small, 38, 13, Finished, Available)"
          },
          "metadata": {}
        }
      ],
      "execution_count": 13,
      "metadata": {
        "jupyter": {
          "source_hidden": false,
          "outputs_hidden": false
        },
        "nteract": {
          "transient": {
            "deleting": false
          }
        }
      }
    },
    {
      "cell_type": "markdown",
      "source": [
        "# Let's evaluate"
      ],
      "metadata": {
        "nteract": {
          "transient": {
            "deleting": false
          }
        }
      }
    },
    {
      "cell_type": "code",
      "source": [
        "from sklearn.metrics import classification_report, confusion_matrix\n",
        "\n",
        "print(len(y_pred), len(y_true))\n",
        "\n",
        "\n",
        "print(classification_report(y_true, y_pred))"
      ],
      "outputs": [
        {
          "output_type": "display_data",
          "data": {
            "application/vnd.livy.statement-meta+json": {
              "spark_pool": "small",
              "session_id": "38",
              "statement_id": 14,
              "state": "finished",
              "livy_statement_state": "available",
              "queued_time": "2022-08-04T13:29:33.1261881Z",
              "session_start_time": null,
              "execution_start_time": "2022-08-04T13:29:33.2479269Z",
              "execution_finish_time": "2022-08-04T13:29:33.7942367Z",
              "spark_jobs": null
            },
            "text/plain": "StatementMeta(small, 38, 14, Finished, Available)"
          },
          "metadata": {}
        },
        {
          "output_type": "stream",
          "name": "stdout",
          "text": [
            "737 737\n              precision    recall  f1-score   support\n\n                   0.00      0.00      0.00         0\n  atheletics       0.97      0.32      0.48       101\n     cricket       0.98      0.40      0.57       124\n    football       1.00      0.19      0.32       265\n       rugby       0.96      0.35      0.52       147\n      tennis       1.00      0.31      0.47       100\n\n    accuracy                           0.29       737\n   macro avg       0.82      0.26      0.39       737\nweighted avg       0.99      0.29      0.44       737\n\n"
          ]
        }
      ],
      "execution_count": 14,
      "metadata": {
        "jupyter": {
          "source_hidden": false,
          "outputs_hidden": false
        },
        "nteract": {
          "transient": {
            "deleting": false
          }
        }
      }
    }
  ],
  "metadata": {
    "kernelspec": {
      "name": "synapse_pyspark",
      "language": "Python",
      "display_name": "Synapse PySpark"
    },
    "language_info": {
      "name": "python"
    },
    "kernel_info": {
      "name": "synapse_pyspark"
    },
    "description": null,
    "save_output": true,
    "synapse_widget": {
      "version": "0.1",
      "state": {
        "3b968899-c462-42e6-96b2-d7a4f1a621c0": {
          "type": "Synapse.DataFrame",
          "sync_state": {
            "table": {
              "rows": [
                {
                  "0": "0",
                  "1": "football054.txt",
                  "2": "\"palace threat over cantona masks  manchester united fans wearing eric cantona masks will not be allowed in selhurst park on saturday.  united fans are planning to mark the 10th anniversary of cantonas infamous kung-fu kick on crystal palace fan matthew simmons by wearing the masks. but palace stadium manager kevin corner has warned: \"\"if they wear them inside selhurst park they will be immediately rejected on safety grounds. \"\"and no fans wearing cantona masks will be allowed entry to the stadium.\"\" united fans had declared saturday as cantona day and had planned to wear masks",
                  "3": "",
                  "4": "football"
                },
                {
                  "0": "1",
                  "1": "football040.txt",
                  "2": "irish finish with home game  republic of ireland manager brian kerr has been granted his wish for a home game as the final world cup qualifier.  ireland will close their bid to reach the 2006 finals by playing switzerland in dublin on 12 october 2005. the republic met the swiss in their final euro 2004 qualifier, losing 2-0 away and missing out on a place in the finals in portugal. the group four fixtures were hammered out at a meeting in dublin on tuesday. the irish open their campaign on 4 september at home to cyprus and wrap up the 10-match series on 12 october 2005, with the visit of switzerland. manager brian kerr and fai officials met representatives from switzerland, france, cyprus, israel and the faroe islands to arrange the fixture schedule. kerr had hoped to finish with a clash against france, but got the reigning european champions as their penultimate home match on 7 september 2005. the manager got his wish to avoid a repeat of finishing their bid to qualify with too many away matches.  republic of ireland v cyprus; france v israel; switzerland v faroe islands.  switzerland v republic of ireland; israel v cyprus; faroe islands v france.  france v republic of ireland; israel v switzerland; cyprus v faroe islands.  republic of ireland v faroe islands; cyprus v france.  cyprus v israel.  france v switzerland; israel v republic of ireland.  switzerland v cyprus; israel v france.  republic of ireland v israel; faroe islands v switzerland.  faroe islands v republic of ireland. august 17 - faroe islands v cyprus.  france v faroe islands; switzerland v israel.  republic of ireland v france; cyprus v switzerland; faroe islands v israel.  switzerland v france; israel v faroe islands; cyprus v republic of ireland.  france v cyprus; republic of ireland v switzerland.",
                  "3": "",
                  "4": "football"
                },
                {
                  "0": "2",
                  "1": "football068.txt",
                  "2": "\"cole faces lengthy injury lay-off  aston villas carlton cole could be out for six weeks with a knee injury.  the striker, who is on a season-long loan from chelsea, picked up the knock in an england under-21 match against holland earlier this month. \"\"carlton will be out of action for four to six weeks after a bad challenge",
                  "3": "",
                  "4": "football"
                },
                {
                  "0": "3",
                  "1": "football097.txt",
                  "2": "\"tottenham bid &#163;8m for forest duo  nottingham forest have confirmed they have received an £8m bid from tottenham for andy reid and michael dawson.  reid rejected a move to southampton after forest accepted a cash-plus-players offer while spurs had made previous bids for the 22-year-old. spurs had also made an undisclosed offer for 21-year-old defender dawson. forest chief executive mark arthur said: \"\"weve received an £8m bid from spurs for the two players and were considering the offer.\"\" southamptons offer for republic of ireland international reid comprised £3m-plus and two players - brett ormerod and darren kenton.  spurs had seen previous bids of £3m",
                  "3": "",
                  "4": "football"
                },
                {
                  "0": "4",
                  "1": "football083.txt",
                  "2": "\"thompson says gerrard should stay  liverpool legend phil thompson has pleaded with steve gerrard to reject any overtures from chelsea.  the ex-reds assistant boss also warned that any honours won at chelsea would be cheapened by the bid to buy success. he told bbc radio five live: \"\"liverpool would think about any bid made but it will all be down to steve in the end. \"\"but it wouldnt have that same sweet feeling at chelsea",
                  "3": "",
                  "4": "football"
                },
                {
                  "0": "5",
                  "1": "football256.txt",
                  "2": "\"uganda fa suspended  in a move likely to incur the wrath of fifa, ugandan sports minister geraldine namirembe bitamazire suspended the countrys fa with immediate effect on wednesday.  bitamazire ordered the denis obua-led executive committee to hand over all the \"\"movable and immovable property of the federation within two weeks.\"\" the uganda fa was due to hold elections next week but the government has called off the poll. the minister has instructed the national council of sports (ncs) take over as the interim body as the government conducts an investigation into the affairs of the uganda fa. the general secretary of the ncs was also ordered to freeze all accounts of the fa and inform the banks that the leadership of this association has lost the mandate to operate these accounts. but the man at the centre of the storm remains defiant",
                  "3": "",
                  "4": "football"
                },
                {
                  "0": "6",
                  "1": "football242.txt",
                  "2": "\"pennant guilty of wasting talent  had jermaine pennant fulfilled the enormous potential that convinced arsenal to pay notts county £2m for the 16-year-old in january 1999, his fall from grace might have registered more than a blip on footballs richter scale.  but the nottingham-born winger has repeatedly failed to grasp the opportunities presented to him by the gunners, so much so that it is inevitable the club will release him when his contract expires in the summer. pennant effectively blew his chances of ever making it at highbury by upsetting the clubs normally unflappable manager arsene wenger, who finally lost patience with the players poor timekeeping. now, after being caught drink-driving for the second time in 12 months, pennant no longer has to worry about whether he makes it to training on schedule.  aged 22, there is no doubt pennant still has time to resurrect his career when he is freed this summer. compare his fate with that of west bromwich albion striker lee hughes, who will be 34 by the time he has served his six-year sentence for causing death by dangerous driving. pennant may even find himself back at birmingham city, the club who handed him a lifeline when it became clear his arsenal career was well and truly over. blues manager steve bruce apparently saw enough in pennant in the month he was at st andrews to issue an empassioned plea for leniency ahead of sentencing, claiming he had finally turned the corner. \"\"weve got him in a flat up here",
                  "3": "",
                  "4": "football"
                },
                {
                  "0": "7",
                  "1": "cricket030.txt",
                  "2": "\"denness leads luckhurst tributes  former kent and england skipper mike denness has paid tribute to former team-mate brian luckhurst following his death from cancer at the age of 66.  luckhurst, who became kent president last year, played for the club between 1958 and 1976. his international career consisted of 21 tests and he scored two hundreds to help ray illingworths england side win the ashes in australia in 1970-71. \"\"he was a great buddy and a loyal servant",
                  "3": "",
                  "4": "cricket"
                },
                {
                  "0": "8",
                  "1": "cricket024.txt",
                  "2": "\"indias top six secure - ganguly  captain sourav ganguly has revealed india will not be tempted into tinkering with their batting order for the first test against pakistan.  \"\"our batting order for the tests is fixed. there are no changes from number three to six",
                  "3": "",
                  "4": "cricket"
                },
                {
                  "0": "9",
                  "1": "cricket018.txt",
                  "2": "\"streak happy with comeback  heath streak was pleased with his performance on his zimbabwe comeback, despite the defeat to south africa.  streak made 68 bu the home side won the third and final one-day international by five wickets at port elizabeth. he said: \"\"i was nervous",
                  "3": "",
                  "4": "cricket"
                },
                {
                  "0": "10",
                  "1": "football120.txt",
                  "2": "mansfield 0-1 leyton orient  an second-half goal from andy scott condemned mansfield to a ninth successive game without a win.  early in the second half wayne carlisles cross was met by scott and he blasted the ball home from just outside the penalty area. as orient chased a second, mansfield had to clear alan whites header off the line and kevin pilkington saved well from michael simpson. by the end mansfield fans were chanting for the head of chairman keith haslam.  pilkington, talbot, buxton, dimech, artell, corden, murray, curtis, neil, warne, barker. subs not used: white, mcintosh, wood, lloyd, herron.  harrison, lockwood, donny barnard, white,mackie, scott, saah, simpson, carlisle, lee barnard, ibehre. subs not used: morris, wardley, newey, zakuani, mcmahon.  scott 51.  3,803  s mathieson (cheshire).",
                  "3": "",
                  "4": "football"
                },
                {
                  "0": "11",
                  "1": "rugby029.txt",
                  "2": "wales win in rome  wales secured their first away win in the rbs six nations for nearly four years with a six-try victory in rome.  tries from jonathan thomas, tom shanklin and martyn williams gave the visitors a 19-5 half-time advantage. luciano orquera did reply with one for italy but second-half efforts from brent cockbain, shane williams and robert sidoli sealed victory. fly-half stephen jones added four conversions as wales maintained their superb start to this years tournament. starting full of confidence after their victory over england, the visitors scored the opening try after just four minutes. diminutive wing shane williams fielded a kick ahead and danced past the onrushing andrea masi and aaron persico into the italian half. his pass to tom shanklin appeared forward but when the centre was held up short, the ball was switched left and michael owens long cut-out pass gave the lurking thomas an easy run-in.  stephen jones, who retained the kicking duties despite gavin hensons heroics against england, slotted an excellent conversion from wide out. wales twice threatened further scores but failed to find the crucial pass, and italy hit back out of the blue in the 11th minute.  henson, sporting gold boots rather than the silver variety that did for england, beat two players with ease out on the left touchline. but his attempted chip ahead was charged down by orquera, who snaffled the loose ball and hared away from halfway to score in the right corner. with the welsh line-out stuttering and italy twice turning the visitors scrum, the home sides forward power brought them back into it. but a clever high kick from henson almost brought a try for hal luscombe when roland de marigny and ludovico nitoglia made a hash of claiming it as the ball bounced into touch.  wales regained control with a second try in the 21st minute, henson lobbing up a high kick to the left corner where shanklin jumped higher than nitoglia to dot down his 15th test try. jones was unable to convert and de marigny then hit the upright with a penalty attempt for italy. henson was also narrowly short with a long-range effort at goal, but wales ended the half with a vital third score to give themselves some breathing space.  henson sent luscombe streaking away and when he off-loaded to martyn williams, the flanker showed his nous to ground the ball against the padding of the post, jones adding the conversion. italy, who lost flanker mauro bergamasco with a head knock before half-time, built up a head of steam on the resumption. de marigny landed a penalty to make it 19-8 and a nitoglia break through the middle threatened a try only for the move to break down with a knock-on. but wales put the outcome beyond doubt with two superb tries in four minutes before the hour. their fourth after 53 minutes was sparked by another mazy run from shane williams, who beat several players with ease, and finished with a powerful angled run from lock cockbain. before italy could recover from that blow, a strong surge from gareth thomas and great off-loads from martyn williams and replacement kevin morgan saw shane williams scamper over.  with jones converting both for a 33-8 lead, wales had the luxury of sending on five more replacements for the final quarter. the icing on the cake came with a sixth try after more superb support work, shane williams and ceri sweeney combining to send sidoli over in the left corner. the only downside for wales was a hamstring injury suffered by luscombe. but after back-to-back wins at the start of the tournament for the first time in 11 years, they will travel to paris in a fortnight looking like genuine contenders.  r de marigny; mirco bergamasco, w pozzebon, a masi, l nitoglia; l orquera, a troncon; a lo cicero, f ongaro, m castrogiovanni, s dellape, m bortolami (capt), a persico, mauro bergamasco, s parisse.  g intoppa, s perugini, ca del fava, d dal maso, p griffen, m barbini, kp robertson.  g thomas (capt); h luscombe, t shanklin, g henson, s williams; s jones, d peel; g jenkins, m davies, a jones; b cockbain, r sidoli; j thomas, m williams, m owen.  r mcbryde, j yapp, i gough, r sowden-taylor, g cooper, c sweeney, k morgan.  andrew cole (australia).",
                  "3": "",
                  "4": "rugby"
                },
                {
                  "0": "12",
                  "1": "football134.txt",
                  "2": "\"houllier praises benitez regime  former liverpool manager gerard houllier has praised the work of his anfield successor rafael benitez.  houllier was angry at reports that he has been critical of benitez since the spaniard took over at liverpool. but houllier told bbc sport: \"\"in private and in public",
                  "3": "",
                  "4": "football"
                },
                {
                  "0": "13",
                  "1": "rugby015.txt",
                  "2": "\"ref stands by scotland decisions  the referee from saturdays france v scotland six nations match has defended the officials handling of the game after criticism by matt williams.  the scotland coach said his side were robbed of victory by poor decisions made by the officials. but nigel williams said: \"\"im satisfied the game was handled correctly.\"\" meanwhile",
                  "3": "",
                  "4": "rugby"
                },
                {
                  "0": "14",
                  "1": "football108.txt",
                  "2": "\"santini resigns as spurs manager  tottenham manager jacques santini has resigned for \"\"personal reasons\"\".  the former france manager moved to white hart lane this summer but now wants to return to france. santini said: \"\"my time at tottenham has been memorable and it is with deep regret that i take my leave. i wish the club and the supporters all the best. \"\"private issues in my personal life have arisen which caused my decision. i very much hope that the wonderful fans will respect my decision.\"\" he added: \"\"i should like to thank (sporting director) frank arnesen and (chairman) daniel levy for their understanding.\"\" assistant coach martin jol has been put in temporary charge and will take care of team affairs for saturdays premiership match against charlton.  arnesen said the club were sad to see santini go: \"\"we are obviously disappointed that jacques is leaving us. we fully respect his decision. \"\"i can assure you that the club will act swiftly to minimise the impact of jacques departure. \"\"our priority is to ensure that this seasons performance remains unaffected by this move. \"\"i shall make a further statement on monday",
                  "3": "",
                  "4": "football"
                },
                {
                  "0": "15",
                  "1": "rugby001.txt",
                  "2": "\"hodgson shoulders england blame  fly-half charlie hodgson admitted his wayward kicking played a big part in englands 18-17 defeat to france.  hodgson failed to convert three penalties and also missed a relatively easy drop goal attempt which would have given england a late win. \"\"im very disappointed with the result and with my myself",
                  "3": "",
                  "4": "rugby"
                },
                {
                  "0": "16",
                  "1": "atheletics014.txt",
                  "2": "\"mcilroy aiming for madrid title  northern ireland man james mcilroy is confident he can win his first major title at this weekends spar european indoor championships in madrid.  the 28-year-old has been in great form in recent weeks and will go in as one of the 800 metres favourites. \"\"i believe after my wins abroad and in our trial race in sheffield",
                  "3": "",
                  "4": "atheletics"
                },
                {
                  "0": "17",
                  "1": "tennis019.txt",
                  "2": "\"venus stunned by farina elia  venus williams suffered a first-round defeat for the first time in four years at the dubai championships.  sylvia farina elia, who had lost all nine of her previous meetings with the american fifth seed, won 7-5 7-6 (8-6). former wimbledon champion conchita martinez and indias sania mirza, the oldest and youngest players in the draw, also reached the second round. martinez, 32, beat shinobu asagoe 6-4 6-4 and 18-year-old mirza beat jelena kostanic 6-7 (7-2) 6-4 6-1. mirza, the first indian woman to win a wta tour title this month on home ground at hyderabad, will now face us open champion svetlana kuznetsova.  but she is remaining confident. \"\"she (kuznetsova) is a great player",
                  "3": "",
                  "4": "tennis"
                },
                {
                  "0": "18",
                  "1": "tennis031.txt",
                  "2": "\"moya fights back for indian title  carlos moya became the first man to successfully defend the chennai open title by beating four-times finalist paradorn srichaphan 3-6 6-4 7-6 (7/5).  the spaniard then donated his £28,000 prize money to relief efforts for the victims of the asian tsunami. the final was close throughout, with thai second seed srichaphan - the 2003 winner - closing out the first set. but moya took the second set, before bouncing back from 5-2 down in the decider to force and win a tie-break. moya confirmed afterwards: \"\"im donating my prize money from this tournament for the tsunami victims",
                  "3": "",
                  "4": "tennis"
                },
                {
                  "0": "19",
                  "1": "atheletics028.txt",
                  "2": "\"campbell to extend sprint career  darren campbell has set his sights on running quicker than ever after deciding not to retire from sprinting.  campbell, who won olympic 4x100m relay gold, had been unsure about his future. but he told five lives sportsweek: \"\"i had to get back into training before i could decide because if i didnt have the same hunger id have to walk away. \"\"ive started back and im thoroughly enjoying it. im looking forward to it. ive got to run under 10 seconds (for 100m) and under 20 seconds (for 200m).\"\" campbell was part of the british quartet who shocked the americans to win relay gold in athens in august.  the newport-based athlete and team-mates jason gardener",
                  "3": "",
                  "4": "atheletics"
                },
                {
                  "0": "20",
                  "1": "tennis025.txt",
                  "2": "\"angry williams rejects criticism  serena williams has angrily rejected claims that she and sister venus are a declining force in tennis.  the sisters ended last year without a grand slam title for the first time since 1998. but serena denied their challenge was fading, saying: \"\"thats not fair - im tired of not saying anything. \"\"weve been practising hard. weve had serious injuries. ive had surgery and after",
                  "3": "tennis",
                  "4": "tennis"
                },
                {
                  "0": "21",
                  "1": "atheletics029.txt",
                  "2": "\"isinbayeva heads for birmingham  olympic pole vault champion yelena isinbayeva has confirmed she will take part in the 2005 norwich union grand prix in birmingham on 18 february.  \"\"everybody knows how much i enjoy competing in britain. i always seem to break records there",
                  "3": "",
                  "4": "atheletics"
                },
                {
                  "0": "22",
                  "1": "tennis024.txt",
                  "2": "\"hewitt falls to dent  lleyton hewitt suffered a shock defeat to taylor dent in the quarter-finals of the australian hardcourt championships in adelaide on friday.  the top seed was a strong favourite for the title but went down 7-6 (7-4) 6-3 to the american. dent will face juan ignacio chela next after the fourth seed was too strong for jurgen melzer. olivier rochus beat third seed nicolas kiefer 6-7 (4-7) 7-6 (8-6) 7-5 and will take on second seed joachim johansson. the swede reached the last four by beating compatriot thomas enqvist 6-3 4-6 6-1. \"\"i felt like i was striking the ball much better",
                  "3": "",
                  "4": "tennis"
                },
                {
                  "0": "23",
                  "1": "tennis030.txt",
                  "2": "\"hewitt overcomes wobble in sydney  lleyton hewitt gave himself the perfect preparation for next weeks australian open with victory over ivo minar in the final of the sydney international.  the defending champion brushed aside the czech qualifier 7-5 6-0. the australian world number three strolled to the first five games of the match but was shocked as minar won the next five. the top seed was rattled but recovered to close out the set and raced to victory in exactly an hour. \"\"it was a strange match . . . momentum swings",
                  "3": "",
                  "4": "tennis"
                },
                {
                  "0": "24",
                  "1": "atheletics015.txt",
                  "2": "\"uk athletics agrees new kit deal  uk athletics has agreed a new deal with adidas to supply great britain squads of all ages with their kit for the next four years.  the german-based firm kitted out team gb at the 2004 olympics and has deals with 20 other national olympic bodies. uk athletics chief david moorcroft said: \"\"the athens experience can now be extended to more major championships. \"\"in the year ahead these include the european indoor and world outdoor championships. we are delighted.\"\" moorcroft added: \"\"it is hugely beneficial to the sport that the adidas commitment will also provide for officials and other personnel at our world-class series of live televised events.\"\" this week",
                  "3": "atheletics",
                  "4": "atheletics"
                },
                {
                  "0": "25",
                  "1": "tennis018.txt",
                  "2": "\"davenport hits out at wimbledon  world number one lindsay davenport has criticised wimbledon over the issue of equal prize money for women.  reacting to a disputed comment by all england club chairman tim phillips, the american said: \"\"i think it is highly insulting if prize money is taken away. \"\"somebody",
                  "3": "",
                  "4": "tennis"
                },
                {
                  "0": "26",
                  "1": "atheletics001.txt",
                  "2": "\"claxton hunting first major medal  british hurdler sarah claxton is confident she can win her first major medal at next months european indoor championships in madrid.  the 25-year-old has already smashed the british record over 60m hurdles twice this season, setting a new mark of 7.96 seconds to win the aaas title. \"\"i am quite confident",
                  "3": "",
                  "4": "atheletics"
                },
                {
                  "0": "27",
                  "1": "football109.txt",
                  "2": "\"mutu to hold talks with juventus  disgraced former chelsea striker adrian mutu is to begin talks with juventus as he looks for a new club.  \"\"mutu will be in our clubs main stand to watch the match between juventus and fiorentina",
                  "3": "",
                  "4": "football"
                },
                {
                  "0": "28",
                  "1": "rugby014.txt",
                  "2": "\"davies favours gloucester future  wales hooker mefin davies is likely to stay with english side gloucester despite reported interest from the neath-swansea ospreys.  bbc wales understands the ospreys are interested in the 32-year-old, but that he would prefer to stay where he is. davies, one of the stars of saturdays rbs six nations win over england, is only on a year contract at kingsholm. but the hooker has proved his worth to the zurich premiership side and is likely to get a new deal next season. the summer demise of the celtic warriors region left davies in the cold and forced him to take a semi-professional contract with neath rfc. although he got match time with the ospreys at the request of the wales management, he admitted before his move to gloucester that he was angry with the way he was treated. \"\"the wru didnt give me any help off the field",
                  "3": "",
                  "4": "rugby"
                },
                {
                  "0": "29",
                  "1": "football135.txt",
                  "2": "\"mcclaren targets champions league  middlesbrough boss steve mcclaren believes his side can clinch a top-four spot in the premiership and secure qualification for the champions league.  after their 3-2 win over manchester city, mcclaren said: \"\"we are playing exciting football",
                  "3": "football",
                  "4": "football"
                },
                {
                  "0": "30",
                  "1": "rugby028.txt",
                  "2": "ireland surge past scots  ireland maintained their six nations grand slam ambitions with an impressive victory over scotland at murrayfield.  hugo southwells try gave the scots an early 8-0 lead but scores from locks malcolm okelly and paul oconnell put the visitors in command by half-time. a third try from wing denis hickie and third penalty from ronan ogara, who kicked 13 points, extended the lead. jon petrie scored a second try for scotland but late scores from john hayes and gavin duffy sealed victory. after two hard-earned away victories, eddie osullivan side can now look forward to welcoming england to lansdowne road in a fortnight. scotland will try to give their coach matt williams a first six nations victory when italy come to edinburgh, but they again struggled to turn pressure into points. the home side started with tremendous intensity and dominated territory and possession in the opening 10 minutes. a powerful charge from flanker jason white was carried on by ali hogg and when ireland conceded a penalty close to their own line, scotland kicked it to touch. the irish defence foiled the home side on that occasion, but a stray hand in a ruck allowed paterson to stroke over a penalty in the eighth minute.  if that was a paltry reward for their early pressure, scotland got the try they deserved when patersons searing break and andy craigs pass sent southwell streaking to the right corner. paterson was off target with the conversion and fly-half dan parks then missed a presentable drop-goal attempt. ireland got themselves on the scoreboard with an ogara penalty and by the 24th minute the visitors were ahead. stuart grimes pulled down okelly at a line-out, ireland kicked the penalty to touch and from the set-piece, the big lock was driven over by the rest of his pack.  ogara added the conversion and a further penalty, after shane horgan almost grabbed a second try from ogaras chip to the corner, only for the ball to spill from his hand. but ireland still delivered a hammer blow to scotlands hopes just before the interval. oconnell - skipper in the absence of brian odriscoll - powered through parks weak tackle after a free-kick from a scrummage to burrow over.  scotland suffered a further blow on the resumption when ireland flanker johnny oconnor won another vital turnover, and ogaras basketball pass sent hickie over in the left corner. ogara converted and then thumped over a 40m penalty to give the visitors a commanding 28-8 advantage. scotland looked bereft of ideas but a half-break from paterson sparked them back to life just before the hour. stuart grimes won a line-out and a well-worked move saw petrie scuttle round the side of the ruck to dive over in the left corner. but it proved a false dawn, and ireland reasserted their authority in the final 10 minutes. peter stringer and okelly combined to put giant prop hayes over in the right corner before replacement gavin duffy scorched away on the left, david humphreys adding the final flourish with a touchline conversion.  : c paterson; s danielli, a craig, h southwell, s lamont; d parks, c cusiter; t smith, g bulloch (capt), g kerr; s grimes, s murray; j white, a hogg, j petrie.  r russell, b douglas, n hines, j dunbar, m blair, g ross, b hinshelwood.  g murphy; g dempsey, s horgan, k maggs, d hickie, r ogara, p stringer; r corrigan, s byrne, j hayes, m okelly, p oconnell, s easterby, j oconnor, a foley.  f sheahan, m horan, d ocallaghan, e miller, g easterby, d humphreys, g duffy.  joel jutge (france)",
                  "3": "",
                  "4": "rugby"
                },
                {
                  "0": "31",
                  "1": "football121.txt",
                  "2": "\"zambia confident and cautious  zambias technical director, kalusha bwalya is confident and cautious ahead of the cosafa cup final against angola on saturday in lusaka.  bwalya said: \"\"nothing short of victory will do.\"\" however bwalya warned his side not to be too complacent. \"\"i dont want my team to be too comfortable or too sure of victory as it is going to be a difficult game. \"\"for me the main aim of the game is to enjoy and to win.\"\" zambia have shown their determination to win this final by recalling nine of their foreign-based players. however the 41 year-old bwalya",
                  "3": "",
                  "4": "football"
                },
                {
                  "0": "32",
                  "1": "cricket019.txt",
                  "2": "\"auckland set fortwenty20  twenty20 international, auckland  new zealand v australia (starts thursday 0600 gmt)  the black caps will be without injured daniel vettori, though he is likely to play in saturdays first match of the 50-over one-day series. former rugby union international jeff wilson is included in the 12-man squad for the historic encounter. australia were given a boost when matthew hayden overcame a pleurisy scare to be available for all matches. double all black wilson, who returns to the international line up after a 12-year lay-off, said it was no secret australia were viewed as being the toughest opponents the black caps could face. \"\"the aussies are the worlds premier team",
                  "3": "rugby",
                  "4": "cricket"
                },
                {
                  "0": "33",
                  "1": "cricket025.txt",
                  "2": "\"harbhajan action given all-clear  indian spinner harbhajan singhs bowling action has been cleared under new regulations introduced by the international cricket council.  a bowlers action is now deemed legal providing his arm straightens by no more than 15 degrees. an icc statement said harbhajans orthodox off-break and doosra now fell \"\"within the tolerance threshold\"\". he was reported to the icc by match referee chris broad after a test in bangladesh last december. as a result",
                  "3": "cricket",
                  "4": "cricket"
                },
                {
                  "0": "34",
                  "1": "cricket031.txt",
                  "2": "streak return could lift zimbabwe  one-day international, port elizabeth: south africa v zimbabwe - starts wednesday 1230 gmt  trailing 2-0 in the one-day series, news of streaks return has given the tourists a lift. but it is 12 months since his last international appearance and he will rely heavily on past experience. boje leads south africa in the absence of graeme smith, who is resting an ankle problem ahead of the tests. the home side will also be without jacques kallis, shaun pollock, makhaya ntini and andre nel. their absence offers zimbabwe some hope of achieving only their third win in 21 one-day meetings between the two sides. the home side will give another opportunity to paceman monde zondeki, who took a wicket with his first ball in international cricket in december 2002, but has not been in favour since the following years tour to england. he could share the new ball with charl langevedlt, with all-rounders albie morkel, boje, justin kemp and adam bacher providing the bowling back-up.  n boje (capt), a bacher, m boucher (wkt), ab de villiers, h gibbs, j kemp, c langeveldt, a morkel, a prince, j rudolph, m zondeki.  t taibu (capt, wkt), b rogers, s matsikenyeri, h masakadza, b taylor, s williams, g ewing, t mupariwa, e chigumbura, p utseya, t panyangara, d hondo, c mpofu, g cremer, h streak.",
                  "3": "cricket",
                  "4": "cricket"
                },
                {
                  "0": "35",
                  "1": "football243.txt",
                  "2": "\"mourinho says race is almost over  chelsea manager jose mourinho has said that his high-flying team are now virtually assured of winning their first premiership title.  mourinhos side have lost just once in the premiership, boast a 10-point lead over arsenal and are a further point clear of manchester united. \"\"there is so much ground for the teams chasing us to make up",
                  "3": "",
                  "4": "football"
                },
                {
                  "0": "36",
                  "1": "football257.txt",
                  "2": "\"man utd womens team to be axed  manchester united will scrap their womens team once the current season ends, just three months before the north west hosts the womens euro 2005.  from next season, the clubs commitment to womens football will only stretch as far as coaching up to the age of 16. \"\"our aim is best served concentrating on youngsters",
                  "3": "football",
                  "4": "football"
                },
                {
                  "0": "37",
                  "1": "football082.txt",
                  "2": "\"keegan hails comeback king fowler  manchester city boss kevin keegan has praised striker robbie fowler for his landmark return to form.  the 29-year-old, out of favour at city earlier this season, took his premiership goal tally past 150 with a brace in mondays 3-2 win at norwich. \"\"he is still a quality player and knows where the net is - we have just got to supply him with ammunition and",
                  "3": "",
                  "4": "football"
                },
                {
                  "0": "38",
                  "1": "football096.txt",
                  "2": "sa return to mauritius  top seeds south africa return to the scene of one of their most embarrassing failures when they face the seychelles in the cosafa cup next month.  last year bafana bafana were humbled in the first by minnows mauritius who beat them 2-0 in curepipe. coach stuart baxter and his squad will return to curepipe face the seychelles in their first game of the new-look regional competition. the format of the event has been changed this year after the entry of the seychelles, who have taken the number of participants to 13. the teams are now divided into three group of four and play knock-out matches on successive days to determine the group champions. mauritius host the first group, and their opponents are madagascar, the seychelles and south africa. bafana bafana play the seychelles before mauritius take on madagascar in a double-header on 26 february. the two winners return to the new george v stadium the next day and the victor of the group decider advances to augusts final mini-tournament. the second group will be hosted in namibia in april. it comprises zimbabwe, botswana, mozambique and the hosts. in june, former champions zambia will host lesotho, malawi and swaziland in the third group in lusaka. the three group winners will then join title holders angola for the last of the mini-tournaments in august, where the winners will be crowned.  seychelles v south africa  mauritius v madagascar  winners meet in final match  mozambique v zimbabwe  namibia v botswana  winners meet in final match  lesotho v malawi  zambia v swaziland  winners meet in final match",
                  "3": "",
                  "4": "football"
                },
                {
                  "0": "39",
                  "1": "football069.txt",
                  "2": "arsenal through on penalties  arsenal win 4-2 on penalties  the spanish goalkeeper saved from alan quinn and jon harley as arsenal sealed a quarter-final trip to bolton with a 4-2 victory on penalties. lauren, patrick vieira, freddie ljungberg and ashley cole scored for arsenal, while andy gray and phil jagielka were on target for the blades. michael tonge and harley wasted chances for the underdogs, but paddy kenny was inspired to keep arsenal at bay. arsenal, stripped of attacking talent such as thierry henry and dennis bergkamp, partnered 17-year-old italian striker arturo lupoli with ljungberg up front. it was a revamped arsenal line-up, and they were almost a goal behind within seconds as tonge wasted a glorious chance. gray ran free down the right flank, and his cross left tonge with the simplest of chances, but he blazed over the top from six yards.  arsenal were barely seen as an attacking force in the opening 45 minutes, although ljungberg turned a half-chance wide after good work by cesc fabregas. arsene wenger introduced quincy owusu-abeyie for the ineffective lupoli at half-time, and the pacy dutch youngster had an immediate impact. he ran clear after good work by mathieu flamini, but his finish was tame and kenny saved easily. owusu-abeyie then fired in a testing cross, which was met by fabregas, and it needed a desperate clearance by kennys legs to save the blades. arsenal were now totally dominant, and were desperately unlucky not to take the lead after 62 minutes when fabregas crashed a rising drive against the bar from 20 yards. it then took a brilliant tackle by jagielka to deny ljungberg as he was poised to strike. arsenal continued to press, and once again kenny was called into action with eight minutes left, diving low to clutch another close-range effort from fabregas. neil warnocks side almost snatched victory in the dying seconds when derek gearys cross found harley at the far post, but his diving header was brilliantly turned over by almunia. owusu-abeyies pace was causing all sorts of problems for the blades, and as extra-time began, another surging run into the penalty area almost set up a chance for ljungberg. pascal cygan missed arsenals best chance after 106 minutes, blazing across the face of goal when he was unmarked at the far post. arsenal sent on jeremie aliadiere with seven minutes of extra-time left, and he almost broke the deadlock with his first touch. kolo toures misplaced free-kick landed at his feet, but kenny once again blocked from a tight angle. arsenal laid siege to sheffield uniteds goal in the dying minutes, but they somehow held on to force penalties. almunia was then arsenals hero as another brave blades cup campaign came to a losing end.  kenny, geary, morgan, bromby, harley, liddell, montgomery, jagielka, thirlwell, tonge (quinn 97), gray.  subs not used: francis, kabba, shaw, haystead.  morgan.  almunia, lauren, cygan, senderos, cole, fabregas (toure 90), vieira, flamini (aliadiere 113), clichy, lupoli (owusu-abeyie 45), ljungberg.  subs not used: eboue, taylor.  clichy, lauren, senderos.  27,595  p dowd (staffordshire).",
                  "3": "",
                  "4": "football"
                },
                {
                  "0": "40",
                  "1": "football041.txt",
                  "2": "israeli club look to africa  four african players, including zimbabwe goalkeeper energy murambadoro, are all ready to play for israeli club hapoel bnei sakhnin in the uefa cup.  bnei sakhnin are the first arab side ever to play in european competition and will play english premiership side newcastle united in the first round. warriors goalkeeper murambadoro, who made a name for himself at the african nations cup finals in tunisia, helped bnei sakhnin overcome albanias partizani tirana 6-1 in the previous round. murambadoro moved to israel recently after a brief stint with south african club hellenic. the club won the israeli cup final last season and are based in sakhnin, which is near haifa. the club have a strong ethic and are high profile promoters of peace and co-operation within israel. the three other africans at the club are former cameroon defender ernest etchi, dr congos alain masudi and nigerian midfielder edith agoye, who had a stint with tunisian side esperance.",
                  "3": "",
                  "4": "football"
                },
                {
                  "0": "41",
                  "1": "football055.txt",
                  "2": "\"legendary dutch boss michels dies  legendary dutch coach rinus michels, the man credited with developing \"\"total football\"\"",
                  "3": "football",
                  "4": "football"
                },
                {
                  "0": "42",
                  "1": "football043.txt",
                  "2": "\"highbury tunnel players in clear  the football association has said it will not be bringing charges over the tunnel incident prior to the arsenal and manchester united game.  arsenals patrick vieira had earlier denied accusations that he threatened gary neville before the 4-2 defeat. vieira also clashed with opposing skipper roy keane and referee graham poll had to separate them. \"\"the referee has confirmed that he is satisfied he dealt with the incident at the time",
                  "3": "football",
                  "4": "football"
                },
                {
                  "0": "43",
                  "1": "football057.txt",
                  "2": "\"owen delighted with real display  michael owen revelled in his return to the to the real madrid starting line-up and inspired a 3-1 win over real betis on wednesday by scoring the first goal.  he said: \"\"i am happy i could play a game from the start again. \"\"i felt good all though the game and it is obvious that i am happy to have scored another goal. \"\"people have talked a lot about my performances and i think i have had some months that were not so good and others that were very good.\"\" owen",
                  "3": "",
                  "4": "football"
                },
                {
                  "0": "44",
                  "1": "football080.txt",
                  "2": "cudicini misses carling cup final  chelsea goalkeeper carlo cudicini will miss sundays carling cup final after the club dropped their appeal against his red card against newcastle.  the italian was sent off for bringing down shola ameobi in the final minute of sundays match. blues boss jose mourinho had promised to pick cudicini for the final instead of first-choice keeper petr cech. the 31-year-old will now serve a one-match suspension commencing with immediate effect.  cudicini kept a club record 24 clean sheets last season for chelsea, but petr cech has established himself as first choice for mourinho since moving to stamford bridge in summer 2004. the 22-year-old czech republic international has set a new premiership record of 961 consecutive minutes without conceding a goal, a mark which is still running. but mourinho has used cudicini regularly in the carling cup, and the italian has only let in one goal in his four appearances during chelseas run to the final.",
                  "3": "",
                  "4": "football"
                },
                {
                  "0": "45",
                  "1": "football094.txt",
                  "2": "\"campbell lifts lid on united feud  arsenals sol campbell has called the rivalry between manchester united and the gunners \"\"bitter and personal\"\".  past encounters have stirred up plenty of ill-feeling between the sides and they meet again at highbury on tuesday. \"\"it is just more bitter and personal against united",
                  "3": "",
                  "4": "football"
                },
                {
                  "0": "46",
                  "1": "football241.txt",
                  "2": "\"ronaldinho would consider chelsea  barcelona star ronaldinho has hinted that he could be open to a move to chelsea in future.  the brazilian claimed he rejected an offer from the blues before agreeing a new contract in spain last summer. but ronaldinho told the news of the world: \"\"any great player would want to be part of such a sensational team. \"\"what they are doing is amazing. it is a place where great things are going to happen. i respect them a lot and can maybe see myself in london one day.\"\" the 24-year-old has helped transform barcelona since joining from french side paris st germain for £21m in 2003.  and while he insists he is happy in spain at the moment",
                  "3": "",
                  "4": "football"
                },
                {
                  "0": "47",
                  "1": "football255.txt",
                  "2": "\"plymouth 3-0 sheff utd  plymouth claimed their first win of the year with goals from graham coughlan, paul wotton and dexter blackstock.  however, sheffield uniteds cause was not helped when they were forced to replace injured keeper paddy kenny with midfielder phil jagielka on 28 minutes. by that stage the visitors were already one down, coughlan converting tony capaldis cross with a fierce volley. wotton beat jagielka from 25 yards out after the break before blackstock headed home peter gilberts cross.  - plymouth manager bobby williamson said: \"\"we had our luck tonight because their keeper got injured which was unfortunate for them. \"\"but wed also got an early goal while he was on and that lifted everybody. \"\"im delighted that we bounced back from saturday and our heavy defeat at west ham and that our sequence without a win is now over.\"\"   - sheffield united boss neil warnock said: \"\"we expected a tough match and it wasnt pretty. \"\"plymouth are fighting for their lives",
                  "3": "",
                  "4": "football"
                },
                {
                  "0": "48",
                  "1": "cricket027.txt",
                  "2": "south africa crush zimbabwe  first one-day international, johannesburg: south africa 301-7 bt zimbabwe 136 by 165 runs  makhaya ntini and andrew hall took three wickets apiece as the tourists were bundled out for 136. adam bacher (56), graeme smith (50) and jacques rudolph (50) laid the basis for south africa before mark boucher hit a rapid 49 in the home sides 301-7. poor bowling allowed the hosts to add 70 in the last five overs, although spinner prosper utseya took 3-40. south africa went into the game looking to build on their recent 4-1 win over england but were without shaun pollock (ankle), andre nel (hamstring) and jacques kallis, who was rested ahead of the tests. zimbabwe, who gave a debut to teenager sean williams, chose to field first after skipper tatenda taibu won the toss. but they had to wait 16 overs for their first success as smith and bacher put on 87 for the first wicket. the breakthrough came when smith was trapped lbw after missing a full toss from stuart matsikenyeri as he tried to swing the ball away to leg. bachers fifty took 65 balls but he only faced eight more before holing out to hamilton masakadza off utseya. rudolph and herschelle gibbs put on 56 for the third wicket, but runs did not come freely as the spinners found purchase on a cracked surface. utseya accounted for rudolph in the 37th over and justin kemp quickly came and went after being easily stumped by taibu. gibbs was caught off barney rogers for 40 but boucher punished the inexperienced zimbabwe attack before being denied a half century by elton chigumbura. albie morkel then weighed in with 16 off six deliveries as the innings drew to a close. in reply, the zimbabweans were rocked by a burst from new-ball pair ntini and hall, who reduced them to 55-4. it got worse when morkel claimed two wickets in an over - and the match was effectively over.  gc smith (capt), am bacher, ja rudolph, hh gibbs, ag prince, jm kemp, mv boucher (wkt), ja morkel, n boje, aj hall, m ntini.  t taibu (capt, wkt), s matsikenyeri, bg rogers, h masakadza, brm taylor, a maregwede, e chigumbura, sc williams, p utseya, t panyangara, cb mpofu.",
                  "3": "",
                  "4": "cricket"
                },
                {
                  "0": "49",
                  "1": "cricket033.txt",
                  "2": "\"harbhajan action given all-clear  indian spinner harbhajan singhs bowling action has been cleared under new regulations introduced by the international cricket council.  a bowlers action is now deemed legal providing his arm straightens by no more than 15 degrees. an icc statement said harbhajans orthodox off-break and doosra now fell \"\"within the tolerance threshold\"\". he was reported to the icc by match referee chris broad after a test in bangladesh last december. as a result",
                  "3": "cricket",
                  "4": "cricket"
                },
                {
                  "0": "50",
                  "1": "football137.txt",
                  "2": "\"mourinho to escape fa charge  chelsea boss jose mourinho will not face any football association action over the comments he made after their carling cup tie with manchester united.  mourinho intimated that united boss sir alex ferguson influenced referee neale barry after the duo walked down the tunnel together at half-time. but an fa spokesman told bbc sport: \"\"we are not taking action over mourinho. \"\"we have looked at the comments and we have decided that no further action is required. that is the end of it.\"\" mourinho was concerned that fergusons conversation with barry was followed by an inconsistent display by the official. \"\"i see one referee in the first half and another in the second",
                  "3": "football",
                  "4": "football"
                },
                {
                  "0": "51",
                  "1": "football123.txt",
                  "2": "\"kerr frustrated at victory margin  republic of ireland manager brian kerr admitted he was frustrated his side did not score more than one goal in their friendly win over croatia.  robbie keane took his republic record to 24 with a first-half goal which proved enough for victory. \"\"we had more good chances. it is just a shame we did not take them against such a technically gifted team",
                  "3": "",
                  "4": "football"
                },
                {
                  "0": "52",
                  "1": "rugby002.txt",
                  "2": "\"vickery out of six nations  england tight-head prop phil vickery has been ruled out of the rest of the 2005 rbs six nations after breaking a bone in his right forearm.  vickery was injured as his club side, gloucester, beat bath 17-16 in the west country derby on saturday. he could be joined on the sidelines by bath centre olly barkley, who sat out the derby due to a leg injury. barkley will have a scan on sunday and might miss englands trip to six nations leaders ireland next weekend. the news is just the latest blow for coach andy robinson, who has seen his side lose their opening two matches in the 2005 six nations. robinson is already without world cup winners jonny wilkinson, will greenwood, mike tindall, richard hill and trevor woodman through injury. vickery has broken the radius, a large bone in his forearm. he only returned to the england side last weekend after a long-term back injury, which was followed by a fractured eye socket. and the gloucester prop was only recalled after leicester tight-head julian white suffered a neck injury which has already seen him ruled out of the ireland game.  bath prop matt stevens is the only remaining tight-head in englands training squad and could be involved against ireland. but he has to play second fiddle at club level to duncan bell, who excelled for england a against france and may now be called into the squad. the extent of barkleys injury is not yet clear but bath boss john connolly rates him no better than \"\"50-50\"\" to face ireland. barkley played at inside cente in englands defeat by france and if he is unable to play",
                  "3": "",
                  "4": "rugby"
                },
                {
                  "0": "53",
                  "1": "rugby016.txt",
                  "2": "\"robinson ready for difficult task  england coach andy robinson faces the first major test of his tenure as he tries to get back to winning ways after the six nations defeat by wales.  robinson is likely to make changes in the back row and centre after the 11-9 loss as he contemplates sundays set-to with france at twickenham. lewis moody and martin corry could both return after missing the game with hamstring and shoulder problems. and the midfield pairing of mathew tait and jamie noon is also under threat. olly barkley immediately allowed england to generate better field position with his kicking game after replacing debutant tait just before the hour. the bath fly-half-cum-centre is likely to start against france, with either tait or noon dropping out.  tait, given little opportunity to shine in attack, received praise from robinson afterwards, even if the coach admitted cardiff was an \"\"unforgiving place\"\" for the teenage prodigy. robinson now has a tricky decision over whether to withdraw from the firing line",
                  "3": "",
                  "4": "rugby"
                },
                {
                  "0": "54",
                  "1": "atheletics017.txt",
                  "2": "\"call for kenteris to be cleared  kostas kenteris lawyer has called for the doping charges against the greek sprinter to be dropped.  gregory ioannidis has submitted new evidence to a greek athletics tribunal which he claims proves the former olympic champion has no case to answer. kenteris and compatriot katerina thanou were given provisional suspensions in december for failing to take drugs tests before the athens olympics. the greek tribunal is expected to give its verdict early next week. kenteris and thanou withdrew from the athens olympics last august after missing drugs tests on the eve of the opening ceremony. they were also alleged to have avoided tests in tel aviv and chicago before the games.  but ioannidis said: \"\"everything overwhelmingly shows that the charges should be dropped.\"\" ioannidis also said he has presented evidence that will throw a different light on the events leading up to the pairs sensational withdrawal from the athens games. the lawyer added that he has proof the authorities \"\"knew\"\" kenteris was in germany at the time he was alleged to have missed a test in chicago. nick davies",
                  "3": "atheletics",
                  "4": "atheletics"
                },
                {
                  "0": "55",
                  "1": "atheletics003.txt",
                  "2": "\"greene sets sights on world title  maurice greene aims to wipe out the pain of losing his olympic 100m title in athens by winning a fourth world championship crown this summer.  he had to settle for bronze in greece behind fellow american justin gatlin and francis obikwelu of portugal. \"\"it really hurts to look at that medal. it was my mistake. i lost because of the things i did",
                  "3": "",
                  "4": "atheletics"
                },
                {
                  "0": "56",
                  "1": "tennis026.txt",
                  "2": "\"davenport dismantles young rival  top seed lindsay davenport booked her place in the last 16 of the australian open with a convincing 6-2 6-4 win over nicole vaidisova of the czech republic.  the american had too much power for her 15-year-old opponent, breaking twice in the first set and once in the second. the german-born vaidisova rallied well at times but was unable to find a way back after falling behind 3-2 in the opening set. davenport, who closed out with an ace, plays karolina sprem in the next round. \"\"i was fully expecting a tough opponent and was able to play well enough to get through it",
                  "3": "",
                  "4": "tennis"
                },
                {
                  "0": "57",
                  "1": "tennis032.txt",
                  "2": "\"rochus shocks coria in auckland  top seed guillermo coria went out of the heineken open in auckland on thursday with a surprise loss to olivier rochus of belgium.  coria lost the semi-final 6-4 6-4 to rochus, who goes on to face czech jan hernych, a 6-4 7-5 winner over jose acasuso of argentina. fifth seed fernando gonzalez eased past american robby ginepri 6-3 6-4. the chilean will meet sixth seed juan ignacio chela next after the argentine beat potito starace 6-1 7-6 (7-5). rochus made the semi-finals at the australian hardcourt championships in adelaide last week and is naturally delighted with his form. \"\"its been two unbelievable weeks for me",
                  "3": "",
                  "4": "tennis"
                },
                {
                  "0": "58",
                  "1": "tennis033.txt",
                  "2": "\"johansson takes adelaide victory  second seed joachim johansson won his second career title with a 7-5 6-3 win over taylor dent at the australian hardcourt championships in adelaide.  the swede was made to graft, american dent surviving three break points in the fifth game of the match. but johansson got the breakthrough with a sublime backhand return winner and won the second set with more ease. his first tournament win was at memphis in 2004, helping him leap from 113th in the world rankings to number 11. afterwards, dent said he rated us open semi-finalist johansson as a top contender at the australian open, which starts on 17 january. \"\"i believe mens tennis is all about holding serve and if hes playing like that on his own serve i dont see how guys are going to break him",
                  "3": "tennis",
                  "4": "tennis"
                },
                {
                  "0": "59",
                  "1": "tennis027.txt",
                  "2": "\"serena ends sania mirzas dream  sania mirza, the first indian woman to reach the third round of a grand slam tennis event, has lost to womens favourite serena williams.  the 18-year-old mirza, who got a wild card entry into the australian open in melbourne, lost to williams 1-6,4-6 in the third round. williams took just 56 minutes to defeat mirza and sail into the fourth round. the only other indian woman to win a match at a grand slam is nirupama vaidyanathan. vaidyanathan made it to the second round of the australian open in 1998.  playing the biggest match of her life, mirza made little impact on williams in the early stages of the game. but the teenager showed more confidence in the second set and engaged the seventh-seeded williams in some well contested rallies. mirza, a junior wimbledon doubles title winner, became the first indian woman to reach the third round of a grand slam tennis event when she beat hungarian petra mandula on wednesday. \"\"im really excited. i was confident but i didnt think it was going to be that easy",
                  "3": "tennis",
                  "4": "tennis"
                },
                {
                  "0": "60",
                  "1": "atheletics002.txt",
                  "2": "osullivan could run in worlds  sonia osullivan has indicated that she would like to participate in next months world cross country championships in st etienne.  athletics ireland have hinted that the 35-year-old cobh runner may be included in the official line-up for the event in france on 19-20 march. provincial teams were selected after last saturdays nationals in santry and will be officially announced this week. osullivan is at present preparing for the london marathon on 17 april. the participation of osullivan, currentily training at her base in australia, would boost the ireland team who won the bronze three years agio. the first three at santry last saturday, jolene byrne, maria mccambridge and fionnualla britton, are automatic selections and will most likely form part of the long-course team. osullivan will also take part in the bupa great ireland run on 9 april in dublin.",
                  "3": "atheletics",
                  "4": "atheletics"
                },
                {
                  "0": "61",
                  "1": "atheletics016.txt",
                  "2": "\"verdict delay for greek sprinters  greek athletics governing body has postponed by two weeks the judgement on sprinters costas kenteris and katerina thanou for missing doping tests.  the pair are facing lengthy bans for the missed tests, including one on the eve of last years athens olympics. they were set to learn their fate by the end of february, but late evidence from them has pushed the date back. \"\"a decision is now expected by around mid-march",
                  "3": "atheletics",
                  "4": "atheletics"
                },
                {
                  "0": "62",
                  "1": "rugby017.txt",
                  "2": "bell set for england debut  bath prop duncan bell has been added to englands 30-man squad to face ireland in the rbs six nations.  and with phil vickery sidelined for at least six weeks with a broken arm and julian white out with a neck injury, bell could make his england debut. bell, 30, had set his sights on an international career with wales. but last december, the international rugby board confirmed that he could only be eligible for england as he had travelled on tour with them in 1998. england coach andy robinson could take a gamble and call inexperienced sale sharks prop andrew sheridan into his front row. but sheridan favours the loosehead side of the scrum and a more likely scenario is for uncapped bell - who was among the tryscorers when england a beat france a 30-20 nine days ago - to be drafted in. robinson also has an injury worry over centre olly barkley, who withdrew from baths starting line-up to face gloucester last weekend.  he was due to have a hospital scan on monday, while gloucester centre henry paul, who started at fly-half against bath, limped out at kingsholm because of an ankle problem. despite barkleys three missed penalties in the 18-17 defeat against france, he is expected to retain his place at inside centre, although leicesters in-form prospect ollie smith would be an obvious replacement. bath coach john connolly rates barkley as no better than a 50/50 chance to make the dublin trip. uncapped fly-half andy goode has been named in a 30-man training squad for the ireland game, and he strengthened his selection claims by kicking 28 points during leicesters record 83-10 win against newcastle on sunday. englands players are due to meet at their surrey training base on monday.",
                  "3": "rugby",
                  "4": "rugby"
                },
                {
                  "0": "63",
                  "1": "rugby003.txt",
                  "2": "\"yachvili savours france comeback  france scrum-half dimitri yachvili praised his team after they fought back to beat england 18-17 in the six nations clash at twickenham.  yachvili kicked all of frances points as they staged a second-half revival. \"\"we didnt play last week against scotland and we didnt play in the first half against england",
                  "3": "",
                  "4": "rugby"
                },
                {
                  "0": "64",
                  "1": "football122.txt",
                  "2": "\"reaction from spanish press  englands 1-0 defeat to spain on wednesday dominated the back and front pages of the countrys press on thursday.  controversy was in no short supply, with racist abuse of englands black players, wayne rooneys petulance and englands inept performance. but what did the spanish press make of the affair? bbc sport looks at the reaction.      there is little coverage of the racist chanting on wednesday nights game. but as does cover the english reaction to the pre-match comments from spain coach luis aragones, who highlighted britains colonial past when probed about his own remarks regarding thierry henry in october. journalist guillem balague writes: \"\"in our country",
                  "3": "",
                  "4": "football"
                },
                {
                  "0": "65",
                  "1": "football136.txt",
                  "2": "\"hitzlsperger waiting on oleary  aston villas thomas hitzlsperger is waiting to learn the future of manager david oleary before committing himself to a new contract with the club.  oleary has been in talks over a new deal and he said: \"\"i had a message from thomas agent asking me what the news was on myself. \"\"he wants to find out before he goes into discussions over thomas. \"\"the reason thomas is not speaking to the club is because the agent wants to see the outcome of what happens to me.\"\" hitzlspergers current deal expires in the summer and he has been offered a new deal by the midlands club. the german international is understood to be keen to remain at villa",
                  "3": "",
                  "4": "football"
                },
                {
                  "0": "66",
                  "1": "cricket032.txt",
                  "2": "\"indias top six secure - ganguly  captain sourav ganguly has revealed india will not be tempted into tinkering with their batting order for the first test against pakistan.  \"\"our batting order for the tests is fixed. there are no changes from number three to six",
                  "3": "",
                  "4": "cricket"
                },
                {
                  "0": "67",
                  "1": "cricket026.txt",
                  "2": "\"pakistan arrive for tour of india  pakistan arrived in delhi on monday amid tight security for their first full tour of india for six years.  the 16-man squad, along with coach bob woolmer and support staff, were met at the heavily guarded indira gandhi airport after a 45-minute flight. armed guards kept vigil as the tourists were taken to their hotel along a six-mile route lined with security men. hindu fundamentalists have threatened to protest over perceived pakistani backing to militancy in kashmir. \"\"i am delighted to be back in india",
                  "3": "",
                  "4": "cricket"
                },
                {
                  "0": "68",
                  "1": "football254.txt",
                  "2": "\"worthington praises classy villa  norwich boss nigel worthington said his sides defeat to aston villa emphasised the gap in quality between the premiership and the championship.  \"\"i thought the villa performance today was very good. i think it comes down to the quality",
                  "3": "",
                  "4": "football"
                },
                {
                  "0": "69",
                  "1": "football240.txt",
                  "2": "\"eriksson warned on cole comments  premier league bosses have told england manager sven-goran eriksson to keep out of the tapping-up row.  eriksson defended players rights to talk to other clubs following allegations that arsenals ashley cole had a secret meeting with chelsea. but a premier league spokesman said the rules are very clear on the subject. he said: \"\"a professional footballer under contract doesnt have the right to speak to another club without the permission of his current employer.\"\" the spokesman added: \"\"the premier league rules are clear on that. there is an ongoing inquiry into this matter and if it is proven that the rules have been broken then the guilty parties are liable to be punished.\"\"  the premier league is set to investigate whether chelsea held a secret meeting with the arsenal defender last month. eriksson earlier said he was unconcerned if reports that chelsea made an illegal approach prove to be true. he said: \"\"as a professional footballer it must be your right to listen if some other work is available. \"\"we dont live in a dictatorship",
                  "3": "",
                  "4": "football"
                },
                {
                  "0": "70",
                  "1": "football095.txt",
                  "2": "\"rovers reject third ferguson bid  blackburn have rejected a third bid from rangers for scotland captain barry ferguson, bbc sport has learnt.  it is thought blackburn want £6m for the midfielder but chief executive john williams has confirmed the club are still \"\"in dialogue\"\" with rangers. the 26-year-old has already handed in a transfer request at ewood park as he seeks a return to ibrox. but the clubs have been unable to reach agreement over a fee for ferguson",
                  "3": "",
                  "4": "football"
                },
                {
                  "0": "71",
                  "1": "football081.txt",
                  "2": "\"beattie return calms attack fears  everton striker james beattie has been declared fit for training on tuesday, despite suffering an alleged assault last saturday.  beattie, 27, is not believed to be as seriously hurt as some reports have suggested after being \"\"the victim of an unprovoked assault\"\" in birmingham. he was on a night out with his girlfriend and two friends following evertons 3-1 win over aston villa. \"\"he was shaken but not badly injured",
                  "3": "",
                  "4": "football"
                },
                {
                  "0": "72",
                  "1": "football056.txt",
                  "2": "\"jol joy at professional cup win  tottenham manager martin jol acclaimed his players for their patience in their 3-0 fa cup fifth-round victory over a determined nottingham forest side.  \"\"we had the initiative but it wasnt easy. it was a professional sort of performance",
                  "3": "",
                  "4": "football"
                },
                {
                  "0": "73",
                  "1": "football042.txt",
                  "2": "\"iranian misses israel match  iranian striker vahid hashemian will not travel to israel for bayern munichs champions league match against maccabi tel aviv on wednesday.  the german club said the player had pulled out because of a back injury. iran refuses to recognise israels right to exist and does not allow its citizens to travel to the country. a bayern spokesman said on monday that the decision not to take hashemian to israel had been motivated only by his physical condition. \"\"hes got back pain and he couldnt train",
                  "3": "",
                  "4": "football"
                },
                {
                  "0": "74",
                  "1": "football046.txt",
                  "2": "\"chelsea ridiculed over complaint  barcelona assistant coach henk ten cate has branded chelseas expected complaint to uefa as \"\"pathetic\"\".  the blues are poised to complain about an alleged half-time incident during wednesdays 2-1 loss at the nou camp. the source of chelseas anger was an alleged talk between barca boss frank rijkaard and referee anders frisk",
                  "3": "",
                  "4": "football"
                },
                {
                  "0": "75",
                  "1": "football052.txt",
                  "2": "rangers seal old firm win  goals from gregory vignal and nacho novo gave rangers a scrappy victory at celtic park that moves them three points clear of the champions.  rangers had rarely threatened until celtic goalkeeper rab douglas let defender vignals 25-yard drive slip through his grasp and into the net. opposite number ronald waterreus had been rangers hero, saving superbly from craig bellamy and john hartson. striker novo secured victory, lobbing douglas with eight minutes remaining. it ended celtics 11-game unbeaten run at home in old firm derbies and gave rangers manager alex mcleish his first victory at the home of his glasgow rivals. celtic had won their last six meetings on their home pitch, including twice already this season. they started confidently, with new signing bellamy, on loan from newcastle united, given his celtic debut up front with wales international colleague john hartson and chris sutton dropping into midfield. it took bellamy just four minutes to threaten, taking on marvin andrews before delivering a low drive that was held by waterreus at the second attempt. he had an even better chance after hartson dispossesed sotiris kyrgiakos and sent his strike partner clear with only the goalkeeper to beat. but waterreus did well to beat away bellamys disappointing low drive from 16 yards. waterreus came to the rescue again when the ball fell to hartson just inside the box and the dutch goalkeeper made a brave block. it was an old firm return for barry ferguson as mcleish stuck by the side that thumped four goals past hibernian. but rangers found celtic harder to break down and douglas was not threatened until 10 minutes after the break. dado prso turned inside neil lennon only for the celtic goalkeeper to beat away his powerful 18-yard drive. a great defensive header by andrews prevented hartson pouncing from five yards out. hartson foxed vignal at the edge of the rangers box, but the strikers shot on the turn was again beaten away by waterreus. rangers were beginning to dominate the midfield and vignal, collecting a knock back from fernando ricksen, broke the deadlock, douglas somehow letting the frenchmans dipping drive slip through his grasp. novo pounced on a moments hesitation in the celtic defence to latch on to a long ball from ricksen and lob the ball over the advancing douglas. ricksen appeared to be hit by a coin, but it could not prevent rangers celebrations at the final whistle.  : douglas, mcnamara, balde, varga, laursen, petrov, lennon, sutton, thompson, bellamy, hartson.  subs: marshall, henchoz, juninho paulista, lambert, maloney, wallace, mcgeady.  : waterreus, hutton, kyrgiakos, andrews, ball, buffel, ferguson, ricksen, vignal, prso, novo.  subs: mcgregor, namouchi, burke, alex rae, malcolm, thompson, lovenkrands.  : m mccurry",
                  "3": "",
                  "4": "football"
                },
                {
                  "0": "76",
                  "1": "football085.txt",
                  "2": "\"blackburn v burnley  ewood park  tuesday, 1 march  2000 gmt  howard webb (south yorkshire)  home to leicester in the quarter-finals  but defender andy todd is suspended and could be replaced by dominic matteo - if he recovers from a hamstring injury. burnley have major injury concerns over frank sinclair and john mcgreal. michael duff looks set to continue at right-back with john oster in midfield and micah hyde is expected to recover from a knee injury.  - blackburn boss mark hughes: \"\"burnley are resolute and have individual talent but i fully expect us to progress. \"\"i thought we were comfortable in the first game and never thought we were under pressure. \"\"its a competition we want to progress in and we are doing okay. if we beat burnley",
                  "3": "",
                  "4": "football"
                },
                {
                  "0": "77",
                  "1": "football091.txt",
                  "2": "\"candela completes bolton switch  bolton boss sam allardyce has signed roma defender vincent candela on a five-month deal.  the 31-year-old former france international gave his last press conference as a roma player on monday, anouncing his move to bolton. \"\"i have signed a five-month contract with bolton",
                  "3": "",
                  "4": "football"
                },
                {
                  "0": "78",
                  "1": "football244.txt",
                  "2": "\"faye plans to stay at portsmouth  portsmouth midfielder amdy faye is keen to stay at fratton park and help keep the club in the premiership.  the senegalese international has been linked with moves to middlesbrough, aston villa and bolton after hinting at his desire to play european football. but faye told the portsmouth evening news: \"\"every week theres a new club im linked with - but im staying here. \"\"im getting tired of hearing all this talk and im clear in my mind now that im staying at portsmouth.\"\" faye could well stay after fellow midfielder nigel quashie completed his move to re-join former pompey boss harry redknapp at rivals southampton on monday.  and redknapp may continue to plunder portsmouths midfield",
                  "3": "football",
                  "4": "football"
                },
                {
                  "0": "79",
                  "1": "football250.txt",
                  "2": "\"mourinho sends out warning shot  chelsea boss jose mourinho believes his teams carling cup win over manchester united has shown they have the strength to win the premiership.  \"\"it was important for us",
                  "3": "",
                  "4": "football"
                },
                {
                  "0": "80",
                  "1": "cricket022.txt",
                  "2": "pakistan batsmen make edgy start  tour match, dharamsala, day one (stumps) pakistan 165-5 v indian board presidents xi  at stumps on day one of three, the tourists were 165-5 in dharamsala, with only 45 overs possible because of rain. there was an important 72-run stand for the fifth wicket between inzamam-ul-haq and asim kamal after pakistan had collapsed from 54-0 to 83-4. kamal was still there at the close on 43 after captain inzamam, on his 35th birthday, was dismissed for 35. pakistan had been cruising early on through salman butt and taufeeq umar before losing four wickets for 29 runs in barely 10 overs of cricket. in the 11th over a misunderstanding with umar about a second run resulted in his downfall - gagandeep singh hitting the stumps with a throw from fine leg. gagandeep then did his job with the ball as younis khan was caught at second slip for a two-ball duck. yousuf youhana batted brightly but after hitting 18 off as many deliveries he fell soon after tea inside-edging a drive off shib paul to wicket-keeper parthiv patel. and moments later umar was held at short midwicket off bat and pad to give rudra singh a wicket. with the pressure on, inzamam and kamal produced a dogged effort in the final session before venugopal rao trapped the skipper lbw. it was the only wicket to fall to a spinner during the course of a chilly day in this city in the foothills of the himalayas. the match is pakistans only warm-up game before the first of three tests against india begins in mohali on 8 march.  mohammad kaif (capt), dheeraj jadhav, satyajit parab, venugopala rao, suresh raina, parthiv patel (wkt), ramesh powar, gagandeep singh, shib shankar paul, rudra pratap singh, neeraj patel.  inzamam-ul-haq (capt), salman butt, taufeeq umar, yousuf youhana, younis khan, asim kamal, abdul razzaq, kamran akmal (wkt), danish kaneria, mohammad sami, rana naved-ul-hasan.",
                  "3": "cricket",
                  "4": "cricket"
                },
                {
                  "0": "81",
                  "1": "cricket036.txt",
                  "2": "\"streak set to make return  former zimbabwe captain heath streak has been recalled to the national squad and is available for wednesdays final one-day match against south africa.  streak, who has ended his disagreement with zimbabwe cricket, said: \"\"im looking forward to getting back. \"\"obviously theres an element of concern at not having played at this level for a while",
                  "3": "cricket",
                  "4": "cricket"
                },
                {
                  "0": "82",
                  "1": "rugby007.txt",
                  "2": "\"ogara revels in ireland victory  ireland fly-half ronan ogara hailed his sides 19-13 victory over england as a \"\"special\"\" win.  the munster number 10 kicked a total of 14 points",
                  "3": "",
                  "4": "rugby"
                },
                {
                  "0": "83",
                  "1": "rugby013.txt",
                  "2": "\"fear will help france - laporte  france coach bernard laporte believes his team will be scared going into their game with england on sunday, but claims it will work in their favour.  the french turned in a stuttering performance as they limped to a 16-9 win against scotland in the opening match of the six nations on saturday. \"\"we will go to twickenham with a little fear and itll give us a boost",
                  "3": "",
                  "4": "rugby"
                },
                {
                  "0": "84",
                  "1": "football132.txt",
                  "2": "wolves appoint hoddle as manager  glenn hoddle will be unveiled as the new wolves manager on tuesday.  the club have confirmed that the former england coach will be unveiled as the successor to dave jones at a news conference at molineux at 1100 gmt. hoddle has been linked with a return to former club southampton but wolves have won the race for his services. he has been out of the game since being sacked at spurs in september 2003 and worked alongside wolves caretaker boss stuart gray at southampton. hoddle began his managerial career as player-boss with swindon before moving on to chelsea and then taking up the england job.  his spell in charge of the national side came to an end after the 1998 world cup when he made controversial remarks about the disabled in a newspaper interview. the 47-year-old later returned to management with southampton, where he again succeeded jones - as he has now done at wolves. he engineered an upturn in saints fortunes before being lured to white hart lane by tottenham - the club where he made his name as a player. that relationship turned sour at the start of the last campaign and he left the london club early last season. since then he has applied unsuccessfully for the post of france manager and had also been linked with a return to southampton. wolves are currently 17th in the championship and have a home game against millwall on tuesday.",
                  "3": "",
                  "4": "football"
                },
                {
                  "0": "85",
                  "1": "football126.txt",
                  "2": "\"curbishley delight for johansson  charlton manager alan curbishley paid tribute to two-goal striker jonatan johansson after beating norwich.  curbishley said after the 4-0 win: \"\"there was talk about norwich being interested in the summer but i have a lot of faith in jonatan. \"\"when there was talk of other clubs i just told him he was going nowhere. \"\"hes part of our squad and he got us a couple of important goals early on. im sure hes happy here",
                  "3": "",
                  "4": "football"
                },
                {
                  "0": "86",
                  "1": "tennis023.txt",
                  "2": "\"clijsters set for february return  tennis star kim clijsters will make her return from a career-threatening injury at the antwerp wta event in february.  \"\"kim had considered returning to action in paris on 7 february",
                  "3": "tennis",
                  "4": "tennis"
                },
                {
                  "0": "87",
                  "1": "tennis037.txt",
                  "2": "injury sidelines philippoussis  mark philippoussis withdrew from the sydney international tennis tournament as expected on sunday after suffering a groin injury during the hopman cup.  his participation in the australian open, which begins on 17 january in melbourne, also remains in doubt. defending womens champion justine henin-hardenne is also out of the sydney event because of a knee injury. in the only main draw mens or womens singles match on sunday, nathalie dechy beat american lisa raymond 7-5 6-3. number one mens seed lleyton hewitt begins his quest for a fourth sydney title on tuesday when he plays karol beck. lindsay davenport, top seed in the womens draw, has been handed a first-round bye and plays frances dechy in the second round on tuesday.",
                  "3": "tennis",
                  "4": "tennis"
                },
                {
                  "0": "88",
                  "1": "atheletics012.txt",
                  "2": "\"edwards tips idowu for euro gold  world outdoor triple jump record holder and bbc pundit jonathan edwards believes phillips idowu can take gold at the european indoor championships.  idowu landed 17.30m at the british trials in sheffield last month to lead the world triple jump rankings. \"\"its all down to him",
                  "3": "",
                  "4": "atheletics"
                },
                {
                  "0": "89",
                  "1": "atheletics006.txt",
                  "2": "\"isinbayeva claims new world best  pole vaulter yelena isinbayeva broke her own indoor world record by clearing 4.89 metres in lievin on saturday.  it was the russians 12th world record of her career and came just a few days after she cleared 4.88m at the norwich union grand prix in birmingham. the olympic champion went on to attempt 5.05m at the meeting on france but failed to clear that height. in the mens 60m, former olympic 100m champion maurice greene could only finish second to leonard scott. it was greenes second consecutive defeat at the hands of his fellow american, who also won in birmingham last week. \"\"i ran my race perfectly",
                  "3": "",
                  "4": "atheletics"
                },
                {
                  "0": "90",
                  "1": "atheletics007.txt",
                  "2": "\"osullivan commits to dublin race  sonia osullivan will seek to regain her title at the bupa great ireland run on 9 april in dublin.  the 35-year-old was beaten into fourth at last years event, having won it a year earlier. \"\"i understand shes had a solid winters training down in australia after recovering from a minor injury",
                  "3": "",
                  "4": "atheletics"
                },
                {
                  "0": "91",
                  "1": "atheletics013.txt",
                  "2": "\"kenya lift chepkemeis suspension  kenyas athletics body has reversed a ban on marathon runner susan chepkemei after she made an official apology.  athletics kenya (ak) had suspended the two-time london marathon runner-up for failing to turn up to a cross-country team training camp in embu. \"\"we have withdrawn the ban. chepkemei has given a reason for her absence",
                  "3": "atheletics",
                  "4": "atheletics"
                },
                {
                  "0": "92",
                  "1": "tennis036.txt",
                  "2": "\"dementieva prevails in hong kong  elena dementieva swept aside defending champion venus williams 6-3 6-2 to win hong kongs champions challenge event.  the russian, ranked sixth in the world, broke williams three times in the first set, while losing her service once. williams saved three championship points before losing the match at the victoria park tennis court. \"\"its really a great start to the year no matter whether its an exhibition or not. i was trying to play my best and i really did it",
                  "3": "tennis",
                  "4": "tennis"
                },
                {
                  "0": "93",
                  "1": "tennis022.txt",
                  "2": "\"hingis to make unexpected return  martina hingis makes her return to competitve tennis after two years out of the game at the volvo womens open in pattaya, thailand, on tuesday.  she faces german marlene weingartner in the first round. \"\"as a competitor and athlete",
                  "3": "tennis",
                  "4": "tennis"
                },
                {
                  "0": "94",
                  "1": "football127.txt",
                  "2": "\"lennon brands rangers favourites  celtics neil lennon admits rangers could be considered \"\"slight favourites\"\" for the old firm cis cup clash",
                  "3": "",
                  "4": "football"
                },
                {
                  "0": "95",
                  "1": "football133.txt",
                  "2": "\"wenger keeping faith with almunia  arsene wenger has pledged to keep faith with stand-in keeper manuel almunia for the crunch week which could define arsenals season.  almunia will start tuesdays champions league group tie against rosenborg and is likely to face chelsea on sunday. wenger said: \"\"you dont think i would take out one goalkeeper for just one game",
                  "3": "",
                  "4": "football"
                },
                {
                  "0": "96",
                  "1": "rugby012.txt",
                  "2": "\"murray returns to scotland fold  euan murray has been named in the scotland training squad after an eight-week ban, ahead of saturdays six nations match with ireland.  the glasgow forwards ban for stamping ended on 2 february. \"\"im just happy to be back playing and be involved with the squad",
                  "3": "",
                  "4": "rugby"
                },
                {
                  "0": "97",
                  "1": "rugby006.txt",
                  "2": "\"fuming robinson blasts officials  england coach andy robinson insisted he was \"\"livid\"\" after his side were denied two tries in sundays 19-13 six nations loss to ireland in dublin.  mark cuetos first-half effort was ruled out for offside before the referee spurned tv replays when england crashed over in the dying minutes. \"\"[im] absolutely spitting. im livid. theres two tries weve been cost",
                  "3": "",
                  "4": "rugby"
                },
                {
                  "0": "98",
                  "1": "cricket037.txt",
                  "2": "\"india confident of deal  the president of the indian board has insisted the home series against pakistan will go ahead despite an ongoing legal wrangle over tv rights.  \"\"we are confident something will be worked out. as soon as we hear from the courts",
                  "3": "",
                  "4": "cricket"
                },
                {
                  "0": "99",
                  "1": "cricket023.txt",
                  "2": "\"pakistan question warm-up venue  pakistan have voiced concern about the choice of dharamshala to stage their only warm-up game in india.  tuesdays practice session had to be cancelled because of rain and the forecast is gloomy until the weekend. they are also worried about a travel schedule which could disrupt practice in mohali, venue for the first test. \"\"if we have to go back the same way we came",
                  "3": "",
                  "4": "cricket"
                },
                {
                  "0": "100",
                  "1": "football251.txt",
                  "2": "\"odriscoll concern at fifa ruling  bournemouth boss sean odriscoll is concerned at the impact that the transfer window system could make, if it is applied to football league clubs next season.  the league was recently informed by fifa that its 72 clubs would no longer receive any further dispensation to trade players outside the world governing bodys transfer windows after the end of the current campaign. the matter will now be discussed at the next meeting of all clubs on 10 march - when a league working party set up to consider the implications of fifas decision is set to report back. the clubs will then decide on the next step to take, league communications executive ian christon confirmed. if it is applied to the football league, odriscoll feels the fifa-imposed system could harm the chances for young players at premiership clubs to gain experience in the lower leagues.  when injuries have struck, odriscoll has used the short-term loan market to bolster his small squad - a move which is not possible under the \"\"window\"\" ruling which currently just applies to the premiership",
                  "3": "football",
                  "4": "football"
                },
                {
                  "0": "101",
                  "1": "football245.txt",
                  "2": "\"cech sets clean-sheet benchmark  chelseas petr cech set a premiership goalkeeping benchmark with the aid of a penalty save at blackburn.  cechs save of paul dickovs spot-kick in chelseas 1-0 win means the 22-year-old has now gone 781 minutes without conceding a premiershp goal. that surpasses the previous mark of 694 minutes, set by manchester uniteds peter schmeichel in 1997. the czech republic international said: \"\"the team has been fantastic and i wanted to do my bit to help them win.\"\" cech joined chelsea last summer for £7m from french club rennes",
                  "3": "",
                  "4": "football"
                },
                {
                  "0": "102",
                  "1": "football090.txt",
                  "2": "cup holders man utd visit everton  holders manchester united and premiership leaders chelsea both face difficult away ties against premiership opposition in the fa cup fifth round.  united were drawn against everton, while chelsea face a trip to newcastle. brentford and hartlepool - the only sides left from outside the top two divisions - will replay for the right to travel to southampton. burnleys reward for a place in the last 16 was a home tie against lancashire rivals blackburn. the tie between manchester united and everton could see the return of teenage striker wayne rooney to his former club for the first time since his acrimonious £27m move.  nottingham forest boss gary megson could face a trip back to old club west brom if they come through their fourth-round replay against tottenham. arsenal were handed a potential home tie against fellow londoners west ham, providing the hammers come through their replay against sheffield united. charlton will play leicester and bolton await the winners of the derby-fulham replay.  : bolton v derby or fulham  west bromwich albion or tottenham v nottingham forest  everton v manchester united  charlton athletic v leicester city  burnley v blackburn  southampton v brentford or hartlepool  newcastle v chelsea  arsenal v west ham or sheffield united  ties to be played on 19/20 february.",
                  "3": "",
                  "4": "football"
                },
                {
                  "0": "103",
                  "1": "football084.txt",
                  "2": "\"cole refuses to blame van persie  ashley cole has refused to blame robin van persie for leaving arsenal with no fully-fit strikers for the fa cup fifth round replay at sheffield united.  van persie is suspended alongside dennis bergkamp and jose antonio reyes after being sent off at southampton when arsenal had a numerical advantage. thierry henry is ruled out with an achilles tendon injury but cole said: \"\"no-one is putting the blame on robin. \"\"its just something that happens on the spur of the moment.\"\" cole added: \"\"ive done it before and i hope they didnt blame me for anything. \"\"of course hell learn. ive been sent off a couple of times now and its just one of those things when you go a bit crazy for one or two seconds. freddie ljungberg is likely to be used in an emergency striking role and will be partnered by either arturo lupoli",
                  "3": "",
                  "4": "football"
                },
                {
                  "0": "104",
                  "1": "football053.txt",
                  "2": "\"sfa awaits report over mikoliunas  the scottish football association is awaiting referee hugh dallass report before acting against hearts winger saulius mikoliunas.  mikoliunas, 20, barged linesman andy davis, who had advised dallas to award rangers an injury-time penalty in heartss 2-1 defeat at tynecastle. \"\"he was sent off for violent conduct in the 90th minute but we dont know if he did something else after the whistle. \"\"we dont know how many red cards he was shown",
                  "3": "football",
                  "4": "football"
                },
                {
                  "0": "105",
                  "1": "football047.txt",
                  "2": "\"benitez issues warning to gerrard  liverpool manager rafael benitez has ordered captain steven gerrard not to play down their champions league ambitions and be more positive.  gerrard told the bbc liverpool were unlikely to win the trophy this year. benitez responded: \"\"i spoke to steven and said to him that in future its better to think we can win the champions league. why not?\"\" he said: \"\"we need winners here and everyone thinking only of winning. i always want to win.\"\"  benitez added: \"\"when we lose i only think of solutions. if you only think about winning the next game",
                  "3": "",
                  "4": "football"
                },
                {
                  "0": "106",
                  "1": "football079.txt",
                  "2": "\"qpr keeper day heads for preston  queens park rangers keeper chris day is set to join preston on a months loan.  day has been displaced by the arrival of simon royce, who is in his second month on loan from charlton. qpr have also signed italian generoso rossi. rs manager ian holloway said: \"\"some might say its a risk as he cant be recalled during that month and simon royce can now be recalled by charlton. \"\"but i have other irons in the fire. i have had a yes from a couple of others should i need them.\"\"  days rangers contract expires in the summer. meanwhile",
                  "3": "",
                  "4": "football"
                },
                {
                  "0": "107",
                  "1": "football051.txt",
                  "2": "\"downing injury mars uefa victory  middlesbrough boss steve mcclaren hopes that stewart downing did not seriously damage his hamstring during the 2-1 uefa cup win over graz ak.  the winger was carried off on a stretcher in the closing stages as boro booked their place in the last 16. mcclaren said: \"\"stewart has tweaked a hamstring",
                  "3": "",
                  "4": "football"
                },
                {
                  "0": "108",
                  "1": "football045.txt",
                  "2": "chelsea denied by james heroics  a brave defensive display, led by keeper david james, helped manchester city hold the leaders chelsea.  after a quiet opening, james denied damien duff, jiri jarosik and mateja kezman, while paul bosvelt cleared william gallas header off the line. robbie fowler should have scored for the visitors but sent his header wide. chelsea had most of the possession in the second half but james kept out frank lampards free-kick and superbly tipped the same players volley wide. city went into the game with the proud record of being the only domestic team to beat chelsea this season. and there was little to alarm them in the first 30 minutes as chelsea - deprived of arjen robben and didier drogba through injury - struggled to pose much of a threat. indeed, it was the visitors who looked likelier to enliven a drab opening played at a lethargic pace. shaun wright-phillips - watched by england boss sven-goran eriksson - showed his customary trickery to burst into the right of the area and deliver a dangerous ball, which was blocked by john terry. but chelsea suddenly stepped up a gear and created a flurry of chances. first, duff got round ben thatcher and blasted in a shot that james parried to kezman, who turned the ball wide.  soon afterwards, jarosik found space in the area to powerfully head lampards corner goalwards but james tipped the ball over. chelsea were now looking more like premiership leaders and james kept out kezmans fierce drive before bosvelt and james combined to clear gallas header from duffs corner. city broke swiftly up the field and the last chance of a frenetic spell should have resulted in fowler celebrating his 150th premiership goal. wright-phillips raced down the left and crossed to fowler but citys lone man up front, left free by terrys slip, contrived to head wide when it seemed a breakthrough was certain. the second half started as quietly as the first, although james was forced to divert a cross from the lively duff away from eidur gudjohnsens path. there was a nasty moment for petr cech, looking for a ninth straight clean sheet in the league, when a series of ricochets saw fowler chase a loose ball in the area and collide accidently with the czech republic stopper. another quiet spell followed, which duff interrupted with a surging run that was halted illegally on the edge of the penalty area by bosvelt. lampard stepped up to blast a shot through the wall and james somehow blocked it with his legs. another timely challenge, this time from richard dunne in time added on, prevented gudjohnsen from getting in a shot. there was still time for james to produce a sensational save to tip lampards volley round the post.  cech, paulo ferreira, gallas, terry, bridge, jarosik (tiago 56), lampard, makelele, duff, gudjohnsen, kezman (cole 63).  subs not used: johnson, smertin, cudicini.  makelele, gudjohnsen.  james, mills, distin, dunne, thatcher, shaun wright-phillips, bosvelt, barton, sibierski (mcmanaman 85), musampa, fowler.  subs not used: macken, weaver, onuoha, jordan.  bosvelt.  42,093  h webb (s yorkshire).",
                  "3": "",
                  "4": "football"
                },
                {
                  "0": "109",
                  "1": "football092.txt",
                  "2": "\"stuart joins norwich from addicks  norwich have signed charlton midfielder graham stuart until the end of the season for an undisclosed fee.  \"\"it was a very easy decision to make",
                  "3": "",
                  "4": "football"
                },
                {
                  "0": "110",
                  "1": "football086.txt",
                  "2": "\"brentford v southampton  griffin park  tuesday, 1 march  1945 gmt  barry knight (kent)  home to manchester united in the quarter-finals  midfielder andrew frampton and striker deon burton are both slight doubts with hamstring injuries, but should be fit saints are missing their entire first-choice midfield of jamie redknapp, graeme le saux, nigel quashie and david prutton. anders svensson and matt oakley are likely replacements with kevin phillips also scheduled to start, with henri camara rested.  - brentford boss martin allen: \"\"after conceding eight goals in our last three matches",
                  "3": "",
                  "4": "football"
                },
                {
                  "0": "111",
                  "1": "football253.txt",
                  "2": "chelsea 3-0 portsmouth  didier drogba scored twice as leaders chelsea extended their premiership winning sequence to seven games.  petr cech saved from matthew taylor before chelsea took control with drogba opening the scoring from short range after a neat cutback from arjen robben. frank lampards superb pass put robben through for the second before yakubu missed a great chance for pompey. drogba scored the third with a free kick while substitute mateja kezman was inches from a fourth. chelsea have not dropped a point in the premiership since drawing 2-2 at arsenal on 12 december and are moving inexorably towards their first premiership title. with arsenal not in action until sunday, chelsea lead manchester united, who moved into second by beating aston villa, by 11 points. but portsmouth are on a poor run of form, with just three wins in 11 premiership games under velimir zajec. pompey went into the game without the suspended amdy faye and lomana lualua and injured duo steve stone and andy griffin. but the visitors started well, dominating possession in the opening minutes while their esteemed opponents seemed uncharacteristically sluggish. patrik berger struck the chelsea wall with a free-kick and taylor forced cech in action with a drilled shot from a tight angle. but chelsea soon started to assert themselves on the contest with crisp, incisive passing that pompey struggled to contain. robben broke down the right and did amazingly well to stay on his feet as he cut inside past gary oneil before drilling a precise low cross for drogba to tap home. the superb robben, 21 on sunday, scored chelseas second in the 21st minute.  drogba laid the ball off to frank lampard, whose wonderfully weighted pass caught the pompey defence static. robben still had a lot to do and seemed to lose his balance after rounding jamie ashdown but kept on his feet to convert from a very tight angle. damien duff came close to a third just before the half-hour mark but ashdown saved low down. yakubu had a great chance to bring pompey back into the match but shot just wide when clean through after frank lampards poor pass had sold terry short. and his failure to put the opportunity away was clinically punished by drogba, who struck a free-kick over the wall and past ashdown after david unsworth hacked robben to the ground. oneil forced cech into action with a free-kick after the break but the keeper was equal to the test. both drogba and joe cole scuffed opportunities to extend their lead after a teasing cross from duff. drogba went down under a challenge from dejan stefanovic but appeals for a penalty were waved away by referee mike riley. mourinho introduced eidur gudjohnsen, tiago and mateja kezman - the latter coming within inches of scoring after drilling the ball across ashdowns goal. lampard almost made it four close to full-time but ashdown - at the second attempt - saved lampards dipping strike.  cech, paulo ferreira, gallas, terry, bridge, lampard, makelele, cole, robben (kezman 75), drogba (gudjohnsen 65), duff (tiago 67).  subs not used: cudicini, jarosik.  drogba 15, robben 21, drogba 39.  ashdown, cisse, primus, stefanovic, unsworth (mezague 54), kamara, oneil, hughes, taylor, berger, yakubu (fuller 65).  subs not used: hislop, de zeeuw, curtis.  42,267  m riley (w yorkshire).",
                  "3": "",
                  "4": "football"
                },
                {
                  "0": "112",
                  "1": "football247.txt",
                  "2": "\"man city 1-1 newcastle  alan shearer hit his 250th premiership goal to help newcastle earn a battling draw against manchester city.  shearer put newcastle ahead when he raced on to a raking crossfield ball from titus bramble and smashed the ball into the roof of the net. city were inept early on but levelled after the break when bramble fouled shaun wright-phillips in the box and robbie fowler scored from the spot. the home side controlled the closing stages but had to settle for a point. city had handed a debut to loan signing kiki musampa on the left-hand of midfield, while bramble was recalled to the newcastle defence after jean-alain boumsong failed a late fitness test. neither side had created anything in front of goal before the magpies took the lead with nine minutes gone. brambles long ball caught out ben thatcher, and shearer ran clear to smash the ball past david james and into the roof of the net. shearer was involved again soon after as shola ameobi came close to making it 2-0 with a curling effort from the edge of the box which flew just over. the magpies were well on top and city did not manage an effort on goal until jon macken sent a looping near-post header high and wide of the target from thatchers cross on 28 minutes.  kevin keegans men had been struggling when going forward but they were almost gifted a bizarre equaliser before the break when shay given completely mis-kicked a jermaine jenas back-pass and only just managed to recover and clear. city desperately needed to start the second half with a bang - and they got the break they needed within four minutes. mackens clever flick released wright-phillips and all bramble could do was haul him down in the box. referee andy durso had no hesitation in pointing to the spot and fowler stepped up to stroke the ball confidently home. that gave city the boost they craved and they pressed forward looking for a second goal. the tide had turned after newcastles earlier dominance and graeme souness responded by bringing on nicky butt for kieron dyer to try to increase his sides resilience. but despite city enjoying the lions share of possession the magpies were still threatening - bramble going close with a snapshot from just inside the area. by the end the torrential rain had made conditions treacherous and both sides were struggling to keep hold of the ball. there was still time for celestine babayaro to break into the box but he mis-controlled and newcastles final chance of snatching victory had gone.  - manchester city manager kevin keegan: \"\"at half-time i told the players we needed to up our tempo. we needed to get the crowd going and show we wanted to win the game. \"\"we started the second half well and at the end we were the side going to win. \"\"we would have lost this game last year but we found it within ourselves to get something out of it.\"\"   - newcastle manager graeme souness on his hopes to persuade alan shearer not to retire in the summer: \"\"he is a great example and i have not given up hope. \"\"put it this way. it will be an easier decision for him if he scores every week as he is now only 14 away from jackie milburns club record (of 186). \"\"he has now scored 250 premiership goals in a career where he has suffered two very serious injuries. without those you could have been talking somewhere in the region of 300.\"\" man city: james",
                  "3": "",
                  "4": "football"
                },
                {
                  "0": "113",
                  "1": "cricket009.txt",
                  "2": "\"pakistan accept venues compromise  the doubts surrounding pakistans tour of india have receded after the two boards agreed to move the second test from ahmedabad to calcutta.  in return for switching the test, pakistan have agreed to play an extra one-day international in ahmedabad. \"\"the tour may get delayed by three to four days",
                  "3": "",
                  "4": "cricket"
                },
                {
                  "0": "114",
                  "1": "cricket035.txt",
                  "2": "\"west indies opener rae mourned  former west indies test batsman allan rae has died in kingston, jamaica, at the age of 82 after a long illness.  rae scored 1,016 runs in 15 tests as an opener between 1948-1953, averaging 46.18 and making four centuries. he was part of the first windies team to defeat england in a test series in 1950, before quitting the first-class game to focus on his legal career. rae then went on to become president of the west indies cricket board, a position he held from 1981-1988. in his book, a history of west indies cricket, former jamaican prime minister michael manley said rae \"\"brought to the presidency some of the most important characteristics of the finest administrative leaders",
                  "3": "cricket",
                  "4": "cricket"
                },
                {
                  "0": "115",
                  "1": "cricket021.txt",
                  "2": "jayasuriya set to join somerset  somerset are expected to announce later on thursday that sri lankan batsman sanath jayasuriya will join the county for the start of the 2005 season.  chief executive peter anderson told bbc sport that the club would release a statement on the matter at 1600 gmt. jayasuriya will probably fill the place of graeme smith on a temporary basis as the south african is due to arrive in late may to captain the team. jayasuriya, 35, had rejected an offer to play for the scottish saltires. jayasuriya has played in 94 tests, averaging 43.45 with the bat and taking 89 wickets with his left-arm spin. he has also played in more one-day internationals than all but three players in world cricket with 334 appearances. but the attack-minded left-hander has never played county cricket before. it is shaping up to be a golden summer for sri lankans in english domestic cricket, with upul chandana (gloucestershire), chaminda vaas (worcestershire) and muttiah muralitharan (lancashire) all contracted. kumar sangakkara and mahela jayawardene are also reported to be looking for opportunities.",
                  "3": "cricket",
                  "4": "cricket"
                },
                {
                  "0": "116",
                  "1": "rugby010.txt",
                  "2": "newcastle 27-27 gloucester  newcastle centre mathew tait answered his critics as he scored one try and made another, but he could not stop gloucester grabbing a draw.  the falcons were 22-6 down at the break before tait, recently axed by england after just one six nations outing, inspired his side to a 27-22 lead. a last-gasp touchdown from luke narraway pulled the visitors level. but gloucester missed out on victory when henry paul fluffed the conversion and seti kiole was denied a late try. newcastle had a couple of chances at the start of the second half with line-outs in the corner. but they failed to make them count until joe shaw found dave walder, who released mark mayerholfer in his own 22.  the former all black broke clear and popped the ball up for tait on halfway. he chipped ahead for michael stephenson to scorch through for the try, which walder converted to give newcastle a lifeline. they grabbed it with both hands, mayerhofler breaking through and tait making a brilliant early run to cut inside and race 30m to score. walder converted to make it 22-20 before he was just wide with a 40m penalty in the 70th minute.  mayerhofler then scythed through the middle for a try after hall charlton popped the ball up, and walders conversion took newcastle 27-22 ahead. with three minutes of normal time left, narraway was driven over for a try in the corner which levelled the scores at 27-27. henry missed the conversion but gloucester nearly won it when kiole broke through only to be hauled down by charlton and tom may.  walder; may, tait, mayerhofler, stephenson; wilkinson, grindal; isaacson, long, ward; gross, hamilton; mccarthy, harris, dowson.  replacements: peel, wilson, thompson, parling, sititi, charlton, shaw.  goodridge; garvey, simpson-daniel, fanolua, kiole; paul, gomarsall; wood, curnier, powell; eustace, brown; forrester, buxton, balding.  replacements: elloway, sigley, cornwell, narraway, page, davies, mauger.",
                  "3": "",
                  "4": "rugby"
                },
                {
                  "0": "117",
                  "1": "football119.txt",
                  "2": "\"jansen suffers a further setback  blackburn striker matt jansen faces three weeks out after surgery to treat a cartilage problem.  but central defender lorenzo amoruso is moving closer to fitness following a knee operation. rovers assistant manager mark bowen said: \"\"matt had a small operation to trim knee cartilage. \"\"its a tiny piece of work",
                  "3": "",
                  "4": "football"
                },
                {
                  "0": "118",
                  "1": "rugby004.txt",
                  "2": "\"laporte tinkers with team  france coach bernard laporte has made four changes to the starting line-up that beat england for saturdays six nations clash with wales.  he opted for yannick nyanga in the back row instead of grand slam winner imanol harinordoquy, who is back in the squad. other changes see julien laharrague win his first cap at full-back, aurelien rougerie return after injury on the wing and yannick jauzion in at centre. but laporte has resisted fan pressure to start frederic michalak at fly-half. the dependable yann delaigue keeps the number 10 jersey, despite clamours for the flair of michalak. the 26-year-old laharrague gets his chance despite playing on the wing for his club brive.  \"\"we are launching him into the great international level",
                  "3": "",
                  "4": "rugby"
                },
                {
                  "0": "119",
                  "1": "football125.txt",
                  "2": "hearts of oak 3-2 cotonsport  hearts of oak set up an all ghanaian confederation cup final with a 3-2 win over cameroons cotonsport garoua in accra on sunday.  the win for hearts means they will play asante kotoko in the two-leg final, after the kumasi team qualified from group a on saturday. in the other group b game cameroons  beat  of south africa 3-2 in douala, neither side could have qualified for the final. hearts of oak started the game needing a win to qualify for the final while cotonsport only needed to avoid defeat to go through. louis agyemang scored the first two goals for hearts either side of half time before ben don bortey scored the third. hearts looked set for a comfortable win but cotonsport staged a late fight back scoring twice late on. first of all boukar makaji scored in the 89th minute and then 3 minutes into injury time at the end of the game andre nzame iii was on target. but it was too little too late for the cameroonians and hearts held on to win the game and a place in the final. the first leg of the final will be played in accra on the weekend of 27-28 november and the second leg two weeks later on the 11 december in kumasi. in the other group b game cameroons sable batie took the lead in the 35th minute through kemadjou before santos equalised on the hour mark thanks to thokozani xaba . bernard ngom put sable ahead just five minutes later and then ernest nfor settled the game on 68 minutes. ruben cloete scored the south african sides consolation with just three minutes left on the clock.",
                  "3": "",
                  "4": "football"
                },
                {
                  "0": "120",
                  "1": "rugby038.txt",
                  "2": "\"woodward eyes brennan for lions  toulouses former irish international trevor brennan could be one of clive woodwards many surprises when the 44-man lions tour squad is announced.  brennan, who last played for ireland against samoa in 2001, is held in high esteem by the former england coach. \"\"if you speak to the players theres a huge amount of respect for the guy",
                  "3": "",
                  "4": "rugby"
                },
                {
                  "0": "121",
                  "1": "football131.txt",
                  "2": "hereford 1-1 doncaster  hereford win 3-1 on penalties.  rovers took the lead on 59 minutes as michael mcindoes corner found adriano rigoglioso, whose stunning volley soared into the top right of the net. danny williams equalised for the hosts after 72 minutes with a crisp finish from just insist the penalty box. mcindoe saw an extra-time penalty saved, giving mills the chance to net the winning penalty.  mawson, travis, mkandawire, james, robinson, daniel williams, stanley, hyde (pitman 105), purdie (mills 83), brown, stansfield (green 102). subs not used: smith, scott.  james.  daniel williams 72.  ingham, mulligan, fenton, morley, priet (ryan 79), mcindoe, ravenhill (price 90), rigoglioso, tierney (jackson 79), beardsley, coppinger. subs not used: warrington, maloney.  rigoglioso 59.  1,375  t parkes (w midlands).",
                  "3": "",
                  "4": "football"
                },
                {
                  "0": "122",
                  "1": "atheletics039.txt",
                  "2": "\"jones medals must go if guilty  world anti-doping agency (wada) chief dick pound says marion jones should be stripped of all her medals if found guilty of taking banned substances.  victor conte, of balco laboratories, claims the american sprinter regularly used drugs to enhance her performance. \"\"if she is found guilty she should be stripped of all her medals and banned for two years",
                  "3": "",
                  "4": "atheletics"
                },
                {
                  "0": "123",
                  "1": "tennis034.txt",
                  "2": "\"hingis hints at playing comeback  martina hingis has admitted that she might consider a competitive return to tennis if an appearance in thailand later this month goes well.  the former world number one will play at the volvo womens open in pattaya, which starts on 31 january, as part of her charity work in the region. \"\"the tournament is a test",
                  "3": "tennis",
                  "4": "tennis"
                },
                {
                  "0": "124",
                  "1": "tennis020.txt",
                  "2": "martinez sees off vinci challenge  veteran spaniard conchita martinez came from a set down to beat italian roberta vinci at the qatar open in doha.  the 1994 wimbledon champion won 5-7 6-0 6-2 to earn a second round meeting with french open champion anastasia myskina. fifth seed patty schnyder also had a battle as she needed three sets to beat chinas na li 7-5 3-6 7-5. slovakian daniela hantuchova beat bulgarian magdaleena maleeva 4-6 6-4 6-3 to set up a second round clash with russian elena bovina. the veteran martinez found herself in trouble early on against vinci with the italian clinching the set thanks to breaks in the third and 11th games. but vincis game fell to pieces after that and martinez swept her aside with some crisp cross-court returns and deft volleys. in the days other matches, japans ai sugiyama defeated australian samantha stosur 6-2 6-3 while australian nicole pratt beat tunisian selima sfar 7-5 6-2 and will next face compatriot alicia molik.",
                  "3": "",
                  "4": "tennis"
                },
                {
                  "0": "125",
                  "1": "atheletics005.txt",
                  "2": "\"dibaba breaks 5,000m world record  ethiopias tirunesh dibaba set a new world record in winning the womens 5,000m at the boston indoor games.  dibaba won in 14 minutes 32.93 seconds to erase the previous world indoor mark of 14:39.29 set by another ethiopian, berhane adera, in stuttgart last year. but compatriot kenenisa bekeles record hopes were dashed when he miscounted his laps in the mens 3,000m and staged his sprint finish a lap too soon. irelands alistair cragg won in 7:39.89 as bekele battled to second in 7:41.42. \"\"i didnt want to sit back and get out-kicked",
                  "3": "",
                  "4": "atheletics"
                },
                {
                  "0": "126",
                  "1": "tennis008.txt",
                  "2": "\"federer forced to dig deep  top seed roger federer had to save two match points before squeezing past juan carlos ferrero at the dubai open.  the world number one took two hours 15 minutes to earn his 4-6 6-3 7-6 victory, saving match points at 6-4 in the tiebreak before claiming it 8-6. federer made a number of unforced errors early on, allowing ferrero to take advantage and claim the first set. but the swiss star hit back to reach the quarter-finals, where he will face seventh seed russian mikhail youzhny. the russian beat germanys rainer schuettler 7-5 6-4. federer was not unduly worried despite being taken to three sets for the third consecutive match. the world number one was forced to go the distance against ivan ljubicic in the rotterdam final and against ivo minar in the first round in dubai. \"\"i definitely had a slow start again and to come back every time is quite an effort",
                  "3": "",
                  "4": "tennis"
                },
                {
                  "0": "127",
                  "1": "atheletics011.txt",
                  "2": "\"radcliffe yet to answer gb call  paula radcliffe has been granted extra time to decide whether to compete in the world cross-country championships.  the 31-year-old is concerned the event, which starts on 19 march in france, could upset her preparations for the london marathon on 17 april. \"\"there is no question that paula would be a huge asset to the gb team",
                  "3": "",
                  "4": "atheletics"
                },
                {
                  "0": "128",
                  "1": "atheletics010.txt",
                  "2": "\"collins to compete in birmingham  world and commonwealth 100m champion kim collins will compete in the 60m at the norwich union grand prix in birmingham on 18 february.  the st kitts and nevis star joins british olympic relay gold medallists jason gardener and mark lewis-francis. sydney olympic 100m champion and world indoor record holder maurice greene and athens olympic 100m silver medallist francis obikwelu will also take part. collins ran in birmingham at the 2003 world indoor championships. \"\"im looking forward to competing against such a strong field",
                  "3": "",
                  "4": "atheletics"
                },
                {
                  "0": "129",
                  "1": "atheletics004.txt",
                  "2": "\"iaaf launches fight against drugs  the iaaf - athletics world governing body - has met anti-doping officials, coaches and athletes to co-ordinate the fight against drugs in sport.  two task forces have been set up to examine doping and nutrition issues. it was also agreed that a programme to \"\"de-mystify\"\" the issue to athletes",
                  "3": "atheletics",
                  "4": "atheletics"
                },
                {
                  "0": "130",
                  "1": "tennis009.txt",
                  "2": "nadal marches on in mexico  rafael nadal continued his run of fine form to beat guillermo canas and reach the mexican open semis in acapulco.  eighth seed nadal, who picked up his second atp title when he beat alberto martin in last weeks brazil open, saw off the argentine third seed 7-5 6-3. he now meets argentine wild card mariano puerta, who followed up his win over top seed carlos moya by overcoming spains felix mantilla, 6-4 3-6 7-6. czech fifth seed czech jiri novak was eliminated 7-5 6-1 by agustin calleri. the unseeded argentine, who won the tournament two years ago, now plays spains albert montanes. montanes advanced to his first semi-final of the year with a 4-6 6-3 6-4 triumph over sixth-seeded italian filippo volandri. argentinas agustin calleri beat fourth seed jiri novak 7-5 6-1 in a battle of former champions at the mexican open. calleri won his only atp title in acapulco two years ago while novak won the singles and doubles titles in 1998. calleri will face albert montanes in the semi-finals after the spaniard ousted sixth seed filippo volandri of italy 4-6 6-3 6-4. argentine wild card mariano puerta continued his improbable run, outlasting felix mantilla 6-4 3-6 7-6.",
                  "3": "",
                  "4": "tennis"
                },
                {
                  "0": "131",
                  "1": "tennis021.txt",
                  "2": "serena becomes world number two  serena williams has moved up five places to second in the world rankings after her australian open win.  williams won her first grand slam title since 2003 with victory over lindsay davenport, the world number one. mens champion marat safin remains fourth in the atp rankings while beaten finalist lleyton hewitt replaces andy roddick as world number two. roger federer retains top spot, but safin has overtaken hewitt to become the new leader of the champions race. alicia molik, who lost a three-set thriller against davenport in the quarter-finals, is in the womens top 10 for the first time in her career. her rise means australia have a player in the top 10 of the mens and womens rankings for the first time in 21 years. and britains elena baltacha, who qualified and then reached the third round, has risen to 120 in the world - a leap of 65 places and her highest ranking yet.",
                  "3": "",
                  "4": "tennis"
                },
                {
                  "0": "132",
                  "1": "atheletics038.txt",
                  "2": "\"radcliffe proves doubters wrong  this wont go down as one of the greatest marathons of paulas career. but as a test of character, it was the toughest race shes ever taken part in.  a win in the new york marathon doesnt make up for the disappointment of athens in any shape or form, but it will offer hope and reassurance for next year. if paulas last experience of the year had been athens, it would have been very difficult to look forward with any optimism. she can now draw a line under this year and make plans about her future. even if shed lost this race, there would have been a lot of positives to take out of it. she knows she can dig deep if she needs to. it was a strong field, with a number of the girls going into the race with expectations of winning. and although two hours 23 minutes wasnt one of paulas best times, it wasnt far off the record on a difficult course.  i was speaking to paula in the lead-up to this race and she said that in many ways she was facing a no-win situation. she thought that if she won, people would say \"\"why couldnt she do that in athens?\"\" and if she lost",
                  "3": "",
                  "4": "atheletics"
                },
                {
                  "0": "133",
                  "1": "tennis035.txt",
                  "2": "\"slovakia seal hopman cup success  slovakia clinched the hopman cup for the second time by beating argentina 3-0 in saturdays final in perth.  daniela hantuchova put the third seeds ahead, recovering from a terrible start to beat gisela dulko 1-6 6-4 6-4. dominik hrbaty, who had not lost a set in his three singles matches in the group stages, then upset world number seven guillermo coria 6-4 6-1. hantuchova and hrbaty then won the mixed doubles after coria was forced to withdraw because of a sore back. slovakias win made up for last years final defeat to the united states. \"\"i would like to congratulate daniela",
                  "3": "",
                  "4": "tennis"
                },
                {
                  "0": "134",
                  "1": "football130.txt",
                  "2": "bristol city 2-1 milton keynes  leroy lita took his goal tally to 13 for the season as his double earned city an ldv vans trophy win.  the striker finished off scott murray cross from close range just seconds before half-time. lita then made it 2-0 on 52 minutes, but dons substitute serge makofo then netted a great volley to make it 2-1. the visitors almost took the tie to extra time with a late 30-yard bullet from richard johnson which was well held by steve phillips.  phillips, amankwaah, coles, hill, fortune, murray (anyinsah 59), doherty (harley 45), dinning, bell, lita (cotterill 72), gillespie. subs not used: orr, brown.  hill.  lita 45, 52.  bevan, oyedele, ntimban-zeh, crooks, puncheon, kamara (makofo 64), chorley, herve (mckoy 45), tapp (johnson 45), mackie, pacquette. subs not used: martin, palmer.  pacquette, chorley, johnson, mckoy.  makofo 66.  3,367  j ross (essex).",
                  "3": "",
                  "4": "football"
                },
                {
                  "0": "135",
                  "1": "rugby039.txt",
                  "2": "\"scotland v italy (sat)  murrayfield, edinburgh  saturday, 26 february  1400 gmt  bbc1, five live and this website  victory for the azzurri in rome last year saw scotland end their campaign without a victory. and the pressure is on scotland coach matt williams as he seeks a first six nations victory at the eighth attempt. italy have lost both their opening games at home to ireland and wales, but travel to edinburgh with high hopes.  their coach john kirwan has warned his side they must eradicate the errors that blighted their loss to wales however or risk suffering a third successive defeat. \"\"if the defeat against wales has taught us anything",
                  "3": "",
                  "4": "rugby"
                },
                {
                  "0": "136",
                  "1": "football124.txt",
                  "2": "\"mourinho plots impressive course  chelseas win at fulham - confirming their position at the premiership summit - proves that they now have everything in place to mount serious challenges on all fronts this season.  they have got strength in depth, great players, an outstanding manager in jose mourinho and finances no other club in the world can match. all they need to add now is the big prizes which, as we all know, is the most difficult part of all. one thing is certain - they have put themselves in a position to make that leap to success very impressively indeed. they beat a very tough everton at stamford bridge, won at newcastle in the carling cup, and then won 4-1 at fulham, which was a great result given that they had been showing good form. as i said, winning the major honours is the hardest task of all, but in mourinho they have a manager who will make it a whole lot easier to handle the anticipation and expectation that will come their way now. mourinho has won the biggest club prize of all, the champions league, and that track record and confidence transmits itself to top players. it is a priceless commodity. no-one can be anything other than highly-impressed by mourinho. he is regarded as a touch arrogant by some people, and maybe he can appear that way, but he has the silverware to back up the talk. mourinho doesnt simply talk a good game - hes won some very big games such as the champions league final with porto. some may criticise his talk, but the words are backed up with actions. ive also found him to be very realistic whenever ive heard him. hes spent a lot of money and it seems to be working, and we should remember lots of managers have spent money and it has not worked. the buys are now integrating, and in arjen robben he has the player who is giving them that extra dimension.  in the early games he was slaughtered for defensive tactics, and yet he was winning games. you cannot win titles early on in the season, but you can certainly lose them and those points on the board were vital. i also thought the criticism was very harsh, because even though they were not scoring goals they were creating chances by the hatful. now they are taking those chances, have the double threat of robben and damien duff, and things are looking good. i just wonder if they lack a predator, particularly with didier drogba injured. he was starting to look the part before he was sidelined, but you have to feel if chelsea had a ruud van nistelrooy they would be even more of a safe bet for the title. chelsea also have all the tools to go far in the champions league. i felt they would never have a better chance than last season, but they have swept all before them in europe so far this season. it will now be very interesting to see how mourinho prioritises things, but his life will be made easier by the size of chelseas squad. i have said i believed chelsea would win the league this season, even when arsenal were flying at the start, and i have seen nothing to make me change me mind.  if anything, what i have seen has confirmed my early impressions. and chelsea would have taken encouragement from arsenals rocky defensive display at spurs, even though they ran out 5-4 winners. mourinho had his say on that game, complaining: \"\"five-four is a hockey score",
                  "3": "",
                  "4": "football"
                },
                {
                  "0": "137",
                  "1": "rugby005.txt",
                  "2": "\"lewsey puzzle over disallowed try  englands josh lewsey has claimed he was denied a late try in his sides six nations loss to ireland.  the wasps wing insisted he grounded the ball when he was bundled over the line and said referee jonathan kaplan had made a wrong decision. \"\"im positive i touched the ball down over the line",
                  "3": "",
                  "4": "rugby"
                },
                {
                  "0": "138",
                  "1": "football118.txt",
                  "2": "can smith work scottish wonders?  the worst kept secret in scottish football was revealed on thursday when walter smith was named as the new national manager.  from the moment berti vogts miserable tenure in charge of scotland ended, the former rangers and everton boss has been the overwhelming favourite for the post. but is smith the man for what must be one of the hardest jobs in football? the 56-year-old takes over at a time when the national side is in the doldrums. scotland have not reached a major finals since the world cup in 1998 and reaching germany 2006 looks near impossible, having picked up just two points from the opening three games in the qualifying race. and the fifa rankings see scotland listed at an all time low of 77th, below the likes of estonia, ghana, angola and thailand. scotland are not blessed with quality players with experience at the top level, so smith will have to get the best out of meagre resources. smiths track record make impressive reading and he is widely respected within the game. the man who was alex fergusons assistant when scotland played at the 1986 world cup won seven league titles with rangers. and his appointment has been widely endorsed by many of the games top names, including ferguson and graeme souness, who took him to ibrox as his assistant in 1986. characters like souness, ferguson and current ibrox manager alex mcleish all cite smiths experience and his expansive knowledge of the scottish game.  much was made of vogts inability to express himself to the players and media. that will certainly not be the case with smith. the former dundee united and dumbarton full-back is from the managerial old school - straight talking and never slow to let players know when he expects better (often with the use of some colourful invective). but it should be remembered vogts came to scotland with an impressive curriculum vitae - a world cup winner as a player and a european championships winner as a manager. smith will inherit the same problems vogts had - a callow squad of players with no exceptional talents. and it remains to be seen if smith will experience the rash of call-offs that blighted so much of vogts preparation work. a fresh start for the scottish national team was imperative and smith is widely regarded as a safe pair of hands. but will a safe pair of hands be enough when the adroit hands of a magician might be required...",
                  "3": "football",
                  "4": "football"
                },
                {
                  "0": "139",
                  "1": "rugby011.txt",
                  "2": "\"london irish 19-33 wasps  wasps made light of the absence of several internationals to sink london irish with a trio of second-half tries.  rob hoadley returned to haunt his old club at the madejski stadium, scoring the opening try in the 43rd minute. tom voyce powered through the irish defence for wasps second try before richard birkett went over unchallenged. mark van gisbergen added 18 points. irish replied with three penalties and a mark mapletoft drop goal before scott staniforth ran in a consolation try. barry everitt, who replaced mapletoft late in the game, added the conversion to become the fourth premiership player to reach 1,000 points. he joins jonny wilkinson, tim stimpson and paul grayson in achieving that target. wasps piled on the pressure in an attempt to grab a fourth try which would have secured them a bonus point, but they were denied by some desperate defending from irish. director of rugby warren gatland revealed that harsh words at half-time inspired his wasps side to raise their game after the restart.  \"\"they got a roasting and it was a good second-half performance when they came out and played to instructions",
                  "3": "rugby",
                  "4": "rugby"
                },
                {
                  "0": "140",
                  "1": "cricket020.txt",
                  "2": "\"batting prospects excite vaughan  england skipper michael vaughan is excited over a potential middle-order allegiance between andrew flintoff and kevin pietersen this summer.  provided flintoff is fully recovered from an ankle operation, he and pietersen may pose a big threat to australia in the ashes test series. \"\"if those two get going there will be a need for helmets in the crowd",
                  "3": "",
                  "4": "cricket"
                },
                {
                  "0": "141",
                  "1": "cricket034.txt",
                  "2": "\"pakistan promised tough warm-up  tour match, dharamshala: indian board presidents xi v pakistan  match starts 0400 gmt thursday  batsman kaif will lead a board presidents xi in a three-day game at dharamshala after being overlooked by india for next weeks first test. the ground is 1,300 feet above sea level but pakistan do not expect conditions to be a problem. \"\"we have played in johannesburg",
                  "3": "",
                  "4": "cricket"
                },
                {
                  "0": "142",
                  "1": "cricket008.txt",
                  "2": "\"bracewell worried by lee  new zealand coach john bracewell is furious that australia paceman brett lee has bowled four beamers at his batsmen in the current one-day series.  brendon mccullum was struck on the arm by a waist-high full toss in auckland on sunday, a match australia won. bracewell said: \"\"hes been apologetic every time hes done it. \"\"he was apologetic when he did it to chris harris",
                  "3": "",
                  "4": "cricket"
                },
                {
                  "0": "143",
                  "1": "football246.txt",
                  "2": "blackburn 0-1 chelsea  chelsea extended their lead at the top of the premiership to 11 points with a slender victory away at blackburn.  arjen robben grabbed the winner after five minutes, drilling under the body of brad friedel from 20 yards. blackburn had their chance to equalise from the spot when paulo ferreira tripped robbie savage but petr cech saved brilliantly from paul dickov. the game also saw cech break peter schmeichels record for the longest run without conceding a premiership goal. the 22-year-old had only to survive four minutes to hold the record outright and by the time the whistle had gone he had extended it to 781 minutes. it was a lively start for the runaway leaders, with robben and damien duff immediately testing the home defence with their blistering pace down the flanks. it was dutch destroyer robben who made the early breakthrough, latching on to an eidur gudjohnsen header to turn ryan nelson inside out and fire under the body of friedel from 20 yards. blackburn took their frustration at conceding out on robben, aaron mokoenas clumsy tackle forcing him off after just 10 minutes, the goalscorer cutting a dejected figure as he trudged off the pitch and down the tunnel.  but with joe cole on in his place the blues did not take their foot off the gas, duff hitting a rocket that forced friedel to scamper across his line and clutch the ball gratefully to his chest. blackburn eventually awoke from their slumber with mokoena drilling over and andy todd heading wide before savage went close twice in a minute, the second a blistering strike that whistled wide with cech well beaten. on the hour mark the hosts got the perfect opportunity to level, referee uriah rennie pointing to the spot after ferreira was adjudged to have clipped savages legs in the box. but cech was more than equal to dickovs low spot-kick, sprawling away to get his giant left hand in the way and extend his record further in the process. dickov was caught up in controversy after the chelsea defenders were unhappy with him twice leaving his foot in on cech - once after the penalty - and dominic matteo was booked for a reckless lunge on cole as blackburn threatened to lose their discipline. chelsea looked comfortable after the break, settling for soaking up blackburn pressure and hitting their hosts on the counter-attack. cole and frank lampard both saw efforts fly wide as chelsea sought to extend their slender advantage, though in truth their rock-solid defence never looked like being breached. dickov continued to pester and probe and search for anything resembling an opening, but blackburn were simply not up to the task of penetrating a defence that has now shipped just eight goals in 25 league games. indeed after a relatively quiet game it was gudjohnsen who sprang to life as the clock ticked down, first lifting a shot over friedel and wide and then volleying past the post. dickov hit a low effort that forced cech to comfortably gather but chelsea held on to record their eighth premiership win in a row.  friedel, neill, todd, nelsen, matteo, emerton, thompson (reid 81), mokoena, savage, pedersen, dickov.  subs not used: amoruso, tugay, enckelman, johnson.  matteo, dickov.  cech, paulo ferreira, gallas, terry, bridge, tiago, makelele, lampard, duff, gudjohnsen (kezman 82), robben (cole 11), cole (jarosik 79).  subs not used: johnson, cudicini.  terry, kezman.  robben 5.  23,414.  u rennie (s yorkshire).",
                  "3": "",
                  "4": "football"
                },
                {
                  "0": "144",
                  "1": "football252.txt",
                  "2": "\"morientes admits to reds struggle  liverpool striker fernando morientes has admited he is struggling to adapt to life in the premiership.  the spain interational has played twice for the club, losing both times, since his £6.3m move from real madrid. \"\"i am finding it hard to adapt but i am better now",
                  "3": "",
                  "4": "football"
                },
                {
                  "0": "145",
                  "1": "football087.txt",
                  "2": "\"desailly backs blues revenge trip  marcel desailly insists there is no chance of history repeating itself when chelsea take on barcelona on wednesday.  the french star was part of the chelsea side crushed 5-1 at the nou camp in the champions league quarter-final second leg in 2000. \"\"things will be totally different this time",
                  "3": "",
                  "4": "football"
                },
                {
                  "0": "146",
                  "1": "football093.txt",
                  "2": "\"celtic make late bid for bellamy  newcastle striker craig bellamy is discussing a possible short-term loan move to celtic, bbc sport understands.  the welsh striker has rejected a move to birmingham after falling out with magpies manager graeme souness. the toon boss vowed bellamy would not play again after a bitter row over his exclusion for the game against arsenal. celtic are in no position to match birminghams £6m offer but a stay until the end of the season could suit bellamy while he considers his future. according to bellamys agent, the player dismissed a permanent move to birmingham. and it is unlikely that newcastle would allow the player to go on loan to another premiership club.  bellamy was fined two weeks wages after a live tv interview in which he accused souness of lying, following a very public dispute about what position bellamy should play in the side. souness said: \"\"he cant play for me ever again. he has been a disruptive influence from the minute i walked into this football club. \"\"he cant go on television and accuse me of telling lies.\"\" chairman freddy shepherd described bellamys behaviour as \"\"totally unacceptable and totally unprofessional\"\".\"",
                  "3": "football",
                  "4": "football"
                },
                {
                  "0": "147",
                  "1": "football044.txt",
                  "2": "\"bellamy under new fire  newcastle boss graeme souness has reopened his dispute with craig bellamy after claiming the welshman was \"\"not good enough\"\" for the magpies. bellamy left newcastle to join celtic on loan after a major row with souness. souness - who refused to refer to the 25-year-old by name - said bellamy did not score enough goals \"\"the chap thats just gone has scored 9.3 goals a season in his time in senior football - half of those werent even in the top flight",
                  "3": "football",
                  "4": "football"
                },
                {
                  "0": "148",
                  "1": "football050.txt",
                  "2": "\"souness delight at euro progress  boss graeme souness felt newcastle were never really in danger of going out of the uefa cup against heerenveen.  an early own goal followed by an alan shearer strike earned them a 2-1 win and a place in the uefa cup last 16. \"\"obviously with winning in the first leg it gave us a great advantage",
                  "3": "",
                  "4": "football"
                },
                {
                  "0": "149",
                  "1": "football078.txt",
                  "2": "\"mourinho receives robson warning  sir bobby robson has offered chelsea boss jose mourinho some advice on coping under pressure.  the pair worked together at barcelona and porto and robson had a word of warning for his protege. \"\"it has all gone for him just lately and that is marvellous",
                  "3": "",
                  "4": "football"
                },
                {
                  "0": "150",
                  "1": "football037.txt",
                  "2": "\"newry to fight cup exit in courts  newry city are expected to discuss legal avenues on friday regarding overturning their ejection from the nationwide irish cup.  the ifa upheld its original decision to throw newry out of the cup following the andy crawford registration row. a law firm will put a case forward for newry fc, and see what the legal implications of all this is are, said newry boss roy mccreadie. this is a big issue, now that we have an appeal pending, on wednesday, a fresh ifa hearing into crawford registration saga, ruled that last weeks original verdict had been correct. it meant that bangor, beaten 5-1 by newry on the field, will take on portadown in the sixth round. newry had claimed they had uncovered \"\"fresh evidence\"\"",
                  "3": "",
                  "4": "football"
                },
                {
                  "0": "151",
                  "1": "football023.txt",
                  "2": "sociedad set to rescue mladenovic  rangers are set to loan out-of-favour midfielder dragan mladenovic to real sociedad, despite the closure of the january transfer window.  sociedad have been given special permission by the spanish fa to sign a player due to an injury crisis. mladenovic will effectively replace former rangers midfielder mikel arteta, who has been loaned to everton. sociedad say they will pay rangers £150,000, with an option to buy the serbia & montenegro international. mladenovics loan move is subject to him passing a medical. the 28-year-old, who joined rangers from red star belgrade for £1.2m in the close season, is expected in san sebastian later this week following his national sides game against bulgaria. sociedad are in 15th place in the 20-strong primera liga, just two points above the relegation zone. special permission from the spanish fa came after an injury to central defender igor jauregi. the versatile mladenovic can also play in the back four. his agent said last month that rangers had told him to find the player a new club. mladenovics time at ibrox has been plagued with injury and he has made just six starts in six months with the glasgow club.",
                  "3": "",
                  "4": "football"
                },
                {
                  "0": "152",
                  "1": "rugby102.txt",
                  "2": "\"lions blow to world cup stars  british and irish lions coach clive woodward says he is unlikely to select any players not involved in next years rbs six nations championship.  world cup winners lawrence dallaglio, neil back and martin johnson had all been thought to be in the frame for next summers tour to new zealand. \"\"i dont think you can ever say never",
                  "3": "",
                  "4": "rugby"
                },
                {
                  "0": "153",
                  "1": "rugby116.txt",
                  "2": "\"wasps thrown out of powergen cup  zurich premiership champions wasps have been disqualified from the powergen cup by the rugby football union (rfu) for fielding an ineligible player.  hooker jonny barrett played in wasps sixth-round 43-33 win over bristol last weekend even though he was cup-tied. the ruling by the rfu is unprecedented in english rugby and means bristol will take wasps quarter-final place against local rivals gloucester on 22 january. wasps have no plans to appeal against the decision. \"\"the club has admitted its mistake and needs to take the punishment like all clubs in this tournament",
                  "3": "rugby",
                  "4": "rugby"
                },
                {
                  "0": "154",
                  "1": "football235.txt",
                  "2": "city tie on as weather hits games  oldham athletics fa cup tie against manchester city will go ahead despite severe weather conditons, which have hit several games across britain.  fans had to wait until noon for the match to be given the green light after high winds caused structural damage to two of the stands at boundary park. on friday, burnleys tie against liverpool was called off due to a waterlogged pitch. bad weather has also forced several scottish cup matches to be postponed. gretnas tie against dundee united, mortons match at livingston and airdrie united at ross county were all called off. elsewhere in scotland, third division matches between albion rovers and queens park and elgin and peterhead were also postponed.",
                  "3": "atheletics",
                  "4": "football"
                },
                {
                  "0": "155",
                  "1": "football221.txt",
                  "2": "fa cup losing its sheen  the fa cup used to be sacrosanct.  regardless of the demands on the top teams they would always field their strongest teams in the fa cup. nobody messed about with the fa cup and it is disappointing that this has changed.  it has all come about from the number of competitions that the top sides enter and the amount of games they play in a season. im not saying there are necessarily more competitions but more teams play in europe and the champions league is fixture intensive. foreign coaches in particular seem to want to rest more players in the fa cup - they probably dont realise the stature and long history of the competition. the champions league is the main competition for the top managers, followed by the premiership and the fa cup comes in a poor third. i think this is bound to affect the way in which people view the competition - and it takes some of the gloss off burnleys brilliant victory over liverpool.  liverpool boss rafael benitez fielded a lot of their youngsters who usually play in the reserves and burnley were justifiable winners. they played some good football, were well organised and had too much experience for their opponents. i think the majority of championship teams are now too good for premiership reserve sides. nonetheless, as a manager of a championship team i would always rather play a full-strength premiership team. obviously coming up a side without many first-choice players increases your chances of winning the tie but you want to play against the big names. as burnley boss steve cotterill correctly pointed out, liverpool had some good players in their team, but it was not a full-strength side and that tarnishes the result. the glory is not quite the same. by not playing their first team it almost gives liverpool an excuse for going out. i was delighted that aston villa played their best side when we played them.  our victory, along with burnleys win on tuesday, sunderlands victory over crystal palace and west hams defeat of norwich is good news for the championship. it shows the quality that is within the championship - and how little difference there is between the top clubs in the division and the lower-end premiership clubs. finally this week, a word on the dispute between sir alex ferguson and arsene wenger. there have been calls for a summit to end the row - but if im honest i have to say i enjoy reading about it. alex and arsene are two experienced managers who know what they are doing and i say let them get on with it. the big winner from all of this is chelsea boss jose mourinho. i really enjoy watching his post-match news conferences and he has been a breath of fresh air in the premiership. manchester united and arsenal have had it their own way for so long that it is good to have a new kid on the block.",
                  "3": "football",
                  "4": "football"
                },
                {
                  "0": "156",
                  "1": "football209.txt",
                  "2": "owen may have to return home  michael owen has delivered the first hint that he may consider his future away from real madrid if he fails to get regular first-team football - and no-one can blame him.  owen displayed his world-class ability once again with another goal after coming on as a substitute in reals win at osasuna on sunday. and therein lies his problem. michael may have made a rod for his own back with his fantastic performances coming on as substitute. his many coaches at real madrid may have decided this is his best role. if that is the case, that is no good to him and he will be coming home sooner rather than later. michael must hope his performances earn him a regular starting opportunity - and you can rest assured he will take that chance when it comes. i said when he was on the bench earlier this season that michaels pride would ensure he stuck it out. he would not want to be branded a failure. but he is still on the bench and we are into february - and he could leave now and no-one could call him a flop after the terrific performances he has turned in. if and when he decides to leave, i dont think he will go elsewhere in europe. i think he will come back to the premiership. and there would be no shortage of takers. in an ideal world i would obviously love to see him return to liverpool but you can rest assured that arsenal and chelsea would consider what michael owen could offer them as well. owen is a great goalscorer but he is also a very good footballer as well. but one thing that is vital to michaels game is sharpness - and he will know himself that you miss a vital ingredient when you are not starting games. also michael is a fine professional who did not sign for real madrid to sit on the sidelines - no matter how many galacticos are around him. i would expect some serious interest should he fail to win a regular place.  - chelsea have given the lie to claims that they are enjoying good fortune in their quest for the title - but they will do well just to have a look in their rear-view mirror at manchester united.  sir alex ferguson played the mind games by suggesting chelsea would struggle in the north - but theyve answered that one. they beat blackburn, who didnt half put a foot in against them, and then came through a real tough one at everton, albeit aided by james beatties sending off. chelsea have done brilliantly and you do not keep clean sheets like they do by luck alone. but all manchester united can do is keep up the pressure - and boy are they doing that. no team has ever been better at chasing down the leaders than manchester united. fergusons team will stay totally committed to the cause. it is still very much chelseas to lose and they have shown they can battle as well as play exhilarating football, so the odds must be on them. but the old liverpool saying was that you have never won the title until the medal is in your hand - and united will still have their sights set on snatching them away from chelsea. the big talking point of the weekend was beatties sending off for everton against chelsea. ive got to confess, ive never seen anything like that. i cant defend the lad or condone it but you can almost see how it has happened. he has come out fired up but its all gone wrong. it was right in front of the referee and its the most straightforward red youll ever see. it gave chelsea a crucial advantage - and it was one they took advantage of in a very professional manner.",
                  "3": "football",
                  "4": "football"
                },
                {
                  "0": "157",
                  "1": "cricket053.txt",
                  "2": "south africa recall spinner boje  south africa have recalled spinner nicky boje for the first test against england, which begins on 17 december.  boje missed the recent tour of india because of fears he would be called in for questioning by indian police over match-fixing allegations. pace bowler dale steyn and opening batsmen ab de villiers are new faces in a 13-man squad. despite suffering poor form in india, new wicket-keeper thami tsolekile has been preferred to mark boucher. there is no place for opener herschelle gibbs, who has been struggling with a finger injury after missing the india trip, and spin all-rounder justin ontong has been dropped. nicky boje, who underwent minor surgery to remove a growth in his neck, will have to pass a fitness test before the match. port elizabeth, where the first test is being held, is south africas most spin-friendly venue.  graeme smith (capt), nicky boje, hashim amla, zander de bruyn, ab de villiers, boeta dippenaar, andrew hall, jacques kallis, makhaya ntini, shaun pollock, jacques rudolph, dale steyn, thami tsolekile (wkt).",
                  "3": "",
                  "4": "cricket"
                },
                {
                  "0": "158",
                  "1": "cricket047.txt",
                  "2": "\"boycott slams chucking plan  geoff boycott has condemned the international cricket councils proposal to relax rules on chucking.  the former england batsman said the move was made to benefit sri lanka spinner muttiah muralitharan, whose \"\"doosra\"\" ball could soon be legal. \"\"i think its been brought in through pressure from sri lanka and muralis supporters",
                  "3": "cricket",
                  "4": "cricket"
                },
                {
                  "0": "159",
                  "1": "cricket090.txt",
                  "2": "bangladesh build platform  first test, chittagong, day two (stumps): bangladesh 488 v zimbabwe 84-4  they began by extending their overnight 280-4 by 208 in just over two sessions, for their highest test total of 488. rajin saleh led the way with 89 and mohammad rafique hit four sixes in his 69, sharing stands of 69 and 62 with khaled mashud and mashrafe bin mortaza. zimbabwe then lost four wickets inside 21 overs before a slight recovery. the home side had only passed 400 twice previously in 34 tests, scoring 400 against india in their inaugural match in 2000 and 416 in the west indies last year. they suffered an early setback when aftab ahmed was lbw to christopher mpofu for six in the third over of play.  but saleh, who was 60 not out overnight, progressed to his best score in tests before departing with the total on 341. mashuds innings was sedate in tempo, taking up 120 balls and featuring only six boundaries, and he was denied a half century when he became 18-year-old graeme cremers first test victim. leg-spinner cremer found the edge and mluleki nkala, the sole slip fielder, made no mistake. mashuds departure signalled an end to the niceties as rafique and mortaza tore into tiring bowlers.  in contrast to the opening session in which only 66 runs were scored, the duo went along at six an over before rafique was caught behind off mpofu. but mortaza struck eight fours as he went past his previous best of 29, reaching 40 not out at tea. mpofu bowled tapash baisya for six in the first over following the re-start, but mortaza responded by hoisting matsikenyeri over mid-wicket for six. the innings finally came to an end when mortaza, on 48, cut a ball from cremer into the hands of vusi sibanda at backward point. mpofu finished with 4-109 for the zimbabweans in his debut test appearance. matsikenyeri got zimbabwe off to a fluent start, with five fours in his 28 from 30 balls before he was caught at slip in the eighth over. vusimuzi sibanda scored all of his 12 runs in boundaries before he was trapped by mohammad rafique, the left-arm spinner also snaring cremer third ball for a duck. opener barney rogers was more watchful, taking 28 deliveries to open his account, but he was run out at the non-strikers end when enamul haque diverted a ball onto the stumps. hamilton masakadza remained undefeated, with four fours in his 28, sharing an unbroken 25 with brendon taylor who hit two fours in his eight not out, as three boundaries came in the final two overs.  habibul bashar (captain), khaled mashud, nafis iqbal, javed omar, mohammed ashraful, rajin saleh, aftab ahmed, mohammed rafique, enamul haque, tapash baishya and mashrafe bin mortaza.  tatenda taibu (captain), elton chigumbura, stuart matsikenyeri, barney rogers, vusimuzi sibanda, hamilton masakadza, brendan taylor, graeme cremer, christopher mpofu, douglas hondo, mluleki nkala. umpires: t wijewardena (sri), asad rauf (pkn)",
                  "3": "",
                  "4": "cricket"
                },
                {
                  "0": "160",
                  "1": "cricket084.txt",
                  "2": "england eye win after thorpe ton  second test, durban, day four (close): england: 139 & 570-7d v south africa 332 & 21-1  thorpe shared in stands of 114 with andrew flintoff (60) and 132 with geraint jones (73) after england had lost three for 21 in the morning. the left-handers 16th test ton came off 209 balls and included 15 fours. the hosts fell to 21-1 at stumps, with matthew hoggard trapping home skipper graeme smith lbw for five. to win, south africa will have to break their own chasing record at the ground, which they set in 2002 when scoring 340 to beat australia. on day three south africa waited all day for a wicket, but three came along at once when play resumed on the fourth. makhaya ntini was the man to ignite the flame, tempting andrew strauss into a dalliance outside the off-stump which was pouched by martin van jaarsveld at third slip.  the prolific opener had added only four runs to his overnight 132 when departing. ntini followed up with the wicket of michael vaughan, whose poor run continued when he was cramped up by a short ball and gloved behind for 10, taking his four-innings aggregate this series to 53. shaun pollock was doing a fine job tying up his end, and england soon fell to 314-4 when jacques kallis put an end to mark butchers painful 70-ball 13. it left the visitors leading by just 121 with the middle-order exposed, but the lack of depth in south africas attack gave england the chance to stabilise. with graeme smith forced to rely on support acts dale steyn (1-122) and nicky boje (1-163), england reasserted thanks to thorpe and his partnerships with flintoff and jones. flintoff, careful to avoid a pair of ducks, was indecisive early on, edging streakily for four and being struck on the shoulder in one steyn over. but the all-rounder ended the first session with a full-blooded cover-drive that sent steyn to the fence, and he carried on in similar vein after the interval. a six off pollock over long-on was followed by two more off ntini over square-leg, and flintoff emulated thorpe by reaching 50 with a boundary. south africas only strike of the afternoon came when smith offered a long-hop to flintoff and enticed an edge, which ab de villiers gloved behind the stumps. englands scoring rate increased when jones came to the crease, and he complemented thorpes grafting approach with some abrasive strokeplay. the keeper blazed 73 off 82 balls, with 10 fours and two sixes, as england chased quick runs prior to the declaration, joining thorpe in top-edging the hapless steyn over the keepers head on numerous occasions. south africa were forced to place a fielder at long-stop, but the runs continued to flow until jones holed out at long-on to give boje his sole strike. ashley giles, who will be fit to bowl in day five after suffering back spasms, came out to bat, but his swift removal by steyn prompted the declaration.  graeme smith (captain), herschelle gibbs, jacques rudolph, jacques kallis, martin van jaarsveld, hashim amla, ab de villiers, shaun pollock, nicky boje, makhaya ntini, dale steyn.  marcus trescothick, andrew strauss, mark butcher, michael vaughan (captain), graham thorpe, andrew flintoff, geraint jones, ashley giles, matthew hoggard, simon jones, stephen harmison.  d hair, s taufel.",
                  "3": "",
                  "4": "cricket"
                },
                {
                  "0": "161",
                  "1": "football143.txt",
                  "2": "english clubs make euro history  all four of englands champions league representatives have reached the knockout stages for the first time.  arsenal and chelsea are seeded as group winners, while runners-up manchester united and liverpool are not. rules stipulate that teams from the same country or group will be kept apart in the draw on 17 december. the favourites are chelsea and barcelona, and real madrid, the two milan sides, juventus and bayern munich are among the 16 still in the hat.  steven gerrards last-gasp wonder-strike secured qualification for  against olympiakos on wednesday evening.  ac milan, bayer leverkusen, internazionale, juventus, lyon.  who had already qualified, fielded a second-string side and went down 3-0 to fenerbahce.  ac milan, bayer leverkusen, internazionale, juventus, monaco.  on tuesday,  finished top of their group with a 5-1 win over the rosenborg after drawing four of their first five matches.  barcelona, bayern munich, porto, real madrid, werder bremen  , who had already qualified lost 2-1 to porto as jose mourinho made an unhappy return to his former club.  barcelona, bayern munich, psv eindhoven, real madrid, werder bremen.",
                  "3": "",
                  "4": "football"
                },
                {
                  "0": "162",
                  "1": "football157.txt",
                  "2": "\"bates seals takeover  ken bates has completed his takeover of leeds united.  the 73-year-old former chelsea chairman sealed the deal at 0227 gmt on friday, and has bought a 50% stake in the club. he said: \"\"im delighted to be stepping up to the mantel at such a fantastic club. i recognise leeds as a great club that has fallen on hard times. \"\"we have a lot of hard work ahead to get the club back where it belongs in the premiership",
                  "3": "",
                  "4": "football"
                },
                {
                  "0": "163",
                  "1": "rugby076.txt",
                  "2": "\"ruddock backs yapps credentials  wales coach mike ruddock says john yapp has what it takes as an international.  the 21-year-old blues prop is the only uncapped player in wales six nations squad, gaining a chance in the absence of ospreys loose-head duncan jones. \"\"john is a young man with a big future. he has been playing with the blues for two years and has racked up mileage on his playing clock",
                  "3": "",
                  "4": "rugby"
                },
                {
                  "0": "164",
                  "1": "tennis091.txt",
                  "2": "\"roddick to face saulnier in final  andy roddick will play cyril saulnier in the final of the sap open in san jose on sunday.  the american top seed and defending champion overcame germanys tommy haas, the third seed, 7-6 (7-3) 6-3. \"\"i was feeling horrible earlier in the week",
                  "3": "",
                  "4": "tennis"
                },
                {
                  "0": "165",
                  "1": "tennis085.txt",
                  "2": "\"soderling wins tense milan final  fifth seed robin soderling took the milan indoors title with a dramatic win over radek stepanek in sundays final.  the 20-year-old swede edged the final set tie-break for a 6-3 6-7 (2-7) 7-6 (7-5) victory and his second tour title after winning in lyon last year. \"\"im delighted to have won against such a good opponent in a tournament of this importance",
                  "3": "",
                  "4": "tennis"
                },
                {
                  "0": "166",
                  "1": "rugby062.txt",
                  "2": "\"wilkinson return unlikely  jonny wilkinson looks set to miss the whole of the 2005 rbs six nations.  englands world cup-winning fly-half said last week he was hoping to recover from his latest injury in time to play some role in the championship. but rob andrew, coach of wilkinsons club side newcastle, said that with only two games left to play wilkinson was unlikely to be fit in time. \"\"it would be irresponsible to put him straight into a test match",
                  "3": "",
                  "4": "rugby"
                },
                {
                  "0": "167",
                  "1": "atheletics088.txt",
                  "2": "\"jones files lawsuit against conte  marion jones has filed a lawsuit for defamation against balco boss victor conte following his allegations that he gave her performance-enhancing drugs.  the sydney olympic gold medallist says conte damaged her reputation and she is seeking $25m (£13m) in the suit. conte, whose company is at the centre of a doping investigation, made the claims in a us television programme. he and three others were indicted in february by a federal grand jury for a variety of alleged offences. in an email to the associated press on wednesday, conte said: \"\"i stand by everything i said\"\". jones won three gold medals and two bronzes in sydney in 2000. her lawsuit",
                  "3": "",
                  "4": "atheletics"
                },
                {
                  "0": "168",
                  "1": "football180.txt",
                  "2": "\"gerrard happy at anfield  liverpool captain steven gerrard has reiterated his desire to stay at anfield and win trophies with the club.  the 24-year-old england midfielder is determined to see out his contract, despite reported interest from chelsea. he said: \"\"im signed here for this season and another two so there is no situation. theres a lot of speculation but thats not down to me. \"\"as club captain all i want to do is help us get back up the table and into the champions league again.\"\" gerrard looked set to move to chelsea during the summer and speculation of a switch to stamford bridge has again arisen",
                  "3": "",
                  "4": "football"
                },
                {
                  "0": "169",
                  "1": "atheletics063.txt",
                  "2": "\"holmes urged to compete at worlds  jolanda ceplak has urged britains kelly holmes to continue competing at the major championships.  double olympic gold medallist holmes has strongly hinted she will not run in this years worlds and is undecided about next months european indoors. but world indoor 800m record holder ceplak said: \"\"there is never an easy race when she is in the field. there is only excitement at what might happen. \"\"it is good for the sport. she always fetches the best out of everyone.\"\" ceplak has been a great rival of holmes during the britons career and the pair fell out when holmes questioned the manner of the slovenians runaway 800m victory at the 2002 european championships. but the controversy has since been forgotten",
                  "3": "",
                  "4": "atheletics"
                },
                {
                  "0": "170",
                  "1": "rugby089.txt",
                  "2": "\"wru proposes season overhaul  the welsh rugby union wants to restructure the northern hemisphere season into four separate blocks.  the season would start with the celtic league in october, followed by the heineken cup in february and march, and the six nations moved to april and may. after a nine week break, the wru then proposes a two-month period of away and home international matches. wru chairman david pickering said the structure would end problems of player availability for club and country. he added: \"\"we feel sure that spectator interest would respond to the impetus of high intensity rugby being played continuously rather than the fragmented timetable currently in operation. \"\"equally",
                  "3": "rugby",
                  "4": "rugby"
                },
                {
                  "0": "171",
                  "1": "football194.txt",
                  "2": "\"keane returns to republic squad  manchester united skipper roy keane is back in the republic of ireland squad for the 9 february friendly against portugal at lansdowne road.  keane was rested for the last game with croatia in november but has been recalled as boss brian kerr prepares for a world cup qualifier in israel. clinton morrison, stephen carr, andy obrien, matt holland, andy reid and jon macken are all back after injury. chelsea winger damien duff is set to win his 50th international cap. kerr has named a 27-man squad with the emphasis on getting the right blend between experience and youth. \"\"this match is the perfect preparation for our next world cup game against israel in tel aviv on 26 march",
                  "3": "",
                  "4": "football"
                },
                {
                  "0": "172",
                  "1": "atheletics077.txt",
                  "2": "yelling takes cardiff hat-trick  european cross-country champion hayley yelling completed a hat-trick of wins in the reebok cardiff cross challenge in bute park on sunday afternoon.  the part-time maths teacher beat irish international jolene byrne by 40 metres in the six-kilometre race. another great britain international, louise damen, finished third as part of the contingent representing england. peter riley, who secured bronze for the gb mens team at last months european championships, won the mens 9km race. riley, representing england, moved away over the last two kilometres to win by 25 metres from irelands gary murray. glynn tromans - the reigning uk inter-countries and england cross-country champion - came in third place as he continues his comeback from a five-month injury lay-off.",
                  "3": "",
                  "4": "atheletics"
                },
                {
                  "0": "173",
                  "1": "tennis052.txt",
                  "2": "\"bryan twins keep us hopes alive  the united states kept the davis cup final alive with victory in saturdays doubles rubber, leaving spain 2-1 ahead going into the final day.  masters cup champions mike and bob bryan thrashed juan carlos ferrero and tommy robredo 6-0 6-3 6-2 in front of a partisan crowd in seville. victory would have given spain the title but they were outclassed. in sundays reverse singles, carlos moya takes on andy roddick before rafael nadal faces mardy fish. \"\"it feels good",
                  "3": "",
                  "4": "tennis"
                },
                {
                  "0": "174",
                  "1": "tennis046.txt",
                  "2": "\"moya clinches cup for spain  spain won the davis cup for the second time in their history when carlos moya beat the usas andy roddick in the fourth rubber in seville.  moya won 6-2 7-6 (7-1) 7-6 (7-5) to give the hosts an unassailable 3-1 lead with only one singles rubber remaining. roddick battled hard and had chances in the second set, but moyas clay-court expertise proved the difference. mardy fish beat tommy robredo 7-6 (8-6) 6-2 in the final dead rubber to cut spains winning margin to 3-2. spains only other davis cup title came in 2000, when they beat australia in barcelona. this time they chose to play the final in seville and the citys olympic stadium was revamped to allow for a record crowd for a competitve tennis event of 27,000 spectators. and the home fans gave vociferous support to their players, with 18-year-old nadal and moya winning both fridays singles rubbers. american twins mike and bob bryan gave the visitors hope with victory over juan carlos ferrero and tommy robredo in saturdays doubles. but it remained an uphill task for a us team far happier on hard courts than clay, and 1998 french open champion moya had too much for world number two roddick. \"\"this has been incredible - the moment ive been waiting for for years",
                  "3": "tennis",
                  "4": "tennis"
                },
                {
                  "0": "175",
                  "1": "tennis047.txt",
                  "2": "capriati to miss melbourne  jennifer capriati has become the third leading lady to withdraw from the australian open because of injury.  the organisers of the first grand slam of 2005, which begins on 17 january, said the american has a problem with her right shoulder. it comes as a blow to the womens draw as last years champion, justin henin-hardenne, and runner-up, kim clijsters, will also be absent. capriati is a two-time champion in melbourne with wins in 2001 and 2002. she is believed to have picked up the injury at the advanta championships at philadelphia in november and had to pull out of an exhibition match with wimbledon champion maria sharapova on 17 december. capriati also decided against competing in the australian open warm-up event, the sydney international.",
                  "3": "",
                  "4": "tennis"
                },
                {
                  "0": "176",
                  "1": "tennis053.txt",
                  "2": "\"faultless federer has no equal  roger federer - nice bloke, fantastic tennis player - the ultimate sportsman.  when lleyton hewitt shook his hand after getting another thrashing, a third in as many months, the australian said; \"\"youre the best.\"\" how right he is. the stats speak for themselves: 11 titles from 11 finals during 2004 - three of them grand slams - and 13 final victories in a row going back to vienna 2003. thats an open-era record. hewitt",
                  "3": "tennis",
                  "4": "tennis"
                },
                {
                  "0": "177",
                  "1": "atheletics076.txt",
                  "2": "\"african double in edinburgh  world 5000m champion eliud kipchoge won the 9.2km race at the view from great edinburgh cross country.  the kenyan, who was second when newcastle hosted the race last year, was in front from the outset. ethiopian duo gebre gebremariam and dejene berhanu made last-gasp efforts to overtake him, but kipchoge responded and a burst of speed clinched victory. gavin thompson was the first briton in 12th place while nick mccormick held of his british rivals to win the 4km race. the morpeth harrier led from the end of the first lap and ended mike skinner and andrew baddeleys hopes with a surge in the lasp lap. \"\"my training has gone so well i wasnt really worried about the opposition asi knew i was in great shape",
                  "3": "",
                  "4": "atheletics"
                },
                {
                  "0": "178",
                  "1": "football195.txt",
                  "2": "\"newcastle move in for boa morte  newcastle manager graeme souness has confirmed fulham striker luis boa morte is his latest transfer target.  souness wants to add the £3m-rated portugal international to his revamped squad during the transfer window. he said: \"\"we have declared an interest in him. the chairman is working hard to bring at least one more body in before this window goes past.\"\" souness may offer olivier bernard",
                  "3": "",
                  "4": "football"
                },
                {
                  "0": "179",
                  "1": "rugby088.txt",
                  "2": "\"all black magic: new zealand rugby  playing colours:  all black  the haka and more!  the all blacks  charles john munro discovered rugby at londons christ college, and on his return to nelson he staged new zealands first game. nelson town met nelson college on 14 may, 1870, the town triumphing by two goals to nil, instigating a game that would become a national obsession and come to dominate the countrys sporting passions. the game appealed to the kiwi psyche and quickly spread, the native maoris finding a particular empathy with the sports warrior ethos. in 1888 a british team led by ae stoddart toured new zealand and australia, and soon after a maori named joe warbrick and an english ex-pat called thomas eyton decided to gather a combined new zealand team.  twenty-two maori and four pakiha formed the new zealand native team, who played a total of 107 matches in new zealand, australia and the uk. the integration of white and maori was a reflecion of enlightened new zealand rugby and society, even if the british press were somewhat mystified by the pre-match tradition of the maori war dance, the haka! the other great symbol of new zealand rugby, the all black kit with the silver fern on the breast, was proposed by tom ellison at the first annual meeting of the new zealand rugby football union in 1893. new zealand played their first international against australia in 1903, the kiwis triumphing 22-3 in sydney, and the following year an official british touring team came to new zealand for the first time. the tourists had gone through australia undefeated but their captain, david revell bedell-sivright, created animosity in new zealand with his patronising attitude. the kiwis shocked the rugby world with a 9-3 triumph in wellington, sparking great celebrations across the country, but bedell-sivright churlishly suggested that the victors would have no chance when they visited the uk.  their opportunity to prove him wrong came in 1905 with the first official new zealand tour to europe. the tourists won their early games with a quick-thinking, inventive approach, but press criticism began to grow over their 2-3-2 scrum formation that left a roving forward free to disrupt opposition attacks. the tactic was effective, two late tries seeing the kiwis to a 12-7 win over scotland, before ireland were despatched 15-0 in dublin. a huge crowd at crystal palace convulsed with laughter at the sight of the haka - but the smiles were soon wiped from their faces when the tourists ran in five tries in a 15-0 hammering of england. new zealand headed to wales to meet a country in the midst of its first golden age, and the encounter would be the first in a series of controversial clashes between the sides. an excellent try on the left wing by teddy morgan sealed a 3-0 win in a hard-fought encounter at cardiff arms park, but post-match talk was dominated by a bob deans try that was ruled out by scottish referee john dallas. dallas said that deans was tackled short, but the kiwi said he was dragged back into the field of play after grounding a try - on his death-bed three years later he exclaimed: \"\"i did score that try in cardiff.\"\"  four of the 1905 all blacks went over to the newly formed all golds rugby league side soon after the tour",
                  "3": "rugby",
                  "4": "rugby"
                },
                {
                  "0": "180",
                  "1": "atheletics062.txt",
                  "2": "brizzel to run aaas in sheffield  ballymena sprinter paul brizzel will be among eight of irelands european indoor hopefuls competing in this weekends aaas championships.  us-based alistair cragg and mark carroll are the only irish athletes selected so far for the europeans who will not run in sheffield. brizzel will defend his 200m title in the british trials. in-form james mcilroy will hope to confirm his place in the british team for madrid by winning the 800m title. mcilroy has been in tremendous form on the european circuit in recent weeks. he is one of the fastest 800m runners in the world this winter and already seems assured of a place in madrid. corkman mark carroll confirmed in midweek that he would join cragg in the european championships. carroll is ranked number three in the world 3000m ranking at the moment with cragg occupying top spot. meanwhile, nine-times champion dermot donnelly will not be coming out of retirement to compete in the northern ireland cross country championships in coleraine on saturday. an injury crisis in the annadale striders squad led to donnelly being entered by coach john mclaughlin but the athlete told bbc sport on friday evening that he would not be running. willowfields paul rowan will go in as individual favourite but annadale could have a tough job holding on to their team title as andrew dunwoody and noel pollock are unlikely to run.",
                  "3": "",
                  "4": "atheletics"
                },
                {
                  "0": "181",
                  "1": "football181.txt",
                  "2": "\"beckham rules out management move  real madrid midfielder david beckham has no plans to become a manager when his playing career is over.  \"\"i am not interested in being a coach but i would like to have football schools",
                  "3": "football",
                  "4": "football"
                },
                {
                  "0": "182",
                  "1": "tennis084.txt",
                  "2": "\"veteran martinez wins thai title  conchita martinez won her first title in almost five years with victory over anna-lena groenefeld at the volvo womens open in pattaya, thailand.  the 32-year-old spaniard came through 6-3 3-6 6-3 for her first title since berlin in 2000. \"\"it feels really good",
                  "3": "",
                  "4": "tennis"
                },
                {
                  "0": "183",
                  "1": "atheletics089.txt",
                  "2": "\"thanou desperate to make return  greek sprinter katerina thanou says she is eager to compete again after being cleared of missing a drugs test by an independent greek tribunal.  thanou, 30, was provisionally suspended for missing a test before the olympics, but the decision was overturned. \"\"the iaaf will decide if we can compete again in greece and abroad",
                  "3": "",
                  "4": "atheletics"
                },
                {
                  "0": "184",
                  "1": "rugby063.txt",
                  "2": "\"england to launch ref protest  england will protest to the international rugby board (irb) about the referees performance in the defeat by ireland, reports the daily mail.  england coach andy robinson has called on ex-international referees colin high and steve lander to analyse several of jonathan kaplans decisions. \"\"i want to go through the tape with colin and steve",
                  "3": "rugby",
                  "4": "rugby"
                },
                {
                  "0": "185",
                  "1": "rugby077.txt",
                  "2": "\"player burn-out worries robinson  england coach andy robinson says english rugby has to act now to prevent injury destroying players careers.  he will be without a host of big names for the six nations as the intensity of professional rugby union hits players. \"\"injuries are part of the sport but we have to have a look at the amount of injuries that occur in the english season",
                  "3": "rugby",
                  "4": "rugby"
                },
                {
                  "0": "186",
                  "1": "tennis090.txt",
                  "2": "\"mirza makes indian tennis history  teenager sania mirza completed a superb week at the hyderabad open by becoming the first indian in history to win a wta singles title.  in front of a delirious home crowd, the 18-year-old battled past alyona bondarenko of the ukraine 6-4 5-7 6-3. mirza, ranked 134 in the world, sunk to her knees in celebration after serving out the match against bondarenko. \"\"it is a big moment in my career and i would like to thank everyone who has been a part of my effort",
                  "3": "tennis",
                  "4": "tennis"
                },
                {
                  "0": "187",
                  "1": "football156.txt",
                  "2": "\"dunne keen to commit to man city  richard dunne is ready to commit his long-term future to manchester city after turning his career around.  he was once threatened with the sack by city boss kevin keegan but has since responded with impressive performances, prompting interest from other clubs. early talks have taken place and the defender said: \"\"hopefully something will be sorted out as soon as possible. \"\"i definitely want to stay at city because i have really improved as a player here.\"\" newcastle boss graeme souness is said to have been impressed enough by dunnes turnaround in form to be ready to make a bid for the big stopper in the january transfer window. but the 25-year-old dubliner underlined his intention to stay at eastlands. he added: \"\"its nice to be linked with top clubs but the important thing is this one and what we do. \"\"i really enjoy it at city and i want to keep that going.\"\" keegan is expected to be told there will be no funds to bring in fresh faces in january. dunnes professionalism was famously questioned by keegan",
                  "3": "",
                  "4": "football"
                },
                {
                  "0": "188",
                  "1": "football142.txt",
                  "2": "\"liverpool revel in night of glory  liverpool manager rafael benitez said their qualification for the next stage of the champions league was \"\"one of the proudest nights of my career.\"\"  the reds beat olympiakos 3-1 with a late steven gerrard strike and benitez said: \"\"it was a really great night. \"\"the players ran hard all the time and you see how much it means to the fans. \"\"we knew before the game that it was very important for the club to gain these extra finances. for liverpool",
                  "3": "",
                  "4": "football"
                },
                {
                  "0": "189",
                  "1": "cricket085.txt",
                  "2": "\"sri lanka cancel tour  sri lanka have cancelled their cricket tour of new zealand following the tsunami disaster that has ravaged the country, it has been confirmed.  the tour had been put on hold after the first one-day international game was played on 26 december, the same day the tidal wave struck the island country. sri lanka cricket initially said it would postpone the tour but on wednesday decided to pull out. \"\"we fully understand the decision",
                  "3": "cricket",
                  "4": "cricket"
                },
                {
                  "0": "190",
                  "1": "cricket091.txt",
                  "2": "\"kenya cricket boss fights sacking  kenya cricket association president sharad ghai has obtained a court order preventing his dismissal by the government over financial allegations.  ghai was accused of failing to account for sponsorship money, resolve player disputes or hold regular elections. sports minister ochillo ayacko has appointed a caretaker committee, headed by issac kalua, to serve for three months before new elections take place. but the order prevents kalua moving in for 21 days, pending a judicial review. ghai insisted his committee had always submitted receipts and audited accounts of its expenditure.  he has refused to hand over the office keys to kalua and was angered when the interim committee broke into the building under police supervision. \"\"what we are saying is that this should have been done ina dignified manner",
                  "3": "cricket",
                  "4": "cricket"
                },
                {
                  "0": "191",
                  "1": "cricket046.txt",
                  "2": "\"aussies unhappy with pitch  australian skipper ricky ponting was still able to raise a smile despite his sides 13-run defeat by india in the fourth test at mumbai.  they had already done enough to win the border-gavaskar trophy with victories at bangalore and nagpur, their first series success in india since 1969-70. \"\"i said i thought it would be one of the all-time great series and the first three tests turned out that way. \"\"this was nowhere near a test pitch. it was terribly disappointing.\"\" he was less than thrilled",
                  "3": "",
                  "4": "cricket"
                },
                {
                  "0": "192",
                  "1": "cricket052.txt",
                  "2": "south africa recall boje  south africa have recalled spinner nicky boje for the first test against england, which begins on 17 december.  boje missed the recent tour of india because of fears he would be called in for questioning by indian police over match-fixing allegations. pace bowler dale steyn and opening batsmen ab de villiers are new faces in a 13-man squad. despite suffering poor form in india, new wicket-keeper thami tsolekile has been preferred to mark boucher. there is no place for opener herschelle gibbs, who has been struggling with a finger injury after missing the india trip, and spin all-rounder justin ontong has been dropped. nicky boje, who underwent minor surgery to remove a growth in his neck, will have to pass a fitness test before the match. port elizabeth, where the first test is being held, is south africas most spin-friendly venue.  graeme smith (capt), nicky boje, hashim amla, zander de bruyn, ab de villiers, boeta dippenaar, andrew hall, jacques kallis, makhaya ntini, shaun pollock, jacques rudolph, dale steyn, thami tsolekile (wkt).",
                  "3": "",
                  "4": "cricket"
                },
                {
                  "0": "193",
                  "1": "football208.txt",
                  "2": "fifa agrees goal-line technology  fifa is expected to use a football containing a microchip as part of new goal-line technology in septembers under-17 world championships in peru.  the games governing body has agreed to the experiment in a bid to end controversies over goal-line decisions. it follows a presentation by sports manufacturer adidas to the international fa board in cardiff. the company tested the device in a game between nuremberg and their reserve team ahead of the boards meeting. a football has a microchip inside, so when it crosses the goal-line the referee is alerted directly by a bleeper-type system rather than any video replays being used. the fact that there is no delay to the game has impressed the ifab, which is made up of four fifa representatives plus a member of each of the four home associations. the english football association had offered to experiment with the ball as well but both the premier league and football league use balls made by rival manufacturers. adidas is developing the new ball with the german-based fraunhofer-gesellschaft research centre, but believes that such rigorous experimentation is needed that it is unlikely to be ready for next years world cup final in germany. calls for new technology resurfaced after spurs were denied a clear goal at manchester united when goalkeeper roy carroll dropped the ball behind the line, but the incident was missed by the officials.",
                  "3": "football",
                  "4": "football"
                },
                {
                  "0": "194",
                  "1": "football220.txt",
                  "2": "more africans for tsunami game  three more african stars have agreed to play in fifas football for hope match, organised to raise money for the victims of the asian tsunami.  nigerian youngster obafemi martins and the cameroon pair of raymond kalla and rigobert song have added their names to the six africans who had already confirmed their participation in tuesdays game in barcelona. the ivory coasts didier drogba and cameroons samuel etoo fils will both be playing in the game rather than attending the cafs footballer of the year award ceremony in south africa. both players are on the short list for cafs 2004 footballer of the year award along with nigerias jay-jay okocha. as well as drogba and etoo, who is the reigning african footballer of the year, cameroon goalkeeper carlos idriss kameni, tunisias rahdi jaidi and veteran defenders samuel kuffour of ghana and south africas lucas radebe will all be playing. africa is represented among the officials for the game with jason damoo of the seychelles named as one of the assistant referees for the game. however one african star who will miss the clash is ghanas michael essien, whose french club lyon refused to release him and two other players. there are also several players with african roots set to play in the match with french stars zinedine zidane and patrick vieira and belgiums vincent kompany among those confirmed by fifa. the two captains for the game will be brazils world footballer of the year, ronaldinho and ukraines european footballer of the year, andriy shevchenko.",
                  "3": "football",
                  "4": "football"
                },
                {
                  "0": "195",
                  "1": "football234.txt",
                  "2": "\"rivals back anti-racism campaign  manchester united and arsenal players will wear black and white wristbands when they face each other on tuesday as part of a new anti-racism initiative.  launching the stand up, speak up scheme with thierry henry, uniteds rio ferdinand said footballs ruling bodies should do more to tackle racist abuse. \"\"if an offence is committed",
                  "3": "",
                  "4": "football"
                },
                {
                  "0": "196",
                  "1": "rugby117.txt",
                  "2": "\"wilkinson targets ireland  jonny wilkinson says he is \"\"massively positive\"\" about his chances of playing some part in the six nations.  a knee injury has ruled him out of englands first two matches against wales and france",
                  "3": "",
                  "4": "rugby"
                },
                {
                  "0": "197",
                  "1": "rugby103.txt",
                  "2": "\"campbell to be lions consultant  former government communications chief alastair campbell will act as a media consultant to sir clive woodwards 2005 lions on their tour to new zealand.  campbell, who left downing street earlier this year, will advise on media strategy before and during the tour. \"\"i hope i can contribute to the planning and preparation",
                  "3": "",
                  "4": "rugby"
                },
                {
                  "0": "198",
                  "1": "football022.txt",
                  "2": "\"bosvelt optimistic over new deal  manchester citys paul bosvelt will find out \"\"within a month\"\" whether he is to be offered a new one-year deal.  the 34-year-old dutch midfielder is out of contract in the summer and",
                  "3": "",
                  "4": "football"
                },
                {
                  "0": "199",
                  "1": "football036.txt",
                  "2": "\"weir poised for sunderland move  larnes teenage star robbie weir is poised to join sunderland after turning down a move to stoke city.  the 17-year-old irish league midfielder was also being chased by rangers and fulham, but mick mccarthys side appear to have won the race. but larne boss jimmy mcgeough has yet to confirm that weir is on his way from inver park. \"\"i heard on sunday that he has joined sunderland",
                  "3": "",
                  "4": "football"
                },
                {
                  "0": "200",
                  "1": "football020.txt",
                  "2": "\"robben sidelined with broken foot  chelsea winger arjen robben has broken two metatarsal bones in his foot and will be out for at least six weeks.  robben had an mri scan on the injury, sustained during the premiership win at blackburn, on monday. \"\"six weeks is the average time to heal this injury and then i need a few more weeks to be completely fit again",
                  "3": "",
                  "4": "football"
                },
                {
                  "0": "201",
                  "1": "rugby129.txt",
                  "2": "\"sydney to host north v south game  sydney will host a northern versus southern hemisphere charity match in june or july, the australian rugby union (aru) said on wednesday.  the match will include players from the lions tour of new zealand. \"\"the australian rugby union has thrown its support behind a proposed north-south match to raise funds for the tsunami appeals",
                  "3": "rugby",
                  "4": "rugby"
                },
                {
                  "0": "202",
                  "1": "football034.txt",
                  "2": "\"smith aims to bring back respect  scotland manager walter smith says he wants to restore the national teams respectability in world football.  smith has joined his first squad for a three-day get-together near manchester in preference to playing a friendly. while qualification for the 2006 world cup appears to be beyond scotland, smith is anxious that the remainder of the campaign should be positive. \"\"i think we have got to try to get a bit of respectability back in whatever way we can",
                  "3": "football",
                  "4": "football"
                },
                {
                  "0": "203",
                  "1": "rugby115.txt",
                  "2": "\"oshea to head up rfu academies  london irish managing director conor oshea is to leave the exiles to take up a post as the rugby football unions director of regional academies.  oshea will start his new role in the spring, monitoring players capable of developing into england internationals. \"\"i look on this move to twickenham as a huge challenge and one i simply could not turn down",
                  "3": "rugby",
                  "4": "rugby"
                },
                {
                  "0": "204",
                  "1": "football008.txt",
                  "2": "\"gerrard plays down european hopes  steven gerrard has admitted that liverpool have little chance of winning the champions league this season.  the 24-year-old reds skipper spoke out ahead of tuesdays first leg at home to bayer leverkusen in the last 16, which he will miss through suspension. \"\"lets be realistic",
                  "3": "",
                  "4": "football"
                },
                {
                  "0": "205",
                  "1": "rugby101.txt",
                  "2": "\"borders 19-20 ulster  ulster clung on for a morale-boosting celtic league win over bottom club borders at netherdale on friday night.  a late try by borders substitute jonny weston had set up a dramatic finish, but the scottish side could not complete the fightback. ulster had led 20-6 with tries from paul steinmetz and bryn cunningham. but the irish province failed to add to the tally in the second half and ended up relieved to get the win to lift them to eighth place in the table. borders had edged ahead with a sixth-minute penalty by charlie hore - only to hand the visitors the initiative via a gift try. calum macrae surrendered possession before centre steinmetz sent a chip into the danger zone. substitute joe pattison - who had come on for the injured gareth morton - wrongly thought the ball was trickling out of play and eased up on the chase.  the speedy steinmetz had other ideas and he raced up to get the vital touch in the nick of time, giving adam larkin an easy conversion. ally warnock clawed back three points for borders, but they were soon hit by another double-blow. first, mark blair was yellow carded for killing the ball on the ground and then full-back cunningham bagged the second touchdown in the wake of fine work by skipper andy ward. larkin again added the extras. even worse was to come for borders when larkin kicked two more penalties just before the break, the second of which also led to kelly brown being sin-binned. the hosts gave themselves a glimmer of hope immediately after the restart, however, when warnock struck a penalty at the other end. and he repeated the feat to set up the tense finale. ulster coach mark mccall said he was delighted to get the victory. \"\"borders are a tougher proposition this year in spite of the fact that they have not had a victory in some time",
                  "3": "",
                  "4": "rugby"
                },
                {
                  "0": "206",
                  "1": "atheletics100.txt",
                  "2": "\"freeman considers return to track  former olympic champion cathy freeman said she would consider a return to action in the relay at next years commonwealth games in melbourne.  but the 31-year-old said she would only try to make the team if she felt there was backing for the move. \"\"if there was overwhelming support for me to come back i would think about it",
                  "3": "",
                  "4": "atheletics"
                },
                {
                  "0": "207",
                  "1": "football222.txt",
                  "2": "greece defy the odds at euro 2004  greece arrived in portugal for euro 2004 as 150-1 outsiders who had never won a match at a major tournament.  four weeks later, manager otto rehhagel was a legendary figure in greece and angelos charisteas had written his name into footballing legend. charisteas scored the winner in the 1-0 final victory that sank hosts portugal. englands wayne rooney may have been the individual star of the tournament, but when it came to the best team, the super-efficient greeks stole the show. rehhagels combination of unsung stars and shrewd tactics proved beyond the bigger names in the tournament. greece started and finished euro 2004 by beating portugal, who improved throughout the competition under former brazil coach luiz felipe scolari. favourites france were overcome 1-0 in the quarter-final while form side the czech republic were beaten by the same score in the semi-final. for england, another major tournament only brought more frustration. england opened against france in the stadium of light, and looked to be on the way to victory thanks to frank lampards first-half goal. but captain david beckham missed a penalty and with it went englands hopes of victory. zinedine zidane hit a last-minute equaliser from a free-kick then scored a dramatic winner. he converted from the spot after david james brought down thierry henry after he intercepted steven gerrards pass.  enter rooney, with two goals in the 3-0 win against switzerland, a feat he repeated in the 4-2 win against croatia that sealed a quarter-final place. sadly for england, rooney broke his foot shortly after michael owen had put them ahead against portugal. helder postiga equalised, but england were cursing when a last-minute header by sol campbell was disallowed. rui costa put portugal ahead, but frank lampard struck his third goal of the tournament to send it to penalties. beckhams penalty miss proved crucial and when darius vassell also missed, portugal keeper ricardo sealed the win. another man with premiership links, liverpools milan baros, was the leading scorer with five goals in the tournament in an excellent czech side. the czechs were involved in the best game, coming from two goals down to beat holland 3-2. germany were one of the major disappointments, with rudi voellers side failing to reach the last eight. a 2-1 defeat against the czechs sent germany out and ended voellers reign. and holland coach dick advocaat, who took the blame of a nation after the shock defeat against the czech republic, also left his job. the dutch lost 2-1 to portugal in the semi-final and that was enough to prompt a change in the dutch hierarchy. spain once again failed to produce, missing out on the last eight after they lost 1-0 to great rivals portugal in the hostile alvalade stadium. italy were another major team that failed to reach the last eight, going amid wild claims of collusion between denmark and sweden in their 2-2 draw. but greece gave euro 2004 a gloriously unpredictable chapter in footballs history, and were deserving winners. it was a tournament played out in good spirit and had perfect hosts in the portuguese crowds who packed grounds. their gracious behaviour towards the winners, even after losing the final, gave euro 2004 a fitting finale.",
                  "3": "",
                  "4": "football"
                },
                {
                  "0": "208",
                  "1": "football236.txt",
                  "2": "\"nike defends under-fire football  nike has defended its premiership ball, after it was blamed for a spate of goalkeeping errors.  england coach ray clemence and arsenal legend bob wilson criticised the nike total 90 aerow balls flight-path. but corporate communications manager simon charlesworth told bbc sport: \"\"theres some minor criticism which i think have been slightly exaggerated. \"\"overall everything ive heard has been very positive. the ball is more accurate if anything.\"\" arsenal pair jens lehmann and manuel almunia",
                  "3": "football",
                  "4": "football"
                },
                {
                  "0": "209",
                  "1": "cricket124.txt",
                  "2": "\"pakistan urged to show more fight  the head of the pakistan cricket board has warned the national team they are playing for their places in the two remaining tests in australia.  pakistan suffered a 491-run thrashing in perth, where they were bowled out for just 72 in their second innings. \"\"pakistan is a proud cricket nation and we want some continuity in the team. \"\"but if the current lot cant pick themselves up we will look at our reserve talent for future tours",
                  "3": "cricket",
                  "4": "cricket"
                },
                {
                  "0": "210",
                  "1": "cricket118.txt",
                  "2": "\"batsman law gains uk citizenship  australian-born batsman stuart law has been granted british citizenship and will be able to play for lancashire as a non-overseas player in 2005.  he has played domestic cricket in england for the past nine seasons - six with essex and three with lancashire. law said: \"\"im glad that its happened quickly and with no problems. hopefully it will benefit lancashire.\"\" law could in theory play for englands test side but he is now 36 and his selection could be a backward step. that said",
                  "3": "cricket",
                  "4": "cricket"
                },
                {
                  "0": "211",
                  "1": "cricket044.txt",
                  "2": "australia build imposing lead  third test, nagpur, day three (stumps):  australia 202-3 & 398 v india 185  india were bowled out for just 185 in the morning session, with paceman gillespie returning 5-56 - his eighth five-wicket haul in test cricket. katich then made 99 as the aussies established an intimidating 415-run lead in reaching 202-3 at stumps. it places australia on the brink of a first series win in india for 35 years. murali kartik showed some spirit with two wickets in the evening, but with damien martyn (41) and michael clarke (10) at the crease and batting still to come australia look set to push on come friday. indias tail fared no better than the top order on nagpurs lively pitch, losing five wickets for 39 in the morning after resuming play on 146-5.  eight balls into the day, shane warne claimed his 539th test victim when fading one away from parthiv patel and taking the edge en route to slip. skipper adam gilchrist delayed taking the new ball for a few overs, but was rewarded almost instantly when he did. firstly, gillespie gave clarke the first of two catches at third slip to get rid of agit agarkar. and soon indias last line of defence was dismantled when glenn mcgrath and first slip warne combined to oust kaif for 55 - a second successive test match fifty. india were nine down when kartik fell to gillespie - one of eight to perish to catches off the edge of the bat - and all that remained was for the paceman to bag his first five-wicket haul against india with the dismissal of last man zaheer. with plenty of time left in the test and an opportunity to rest his attack presenting itself, gilchrist chose not to enforce the follow-on despite australias 213-run first-innings lead.  the early loss of matthew hayden aside - bowled during an excellent zaheer khan spell - it proved a sensible decision. it was largely one-way traffic once australia had negotiated a tough, run-free 40-minute period after lunch, with justin langer surviving a couple of close lbw appeals to put on 80 for the second wicket with katich. langers scratchy stay came to an end just after tea when trying to hit kartik out of the park but succeeding only in holing out at deep mid-wicket. another meaningful partnership was in the offing, however, and katich and the in-form martyn upped the scoring rate in a deflating period for india. katich was supreme against the spinners, playing patiently square of the wicket and using his feet to move into the 90s with sucessive on-driven boundaries off the hugely disappointing anil kumble (0-62). but fate - and kartik - conspired against katich, who stepped back in his crease and was plumb lbw to register the 74th score of 99 in test cricket history. martyn and clarke were untroubled in the closing overs against a tiring attack, the latter announcing his arrival at the crease with two glorious boundaries in one kumble over.",
                  "3": "cricket",
                  "4": "cricket"
                },
                {
                  "0": "212",
                  "1": "cricket050.txt",
                  "2": "england stutter to zimbabwe win  first one-day international, harare: england 196-5 (47.4 overs) beat zimbabwe 195 all out (49.3 overs) by five wickets  after choosing to bowl, they dismissed the home side for 195, darren gough with 3-34, elton chigumbura making 52. the 18-year-old shared a stand of 82 in 13.3 overs with dion ebrahim (45). michael vaughan made an attractive 56 and debutant ian bell 77 but late wickets created tension before victory was sealed with 14 balls left.  vaughan chose to open his attack with gough and james anderson, but both found it difficult to attain a good line in the early stages. anderson conceded three wides in the eighth over and both openers had recorded boundaries when, in the ninth over, a slower ball from gough accounted for stuart matsikenyeri with the score on 36. two overs later alex wharf picked up a fortuitous wicket with his fifth delivery when brendan taylor dragged a wide one onto the timbers.  a far more dangerous delivery accounted for vusi sibanda, who was unable to keep out a rising ball. the hosts had a brief period of consolidation only to ruin it with a run-out as mark vermeulen was left short of his ground by a direct throw from andrew strauss. when tatenda taibu became the third batsmen to drag on, something special was required, and briefly it came from chigumbura. the lissome right-hander launched a series of clean, straight-bladed shots, hammering six fours and a magnificent straight six off wharf in his 56-minute innings. ebrahim was beaten in the flight by ashley giles, then in the next over chigumbura went for one lofted drive too many and was caught deep in the covers.  a crowd of around 3,000 had been delighted with his efforts, but when he departed at 172-7 there was little else from the tail, gough wrapping up the innings with a yorker in the final over. englands reply began smoothly until vikram solanki mis-timed a drive that looped to mid-off for seven. vaughan gradually unveiled some trademark strokes of classic nature in a 75-ball innings featuring five fours and a six. he departed in the 30th over with 64 still needed, caught at deep midwicket by chigumbura, who in the same position had spilled a chance offered by bell four overs earlier. andrew strauss was soon back in the pavilion, offering a simple return catch to matsikenyeri to leave england 146-3.  having seemed set to guide his team home, bells composed innings ended 26 runs short of the victory target when he edged his 115th delivery to taibu. paul collingwood needlessly pressed for a second run and fell to sharp throw from utseya at leg gully, then next ball geraint jones almost joined him after hesitation with kevin pietersen. the debutant was content to edge england home in conservative fashion, but won it with his only boundary straight down the ground, as the tourists finally secured their ninth successive win over zimbabwe.",
                  "3": "",
                  "4": "cricket"
                },
                {
                  "0": "213",
                  "1": "cricket078.txt",
                  "2": "\"windies australia tour to proceed  west indies are set to tour australia after a row over sponsorship deals for individual players neared resolution.  the dispute began because of conflicts between west indies cricket board sponsor digicel and cable & wireless, who endorse a number of the players. both sides have accepted a ruling on whether players can have their own deals, but that has not been disclosed. \"\"we are convinced we will have a resolution that allows the tour to proceed",
                  "3": "cricket",
                  "4": "cricket"
                },
                {
                  "0": "214",
                  "1": "cricket087.txt",
                  "2": "australia complete sweep  third test, sydney, day four (result): australia 568 & 62-1 bt pakistan 304 & 325  pakistan, continuing on 67-1 overnight, posted 325 all out in their second innings and the home team quickly scored the 62 runs needed for victory. asim kamal top scored for the visitors with a well-made 87, but australia were always in control after building a first-innings lead of 264. and on a turning wicket shane warne took 4-111 and stuart macgill 3-83. australia took three wickets during the morning session to reduce pakistan to 172-4, still 92 runs behind the home teams first-innings total. it seemed at one point as though stubborn resistance would limit the visitors to the loss of yasir hameed during the first session of the day. but with lunch approaching the australians swung the balance of the session in their favour with two wickets in two balls. yousef youhana was bowled by macgill for 30 before younis khan was trapped lbw to shane watson to become the all-rounders first test victim.  after lunch shahid afridi was run out after a typically aggressive innings and his dimissal was sparked a fall of five wickets for 32 runs as the pakistan lower order again threatened to capitulate. at one point they had been reduced to 270-9 after steadily losing wickets throughout the afternoon session. shortly before the scheduled tea interval australia claimed the extra half hour as they went in search of victory. but asim kamal, partnered by mohammad asif, who scored his first runs in test cricket, put on 55 for the last wicket to set australia a meagre target for victory. jason langer and matthew hayden wasted no time in setting about the victory target, thrashing a series of boundaries. with victory just four runs away langer was bowled sweeping around his legs and new batsman ricky ponting smashed the next delivery to the boundary to seal victory.  matthew hayden, justin langer, ricky ponting (capt), damien martyn, michael clarke, shane watson, adam gilchrist (wkt), shane warne, jason gillespie, glenn mcgrath, stuart macgill.  salman butt, imran farhat, yasir hameed, younis khan,yousuf youhana (capt), asim kamal, kamran akmal (wkt), mohammad asifshoaib akhtar, naved-ul-hasan, danish kaneria. umpires: b bowden (nz), d shepherd (eng).",
                  "3": "cricket",
                  "4": "cricket"
                },
                {
                  "0": "215",
                  "1": "cricket093.txt",
                  "2": "vaughan endures day to forget  this was englands worst day for a long time, and was capped by captain michael vaughan being fined 100% of his match fee.  match referee clive lloyds decision followed criticism from vaughan of the umpires handling of the bad light decisions on the second day.  the bowling throughout the day was awful and, two balls from the close, geraint jones dived directly in front of marcus trescothick at first slip and dropped herschelle gibbs on 136. having declared, and sacrificed the possibility of reaching a century, michael vaughan must have been horrified by the manner in which his bowlers responded. briefly the conditions were ideal, with low cloud hanging over the ground, and although this was soon replaced by clear blue sky which made batting easier, the direction of steve harmison in particular was woeful. his first eight overs conceded only nine runs, simply because the batsmen could not reach the ball. far too many deliveries went down the leg-side and even matthew hoggard was below his best, four wickets notwithstanding.  understandably james anderson was rusty having not played a match since 4 december but harmisons day was made complete when he hobbled off with a calf strain. graeme smith and gibbs got away to a flier but were separated in the 16th over when smith was trapped lbw to hoggard for 29. this has been a disappointing series so far for the south african captain and his demise was all the more embarrassing because he fell over and was flat on the ground when umpire bucknor finally raised his painfully slow finger. the bowling was still erratic, but hoggard struck again six overs later when rudolph laced a wide half volley to gully where ashley giles took a stinging catch that dislocated his right thumb.  jacques kallis again looked very well set, and the stand with gibbs during the afternoon was looking ominous until hoggard found some extra bounce and kallis, aiming to force off the back foot, chopped the ball into his stumps for 33. boeta dippenaar is one of the least exciting batsmen currently in test cricket, and after 37 minutes, he fell to a low catch at slip for a duck. the ball was so low to the ground when trescothick took it that dippenaar was reluctant to go. tv replays - which are only used now when the umpires are unsighted - would probably have given the batsman the benefit of the doubt, but mr dar sent him on his way to a chorus of boos from the crowd. ab devilliers joined gibbs, who was now strangely becalmed and only 65 runs were scored in the afternoon session, but after devilliers hooked hoggard and was caught at long leg for 19, gibbs reached his 14th century in almost five and a half hours. the second new ball failed to force an immediate breakthrough as gibbs and boucher launched a counter attack and added 120 crucial runs before boucher was caught at point for 64.",
                  "3": "cricket",
                  "4": "cricket"
                },
                {
                  "0": "216",
                  "1": "football154.txt",
                  "2": "\"poll explains free-kick decision  referee graham poll said he applied the laws of the game in allowing arsenal striker thierry henrys free-kick in sundays 2-2 draw with chelsea.  keeper petr cech was organising his defensive wall when henrys quick free-kick flew in, which angered chelsea. \"\"the whistle doesnt need to be blown. i asked henry do you want a wall?. he said can i take it please? he was very polite. i said yes",
                  "3": "",
                  "4": "football"
                },
                {
                  "0": "217",
                  "1": "rugby049.txt",
                  "2": "\"harinordoquy suffers france axe  number eight imanol harinordoquy has been dropped from frances squad for the six nations match with ireland in dublin on 12 march.  harinordoquy was a second-half replacement in last saturdays 24-18 defeat to wales. bourgoin lock pascal pape, who has recovered from a sprained ankle, returns to the 22-man squad. wing cedric heymans and ludovic valbon come in for aurelien rougerie and jean-philippe grandclaude.  rougerie hurt his chest against wales while grandclaude was a second-half replacement against both england and wales. valbon, capped in last junes tests against the united states and canada, was a second half replacement in the win over scotland.  france coach bernard laporte said harinordoquy had been axed after a poor display last weekend. \"\"imanol has been dropped from the squad because the least i can say is that he didnt make a thundering comeback against wales",
                  "3": "",
                  "4": "rugby"
                },
                {
                  "0": "218",
                  "1": "football140.txt",
                  "2": "fa charges liverpool and millwall  liverpool and millwall have been charged by the football association over crowd trouble during their carling cup match on 26 october.  millwall, who lost the match 3-0, have also been charged over alleged racist behaviour by their supporters. during the match at millwalls new den stadium, seats were ripped up and four people were ejected from the ground. a disabled fan was injured at the perimeter of the pitch and riot police were needed to control the situation. liverpool fans claimed the trouble was sparked by chants about the hillsborough disaster, where 96 supporters were crushed to death in april 1989. but lions chairman theo paphitis has denied the claims. he has said cctv footage showed the catalyst for the trouble was a liverpool fan attacking a millwall fan in the west stand. however, millwall have been charged with two breaches of fa rules. they have been charged with failing to ensure that fans refrained from racist and/or abusive behaviour and for failing to prevent spectators throwing missiles onto the pitch. liverpool have been charged with one breach for failing to prevent their fans conducting themselves in threatening and/or violent and/or provocative behaviour. both clubs have until 23 december to respond.",
                  "3": "football",
                  "4": "football"
                },
                {
                  "0": "219",
                  "1": "rugby061.txt",
                  "2": "\"harinordoquy suffers france axe  number eight imanol harinordoquy has been dropped from frances squad for the six nations match with ireland in dublin on 12 march.  harinordoquy was a second-half replacement in last saturdays 24-18 defeat to wales. bourgoin lock pascal pape, who has recovered from a sprained ankle, returns to the 22-man squad. wing cedric heymans and ludovic valbon come in for aurelien rougerie and jean-philippe grandclaude.  rougerie hurt his chest against wales while grandclaude was a second-half replacement against both england and wales. valbon, capped in last junes tests against the united states and canada, was a second half replacement in the win over scotland.  france coach bernard laporte said harinordoquy had been axed after a poor display last weekend. \"\"imanol has been dropped from the squad because the least i can say is that he didnt make a thundering comeback against wales",
                  "3": "",
                  "4": "rugby"
                },
                {
                  "0": "220",
                  "1": "football168.txt",
                  "2": "\"spurs to sign iceland u21 star  tottenham are primed to snap up iceland under-21 international emil hallfredsson after he impressed on trial at white hart lane.  the 20-year-old midfielder, who plays for fh hafnarfjordur, also starred in the uefa cup match against scottish side dunfermline earlier this season. spurs have agreed a fee for the player, who has yet to agree personal terms. \"\"he had offers from two other clubs but he decided to come to tottenham",
                  "3": "",
                  "4": "football"
                },
                {
                  "0": "221",
                  "1": "tennis086.txt",
                  "2": "rusedski forced out in marseille  greg rusedski was forced to withdraw from the open 13 in marseille on thursday with a rib injury.  the british number two had been scheduled to play qualifier sebastien de chaunac, who beat world number five guillermo coria 6-4 7-5 in round one. but rusedski was unable to take to the court because of a problem with the left-hand side of his rib-cage. american taylor dent caused a shock with a 7-6 6-2 victory over second seed david nalbandian. but third seed joachim johansson made it through after beating frenchman gilles simon 7-6 6-3 while in the first match of the day, sixth seed feliciano lopez defeated ivo karlovic. there were also wins for slovakias karol beck and croatian duo ivan ljubicic and mario ancic.",
                  "3": "",
                  "4": "tennis"
                },
                {
                  "0": "222",
                  "1": "tennis092.txt",
                  "2": "\"australia miss molik for fed cup  australia will be without their leading player alicia molik for the fed cup round robin matches in india in april.  the world number 10 was not included in new captain john alexanders squad as she is focusing on her singles career. \"\"alicia has a real opportunity to achieve a number one world ranking and has a particular schedule designed to achieve that",
                  "3": "",
                  "4": "tennis"
                },
                {
                  "0": "223",
                  "1": "rugby075.txt",
                  "2": "\"saint-andre anger at absent stars  sale sharks director of rugby philippe saint-andre has re-opened rugbys club-versus-country debate.  sale host bath in the powergen cup on friday, but the frenchman has endured a \"\"difficult week\"\" with six players away on englands six nations training camp. \"\"its an important game but weve just the one full session. its the same for everyone but we need to manage it. \"\"if five players or more are picked for your country they should move the date of the game",
                  "3": "rugby",
                  "4": "rugby"
                },
                {
                  "0": "224",
                  "1": "football197.txt",
                  "2": "\"fai secures &#163;7m sponsorship deal  the football association of ireland has signed a £7million, six-year sponsorship deal with umbro.  the deal is the second largest in sponsorship in fai history. it will bring in £4.8m in cash and be worth more than £2m in kit supplies with other bonus payments linked to performance in major competitions. \"\"it brings immediate and lasting benefits to the development of the next generation of people who want to play football\"\"",
                  "3": "football",
                  "4": "football"
                },
                {
                  "0": "225",
                  "1": "atheletics074.txt",
                  "2": "\"pavey focuses on indoor success  jo pavey will miss januarys view from great edinburgh international cross country to focus on preparing for the european indoor championships in march.  the 31-year-old was third behind hayley yelling and justyna bak in last weeks european cross country championships but she prefers to race on the track. \"\"it was great winning bronze but im wary of injuries and must concentrate on the indoor season",
                  "3": "",
                  "4": "atheletics"
                },
                {
                  "0": "226",
                  "1": "tennis079.txt",
                  "2": "\"moya sidesteps davis cup in 2005  carlos moya has chosen not to help spain try and defend the davis cup crown they won in seville in november.  moya led spain to victory over the usa but wants to focus on the grand slams in 2005, although insists he will return to the davis cup in 2006. \"\"after two years of total commitment with the davis cup team... i have taken this difficult decision to concentrate on the regular circuit",
                  "3": "",
                  "4": "tennis"
                },
                {
                  "0": "227",
                  "1": "football183.txt",
                  "2": "\"celtic unhappy over bulgaria date  martin oneill hopes to block stilian petrovs call-up by bulgaria during celtics busy festive programme.  the celtic manager does not view the friendly against valenciana - a region of spain - on 28 december as important. \"\"i cant say i was overly pleased at the fixture being played just after christmas",
                  "3": "",
                  "4": "football"
                },
                {
                  "0": "228",
                  "1": "atheletics060.txt",
                  "2": "\"mcilroy wins 800m indoor title  james mcilroy motored to the aaas indoor 800m title in sheffied on sunday in a time of one minute, 47.97 seconds.  the larne athlete dominated the race from start to finish although he had to hold off a late challenge from welshman jimmy watkins in the final 100 metres. \"\"i had to go out and go through all the gears before the europeans and i wont run again until then",
                  "3": "",
                  "4": "atheletics"
                },
                {
                  "0": "229",
                  "1": "atheletics048.txt",
                  "2": "\"greek pair set for hearing  kostas kenteris and katerina thanou will fight the provisional two-year bans imposed on them by the iaaf at an independent tribunal this weekend.  athletics ruling body took action against the pair for failing to take drugs tests before the athens olympics. an independent tribunal of the greek track and field federation will meet to decide whether to ratify the sanction. the sprint duo face charges of failing to give information on their location and refusing to submit to a drugs test. kenteris lawyer gregory ioannidis told bbc sport: \"\"we refute both charges as unsubstantiated and illogical. \"\"there have been certain breaches in the correct application of the rules on behalf of the sporting authorities and their officials",
                  "3": "atheletics",
                  "4": "atheletics"
                },
                {
                  "0": "230",
                  "1": "tennis045.txt",
                  "2": "\"henin-hardenne beaten on comeback  justine henin-hardenne lost to elena dementieva in a comeback exhibition match in belgium on sunday for her second defeat in two days.  and the belgian, who has slipped to eight in the world after struggling with a virus, faces a tough australian open title defence next month. \"\"i will be heading to australia with a lot of question marks over me",
                  "3": "",
                  "4": "tennis"
                },
                {
                  "0": "231",
                  "1": "tennis051.txt",
                  "2": "capriati out of australian open  jennifer capriati has become the third leading lady to withdraw from the australian open because of injury.  the organisers of the first grand slam of 2005, which begins on 17 january, said the american has a problem with her right shoulder. it comes as a blow to the womens draw as last years champion, justin henin-hardenne, and runner-up, kim clijsters, will also be absent. capriati is a two-time champion in melbourne with wins in 2001 and 2002. she is believed to have picked up the injury at the advanta championships at philadelphia in november and had to pull out of an exhibition match with wimbledon champion maria sharapova on 17 december. capriati also decided against competing in the australian open warm-up event, the sydney international.",
                  "3": "",
                  "4": "tennis"
                },
                {
                  "0": "232",
                  "1": "tennis050.txt",
                  "2": "\"moya emotional at davis cup win  carlos moya described spains davis cup victory as the highlight of his career after he beat andy roddick to end the usas challenge in seville.  moya made up for missing spains 2000 victory through injury by beating roddick 6-2 7-6 (7-1) 7-6 (7-5) to give the hosts an unassailable 3-1 lead. \"\"i have woken up so many nights dreaming of this day",
                  "3": "",
                  "4": "tennis"
                },
                {
                  "0": "233",
                  "1": "atheletics049.txt",
                  "2": "\"jones files conte lawsuit  marion jones has filed a lawsuit for defamation against balco boss victor conte following his allegations that he gave her performance-enhancing drugs.  the sydney olympic gold medallist says conte damaged her reputation and she is seeking $25m (£13m) in the suit. conte, whose company is at the centre of a doping investigation, made the claims in a us television programme. he and three others were indicted in february by a federal grand jury for a variety of alleged offences. in an email to the associated press on wednesday, conte said: \"\"i stand by everything i said\"\". jones won three gold medals and two bronzes in sydney in 2000. her lawsuit",
                  "3": "",
                  "4": "atheletics"
                },
                {
                  "0": "234",
                  "1": "tennis044.txt",
                  "2": "\"connors boost for british tennis  former world number one jimmy connors is planning a long-term relationship with the lawn tennis association to help unearth the next tim henman.  the american spent three days at the ltas annual elite performance winter camp in la manga earlier this week. \"\"britain has the right attitude",
                  "3": "tennis",
                  "4": "tennis"
                },
                {
                  "0": "235",
                  "1": "atheletics061.txt",
                  "2": "johnson edges out rival sotherton  jade johnson edged out rival kelly sotherton with her last effort to claim the aaas long jump title at the norwich union european indoor trials.  olympic heptathlon bronze medallist, sotherton, led the event with her first leap of 6.43m - a personal best. but johnson, who has not competed indoors for five years, leapt to a life-time best of 6.50m in her last jump, after four fouls. both johnson and sotherton passed the european championships qualifying mark. although sothertons main aim in madrid next month will be the pentathlon where she will take on olympic heptathlon champion carolina kluft. irelands  delivered a shock in the mens 200m as he stormed to his first major title in 21.01 seconds. british favourite chris lambert had to settle for second place while defending champion irelands paul brizzel took third. there was some consolation for lambert as he set a personal best of 20.94 in the first round - good enough to qualify for europe.  two-time aaas champion allyn condon and ian mackie had no such luck as they were disqualified in the heats. there was plenty of hot action in the mens 60m hurdles where scotlands  was vying for top spot with olympian andy turner. scott, 22, smashed his personal best on the way to the final, where he broke it again to win the aaas title in 7.58 seconds. turner finished second in 7.82 after previously setting a personal best on the 7.83 in the semi-finals, while damien greaves did not finish the final. the trio of athletes have reached the european qualifying mark this season though one of them is set to miss out on a call-up to the british squad.  comfortably defended her 3,000m title, clocking eight minutes, 49.87 seconds to easily surpass the european qualifying mark. the european cross country bronze medallist is ranked number one in europe this season and will go to madrid with high hopes. helen clitheroe was agonisingly close to the 9:05.00 qualifying mark as she claimed the runners-up spot in a personal best of 9:05.73. in the mens 800m heats,  qualified fastest in the 800m heats to lay down a challenge to in-form  . the welsh runner attacked the last 200m to come through ahead of james thie in one minute, 49.87 seconds. mcilroy, who is third in the european rankings, eased across the finish in 1:50.87 to set up a showdown in sundays final in sheffield. both watkins and mcilroy have already achieved the european qualifying mark. scotlands susan deacon stole  s thunder in the final of the womens 200m. fraser became the fastest british woman over the distance this season when she qualified for the final in 23.68 seconds - though that time is outside the european standard. but deacon claimed her first aaas title over the distance, edging fraser into second in 23.67. in the womens shot put veteran  claimed her fourth aaas title with a throw of 15.27m. but that mark was not good enough for the 39-year-old to book her place at next months european indoor championships in madrid. sotherton finished fifth after producing two throws of 13.77m. in the absence of injured british number one carl myerscough,  claimed the mens shot put title with a throw of 17.64m, which was below the qualifying mark.  sales robert mitchell climbed to a seasons best of 2.20m - just 3cm short of the european standard - to claim the british indoor high jump title.  could only clear 2.16m to finish in fourth but the 27-year-olds disappointment will be tempered as he had already achieved the qualifying mark at a meeting in slovenia on tuesday. there was bad luck for british number one  in the pole vault as he failed to clear the bar after deciding to come in at 5.45m. the aaas indoor title went instead to ashley swain, who climbed to a seasons best of 5.25m and irelands taniesha scanlon set a new national record of 13.28m in the womens triple jump.",
                  "3": "",
                  "4": "atheletics"
                },
                {
                  "0": "236",
                  "1": "football182.txt",
                  "2": "\"mexicans tracking unhappy juninho  mexican outfit red sharks veracruz hope to sign juninho if the brazilian decides to leave celtic frustrated at his lack of first-team action.  their president, gustavo parente sanchez, says juninho \"\"does not wish to remain in scottish football anymore\"\". agent brian hassell insists that the 31-year-old brazilian midfielder is determined to win back his place. \"\"but",
                  "3": "football",
                  "4": "football"
                },
                {
                  "0": "237",
                  "1": "atheletics075.txt",
                  "2": "\"gardener wins double in glasgow  britains jason gardener enjoyed a double 60m success in glasgow in his first competitive outing since he won 100m relay gold at the athens olympics.  gardener cruised home ahead of scot nick smith to win the invitational race at the norwich union international. he then recovered from a poor start in the second race to beat swede daniel persson and italys luca verdecchia. his times of 6.61 and 6.62 seconds were well short of american maurice greenes 60m world record of 6.39secs from 1998. \"\"its a very hard record to break",
                  "3": "",
                  "4": "atheletics"
                },
                {
                  "0": "238",
                  "1": "football196.txt",
                  "2": "\"sanchez targets ni win in warsaw  northern ireland manager lawrie sanchez has targeted the 30 march game in poland as their most important in the world cup qualifying campaign.  while fans are savouring the prospect of playing england at old trafford four days earlier, sanchez knows the polish clash holds the key to second place. \"\"if we do not beat poland the group will be almost dead. they will be pretty sure of second",
                  "3": "",
                  "4": "football"
                },
                {
                  "0": "239",
                  "1": "tennis078.txt",
                  "2": "\"dent continues adelaide progress  american taylor dent reached the final of the australian hardcourt event in adelaide with a crushing 6-1 6-1 win over argentine juan ignacio chela.  dent will meet swede joachim johansson on sunday after the second seed survived a tense tie-break to defeat belgiums olivier rochus 6-1 7-6 (7/5). johansson, the boyfriend of lleyton hewitts sister jaslyn, received strong crowd support on saturday. \"\"it feels like home for me",
                  "3": "",
                  "4": "tennis"
                },
                {
                  "0": "240",
                  "1": "tennis093.txt",
                  "2": "\"clijsters sets up venus match-up  kim clijsters continued her comeback from a wrist injury with a 7-5 6-7 6-1 win over russias nadia petrova in round two of the antwerp diamond games.  the belgian will meet fellow former world number one venus williams in the quarter-finals after the american swept past frances virginie razzano 6-3 6-0. clijsters, sidelined since october, edged a high-quality first set. but petrova hit back in a second-set tiebreak before clijsters pulled clear in the decider, breaking three times. \"\"everythings fine with the wrist",
                  "3": "",
                  "4": "tennis"
                },
                {
                  "0": "241",
                  "1": "rugby074.txt",
                  "2": "\"wales want rugby league training  wales could follow englands lead by training with a rugby league club.  england have already had a three-day session with leeds rhinos, and wales are thought to be interested in a similar clinic with rivals st helens. saints coach ian millward has given his approval, but if it does happen it is unlikely to be this season. saints have a weeks training in portugal next week, while wales will play england in the opening six nations match on 5 february. \"\"we have had an approach from wales",
                  "3": "rugby",
                  "4": "rugby"
                },
                {
                  "0": "242",
                  "1": "football169.txt",
                  "2": "\"mcleish ready for criticism  rangers manager alex mcleish accepts he is going to be criticised after their disastrous uefa cup exit at the hands of auxerre at ibrox on wednesday.  mcleish told bbc radio five live: \"\"we were in pole position to get through to the next stage but we blew it",
                  "3": "",
                  "4": "football"
                },
                {
                  "0": "243",
                  "1": "rugby060.txt",
                  "2": "\"england coach faces rap after row  england coach andy robinson is facing disciplinary action after criticising referee jonathan kaplan in his sides six nations defeat to ireland.  the rugby football union (rfu) will investigate robinson after deciding not to lodge a complaint against kaplan. robinson may even have to apologise for his comments in order to avoid sanction from the international rugby board. robinson had said he was \"\"livid\"\" about kaplans decisions on saturday to disallow two england \"\"tries.\"\" the england coach went on to claim that \"\"only one side was refereed\"\".  after reviewing tapes of the match",
                  "3": "rugby",
                  "4": "rugby"
                },
                {
                  "0": "244",
                  "1": "tennis087.txt",
                  "2": "\"big guns ease through in san jose  top-seeded americans andy roddick and andre agassi survived minor scares to reach the last eight of the sap open.  agassi endured early problems against left-handed dane kenneth carlsen before sealing a 7-5 6-1 victory. and world number three roddick dropped a set to korean player hyung-taik lee, before pulling out a 6-3 3-6 6-2 win in san jose, california. seventh seed jurgen melzer came through 6-3 6-3 against xavier malisse - winner in delray beach last week. frenchman cyril saulnier, meanwhile, fired 19 aces to secure a 6-1 7-6 win over czech qualifier tomas zib.  roddick broke a racket in frustration in the third game of the second set. and afterwards was unimpressed with his form. \"\"im not playing great",
                  "3": "",
                  "4": "tennis"
                },
                {
                  "0": "245",
                  "1": "football141.txt",
                  "2": "\"wenger steps up row  arsene wenger has stepped up his feud with sir alex ferguson by claiming the manchester united manager is guilty of bringing football into disrepute.  the pairs long-running row was put back in the headlines on saturday when ferguson said his arsenal counterpart was \"\"a disgrace\"\". wenger initially refused to bite back",
                  "3": "football",
                  "4": "football"
                },
                {
                  "0": "246",
                  "1": "rugby048.txt",
                  "2": "\"odriscoll/gregan lead aid stars  irelands brian odriscoll will lead the northern hemisphere team in the irb rugby aid match at twickenham.  odriscoll heads a star-studded cast for the contest to raise funds for the tsunami appeal. the south will be led by george gregan, one of four wallabies, alongside five springboks and four all blacks including captain tana umaga. south african flanker schalk burger has shaken off a leg injury to take his place in the starting line-up. he will join fellow springboks john smit, cobus visagie and victor matfield in the south pack, with jacque fourie among the centres. the north side have been hit by the withdrawals of scotland duo gordon bulloch and chris cusiter, plus france captain fabien pelous.  but leicesters england centre ollie smith has been added to the squad, giving him an opportunity to impress lions coach sir clive woodward, who takes charge of the north side. \"\"i think its fantastic for ollie",
                  "3": "rugby",
                  "4": "rugby"
                },
                {
                  "0": "247",
                  "1": "football155.txt",
                  "2": "\"solskjaer raises hopes of return  manchester united striker ole gunnar solskjaer said he hoped to return next season following a career-threatening injury to his right knee.  the 31-year-old norway international had surgery in sweden in august to transplant cartilage into the joint. \"\"im in no doubt that ill play again",
                  "3": "",
                  "4": "football"
                },
                {
                  "0": "248",
                  "1": "cricket092.txt",
                  "2": "\"union to contest vaughan penalty  the hefty fine imposed on england captain michael vaughan during the fourth test against south africa is to be challenged by his players union.  vaughan lost his match fee of £5,500 after referee clive lloyd ruled he was wrong to complain about \"\"inconsistent\"\" umpiring on the second day. the captain felt the umpires erred over whether to play during poor light. pca chief executive richard bevan said: \"\"to impose a 100% fine is ridiculous and taken out of all proportion.\"\"  vaughan was charged with a breach of level two of the international cricket councils code of conduct. there are four levels of offences ranging from one to four with four being the most serious. only those punished for level three or four offences have the opportunity to contest. \"\"if they are going to impose the maximum fine they must allow an appeal procedure",
                  "3": "cricket",
                  "4": "cricket"
                },
                {
                  "0": "249",
                  "1": "cricket086.txt",
                  "2": "australia take control  third test, sydney, day three (close): australia 568; pakistan 304 & 67-1  they put on 153 for the fifth wicket before gilchrist fell to spinner danish kaneria for 113, a 120-ball innings which included five sixes. ponting was bowled by naved-ul-hasan soon after and kaneria worked his way through the tail for figures of 7-188. australia were all out for 568, a lead of 264, with pakistan 67-1 at stumps. the home side were anxious to make up for lost time after rain prevented any play during the morning session. ponting resumed on 155, but was content to play second fiddle to gilchrist, who set about the bowling in his customary forthright manner. he passed 4,000 test runs as australia added 169 during the afternoon and reached his 13th century in spectacular style with two sixes off mohammad asif to reach 92 and then two successive fours off shahid afridi. his captain, meanwhile, registered the highest score by an australian batsman at the sydney cricket ground when he passed greg chappells 182 and was 196 not out at tea. he had lost gilchrist by then, one of three stumping victims for kamran akmal, but newcomer shane watson looked solid in his first test innings as they added 58. pontings 200 arrived off 311 balls with a boundary off naved, but the bowler gained his revenge when the australian skipper chopped a ball into his stumps.  he is now one of only 13 batsmen in history to score four or more double centuries in tests - and only the third australian after sir don bradman and chappell. his departure heralded a rush of five wickets in nine overs with watson caught for 31 off kaneria, who ended the innings with the wicket of shane warne for 16. it was the third time the 24-year-old leg-spinner had taken seven wickets in a test innings. facing such a sizeable deficit, pakistan needed a good start to their second innings and yasir hameed and salman butt began with a flurry of boundaries. they put on 46 in nine overs, but the introduction of spin led to butts undoing as he flashed at a wide ball from stuart macgill and was caught at slip by warne for 21. hameed progressed to 40 not out off 46 balls, and new partner younis khan made five, before an offer of bad light from the umpires brought play to an end.  matthew hayden, justin langer, ricky ponting (capt), damien martyn, michael clarke, shane watson, adam gilchrist (wkt), shane warne, jason gillespie, glenn mcgrath, stuart macgill.  salman butt, imran farhat, yasir hameed, younis khan, yousuf youhana (capt), asim kamal, kamran akmal (wkt), mohammad asif shoaib akhtar, naved-ul-hasan, danish kaneria. umpires: b bowden (nz), d shepherd (eng).",
                  "3": "cricket",
                  "4": "cricket"
                },
                {
                  "0": "250",
                  "1": "cricket079.txt",
                  "2": "\"england hopeful over jones  england are hopeful that simon jones will be fit for the boxing day test against south africa despite going down with a stomach bug.  the glamorgan paceman left fridays practice session early to return to the team hotel. \"\"hes got a slight bug but he had a little bit of a bowl",
                  "3": "",
                  "4": "cricket"
                },
                {
                  "0": "251",
                  "1": "cricket051.txt",
                  "2": "\"scotland take small step into the big time  there was no winners cheque on offer and no increase in status, just a trip to sharjah, a shiny trophy and the prestige of being considered the 11th-best team in world cricket.  but scotland were still celebrating heartily after winning the icc intercontinental cup, beating kenya and canada in the final stages in the united arab emirates. men in suits can talk for as long as they like about infrastructure and development pathways, but sport is about winning, and scotland came through where it mattered. pace bowler john blain, who was man of the match in the final after taking seven wickets, fully realised the importance of an innings victory over canada. \"\"weve been moving on for a number of years now",
                  "3": "cricket",
                  "4": "cricket"
                },
                {
                  "0": "252",
                  "1": "cricket045.txt",
                  "2": "australia dominate india  third test, nagpur, day two (stumps): australia 398 v india 146-5  the home side closed on 146-5, 252 runs in arrears and still 53 short of avoiding the follow-on. glenn mcgrath, playing in his 100th test, took 2-18 in 20 overs as mohammad kaif (47 not out) propped up an innings that crawled at two runs per over. australia were earlier dismissed for 398, with michael clarke falling to zaheer khan (4-95) nine short of a ton. india did not take long in wrapping up australias innings at the start of the day, claiming the three remaining overnight wickets for 36 runs. jason gillespie, lbw to zaheer, and kasprowicz, bowled by agit agarkar, both fell cheaply, leaving mcgrath as clarkes last hope of a second test century. the veteran enjoyed his stay at the crease with two hooked boundaries, and in the end it was he who remained unbeaten when clarke edged behind to end an entertaining knock that included 13 boundaries.  india were given a typically blustery start by virender sehwag, who took four boundaries off gillespies first over. it forced skipper adam gilchrist to protect the boundary with a sweeper after just five overs, but having forced australia on the defensive sehwag soon gave his wicket away. flashing hard at mcgrath, the opener became the aussie pacemans 447th victim when edging into the gloves of the athletic gilchrist, diving high to his right. gillespie, belted out of the attack by sehwag, returned from the other end and struck immediately to have aakash chopra caught by warne at slip for eight.  it left india 35-2 at lunch, and a very quiet period followed the interval as rahul dravid and the returning sachin tendulkar tried to block india to parity. the pair put on 15 runs in one ball shy of 13 dawdling overs before tendulkar was trapped in front of stumps by gillespie (2-47) for eight. the grassy nagpur pitch meant shane warnes introduction was delayed until the 36th over, but two balls were all it took for the test crickets leading wicket-taker to add to his tally. in having vvs laxman caught by clarke in gully, warne ousted him for the third time this series and reduced india to a perilous 75-4 in the process. dravids stay at the crease was a lengthy one but largely unproductive, and after consuming 140 balls for 21 runs he edged mcgrath to slip. it was a predictable end after the veteran paceman had worked indias stand-in skipper over with an array of balls which leapt off the seam on a pitch more akin to australian grounds.  at 103-5 india looked vulnerable, but kaif and parthiv patel - fresh from their century stand in the second test - showed heart in the fading light. it was not plain sailing for kaif - a spurned run-out chance and a catch off a no-ball offered two reprieves - but he grew into his task and even managed a six off warne over long-off. although indias sixth wicket offered the home side hope, australia were in a strong position to push for the victory that would award them a first series victory in india for 35 years.  a chopra, v sehwag, r dravid (capt), s r tendulkar v v s laxman, m kaif, p a patel (wkt), a b agarkar, a kumble m kartik, z khan.  m l hayden, j l langer, s m katich, d r martyn d s lehmann, m j clarke, a c gilchrist (capt, wkt), s k warne m s kasprowicz, j n gillespie, g d mcgrath.  aleem dar, d r shepherd.",
                  "3": "",
                  "4": "cricket"
                },
                {
                  "0": "253",
                  "1": "cricket119.txt",
                  "2": "england need to regroup  south africa duly levelled the series in mid-afternoon when englands unlikely top scorer, steve harmison, was caught in the gully for 42.  england now have three days of relaxation in cape town in which to contemplate their first defeat in 14 matches before heading to johannesburg for the fourth test. coach duncan fletchers main problem is that only a handful of players are currently pulling their weight. of the bowlers, matthew hoggard is plugging away manfully, but he and andrew flintoff appear to be the only seam bowlers michael vaughan feels he can trust at present. simon jones is bowling steadily enough, yet vaughan seems to bring him on only as a last resort while harmison remains a shadow of the bowler who, until this tour, topped the world rankings. spinner ashley giles was more consistent in cape town than in the previous test, but rarely looked threatening. the lack of application of the batsmen, however, has been the principle reason for england having lost their lead. andrew strauss and marcus trescothick can be excused criticism, but even they would admit that, along with all the others, their wickets have been given away far too easily.  what must really frustrate fletcher is that south africas bowling attack is little more than workmanlike, and should not have dismissed england for 139 in their first innings in durban and 163 in the first innings here. on a wearing pitch, they still needed 124 overs to bowl england out a second time, and the last wicket pair of harmison and hoggard were able to add 51 with little difficulty. at least the news of andrew flintoffs injury is encouraging. an mri scan revealed that his problem is an abdominal strain, rather than intercostal. had it been the latter, it would have ended his tour at a stroke, but the belief now is that, with treatment, he should be fit to bowl in johannesburg. if the injury does not recover in time, england face the nightmare of trying to choose a balanced team. mark butchers prognosis does not appear to be as promising. he is wearing a cast on his left wrist which will be removed next week, but time seems to be running out for him. neutral observers still believe that england are the better team, but having avoided defeat in durban and scored a resounding victory here, south africa now have the force with them.",
                  "3": "",
                  "4": "cricket"
                },
                {
                  "0": "254",
                  "1": "football237.txt",
                  "2": "\"petit career ended by knee injury  former france midfielder emmanuel petit has ended his playing career after failing to recover from knee surgery.  the 34-year-old ex-arsenal and chelsea star made the decision before christmas after realising he would never regain full fitness. he told french newspaper lequipe: \"\"i knew straight away it was over. twenty years of your life come to a stop. its like a small death.\"\" petit had not played since being released by chelsea last summer. a key member of the france side that won the 1998 world cup",
                  "3": "",
                  "4": "football"
                },
                {
                  "0": "255",
                  "1": "football223.txt",
                  "2": "\"the wonder of ronaldinho  ronaldinho has the most famous smile in football - but it is the grins his incredible talent has put on the faces of fans that ensured he picked up the world player of the year award on monday night.  the brazilian landed the prize ahead of strikers thierry henry of arsenal and ac milans andriy shevchenko after a year in which his dancing feet dazzled defenders and delighted fans. henry and shevchenko led their clubs to the league titles in england and italy while ronaldinho ended last season trophy-less. but while ronaldinhos achievements may not have won him any medals, they have won him the hearts of a football world. he has turned despair into delight at barcelona since deciding to move to the nou camp instead of manchester united and, in the process, brought a joy back to the sport. barcelona were an ailing club thirsty for former glories to be restored as they hung heavily in the shadows of the \"\"galacticos\"\" of arch-rivals real madrid.  but the arrival of ronaldinho in july 2003 has spearheaded a rapid rise which now sees the catalan club playing the kind of flamboyant football encapsulated by the dashing skills of their playmaker and inspiration. he has fans on the edge of their seats as they wonder what marvels the boy from brazil will produce to amaze them. ronaldinhos magic rarely disappoints and",
                  "3": "football",
                  "4": "football"
                },
                {
                  "0": "256",
                  "1": "atheletics101.txt",
                  "2": "\"event devised to nurture athletes  uk athletics has launched a new outdoor series aimed at creating extra competitive events for athletes just below great britain standard.  the uk challenge will consist of 10 high standard meetings from may until the series final on 3 september. athletes must compete in at least three events to gain a series ranking with the top eight athletes in each discipline contesting the final. the scheme also coincides with plans to introduce a new uk ranking system. a list of the top 100 athletes in each event will be compiled and updated every two weeks throughout the outdoor season. uk athletics chief executive david moorcroft said he hoped the initiatives would stimulate the sport at all levels. \"\"we are building on the development of domestic competition started in the indoor season and will be looking to affect the careers of thousands of british athletes",
                  "3": "atheletics",
                  "4": "atheletics"
                },
                {
                  "0": "257",
                  "1": "rugby100.txt",
                  "2": "\"dawson wins england squad recall  wasps scrum-half matt dawson has been recalled to englands training squad ahead of the rbs six nations and been reinstated in the elite player squad.  coach andy robinson dropped dawson for the autumn tests after he missed training to film a question of sport. \"\"i always said i would consider bringing matt back if i felt he was playing well",
                  "3": "",
                  "4": "rugby"
                },
                {
                  "0": "258",
                  "1": "football009.txt",
                  "2": "\"duff ruled out of barcelona clash  chelseas damien duff has been ruled out of wednesdays champions league clash with barcelona at the nou camp.  duff sustained a knee injury in the fa cup defeat at newcastle and manager jose mourinho said: \"\"he cannot run. his injury is very painful",
                  "3": "",
                  "4": "football"
                },
                {
                  "0": "259",
                  "1": "rugby114.txt",
                  "2": "\"hurter flees falcons nest for sa  newcastle tight-head prop marius hurter will end six years in the north-east when he returns to his native south africa before the new year.  hurter, 34, has signed a deal to play super 12 rugby with the cats and then the currie cup with the lions. he also wants to further his law studies, while his wife is expecting their first child in seven months. falcons boss rob andrew, said: \"\"losing marius is a blow to us but we recognise he has a new life to go to.\"\" hurter",
                  "3": "rugby",
                  "4": "rugby"
                },
                {
                  "0": "260",
                  "1": "football035.txt",
                  "2": "injury doubts beset wales squad  wales have a clutch of injury worries before wednesdays international friendly against hungary in cardiff.  west hams gavin williams (ankle) looks certain to be out, so uncapped wrexham defender stephen roberts is drafted in. defenders danny gabbidon and gareth roberts, plus ryan giggs have hamstring concerns, while there are also doubts over robbie savage (groin). however, manchester united winger giggs is expected to recover in time to earn his 50th cap at the millennium stadium. there were also doubts over gabbidons fellow cardiff defender rhys weston, but the full-back appears to have shrugged off the knock he picked up in the bluebirds 1-0 loss to west ham on sunday. the news leaves wales boss john toshack short in defence for his first game in charge, with aston villas mark delaney injured and james collins with the under-21s. that could clear the way for new faces danny collins and dave partridge to make their wales debuts.  coyne (burnley), jones (wolves), roberts (wrexham), collins (sunderland), edwards (wolves), gabbidon (cardiff), page (cardiff), partridge (motherwell), ricketts (swansea), roberts (tranmere), weston (cardiff), davies (tottenham), fletcher (west ham), giggs (man utd), koumas (west brom), robinson (sunderland), savage (blackburn), williams (west ham), bellamy (newcastle), earnshaw (west brom), hartson (celtic).",
                  "3": "",
                  "4": "football"
                },
                {
                  "0": "261",
                  "1": "rugby128.txt",
                  "2": "\"wales hails new superstar  one game into his six nations career, and gavin henson is already a welsh legend.  a mesmeric display against england, topped off by his howitzer of a match-winning penalty, has secured life membership of that particular club. at 23, henson has the rugby world at his silver-booted feet. and if his natural self-assurance and swagger is shared by his wales team-mates, then a full-blown revival could be more than just a lot of hot air drifting up from the valleys. the \"\"red dragonhood\"\" subdued the \"\"red rose army\"\" in most areas of the field",
                  "3": "rugby",
                  "4": "rugby"
                },
                {
                  "0": "262",
                  "1": "football021.txt",
                  "2": "\"giggs handed wales leading role  ryan giggs will captain wales as he wins his 50th cap in wednesdays friendly against hungary in cardiff.  john toshack, in his first game as coach after succeeding mark hughes, admits he is surprised that giggs has only just reached the landmark. \"\"with the games hes played for united",
                  "3": "",
                  "4": "football"
                },
                {
                  "0": "263",
                  "1": "rugby110.txt",
                  "2": "\"wilkinson: injuries toughened me  england skipper jonny wilkinson insists his battle with injuries during 2004 has toughened him up mentally.  the fly-half returned to action for newcastle in their 13-10 heineken cup win at edinburgh at the weekend after seven weeks out with a bicep problem. wilkinson, who also endured an eight-month lay-off with a shoulder injury, said: \"\"i was physically prepared for my first return but mentally it was hard. \"\"but having had this little time out since then i feel mentally stronger.\"\" the 25-year-old",
                  "3": "",
                  "4": "rugby"
                },
                {
                  "0": "264",
                  "1": "football019.txt",
                  "2": "\"wright-phillips to start on right  england coach sven-goran eriksson has revealed shaun wright-phillips will start against the netherlands.  but wright-phillips will not make his first start for england playing on the left, as had been widely expected. \"\"shaun wright-phillips will probably start the game",
                  "3": "",
                  "4": "football"
                },
                {
                  "0": "265",
                  "1": "rugby104.txt",
                  "2": "\"lions blow to world cup winners  british and irish lions coach clive woodward says he is unlikely to select any players not involved in next years rbs six nations championship.  world cup winners lawrence dallaglio, neil back and martin johnson had all been thought to be in the frame for next summers tour to new zealand. \"\"i dont think you can ever say never",
                  "3": "",
                  "4": "rugby"
                },
                {
                  "0": "266",
                  "1": "football025.txt",
                  "2": "time to get tough on friendlies?  for an international manager, a friendly provides an important opportunity to work with your players.  the only problem is that the game itself can often be a farce. some people have been saying it would be better to get the players together for the week, and do away with the 90 minutes at the end.  i would say its 50-50 whether you should have these games or not, and if you look at it that way you would probably say youre better not doing so. it would certainly keep club managers happy, as it would reduce the risk of players returning to domestic duty injured. but international bosses will tell you that scrapping friendlies is counterproductive because the only way for a team to get better is by playing. the more you play together, the easier it is when it comes to the crunch in games like world cup quarter-finals against brazil. often in friendlies, though, a manager will play his strongest side for the first 45 minutes and then send out an entirely different one in the second half. and its very difficult for any player to come on as substitute in a side with a few changes, let alone a whole teams worth. the debate will rage on, and im not sure there is a satisfactory solution. one manager who has got it right this week is walter smith. the new scotland manager has decided to have a training camp instead of a friendly for his first international week since replacing berti vogts. it is the sort of move you would expect from walter, who is a canny manager.  the players have had such a hard time recently that he is better off getting them together in a relaxed atmosphere and trying to generate some team spirit before the next world cup qualifiers. if he had sent them out on wednesday and they had been badly beaten, it would have done them no good whatsoever. john toshack has his first game in charge of wales, and it will be important for him to get a decent result against hungary. he will have his own ideas on individuals and how to play and will probably look more at the performance, but the public wants results. its extremely difficult to get the balance for friendlies. if you win, people forget them, but if you lose it becomes a stat that can be used against you. englands game against holland is a good example. it looks like a good opportunity to try out players like middlesbrough winger stewart downing or crystal palace striker andy johnson. but you have got to remember sven-goran erikssons side were given a lesson by spain in the last game they played.  the injury problems in defence should at least give the likes of wes brown and jamie carragher a chance to impress. for the club managers, it will simply be a case of waiting at home with fingers crossed.",
                  "3": "",
                  "4": "football"
                },
                {
                  "0": "267",
                  "1": "rugby138.txt",
                  "2": "\"vickery upbeat about arm injury  england prop phil vickery is staying positive despite a broken arm ruling him out of the rbs six nations.  the 28-year-old fractured the radius in his right forearm during gloucesters 17-16 win over bath on saturday. he will undergo an operation on monday and is expected to be out for at least six weeks. he said: \"\"this isnt an injury that will stop me from working hard on the fitness elements and being around the lads.\"\" he added: \"\"ive got the operation this afternoon and i could be back doing fitness work after a week.\"\" \"\"as frustrating as it is",
                  "3": "",
                  "4": "rugby"
                },
                {
                  "0": "268",
                  "1": "football031.txt",
                  "2": "\"premier league planning cole date  the premier league is attempting to find a mutually convenient date to investigate allegations chelsea made an illegal approach for ashley cole.  both chelsea and arsenal will be asked to give evidence to a premier league commission, but no deadline has been put on when that meeting will convene. \"\"its hard to put a date on it",
                  "3": "",
                  "4": "football"
                },
                {
                  "0": "269",
                  "1": "cricket109.txt",
                  "2": "\"pietersen handed one-day call-up  kevin pietersen has been added to the england squad for the forthcoming one-day series in south africa.  the hampshire batsman, who was born in south africa, made his england debut in zimbabwe last november. \"\"it is prudent to add him to the squad as the team face seven one-day internationals in 15 days",
                  "3": "",
                  "4": "cricket"
                },
                {
                  "0": "270",
                  "1": "football227.txt",
                  "2": "\"blatter suggests offside change  fifa president sepp blatter has recommended a radical change to footballs offside laws.  blatter wants to simplify the current laws which partially rely on the interpretation of assistant referees. \"\"you must make the rule simpler by saying only the player who receives the ball can be offside - there should not be passive offsides anymore",
                  "3": "",
                  "4": "football"
                },
                {
                  "0": "271",
                  "1": "football233.txt",
                  "2": "\"man utd urged to seal giggs deal  ryan giggs agent has told manchester united to end the deadlock surrounding the welsh wingers contract.  giggs is signed up until 2006 and the 31-year-old is looking for a new two-year deal as he bids to end his playing days at old trafford. however, united have only offered a one-year extension in line with their policy of contract negotiations with players over 30. \"\"i dont think he is asking for the world",
                  "3": "",
                  "4": "football"
                },
                {
                  "0": "272",
                  "1": "cricket121.txt",
                  "2": "\"sri lanka decide to continue tour  sri lanka are to continue their cricket tour to new zealand after a five-day period of mourning for those killed by the tidal waves in south asia.  the death toll is now at around 23,000, almost half of them sri lankans, and many more are still missing. \"\"cricket is not the thing on our minds at the moment",
                  "3": "cricket",
                  "4": "cricket"
                },
                {
                  "0": "273",
                  "1": "cricket069.txt",
                  "2": "\"bskyb lands england deal  live coverage of englands home test matches will no longer be available on terrestrial tv from 2006 onwards.  the england and wales cricket board has awarded an exclusive four-year contract to bskyb, which will run until 2009. highlights of each days play in the test matches will, however, be screened on five, which replaces channel 4 as crickets sole terrestrial broadcaster. the bbc has retained the exclusive rights for radio coverage of home tests and one-day internationals. england and wales cricket board chairman david morgan said the various deals would be worth £220m, a 10% real terms increase on the previous agreements for 2002-2005. \"\"we understand that the decision to place all live cricket coverage on satellite and cable television is an emotive issue for some people",
                  "3": "cricket",
                  "4": "cricket"
                },
                {
                  "0": "274",
                  "1": "cricket041.txt",
                  "2": "\"world xi win tsunami match  tsunami appeal match, melbourne: icc world xi 344-8 beat asian 232 xi by 111 runs  ricky ponting hit 115 in a massive total of 344-8 after electing to bat first in front of a crowd of 70,101. rahul dravid top-scored with 75 not out in the asian xi reply, after virender sehwags brisk 45. daniel vettori took 3-58 while englands darren gough took a wicket and a catch. shane warne had 2-27. the game, broadcast in 122 countries to an estimated global television audience of one billion, began with a minutes silence for the victims of the tsunami.  australian prime minister john howard tossed a coin to start the match. and afterwards the international cricket council chief executive, malcolm speed, paid tribute to the players for taking part. he said: \"\"this signifies the games compassion and commitment to provide as a much help as possible to enable the survivors of the tsunami to rebuild their lives so far as this is possible.\"\" ponting entertained the fans early on by hitting some big shots off anil kumble and abdul razzaq and the world xis run rate was soon ticking along at a healthy rate. chris cairns (69) and brian lara (52) enjoyed themselves as a middle order packed with stars delivered the goods.  and there was plenty of time for the unorthodox - australia tailender glenn mcgrath batted at number six",
                  "3": "cricket",
                  "4": "cricket"
                },
                {
                  "0": "275",
                  "1": "cricket055.txt",
                  "2": "murali to miss one-dayers in nz  sri lanka have put back plans to take spinner muttiah muralitharan on the one-day leg of their new zealand tour.  muralitharan was to have travelled with the team as part of his rehabilitation from shoulder surgery but now needs to prove his fitness before joining them. he will aim to play in a practice match in sri lanka on 27 december, two weeks before the first test in auckland. the off spinner resumed bowling last week and is currently bowling 24 balls every other day in the nets. sri lanka begin their tour of new zealand on 21 december, playing two tests and five one-day internationals. surgeon david young operated on muralitharan in august to treat a lesion which had caused a build-up of fluid around the nerves in his right shoulder. at the time of his injury, muralitharan held the world record of 532 test wickets, which has since been surpassed by australias shane warne.",
                  "3": "",
                  "4": "cricket"
                },
                {
                  "0": "276",
                  "1": "cricket082.txt",
                  "2": "youhana leads from front  second test, melbourne, day one (close): pakistan 318-6 v australia  stand-in captain yousuf youhana led the way in melbourne, smashing a superb ton and putting on 192 with younis khan. but the australians hit back late when youhana missed a shane warne full toss and was stumped for 111. jason gillespie, the pick of the bowlers with 3-72, then ousted younis and shoaib malik in quick succession. younis was caught behind by adam gilchrist off gillespies first delivery with the second new ball for 87.  and the paceman struck again in his next over when malik was caught at slip by ricky ponting for seven, pakistan losing three wickets for just 15 runs. abdul razzaq was not out on one and kamran akmal unbeaten on 16 at the close of play. earlier, salman butt hit his maiden test half-century as he put on 85 for the first wicket with imran farhat.  michael kasprowicz claimed the only wicket to fall before lunch when he had farhat brilliantly caught by ponting at slip for 20. but the hosts struck straight after the interval when yasir hameed was trapped leg before by gillespie for two. butts brave knock came to an end when he was run out by a superb throw from michael clarke going for a second run. the opener had made 70 and his dismissal left pakistan struggling on 94-3. but youhana, filling in as captain for the injured inzamam-ul-haq, and younis steadied the ship. australia, who were lifted before the start of play by news that in-form opener justin langer was fit enough to take his place in the side, won the first test in perth by 491 runs. overall, pakistan have only won four times in 27 tests played in australia, although two of those successes came at the mcg.  j l langer, m l hayden, r t ponting (capt), d r martyn d s lehmann, m j clarke, a c gilchrist (wkt), s k warne j n gillespie, m s kasprowicz, g d mcgrath.  salman butt, imran farhat, younis khan yousuf youhana (capt), yasir hameed, shoaib malik, abdul razzaq kamran akmal (wkt), mohammad sami, shoaib akhtar, danish kaneria.  r e koertzen and j w lloyds",
                  "3": "",
                  "4": "cricket"
                },
                {
                  "0": "277",
                  "1": "cricket096.txt",
                  "2": "\"england victory tainted by history  as england attempt to secure a series victory in south africa, they will do so at the venue for a previous match which became the stuff of test cricket folklore.  south africas meeting with england at centurion park in january 2000 was thought to have been an enthralling spectacle, with the tourists claiming a remarkable win after three whole days were lost to bad weather. it took a few short months to reveal the unfortunate truth; that a bookmaker had given home skipper hansie cronje money - and a leather jacket - to influence the outcome of the match. cronje, who was killed two years later in a plane crash, was subsequently found guilty of match-fixing and banned from test cricket for life. opening the bowling for england was andy caddick, who told bbc sport: \"\"they were 2-0 up in the series",
                  "3": "cricket",
                  "4": "cricket"
                },
                {
                  "0": "278",
                  "1": "tennis083.txt",
                  "2": "\"safin relieved at aussie recovery  marat safin admitted he thought he was suffering another australian open final nightmare when he lost the opening set to lleyton hewitt.  the russian, who lost the 2002 and 2004 finals, fought back brilliantly to win 1-6 6-3 6-4 6-4. \"\"i was nervous and i couldnt play tennis",
                  "3": "tennis",
                  "4": "tennis"
                },
                {
                  "0": "279",
                  "1": "rugby064.txt",
                  "2": "\"moore questions captaincy  brian moore believes the england captain should not be a full-back.  jason robinson has led the team during their opening three defeats in the six nations tournament, in the absence of fly-half jonny wilkinson. the world champions have struggled since the retirement of former captain martin johnson, a lock forward. and former england captain moore told the bbc: \"\"full-backs are too far away from the action. thats not a reflection on robinson personally.\"\" he added: \"\"i just think the point of influence needs to move closer to the pack - which is",
                  "3": "",
                  "4": "rugby"
                },
                {
                  "0": "280",
                  "1": "football179.txt",
                  "2": "\"blues slam blackburn over savage  birmingham have confirmed blackburn made a bid for robbie savage - but managing director karen brady has called it \"\"derisory\"\".  rovers have reportedly offered £500",
                  "3": "",
                  "4": "football"
                },
                {
                  "0": "281",
                  "1": "rugby070.txt",
                  "2": "\"scots suffer another injury blow  scotlands back row crisis has worsened ahead of the rbs six nations with news that scott gray will miss out on the opening matches.  the borders flanker has a knee injury and joins donnie macfadyen and allister hogg on the sidelines. star number eight simon taylor will miss at least the first two games after damaging an ankle during his comeback. scott macleod (ankle ligaments) and jon petrie (cartilage) are also doubtful for the opener in paris on 5 february. gray, 26, who won his first cap against australia at murrayfield last year, was hurt in club action at the weekend. scotland doctor james robson said: \"\"a scan has shown damage to the medial ligaments of scotts right knee ruling him out of the first part of the championship. \"\"we will seek further specialist advice in due course to determine just how long scott may be out for.\"\" another potential option",
                  "3": "",
                  "4": "rugby"
                },
                {
                  "0": "282",
                  "1": "tennis097.txt",
                  "2": "\"mauresmo fights back to win title  world number two amelie mauresmo came from a set down to beat venus williams and win the diamond games in antwerp.  mauresmo, who lost to dinara safina in the final of the paris indoor open last week, beat the third seed 4-6 7-5 6-4 for her first title of the season. the frenchwoman produced some superb volleys in the final set and claimed victory on her fifth match point after two hours and 18 minutes. \"\"this was a great final for a great tournament",
                  "3": "",
                  "4": "tennis"
                },
                {
                  "0": "283",
                  "1": "football151.txt",
                  "2": "\"bomb threat at bernabeu stadium  spectators were evacuated from real madrids bernabeu stadium on sunday following a bomb scare during the game between the hosts and real sociedad.  more than 70,000 people abandoned the ground with the score at 1-1 and only three minutes left to play. the basque newspaper gara apparently received a telephone call saying a bomb was due to explode at 2100 local time. but after searching the stadium with sniffer dogs, the police said that no explosive device had been found.  \"\"the police have said they have completed their search and have not found anything",
                  "3": "",
                  "4": "football"
                },
                {
                  "0": "284",
                  "1": "rugby058.txt",
                  "2": "\"charvis set to lose fitness bid  flanker colin charvis is unlikely to play any part in wales final two games of the six nations.  charvis has missed all three of wales victories with an ankle injury and his recovery has been slower than expected. \"\"he will not figure in the scotland game and is now thought unlikely to be ready for the final game",
                  "3": "",
                  "4": "rugby"
                },
                {
                  "0": "285",
                  "1": "football145.txt",
                  "2": "\"beckham relief as real go through  david beckham expressed his relief at real madrids passage to the champions league knockout phase.  after reals 3-0 win at roma, the england skipper admitted another season of under-achievement would not be tolerated at the bernabeu stadium. beckham said: \"\"its expected of madrid to get through",
                  "3": "",
                  "4": "football"
                },
                {
                  "0": "286",
                  "1": "tennis040.txt",
                  "2": "\"davenport puts retirement on hold  lindsay davenport has put any talk of retirement on hold after having a largely injury-free 2004 campaign.  the 28-year-old world number one had said that she would quit at the end of last year, but after a successful season she has had a change of heart. \"\"finally i felt i put myself in a position to try and win grand slams again",
                  "3": "",
                  "4": "tennis"
                },
                {
                  "0": "287",
                  "1": "atheletics059.txt",
                  "2": "european medal chances improve  what have the european indoor trials told us? well, i think we could be heading to the european championships with half a dozen medal prospects.  it was good to see athletes beginning to make steps forward, to see a few new faces and there were lots of personal bests kicking around.  the best performance on the track for me was sarah claxtons win in the 60m hurdles. running sub-eight seconds twice in a week puts her right up there and if she repeats that in madrid she will be close to picking up a medal. but what was great about sundays performance was that she was under pressure to produce the goods when it counted. diane allahgreen has been our best hurdler for some time now and i think she was surprised to be beaten by sarah. and knowing that she got the better of diane in a head-to-head race will give sarah confidence. in the mens race on saturday, allan scott was right in there and there is definitely more to come from him. in fact, the mens 60m hurdles is so strong, i think the selectors will pick three hurdlers to go to madrid.  phillips idowu lit up the field events, not only with his hair, but also with his leap of 17.30m, which puts him at the top of the world rankings. i had a chat with him before the competition and he was really looking forward to getting out there. he feels he is in great shape and has some big jumps inside him - but then phillips always has. a lot of the athletes said the runway was not very helpful, so for phillips to jump like that is a good performance. he is such a huge talent but just needs some consistency - and if he does that then the big jumps will get even further. across the board i thought kelly sotherton had a great weekend and continued to show she is developing. she picked up three personal bests in the long jump, high jump and 60m hurdles and you cant ask for more than that. kelly will be up against carolina kluft in the pentathlon at the european championships but she has every chance of a medal on the basis of what weve seen so far.  she has a complicated training regime where different people help her with different disciplines but it seems to be working really well. it wasnt all good news in sheffield. i thought both the 60m races were disappointing in different ways. jason gardener may have won but he wasnt at his best. i chatted to him afterwards and he knows it was an off-day for him. hes there to be shot at and the other lads nearly got a big scalp out there. in the womens race, jeanette kwayke was hoping to run against defending champion joice maduaka. the pair are enjoying a bit of rivalry but joice had to pull out with a chest infection. if she had made the final i think jeanette would have gone a bit quicker.  janine whitlock competed well in the pole vault on her return following a two-year drugs ban. but the most disappointing thing in the wider view is that she is our best pole vaulter by a long way and that shouldnt be the case. the event has moved on immensely since janine has been away and if there was more domestic competition i think that would help her. a couple of other interesting topics to look out for are the citizenship issues surrounding mark findlay and rabah yusuf. findlay is a londoner who has chosen to represent trinidad and tobago but has never run for them so he could still compete for great britain. yusuf, who came third in the 400m, is from the sudan but is trying to gain british citizenship. he came to britain as a high jumper but damaged his toe, started doing more running and found his talent. so we shall have to see what happens to both of them.",
                  "3": "",
                  "4": "atheletics"
                },
                {
                  "0": "288",
                  "1": "tennis054.txt",
                  "2": "\"mauresmo opens with victory in la  amelie mauresmo and maria sharapova won their opening matches at the tour championships in los angeles.  frances mauresmo routed vera zvonareva 6-1 6-0, while wimbledon champion sharapova was a 6-1 6-4 winner over fellow russian svetlana kuznetsova. american serena williams also won, edging russian elena dementieva 7-6 7-5 for her second victory of the event. the event is split into two groups of four with the top two from each advancing to the semi-finals.  mauresmos win was her ninth in a row as she tries to overtake lindsay davenport for the number one spot. mauresmo spent five weeks at number one after the us open before injury ushered davenport back in front. \"\"since then",
                  "3": "",
                  "4": "tennis"
                },
                {
                  "0": "289",
                  "1": "football192.txt",
                  "2": "\"wenger refuses to give up title  arsene wenger refused to concede the title, despite arsenal falling seven points behind chelsea after their 1-1 draw with manchester city at highbury.  he said: \"\"we have to believe we can come back and give everything in every game. for us to give up and say chelsea have won it would be criminal. \"\"i am very concerned because we have never been so far behind and chelsea do not look like dropping seven points. \"\"but we will still give our best until the end of the season.\"\" wenger blamed his sides mounting injury list",
                  "3": "",
                  "4": "football"
                },
                {
                  "0": "290",
                  "1": "atheletics071.txt",
                  "2": "\"tomlinson stays focused on europe  long jumper chris tomlinson has cut his schedule to ensure he is fully fit for the european indoor championships.  the 23-year-old has a minor injury and has pulled out of international meets in madrid and lievin this week as well as warm-weather training in lanzarote. \"\"its nothing serious",
                  "3": "",
                  "4": "atheletics"
                },
                {
                  "0": "291",
                  "1": "football186.txt",
                  "2": "\"mourinho takes swipe at arsenal  chelsea boss jose mourinho has attempted to pile the pressure on title rivals arsenal ahead of the gunners facing newcastle on wednesday.  arsenal will play the magpies a day after chelsea beat portsmouth during a busy festive programme. and mourinho said: \"\"they always seem to have two or three days rest in which to recover. perhaps its something to do with the television schedule. \"\"all my players are tired",
                  "3": "",
                  "4": "football"
                },
                {
                  "0": "292",
                  "1": "atheletics065.txt",
                  "2": "\"radcliffe will compete in london  paula radcliffe will compete in the flora london marathon this year after deciding her schedule for 2005.  the 31-year-old won the race in 2002 on her marathon debut, defended her title 12 months later and will now seek a third title in the 17 april race. \"\"it doesnt get any better than this for the 25th anniversary",
                  "3": "",
                  "4": "atheletics"
                },
                {
                  "0": "293",
                  "1": "tennis068.txt",
                  "2": "\"williams battles to aussie title  serena williams staged a remarkable recovery to beat lindsay davenport and win her second australian open title.  the 2003 champion claimed her seventh grand slam title, and her first since wimbledon in 2003, 2-6 6-3 6-0. williams had looked close to quitting with a rib injury when she left the court for treatment after five games. she quickly dropped the first set but from 3-3 in the second found another gear as davenports game collapsed, allowing williams to take the title. williams later explained her injury problem, saying it was the result of lunging for a ball early in the first set. \"\"lindsay had me on the run out wide on my backhand and my back went but eventually i was able to come back",
                  "3": "",
                  "4": "tennis"
                },
                {
                  "0": "294",
                  "1": "atheletics064.txt",
                  "2": "\"mcilroy continues winning streak  james mcilroy stormed to his second international victory in less than a week, claiming the mens 800m at the teag indoor meeting in erfurt.  the northern ireland runner set a new personal best of one minute, 46.68 seconds - a time good enough to qualify for the european indoor championships. \"\"im qualified now and thats what matters most",
                  "3": "",
                  "4": "atheletics"
                },
                {
                  "0": "295",
                  "1": "football187.txt",
                  "2": "\"wenger shock at newcastle dip  arsenal manager arsene wenger has admitted he is at a loss to explain why newcastle are languishing in the bottom half of the table.  the gunners travel to st james park on wednesday, with newcastle 14th in the premiership after a troubled season. and wenger said: \"\"at the beginning of the season you would expect them to be fighting for the top four. \"\"i dont know how they got to be where they are. it looks to me from the outside that they have many injuries.\"\"  arsenal go into the game on the back of a 2-0 victory over fulham on sunday. and wenger added: \"\"the best way to prepare for a game is to win the previous one. we will go to newcastle in good shape. \"\"fatigue wont play too big a part in the next few weeks as we have players coming back so i can rotate a bit more. \"\"we do not play a season with 11 players and i believe that all of our squad deserve a chance in the team.\"\" striker thierry henry",
                  "3": "",
                  "4": "football"
                },
                {
                  "0": "296",
                  "1": "tennis069.txt",
                  "2": "\"safin cool on wimbledon  newly-crowned australian open champion marat safin has ruled out any chance of winning wimbledon in the future.  after losing in round one last year, safin said he had \"\"given up\"\" on wimbledon and winning his second grand slam title has not changed his mind. \"\"ill play",
                  "3": "",
                  "4": "tennis"
                },
                {
                  "0": "297",
                  "1": "atheletics070.txt",
                  "2": "record fails to lift lacklustre meet  yelena isinbayeva may have produced another world pole vault record, but her achievement could not hide the fact it was not the best meet we have ever seen in birmingham.  and hey, there are not many meets that go by without the russian breaking a world record.  apparently, isinbayeva has cleared five metres in training and i would just love her to put us out of our misery and have a go at it rather than extending the indoor record by one centimetre at a time. athletics to me is all about pushing the barriers and being the best you can, and i would like to see her have a go at 5m in competition. mind you, every time she breaks the record she gets $30,000 so she can afford to be deliberate about it. world records aside, i thought it was a very encouraging evenings work for kelly holmes. she looked good and was very positive. agnes samaria, who came second, is in very good shape and is in the worlds top three 800m runners this season. yes, samaria let kelly get away, but there was no coming back over the last 200m as kelly dominated the race, so beating samaria is a bit of a benchmark for kelly. my gut feeling is that kelly would like to run in the european indoor championships, but she just hasnt convinced herself she is fit enough to do so. on the other hand, i think jason gardener is struggling to come near what is going to be required to win the mens 60m in madrid. he started well in the final but still could not stay with the front-runners. jason has a lot of experience indoors but for some reason he is struggling to maintain his pace through to the finish.  it would have been nice to see what mark lewis-francis could have done in the final, if only he hadnt got himself disqualified. he was blatantly playing the false-start game to his advantage, but it tripped him up and made him look a bit silly. my view is youre meant to go when the gun goes and not before. and if you try to unsettle your rivals by employing the false-start tactic you have to remember not to false start yourself again. having said that, mark is looking in much better shape. but i havent seen anything from mark or jason yet which suggests frances ronald pognon - who has run 6.45 seconds - will be under threat at the europeans. from a british point of view, sarah claxtons victory in the 60m hurdles was the best thing to come out of the meet.  something else that probably went unnoticed was melanie purkiss winning the womens national 400m race in a new personal best of 52.98 seconds. aaas champion kim wall came second in another lifetime best so we have a very strong 4x400m squad going to the european championships. scotlands lee mcconnell is probably going to run too, so we have a real prospect of a medal. from an international perspective, i thought meseret defar was disappointing in the 3,000m, but i dont think the pace-making was great. canadian heather hennigar set a fast early pace but could not maintain it and if jo pavey had been in last years shape she would have given defar a real run for her money. she had a go but just could not hang in there. we were also expecting a bit more from bernard lagat in the mens 1500m. but he has only just come over from the usa, so he may not be that sharp and i still think he is in great shape. as for kenenisa bekele, he was well beaten by markos geneti. but we only had half expectations for bekele as he has been struggling this season. it was very hot in the national indoor arena and i felt uncomfortable in the commentary box. i think those conditions affected the distance runners and in fact defar complained to her coach after the race that she could not get her breath properly.",
                  "3": "atheletics",
                  "4": "atheletics"
                },
                {
                  "0": "298",
                  "1": "football193.txt",
                  "2": "\"henchoz prefers england to gers  rangers could miss out on liverpool defender stephane henchoz because he wants to continue playing in england.  the ibrox club have offered a deal to the swiss international, 30, who is out of contract at the end of the season and has been linked with southampton. more talks are planned between rangers and the players agent on wednesday, but henchoz said: \"\"actually i would like to stay in the premiership. \"\"rangers offer is not the only one and i will have to consider each of them.\"\" henchoz seems certain to leave liverpool after recently criticising manager rafael benitez. rangers want him as a replacement for jean-alain boumsong",
                  "3": "",
                  "4": "football"
                },
                {
                  "0": "299",
                  "1": "atheletics058.txt",
                  "2": "\"gardener battles to narrow win  jason gardener fought all the way to the line to narrowly claim the mens 60m title at the norwich union indoor trials and aaas championships.  the world 60m champion got off to a rolling start and had to dig deep to dip ahead of mark findlay and darren chin, who both set personal bests. \"\"it was a close race",
                  "3": "",
                  "4": "atheletics"
                },
                {
                  "0": "300",
                  "1": "tennis055.txt",
                  "2": "\"agassi fear for melbourne  andre agassis involvement in the australian open was put in doubt after he pulled out of the kooyong classic with a hip injury.  agassi was serving at 5-6 down in the first set to fellow american andy roddick when he decided to bring a premature end to the match. \"\"my hip was cramping and i just could not continue",
                  "3": "",
                  "4": "tennis"
                },
                {
                  "0": "301",
                  "1": "tennis041.txt",
                  "2": "\"rusedski angry over supplements  greg rusedski has criticised the governing body of mens tennis for not releasing contamination-free supplements in time for the new season.  rusedski said: \"\"i tried to order some but didnt receive any and i havent got any yet. \"\"you would think they would have been available in december as it can take two months for the body to respond. \"\"this event comes in the hottest period of the year",
                  "3": "tennis",
                  "4": "tennis"
                },
                {
                  "0": "302",
                  "1": "football144.txt",
                  "2": "\"ferguson puts faith in youngsters  manchester united manager sir alex ferguson said he has no regrets after his second-string side lost 3-0 away at fenerbahce in the champions league.  ferguson said: \"\"the good thing about being manager is that you are in control of which team to pick. \"\"i care about united",
                  "3": "",
                  "4": "football"
                },
                {
                  "0": "303",
                  "1": "rugby059.txt",
                  "2": "\"robinson out of six nations  england captain jason robinson will miss the rest of the six nations because of injury.  robinson, stand-in captain in the absence of jonny wilkinson, had been due to lead england in their final two games against italy and scotland. but the sale full-back pulled out of the squad on wednesday because of a torn ligament in his right thumb. the 30-year-old will undergo an operation on friday but england have yet to name a replacement skipper.  robinson said: \"\"this is very disappointing for me as this means i miss englands last two games in the six nations at twickenham and two games for my club",
                  "3": "",
                  "4": "rugby"
                },
                {
                  "0": "304",
                  "1": "football150.txt",
                  "2": "\"pearce keen on succeeding keegan  joint assistant boss stuart pearce has admitted he would like to succeed kevin keegan as manager at manchester city.  keegan has decided to step down as city manager when his contract comes to an end in 18 months. \"\"you dont have to be einstein to realise there will be a managers job available at a really good club",
                  "3": "",
                  "4": "football"
                },
                {
                  "0": "305",
                  "1": "rugby071.txt",
                  "2": "osullivan keeps his powder dry  when you are gunning for glory and ultimate success keeping the gunpowder dry is essential.  ireland coach eddie osullivan appears to have done that quite successfully in the run-up to this seasons six nations championship. he decreed after the 2003 world cup that players should have a decent conditioning period during the year. that became a reality at the end of last summer with a 10-week period at the start of the this season. it may have annoyed his scottish, and in particularly welsh, cousins who huffed and puffed at the disrespect apparently shown to the celtic league. we will say nothing of mike ruddock poaching eight of the dragons side that faced leinster on sunday. but, like osullivan, he was well within his rights, particularly when you are talking about the national side and pride that goes along with it. the irfu has thrown their weight behind osullivan, who must be glad that in the main, there is centrally-controlled contracts. bar keith gleeson who is just returning from a broken leg, everyone of osullivans squad is fit, fresh and standing at the oche ready to launch this seasons campaign.  but i doubt whether osullivan is going to gloat about the handling of his players. he is not that sort of person. however, he may look at the overworked and injury-hit england, wales and france squads whose players have been overworked, and then pat himself on the back for his foresight. but there is still the question of turning up and transferring that freshness into positive results when the referee signals the start of the game. already ireland are being earmarked as hot favourites in many quarters to go the whole hog this season. a first grand slam since karl mullens led the team to a clean sweep in 1948. with england and france visiting lansdowne road for the last time before the old darling is pulled down, everything looks perfectly placed. but in the days of yore that frightened the life out of any irishman.  under the burden of great expectations, ireland have crumpled. take the triple crown-winning side of 1985 under mick doyle. they were expected to up the ante further for a grand slam, only the second in irelands history. what happened in 1986? whitewashed. you see, ireland, in any sport, love to be downsized. then they can go out and prove a point to the contrary. it is the nature of the beast. but osullivans side are very capable of proving a salient point this season. after their first triple crown for 19 years, they can live up to their success and take a further step up the ladder. osullivan has kept faith and displayed loyalty to his players, and they have repaid him in spades ... and there is more to come. he has some old dogs in his squad, but he will come to this seasons championship with a different box of tricks, and a new verve to succeed. ireland can indeed succeed, but just whisper it.",
                  "3": "",
                  "4": "rugby"
                },
                {
                  "0": "306",
                  "1": "football178.txt",
                  "2": "\"newcastle to join morientes race  newcastle have joined the race to sign real madrid striker fernando morientes and scupper liverpools bid to snap up the player, according to reports.  liverpool were reported to have bid £3.5m for the 28-year-old spanish international this week. but the liverpool echo newspaper has said anfield boss rafa benitez will avoid a bidding war and instead turn his attentions to nicolas anelka. real are believed to still want £7m before selling morientes. monaco are also in the race for the player they had on loan last season. reports suggest liverpool will lift their offer to £5m - the highest they are willing to go before bowing out of any deal.  on tuesday, morientes had said: \"\"i like liverpool and i am pleased that a club of their stature want to buy me. i have told madrid that i want it to happen. \"\"madrid know my situation and they know they must do something about me. they must sort out the situation by being sensible. \"\"i am in a position where i want to play",
                  "3": "",
                  "4": "football"
                },
                {
                  "0": "307",
                  "1": "tennis096.txt",
                  "2": "\"agassi into second round in dubai  fourth seed andre agassi beat radek stepanek 6-4 7-5 in the first round of the dubai tennis championships.  the 34-year-old, moving well despite a hip problem which needed an injection, served well and won 80% of his first serve and 76% of his second. but the american could not break the czech stepanek until the final game of the first set and in the second he had to fight back after losing his serve. agassi, making his first appearance at the event, received a standing ovation. he said: \"\"i have had a few great days here in dubai. i have waited a long time to be here",
                  "3": "tennis",
                  "4": "tennis"
                },
                {
                  "0": "308",
                  "1": "tennis082.txt",
                  "2": "\"minister digs in over doping row  the belgian sports minister at the centre of the svetlana kuznetsova doping row says he will not apologise for making allegations against her.  claude eerdekens claims the us open champion tested positive for ephedrine at an exhibition event last month. criticised for making the announcement, he said: \"\"i will never apologise. this product is banned and its up to her to explain why its there.\"\" kuznetsova says the stimulant may have been in a cold remedy she took. the russian said she did nothing wrong by taking the medicine during the event. the womens tennis association cleared kuznetsova of any offence because the drug is not banned when taken out of competition.  eerdekens said he made the statement in order to protect the other three players that took part in the tournament",
                  "3": "tennis",
                  "4": "tennis"
                },
                {
                  "0": "309",
                  "1": "rugby065.txt",
                  "2": "\"owen set for skipper role  wales number eight michael owen says replacing gareth thomas as wales captain will be straightforward because of the leadership quality in the squad.  \"\"you dream about playing for wales",
                  "3": "",
                  "4": "rugby"
                },
                {
                  "0": "310",
                  "1": "cricket097.txt",
                  "2": "\"ashes defeat wont hurt aussies  australia great rodney marsh says it would do his country no harm if they were to return from england in september having lost the ashes.  \"\"in the big picture",
                  "3": "",
                  "4": "cricket"
                },
                {
                  "0": "311",
                  "1": "cricket083.txt",
                  "2": "england duo hit centuries  second test, durban, day three (close): england: 139 & 281-1 v south africa 332  both hit 132 - strauss was unbeaten - as england finished day three 88 ahead on 281-1, having started it 163 behind. it was the 16th 200-run opening stand in englands history, and by the time trescothick was bowled by shaun pollock it was the countrys fifth best ever. mark butcher was strausss partner at stumps in durban, unbeaten on one. trescothick bludgeoned 20 fours and two sixes in his 261-ball innings, with strauss hitting 16 boundaries from 272 balls faced. it was the duos fourth stand of 150 or more and their best return in nine tests together, bettering the 190 they shared against new zealand at lords this summer. in what had been a low-scoring game, england started the day on 30-0 and seemingly with a mountain to climb. but, allied to some loose bowling, the vagaries of the pitch which had hindered them on day one had disappeared to make life easier for england.  the first-wicket pair was circumspect in the opening 30 minutes of play, but soon feasted on the tripe served up by dale steyn, whose three-over spell cost 31 runs. the rookie paceman bowled short and wide, inviting strauss to hook at will and trescothick to take him for three successive boundaries through the off-side. the transformation of england - and indeed the pitch - was illustrated by their lunch score of 137-0, just two runs fewer than their entire first-innings effort. south africa looked seriously bereft of options in the afternoon, with skipper graeme smith fruitlessly turning to himself, steyn returning to the attack and nicky boje failing to threaten.  pollock was the only one to bother englands rampant openers, beating the outside edge of both batsmen. but there was to be no moving the batsmen as they rose through the ranks of englands greatest first-wicket stands. englands previous best in durban - 160 by wally hammond and bob wyatt 73 years ago - fell away, and 31 runs later a new record for all teams at the ground was set. when the 200-run mark was passed, it was the first time englands opening wicket had done so since graeme gooch and mike atherton against australia in 1991.  the openers reached triple figures within moments of each other, trescothick for the ninth time and strauss for the fourth - and second in two tests. both carried on in the same vein after tea, with trescothick hoicking boje over mid-wicket for six and strauss striking successive fours in the same over. south africas only hope looked to be the new ball, and the dependable pollock finally gave the hosts something to cheer when trescothick edged a simple catch behind late on. strauss, chanceless all day, next over gave south africa a sniff when edging ntini low down to second slip, where martin van jaarsveld spilled a tough one-handed chance. bad light ceased play 11 overs ahead of schedule, and play will start 30 minutes early on day four.  graeme smith (captain), herschelle gibbs, jacques rudolph, jacques kallis, martin van jaarsveld, hashim amla, ab de villiers, shaun pollock, nicky boje, makhaya ntini, dale steyn.  marcus trescothick, andrew strauss, mark butcher, michael vaughan (captain), graham thorpe, andrew flintoff, geraint jones, ashley giles, matthew hoggard, simon jones, stephen harmison.  d hair, s taufel.",
                  "3": "",
                  "4": "cricket"
                },
                {
                  "0": "312",
                  "1": "cricket054.txt",
                  "2": "\"butt provides boost for pakistan  tour match, perth: pakistan 256-9 (50 overs) v cricket australia chairmans xi  his 135-ball innings included a six and 11 fours and gave his side a lift after their surprise defeat by western australias second xi last week. medium pacer mike hussey proved the most effective bowler for the home side, taking 3-28. pakistan opted to leave out pacemen shoaib akhtar and mohammad sami. they were held back for the four-day game against western australia, starting on thursday - their final warm-up before the first test. all-rounder shoaib malik was also rested after hurting his right arm while playing table football. \"\"its nothing serious",
                  "3": "cricket",
                  "4": "cricket"
                },
                {
                  "0": "313",
                  "1": "cricket040.txt",
                  "2": "\"injured butcher out of tour  mark butcher has been ruled out of the rest of englands tour of south africa with a sprained left wrist.  and andrew flintoff has yet to prove his bowling fitness for the fourth test, which starts on thursday, after suffering an abdominal muscle tear. flintoff batted in the nets but will not attempt to bowl until tuesday and could play solely as a batsman. butcher will fly home later this week, to be replaced by ian bell, who played a single test last year. \"\"mark will see a specialist in johannesburg and fly home in the next few days",
                  "3": "",
                  "4": "cricket"
                },
                {
                  "0": "314",
                  "1": "cricket068.txt",
                  "2": "england claim historic series win  fifth test, centurion, day five: south africa 247 & 296-6d drew with england 359 & 73-4  england win five-match series 2-1  centuries from jacques kallis and ab de villiers allowed south africa to declare on 296-6, setting england a target of 185 to win from 44 overs. the tourists chose not to chase the runs, however, finishing on 73-4. there were plenty of nervous moments when they lost early wickets but captain michael vaughan held firm to secure a 2-1 series triumph. though the usually brilliant andrew strauss scored a duck, only denis compton had ever scored more runs in a series against south africa and he won the man-of-the-series award for his three centuries. kallis and man-of-the-match de villiers were in occupation of the crease when the day started, with south africa still trailing by 53 runs. by the time they had been parted, they had added 227 for the third wicket. the scoring rate was never sensational, however, as vaughan declined to set over-attacking fields and the batsman refused to take undue risks.  it took more than an hour for the lead to be wiped off, as de villiers hit arguably the shot of the day - a pull off matthew hoggard that went all the way for six. the remaining hour-and-a-half of an extended morning session saw a further 100 runs added. the two right-handers were quick to pull and drive when the opportunities presented themselves. kallis was twice lucky to survive. at one point he edged hoggard inches short of marcus trescothick at slip and then, on 76, looked lucky to survive an lbw appeal against simon jones. de villiers reached his half-century with a square drive off ashley giles for four, and he continued to play the spinner with great certainty. in the afternoon session, it was widely assumed south africa would throw the bat at almost everything. first, however, both batsmen needed to reach their centuries.  kallis got there first, cutting jones for four - it was his fifth test ton against england and 20th in all. the 20-year-old de villiers became the third youngest south african to hit a test century with a boundary in the same area off the same bowler. but he then perished when holing out to third man off jones. he had made 109 off 169 balls. oddly, kallis took stock for a while before launching a few more boundaries shortly before the declaration, finally finishing unbeaten on 136. in the hunt for quick runs, graeme smith, jacques rudolph and mark boucher all perished for single figure scores. a grateful steve harmison took his first two wickets since cape town and hoggard added a single victim to finish with 26 in the series. set 185 from 44 overs, england were never in position to go for the target once strauss had been caught behind in ntinis first over.  things looked dicey when robert key provided just 40 minutes of uncertain resistance before edging pollock to boucher. and there were certainly a few skipped heartbeats in the england dressing-room when trescothick inexplicably missed a straight ball from ntini to be bowled. that left 29 overs remaining for south africa to try to find the last seven wickets. vaughan and graham thorpe, however, proved adept at blunting some impressive spells from all the bowlers until ntini returned to have thorpe caught by herschelle gibbs who was close in at third slip. england had just about done enough by then and the game ended in bad light two-and-half overs early with vaughan 26 not out and andrew flintoff unbeaten on 14. it was englands first series win in south africa since mjk smith led them to a 1-0 win in 1964-65. and it earned them the basil doliveira trophy, named after the player who the south african apartheid regime refused to allow to tour their country with england in 1968, ultimately resulting in their exclusion from international sport.  graeme smith (capt.), herschelle gibbs, jacques rudolph, jacques kallis, ab de villiers, mark boucher (wkt), andrew hall, nicky boje, shaun pollock, makhaya ntini, andre nel.  marcus trescothick, andrew strauss, robert key, michael vaughan (capt.), graham thorpe, andrew flintoff, geraint jones (wkt), ashley giles, matthew hoggard, steve harmison, simon jones.  sa bucknor (wi), aleem dar (pkn)",
                  "3": "",
                  "4": "cricket"
                },
                {
                  "0": "315",
                  "1": "cricket120.txt",
                  "2": "\"sri lanka squad sets off for home  sri lankas cricketers have set off for home after the cancellation of their tour to new zealand.  the decision was taken by the two boards in the wake of the devastating tsunami in south asia which claimed the lives of over 27,000 sri lankans. \"\"there is a lot of work to be done. it wont be done in a couple of days - it will take months",
                  "3": "",
                  "4": "cricket"
                },
                {
                  "0": "316",
                  "1": "football232.txt",
                  "2": "\"cantona issues man utd job hint  former manchester united star eric cantona would consider returning to the club as manager one day.  but the frenchman, who made 191 united appearances, would not come back if he felt he could not be creative. \"\"i will not return in the near future",
                  "3": "",
                  "4": "football"
                },
                {
                  "0": "317",
                  "1": "football226.txt",
                  "2": "taking the highs with the lows  i thought we gave a tremendous performance against arsenal last week.  and i have to say that anyone who saw our disallowed goal must realise there is no way it should ever have been ruled out. it was interesting to hear the tv pundits ask if it was disallowed because dennis bergkamp had been sent off moments before. i was surprised by the number of people who questioned whether the referee was trying to level things out. the major decision, which defeated me really, was the caution given to cesc fabregas for his tackle on nick montgomery. to me, that should have been a straight red card. yet all i saw in the papers were accusations that danny cullip allegedly stamped on fabregas. but when i watch it back, i dont see anything wrong there at all. as ive said in the past, you dont seem to get the rub of the green when youre a lower league club in these competitions.  but we have to go into the replay without any fear and thats what will happen come tuesday. the only thing we can learn from arsenals champions league defeat against bayern munich is that we were even worse in our loss at plymouth. we got beaten 3-0 and never looked like scoring! at least arsenal got a goal and have a chance of winning at home in the second leg - and theyve done that in the past. whether theyll now want to risk their big stars on tuesday against us, knowing they need to beat bayern 2-0 a week later, is debatable. unfortunately, we have not got a squad big enough to be able to rotate. and were very thin on the ground for the replay - it looks like well be missing three or four of our better players. we dont know if goalkeeper paddy kenny will be okay after being carried off against plymouth, and cullip will be suspended. however, although the cup is diverting our attention, the chances are we wont win it.  so the league has to be our priority. an even more important match than the one against arsenal comes on saturday when we have to beat the championships bottom club rotherham. and i will be reiterating to my players that we have 14 games left in the league and we have to start winning if we want to be in the play-offs. weve lost four in a row in the league now, but we havent got time to feel sorry for ourselves.",
                  "3": "",
                  "4": "football"
                },
                {
                  "0": "318",
                  "1": "cricket108.txt",
                  "2": "\"cricket coach moves on after tsunami  when the tsunami crashed onto the sri lankan coastline, cricket coach stephen jones was in the middle of catching practice.  within minutes the entire playing area at the galle stadium was covered by water, but jones and the boys of the harrow school team made it to safety just in time. thousands were not so lucky and now, almost a month later, jones is still coming to terms with the experience. but he must do so whilst concentrating on his next coaching assignment to prepare the south african team for the womens world cup, starting in march. jones admits his memory of events in galle is still \"\"a blur\"\". he told bbc sport: \"\"we were about half an hour from starting our game and were warming up. \"\"fortunately we were doing fielding drills right in front of the pavilion - had we been doing them anywhere else on the field we would have been in trouble. \"\"i remember the level of noise going up and a colleagues wife and daughter screamed at us to watch out. i was told",
                  "3": "cricket",
                  "4": "cricket"
                },
                {
                  "0": "319",
                  "1": "football030.txt",
                  "2": "\"ferdinand casts doubt over glazer  rio ferdinand has said he is unsure of malcolm glazers motives after the american billionaire launched a new offer to buy manchester united.  the club have confirmed that the glazer family partnership have submitted proposals of a third bid. \"\"a lot of people want the clubs interest to be with people who have grown up with the club and have got its interests at heart",
                  "3": "",
                  "4": "football"
                },
                {
                  "0": "320",
                  "1": "rugby139.txt",
                  "2": "\"dominici backs lacklustre france  wing christophe dominici says france can claim another six nations grand slam despite two lacklustre wins so far against scotland and england.  the champions only just saw off the scots in paris, then needed england to self-destruct in last weeks 18-17 win. \"\"the english played better than us but lost",
                  "3": "",
                  "4": "rugby"
                },
                {
                  "0": "321",
                  "1": "football024.txt",
                  "2": "\"parry relishes anfield challenge  bbc sport reflects on the future for liverpool after our exclusive interview with chief executive rick parry.  chief executive parry is the man at the helm as liverpool reach the most crucial point in their recent history. parry has to deliver a new 60,000-seat stadium in stanley park by 2007 amid claims of costs spiralling above £120m. he is also searching for an investment package of a size and stature that will restore liverpool to their place at european footballs top table. but it is a challenge that appears to sit easily with parry, who has forged a reputation as one of footballs most respected administrators since his days at the fledgling premier league.  liverpool have not won the championship since 1990, a fact that causes deep discomfort inside anfield as they attempt to muscle in on the top three of chelsea, manchester united and arsenal. throw in the small matter of warding off every top club in world football as they eye captain steven gerrard, and you can see parry is a man with a lot on his plate. but in the comfort of a conference room deep inside liverpools heartbeat - the kop end - parry spoke to us with brutal honesty about the crucial months ahead. he only dodged one question - when asked to reveal the name of the mystery investor currently courting liverpool, a polite smile deflected the inquiry. but to his credit, he met everything else head on in measured tones that underscore the belief that liverpool still mean business.  by business he means becoming title challengers again, and locking the pieces together that will help return the trophy to liverpool is parrys mission. parry has already successfully put one of those planks in place in the form of new manager rafael benitez. and his enthusiasm for the spaniards personality and methods is an indication of his clear feeling that he has struck gold. benitezs early work has given parry renewed optimism about the years ahead. but it remains a massive task at a club with a unique history and expectations. this will not come as news to parry, a lifelong liverpool supporter, but his quiet determination suggests he is no mood to be found wanting...  captain gerrard is central to liverpools plans and parrys insistence that all offers will be refused is a firm statement of intent. as ever, the player will have the final say, and parry acknowledges that, but he is determined to provide the framework and environment for liverpool and gerrard to flourish.  in terms of the search for new investment, hawkpoint were appointed as advisors to flush out interest in march 2004. thailand prime minister thaksin shiniwatra came and went, while the most serious statement of intent came from tycoon and lifelong fan steve morgan. morgan had a succession of bids rejected, having come close in the summer only for talks to break down over potential costs for the new stadium. bbc sport understands morgan is still ready and willing to invest in liverpool, and parry has kept the door ajar despite currently seeking investment elsewhere.  morgan, however, has had no formal contact with liverpool or their advisors since last december, blaming indecision at board level as he publicly withdrew his £70m offer. he was also convinced his interest was being used to lure in others, so any new approach would now have to come from liverpool. morgan will certainly not be making another call. so speculation continues about the new benefactor, with trails leading to the middle east and america, but all met with an understandable veil of secrecy from anfield.  parry meanwhile sees the new ground as crucial to liverpools future, but is refusing to become emotionally attached to the idea. he is determined the ground will only be built on an affordable basis and will not make future liverpool management hostages to the new stadium. parry will pull back the moment the figures do not stack up, but there has been a vital new development in north london that has re-shaped liverpools thinking.  liverpool have publicly refused to entertain the idea of stadium sponsorship and potential naming rights - but the realism of arsenals stunning £100m deal for their new emirates stadium at ashburton has changed the landscape. parry labelled the deal \"\"an eye-opener\"\" and admits liverpool would be missing a trick not to explore the possibilities. he knows some traditionalist liverpool fans will reel at any attempt to call the new stadium anything other than just anfield",
                  "3": "football",
                  "4": "football"
                },
                {
                  "0": "322",
                  "1": "rugby105.txt",
                  "2": "\"wilkinson fit to face edinburgh  england captain jonny wilkinson will make his long-awaited return from injury against edinburgh on saturday.  wilkinson, who has not played since injuring his bicep on 17 october, took part in full-contact training with newcastle falcons on wednesday. and the 25-year-old fly-half will start saturdays heineken cup match at murrayfield on the bench. but newcastle director of rugby rob andrew said: \"\"hes fine and we hope to get him into the game at some stage.\"\" the 25-year-old missed englands autumn internationals after aggravating the haematoma in his upper right arm against saracens. he was subsequently replaced as england captain by full-back jason robinson. sales charlie hodgson took over the number 10 shirt in the internationals against canada",
                  "3": "rugby",
                  "4": "rugby"
                },
                {
                  "0": "323",
                  "1": "football018.txt",
                  "2": "\"parry firm over gerrard  listen to the full interview on sport on five and the bbc sport website from 1900 gmt.  but parry, speaking exclusively to bbc sport, also admits gerrard, who has been constantly linked with chelsea, will have the final say on his future. he told bbc five live: \"\"steven is above money. he is the future of liverpool. \"\"it doesnt matter if its £30m",
                  "3": "",
                  "4": "football"
                },
                {
                  "0": "324",
                  "1": "rugby111.txt",
                  "2": "\"gatland fears end of european run  wasps coach warren gatland said the defending champions could pay a heavy price for their slow starts against heineken cup opponents leicester.  wasps are struggling to qualify for the next stage after the tigers won both pool games between the two sides. \"\"we just werent strong enough",
                  "3": "",
                  "4": "rugby"
                },
                {
                  "0": "325",
                  "1": "rugby107.txt",
                  "2": "\"dawson set for new wasps contract  european champions wasps are set to offer matt dawson a new deal.  the 31-year-old world cup winning scrum-half has impressed since joining the london side from northampton this summer on a one-year contract. wasps coach warren gatland told the daily mirror: \"\"we have not yet offered matt a new contract but we will be doing so. \"\"im very happy with his contribution and i think hes good enough to play for another couple of years.\"\" dawson played a vital part in englands world cup win last year but has fallen out of favour with new coach andy robinson after missing a training session in september. however he hopes the new deal will help him regain his england place.  \"\"rugby is still my priority and theres still a burning desire within me to play the best rugby i possibly can",
                  "3": "rugby",
                  "4": "rugby"
                },
                {
                  "0": "326",
                  "1": "rugby113.txt",
                  "2": "\"kafer resigns as saracens coach  saracens head coach rod kafer has resigned from the premiership club.  the 33-year-old australian, who replaced wayne shelford in august 2003, has decided to stand down after a disappointing start to the season. saracens have decided to promote from within, with rugby manager steve diamond named as kafers replacement. \"\"following talks about extending my contract",
                  "3": "rugby",
                  "4": "rugby"
                },
                {
                  "0": "327",
                  "1": "football032.txt",
                  "2": "\"mccall earns tannadice reprieve  dundee united manager ian mccall has won a reprieve from the sack, with chairman eddie thompson calling for an end to speculation over his future.  it is understood that mccall would have been sacked if sheffield wednesday manager paul sturrock had been willing to return to tannadice. but sturrock has distanced himself from the position. \"\"were in a difficult situation. we must get out of it through the efforts of current personnel",
                  "3": "",
                  "4": "football"
                },
                {
                  "0": "328",
                  "1": "football026.txt",
                  "2": "barcelona title hopes hit by loss  barcelonas pursuit of the spanish title took a blow on sunday as they fell to a 2-0 defeat at home to atletico madrid.  fernando torres gave athletico an ideal start with a goal in the first minute. ronaldino wasted a second-half chance to equalise for barca when he put a penalty wide, but torres made no such mistake with a last-minute spot-kick. the defeat, coupled with real madrids 4-0 win over espanyol on saturday, reduces barcas lead to four points. former everton midfielder thomas gravesen scored his first goal for real in the comfortable victory at the bernabeu. zinedine zidane had opened the scoring before raul bagged a brace. gravesen, who replaced zidane, completed the scoring in the 84th minute with a low shot. david beckham, watched by sven-goran eriksson, came off in the 67th minute with a shoulder injury but should be fit for englands game against holland. england team-mate michael owen came on for raul after 76 minutes with the game already won. real have now won six consecutive primera liga games since coach wanderley luxemburgo took charge.",
                  "3": "",
                  "4": "football"
                },
                {
                  "0": "329",
                  "1": "football218.txt",
                  "2": "\"uefa threat over foreign quotas  uefa has warned clubs planning to ignore its proposal for quotas of homegrown players in squads.  from 2006-07 teams must submit a 25-man a squad with at least two players from the club academy and two others from the same national association. clubs may be punished with reduced squads if they refuse to comply, although uefa has ruled out legal action against offending clubs. arsenal had 16 overseas players for mondays game with crystal palace. after the plan is introduced for the 2006-07 season the figures will rise by one for each of the next two seasons. so by 2008-09 the squad will have to contain four academy players and four others from the teams country. \"\"the sanction is fairly simple - if you dont have the four and four for 2008-09",
                  "3": "",
                  "4": "football"
                },
                {
                  "0": "330",
                  "1": "football230.txt",
                  "2": "\"ronaldinho denies blues interest  fifa world player of the year ronaldinho says he has no intention of leaving barcelona to join chelsea.  \"\"i never said i wanted to play for chelsea. im very happy where i am and want to carry on where i am",
                  "3": "",
                  "4": "football"
                },
                {
                  "0": "331",
                  "1": "cricket122.txt",
                  "2": "\"ecb reveals county one-day revamp  the england and wales cricket board has announced major structural changes to two domestic one-day competitions  but the board has resisted calls to cut the number of four-day games, with the county championship format unchanged. from 2006, the 50-over c&g trophy will be divided into two conferences with scotland and ireland added. it will be played in the first half of the season, with an august final, while the totesport league will occupy the end of the summer, in a 40-over format.  however, the scottish saltires, who have finished bottom in two seasons in division two, will be removed from the competition after 2005. the nine teams in each totesport league division will play each other just once - either home or away - with automatic two-up and two-down promotion and relegation spots. the third-placed team in division two will host the seventh-placed team in division one in a one-off match to decide the final top-flight berth. an expansion of the twenty20 cup was already planned for 2005, and the ecb is to explore adding two further foreign teams in the future.  first class forum chairman mike soper headed the working party responsible for the changes, after initial suggestions by the ecb were rejected by county bosses. \"\"i am extremely pleased with the outcome of this report which was unanimously acclaimed at the recent fcf meeting",
                  "3": "cricket",
                  "4": "cricket"
                },
                {
                  "0": "332",
                  "1": "football224.txt",
                  "2": "2004 - a year to remember  club football in south america continues to suffer from the continents economic crisis.  the best players are lured across the atlantic - 900 players left brazil alone in 2004. and crowds are low, with money tight and the fear of violence proving a powerful incentive to stay at home. the average attendance in this years brazilian championship was a record low of 8,139. furthermore, in 2004 no new talent exploded on the continent with quite the same force as diego, robinho and carlos tevez in the two previous years. there is no doubt that the highlight of south americas footballing year has to come from the international game. there were some dramatic tournaments in 2004. the copa america, held in peru last july, could hardly have come to a more exciting conclusion. with the last kick of the final brazil scored one of the most decisive equalising goals in the history of football.  argentina thought they had the game won and were in no state to take penalties when adrianos 93rd-minute blast forced a shoot-out. earlier in the year there was intense disappointment for brazil when they amazingly failed to qualify for the olympic football tournament. the gold medal is the only title they lack but they will have to wait four more years after missing out on the two qualification slots up for grabs in south americas under-23 championships, held in chile in january. argentina and paraguay made it through and went on to secure gold and silver in athens. these tournaments were terrific but the real highlights of the year in south american football could only come from the world cup qualification campaign. the reason? it is the only time that all the great players come back home and play competitive matches in front of their own fans. i well remember getting a shiver down my spine awaiting the kick-off of the match between brazil and argentina at the start of june. euro 2004 was about to get under way. the thought struck me that the accumulation of talent on the belo horizonte pitch was at least as outstanding as that about to go into action in portugal. for 90 minutes brazil was the capital of the football world. ronaldo obviously felt the sense of occasion.  he will probably never play a bigger match in brazil and it was taking place in the stadium where he had made his name over a decade earlier. he was unstoppable, suffering and scoring three penalties in brazils 3-1 win. if ronaldos performance was the individual highlight of the year, my collective prize goes to argentina in a match they played a few months later. in october i was down in buenos aires to see their first match under new coach jose pekerman. nerves were settled with an early goal and old rivals uruguay were blasted away. soon after half-time argentina were four up and although uruguay hit back with two consolation goals, it was the performance of the hosts that lingers in the memory. argentinas goals were magnificent team efforts involving all of the fundamentals of well-played football. the ball moved quickly around the field, with plenty of running off the ball to provide options and lots of crisp, accurate passing, mixing long and short to find gaps in the defence. the crowd responded in fine style, creating the kind of atmosphere familiar to all those old enough to remember the 1978 world cup. these, then, were my highlights of 2004. with seven vital rounds of world cup qualifiers scheduled for next year, south american football should come up with much more to celebrate in 2005.",
                  "3": "football",
                  "4": "football"
                },
                {
                  "0": "333",
                  "1": "cricket056.txt",
                  "2": "australia return to winning ways  second one-day international, sydney: australia 261-7 (50 overs) beat new zealand 244 (47.1 overs) by 17 runs  adam gilchrist (60) and darren lehmann (52) played the leading roles as the home side totalled 261-7. new zealand crumbled to 86-6 in reply but chris cairns hit 50 off 40 balls and kyle mills and daniel vettori put on 70 to keep their side in the hunt. but they were eventually all out for 244 and the three-match series will now be decided in brisbane on friday. the game came to an end at the start of the 48th over when chris harris, who bravely came out to bat in his 250th one-day game despite a shoulder injury, was bowled by a yorker from glenn mcgrath. mills was left high and dry on 44 not out after a magnificent 26-ball innings, featuring four big sixes. there were plenty of anxious faces among the australian fans during his ninth wicket stand with vettori (33), who was finally run out by ricky pontings underarm throw. home skipper ponting had earlier chosen to bat after winning the toss and was rewarded as adam gilchrist took the attack to the new zealand seamers. he struck a six and eight fours to reach his half century off only 37 deliveries, before perishing for 60 in cavalier fashion as a pull shot off scott styris was caught by nathan astle at deep square leg.  ponting maintained the tempo with a quickfire 32 but his exit, caught at mid-off from the bowling of mills, sparked a slump which saw australia decline from 140-2 to 161-6. matthew hayden (43) was run out by mathew sinclair, damien martyn was lbw to mills for five and andrew symonds faced only two balls before he was trapped in front by vettori. michael clarke was next to go for six when he edged a ball from chris cairns to keeper brendon mccullum. but darren lehmann and brad hogg prevented the innings from going into freefall, adding 74 in 17 overs for the seventh wicket. lehmann was run out, leaving hogg (41 not out) and brett lee (10 not out) to see the total past 250 to leave the kiwis facing a tough target.  they made a poor start as astle was caught behind off brett lee for 11 and sinclair fell victim to jason gillespie for 17, with matthew hayden taking the catch. captain stephen fleming fell lbw for 34 to left-arm spinner hogg, who proved the most successful australian bowler with figures of 3-45. the middle order followed in quick succession and it looked like the home side would wrap things up in double quick time. cairns counter attacked with two sixes and four fours before gillespie brought his innings to an end, leaving mills and vettori to try and secure an unlikely victory. the required rate came down to a run per ball thanks to mills big-hitting exploits, but harris was greeted by a short-pitched ball aimed at his chest and a ferocious full toss from lee after vettori had been dismissed. the veteran, whose suffered a torn rotator cuff while fielding earlier in the game, collected four singles but his gallantry was in vain as mcgrath produced the perfect delivery to bring the game to an end.  m hayden, a gilchrist (wkt), r ponting (capt), d lehmann, d martyn, a symonds, m clarke, b hogg, j gillespie, b lee, g mcgrath.  s fleming (capt), n astle, m sinclair, s styris, h marshall, j oram, c cairns, c harris, b mccullum (wkt), d vettori, k mills.",
                  "3": "",
                  "4": "cricket"
                },
                {
                  "0": "334",
                  "1": "cricket042.txt",
                  "2": "\"flintoff fit to bowl at wanderers  fourth test, wanderers: south africa v england  plays starts 0830 gmt  the fourth test begins at the wanderers on thursday. trescothick said: \"\"were allowed the odd blip here and there. \"\"you dont win eight in a row without being something special as a team.\"\" englands main concern continues to be the fitness of andrew flintoff",
                  "3": "",
                  "4": "cricket"
                },
                {
                  "0": "335",
                  "1": "cricket095.txt",
                  "2": "\"kallis keen on glamorgan return  south africas star batsman jacques kallis says he would relish a return to county cricket with glamorgan.  \"\"i want a break after the west indies tour",
                  "3": "cricket",
                  "4": "cricket"
                },
                {
                  "0": "336",
                  "1": "cricket081.txt",
                  "2": "\"lee runs through windies  vb series match 6, adelaide: australia 269-8 beat west indies 196 by 73 runs  paceman pedro collins took his first one-day five-wicket haul but australia wriggled out of trouble to post a healthy 269-8 in adelaide. then paceman brett lee twice took wickets off consecutive deliveries for figures of 4-38 as west indies folded for 196 in the 45th over. collins (5-43) removed four top-order batsmen before the aussies recovered. simon katichs 76 off 86 balls began the fightback. but the turning-point really came when jason gillespie (44) and brett lee (38) put on 73 runs, unbroken, for the ninth wicket in less than 12 overs. gillespie, who scored his maiden test fifty this australian summer, registered his highest one-day score off just 42 balls, striking two fours and a six.  katich and gillespie were two of three changes to the aussie side, with brad hogg joining them at the expense of shane watson, michael kasprowicz and damien martyn. the west indies stuck with the side that nearly beat australia last friday in brisbane until rain stopped play. collins struck twice in the third over after the home side had won the toss under a hot and humid sky on australia day. the left-armer had out-of-sorts opener matthew hayden caught behind off a bottom edge before ousting skipper ricky ponting (caught) for a duck to reduce them to 24-2. michael clarke blasted his way to 21 off 15 balls before he misjudged a drive and was clean bowled by collins, and darren lehmann perished in the pacemans next over to a catch behind the stumps. andrew symonds, promoted to number four after five ducks from his previous six digs, helped australia recover from 38-4 but was caught behind off wavell hinds for 31 off 49 balls.  the windies were on top with the middle-order exposed, but katich and brad haddin made sure they failed to push home the advantage. the pair put on 82 in 14 overs before haddin was bowled by dwayne bravo (2-71), but it was not until lee and gillespie were brought together by collins removal of katich in the 39th over that australia really got on top. losing both openers inside the first 13 balls of their reply, west indies were never in control of their run chase. lee struck with the last ball of his first over and the first ball of his second thanks to catches behind the wicket by haddin, the second one a brilliant one-handed take. ramanaresh sarwan and shivnarine chanderpaul then added 92 for the third wicket in 22 overs. but sarwan feathered an edge off hogg before a brilliant direct hit from clarke ran out chanderpaul for 55.  the momentum had gone and the wickets tumbled as marlon samuels drilled lehmann to extra cover, brian lara gave lee a catch off his own bowling and courtney browne fell lbw to the same bowler. gillespie mopped up the tail as west indies left the adelaide oval still hunting their first win after four vb series matches. afterwards, lee said: \"\"i always try to make sure that im fully fit so that if i get the opportunity i can give my best and hopefully ive done that. \"\"ive done a lot of bowling in the nets with my training partner andrew symonds",
                  "3": "",
                  "4": "cricket"
                },
                {
                  "0": "337",
                  "1": "tennis094.txt",
                  "2": "\"injured roddick quits in memphis  andy roddick has pulled out of his semi-final at the rmk championships in memphis after spraining his left ankle.  the american top seed was was supposed to face dane kenneth carlsen, who now advances to the final against eighth seed max mirnyi of belarus. he came through his semi-final against german second seed tommy haas 7-5 6-3. roddick, the 2003 us open champion, was hurt during his quarter-final win on friday and had intensive treatment on his ankle to no avail. he attempted to loosen up his foot by jogging on saturday, then tried to hit a couple of balls. \"\"the first really kind of significant move i made i just knew that it wasnt going to happen for me",
                  "3": "",
                  "4": "tennis"
                },
                {
                  "0": "338",
                  "1": "atheletics099.txt",
                  "2": "\"holmes facing fine over trials  double olympic champion kelly holmes faces a fine of around £25,000 after opting to miss this weekends trials for the european championship.  rules brought in last year state athletes who miss trials without proof of injury or illness will forfeit a quarter of the fee for that season. a spokesman for fast track, the sports promoters in britain, told the times that holmes would be no exception. the paper said she was set to earn £100,000 for the domestic indoor term. holmes, who won both 800m and 1500m gold in athens, opened her british indoor campaign by winning the 1500m at the norwich union international in glasgow last month. she is also set to race at the grand prix in birmingham on 18 february. but governing body uk athletics (uka) said the trials in sheffield were never in her plans. \"\"it was always kellys plan for the indoor season to prioritise only two uk televised meetings at glasgow and birmingham",
                  "3": "atheletics",
                  "4": "atheletics"
                },
                {
                  "0": "339",
                  "1": "rugby073.txt",
                  "2": "\"dawson joins england injury list  scrum-half matt dawson is an injury doubt for englands six nations opener against wales next weekend.  the world cup winner missed wasps 12-9 loss to bath on saturday after injuring his right calf. wasps coach warren gatland said: \"\"hes got a fitness test in the week but hes got a good chance of playing.\"\" gloucesters andy hazell and leicester star lewis moody also received knocks during their respective league matches",
                  "3": "",
                  "4": "rugby"
                },
                {
                  "0": "340",
                  "1": "rugby067.txt",
                  "2": "\"dal maso in to replace bergamasco  david dal maso has been handed the task of replacing the injured mauro bergamasco at flanker in italys team to face scotland on saturday.  alessandro troncon continues at scrum-half despite the return to fitness of paul griffen. the experienced cristian stoica is recalled at centre at the expense of walter pozzebon. \"\"we are going to scotland for the first away win and nothing else",
                  "3": "",
                  "4": "rugby"
                },
                {
                  "0": "341",
                  "1": "tennis080.txt",
                  "2": "\"henman decides to quit davis cup  tim henman has retired from great britains davis cup team.  the 30-year-old, who made his davis cup debut in 1994, is now set to fully focus on the atp tour and on winning his first grand slam event. \"\"ive made no secret of the fact that representing great britain has always been a top priority for me throughout my career",
                  "3": "",
                  "4": "tennis"
                },
                {
                  "0": "342",
                  "1": "football146.txt",
                  "2": "man utd through after exeter test  manchester united avoided an fa cup upset by edging past exeter city in their third round replay.  cristiano ronaldo scored the opener, slipping the ball between paul jones legs after just nine minutes. united wasted a host of chances to make it safe as jones made some great saves, but wayne rooney put the tie beyond doubt late on with a cool finish. exeter had chances of their own, sean devine twice volleying wide and andrew taylor forcing tim howard to save. united boss sir alex ferguson was taking few chances after their 0-0 draw in the first game and he handed starts to paul scholes and ryan as well as ronaldo and rooney. exeter began brightly with devine and steve flack seeing plenty of the ball, but it did not take united long to assert their authority and the hosts soon found themselves a goal down. scholes played a lovely pass in to ronaldo on the left-hand side of the six-yard box and the portuguese winger slid the ball between the legs of jones to open the scoring.  united sensed a chance to finish the tie as a contest early on and ronaldo blazed over before jones saved well from scholes and then rooney. the visitors pressure by now was incessant and rooney had another shot blocked while ronaldo slammed well over the bar again from a good position. just before the break giggs had a golden chance to double the advantage, but the welshman dragged a left-foot effort badly wide from 10 yards. in stoppage time exeter created their best chance as alex jeannin swung in a cross from the left that devine managed to flick goalwards, but the ball flew wide of howards goal. the grecians came out after the break in determined fashion and howard had to show safe hands to collect two searching crosses into the united box. rooney looked like he might have sealed the result with a turn and shot but the ball stuck in the st james park mud and jones raced back to gather on the goalline. moments later devine had the chance to make himself a hero, but he could only volley jeannins brilliant cross wide of howards goal after being left unmarked six yards out. after rooney had completely messed up a free-kick 20 yards out taylor showed him how it should be done, his stunning drive from distance forcing a flying stop from howard. the home crowd were baying for a goal and they did get the ball into the net only for devines low effort to be ruled out for an obvious offside. the persistent rooney eventually rounded jones with three minutes to go and slotted into an empty net to book a home tie with middlesbrough in the fourth round.  jones, hiley, sawyer, gaia, jeannin, moxey, taylor (martin 89), ampadu (afful 69), clay, flack (edwards 74), devine. subs not used: rice, todd.  ampadu, clay.  howard, phil neville, gary neville, oshea, fortune, giggs (saha 70), miller (fletcher 66), scholes, djemba-djemba (silvestre 80), ronaldo, rooney. subs not used: ricardo, bellion.  ronaldo 9, rooney 87.  9,033.  p dowd (staffordshire).",
                  "3": "",
                  "4": "football"
                },
                {
                  "0": "343",
                  "1": "football152.txt",
                  "2": "chelsea hold arsenal  a gripping game between arsenal and chelsea ended with the honours finishing even at highbury.  thierry henry produced a sublime strike to put arsenal ahead but john terry levelled with a powerful header. henrys quickly-taken free-kick put arsenal back in front but eidur gudjohnsen equalised with a header from william gallas knockback. henry missed a golden chance when he blazed a shot high late on and arsenal also had a penalty appeal rejected. henrys opener had given arsenal the perfect start and set up an enthralling affair. the french striker headed a long cesc faregas ball back to jose antonio reyes from the edge of the chelsea area and immediately saw it headed back into his path from the spaniard. and, with his back to goal, henry finished with aplomb when he took one touch, turned and struck an angled strike past the despairing dive of keeper petr cech. henry epitomised a determination about the arsenal side but chelsea appeared unruffled and equalised after 16 minutes.  gunners keeper manuel almunia, who got the nod ahead of jens lehmann, did well to save a well-struck frank lampard shot. but he could not keep out terrys powered header from the resultant corner as arsenals weakness at set-pieces was again exposed. almost immediately, henry went close and chelsea gathered the loose ball before going straight up the other end where gudjohnsen fluffed an effort. gudjohnsen did not make the same error minutes later when he struck a sweet shot only for almunia to be equal to the task and save. the homes side regained the lead in controversial fashion when robert pires won a dubious free-kick. and, given the option to take the 25-yard set-piece quickly, henry curled in a shot with cech still organising his wall.  this time arsenal did not allow chelsea to level so soon as they went into the break ahead. chelsea brought striker didier drogba on to partner gudjohnsen up front after the interval and the move reaped immediate reward. lampard swung in a cross which gallas knocked back across goal and a deft header from gudjohnsen levelled matters again. chelseas main threat was coming from crosses and lampard missed a great opportunity as he headed wide when left unmarked at the far post. the second half failed to live up to the thrilling pace of the opening period but there were flashes of brilliance. one of them came from the enigmatic robben when he jinked his way through two arsenal defenders only to see his poked shot saved by almunia.  arsenal ended the match the stronger and worked a excellent chance for henry who put a left-foot shot high from eight yards. subtitute robin van persie could also have nicked a win for the highbury outfit but frustratingly sidefooted just wide. matthieu flamini had a late penal appeal waved away before the final whistle which maintained chelsea five-point premiership lead over arsenal.  almunia, lauren, toure, campbell, cole, pires, flamini, fabregas, reyes (clichy 82), bergkamp (van persie 82), henry. subs not used: senderos, hoyte, lehmann.  cole.  henry 2, 29.  cech, paulo ferreira, ricardo carvalho (drogba 45), terry, gallas, duff, tiago (bridge 45), makelele, lampard, robben, gudjohnsen (parker 77). subs not used: kezman, cudicini.  robben, drogba, lampard.  terry 17, gudjohnsen 46.  38,153  g poll (hertfordshire).",
                  "3": "",
                  "4": "football"
                },
                {
                  "0": "344",
                  "1": "tennis057.txt",
                  "2": "\"moya suffers shock loss  fifth seed carlos moya was the first big name to fall at the australian open as he went down to fellow spaniard guillermo garcia-lopez on monday.  moya began the year with victory at the chennai open but looked out of sorts from the start in the melbourne heat. garcia-lopez, ranked 106 in the world, dominated from the outset and withstood a third-set rally from moya to hang on for a 7-5 6-3 3-6 6-3 victory. the 21-year-old plays kevin kim or lee hyuung-taik in the second round. garcia-lopez was delighted with the victory in only his third ever grand slam match. \"\"i think this was the most important win of my life as carlos is one of the best players in the world",
                  "3": "",
                  "4": "tennis"
                },
                {
                  "0": "345",
                  "1": "tennis043.txt",
                  "2": "\"prodigy monfils blows away gaudio  french prodigy gael monfils underlined his huge promise by beating french open champion gaston gaudio 6-4 7-6 (7-4) in the first round of the qatar open.  the 18-year-old wild card won three of the four junior grand slam events last year, including wimbledon. fabrice santoro, the 2000 champion, beat swedens thomas johansson 6-4 6-2 but fourth seed mikhail youzhny lost 6-3 7-6 (7-3) to rafael nadal. roger federer plays greg rusedski in the second round on wednesday. monfils, who was given a wildcard into the tournament, said: \"\"this is my first win over a top 10 player and i am delighted. \"\"i play my best tennis when i am fired up on the court and the reason i won today was because i was able to play my natural",
                  "3": "tennis",
                  "4": "tennis"
                },
                {
                  "0": "346",
                  "1": "football185.txt",
                  "2": "\"newcastle line up babayaro  newcastle manager graeme souness is closing in on signing chelsea defender celestine babayaro when the transfer window reopens.  souness is bidding to bolster his defence and, according to reports, contract negotiations are at an advanced stage with the player. babayaro has been in the premiership since 1997 when he moved to chelsea for £2.25m from anderlecht. but the 26-year-old has been surplus to requirements this season. souness would not be drawn on specifics over individual players.  but he said: \"\"all i can tell you is that the chairman has worked really hard in the last couple of months to try to do deals. \"\"we have said from day one we want to strengthen",
                  "3": "",
                  "4": "football"
                },
                {
                  "0": "347",
                  "1": "atheletics066.txt",
                  "2": "britain boosted by holmes double  athletics fans endured a year of mixed emotions in 2004 as stunning victories went hand-in-hand with disappointing defeats and more drugs scandals.  kelly holmes finally fulfilled her potential by storming to double gold on the track at the olympic games. holmes helped erase the gloom hanging over team gb after their biggest medal hope, paula radcliffe, dropped out of the marathon and then the 10,000m. britains mens 4x100m relay team also did their bit by taking a shock gold. holmes had started the year in disappointing style, falling over in the final of 1500m at the world indoor championships where she was favourite. her olympic build-up was clouded by self doubt but that proved unfounded as she overhauled rival maria mutola to win the 800m - her first global title. just five days later, the 34-year-old made it double gold in the 1500m. it was the first time in 84 years a briton has achieved the olympic middle-distance double. while holmes left athens as the star of team gb, it was radcliffe who carried expectations before the august games.  the 30-year-old marathon world record holder went into the athens event as favourite but an exhausted radcliffe dropped out after 23 miles in tears. her decision to enter the 10,000m five days later also backfired as she again pulled out with eight laps remaining.  but radcliffe helped put her olympic trauma behind her with a thrilling win in novembers new york marathon. the 4x100m team grabbed some last-gasp glory for the british mens olympic squad after a poor start to the games.  it seemed as though athens would be the first games where the men would fail to win a medal with michael east the only individual track finalist in the 1500m. but darren campell, jason gardener, marlon devonish and mark lewis-francis made amends in the sprint relay. the quartet held off favourites the usa to win britains first relay medal since 1912 in 38.07 seconds. gardener added the olympic relay crown to his world indoor title over 60m and, just like holmes, finally lived up to his promise in 2004. kelly sotherton completed team gbs athletics medal haul in athens with a surprise bronze in the heptathlon. the 28-year-old won her first championship medal since becoming a full-time athlete in 2003.  but it was a different story for britains defending champion denise lewis, who withdrew on day two of the competition after some poor results. lewis, who was troubled by injury, has ruled out retiring while sotherton is tipped to build on her success. the athens olympics proved to be a landmark occasion for steve backley, who retired from competition after finishing fourth in the javelin. the battling 35-year-old leaves the sport with a vast medal haul including two silvers and one olympic bronze.  and backleys departure was balanced by the return of injury-hit decathlete dean macey, who came fourth in athens.  the continued improvement of sprinter abi oyepitan and long jumper chris tomlinson also boosted team gb. sadly, the 2004 olympics did not escape the problems of drugs misuse. on the eve of the games, greek sprinters kostas kenteris and katerina thanou missed a drugs test and claimed to have been involved in a road crash.  kenteris, the 200m champion in 2000, and thanou have since been charged by the greek authorities and await trial. at the games, adrian annus (hammer), robert fazelas (discus) and irina korzhanenko (shot) were all stripped of their titles because of doping issues. hungarian compatriots annus and fazelas both refused to give urine samples while russian korzhanenko tested positive for the steroid stanozolol.  the fallout from the thg scandal, which rocked the sport in 2003, continued to impact in olympic year. britains 4x100m team took gold without the services of dwain chambers, who was handed a two-year ban in february after testing positive for steroid thg.  american kelli white was suspended and stripped of her world 100m and 200m titles after failing a drugs test. and world 400m champion jerome young landed a life ban from us chiefs after a second doping offence. russian pole vaulter yelena isinbayeva provided some light relief by smashing the world record seven times on her way to the world indoor and olympic titles. her rivalry with compatriot svetlana feofanova livened up the field events. moroccos hicham el guerrouj also delighted fans by racing to a historic olympic double in the 1500m and 5,000m.  and though there was no paula radcliffe in the london marathon, there was plenty of drama as kenyans evans rutto and margaret okayo took the titles. rutto held on to win despite slipping on some cobblestones and tumbling into a barrier. okayo also had to battle back after mistiming her tactics but clinched victory on her debut.",
                  "3": "atheletics",
                  "4": "atheletics"
                },
                {
                  "0": "348",
                  "1": "rugby098.txt",
                  "2": "\"england claim dubai sevens glory  england beat fiji 26-21 in a dramatic final in dubai to win the first irb sevens event of the season.  having beaten australia and south africa to reach the final, england fell behind to an early try against fiji. they then took charge with scores from pat sanderson, kai horstman, mathew tait and rob thirlby, but fiji rallied to force a tense finale. scotland were beaten 33-15 by samoa in the plate semi-final and ireland lost 17-5 to tunisia in the shield final. mike fridays england side matched their opponents for pace, power and skill in the final and led 19-7 at half-time. but neumi nanuku and marika vakacegu touched down for fiji, only for a needless trip by tuidriva bainivalu on geoff appleford to allow england to run down the clock. \"\"to be honest",
                  "3": "",
                  "4": "rugby"
                },
                {
                  "0": "349",
                  "1": "football191.txt",
                  "2": "\"clean sweep impossible - mourinho  chelsea boss jose mourinho says his side have little chance of winning all four major trophies this season.  the blues are seven points clear in the league after beating middlesbrough, and into the carling cup semi-finals and the champions league knockout stages. \"\"we want to win something",
                  "3": "",
                  "4": "football"
                },
                {
                  "0": "350",
                  "1": "atheletics072.txt",
                  "2": "running around the olympics  it was back to official duties last week in my role as an ambassador to londons 2012 olympic bid. but i still managed to do all my marathon training.  all the sporting people on the capitals bid team think im mad to be taking part in the london marathon. the bid chairman, lord coe, admitted he would never dream of running a marathon, even though he was an olympic middle-distance runner.  kelly holmes, former hurdler alan pascoe and former sprinter frankie fredericks - who is now an ioc member - all wanted to know why anyone would want to run that far. youd have thought all these athletes, who have been running for most of their lives, wouldnt think it would be that bad. but the only person who was positive about my intentions was tanni grey thompson, who has won the london marathon wheelchair race six times. even though it was a very busy week entertaining the international olympic committees (ioc) evaluation commission, i actually found my running schedule easier to follow. when im at home, i get distracted by all sorts of things but for the five days i was in london, i was in a pressurised situation, but i found it easy to relax by running.  on wednesday, the presentations to the ioc team did not finish until the early evening, so i just managed to squeeze in a 45-minute run. we had an early start on thursday because we had to visit all the olympic sites around london, that was pretty shattering, but when we got back to the hotel, i got back on the treadmill. on friday evening i went along to the special dinner at buckingham palace which was a nice occasion. i never feel guilty about eating, especially when im exercising. and because it was a rest day i didnt have to feel bad about missing my training either. anyway, i managed to do another quick run on saturday ahead of the final ioc presentations, before heading home for my daughters birthday.  when i was in london i did all of my runs on the treadmill, which isnt the same as exercising outdoors. one of the iocs technical staff from australia ran alongside me one day. we talked about the sydney olympics and that made the time go past more quickly. i do find it quite comfortable running in the gym because there is more cushioning. but when youre gearing up to running on the road you need your body to get used to that jarring feeling when your feet hit the pavement. it was good to get out on the road for my long run on sunday. after the week id had i was a bit concerned i wouldnt be able to complete it. but i coped with it very well and, even though it was bitterly cold, i put in 15-and-a-half miles - only another 11 to go then.  - this year steve will donate all the proceeds from his london marathon efforts to victims of the tsunami.steve will be writing a regular column on the ups and downs of his marathon training for the bbc sport website.he will be raising money through the steve redgrave trust which supports the association of childrens hospices, the children with leukaemia charity, and the trusts own project which aims to provide inner-city schools with rowing equipment.",
                  "3": "",
                  "4": "atheletics"
                },
                {
                  "0": "351",
                  "1": "atheletics073.txt",
                  "2": "\"johnson uncertain about euro bid  jade johnson is undecided about whether to contest next months european indoor championships in madrid despite winning the aaas long jump title on saturday.  the 24-year-old delivered a personal best of 6.50m to win the european trials but had to wait until her final jump after four failures. \"\"i dont want to go if i am not going to get a medal",
                  "3": "",
                  "4": "atheletics"
                },
                {
                  "0": "352",
                  "1": "football190.txt",
                  "2": "\"fa charges mourinho  chelsea manager jose mourinho has been charged with improper conduct by the football association.  the move follows comments on chelsea tv after the carling cup semi-final first leg draw against manchester united. mourinho suggested united boss sir alex ferguson had put pressure on referee neale barry at half-time. the chelsea boss, who has until 14 february to respond, said: \"\"in the second half it was whistle and whistle",
                  "3": "football",
                  "4": "football"
                },
                {
                  "0": "353",
                  "1": "rugby099.txt",
                  "2": "\"barbarians 19-47 new zealand  new zealand proved too strong for an australian-dominated barbarians to round off their unbeaten northern hemisphere tour with an easy win.  rico gear ran in two of the all blacks seven tries in what was a predominantly second-string line-up. the baa-baas did threaten, scoring tries through albert van den bergh, xavier rush and andrea lo cicero, but never looked like winning. all black aaron mauger was in good form with the boot, adding 10 points. the all blacks featured only two of the side which started last weekends emphatic test victory over france in paris, while the baa-baas had nine wallabies in their starting line-up. and new zealand coach graham henry said: \"\"it was a quality performance against a very experienced side and a number of young guys came through very well. \"\"they learnt from the older players and this was a way of thanking the guys who had been mentoring them on the tour.\"\" but the running rugby the crowd had been hoping for rarely materialised. marty holah got the all blacks onslaught under way with his fifth-minute try before rush hit back moments later. but new zealand went ahead once more as gear made use of the space vacated by a temporarily injured chris latham to slide in. maa nonu then found his way through the barbarians defence to give his side a 19-7 half-time lead. the hosts failed to ignite in the second half and",
                  "3": "rugby",
                  "4": "rugby"
                },
                {
                  "0": "354",
                  "1": "atheletics067.txt",
                  "2": "\"lewis-francis eyeing world gold  mark lewis-francis says his olympic success has made him determined to bag world championship 100m gold in 2005.  the 22-year-old pipped maurice greene on the last leg of the 4x100m relay in athens to take top honours for team gb. but individually, the birchfield harrier has yet to build on his world junior championship win four years ago. \"\"the gold medal in athens has made me realise that i can get to the top level and i want to get there again. it can happen",
                  "3": "",
                  "4": "atheletics"
                },
                {
                  "0": "355",
                  "1": "football184.txt",
                  "2": "robben and cole earn chelsea win  cheslea salvaged a win against a battling portsmouth side just as it looked like the premiership leaders would have to settle for a point.  arjen robben curled in a late deflected left-footed shot from the right side of pompeys box to break the home sides brave resistance. chelsea had been continually frustrated but joe cole added a second with a 20-yard shot in injury-time. nigel quashie had pompeys best chance when his effort was tipped over. the fratton park crowd were in good voice as usual and, even though portsmouth more than held their own, chelsea still managed to carve out two early chances. striker didier drogba snapped in an angled shot to force home keeper shaka hislop into a smart save while an unmarked frank lampard had a strike blocked by arjan de zeeuw. but pompey chased, harried and unsettled a chelsea side as the south-coast side started to gain the upper hand and almost took the lead through quashie.  the midfielder struck a swerving long range shot which keeper petr cech tipped over at full stretch. pompey stretched arsenal to the limit recently and were providing a similarly tough obstacle to overcome for a chelsea team struggling to exert any pressure. velimir zajecs players stood firm as the visitors came out in lively fashion after the break but, just as they took a stranglehold of the match, the visitors launched a counter-attack. drogba spun to get a sight of goal and struck a fierce shot which rocked keeper hislop back as he blocked before arjan de zeeuw cleared the danger.  the home side were also left breathing a sigh of relief when a glen johnson header fell to gudjohnsen who had his back to goal in a crowded pompey goalmouth. the icelandic forward tried to acrobatically direct the ball into goal but put his effort over. but, just like against arsenal, portsmouth let in a late goal when robbens shot took a deflection off matthew taylor on its way past a wrong-footed hislop. and cole put a bit of gloss on a hard-fought win when he put a low shot into the bottom of the pompey net.  hislop, griffin, primus, de zeeuw, taylor, stone (cisse 76), quashie (berkovic 83), faye, oneil, kamara (fuller 65), yakubu.  subs not used: berger, ashdown.  kamara.  cech, paulo ferreira, gallas, terry, johnson, duff, makelele, smertin (cole 73), lampard, robben (geremi 81), drogba (gudjohnsen 58).  subs not used: cudicini, bridge.  paulo ferreira, robben, lampard.  robben 79, cole 90.  20,210  a wiley (staffordshire).",
                  "3": "",
                  "4": "football"
                },
                {
                  "0": "356",
                  "1": "tennis042.txt",
                  "2": "\"navratilova hits out at critics  martina navratilova has defended her decision to prolong her tennis career at the age of 48.  navratilova, who made a comeback after retiring in 1994, will play doubles and mixed doubles events in 2005. \"\"womens tennis is really strong",
                  "3": "tennis",
                  "4": "tennis"
                },
                {
                  "0": "357",
                  "1": "tennis056.txt",
                  "2": "\"henman to face saulnier test  british number one tim henman will face frances cyril saulnier in the first round of next weeks australian open.  greg rusedski, the british number two, is in the same quarter of the draw and could face andy roddick in the second round if he beats swede jonas bjorkman. local favourite lleyton hewitt will meet frances arnaud clement, while defending champion and world number one roger federer faces fabrice santoro. womens top seed lindsay davenport drew spanish veteran conchita martinez.  henman came from two sets down to defeat saulnier in the first round of the french open last year, so he knows he faces a tough test in melbourne. the seventh seed, who has never gone beyond the quarter-finals in the years first major and is lined up to meet roddick in the last eight, is looking forward to the match. \"\"hes tough player on any surface",
                  "3": "",
                  "4": "tennis"
                },
                {
                  "0": "358",
                  "1": "football153.txt",
                  "2": "\"real will finish abandoned match  real madrid and real socieded will play the final six minutes of their match, which was abandoned on sunday because of a bomb scare.  the bernabeu was evacuated with the score at 1-1 and two minutes of normal time remaining in the game. the teams will now play the final two minutes, plus four minutes of injury time, on 5 january. brazilian ronaldo and england captain david beckham had to wait in the street in their kit after the abandonment. real sociedad president jose luis astiazaran said: \"\"we thought the best thing was to play the time remaining.\"\"  hundreds of fans streamed across the pitch on their way to the exits after the game was called off. tourists and fans took advantage of the opportunity for a photograph between the famous stadiums goalposts. the two clubs met the spanish fa on monday and astiazaran added: \"\"we thought about giving the game as concluded but after talking with the fa we decided there was no precedent for that and the best thing was to play the time that was remaining.\"\" real madrid director of sport emilio butragueno praised the spectators inside the ground for their conduct. \"\"id like to highlight the behaviour of the fans",
                  "3": "",
                  "4": "football"
                },
                {
                  "0": "359",
                  "1": "football147.txt",
                  "2": "\"hamm bows out for us  womens football legend mia hamm has played her final game.  hamm, 32, who officially retired after this years athens olympics, took to the field for the last time to help the us claim a 5-0 win over mexico. hamm ends her career as the most prolific scorer - male or female - in international football, with 158 goals in 276 games for the us. she was twice fifa womens player of the year and won the world cup in 1991 and 1999 and two olympic golds. on her retirement, hamm said: \"\"there are mixed emotions. there are things in your life that you have had to put on the back-burner and you can focus more time and energy on that now. \"\"i have to see what is out there and not commit to everything at the beginning.\"\" the friendly also saw the end of julie foudy and joy fawcetts us careers. hamm will now embark on a new life with husband",
                  "3": "football",
                  "4": "football"
                },
                {
                  "0": "360",
                  "1": "rugby066.txt",
                  "2": "\"italy aim to rattle england  italy coach john kirwan believes his side can upset england as the six nations wooden spoon battle hots up.  the two sides, both without a win, meet on 12 march at twickenham and kirwan says his side will be hoping to make the most of englands current slump. \"\"we have to make sure the england and france games are tough for them. \"\"england have not been having the best of championships. that is a big one for us and them and i am sure my players will rise to the occasion",
                  "3": "",
                  "4": "rugby"
                },
                {
                  "0": "361",
                  "1": "tennis081.txt",
                  "2": "\"ivanovic seals canberra victory  serbias ana ivanovic captured her first wta title with a straight-sets victory over hungarian melinda czink in the final of the canberra classic.  the 17-year-old took 83 minutes to take the match 7-5 6-1. ivanovic beat czink in the last round of qualifying but the hungarian made the main draw as a lucky loser after katarina srebotnik withdrew injured. ivanovic said: \"\"i was really nervous in the beginning",
                  "3": "",
                  "4": "tennis"
                },
                {
                  "0": "362",
                  "1": "tennis095.txt",
                  "2": "\"henman hopes ended in dubai rain  third seed tim henman slumped to a straight sets defeat in his rain-interrupted dubai championships quarter-final against ivan ljubicic.  the croatian eighth seed booked his place in the last four with a 7-5 6-4 victory over the british number one. henman had looked on course to level the match after going 2-0 up in the second set, but his progress was halted as the rain intervened again. ljubicic hit back after the break to seal a fourth straight win over henman. earlier in the day, spanish fifth seed tommy robredo secured his semi-final place when he beat nicolas kiefer of germany 6-4 6-4.  the rain means the other quarter-finals between roger federer and mikhail youzhny and andre agassi and nikolay davydenko will now be played on saturday. henman was left cursing the weather and the umpire after seven breaks for rain during his match. \"\"it was incredibly frustrating",
                  "3": "",
                  "4": "tennis"
                },
                {
                  "0": "363",
                  "1": "rugby072.txt",
                  "2": "\"wales get williams fitness boost  wales are hopeful that openside flanker martyn williams could be fit for saturdays rbs 6 nations championship opener against england in cardiff.  williams was expected to miss the match with a disc problem in his neck, but has been making a speedy recovery. \"\"he will have tests in the next 48 hours and we are pretty optimistic he is getting there",
                  "3": "",
                  "4": "rugby"
                },
                {
                  "0": "364",
                  "1": "atheletics098.txt",
                  "2": "\"lewis-francis shakes off injury  sprinter mark lewis-francis is determined to get his indoor campaign back on track after a hamstring problem affected his season opener on saturday.  the olympic relay gold medallist pulled out of the 60m final with bad cramp at the birmingham games. \"\"i hope to be fully fit for the european indoor trials at the end of next week",
                  "3": "",
                  "4": "atheletics"
                },
                {
                  "0": "365",
                  "1": "cricket080.txt",
                  "2": "england left in tatters in durban  tea, day one: england: 125-8  graham thorpe was trapped lbw, andrew flintoff looped a catch to square-leg, michael vaughan fell plumb lbw and geraint jones hooked into the deep. marcus trescothick was the first to go after england lost the toss, caught behind off makhaya ntini (3-41). mark butcher then played on and andrew strauss was caught at mid-off for 25.  pollock is given the task of capturing the final two england wickets.  england 125-8  an authentic boundary next ball, lashed over cover for four more.  next ball jones tries to duck a bouncer and the ball barely gets above stump height, glancing the top of his head and bringing four leg byes.  jones stands up to steyn and pushes through the gap at mid-off for two.  boje tosses one up from over the wicket and jones has a dart at it, not finding the middle of the bat but smearing through a vacant mid-on for a single.  after the pace barrage, boje returns and hoggard finds a single to leave new man simon jones on strike.  the giles vigil ends in disappointing fashion as, severely hampered, he hooks at steyn and the man at deep square-leg does not have to move.  favouring the back foot as steyn continues to steam in, hoggard is glad to see one of fullish length that he can push out for a single.  after a single is scrambled, hoggard moves into the firing line and just manages to avoid a rapidly rising bouncer.  another part of unprotected giles anatomy is battered at 85mph, steyns skidding short one catching him in the armpit.  hoggard jabs down at the final moment to keep out a yorker from kallis that was destined for the timbers.  an appeal begun only by the keeper for caught behind against giles down the legside increases a little in volume, but darrel hair is not impressed.  hoggard does not know too much about a full and fast delivery, which he inside edges to fine-leg for a single.  : giles hooks uncomfortably again with one hand off the bat, but the single gives him temporary reprieve from the hostile steyn.  the return of kallis is warmly greeted by giles, who clips a loosener neatly off his pads for four.  matthew hoggard is the latest casualty, another short one from the aggressive steyn thwacking into his arm guard.  the next ball is also short and giles plays an unconvincing hook, with one hand coming off the bat, but some contact is made and giles is grateful to stutter through for a single.  giles is thumped again by another short one.  giles ducks into a brutal low bouncer from steyn, the ball crashes into his elbow and loops over the slip for four leg byes.  steyn returns for pollock as south africa look to wrap up the innings.  the hook proves to be the undoing of jones, who picks out rudolph in the deep off ntini.  jones edges low through a gap where fourth slip would have been, bringing four urgently needed runs for england.  another hook goes high into the space in front of square, but determined fielding from rudolph restricts jones to two.  persisting with the hook shot, jones is fully in control but can only get a single to deep square-leg off pollock.  jones hooks uppishly at ntini and is within 10 yards of carrying to the fielder on the fine-leg boundary.  aiming an expansive drive into the off-side he gets an inside edge and escapes with a single.  jones pummels a cut shot off pollock into the boards for his second four.  vaughan is rapped on the pads bang in front by a skidding delivery from ntini and umpire taufel confirms his worst fears.  pollock unsettles vaughan with a bouncer that follows him and catches the glove.  a controlled thick edge from jones finds the gap between third slip and gully and races for four.  ntini returns, his first delivery down the legside and easily turned for a single by vaughan.  geraint jones picks up a short one from pollock and the ball soars over the ropes for the maximum to open the wicketkeepers account in emphatic fashion.  vaughan rocks back to guide a forcing shot for a much needed boundary off boje.  flintoff is beaten for pace by pollock and his hook shot loops up tamely off the splice to square leg to leave his team in turmoil.  vaughan appears to lose sight of a short one from pollock, and having planned to leave it fends it awkwardly with the glove, before scrambling through for a risky single.  vaughan is able to pinch a single as his gentle push on the off side defeats the fielder on the bounce.  thorpe is trapped plumb in front by the metronomic pollock.  boje resumes after the interval, vaughan crashes one into jacques rudolph at silly point but slices the next ball through gully for four.  england 58-3  vaughan and thorpe get through safely to lunch but know that much more will be required this afternoon.  vaughan, badly needing to play a major innings, strikes a fluent boundary off boje.  kallis switches ends and produces a maiden as england look towards the safety of the luncheon interval.  new man graham thorpe clips a single from the final ball of the over.  the single proves effective as key man strauss takes the strike and lofts a catch to extra cover, where ntini swoops low to cap a fine morning for the home side.  boje finds some early spin with his third delivery and catches the edge of vaughans bat as the england captain pushes forward, but de villiers spills the chance and the ball falls to safety.  kallis is replaced after two overs and the spin of nicky boje is tried 13 minutes before lunch.  there is nothing to stop a strauss cut shot which brings up the england 50 in the 24th over.  strauss is denied a certain boundary when his pull shot strikes square-leg umpire simon taufel.  kallis escapes with a maiden as a sumptuous looking drive from vaughan goes straight to the ubiquitous amla in the covers.  strauss strokes the next ball gloriously down the ground for his fourth boundary.  vaughan pirouettes to pull steyn stylishly but only for a single as the distinctive figure of amla fields on the square-leg fence.  strauss eases the pressure a little by bisecting the field with a trademark drive to the boundary, as kallis struggles to find his rhythm early on.  jacques kallis is introduced, having been unable to bowl in the first test or in india, his first delivery is easily clipped into the legside for vaughans first run.  more conviction in this pull shot from strauss, and steyn is dispatched to the boundary.  just a single from the over, a hook from strauss, who moves to nine.  michael vaughan is given a bouncer first up and survives an optimistic shout for lbw.  an inside edge onto the stumps off steyn ends butchers innings in disappointing fashion again.  a nicely timed cover drive brings butcher three runs, with the intrepid amla cutting the ball off a yard inside the ropes.  ntini replaces pollock, who is left to fume in the outfield, his face a light shade of crimson.  steyn completes his second maiden, restricting butcher with an accurate off-stump line.  pollock hurls the ball back at strauss and throws in a few choice words for good measure.  the extra bounce of durban provides some uncertainty for strauss, an attempted cut and hook bouncing too high for him.  dale steyn is brought into the attack and herschelle gibbs provides him with a maiden with an agile diving stop in the gully.  butcher has to scamper through as he attempts a quick single to amla, who is quicker than perhaps the left-hander gives him credit for, luckily for him the throw is a fraction high.  an elegant drive on the tips of his toes from strauss through mid-off gives him his first boundary.  mark butcher nudges ntini into the legside to open his account.  pollock maintains the south africa stranglehold with another over offering no easy runs.  a stunning one-handed catch by de villiers off an inside edge ends trescothicks bright innings.  strauss gets down to ntinis end and is happy to receive a ball on the pads which he clips neatly away through square-leg for three.  trescothick slashes a wide one from ntini not quite out of the middle, but there is enough on it to clear nicky boje in the gully and race for four.  strauss looks for a single after driving to the right of hashim amla, but the fielder gets across well and ensures another maiden.  the wild ntini produces a maiden, the final ball of the over keeping low and bouncing in front of wicketkeeper ab de villiers.  strauss, keen to get off the mark, attempts a drive at pollock outside off-stump but misses and it is another maiden.  ntini asks the question of darrell hair but trescothick is a long way forward, he clips the next ball off his pads for two more.  another probing maiden from pollock, with strauss content to remain on nought and leave them outside his off-stump.  trescothick thumps the final ball of ntinis over through the covers into the boundary boards.  pollock maintains a tidy line outside off-stump to strauss, who is yet to get off the mark.  trescothick picks the gap at mid-off, punching ntini for the days first boundary.  ntini, bowling over the wicket, angles a short ball across trescothick, who does not take the bait.  pollock overpitches as trescothick gets the scoring under way for england with an off-drive for three runs.  graeme smith (captain), herschelle gibbs, jacques rudolph, jacques kallis, martin van jaarsveld, hashim amla, ab de villiers, shaun pollock, nicky boje, makhaya ntini, dale steyn.  marcus trescothick, andrew strauss, mark butcher, michael vaughan (captain), graham thorpe, andrew flintoff, geraint jones, ashley giles, matthew hoggard, simon jones, stephen harmison. umpires: d hair, s taufel (aus).",
                  "3": "",
                  "4": "cricket"
                },
                {
                  "0": "366",
                  "1": "cricket094.txt",
                  "2": "\"sri lankans cleared of misconduct  two sri lanka cricketers have been cleared of misconduct dating back to the icc champions trophy in 2004.  avishka gunawardene and kaushal lokuarachchi were both the subject of an official disciplinary inquiry after allegations of drunken misconduct. a colombo newspaper had made the claims after a defeat against england in southampton which led to sri lanka exiting the tournament early. but the disciplinary panel could find no evidence against the players. sri lanka cricket chief executive duleep mendis said: \"\"nobody was prepared to give evidence and there was absolutely no evidence to substantiate the articles allegations.\"\" gunawardene",
                  "3": "cricket",
                  "4": "cricket"
                },
                {
                  "0": "367",
                  "1": "cricket043.txt",
                  "2": "\"flintoff fit to bowl at wanderers  fourth test, wanderers: south africa v england  plays starts thursday, 0830 gmt  there had been concerns his rib muscle injury would restrict him to playing as a specialist batsman in the match. captain michael vaughan said: \"\"hes had a bowl and came out fine so he is fully fit to play as an all-rounder. \"\"we will see how he bowls. in cape town i thought he was our best bowler and in durban probably our second best.\"\" flintoff sent down around 20 deliveries at three-quarter pace during wednesdays practice session. the 27-year-old incurred a side strain during the 196-run defeat in cape townlast week and did not bowl again until the eve of the johannesburg test. vaughan said he would not necessarily shield flintoff from bowling the same heavy workload he endured in the first three tests. the skipper commented: \"\"we will just have to judge who is bowling well on any given day and on the given surface to see how much we use him.  \"\"but as a far as were concerned he is available to play any role required.\"\" opening batsman marcus trescothick said the team remained confident despite the defeat in cape town which left the series evenly poised at 1-1 with two to play. he said: \"\"were allowed the odd blip here and there. you dont win eight in a row without being something special. \"\"the guys are generally in good spirits",
                  "3": "",
                  "4": "cricket"
                },
                {
                  "0": "368",
                  "1": "cricket057.txt",
                  "2": "\"ganguly plays down fears  india captain sourav ganguly has attempted to play down safety fears over their tour to bangladesh.  the indian squad arrived in dhaka on wednesday for a 19-day tour featuring two tests and three one-day matches. the first test has already been put back a day to friday after the indian embassy received threats purporting to come from islamic militants. \"\"security is an important factor but we as a team are concentrating on cricket and nothing else",
                  "3": "cricket",
                  "4": "cricket"
                },
                {
                  "0": "369",
                  "1": "football225.txt",
                  "2": "\"argentine great caniggia retires  former argentina international claudio caniggia has retired from playing football at the age of 38.  the striker enjoyed a glittering career, playing with boca juniors, river plate, roma, benfica, dundee and rangers among others. he was also suspended for 13 months after testing positive for cocaine while with roma in 1993. \"\"i work out every day",
                  "3": "football",
                  "4": "football"
                },
                {
                  "0": "370",
                  "1": "cricket123.txt",
                  "2": "\"ireland happy with new c&g format  ireland will be guaranteed nine c&g trophy matches from 2006 when the competition changes from straight knock-out to a league format.  and skipper jason molins said the new structure was a great boost to the development of irish cricket. \"\"it is something we have been pushing for. we need to play more often as a unit and against better opposition",
                  "3": "cricket",
                  "4": "cricket"
                },
                {
                  "0": "371",
                  "1": "football231.txt",
                  "2": "\"prinz beats hamm to fifa trophy  germanys birgit prinz has been named fifa womens player of the year for the second year running.  the striker won the vote with 376 points, well ahead of american mia hamm (286) and 18-year-old brazilian marta (281). prinz paid tribute to both hamm and marta. \"\"i am delighted to be one of the three nominees",
                  "3": "",
                  "4": "football"
                },
                {
                  "0": "372",
                  "1": "football219.txt",
                  "2": "stars shine for tsunami benefit  ronaldinhos world xi beat andriy shevchenkos european xi 6-3 in the nou camp as the worlds top players raised money for the tsunami relief fund.  samuel etoo and ronaldinho put the world xi two-up, alessandro del piero pulled one back before etoo cheekily rounded iker casillas for the third. gianfranco zola rolled back the years to lob home and david suazo levelled before henri camara scored twice. cha du-ri made it 6-3 in front of a hugely entertained 40,000 crowd. several changes were made at the break and throughout the second half as coaches marcello lippi, arsene wenger, frank rijkaard and carlos alberto perreira tried to protect the players from injury. the players stood for a minutes silence for the victims of the asian tsunami before the game, which was refereed by pierluigi collina.  perhaps the only sour note of the night was that some of the crowd chose to boo instead of show their respect, but the players made sure they did not put a dampener on proceedings. david beckham and steven gerrard started for the european side, but it was the world xis barcelona players who stamped their early mark as deco slipped in etoo to score. ronaldinho was delighting his home crowd with some sublime tricks and flicks and he made it 2-0 by slotting home from eight yards. the european xi were more subdued despite the presence of zinedine zidane and raul, though del piero did halve the deficit with a lovely finish.  etoo had been named african footballer of the year hours before and he celebrated by bagging a brace, his second seeing him feint past casillas and walk the ball into an empty net. as expected plenty of changes were made at the break and those changes continued throughout the second half, as the goals continued to fly in. svevchenkos side wasted no time getting back on terms, first zola showing his true class to lob home before honduran suazo side-footed home for 3-3. but southampton striker henri camara had other ideas and he scored twice within five minutes, both neat finishes past francesco toldo in the european goal. cha du-ri finished off the scoring, leaving toldo no chance with a fierce finish from just inside the box. all proceeds from the match will be donated to the fifa/asian football confederation tsunami solidarity fund.  dida, cafu, cordoba, marquez, radebe, song, nakata, deco, kaka, ronaldinho, etoo.  casillas, montero, kaladze, thuram, gerrard, diesler, beckham, zidane, del piero, raul, shevchenko.  pierluigi collina (italy).",
                  "3": "football",
                  "4": "football"
                },
                {
                  "0": "373",
                  "1": "football027.txt",
                  "2": "\"parry puts gerrard above money  listen to the full interview on sport on five and the bbc sport website from 1900 gmt.  but parry, speaking exclusively to bbc sport, also admits gerrard, who has been constantly linked with chelsea, will have the final say on his future. he told bbc five live: \"\"steven is above money. he is the future of liverpool. \"\"it doesnt matter if its £30m",
                  "3": "",
                  "4": "football"
                },
                {
                  "0": "374",
                  "1": "football033.txt",
                  "2": "\"kewell waits as injury drags on  liverpool winger harry kewell is struggling to recover from his achilles tendinitis problem and may not recover until march, claims his agent.  kewell, 26, had hoped to play against fulham last weekend and to be ready for the champions league tie against bayer leverkusen on 22 february. but bernie mandic said: \"\"hes had scans which dont show anything substantial. \"\"but despite his best efforts at the moment he simply cant shake off the discomfort and get back on the park.\"\"  mandic continued in the sydney morning herald: \"\"harrys struggling a bit but the club are doing everything they can to get him right. \"\"harry was desperate to be fit for the fulham game as part of his plan to play himself in for the leverkusen match.\"\" kewell has not played since december 19 and misses out on international duty this week",
                  "3": "",
                  "4": "football"
                },
                {
                  "0": "375",
                  "1": "rugby112.txt",
                  "2": "\"kafer quits saracens  saracens head coach rod kafer has resigned from the premiership club.  the 33-year-old australian, who replaced wayne shelford in august 2003, has decided to stand down after a disappointing start to the season. saracens have decided to promote from within, with rugby manager steve diamond named as kafers replacement. \"\"following talks about extending my contract",
                  "3": "rugby",
                  "4": "rugby"
                },
                {
                  "0": "376",
                  "1": "rugby106.txt",
                  "2": "\"dallaglio eyeing lions tour place  former england captain lawrence dallaglio still harbours hopes of a place on the british and irish lions tour to new zealand.  lions coach sir clive woodward has made it clear he will pick his squad to tour next summer based on form shown in the six nations championship. but dallaglio, who called time on england earlier this year, said: \"\"i assure you i wouldnt let anyone down. \"\"i know what it takes and what i have to offer",
                  "3": "",
                  "4": "rugby"
                },
                {
                  "0": "377",
                  "1": "football016.txt",
                  "2": "\"kenyon denies robben barca return  chelsea chief executive peter kenyon has played down reports that arjen robben will return for the champions league match against barcelona.  \"\"hes been responding well to treatment and started running on friday",
                  "3": "",
                  "4": "football"
                },
                {
                  "0": "378",
                  "1": "football002.txt",
                  "2": "\"van nistelrooy set to return  manchester united striker ruud van nistelrooy may make his comeback after an achilles tendon injury in the fa cup fifth round tie at everton on saturday.  he has been out of action for nearly three months and had targeted a return in the champions league tie with ac milan on 23 february. but manchester united manager sir alex ferguson hinted he may be back early. he said: \"\"there is a chance he could be involved at everton but well just have to see how he comes through training.\"\" the 28-year-old has been training in holland and ferguson said: \"\"ruud comes back on tuesday and we need to assess how far on he is. \"\"the training he has been doing in holland has been perfect and i am very satisfied with it.\"\" even without van nistelrooy",
                  "3": "",
                  "4": "football"
                },
                {
                  "0": "379",
                  "1": "rugby123.txt",
                  "2": "\"wales silent on grand slam talk  rhys williams says wales are still not thinking of winning the grand slam despite a third six nations win.  \"\"thats the last thing on our minds at the moment",
                  "3": "",
                  "4": "rugby"
                },
                {
                  "0": "380",
                  "1": "rugby137.txt",
                  "2": "\"taylor poised for scotland return  simon taylor has been named in the scotland squad for saturdays six nations clash with italy.  the 25-year-old number eight made a scoring return for edinburgh at the weekend - his first game in a year for the capital side. taylor suffered knee ligament damage playing against ireland in dublin in the 2004 six nations championship. \"\"simon is one of scotlands truly world class players so it is a huge bonus",
                  "3": "",
                  "4": "rugby"
                },
                {
                  "0": "381",
                  "1": "cricket106.txt",
                  "2": "\"usa cricket placed under threat  world cricket bosses have threatened to pull out of a plan to spread the game to the us because of poor organisation.  a letter from the icc to the us cricket association was leaked to a website. \"\"we have never seen a sporting organisation that combines such great potential and such poor administration as usaca",
                  "3": "cricket",
                  "4": "cricket"
                },
                {
                  "0": "382",
                  "1": "football214.txt",
                  "2": "\"fa ready to test out goal bleeper  the football association may volunteer to test a new goal-line bleeper when the games bosses meet this weekend.  the technology will be presented at the annual meeting of the international fa board (ifab), made up of fifa and the four home nation associations. the bleeper-type system alerts the referee when the ball, containing a micro-chip, crosses the goal-line. there have been calls for the technology after tottenham had a goal controversially disallowed last month. spurs were denied a winner against manchester united, despite pedro mendes effort crossing the line. mendes speculative strike from the halfway line comfortably crossed the goal-line after an error from united keeper roy carroll.  but with the referee and assistant referee unable to get a proper view of the incident, the goal was not given. this latest breakthrough in electronic aids could help referees avoid situations like this in future. if it impresses the ifab, then the football league are likely to experiment with the new technology. fa executive director david davies said: \"\"we will be very interested to see this presentation - its true we have been more interested in the use of technology than other members of the board. \"\"but this is not video technology",
                  "3": "football",
                  "4": "football"
                },
                {
                  "0": "383",
                  "1": "football200.txt",
                  "2": "\"beckham hints at man utd return  england captain david beckham said he would return to manchester united if he ever leaves real madrid.  beckham left united in july 2003 after falling out with sir alex ferguson and has been linked with a return to london if he decided to move back to england. \"\"if i ever leave i would go back to united and work with sir alex again",
                  "3": "",
                  "4": "football"
                },
                {
                  "0": "384",
                  "1": "cricket112.txt",
                  "2": "icc to press on with dubai switch  the international cricket council is expected to confirm its move from london to dubai with an announcement to be made later in january.  british sports minister richard caborn met icc president ehsan mani on monday in an attempt to persuade crickets governing body against making the move. but the icc remains keen to move to the united arab emirates to take advantage of tax breaks not on offer in britain. last december, the uk treasury ruled out tax breaks for sports federations. the icc is not impressed that it has taken so long for the british government to seek a meeting with mani, especially as it had first mooted a move from lords in june last year. mani told caborn that if circumstances had changed he would be prepared to consider asking his members to remain in london. but whatever the department of culture, media and sport can offer, the biggest factor for the icc - tax breaks - remains something that only the treasury can rule on. the icc recently voted 11-1 with one abstention to move to dubai, and now only the final details need to be arranged before everything is in place for the switch.",
                  "3": "cricket",
                  "4": "cricket"
                },
                {
                  "0": "385",
                  "1": "football228.txt",
                  "2": "\"molby says gravesen is real deal  jan molby is convinced fellow dane thomas gravesen will be a major success when he leaves everton for real madrid.  gravesen is set to join the spanish giants after the clubs agreed a £2m-plus fee for the player. molby told bbc sport: \"\"it is a little bit of a surprise",
                  "3": "",
                  "4": "football"
                },
                {
                  "0": "386",
                  "1": "cricket072.txt",
                  "2": "kiwis recall tuffey for sri lanka  new zealand have recalled seam bowler daryl tuffey to their squad for their one-day series with sri lanka.  tuffey, who missed the recent tours of bangladesh and australia with a leg injury, is fully fit according to kiwis coach john bracewell. middle-order batsman craig mcmillan has been dropped, along with change bowlers andre adams and tama canning. the first match of the series is on december 26, and the teams also play a two-match test series in january. the squad has been reduced to 12 for the first three games of the one-day series to allow as many players as possible to play in domestic first class competition.  all-rounder chris harris will not feature after having an operation to repair the shoulder he injured in the second match against australia.  stephen fleming (captain), nathan astle, mathew sinclair, hamish marshall, scott styris, chris cairns, jacob oram, brendon mccullum, daniel vettori, kyle mills, ian butler, daryl tuffey.",
                  "3": "",
                  "4": "cricket"
                },
                {
                  "0": "387",
                  "1": "cricket066.txt",
                  "2": "\"richardson ends just short  new zealand batsman mark richardson bowed out of from all forms of cricket at the age of 33 just short of 10,000 first-class runs.  richardson needed 41 runs for auckland against canterbury to reach the milestone, but finished on 9,994. he made 35 in his sides first innings but did not bat again when auckland won by an innings and 60 runs. opener richardson only made his debut in 2000 but played in 38 tests, scoring 2776 runs at an average of 44.77. but after impressing against england, making a century at lords, he has struggled of late, with just 48 runs in two test defeats in australia. he announced his retirement last week, saying: \"\"i feel i left something out on the park at lords and have lost the drive to play the richardson way. \"\"im hanging my boots up for good. since last years south african series ive started to struggle with the game emotionally and mentally.\"\" richardson began his career as a spin bowler but gained a reputation as a patient accumulator of runs",
                  "3": "cricket",
                  "4": "cricket"
                },
                {
                  "0": "388",
                  "1": "cricket099.txt",
                  "2": "\"new zealand to step up security  new zealand cricket officials are to review security after australia players were hit by missiles during saturdays opening one-day international.  the match was stopped several times after australian fielders complained they had been hit by plastic bottles. new zealand cricket chief executive martin snedden labelled the missile throwing \"\"unacceptable\"\". \"\"it wasnt the number of security guards",
                  "3": "cricket",
                  "4": "cricket"
                },
                {
                  "0": "389",
                  "1": "atheletics081.txt",
                  "2": "\"iaaf will contest greek decision  the international association of athletics federations will appeal against the acquittal of greek athletes kostas kenteris and katerina thanou.  the high-profile duo were cleared of doping offences by the greek athletics federation (segas) last month. now the iaaf will lodge an appeal with the court of arbitration for sport (cas) and has suspended both athletes. an iaaf statement said: \"\"the doping review board concluded that the decision is erroneous.\"\" the statement continued: \"\"both athletes cases will be refered to arbitration before the cas. the decision in both cases will be final and binding.\"\"  segas said the iaaf appeal was \"\"expected\"\" and \"\"understandable.\"\" \"\"now we are going to await the final result",
                  "3": "atheletics",
                  "4": "atheletics"
                },
                {
                  "0": "390",
                  "1": "football162.txt",
                  "2": "\"evertons weir cools euro hopes  everton defender david weir has played down talk of european football, despite his team lying in second place in the premiership after beating liverpool.  weir told bbc radio five live: \"\"we dont want to rest on our laurels and say we have achieved anything yet. \"\"i think you start taking your eye off the ball if you make statements and look too far into the future. \"\"if you start making predictions you soon fall back into trouble. the only thing that matters is the next game.\"\" he said: \"\"we are looking after each other and hard work goes a long way in this league. we have definitely shown that. \"\"also injuries and suspensions havent cost us too badly and we have a lot of self-belief around the place.\"\"\"",
                  "3": "football",
                  "4": "football"
                },
                {
                  "0": "391",
                  "1": "tennis098.txt",
                  "2": "\"federer wins title in rotterdam  world number one roger federer won the world indoor tournament in rotterdam with a battling 5-7 7-5 7-6 victory over ivan ljubicic on sunday.  the swiss star was made to work hard by ljubicic, who also lost to federer in last months final in doha. the croatian broke his serve for the first time in the tournament to take the first set, but federer hit back and took the decider on a tie-break. he has now won his last 15 finals after triumphing in two hours and 42 minutes. federer said: \"\"today it was very close and it could have gone either way but im happy i fought through because this might be a crucial victory for me for the rest of the season. \"\"i knew i had to fight hard today and thats exactly what happened. \"\"i played one shocking game to be broken. he took advantage of it and broke me to love but i still felt i gave that game away. \"\"that haunted me all the way",
                  "3": "",
                  "4": "tennis"
                },
                {
                  "0": "392",
                  "1": "atheletics095.txt",
                  "2": "\"greene to compete in birmingham  maurice greene will go head-to-head with britains olympic gold medallists mark lewis-francis and jason gardener over 60m in birmingham next month.  the race at the national indoor arena on 18 february will give greene the chance to avenge americas 4x100m relay defeat by the british team. greene, who set the 60m world record of 6.39 seconds in 1998, won bronze in the 100m in athens. but he was beaten to the line on the relay anchor leg by lewis-francis. \"\"im really looking forward to competing in birmingham again",
                  "3": "",
                  "4": "atheletics"
                },
                {
                  "0": "393",
                  "1": "football176.txt",
                  "2": "\"strachan turns down pompey  former southampton manager gordon strachan has rejected the chance to become portsmouths new boss.  the scot was pompey chairman milan mandarics first choice to replace harry redknapp, who left fratton park for rivals saints earlier in december. \"\"i think its a fantastic job for anybody apart from somebody who has just been the southampton manager",
                  "3": "",
                  "4": "football"
                },
                {
                  "0": "394",
                  "1": "rugby057.txt",
                  "2": "\"castaignede fires laporte warning  former france fly-half thomas castaignede has warned the pressure is mounting on coach bernard laporte following their defeat by wales.  france suffered a shock loss against the welsh at the weekend after looking on course for an easy win. castaignede told bbc sport: \"\"the pressure is big on laporte after a huge loss to new zealand",
                  "3": "",
                  "4": "rugby"
                },
                {
                  "0": "395",
                  "1": "rugby043.txt",
                  "2": "\"robinson answers critics  england captain jason robinson has rubbished suggestions that the world champions are a team in decline.  england were beaten 11-9 by wales in their six nations opener in cardiff last week and face current champions france at twickenham on sunday. robinson said: \"\"we are certainly not on the decline. you lose one game and it doesnt make you a bad team. \"\"i have no doubt in the players weve got. we have still got the team to go out and beat anyone on our day.\"\" england find themselves striving to avoid a third successive championship defeat for the first time since 1987. but full-back robinson believes the new-look england team can stop the rot against france.  \"\"last weekend we should have won the game",
                  "3": "",
                  "4": "rugby"
                },
                {
                  "0": "396",
                  "1": "atheletics042.txt",
                  "2": "\"radcliffe enjoys winning comeback  paula radcliffe made a triumphant return to competitive running with victory in the new york marathon.  the briton, running for the first time since dropping out of the olympic marathon and 10,000m, held off kenyan susan chepkemei in a thrilling finish. the pair were locked together for the last few miles before radcliffe finally sprinted clear to win in two hours, 23 minutes and 10 seconds. \"\"its a good way to end the year",
                  "3": "",
                  "4": "atheletics"
                },
                {
                  "0": "397",
                  "1": "atheletics056.txt",
                  "2": "\"kluft impressed by sotherton form  olympic heptathlon champion carolina kluft was full of admiration for britains kelly sotherton as the pair prepared to clash in birmingham.  both will be in action on friday in the 60m hurdles and long jump ahead of the european indoor championships later this month in madrid. sotherton finished third behind the swede in athens, and kluft said: \"\"i knew about her",
                  "3": "",
                  "4": "atheletics"
                },
                {
                  "0": "398",
                  "1": "rugby094.txt",
                  "2": "ireland 17-12 south africa  ronan ogara scored all irelands points as the home side claimed only their second ever win over south africa on an emotional day at lansdowne road.  ogaras first-half try, poached after a quick tap-penalty, helped the irish to a 8-3 lead at half-time. three further ogara penalties extended irelands lead to 17-6 as the game entered the final quarter. two percy montgomery penalties set up a frantic finish but ireland held out to claim a famous victory. ireland began strongly and were never led, but the match was tense and closely fought throughout. aware of the threat posed by the south africans, ireland pressed hard from the outset, and played some impressive rugby while searching for a breakthrough. early on, denis hickie thought he was in for a try after a delightful backline move but shane horgans pass was adjudged to have gone forward by referee paul honiss.  ireland continued to press and they showed their intent by opting for a line-out in the 19th minute when three straight-forward points were on offer. another south african infringement a minute later led to irelands first points - ogara took a quick tap-penalty and charged over the opposition line for an irish try. the springboks could feel hard done by as captain john smit had his back to the play when ogara pounced after referee honiss had told the skipper to warn his own players after consistent infringements. stung by the score, the south africans almost replied with a try of their own within 60 seconds with geordan murphys ankle-tap tackle denying a certain try for percy montgomery. however, the springboks did win a penalty a minute later which montgomery easily slotted to cut irelands lead to 5-3.  ireland got out of jail when the south africans had a three-to-one overlap near the irish line only to waste the chance. after the sustained springboks pressure, the irish produced an attack of their own in the 34th minute which culminated with ogaras clever drop-goal to restore his sides lead to five points which remained the margin at half-time. sustained irish pressure immediately after half-time was rewarded by another ogara penalty. however, montgomery responded quickly by slotting over a superb penalty from near the right touchline to cut irelands lead to five points again. montgomery then burst through the irish defence in the 48th minute and it took a superb girvan dempsey tackle to prevent a try. the south africans suffered a double-blow in the 52nd minute when schalk burger was sin-binned for the second week in a row after killing the ball and ogara punished the transgression by notching another penalty.  in the 61st minute, hickie was left frustrated by a poor pass from girvan dempsey as a chance to seal the match was wasted. however, a late tackle on brian odriscoll enabled ogara to notch another penalty in the 63rd minute which extended irelands lead to 17-6. however, two montgomery penalties had irelands lead in peril again as the springboks closed to within five points with seven minutes remaining. south africa produced a huge effort in the closing minutes but ireland held on to claim a deserved victory.  g dempsey; g murphy, b odriscoll (capt), s horgan, d hickie; r ogara, p stringer; r corrigan, s byrne, j hayes, m okelly, p oconnell, s easterby, j oconnor, a foley.  f sheahan, m horan, d ocallaghan, e miller, g easterby, d humphreys, k maggs.  : p montgomery; b paulse, m joubert, de wet barry, a willemse, j van der westhuyzen; f du preez; o du randt, j smit (captain), e andrews, b botha, v matfield, s burger, aj venter, j van niekerk.  : h shimange, cj van der linde, g britz, d rossouw, m claassens, j de villiers, g du toit/j fourie.  paul honiss (new zealand)",
                  "3": "rugby",
                  "4": "rugby"
                },
                {
                  "0": "399",
                  "1": "tennis073.txt",
                  "2": "\"connors rallying cry for british tennis  \"\"do you have it in your heart? how much guts do you have? how much do you hate to lose?\"\"  these are the questions jimmy connors will be asking of britains brightest tennis hopes in the months",
                  "3": "tennis",
                  "4": "tennis"
                },
                {
                  "0": "400",
                  "1": "tennis067.txt",
                  "2": "\"officials respond in court row  australian tennis top official has defended the australian open courts at melbourne park after criticism of the playing surface by lleyton hewitt.  hewitt said he had had a \"\"gutful\"\" of trying to persuade them to make the surface faster but tennis australias geoff pollard rejected his comments. \"\"we did ask for it to be made faster than last year and",
                  "3": "tennis",
                  "4": "tennis"
                },
                {
                  "0": "401",
                  "1": "rugby080.txt",
                  "2": "\"calder fears for scottish rugby  former scotland international finlay calder fears civil war at the sru could seriously hamper his countrys rbs six nations campaign.  four members of the executive board, including the chairman, david mackay, have resigned after a simmering row. and calder said: \"\"this is terrible news for every level of scottish rugby. \"\"david is a successful businessman and i thought that if anybody could transform the negative atmosphere and rising debt level",
                  "3": "rugby",
                  "4": "rugby"
                },
                {
                  "0": "402",
                  "1": "football189.txt",
                  "2": "\"tv calls after carroll error  spurs boss martin jol said his team were \"\"robbed\"\" at manchester united after pedro mendes shot clearly crossed the line but was not given.  \"\"the referee is already wearing an earpiece so why cant we just stop the game and get the decision right",
                  "3": "",
                  "4": "football"
                },
                {
                  "0": "403",
                  "1": "tennis066.txt",
                  "2": "\"hewitt fights back to reach final  lleyton hewitt kept his dream of an australian open title alive with a four-set win over andy roddick in fridays second semi-final.  the home favourite will face marat safin in sundays final after coming through 3-6 7-6 (7-3) 7-6 (7-4) 6-1. hewitt fought back from a set down and trailed in both tie-breaks but would not be denied, thrilling the melbourne crowd with a typically battling effort. he is aiming to be the first australian winner since mark edmondson in 1976. hewitt is the first australian to make the final since pat cash lost to mats wilander in 1988, but faces a huge challenge against safin - the conqueror of roger federer. after needing five sets in his last two matches there was reason to think hewitt might struggle for fitness. he certainly made a sluggish start, dropping his opening service game, and roddick dominated with his huge serve as he took the first set.  after 12 tense games in the second, the key moment came when hewitt raised his game in the tie-break to overturn an early mini-break. that energised the crowd but roddick was not finished and raced 4-1 clear in the crucial third before hewitt pegged him back and forced another tie-break. again roddick broke first and again hewitt fought back, taking the lead with a superb backhand pass.  the australian was not to be denied and a disheartened roddick made little impact in the fourth set as hewitt raced to victory, sending the melbourne crowd wild and ensuring the final will be a huge occasion. \"\"its awesome",
                  "3": "",
                  "4": "tennis"
                },
                {
                  "0": "404",
                  "1": "football188.txt",
                  "2": "\"ferguson hails man utds resolve  manchester uniteds alex ferguson has praised his players gutsy performance in the 1-0 win at aston villa.  \"\"that was our hardest away game of the season and it was a fantastic game of football",
                  "3": "football",
                  "4": "football"
                },
                {
                  "0": "405",
                  "1": "rugby081.txt",
                  "2": "a year to remember for irish  there used to be one subliminal moment during a year in irish rugby that stood out more than most.  well, at least there used to one. now there is a handful to look back with a mixture of satisfaction, and sorrow. it has been quite a year for the irish, and not just with eddie osullivans triple crown winning international outfit either. right down through the ranks irish rugby is creating waves and upsetting the more established teams in the game. but most of the kudos will go to osullivan and his merry band of warriors who not only collected their first triple crown for 29 years, but also finished their autumn campaign with a 100% record. for the second year in succession they also finished in the runners-up spot in the rbs six nations. but in the three games in november which included a victory over tri-nations champions and grand slam chasing south africa, ireland finsihed the year on a high. the 18-12 victory at lansdowne road was only their second victory over the boks after the initial success back in 1965. that success was revenge for the consecutive defeats in blomefontein and cape town in the summer. those two reverses and the 35-17 flop against france, were the only dark patches in an otherwise excellent 12 months. but the big one, of course, was the 19-13 defeat of world cup champions england on their precious twickenham turf. the winning try was conceived in osullivans mind, perfectly executed by the team and finished immaculately by girvan dempsey. for me, the try of the championship. osullivans career is now in vertical take-off mode. it is no wonder that sir clive woodward has elevated the galway-based coach to head the lions test side. not only that, but a fair majority of the present ireland side will be wearing red next june in new zealand.  there can be no doubt that irelands representation will be the biggest ever, albeit in a proposed 44-man squad. in brian odriscoll and paul oconnell, ireland have now the two front-runners for the captaincy. gordon darcy, whose career began as a teenager back in 1999, finally arrived when he was named the six nations player of the tournament. but it was not only the senior squad that brought kudos to ireland, the youngsters strutted their stuff on the big stage as well. the under-21 squad confounded the doubters as they went all the way to the world cup final in scotland only to be beaten by a powerful all black side in the decider. the young irish boys had stated their intentions earlier in the season when they finished runners-up to england in the six nations under-21 tournament. on the provincial front, leinster, for second year in succession, blew it when the heineken cup looked a good wager. while ulster finished runners-up in their very tight group for the second season in succession, it was munster again flying the flag for the irish. looking to reach their third final, they went down 37-32 to eventual winners wasps in what many beileve was the most competitive and thunderous game ever witnessed at lansdowne road. how wasps recovered from that energy-sapping duel, and then go onto to defeat toulouse in the final was anybodys guess. ulster, meanwhile, just lost out to adding the inaugural celtic cup in winning the celtic league when they were pipped at the post by the scarlets in the final game.  ulster, however, took time to start the new season under new coach mark mccall. the once famous ravenhill fortress was breached four times as ulster only manged five wins from their first 12 outings in the celtic league. leinster are again looking the most potent outfit going into 2005, but whether they can take that final step under declan kidney is another thing. on the down side, irish rugby was hit by a number of tragedies. teenage star john mccall died while playing for the ireland against new zealand in the under-19 world cup game in durban. that happened only 10 days after he led royal armagh to their first ulster schools cup success since 1977. the death of former ireland coach and lions flanker mike doyle in a car crash in northern ireland shocked the rugby fraternity a larger than life character, doyle had coached ireland to the triple crown in 1985, the last time that goal had been achieved before this season. ulster rugby also suffered the sudden deaths of well-known londonderry ym player jim huey, coleraines jonathan hutchinson, and belfast harlequins lock johnny poole. they all passed away long before the full-time whistle.",
                  "3": "rugby",
                  "4": "rugby"
                },
                {
                  "0": "406",
                  "1": "rugby095.txt",
                  "2": "\"ireland v usa (sat)  saturday 20 november  lansdowne road, dublin  1300 gmt  the irish coach knows a repeat of the record 83-3 victory over the states in 2000 is not on the agenda and expects a real test at lansdowne road. \"\"their coach tom billups will have them very organised",
                  "3": "",
                  "4": "rugby"
                },
                {
                  "0": "407",
                  "1": "tennis072.txt",
                  "2": "\"henman & murray claim lta awards  tim henman was named player of the year for 2004 by the lawn tennis association at wimbledon on monday.  the briton was recognised for the best year of his career, which saw him reach the semis at the french and us opens. scotlands andrew murray was named young player of the year after winning the us open juniors, as well as a futures event in italy. and world number one peter norfolk won disabled player of the year after claiming his third us open crown.  great britains under 14 boys won the team of the year prize for their victory at the world junior tennis event in august. henman will start his 2005 campaign at the kooyong event on 12 january in a field that includes roger federer, andy roddick and andre agassi. and the briton is optimistic of surpassing his best effort of a fourth-round place at the australian open, which begins the following week. \"\"ive often felt that the conditions suit my game in melbourne so id love to be able to start next year by doing well at the australian open",
                  "3": "tennis",
                  "4": "tennis"
                },
                {
                  "0": "408",
                  "1": "atheletics057.txt",
                  "2": "\"what now for kelly holmes?  last april, kelly holmes spoke to the bbc sport website about her loneliness, her fight to stay fit and her decision not to contest both the 800m and 1500m at the olympics.  it just goes to show even the most meticulous and measured athletes cannot predict what fate has in store for them. four months later, holmes stormed to double olympic gold and has since been made a dame, won the bbc sport personality of the year and written a book whilst still finding time to coach aspiring athletes. with so much time spent in the spotlight, holmes has increasingly dropped hints that her ambition on the track has begun to wilt. and when asked about her plans for both the indoor and outdoor seasons ahead, the 34-year-old has repeatedly chosen to tick the \"\"dont know\"\" box. holmes has now pulled out of this weekends european indoor championships",
                  "3": "",
                  "4": "atheletics"
                },
                {
                  "0": "409",
                  "1": "atheletics043.txt",
                  "2": "\"collins named uk athletics chief  uk athletics has ended its search for a new performance director by appointing psychologist dave collins.  collins, who worked with the british teams at the 2000 and 2004 olympics, takes over from max jones. six candidates were interviewed for the job, including denise lewis coach charles van commenee and former british triple jumper keith connor. \"\"weve searched long and hard to ensure we have found the right person",
                  "3": "atheletics",
                  "4": "atheletics"
                },
                {
                  "0": "410",
                  "1": "rugby042.txt",
                  "2": "worcester v sale (fri)  sixways  friday, 25 february  2000 gmt  they make just one change, with tim collier replacing phil murphy in the second row. in contrast, sale are missing 14 players due to a combination of international call-ups and injuries. john payne and chris rhys jones come into the centres while scrum-half richard wigglesworth looks set to play on the wing.  delport; pieters, rasmussen, lombard, oleary; brown, powell; windo, van niekerk, horsman; collier, gillies; hickey, sanderson, macleod- henderson.  replacements: fortey, murphy, daly, vaili, cole, hayes, trueman.  hanley; mayor, payne, rhys jones, wigglesworth; hercus, redpath (capt); turner, roddam, stewart; day, schofield; caillet, carter, chabal.  replacements (from): bozzi, coutts, anglesea, lund, martens, riley, duffy, c jones.",
                  "3": "",
                  "4": "rugby"
                },
                {
                  "0": "411",
                  "1": "rugby056.txt",
                  "2": "\"captains lining up for aid match  irelands brian odriscoll is one of four six nations captains included in the northern hemisphere squad for the irb rugby aid match on 5 march.  frances fabien pelous, gordon bullock of scotland and italys marco bortolami are also in the northern party. sir clive woodward will coach the northern team against rod macqueens southern hemisphere team in a tsumani fund-raising match at twickenham. \"\"im looking forward to working with such outstanding players",
                  "3": "rugby",
                  "4": "rugby"
                },
                {
                  "0": "412",
                  "1": "tennis099.txt",
                  "2": "\"gb players warned over security  britains davis cup players have been warned not to go out of their tel aviv hotel unaccompanied ahead of the weekends tie against israel.  a suicide bombing in a nightclub in the city on friday claimed four victims. \"\"we spoke about the bomb and we were told that we must not leave the hotel on our own",
                  "3": "",
                  "4": "tennis"
                },
                {
                  "0": "413",
                  "1": "football177.txt",
                  "2": "\"henry tipped for fifa award  fifa president sepp blatter hopes arsenals thierry henry will be named world player of the year on monday.  henry is on the fifa shortlist with barcelonas ronaldinho and newly-crowned european footballer of the year, ac milans andriy shevchenko. blatter said: \"\"henry",
                  "3": "",
                  "4": "football"
                },
                {
                  "0": "414",
                  "1": "atheletics094.txt",
                  "2": "\"lewis-francis turns to christie  mark lewis-francis has stepped up his preparations for the new season by taking advice from british sprint icon linford christie.  the 22-year-old is set to compete at sheffield this weekend and will then take on maurice greene and kim collins in birmingham on 18 february. \"\"training in wales and getting advice from linford christie is broadening my mind",
                  "3": "",
                  "4": "atheletics"
                },
                {
                  "0": "415",
                  "1": "football163.txt",
                  "2": "\"spain coach faces racism inquiry  spains football federation has initiated disciplinary action against national coach luis aragones over racist comments about thierry henry.  if found guilty aragones could lose his job or face a fine of about £22,000. the federation had initially declined to take action against aragones after comments he made during a national team training session in october. but its president angel maria villar changed his mind after a request by spains anti-violence commission. aragones insisted the comments, made to henrys arsenal club-mate jose antonio reyes, were meant to motivate the player, and were not intended to be offensive.  \"\"i never intended to offend anyone",
                  "3": "football",
                  "4": "football"
                },
                {
                  "0": "416",
                  "1": "atheletics080.txt",
                  "2": "\"greek sprinters wont run again  the careers of sprinters kostas kenteris and katerina thanou are over, says the boss of the organisation that cleared them of missing a drugs test.  greek athletics federation boss vassilli sevastis told the countrys parliament: \"\"i believe kenteris and thanou wont race again. \"\"the damage to their commercial interests has been done",
                  "3": "atheletics",
                  "4": "atheletics"
                },
                {
                  "0": "417",
                  "1": "cricket098.txt",
                  "2": "\"pakistan have the edge - mushtaq  mushtaq ahmed believes pakistan are on the verge of their first test series win in india for 18 years.  imran khan was the last pakistan captain to return home victorious, and india are favourites for the three-test series starting on 8 march. but former test spinner mushtaq told bbc sport: \"\"pakistan have the advantage because of the confidence they would have gained from playing australia. \"\"they showed in the one-day series they had learned from their mistakes.\"\" after losing the test series 3-0",
                  "3": "",
                  "4": "cricket"
                },
                {
                  "0": "418",
                  "1": "cricket067.txt",
                  "2": "\"england require extra intensity  batsman graham thorpe has acknowledged that england need to raise their game ahead of the first test against south africa, which starts on friday.  the team have arrived in port elizabeth after being given a wake-up call in a seven-wicket loss to south africa a. \"\"we lacked intensity and we need to rise to the level south africa will be at",
                  "3": "",
                  "4": "cricket"
                },
                {
                  "0": "419",
                  "1": "cricket073.txt",
                  "2": "strauss ton boosts england  first test, port elizabeth (day two, close): south africa 337; england 227-1  strauss was 120 not out after two days in port elizabeth as england closed inexorably on the hosts 337 all out. he put on 152 for the first wicket with marcus trescothick and added more runs with mark butcher with no england batsman prepared to miss out. earlier, boeta dippenaar converted his overnight 79 into a century of his own. the day began with south africa 273-7 and hoping to reach at least 350 with dippenaar and thami tsolekile batting together. tsolekile initially looked uncomfortable against some short-pitched andrew flintoff bowling. but steve harmisons radar was awry and though runs came slowly, there was little penetration from englands seamers.  dippenaar eventually lifted the shackles by driving harmison through the covers for four. an even better drive in the same area took him to 98 before he put harmison high over gully for four more, reaching only his third test century. finally, well into the second hour, michael vaughan turned to his freshest bowler, simon jones. the welshman struck immediately as dippenaar edged into the safe hands of marcus trescothick at first slip. tsolekile, having hit one excellent boundary off ashley giles, rashly attempted another soon after the loss of dippenaar.  it was a big mistake, though. slogging across the line and against the spin, he skewed the ball up into the covers for andrew flintoff to run round from slip to take the catch. giles removed the last man, dale steyn, and from 324-7 south africa had tumbled to 337 all out. strauss and trescothick had a potentially awkward four overs before lunch to negotiate. but having managed that, they rarely looked troubled in the second session of the day.  strauss, with a series of cuts and pulls, was the more attacking partner, while trescothick was seeking to play himself into some form. south africa were severely limited by having five right-arm seamers at their disposal and no spinner and when the score rattled along to 152-0 shortly after tea they looked in deep trouble. but debutant steyn, who had bowled a rash of no-balls in a nervous first spell, suddenly found some extra pace and a bit of reverse swing to bowl trescothick for 47, the ball crashing into middle stump. shaun pollock also got the ball to reverse in the air, as the runs dried up with mark butcher trying to find his feet and strauss worrying about a possible century. but once strauss drove ntini immaculately down the ground for four to reach three figures, butcher cashed in with two crisp cover-drives of his own for boundaries off andrew hall. it was a weary south african fielding side who marched off the park at stumps.  g smith (captain), ab de villiers, j rudolph, j kallis, b dippenaar, z de bruyn, a hall, s pollock, t tsolekile (wk), m ntini, d steyn.  m vaughan (captain), m trescothick, a strauss, m butcher, g thorpe, a flintoff, g jones (wk), a giles, s jones, m hoggard, s harmison.",
                  "3": "",
                  "4": "cricket"
                },
                {
                  "0": "420",
                  "1": "football229.txt",
                  "2": "\"dein concerned by chelsea stance  arsenal vice-chairman david dein has voiced concern at chelseas stance over the ashley cole controversy.  the premier league is to examine \"\"further information\"\" from a newspaper claiming chelsea made an alleged illegal approach for the defender. chelsea have denied that cole met boss jose mourinho to discuss a move",
                  "3": "",
                  "4": "football"
                },
                {
                  "0": "421",
                  "1": "cricket113.txt",
                  "2": "\"sri lanka reschedule nz test tour  sri lanka have rescheduled their test series in new zealand for april after cutting short the original tour because of the asian tsunami disaster.  the team will play a warm-up game before embarking on two tests against the kiwis, starting on 4 and 11 april. members of the sri lankan squad will be in new zealand later this month to play for a world xi in three one-day games. they will take place on 22, 24 and 26 january and money raised will go to help the tsunami relief appeal. australian shane warne will captain the world side, with south african jonty rhodes acting as player-coach. and the matches raise the prospect of warne bowling in tandem with sri lankan spinner muttiah muralitharan for the first time. former england batsmen nick knight and graeme hick will be also part of the squad. \"\"we hope to break even from the series or to run at a manageable loss",
                  "3": "",
                  "4": "cricket"
                },
                {
                  "0": "422",
                  "1": "football201.txt",
                  "2": "\"beckhams chat reigns in spain  england captain david beckham won a spontaneous round of applause from journalists as he made his first real attempt at speaking spanish in public.  the real madrid midfielder tried a curious mix of spanish and english at a news conference. \"\"el partido con atletico was mucho mejor para todos",
                  "3": "",
                  "4": "football"
                },
                {
                  "0": "423",
                  "1": "football215.txt",
                  "2": "\"the gloves are off  when arsenal play manchester united on tuesday, a fixture that is usually a title-decider has this time been relegated to undercard status.  both teams will be playing for pride and hoping for a win to seize on any possible hiccup by premiership leaders chelsea. arsenal and united have been left in the slipstream of the stamford bridge outfit and the reason, according to many experts, is goalkeeping woes. while chelsea keeper petr cech, who the gunners missed out on signing, has conceded only eight league goals so far this season, his rivals have had their quality questioned after high-profile mistakes and misdemeanours.  arsenal have let in 24 goals as jens lehmann has been dropped in favour of manuel almunia, who has failed to convince the doubters, despite holding highburys number one jersey. roy carroll has wrestled the first-team keeper spot at united from tim howard, whose errors cost him his place, but he still has doubts hanging over his credentials. \"\"its like a heartbreak for goalkeepers like me and peter shilton",
                  "3": "",
                  "4": "football"
                },
                {
                  "0": "424",
                  "1": "cricket107.txt",
                  "2": "england fail to finish job again  england have done their best throughout this series to suggest that they are vulnerable and, on a rain-hit third day at centurion, their batsmen did it again.  when michael vaughan horribly mis-pulled shaun pollock to square leg for a four-ball duck, england had lost three tame wickets for two runs in three overs. they seemed to be doing their best to keep the game open when they should have been doing their utmost to close it down. the first to go was marcus trescothick who was run out thanks to a misjudgement by andrew strauss. trescothick - at the non-strikers end - responded to strausss call when he drove makhaya ntini to straight mid off. but strauss suddenly changed his mind and as trescothick tried desperately to regain his ground, nicky boje swooped one-handed and threw the stumps down direct. robert key fell three overs later when he was caught behind down the leg side for a single. key glared at umpire bucknor when he raised his finger, and dragged himself off the ground, but replays suggested that he had, indeed, touched the ball.  four balls later, vaughan was caught and england were reeling on 29-3. andrew strauss then appeared completely to lose touch and, frankly, graham thorpe has only very occasionally been in form throughout the series. the left-handers scratched about, barely laying bat on ball, but somehow they survived, despite some very close lbw appeals. they managed to add 85 between the interruptions until strauss uncharacteristically chased a ball well wide of his off stump from andre nel and edged to boucher for 44. moments later, lightening drove the players from the ground. time is ticking away now and, with just two days to go, it would take something remarkable for the south africans to win the match from here. but englands fallibility, and their growing tendency to allow the opposition a second chance is something that should concern their supporters. everyone is anticipating a close, exciting ashes series in the summer. but, being completely honest, england will have to improve enormously on their efforts on this tour even to come close to threatening the aussies.",
                  "3": "",
                  "4": "cricket"
                },
                {
                  "0": "425",
                  "1": "rugby136.txt",
                  "2": "\"oconnell rejects lions rumours  ireland and munster lock paul oconnell has dismissed media reports linking him to the captaincy of the lions tour to new zealand this summer.  oconnell is rumoured to be among the front-runners for the job, but says he is totally focused on sundays six nations crunch clash with england. \"\"i honestly dont think about these reports",
                  "3": "",
                  "4": "rugby"
                },
                {
                  "0": "426",
                  "1": "rugby122.txt",
                  "2": "\"paris promise raises welsh hopes  has there been a better six nations match than saturdays epic in paris?  and can the welsh revival continue all the way to a first grand slam since 1978? those are the two questions occupying not just wales supporters but rugby fans as a whole after a scintillating display in paris. welsh legend mervyn davies, a member of two of three grand slam-winning sides of the 1970s, hailed it as \"\"one of the great performances of the past three decades\"\". martyn williams",
                  "3": "rugby",
                  "4": "rugby"
                },
                {
                  "0": "427",
                  "1": "football003.txt",
                  "2": "\"moyes u-turn on beattie dismissal  everton manager david moyes will discipline striker james beattie after all for his headbutt on chelsea defender william gallas.  the scot initially defended beattie, whose dismissal put everton on the back foot in a game they ultimately lost 1-0, saying gallas overreacted. but he has had a rethink after looking over the video evidence again. he said: \"\"i believe that i should set the record straight by conceding that the dismissal was right and correct.\"\" moyes added: \"\"my comments on saturday came immediately after the final whistle and at a point when i had only had the opportunity to see one",
                  "3": "",
                  "4": "football"
                },
                {
                  "0": "428",
                  "1": "football017.txt",
                  "2": "\"bridge could miss rest of season  chelsea left-back wayne bridge could miss the rest of the season with a suspected broken ankle.  the england international, 24, was hurt in an innocuous challenge with alan shearer during the londoners fa cup defeat at newcastle on sunday. \"\"we think its a big injury",
                  "3": "",
                  "4": "football"
                },
                {
                  "0": "429",
                  "1": "rugby108.txt",
                  "2": "\"healey targets england comeback  leicester wing austin healey hopes to use sundays return heineken cup clash with wasps as a further springboard to an england recall for the six nations.  healey, who won 51 caps prior to the 2003 world cup, has been in good form in the tigers resurgence this season. \"\"i definitely still have ambitions to play for england",
                  "3": "",
                  "4": "rugby"
                },
                {
                  "0": "430",
                  "1": "football001.txt",
                  "2": "\"man utd stroll to cup win  wayne rooney made a winning return to everton as manchester united cruised into the fa cup quarter-finals.  rooney received a hostile reception, but goals in each half from quinton fortune and cristiano ronaldo silenced the jeers at goodison park. fortune headed home after 23 minutes before ronaldo scored when nigel martyn parried paul scholes free-kick. marcus bent missed evertons best chance when roy carroll, who was later struck by a missile, saved at his feet.  rooneys return was always going to be a potential flashpoint, and he was involved in an angry exchange with a spectator even before kick-off. and rooneys every touch was met with a deafening chorus of jeers from the crowd that once idolised the 19-year-old. everton started brightly and fortune needed to be alert to scramble away a header from bent near the goal-line. but that was the cue for united to take complete control with a supreme passing display on a goodison park pitch that was cutting up. fortune gave united the lead after 23 minutes, rising to meet ronaldos cross from eight yards after the portuguese youngster had been allowed too much time and space by the hapless gary naysmith. united dominated without creating too many clear-cut chances, and they almost paid the price for not making the most of their domination two minutes before half-time. mikel arteta played a superb ball into the area but bent, played onside by gabriel heintze, hesitated and carroll plunged at his fee to save. united almost doubled their lead after 48 minutes when ronaldos low drive from 25 yards took a deflection off tony hibbert, but martyn dived to save brilliantly. and martyn came to evertons rescue three minutes later when rooneys big moment almost arrived as he raced clean through, but once again the veteran keeper was in outstanding form. but there was nothing martyn could do when united doubled their lead after 57 minutes as they doubled their advantage. scholes free-kick took a deflection, and martyn could only parry the ball out for ronaldo, who reacted first to score easily. evertons problems worsened when james mcfadden limped off with an injury. and there may be further trouble ahead for everton after goalkeeper carroll required treatment after he was struck on the head by a missile thrown from behind the goal. rooneys desperate search for a goal on his return to everton was halted again by martyn in injury-time when he outpaced stubbs, but once again martyn denied the england striker.  - manchester united coach sir alex ferguson: \"\"it was a fantastic performance by us. in fairness i think everton have missed a couple of players and got some young players out. \"\"the boy ronaldo is a fantastic player. hes persistent and never gives in. \"\"i dont know how many fouls he had he gets up and wants the ball again",
                  "3": "",
                  "4": "football"
                },
                {
                  "0": "431",
                  "1": "football015.txt",
                  "2": "hearts 2-1 livingston  hearts wrapped up their scottish cup quarter-final tie against livingston with two goals in the first 10 minutes.  lee miller scored inside the opening 60 seconds, heading over colin meldrum and into the net from a jamie mcallister free kick. mcallister himself scored the second when he met saul mikoliunas cross at the back post to put the game beyond the visitors. craig easton headed in a controversial goal after an hour but hearts held on. the opening goal came after gus bahoken had clumsily fouled miller 35 yards from goal. mcallister floated the free kick into the livi box and miller outjumped the static visiting defence to loop his header from 10 yards over meldrum. with just 10 minutes on the clock, the home side doubled their lead. mikoliunas sprinted down the right, crossed to the back post where mcallister raced in to head past meldrum. moments later miller came close to grabbing his second with a first-time drive from 16 yards, which skimmed the bar.  then mcallister picked up a pass from stephen simmons and drove an angled shot from 20 yards narrowly past meldrums far post. the impressive mikoliunas twice went close before half time - a low drive was comfortably gathered by meldrum and then he curled a left-footed shot past the keepers right-hand post. livi manager richard gough made three changes at the interval, bringing on defender goran stanic, midfielder gabor vincze, and striker ferenc horvath for bahoken, derek lilley and mark wilson. but, in the opening stages of the second period, little changed. however, the west lothian side gave themselves a lifeline with a controversial goal. eric deloumeaux sent jason dair away on the right and he tried to give the ball to mcpake, who looked to be in an offside position. the livi striker ignored the pass, however, and dair ran on to it and played easton in at the back post and he headed home from close range. the home side called for offside against mcpake but referee alan freeland ignored their claims and pointed to the centre-circle. livi went all out for the equaliser. in the 87th minute, burton obrien was hauled back at the edge of the box by neil macfarlane, but dair sent his shot just inches wide.  gordon, webster, miller, hartley, neilson, mcallister, simmons (macfarlane 64), berra, burchill (wyness 82), mikoliunas (cesnauskis 77), wallace.  moilanen, kizys.  berra, webster.  miller 1, mcallister 10.  meldrum, mcnamee, bahoken (stanic 45), deloumeaux, strong, dair, easton, mark wilson (vincze 45), lilley (horvath 45), obrien, mcpake.  mckenzie, hand.  : vincze, horvath.  easton 60.  9,796  a freeland",
                  "3": "",
                  "4": "football"
                },
                {
                  "0": "432",
                  "1": "rugby134.txt",
                  "2": "scotland 18-10 italy  six chris paterson penalties gave scotland victory in a dour but clinical encounter against italy at murrayfield.  coach matt williams side were outmuscled and outplayed in a tense first half but led 6-3 at the break. paterson slotted four more second-half penalties and scotland were denied a try when wing sean lamonts touchdown was ruled out for a forward pass. a late andrea masi try was small consolation for italy, chasing their first away win in the six nations. scotland came out on top of the early exchanges and took a quick 3-0 lead through the boot of full-back paterson. but the more powerful azzurri pack eventually rumbled into life.  a series of drives into scottish territory set up a penalty attempt, missed by full-back roland de marigny, and a wayward drop-goal effort from luciano orquera. scotland defended the initial thrusts but on 20 minutes italy, after coming up yards short of the line, equalised through a de marigny penalty. italy were offered another penalty when scottish flanker simon taylor was offside but the left-footed de marigny pushed his kick wide. scotland finally made the most of a rare foray into the italian half and snatched three points from paterson when an italian forward handled the ball in a ruck.  as the half wore on, both sides squandered promising spells of momentum with sloppy penalties, and the period fizzled out with scotland numerically, if not psychologically, on top. italys de marigny narrowly missed a chance to level the scores again shortly after the break but his long-range kick shaved the right upright. and scotland capitalised with a third paterson penalty on 50 minutes. williams side seemed to have found a spark from somewhere and, after a couple of probing attacks, paterson was able to slot another three points to widen the gap.  with the pendulum of possession swinging towards scotland, lamont thought he had wriggled over in the left corner after 65 minutes but play was recalled for a marginal forward pass from paterson. another paterson penalty on 70 minutes kept the pressure on the wilting visitors. but john kirwans men had the last laugh when gordon ross attempted clearance was charged down and masi pounced for the try, converted by de marigny.  : c paterson; s webster, a craig, h southwell, s lamont; d parks, c cusiter; t smith, g bulloch (capt), g kerr; s grimes, s murray; s taylor, j petrie, a hogg.  r russell, b douglas, n hines, j dunbar, m blair, g ross, b hinshelwood.  r de marigny; mirco bergamasco, c stoica, a masi, l nitoglia; l orquera, a troncon; a lo cicero, f ongaro, m castrogiovanni; s dellape, m bortolami (capt); a persico, d dal maso, s parisse.  g intoppa, s perugini, ca del fava, s orlando, p griffen, r pedrazzi, kp robertson.",
                  "3": "",
                  "4": "rugby"
                },
                {
                  "0": "433",
                  "1": "rugby120.txt",
                  "2": "\"bath faced with tindall ultimatum  mike tindalls agent has warned bath they have until next week to improve their contract offer to the england man or risk losing him to a rival club.  dipo alli says he has received an offer for tindall which dwarfs baths deal and that two other clubs want to talk. \"\"mike does not want to go into the six nations worrying about where he will be playing his club rugby next season",
                  "3": "rugby",
                  "4": "rugby"
                },
                {
                  "0": "434",
                  "1": "football029.txt",
                  "2": "englands defensive crisis grows  englands defensive worries have deepened following the withdrawal of tottenhams ledley king from the squad to face holland.  chelseas john terry and wayne bridge are also out, leaving coach sven-goran eriksson with a real problem for wednesdays match at villa park. injured rio ferdinand and sol campbell were both left out of the squad, and matthew upson has already pulled out. wes brown and jamie carragher are likely to be the makeshift partnership. terry, the captain of chelsea as they push for the premiership title, would have been a certain starter in the absence of campbell and ferdinand. but now he has pulled out with a bruised knee and is likely to be replaced by carragher, alongside brown.  manchester uniteds brown last played for england in the defeat by australia at upton park in february 2003. the 25-year-old was only called into the squad on sunday night as cover following the enforced withdrawal of upson, who has a hamstring injury. and brown now looks certain to add to his tally of seven senior appearances for england. king was forced to pull out after his groin injury was assessed by englands medical staff. eriksson has still not decided whether to call up any further back-up, having already summoned phil neville after bridge pulled out with a foot injury.",
                  "3": "",
                  "4": "football"
                },
                {
                  "0": "435",
                  "1": "football203.txt",
                  "2": "\"barwick installed as new fa boss  new football association chief executive brian barwick has been handed the task of restoring the organisations credibility.  the fa has suffered with financial problems and the faria alam scandal. sports minister richard caborn said: \"\"brians main task will be to restore the respect and authority. \"\"the fa has taken some knocks and it will be up to him to pick the organisation up again so it is respected by all parts of the game.\"\" one of barwicks first jobs could be to try to get to the bottom of a claim that chelsea held an illegal meeting with arsenals england defender ashley cole on 27 january.  however",
                  "3": "football",
                  "4": "football"
                },
                {
                  "0": "436",
                  "1": "cricket111.txt",
                  "2": "zimbabwe bowlers endure hard toil  tour match, chittagong (stumps, day one of three): bangladesh cricket board xi 316-7d; zimbabwe 41-0  by stumps on day one of the three-day match, the bangladesh cricket board xi had declared on 316-7, with zimbabwe replying safely enough to be 41-0. for the tourists, leg-spinner matsikenyeri, generally regarded as a batsman, had figures of 4-58. tushar imran compiled an unbeaten 102, with nafees ahmed contributing 97. fringe test player rajin saleh, who was captaining the bcb xi, helped put on 112 for the third wicket with nafees. five wickets then fell for the addition of just 34 runs as matsikenyeri, the sixth bowler tried, had a major impact. but tushar and tareq aziz (19 not out) then added 123 in an unbroken partnership for the eighth wicket. at that point the declaration came and zimbabwes openers matsikenyeri and barney rogers survived 10 overs before stumps were drawn.  shahriar nadees, shamsur rahman, saqib al wasan, rajin saleh (capt), tushar imran, al sahariar, mushfiqur rahim, mohammad sharif, tareq aziz, shahadat hossain, shafaq al zabir.  barney rogers, stuart matsikenyeri, brendan taylor, vusi sibanda, tatenda taibu (capt/wk), elton chigumbura, tinashe panyangara, douglas hondo, prosper utseya, tawanda mupariwa, ano.",
                  "3": "cricket",
                  "4": "cricket"
                },
                {
                  "0": "437",
                  "1": "cricket105.txt",
                  "2": "\"windies women in optimistic mood  west indies are hopeful of making an impression at the womens world cup in south africa despite financial problems which are overshadowing their build-up.  \"\"our major strength is our bowling",
                  "3": "",
                  "4": "cricket"
                },
                {
                  "0": "438",
                  "1": "football217.txt",
                  "2": "\"bitter santini hits out at spurs  former tottenham coach jacques santini said he quit partly because he felt agreements with the club were broken.  santini, 52, left in november after just 13 games in charge amid tensions with sporting director frank arnesen. \"\"they promised me a big apartment on the beach and i found myself 200m from the sea with a view of my neighbours",
                  "3": "",
                  "4": "football"
                },
                {
                  "0": "439",
                  "1": "cricket065.txt",
                  "2": "india wrap up victory in dhaka  first test, dhaka: bangladesh 184 & 202 v india 526  india win by an innings and 140 runs  left-arm paceman irfan pathan removed tapash baisya for 29 to finish with figures of 6-51, and 11-96 overall. zaheer khan claimed the final wicket when he had the diligent manjural islam rana caught behind for 69. the home side, 170-8 overnight, subsided for 202 to slump to defeat by an innings and 140 runs. bangladesh were left with a daunting task after sachin tendulkars record unbeaten 248 helped india to a total of 526, a lead of 342.  only nafis iqbal (54) and islam rana offered any real resistance as the hosts were routed in double-quick time. in their 33 tests since 2000, bangladesh have now accumulated 30 defeats, with only three draws to their credit. the second and final test of the series starts in chittagong on friday.  habibul bashar (capt), nafis iqbal, javed omar, mohammad ashraful, rajin saleh, khaled mashud (wkt), mushfiqur rahman, mohammad rafique, tapash baisya, mashrafe mortaza, manjurul islam rana.  s ganguly (capt), v sehwag, g gambhir, s tendulkar, r dravid, m kaif, d karthik (wkt), i pathan, a kumble, harbhajan singh, z khan.",
                  "3": "",
                  "4": "cricket"
                },
                {
                  "0": "440",
                  "1": "cricket071.txt",
                  "2": "\"england attempt to create history  first test, port elizabeth: south africa v england  match starts at 0830 gmt  after whitewashes against new zealand and west indies, the tourists will attempt to put last weeks seven-wicket defeat by south a behind them. \"\"the guys are mentally aware of whats required",
                  "3": "",
                  "4": "cricket"
                },
                {
                  "0": "441",
                  "1": "cricket059.txt",
                  "2": "\"hayden ruled out of kiwi showdown  third one-day international, brisbane: australia v new zealand  match starts 0315 gmt friday  the left-hander has failed to recover from a hamstring strain suffered in sydney, when australia won by 17 runs to level the series at 1-1. the kiwis have added all-rounder tama canning to their squad as a replacement for veteran chris harris. the 27-year-old made three one-day appearances in pakistan a year ago. he has been in good form with both bat and ball in domestic cricket, making his highest first-class score of 115 and taking eight wickets in the game as auckland beat northern districts in the state championship. new zealand breathed a sigh of relief when brendon mccullum and scott styris were cleared of code of conduct charges on thursday.  but they will not finalise their line-up until shortly before the game because of persistent bad weather in brisbane which forced gabba groundsman kev mitchell to change the pitch to be used for the game. more rain is forecast for friday, which could mean duckworth-lewis calculations having a big say in the outcome. \"\"we are keeping our options open and wont be rushing to name our side until we are confident with the knowledge we have on the wicket we are going to play on",
                  "3": "cricket",
                  "4": "cricket"
                },
                {
                  "0": "442",
                  "1": "atheletics096.txt",
                  "2": "\"kluft playing down record chance  swedens carolina kluft fears jackie joyner-kersees world record heptathlon points total of 7291 set at the 1988 olympics may never be surpassed.  the olympic champion, who set her best of 7001 to win the 2003 world title, begins her 2005 season at the reebok indoor games in boston on saturday. \"\"her record is probably unbeatable",
                  "3": "",
                  "4": "atheletics"
                },
                {
                  "0": "443",
                  "1": "football175.txt",
                  "2": "reds sink 10-man magpies  titus brambles own goal put liverpool on the comeback trail as injury-hit newcastle were well beaten at anfield.  patrick kluiverts close-range finish put newcastle ahead after 31 minutes, but they were pegged back as bramble headed in steven gerrards corner. neil mellor gave liverpool the lead before half-time from milan baros pass before the czech added a third after rounding shay given on the hour. newcastle then had lee bowyer sent off for two bookable offences. liverpool brought back luis garcia after a hamstring injury, while newcastle were forced to draft in kluivert after craig bellamy was a late withdrawal with a back injury sustained in the warm-up. and garcia should have crowned his return with a goal inside the opening minute when he took a pass from baros but shot wildly over the top from eight yards. olivier bernard was only inches away from giving newcastle the lead after 20 minutes, when he fired just wide from a free-kick 25 yards out. but sounesss side did go ahead 11 minutes later in highly controversial circumstances.  kluivert looked suspiciously offside when kieron dyer set bowyer free, but the dutchman was then perfectly placed to score from six yards. the lead lasted three minutes, with liverpool back on terms as bramble headed gerrards corner into his own net under pressure from sami hyypia. and liverpool were ahead after 37 minutes when baros slid a perfect pass into mellors path for the youngster to slip a slide-rule finish into givens bottom corner. garcias finishing was wayward, and he was wasteful again in first-half injury time, shooting tamely at given after good work by xabi alonso. any hopes of a newcastle recovery looked to be snuffed out on the hour when a brilliant turn and pass by harry kewell set baros free and he rounded given to score. jermaine jenas then missed a glorious chance to throw newcastle a lifeline, shooting over from just eight yards out from shola ameobis cross. then bowyer, who had already been booked for a foul on alonso, was deservedly shown the red card by referee graham poll for a wild challenge on liverpool substitute florent sinama-pongolle.  dudek, finnan, hyypia, carragher, riise, luis garcia (nunez 73), gerrard, alonso, kewell (traore 85), baros, mellor (sinama pongolle 75).  subs not used: hamann, harrison.  bramble 35 og, mellor 38, baros 61.  given, andrew obrien, elliott, bramble, bernard, bowyer, dyer (ambrose 80), jenas, milner (nzogbia 72), kluivert (robert 58), ameobi.  subs not used: harper.  bowyer (77).  bowyer, elliott, bernard.  kluivert 32.  43,856.  g poll (hertfordshire).",
                  "3": "",
                  "4": "football"
                },
                {
                  "0": "444",
                  "1": "atheletics082.txt",
                  "2": "\"greek duo cleared in doping case  sprinters kostas kenteris and katerina thanou have been cleared of doping offences by an independent tribunal.  the duo had been provisionally suspended by the iaaf for allegedly missing three drugs tests, including one on the eve of the athens olympics. but the greek athletics federation tribunal has overturned the bans - a decision which the iaaf can now contest at the court of arbitration for sport. the pairs former coach, christos tzekos, has been banned for four years. kenteris, 31, and thanou, 30, had been charged with avoiding drug tests in tel aviv, chicago and athens and failing to notify anti-doping officials of their whereabouts before the olympics. they withdrew from the olympics after missing a drugs test at the olympic village on 12 august.  the pair then spent four days in a hospital, claiming they had been injured in a motorcycle crash. it was the international olympic committees demand that the iaaf investigate the affair that led to the hearing of the greek tribunal. the head of that tribunal, kostas panagopoulos, said it had not been proven that the athletes refused to take the test in athens. \"\"the charge cannot be substantiated",
                  "3": "atheletics",
                  "4": "atheletics"
                },
                {
                  "0": "445",
                  "1": "football161.txt",
                  "2": "\"ferguson rues failure to cut gap  boss sir alex ferguson was left ruing manchester uniteds failure to close the gap on chelsea, everton and arsenal after his sides 1-1 draw with fulham.  premiership leaders chelsea and the gunners endured a 2-2 stalemate on sunday, giving united the chance to make up some ground in the league. but ferguson said: \"\"i think what makes it so bad is that both our rivals dropped points at the weekend. \"\"it was a great opportunity - and we havent delivered.\"\" united went ahead through alan smith in the 33rd minute before bouba diops superb 25-yard strike cancelled out the visitors lead in the 87th minute. ferguson described the result as an \"\"absolute giveaway\"\" after united had earlier missed a host of opportunities to finish off the encounter. he said: \"\"it was a good performance - some of the football was fantastic - but we just didnt finish them off. \"\"in fairness",
                  "3": "football",
                  "4": "football"
                },
                {
                  "0": "446",
                  "1": "rugby068.txt",
                  "2": "teenager tait picked for england  newcastles teenage centre mathew tait has been named as a centre in englands team to face wales in the six nations opener in cardiff on saturday.  the 18-year-old will play alongside falcons team-mate jamie noon in englands midfield. scrum-half matt dawson is also recalled, despite been left out of the initial squad after a row over clashing tv and training commitments. bath lock danny grewcock will also start, pending a possible citing. england coach andy robinson has also awarded gloucester flanker andy hazell his first six nations start. in another change to the side that lost to australia in november, leicester lock ben kay replaces bath second row steve borthwick. robinson was already without jonny wilkinson, mike tindall, stuart abbott, richard hill and will greenwood, while mike catt had been left out of englands squad.  j robinson (sale sharks, capt); m cueto (sale sharks), m tait (newcastle), j noon (newcastle), j lewsey (wasps); c hodgson (sale sharks), m dawson (wasps); g rowntree (leicester), s thompson (northampton), j white (leicester), d grewcock (bath), b kay (leicester), l moody (leicester), a hazell (gloucester), j worsley (wasps). replacements: a titterrell (sale sharks), p vickery (gloucester), s borthwick (bath), j forrester (gloucester), h ellis (leicester), o barkley (bath), b cohen (northampton).",
                  "3": "",
                  "4": "rugby"
                },
                {
                  "0": "447",
                  "1": "football149.txt",
                  "2": "\"liverpool pledge to keep gerrard  liverpool chief executive rick parry insists the club will never sell steven gerrard amid reports chelsea will renew their bid to lure him from anfield.  gerrard reiterated his desire to win trophies with the reds after his superb champions league winner on wednesday. and parry has moved to scotch claims that chelsea could launch a £35m bid. \"\"there is no chance of stevie going in january",
                  "3": "",
                  "4": "football"
                },
                {
                  "0": "448",
                  "1": "rugby040.txt",
                  "2": "\"preview: ireland v england (sun)  lansdowne road, dublin  sunday, 27 february  1500 gmt  bbc1, radio 4 lw and this website  ireland are going for their first grand slam since 1948 after two opening wins, and england represent their sternest test of the championship so far. england were sloppy and leaderless in the defeats against wales and france and another loss would be unthinkable. the pressure is on coach andy robinson and his side have to deliver.  despite englands dramatic dip in form since the world cup final - they have lost eight of their last 13 matches - ireland coach eddie osullivan says his side should not underestimate the visitors. \"\"had they kicked their points they would have beaten france and that would have created a different landscape for sunday",
                  "3": "",
                  "4": "rugby"
                },
                {
                  "0": "449",
                  "1": "rugby054.txt",
                  "2": "\"prop jones ready for hard graft  adam jones says the wales forwards are determined to set the perfect attacking platform for the backs by dominating the powerful france pack in paris.  the prop said: \"\"if we get stuffed in the front five our backs have had it. \"\"the mentality of the french is scrum",
                  "3": "",
                  "4": "rugby"
                },
                {
                  "0": "450",
                  "1": "atheletics055.txt",
                  "2": "\"holmes is hit by hamstring injury  kelly holmes has been forced out of this weekends european indoor athletics championships after picking up a hamstring injury during training.  the double olympic champion said: \"\"i am very disappointed that i have been forced to withdraw. \"\"i can hardly walk at the moment and i wont be able to do any running for two or three weeks although ill be keeping fit as best i can.\"\" holmes will have now have intensive treatment in south africa.  the 34-year-old made a cautious start to the season but looked back to her best when she stormed to the 1",
                  "3": "atheletics",
                  "4": "atheletics"
                },
                {
                  "0": "451",
                  "1": "tennis058.txt",
                  "2": "\"clijsters hope on aussie open  kim clijsters has denied reports that she has pulled out of januarys australian open because of her persistent wrist injury.  open chief paul mcnamee had said: \"\"kims wrist obviously isnt going to be rehabilitated.\"\" but her spokesman insisted she had simply delayed submitting her entry. \"\"the doctors are assessing her injury on a weekly basis and if there is no risk she could play. but if theres the least risk she will stay away.\"\" despite being absent from the wta entry list for the tournament",
                  "3": "",
                  "4": "tennis"
                },
                {
                  "0": "452",
                  "1": "atheletics041.txt",
                  "2": "\"gatlin and hayes win owen awards  american olympic stars justin gatlin and joanna hayes have been named the winners of the 2004 jesse owens awards, usa track & fields (usatf) top honour.  gatlin, 22, won the closest 100m final in games history with a career-best time of 9.85 seconds in athens. he also won bronze in the 200m and silver in the 4x100m relay, becoming the only male athlete to win three athletics medals this summer. hayes, 27, set an olympic record of 12.37 in winning the 100m hurdles. established in 1981, the jesse owens awards - named in honour of the late olympic great who won four gold medals at the 1936 berlin games - are presented annually to the outstanding us male and female track and field performers.  the 2004 awards will be presented on 3 december in conjunction with the usatf annual meeting in portland. \"\"it is such a great honour to win the jesse owens award",
                  "3": "atheletics",
                  "4": "atheletics"
                },
                {
                  "0": "453",
                  "1": "rugby083.txt",
                  "2": "\"lomu relishing return to action  former all black star jonah lomu says he cannot wait to run out on the pitch for former england rugby union captain martin johnsons testimonial on 4 june.  the 29-year-old had a kidney transplant in july 2004 but will play his first full match for three years, leading a southern hemisphere side at twickenham. \"\"i actually started training three weeks after my operation but i was very limited until a few months ago. \"\"now its basically bring it on!\"\" said the giant winger. \"\"the match on 4 june will be my first 15-man game but i have a training schedule which is quite testing and combines with sevens and a whole lot of things",
                  "3": "rugby",
                  "4": "rugby"
                },
                {
                  "0": "454",
                  "1": "atheletics069.txt",
                  "2": "\"holmes back on form in birmingham  double olympic champion kelly holmes was back to her best as she comfortably won the 1,000m at the norwich union birmingham indoor grand prix.  the 34-year-old, running only her second competitive race of the season, shook off the rust to win in two minutes, 35.39 seconds. but she is still undecided about competing in the european championships in madrid from 4-6 march. \"\"ill probably be entered and make my mind up at the last minute",
                  "3": "",
                  "4": "atheletics"
                },
                {
                  "0": "455",
                  "1": "tennis064.txt",
                  "2": "\"sydney return for henin-hardenne  olympic champion justine henin-hardenne will return to action in januarys sydney international tournament.  the belgian has not competed since losing her top world ranking at the us open in september, where she was beaten in the fourth round by nadia petrova. she took time out to shake off a virus but will defend her titles in sydney and at the australian open. womens world number one lindsay davenport and french open champion anastasia myskina will also compete.  in the mens event, world number three lleyton hewitt returns to defend his title, along with runner-up carlos moya. moya, spains davis cup final hero in their recent win over the us, had to retire with an ankle injury in the first set of the final.  tournament director craig watson said: \"\"i had a message relayed to me from him after spains davis cup victory",
                  "3": "",
                  "4": "tennis"
                },
                {
                  "0": "456",
                  "1": "tennis070.txt",
                  "2": "\"safin plays down wimbledon hopes  newly-crowned australian open champion marat safin has ruled out any chance of winning wimbledon in the future.  after losing in round one last year, safin said he had \"\"given up\"\" on wimbledon and winning his second grand slam title has not changed his mind. \"\"ill play",
                  "3": "",
                  "4": "tennis"
                },
                {
                  "0": "457",
                  "1": "rugby097.txt",
                  "2": "ireland 21-19 argentina  an injury-time dropped goal by ronan ogara stole victory for ireland from underneath the noses of argentina at lansdowne road on saturday.  ogara kicked all of irelands points, with two dropped goals and five penalties, to give the home side a 100% record in their autumn internationals. an impressive argentina appeared in control until the dying seconds. the pumas shocked the irish early on with a try from federico aramburu, and felipe contepomi kicked 14 points. the well-drilled and sharper pumas out-played and out-thought ireland in the early stages. indiscipline allowed argentinas leinster fly-half contepomi to open the scoring in the third minute with a straightforward penalty. he was on the mark again two minutes later when argentina shocked a ragged ireland with the first try of the game. ireland turned the ball over and manuel contepomi broke through an unstructured defence before feeding his midfield partner aramburu to sprint in under the posts. ogara finally got ireland on the board with a dropped goal in the ninth minute only for contepomi to rifle over his second penalty two minutes later. playing into a strong wind and rain, ireland continued to come second best in tight situations, and turnovers began to mount up against a rugged defence. ogara managed to land his second penalty in the 36th minute, but once again contepomi replied in kind four minutes into first-half injury time. the second-half started as the first had ended. ogara rifled over another penalty in the 45th minute, but contepomi matched it three minutes later. the upper-body strength of the pumas never allowed ireland to take control up front, while the three-quarters had no space to manoeuvre. ireland had to rely on ogaras boot to keep in touch rather than any contrived running plays. the munsterman landed two more penalties - one of them from 48 metres - to bring his team to within four points with 13 minutes on the clock remaining. and irelands chance came when argentinas number eight gonzalo longo was yellow carded with six minutes to go for an offence in the line-out. ogara made no mistake as he rifled over his fifth penalty to set up a tense final few minutes. but ireland showed great composure to get themselves into a position to allow ogara to thump over a massive drop goal to complete a tremendous, if fortuitous, comeback.",
                  "3": "",
                  "4": "rugby"
                },
                {
                  "0": "458",
                  "1": "tennis071.txt",
                  "2": "nadal puts spain 2-0 up  result: nadal 6-7 (6/8) 6-2 7-6 (8/6) 6-2 roddick  spains rafael nadal beats andy roddick of the usa in the second singles match rubber of the 2004 davis cup final in seville. spain lead 1-0 after carlos moya beat mardy fish in straight sets in the opening match of the tie.  nadal holds his nerve and the crowd goes wild as spain go 2-0 up in the tie.  roddick holds serve to force nadal to serve for the match but the american surely cannot turn things around now.  nadal works roddick around the court on two consecutive points to earn two break points. one is enough, the spaniard secures the double-break and roddick is now teetering on the edge.  roddick is trying to gee himself up but the clay surface is taking its toll on his game and he is looking tired. nadal wins the game to love.  nadal steps up the pressure to break and spain have the early initiative in the fourth set.  nadal also holds convincingly as both players feel their way into the fourth set.  roddick shrugs off the disappointment of losing the third-set tiebreak and breezes through his first service game of the fourth set.  nadal earns the first mini-break in the tiebreak as the match enters its fourth hour. a couple of stunning points follow, one where nadal chases down a roddick shot and turns into a passing winner. then roddick produces some amazing defence at the net to take the score to 4-4. roddick has two serves for the set but double-faults to take the score to 5-5. nadal saves a roddick set point then earns his own with a drive volley - and a crosscourt passing winner sends the crowd wild.  nadal tries to up his aggression and he passes roddick down the line to go 15-40 and two set points up. roddick saves the first with a desperate lunge volley and smacks a volley winner across the court to take the score back to deuce before securing the game. the set will go to another tiebreak.  nadal enjoys another straightforward hold and roddick must once again serve to stay in the set.  roddick again holds on, despite some brilliant shot-making from his opponent.  nadal races through his service game to put the pressure straight back onto roddick.  roddick hangs in on his serve to level matters but nadal is making him fight for every point.  nadal could be suffering a disappointment hangover from the previous game as he goes 0-30 down and then has to save a break point after a tremendous rally in which he is forced into some brilliant defence. but it pays off and the spaniard edges ahead in the set.  roddicks serve is not firing as ferociously as usual and has to rely on his sheer competitive determination to stay in the set. three times, nadal forces a break point and three times the world number two hangs in. and roddicks grit pays off as he manages to hold.  roddick still looks a bit sluggish but he attacks the net and is rewarded with a break point, which nadal saves with a good first serve and the spaniard goes on to hold.  there is a disruption in play as roddick is upset about something in the crowd. the spanish captain gets involved as does the match referee but it is unclear what the problem is. one thing for certain is that the crowd are roused into support of nadal and they go wild when roddick loses the next point and goes break point down. roddick saves the break point and then bangs down his ninth ace before clinching the game with a service winner.  the game passes the two-hour mark as nadal holds serve to edge ahead in the third set.  now roddick has to defend a break point and he produces a characteristic ace to save it. it is immediately followed by another and he holds with a little dinked half-volley winner.  roddick is looking a little leaden-footed but does carve out a break point for himself. but he plays it poorly and nadal avoids the danger.  roddick has gone off the boil and again struggles. he fails to get down properly for a low forehand volley and gives nadal three break points. the american blasts an ace to save one but follows up with a double fault and the rubber is level.  nadal edges towards taking the second set with a comfortable hold.  two good serves put roddick 30-0 up but he then makes a couple of errors to find himself 30-40 down. he saves the break point with an ace and then manages to hold.  roddicks level has dropped while nadal is on a hot streak. the spaniard includes a superb crosscourt winner off the back foot as he races through his service game without dropping a point.  roddick double-faults twice and nadal takes full advantage of the break point offered, powering a passing winner past roddick.  nadal wins another tight game. neither player has dipped from the high standard of play in the first set.  nadal puts the american under pressure and roddick saves a break point with a superb stop volley before going on to hold.  nadal puts the disappointment of losing the first-set tiebreak to claim the opening game in the second.  roddick double-faults to concede the first mini-break and then nadal loops a crosscourt winner to seize advantage in the tiebreak. he lets one slip but wins his next serve to earn three set points. but roddick saves them and then earns one himself. nadal comes up with a down-the-line winner but then nets tamely on roddicks next set point.  nadals nerve is tested as he tries to force a tiebreak. both players come up with some scintillating tennis and the spaniard has several chances to clinch the game before finally doing so when roddick drives wide.  a pulsating game sees nadal racing round the court retrieving and refusing to give roddick any easy points. the point of the match so far involves roddicks slam-dunk smash being returned by nadal before roddick finally manages to end the rally. on the very next point, nadal blasts a forehand service return from right of court that passes roddick and even the american is forced to applaud. but roddick comes up with two big serves to polish off the game.  nadal outplays roddick to reach 40-0 but the american fights back to 40-30 before nadals powerful crosscourt forehand winner secures the game.  the crowd are getting very involved, cheering between roddicks first and second serves. but the american comes through to hold and edge ahead in the set.  nadal manages to hold again despite roddick piling the pressure on his serve. the spaniard wins the game courtesy of another lucky net cord.  roddick double faults buts manages to keep his composure. a well-placed serve is unreturnable and roddick holds.  a powerful ace down the middle gives nadal a simple love service game - the first time he has held serve so far in the match. if roddick didnt know before, he knows now that he is in a real contest.  another superb game as nadal breaks to once again lift the roof. he produces some fine groundstrokes to leave roddick chasing shadows. four of the first five games have seen a break of serve.  despite the disappointment of losing his serve, roddick is not phased and storms into a 40-15 lead when the umpire leaves his seat to confirm a close line-call. nadal takes the next point but roddick breaks again with a sharp volley at the net.  roddicks advantage is short lived as nadal breaks back immediately. a fortunate net cord helps the spaniard on his way and when roddick fires a forehand cross court shot wide to lose his serve, nadal pumps his fist in celebration.  the american is pumped up for this clash and takes on nadals serve from the start. nadals drop shot is agonisingly called out and roddick claims the vital first break.  after moyas win in the opening rubber, a raucous seville crowd is buoyed by nadals impressive start which sees him race into a 30-0 lead. however roddick fights back to hold his serve.",
                  "3": "tennis",
                  "4": "tennis"
                },
                {
                  "0": "459",
                  "1": "rugby096.txt",
                  "2": "\"ireland call up uncapped campbell  ulster scrum-half kieran campbell is one of five uncapped players included in irelands rbs six nations squad.  campbell is joined by ulster colleagues roger wilson and ronan mccormack along with connachts bernard jackman and munsters shaun payne. gordon darcy is back after injury while munster flanker alan quinlan also returns to international consideration. \"\"the squad is selected purely on form. a lot of players put their hands up",
                  "3": "",
                  "4": "rugby"
                },
                {
                  "0": "460",
                  "1": "atheletics068.txt",
                  "2": "\"gb select holmes for double bid  kelly holmes has been chosen for both the 800m and 1500m at next months european indoor championships - despite not yet confirming her availability.  the double-olympic champion is still undecided about whether to compete in her first european indoors in madrid. but uk athletics chief max jones believes it is likely holmes will race. he said: \"\"its worth a punt",
                  "3": "atheletics",
                  "4": "atheletics"
                },
                {
                  "0": "461",
                  "1": "rugby082.txt",
                  "2": "\"williams stays on despite dispute  matt williams insists he has no thoughts of quitting as national coach as a result of the power struggle currently gripping scottish rugby.  the chairman, chief executive and three non-executive directors all departed in a row over the games future direction. but williams said: \"\"i want to make it clear that im committed totally to scottish rugby. \"\"ive brought my family here and weve immersed ourselves in scottish life. theres no way that im walking away.\"\" however",
                  "3": "rugby",
                  "4": "rugby"
                },
                {
                  "0": "462",
                  "1": "tennis065.txt",
                  "2": "\"koubek suspended after drugs test  stefan koubek says he has been banned for three months by the international tennis federation (itf) after testing positive for a banned substance.  the world number 60 failed a routine drugs test at this years french open but now plans to lodge an appeal. koubek believes an injection given to him by an austrian doctor to treat a wrist injury is to blame for producing traces of the substance in his system. \"\"i have acted correctly",
                  "3": "tennis",
                  "4": "tennis"
                },
                {
                  "0": "463",
                  "1": "atheletics040.txt",
                  "2": "\"radcliffe tackles marathon tasks  paula radcliffe faces arguably the biggest test of her career in the new york city marathon on sunday.  back under the spotlight of public scrutiny she will attempt to erase the double disappointment of the athens olympics, where she failed to finish the marathon and then the 10,000m. bbc sport examines the challenges facing radcliffe ahead of the big race.   the ability to run a gruelling 26.2 miles relies largely upon an athletes belief that they can do it. every runner will hit the wall at some stage and see written on it, \"\"are you strong enough to finish?\"\"  the question could hit radcliffe hard after she was unable to complete her last two races in high-profile and emotional circumstances. sports psychologist hugh richards says the 30-year-old must draw on her past achievements to conquer a potential crisis of confidence. \"\"there is an old adage",
                  "3": "",
                  "4": "atheletics"
                },
                {
                  "0": "464",
                  "1": "atheletics054.txt",
                  "2": "\"thanou bullish over drugs hearing  katerina thanou is confident she and fellow sprinter kostas kenteris will not be punished for missing drugs tests before the athens olympics.  the greek pair appeared at a hearing on saturday which will determine whether their provisional bans from athletics ruling body the iaaf should stand. \"\"after five months we finally had the chance to give explanations. i am confident and optimistic",
                  "3": "atheletics",
                  "4": "atheletics"
                },
                {
                  "0": "465",
                  "1": "tennis059.txt",
                  "2": "\"clijsters could play aussie open  kim clijsters has denied reports that she has pulled out of januarys australian open because of her persistent wrist injury.  open chief paul mcnamee had said: \"\"kims wrist obviously isnt going to be rehabilitated.\"\" but her spokesman insisted she had simply delayed submitting her entry. \"\"the doctors are assessing her injury on a weekly basis and if there is no risk she could play. but if theres the least risk she will stay away.\"\" despite being absent from the wta entry list for the tournament",
                  "3": "",
                  "4": "tennis"
                },
                {
                  "0": "466",
                  "1": "rugby055.txt",
                  "2": "\"moody joins up with england  lewis moody has flown to dublin to join englands camp ahead of their rbs six nations game against ireland on sunday.  despite joining the squad, the leicester flanker only has a \"\"slim\"\" chance of playing because of an infection in his finger. a decision will be taken on saturday as to whether the 26-year-old will be declared fit. if he fails to recover in time for the game",
                  "3": "",
                  "4": "rugby"
                },
                {
                  "0": "467",
                  "1": "rugby041.txt",
                  "2": "leeds v saracens (fri)  headingley  friday, 25 february  2000 gmt  the tykes have brought in newcastle prop ed kalman and tom mcgee from the borders on loan while fly-half craig mcmullen has joined from narbonne. raphael ibanez is named at hooker for saracens in one of four changes. simon raiwalui and ben russell are also selected in the pack while kevin sorrell comes in at outside centre.  - fridays game at headingley got the go-ahead on friday after passing an early pitch inspection. leeds: balshaw; rees, christophers, bell, doherty; mcmullen, dickens; mcgee, rawlinson, gerber; murphy, palmer (capt), morgan, parks, popham. replacements: kalman, regan, hyde, rigney, mcmillan, rock, vickerman. saracens: bartholomeusz; castaignede, sorrell, harris, vaikona; jackson, bracken; yates, ibanez, visagie; raiwalui, fullarton; randell, russell, vyvyan (capt). replacements: cairns, lloyd, broster, chesney, johnston, rauluni, little.",
                  "3": "",
                  "4": "rugby"
                },
                {
                  "0": "468",
                  "1": "football148.txt",
                  "2": "\"wenger rules out new keeper  arsenal boss arsene wenger says he has no plans to sign a new goalkeeper during the january transfer window.  wenger has brought in manuel almunia for the last three games for the out-of-form jens lehmann - but the spaniard himself has been prone to mistakes. there have been suggestions that wenger will swoop for a high-quality shot-stopper in the new year. but he told the evening standard: \"\"i dont feel it will be necessary to bring in a new goalkeeper in january.\"\" the gunners manager refused to comment on the difficult start that 27-year-old almunia has made to his career at highbury. and he would not be drawn on whether lehmann would return for the top-of-the table clash with chelsea on sunday.  almunia was at fault for rosenborgs goal in arsenals 5-1 champions league win on tuesday and had some hairy moments in last weeks win over birmingham. but wenger said earlier this week that his indifferent form was down to pressure caused by being under scrutiny from the media. \"\"the debate has gone on too long. everyone has an opinion and i do not have to add to it",
                  "3": "",
                  "4": "football"
                },
                {
                  "0": "469",
                  "1": "rugby069.txt",
                  "2": "\"wood - ireland can win grand slam  former captain keith wood believes ireland can win only their second grand slam - and first since 1948 - in this years rbs six nations championship.  after claiming their first triple crown for 19 years last season, wood tips his former team-mates to go one better. \"\"things have been building up over the past few years and i think this is the year for ireland",
                  "3": "",
                  "4": "rugby"
                },
                {
                  "0": "470",
                  "1": "football160.txt",
                  "2": "\"anelka apologises for criticism  manchester city striker nicolas anelka has issued an apology for criticising the ambitions of the club.  anelka was quoted in a french newspaper as saying he would like to play in the champions league for a bigger club. but chairman john wardle said: \"\"ive spoken to nicolas and hes apologised for anything that might have been mistakenly taken from the french press. \"\"we are a big club. nicolas told me that he agrees with me that we are a big club.\"\" wardle was speaking at the clubs annual general meeting",
                  "3": "",
                  "4": "football"
                },
                {
                  "0": "471",
                  "1": "atheletics083.txt",
                  "2": "\"johnson too strong for gb runners  britains kathy butler and hayley yelling were no match for benita johnson in the 51st cross international zornotza in amorebieta, spain.  butler and yelling finished fourth and fifth as australian world champion johnson romped to a five-second victory in the 6km race ahead of edith masai. masais fellow kenyan alice timbilil finished third. johnson said: \"\"i ran comfortably for the first 3km and then i tried to leave the others but it wasnt an easy task.\"\" butler clocked a time of 22 minutes 45 seconds - 22secs behind the winner but four ahead of yelling",
                  "3": "",
                  "4": "atheletics"
                },
                {
                  "0": "472",
                  "1": "football174.txt",
                  "2": "campbell rescues arsenal  sol campbell proved to be an unlikely match-winner to earn arsenal a hard-fought win at portsmouth.  the england defender lashed home a 25-yard shot for his first goal in 16 months to take arsenal back into second spot, five points behind chelsea. but before campbell scored the best two chances of the game fell to pompey striker ricardo fuller. in the first half he blasted wide when clear, and his control let him down in the second half when well placed. portsmouth got plenty of bodies behind the ball to deny arsenal space in the early stages. but their marking was slack at a corner and patrick vieira should have done better when the ball fell to him 16 yards out. a mistake by arjan de zeeuw let thierry henry in behind the pompey defence on 17 minutes but as he bore down on goal linvoy primus got in a saving tackle. with just fuller as an out-and-out striker, portsmouths shape made life difficult for arsenal. but a delightful touch by robin van persie gave henry a sight of goal, although the angle was too tight for his shot to trouble jamie ashdown.  ashdown caused hearts to flutter on 28 minutes when he missed his punch at a corner and kolo toure headed just wide and, as arsenal began to press, van persie blasted over a good opportunity after henry had set him up. henry took a quick return pass from vieira but ashdown was out quickly to block, and there were some anxious seconds for pompey as the ball ran loose before matthew taylor cleared. after playing second fiddle, portsmouth should have taken the lead on 34 minutes. referee howard webb played a good advantage to allow steve stone to send gary oneil away but, having shrugged off toure, the pompey midfielder planted his shot wide from 10 yards. as half-time approached, henry teased a shot through a ruck of players and inches wide. at the other end, fuller broke clear but failed to hit the target as toure closed him down.  fuller was given the best chance of the match so far on 48 minutes when patrik bergers break and slipped pass played him clear. but a poor first touch lost him the opportunity and even when he checked back and went down under vieiras challenge, referee webb was not interested. fuller paid the price when he gave way on 55 minutes to aiyegbeni yakubu, who returned after six weeks out with a knee injury. but it needed alert reflexes and safe handling from ashdown to cling on to van persies shot as henry sniffed for scraps.  portsmouth were growing in confidence and keeper manuel almunia had to stand his ground to beat away a powerful shot from berger. arsenal were struggling to find their rhythm but took the lead through the unlikely source of campbell. the england defender needed little invitation as pompey backed off to stride forward and lash a ferocious shot past ashdown. arsenal might have stretched their lead two minutes later when mathieu flamini escaped his marker to flash a header wide from henrys free-kick. almunia went full length to grab bergers long-range shot, while ashdown palmed away substitute dennis bergkamps shot.  ashdown, griffin, de zeeuw, primus, taylor, stone, oneil, faye (berkovic 83), berger, lualua, fuller (yakubu 55).  subs not used: hislop, quashie, cisse.  almunia, lauren, toure, campbell, cole, pires, flamini, vieira, clichy, van persie (bergkamp 68), henry.  subs not used: lehmann, fabregas, senderos, hoyte.  cole.  campbell 75.  20,170.  h webb (s yorkshire).",
                  "3": "",
                  "4": "football"
                },
                {
                  "0": "473",
                  "1": "atheletics097.txt",
                  "2": "\"pittman drops coach for uk base  australias world 400m hurdle champion jana pittman has split from coach phil king and is now training with her british fiance chris rawlinson.  \"\"the opportunity to live and train in europe is something jana has always courted",
                  "3": "",
                  "4": "atheletics"
                },
                {
                  "0": "474",
                  "1": "cricket058.txt",
                  "2": "\"india clear for chittagong games  indian cricket officials have given clearance for the national team to play in chittagong during their tour to bangladesh, which began on wednesday.  the team received alleged death threats from a radical muslim group. but the foreign ministry were satisfied with security arrangements in dhaka, where the first test begins on friday. and the team have now given the green light for the games scheduled for chittagong, which will stage the second test and first one-day international. \"\"we have now received assessment of the indian security team that went to chittagong. \"\"they made a full assessment of the security arrangements",
                  "3": "cricket",
                  "4": "cricket"
                },
                {
                  "0": "475",
                  "1": "cricket070.txt",
                  "2": "langer century deflates pakistan  first test, perth, day one (stumps): australia 357-8 v pakistan  the local opener steered australia to 357-8 with 181 not out, a 264-ball knock which included 17 boundaries and three sixes. langer put on 152 runs for the sixth wicket with adam gilchrist (69) after the hosts had slumped to 78-5. shoaib akhtar revelled on the pacy pitch to return figures of 4-89. shoaib and fellow paceman mohammad sami (2-94) held sway early on after pakistan won the toss and inserted australia. but langer stood firm throughout the day to wrest back the initiative, displaying rare flair in his 21st test century and fourth against pakistan. when he reached 41, langer passed west indies skipper brian lara (1,178 runs) to become the leading test run-scorer in 2004. should he remain unbeaten when australias innings finishes on friday, he will become the 42nd batsman in test history to carry his bat.  shoaib claimed an early victim by trapping matthew hayden lbw for four with a rapid, overpitched inswinger. skipper ricky ponting and langer then put on 50 before ponting fell to sami, bowled through the gate playing an expansive off-drive. sami struck again in his next over to have damien martyn caught behind, and when shoaib removed darren lehmann (bowled) and michael clarke (caught) cheaply australia were reeling on 78-5. but langer found an able ally in vice captain gilchrist, who took the long handle to the hosts predicament. gilchrist struck 10 boundaries in his 78-ball stay, helping australia along to 230 before his stumps were levelled by all-rounder abdul razzaq. razzaq soon accounted for shane warne (caught), bringing jason gillespie to the crease in what marked the start of another deflating period for pakistan.  gillespie (24 off 69 balls) and langer put on 80 runs, with langer finding the middle of the bat on several occasions to punish pakistan. his brutal on-driven six off sami late in the day was his best shot, and even gillespies departure to shoaib just before stumps could not raise pakistans spirits. langers partner at the resumption of play on day two will be mike kasprowicz, who was preferred yet again to fast bowler brett lee.  ricky ponting (c), justin langer, matthew hayden, damien martyn, darren lehmann, michael clarke, adam gilchrist, shane warne, jason gillespie, michael kasprowicz, glenn mcgrath. 12th man: brett lee.  inzamam-ul-haq, imran farhat, salman butt, younis khan, yousuf youhanna, abdul razzaq, kamran akmal, shoaib akhtar, danish kaneria, mohammad sami, mohammad khalil. 12th man: yasir hameed.",
                  "3": "",
                  "4": "cricket"
                },
                {
                  "0": "476",
                  "1": "cricket064.txt",
                  "2": "england on brink of defeat  tour match, potchefstroom, day three of three (rain): england 225 & 190 v south africa a 281 & 101-3  after martin van jaarsveld was removed for a duck in the first over, andrew puttick made 45 with seven fours. but he and justin ontong, who hit four fours in 23, fell in consecutive overs after a break for lightning, and with 34 needed to win, heavy rain arrived. england were dismissed for 190, adding 36, michael vaughan ninth out after two more fours and a six en route to 100. with the home side moving serenely at 70-1, faint hopes of an escape for england arrived in the form of a violent clap of thunder, which took the players off the field. lightning struck a field next to the ground, but there was no rain and play resumed within 10 minutes. it did have a beneficial effect for the tourists as two wickets fell within six balls.  puttick was caught behind and ontong hooked steve harmison to the fine-leg boundary, where ashley giles took an impressive running catch to his left. vaughan began the day on 82 not out, his team 98 ahead with three wickets intact. he signalled his intentions in the very first over with a four through mid-on and a six over long-on from the spin of ontong. hopes of a long partnership with county colleague matthew hoggard were ended in the fourth over of the morning when the seamer was caught at second slip, having failed to add to his overnight three. having pulled charl willoughby through mid-wicket for four and clipped him away to reach three figures, vaughan chased a wide one from the left-armer end edged to keeper mark boucher. he spent 226 minutes at the crease and faced 151 balls.  me trescothick, mp vaughan (capt), aj strauss, ma butcher, gp thorpe, a flintoff, go jones (wkt), af giles, sp jones, sj harmison, mj hoggard.  ashwell prince (capt), justin ontong, mark boucher (wkt), jp duminy, charl langeveldt, ethy mbhalati, albie morkel, andrew puttick, alfonso thomas, martin van jaarsveld, charl willoughby.",
                  "3": "",
                  "4": "cricket"
                },
                {
                  "0": "477",
                  "1": "football216.txt",
                  "2": "\"underdogs have more fun  ive always had a soft spot for the fa cup, its a fabulous competition - the best in the world - and theres nothing quite like it.  we play aston villa in the third round on saturday, and on paper it should be a straightforward win for them - but its horrible being in the favourites dressing room.  its a terrible feeling as a manager when you are expected to win. youre wondering whether your players will be up for it and doubts go through your mind. you try to instil in your players that they have to be professional and prepared for the battle ahead. they have to be ready for the crowd, a bad pitch sometimes, and what the underdogs will throw at them. but even if you do that, you still wonder if they will grasp it. the underdogs, on the other hand, have nothing to lose and can go out and enjoy it. lower division players are not used to the publicity that surrounds the cup and its great for a manager because its something different to talk about.  youre not talking about struggles in the league, no-one is thinking about whether your form is good or bad, and the town is buzzing. as a boy, i remember being in short trousers and rushing down the road because people were coming up to the top of the hill and saying norwich city were in town to face the blades. their fans were in big double-decker buses and waving down to us while we were sat there like the railway children. i also remember crying my eyes out when burnley beat us. every supporter really believes their club could get to the later stages. as a player, scunthorpe did well at newcastle once. everyone said we were going to get slaughtered because they had malcolm macdonald. we took the lead and looked like we were going to hang on for a 1-0 win but terry mcdermott equalised in the last few minutes. there was an electricity strike and we had to play the replay in the afternoon - we lost 3-0. i still feel aggrieved at the manner of the defeat to arsenal in the semi-finals a couple of seasons ago. the referees decision went against us.  it should be a cracking game against villa. were playing a super club, there should be a big crowd and its live on bbc one, so well have national coverage. ill just say to the lads \"\"enjoy yourselves\"\" because you play better when there is no pressure. i just hope the lads are ready and wont be overawed - were not used to big crowds. as for potential winners",
                  "3": "",
                  "4": "football"
                },
                {
                  "0": "478",
                  "1": "cricket104.txt",
                  "2": "pakistan to host next asia cup  pakistan are to host their first asia cup one-day tournament next march, according to pakistan cricket board chairman shaharyar khan.  khan told the reuters agency a decision had been made at mondays meeting of the asian cricket council in dubai. he said india, sri lanka and bangladesh have all confirmed their participation, and that qualifiers would also feature. six teams, including hong kong, played in the eighth asia cup, in sri lanka last year, the hosts triumphing. pakistan has not hosted any of the previous tournaments, dating back to 1984 because of poor diplomatic relations with neighbours india.",
                  "3": "cricket",
                  "4": "cricket"
                },
                {
                  "0": "479",
                  "1": "cricket110.txt",
                  "2": "\"pakistan slump in twenty20 debut  twenty20 tour match, adelaide: australia a 185-5 (20 overs) beat pakistan 129-7 (20 overs) by 56 runs  hussey, who made 50 from 43 deliveries, was joined by white joined him in a fifth-wicket stand of 79 in adelaide. and white upped the pace at the end, ending 58 not out from 38 balls as the hosts posted 185-5 before 21,254 fans. pakistan crashed to 17-4 in the fifth over but reached 129-7, taufeeq umar top-scoring with 31 from 20 balls. australias start, after opting to bat first, was similarly inauspicious. shoaib akhtar, who had pain-killing injections earlier thisweek for back and hamstring injuries, took two for 37 from hisfour overs. captain brad haddin, who scored 129 in wednesdays 50-over match between the two sides, fell for two. and james hopes was be bowled in the pace mans second over, the scoreline 27-2.  brad hodge and mike hussey, both veterans of twenty20 cricket in england, were unable to capitalise on blazing starts before the younger hussey brother calmed proceedings. tasmanian damien wright struck with two wickets in the space of three balls in the second over of the pakistan reply and the tourists were in disarray. umar played fluently, hitting just four boundaries, but could not find a partner as five batsmen fell in single figures. he and inzamam-ul-haq added 50 for the fifth wicket but the pakistan captain was run out for 21. although younis khan (28) and iftikhar anjum (21) kept the pace brisk, they were well off the required pace in an unbeaten partnership of 58.  both sides were penalised six runs for slow over-rates. twenty20 cricket, which involves batsmen sitting on the boundary edge waiting to go in and bowlers given reduced time to get through their overs, was first launched in county cricket in 2002. it has since taken off domestically in south africa and in womens cricket, where the first international involved england and new zealand last year. new zealand and sri lanka had planned to play the first twenty20 international but the tour was cut short because of the tsunami disaster. australias senior team will get their first taste of the shortened format in june, when they tour england. cricket australia chief executive james sutherland said twenty20 cricket between state sides could be a possibility for next year. \"\"its happening in other parts of the world and has been embraced at domestic cricket level",
                  "3": "cricket",
                  "4": "cricket"
                },
                {
                  "0": "480",
                  "1": "football202.txt",
                  "2": "gerrard future not decided by cardiff loss  steven gerrards own goal in liverpools carling cup defeat against chelsea sparked yet another round of speculation about his anfield future.  there was no denying the irony of gerrards mishap, coming as it did in a cup final against the club that almost paid £30m for him last summer. and that irony was not missed by the media - or indeed chelseas supporters. but to suggest the incident, and the defeat, will shape whether he stays or goes from liverpool, is wrong. it was just one of those things that could have happened anywhere at any time, in any place and in any game. it wasnt even a mistake, although you could say the mistake was in three liverpool defenders going for the same ball. but to pull together a sub-plot or conspiracy theory that the own goal, combined with liverpools defeat, has finally put gerrard on the road to stamford bridge is nonsense. it was inevitable that because it came against chelsea, there would be speculation, but i believe gerrard will be concentrating on one thing and one thing alone. and that is ensuring liverpool qualify for the champions league by getting that fourth place in the premiership. i dont think any decision has been made, and will certainly not be influenced by anything that happened in cardiff on sunday. liverpool must hope they clinch fourth place and that is enough to persuade their massively influential captain to stay.  from liverpools point of view, the defeat was a bitter disappointment, but when the disappointment has subsided, they can take heart from a week of encouragement both at home and abroad. liverpool had an excellent win against bayer leverkusen in the champions league, when they got it down, played and scored goals. and in sundays carling cup final, they showed real defensive resilience when they were pinned back for long periods. i think rafael benitez is on the right lines and speaks with a lot of confidence about his team and what he wants from them. but there is no doubt liverpools next two games will shape their season, at newcastle away in the league and then bayer away in the champions league second leg. what they cannot afford to do is produce any performances like they produced at burnley, southampton or birmingham. if they slip up at newcastle then everton beat blackburn 24 hours later, that will be an 11-point gap and thats an awful long way back for them in the race for the champions league place. there is added spice because everton are fourth. they had an impressive win at aston villa, and you cannot take away from them what they have done.  theyve had an uncertain spell recently, but theyve picked up points here and there and that is a great tribute to manager david moyes and his players. and in tim cahill, theyve paid £2m for a player from outside the premiership who has proved himself in the top-flight. liverpool will still be a massive magnet for top players, but they may also need to seek out the type of signings that moyes has pulled off with cahill. he has been excellent since arriving from millwall and has been a very sound purchase by moyes. while the battle for fourth hots up, manchester united turned the screw a little tighter on leaders chelsea by beating portsmouth and reducing the gap to six points - albeit with a game in hand for jose mourinhos side. the carling cup win against liverpool was massive for chelsea, because it stopped all the inevitable questions that would have been posed if they had lost three games in a week. i dont think they answered all the questions, because for all their long periods of possession they were struggling to score until gerrards unfortunate intervention. obviously a lot of focus has been centred on mourinho for events on and off the pitch, but i think he will be more than happy with that because it means the heat is taken off his players. if people are asking questions about the manager, they are leaving the players in peace, so mourinho will settle for that. and while united are showing once again there is no-one better when it comes to the chase, i dont think there is any shift in the balance of power in the premiership. it is all chelseas to lose, with a six-point lead and a game in hand. throw in that their next four league games are against the bottom four sides in the table, and you can see they are in a strong position. they must keep their eye on the ball because manchester united are masters of this situation - but the balance of power still lies with chelsea.",
                  "3": "",
                  "4": "football"
                },
                {
                  "0": "481",
                  "1": "football028.txt",
                  "2": "\"bees handed potential man utd tie  brentford face a home tie against holders manchester united in the fa cup sixth round if they can come through their replay against southampton.  the league one side held the saints at st marys in their fifth-round tie and were rewarded with a potential draw against sir alex fergusons side. newcastle will be at home to either tottenham or nottingham forest. bolton host arsenal or sheffield united and leicester will visit the winners of the burnley and blackburn replay. the ties will be played on the weekend of 12-13 march.  was delighted to be paired with united, although he admitted they still have plenty of work to do to set up a dream tie. \"\"weve got our work cut out next tuesday but you cant deny its exciting",
                  "3": "",
                  "4": "football"
                },
                {
                  "0": "482",
                  "1": "rugby121.txt",
                  "2": "\"tindall wants second opinion  england centre mike tindall is to seek a second opinion before having surgery on a foot injury that could force him to miss the entire six nations.  the bath player was already out of the opener against wales on 5 february because of a hand problem. \"\"mike had a specialist review on a fracture in his right mid foot",
                  "3": "",
                  "4": "rugby"
                },
                {
                  "0": "483",
                  "1": "rugby135.txt",
                  "2": "\"bortolami predicts dour contest  italy skipper marco bortolami believes saturdays six nations contest against scotland will be a scrappy encounter.  with both sides looking for their first win of the championship, the third-round game at murrayfield has been billed as a wooden-spoon decider. and bortolami feels the edinburgh contest could end up being a bruising battle of the packs. \"\"it will not be a pretty game because both teams are desperate to gain their first win",
                  "3": "",
                  "4": "rugby"
                },
                {
                  "0": "484",
                  "1": "football014.txt",
                  "2": "clyde 0-5 celtic  celtic brushed aside clyde to secure their place in the scottish cup semi-final, but only after a nervy and testing first half.  the home sides craig bryson had a goal chopped off before stan varga headed celtic into the lead. alan thompson scored from the penalty spot at the start of the second half after shaun maloney had been fouled. stilian petrov slid in a third, varga tapped in his second and craig bellamy completed the rout with a fine drive. bryn halliwell was the busier keeper early on, saving from bellamy, chris sutton and juninho. clyde had the ball in the net after half-an-hour through a tremendous strike from bryson, but the referee had already blown for a foul by petrov. from the resulting free kick, darren sheridan curled the ball round the celtic wall only for the post to deny him. back at the other end, halliwell did well to come off his line and block bellamys effort to lift the ball over him. the keeper misjudged a corner that stephane henchoz headed wide, but a similar scenario five minutes before the break led to the opening goal. the ball was delivered from the left and halliwell was left floundering as varga glanced the ball into the net.  maloney replaced the injured sutton at half time and he marked his first competitive appearance after a year out injured by helping his side take a two-goal lead just after the break. the young striker fired a free kick straight into the clyde wall but as he collected the rebound, he was tripped by bryson and thompson converted the penalty. sheridan and bellamy were involved in something of a flare-up that led to both being booked after the intervention of the assistant referee. juninho brought out another good save from halliwell and then petrov saw a tremendous effort come off the top of the bar. but petrov and juninho combined brilliantly to allow the bulgarian to make it 3-0 on the hour mark - a quick one-two giving him the time and space to steer the ball past halliwell from 12 yards. varga got his second goal of the game as celtic drove home their advantage - thompson whipped in a corner from the right and the unmarked defender simply tapped the ball over the line from a couple of yards out. celtic were utterly dominant by this stage and bellamy opened his scoring account for the club after a fine move involving aiden mcgeady, jackie mcnamara and maloney culminated in the welshman hammering the ball into the net. halliwell kept the deficit at five by pushing a mcgeady shot wide as the game petered out.  halliwell, mensing, bollan, balmer, potter, sheridan (burns 61), arbuckle (gilhaney 61), gibson, bryson (jones 78), malone, harty.  morrison, wilson.  mensing, sheridan.  douglas, henchoz, mcnamara, balde, varga, juninho paulista, thompson, lennon (lambert 70), sutton (maloney 45), petrov (mcgeady 70), bellamy.  marshall, laursen.  thompson, bellamy.  : varga 40, thompson 48 pen, petrov 60, varga 68, bellamy 72.  8,200  c thomson",
                  "3": "",
                  "4": "football"
                },
                {
                  "0": "485",
                  "1": "rugby109.txt",
                  "2": "\"johnson rules out lions tour  former england captain martin johnson will not be touring new zealand with the lions this summer.  the 34-year-old will be playing in his own testimonial match against a jonah lomu xv on 4 june - the same day as the first game of the lions tour. johnson, who retired from the international game last year, has called a news conference on monday to announce details of the match. the world cup winner twice skippered the lions and toured three times. the testimonial match, due to be played at twickenham, is part of a series of events to mark johnsons long career with leicester, england and the lions. the lions will play the first of their warm-up matches against the bay of plenty on 4 june, in rotorua.  stuart henry, a member of johnsons testimonial committee, said: \"\"it can be taken as a fair assumption that martins involvement in the twickenham fixture will mean he will not be going on the british lions tour.\"\" johnson suggested back in december that it was unlikely he would take part in the 11-match tour. \"\"if you retire from international rugby",
                  "3": "rugby",
                  "4": "rugby"
                },
                {
                  "0": "486",
                  "1": "football038.txt",
                  "2": "\"republic to face china and italy  the republic of ireland have arranged friendlies against china and italy which will take place at lansdowne road in march and august.  brian kerrs side will face the 54th ranked chinese on 29 march - just three days after the world cup qualifier against israel in tel aviv. italy will visit on 17 august in what will be a warm-up game ahead of the autumn world cup qualifiers. in their last meeting, the irish beat italy in the 1994 world cup finals. however, that is the republics only victory in eight attempts against the italians who have won all the other seven games. the 29 march game will be the second time the republic have played china - the previous encounter back in june 1984 with the irish winning 1-0 in sapporo, japan. brian kerr said: \"\"china have made great progress over the last few years and will provide difficult opposition. \"\"we all witnessed the performances of the asian teams in the last world cup",
                  "3": "",
                  "4": "football"
                },
                {
                  "0": "487",
                  "1": "rugby131.txt",
                  "2": "\"ireland win eclipses refereeing errors  the international rugby board may have to step in to stop frustrated coaches and players from publicly haranguing referees when things go belly-up.  it may have to go the whole way and have nfl-style video cameras all over the field, or slap the vociferous perpetrators over the knuckles. what the irb does not want is a football scenario where the verbal slanging matches often overshadow the game itself. sundays explosive six nations clash at lansdowne road was a good example as ireland took another step towards their first grand slam since 1948. the game was as exciting as it comes, with a much-improved england side enraged at a few decisions that did not go their way. one can understand that frustration. there was no doubt that ireland had the rub of the green in their 19-13 victory, but the reaction from the england camp may not have endeared them to the sports \"\"blazers\"\". referee jonathan kaplan was not perfect by any means and two decisions in particular made him the villain of the piece. i doubt whether kaplan would have been too pleased at the comments made. after all",
                  "3": "rugby",
                  "4": "rugby"
                },
                {
                  "0": "488",
                  "1": "rugby125.txt",
                  "2": "\"tigers wary of farrell gamble  leicester say they will not be rushed into making a bid for andy farrell should the great britain rugby league captain decide to switch codes.  \"\"we and anybody else involved in the process are still some way away from going to the next stage",
                  "3": "rugby",
                  "4": "rugby"
                },
                {
                  "0": "489",
                  "1": "football004.txt",
                  "2": "\"ronaldo considering new contract  manchester united winger cristiano ronaldo said he is close to agreeing to a new contract at old trafford.  the portugal star, who joined in august 2003 on a five-year-deal, is a regular in the united first-team. \"\"the united board have already made an offer to renew the contract but im trying not to think about it",
                  "3": "",
                  "4": "football"
                },
                {
                  "0": "490",
                  "1": "football010.txt",
                  "2": "chelsea clinch cup in extra-time  (after extra-time - score at 90 mins 1-1)  john arne riise volleyed liverpool ahead after 45 seconds but steven gerrard scored a 79th-minute own goal. blues boss jose mourinho was sent off for taunting liverpool fans after the goal and he watched on television as his side went on to win the game. drogba and kezman scored from close range before antonio nunezs header made for a tense finale. it was an amazing climax which gave mourinho his first silverware as chelsea manager. yet it was controversial too, after mourinhos sending off, apparently for putting his finger to his lips to hush the liverpool fans. there was no hushing them after the extraordinary opening in which the reds took a stunning lead inside the first minute.  riise could not have connected any better with morientes cross as he smashed a left-foot volley past petr cech. the goal, the quickest-ever in a league cup final, stunned a blues side whose previously rock-solid confidence had been shaken by consecutive losses to newcastle and barcelona in the previous week. the blues attacking chances were limited, and jerzy dudek was equal to frank lampards powerfully-struck drive and drogbas low shot. despite their frustration, chelsea began to dominate midfield without seriously threatening to break liverpools well-organised defence.  joe cole had a shot blocked and a promising damien duff break was halted by a good tackle from djimi traore, but the reds reached half-time without any major scares. the blues began the second half with more urgency and pegged liverpool back. nevertheless, liverpool were living dangerously and they needed a fantastic double save from dudek on 54 minutes, first at full stretch from gudjohnsens header, then to smother william gallas follow-up. and despite chelseas possession, it was liverpool who fashioned the next clear opportunity as luis garcia fed dietmar hamann whose shot forced a superb save from cech. and the blues increasingly adventurous approach saw liverpool earn another chance on the break on 75 minutes as paulo ferreira denied gerrard with a last-ditch tackle. but gerrard was on the scoresheet minutes later - in the most unfortunate fashion - as he inadvertently deflected ferreriras free-kick past his own keeper and in off the post to bring chelsea level. that prompted mourinhos reaction which saw him sent off, but chelsea still pressed and duff had a chance to win the game with seven minutes remaining. dudek saved bravely at the irishmans feet, while milan baros shot wildly at the other end to ensure extra time. drogba almost headed chelsea in front two minutes into extra-time but the striker saw the ball rebound off the post. but seconds after the half-time interval, drogba made no mistake, picking the ball up from glen johnsons long throw inside the six-yard box and sidefooting home. and kezman appeared to have made the game safe as he netted from close range after gudjohnsens cross in the 110th minute. there was still drama as nunez beat cech to a high ball with six minutes remaining to head his side level, but despite liverpools desperate attacks, chelsea clung on to win.  dudek, finnan, carragher, hyypia, traore (biscan 67), luis garcia, gerrard, hamann, riise, kewell (nunez 56), morientes (baros 74).  subs not used: pellegrino, carson.  hyypia, traore, hamann, carragher.  riise 1, nunez 113.  cech, paulo ferreira, ricardo carvalho, terry, gallas (kezman 74), jarosik (gudjohnsen 45), lampard, makelele, cole (johnson 81), drogba, duff.  subs not used: pidgeley, tiago.  lampard, kezman, drogba, duff.  gerrard 79 og, drogba 107, kezman 112.  78,000  s bennett (kent).",
                  "3": "",
                  "4": "football"
                },
                {
                  "0": "491",
                  "1": "rugby119.txt",
                  "2": "\"scrum-half williams rejoins bath  bath have signed their former scrum-half andy williams on a short-term deal from the neath-swansea ospreys.  wales international williams, whose contract with the welsh region was due to expire in june, has agreed a contract until the end of the season. with martyn woods injury likely to keep him out until february, bath need experienced back-up to nick walshe. said williams: \"\"when this opportunity presented itself",
                  "3": "",
                  "4": "rugby"
                },
                {
                  "0": "492",
                  "1": "football206.txt",
                  "2": "\"bookies pay out on spurs goal  a bookmaker will pay out to punters who bet on pedro mendes to score the first goal in tottenhams controversial game against manchester united.  the match at old trafford finished goalless after mendes long-range shot was fumbled by home keeper roy carroll. tv replays showed the ball went over the line, but the incident was missed by the referee and his assistant. william hill is to honour bets on 20-1 chance mendes to score first, although rival firm ladbrokes will not. hills spokesman graham sharpe admitted only a handful of customers had backed mendes to score first. bets struck at 11-2 on mendes to score at anytime during the match will also be settled. \"\"we have decided to pay out to - the admittedly few - customers who would have definitely been on a winner had the goal been given as it quite obviously should have been",
                  "3": "",
                  "4": "football"
                },
                {
                  "0": "493",
                  "1": "cricket114.txt",
                  "2": "\"world xi triumph in tsunami match  tsunami appeal match, melbourne: icc world xi 344-8 beat asian 232 xi by 112 runs  ricky ponting hit 115 in a massive total of 344-8 after electing to bat first in front of a crowd of 70,101. rahul dravid top-scored with 75 not out in the asian xi reply, after virender sehwags brisk 45. daniel vettori took 3-58 while englands darren gough took a wicket and a catch. shane warne had 2-27. the game, broadcast in 122 countries to an estimated global television audience of one billion, has already raised nearly £6 million for the relief effort.  australian prime minister john howard tossed a coin to start the match. and afterwards the international cricket council chief executive, malcolm speed, paid tribute to the players for taking part. he said: \"\"this signifies the games compassion and commitment to provide as a much help as possible to enable the survivors of the tsunami to rebuild their lives so far as this is possible.\"\" ponting entertained the fans early on by hitting some big shots off anil kumble and abdul razzaq and the world xis run rate was soon ticking along at a healthy rate. chris cairns (69) and brian lara (52) enjoyed themselves as a middle order packed with stars delivered the goods.  and there was plenty of time for the unorthodox - australia tailender glenn mcgrath batted at number six",
                  "3": "cricket",
                  "4": "cricket"
                },
                {
                  "0": "494",
                  "1": "cricket100.txt",
                  "2": "\"shoaib ruled out of test series  fast bowler shoaib akhtar will miss pakistans test series in india because he is still troubled by a hamstring injury and cannot be considered.  he suffered the injury in australia last month and says his recovery will take another four to five weeks. the squad for india will be named on saturday but he was quoted as saying: \"\"i dont want to play half fit.\"\" the news comes less than 24 hours after he was fined £265 for breaching the terms of his contract in australia. he was accused of visiting nightclubs and talking to the media without permission",
                  "3": "",
                  "4": "cricket"
                },
                {
                  "0": "495",
                  "1": "football212.txt",
                  "2": "a need to limit foreign numbers  with all the top clubs vying for the title and the champions league, at least the fa cup gave an opportunity for one or two of the younger lads at the major clubs to get a game in the first team.  i dont personally like to see weakened sides in the competition, but it seems in some cases its the only chance for the young lads to get some first-team experience. over the years the influx of foreign players has affected the young englishman more than anyone. i know you have to have freedom of movement but i do believe a time will come when countries will have to put a limit on the number of overseas players - including europeans.  i think the trend has become more noticeable since the influx of foreign bosses like arsene wenger, claudio ranieri and now jose mourinho. they seem to know the foreign market more than the english, although chelsea appear to be signing one or two young englishmen. when the foreigners first started coming into the country, i thought people like dennis bergkamp and gianfranco zola were absolutely magnificent. zola is still the best player i have ever seen in my time as a manager. i dont think anybody would ever begrudge players like that because you would pay money to watch these individuals. but i think the problem now is that clubs, even at the lower level, find english players expensive. agents are offering players left, right and centre who are not only cheap but can also come over on trial, which was unheard of in the past. bolton are a good example. i never thought they could be successful, but sam allardyce has waved his magic wand and brought these players over. the technology that sam uses has definitely paid off. he has all these databases on every foreign player.  he is a unique person - i never thought you could have 10 different nations in a dressing room and still have a good team spirit! but sam has proved that wrong over the last few years and will continue to do it. what bolton have said is they cant pay large transfer fees but they can get these players in for 6-12 months and compete at a high level that way. my view about foreign players changed about three years ago when i had quite a large number of them at bramall lane.  the match we played with west brom which was abandoned after we went down to six players changed my views on having a large amount of foreign players. i decided then to go with the kids and if i could sign english lads i would. i got two sent off in that game and one or two other things happened with players. i also found that with a couple of players that didnt talk english it is very difficult coaching-wise to get them to grasp the fundamentals. if possible i will look for players i sign to speak english, although we are in the process of signing hao haidong from china.  he has very limited english but is a very experienced player who i dont think you have to tell too many times what you want him to do. there was a time when scottish football was a good source for players but if you speak to people that look at players up there now it is clear the standard has dropped over the years. you only have to look at the scotland squad - the talent is not there any longer because they dont invest in their youth development. it is common knowledge we enquired about liverpools neil mellor, who could now find himself pushed down the pecking order by the arrival of fernando morientes from real madrid. i think people like neil are better off getting some games under their belt, but its difficult because liverpool are such a great club and he has had opportunities there. he has scored goals there so they rate him highly and it must be difficult for young players to turn their back on that and drop down to the championship level.",
                  "3": "football",
                  "4": "football"
                },
                {
                  "0": "496",
                  "1": "cricket048.txt",
                  "2": "\"vaughan ready for south africa  skipper michael vaughan is relieved englands tour of zimbabwe passed off without major incident and is now relishing the prospect of south africa.  vaughans men, who fly to johannesburg on monday, cruised to a series win over the zimbabweans, but expect five tough tests against graeme smiths side. \"\"the zimbabwe tour didnt start very well but we came through it",
                  "3": "",
                  "4": "cricket"
                },
                {
                  "0": "497",
                  "1": "cricket060.txt",
                  "2": "kumble breaks kapils record  first test, dhaka, day one (stumps): bangladesh 184 all out v india  kumble overtook the mark set by kapil dev when he had mohammad rafique lbw. and he followed up with a wicket next ball before bangladesh were bowled out for 184 in 58 overs in dhaka. after the first session was lost to rain, irfan pathan took five wickets to reduce the hosts to 106-7 before mohammad ashraful dug in. ashraful ended unbeaten on 60, having hit six fours and faced 135 balls. kumble had a chance of a hat-trick after removing tapash baisya via a catch at first slip but mashrafe mortaza safely defended the fifth ball of his 12th over. but a run out ended the innings not long afterwards.  india did not get chance to begin their reply as openers virender sehwag and gautam gambhir were immediately offered the light on stepping to the wicket. india won the toss and pathan soon got stuck into the top order, dismissing javed omar lbw in his second over with one that nipped back. nafis iqbal and rajin saleh were also ajudged lbw by umpire jeremy lloyds off consecutive balls in pathans fifth over. captain habibul bashar then pulled zaheer khan straight to square leg and when the same bowler had khaled mashud caught behind, bangladesh were 50-5 after just 16 overs. ashraful, largely in partnership with rafique (47), did his best to build a recovery but india will expect to amass a huge lead on saturday. kumble is now fifth in the all-time list. aged 34, he may still be able to reach the 500-mark, passed by only three men. fellow leg-spinner shane warne tops the list with 552 wickets.  habibul bashar (capt), nafis iqbal, javed omar, mohammad ashraful, rajin saleh, khaled mashud (wkt), mushfiqur rahman, mohammad rafique, tapash baisya, mashrafe bin mortaza, manjurul islam rana.  s ganguly (capt), v sehwag, g gambhir, s tendulkar, r dravid, m kaif, d karthik (wkt), i pathan, a kumble, harbhajan singh, z khan.",
                  "3": "",
                  "4": "cricket"
                },
                {
                  "0": "498",
                  "1": "cricket074.txt",
                  "2": "aussies tighten grip  first test, perth, day three: australia 381 & 361-5 dec; pakistan 179 & 18-1 (close)  the home side declared their second innings on 361-5, a lead of 563, and pakistan were 18-1 at the close. martyn made no mistake after ricky ponting was stumped for 98 and justin langer bowled by abdul razzaq for 97. left to survive six overs before the close, pakistan lost imran farhat, who was lbw to glenn mcgrath for one. pakistans cause was not helped by the absence of skipper inzamam-ul-haq and paceman shoaib akhtar for most of the afternoon. inzamam stayed in the dressing room suffering from a stomach upset, while shoaib hurt his left shoulder while trying to make a diving save in the field.  he had taken the only wicket to fall during the morning, bowling matthew hayden for 10 with an inswinger as australia advanced their score from 15-0 to 110-1. langers fifty arrived off 84 balls and he struck 14 fours as he and ponting shared a second wicket stand of 163. it looked odds on that he would become the first man ever to make a hundred in each innings of a test at the waca when razzaq found a way through as he attempted to drive.  but langer, who made 191 in the first innings, is now the highest run scorer in tests in 2004 with 1,426, including five centuries. ponting was on 92 at the tea interval and well set to reach three figures for the first time this year. he was denied, however, when he missed an attempted sweep of danish kaneria and keeper kamran akmal whipped off the bails - a dismissal confirmed by the tv umpire. darren lehmann was bowled by kaneria for five, but michael clarke joined martyn in a stand of 79 for the fifth wicket before he was caught by the revived inzamam off mohammad sami for 27. martyn reached three figures in the next over, a 121-ball knock featuring 11 boundaries, and ponting immediately made the declaration. the pakistan openers walked to the middle under intense pressure and it proved too much for farhat, who shouldered arms to an inswinging delivery from mcgrath. but partner salman butt survived to reach stumps on eight not out and younis khan drove the days penultimate delivery from jason gillespie through extra cover for four to finish on seven.  ricky ponting (c), justin langer, matthew hayden, damien martyn, darren lehmann, michael clarke, adam gilchrist, shane warne, jason gillespie, michael kasprowicz, glenn mcgrath. 12th man: brett lee.  inzamam-ul-haq, imran farhat, salman butt, younis khan, yousuf youhanna, abdul razzaq, kamran akmal, shoaib akhtar, danish kaneria, mohammad sami, mohammad khalil. 12th man: yasir hameed.",
                  "3": "",
                  "4": "cricket"
                },
                {
                  "0": "499",
                  "1": "rugby045.txt",
                  "2": "\"umaga ready for lions  all blacks captain tama umaga has warned the british and irish lions will be his most fearsome opponents yet ahead of their summer tour.  but umaga, in england for saturdays irb rugby aid match, also backed new zealand to win the three-test series against the lions. he told bbc sport: \"\"its potentially the most fearsome line-up ive ever come up against. theyre awesome. \"\"but id back us all the way to beat them when they come over.\"\" lions boss sir clive woodward is set to announce his squad for the june-july tour next month.  when woodward was appointed last year",
                  "3": "rugby",
                  "4": "rugby"
                },
                {
                  "0": "500",
                  "1": "rugby051.txt",
                  "2": "\"stevens named in england line-up  england have named bath prop matt stevens in the starting line-up for their six nations match against ireland at lansdowne road on sunday.  fellow bath prop duncan bell will start on the bench, as coach andy robinson makes just one change to the team that was beaten by france. it will be stevens first start after two caps as a replacement against the all blacks last year. leicester duo ollie smith and andy goode have been drafted onto the bench. stevens takes over from phil vickery, who suffered a broken arm playing for gloucester last weekend. \"\"im confident matt will grasp this opportunity and make his mark against ireland",
                  "3": "",
                  "4": "rugby"
                },
                {
                  "0": "501",
                  "1": "football158.txt",
                  "2": "\"ferguson rues failure to cut gap  boss sir alex ferguson was left ruing manchester uniteds failure to close the gap on chelsea, everton and arsenal after his sides 1-1 draw with fulham.  premiership leaders chelsea and the gunners endured a 2-2 stalemate on sunday, giving united the chance to make up some ground in the league. but ferguson said: \"\"i think what makes it so bad is that both our rivals dropped points at the weekend. \"\"it was a great opportunity - and we havent delivered.\"\" united went ahead through alan smith in the 33rd minute before bouba diops superb 25-yard strike cancelled out the visitors lead in the 87th minute. ferguson described the result as an \"\"absolute giveaway\"\" after united had earlier missed a host of opportunities to finish off the encounter. he said: \"\"it was a good performance - some of the football was fantastic - but we just didnt finish them off. \"\"in fairness",
                  "3": "football",
                  "4": "football"
                },
                {
                  "0": "502",
                  "1": "rugby079.txt",
                  "2": "\"funding cut hits wales students  the wales students rugby side has become a casualty of the welsh rugby unions reorganisation at youth level.  an amalgamated under-18 side formed from separate schools and national youth teams plays its first match on thursday, against italy at the gnoll. but that move has seen the wru decide to end its funding of representative sides such as wales students. as a result, traditional international fixtures against england and france in the new year have been cancelled. the welsh students rugby football union feels that it is unable to properly prepare for or stage the matches. the secretary of the welsh students rugby football union, reverend eldon phillips, said: \"\"it is a shame that fixtures cannot be maintained this year. \"\"the competition provided by the strong english and french teams has enabled the welsh students to test themselves in high quality matches. \"\"the increasing number of young rugby players entering higher education look for the biggest challenge",
                  "3": "rugby",
                  "4": "rugby"
                },
                {
                  "0": "503",
                  "1": "atheletics093.txt",
                  "2": "\"costin aims for comeback in 2006  jamie costin should be paralysed.  he says so himself in a matter-of-fact way as he recalls the car accident which occurred nine days before he was scheduled to step out into the olympic stadium in athens for the 50k walk. there is an ironic chuckle as he talks of his immediate thoughts after a lorry, driving on the wrong side of the road, had ploughed into his rental car. \"\"i was in a lot of pain and i guessed that one of my toes was broken",
                  "3": "",
                  "4": "atheletics"
                },
                {
                  "0": "504",
                  "1": "football170.txt",
                  "2": "\"oleary agrees new villa contract  aston villa boss david oleary signed a three-and-a-half year contract extension on thursday, securing his future at the club until summer 2008.  olearys future was in question, but villa chairman doug ellis said he was happy to secure the deal. \"\"davids record since his arrival in 2003 is excellent and he shares the boards amibitions in taking this club forward",
                  "3": "",
                  "4": "football"
                },
                {
                  "0": "505",
                  "1": "atheletics087.txt",
                  "2": "\"gb quartet get cross country call  four british athletes have been pre-selected to compete at the world cross country championships in march after impressive starts to the season.  hayley yelling, jo pavey, karl keska and adam hickey will represent team gb at the event in france. yelling clinched the womens european cross country title last month and pavey followed up with bronze. keska helped the mens team to overall third place while hickey finished in 10th place on his junior debut. \"\"winning the european cross country title meant so much to me",
                  "3": "",
                  "4": "atheletics"
                },
                {
                  "0": "506",
                  "1": "football164.txt",
                  "2": "\"spain coach faces racism inquiry  spains football federation has initiated disciplinary action against national coach luis aragones over racist comments about thierry henry.  if found guilty aragones could lose his job or face a fine of about £22,000. the federation had initially declined to take action against aragones after comments he made during a national team training session in october. but its president angel maria villar changed his mind after a request by spains anti-violence commission. aragones insisted the comments, made to henrys arsenal club-mate jose antonio reyes, were meant to motivate the player, and were not intended to be offensive.  \"\"i never intended to offend anyone",
                  "3": "football",
                  "4": "football"
                },
                {
                  "0": "507",
                  "1": "tennis061.txt",
                  "2": "\"roddick splits from coach gilbert  andy roddick has ended an 18-month association with coach brad gilbert which yielded the us open title and saw the american become world number one.  roddick released a statement through the sfx sports group with the news but did not give a reason for the split. \"\"the decision to not re-hire brad gilbert for the 2005 season is based on what i think is best for my game at this time",
                  "3": "",
                  "4": "tennis"
                },
                {
                  "0": "508",
                  "1": "rugby086.txt",
                  "2": "\"south africa sweep top awards  south africas schalk burger was named player of the year as the tri-nations champions swept the top honours at the international rugby boards awards.  the flanker topped a list which included ireland star gordon darcy and australian sensation matt giteau. jake white claimed the coaching award while his side held off grand slam winners france to take the team award. england player simon amor beat team-mate ben gollings and argentine lucio lopez fleming to win the sevens award. burgers award came just a week after he won the equivalent prize from his fellow international players and white, who also coached burger at under-21 level, paid tribute to him. \"\"schalks emergence as a major force has meant a lot to south african rugby",
                  "3": "rugby",
                  "4": "rugby"
                },
                {
                  "0": "509",
                  "1": "atheletics078.txt",
                  "2": "\"butler strikes gold in spain  britains kathy butler continued her impressive year with victory in sundays 25th cross internacional de venta de banos in spain.  the scot, who led gb to world cross country bronze earlier this year, moved away from the field with ines monteiro halfway into the 6.6km race. she then shrugged off her portuguese rival to win in 20 minutes 38 seconds. meanwhile, briton karl keska battled bravely to finish seventh in the mens 10.6km race in a time of 31:41. kenenisa bekele of ethiopia - the reigning world long and short course champion - was never troubled by any of the opposition, winning leisurely in 30.26. butler said of her success: \"\"i felt great throughout the race and hope this is a good beginning for a marvellous 2005 season for me.\"\" elsewhere",
                  "3": "",
                  "4": "atheletics"
                },
                {
                  "0": "510",
                  "1": "rugby092.txt",
                  "2": "dallaglio his own man to the end  controversy and lawrence dallaglio have never been very far away from each other throughout a glittering international career.  even the end of his nine-year career came out of the blue, just four days before the start of the season. but then dallaglio has always been his own man. ever since emerging onto the international scene dallaglio has polarised opinions. to supporters of england, dallaglio could do no wrong. an integral part of a sustained period of success for england, dallaglios crowning glory was his part in the side that won the rugby world cup in 2003.  rival fans, meanwhile, have tended to take an alternative view, seeing dallaglio as the epitome of the less agreeable characteristics of english rugby. never afraid to speak his mind, be it to the referee or the opposition on the pitch, or his coach or the media off it, dallaglio has sometimes rubbed people up the wrong way. dallaglio arrived as part of the unheralded england side which became the shock winners of the first rugby sevens world cup in 1993. it took him another two years to graduate to the full england xv, but once there he proved to the manor born. displaying maturity and physical power beyond his years, dallaglio rapidly established himself as an automatic choice able to play any one of the three back-row positions at international standard.  within two years of his debut, dallaglio was offered the england captains band, and his career continued to go from strength to strength as he made the 1997 lions tour to south africa. although overlooked for the captaincy in favour of england team-mate martin johnson, he played a massive role in the 2-1 series victory. but after building up a seemingly unstoppable momentum, dallaglios career hit the buffers at speed in 1999.  first came the last-minute defeat to wales in which dallaglios decision not to kick for goal in the dying minutes was blamed for costing england a grand slam. worse was to follow though as an infamous newspaper sting cost him his treasured england captaincy. with sensational allegations of drug use - of which he was subsequently cleared - splashed across the front pages, a devastated dallaglio stepped down as england skipper. but he bounced back, getting his head down at club level before returning to the england fold, albeit now as a lieutenant to new captain johnson. as a member of a new-look england side on the long road to world cup glory - a journey not without mishaps as a succession of grand slams opportunities were spurned - dallaglio emerged as a key performer once again.  yet another setback arrived in 2001 as a serious knee injury cut short dallaglios involvement on the lions tour to australia.  rumours began to circulate that his career was over but, in typical dallaglio style, he embarked on a punishing schedule of rehabilitation to return an even more fearsome physical specimen. one effect of the injury was to rob dallaglio of much of his pace, but ever the pragmatist, he reinvented himself as a close quarters number eight of the highest calibre.  the only player to play every minute of englands world cup triumph in australia, dallaglio could hardly have done more to secure englands historic win, and for that he will always be held in the highest esteem by england supporters. following johnsons retirement, dallaglios career came full circle as woodward restored him as england captain. while england did not hit the heights in dallaglios second spell as captain, losing five of their eight post-world cup tests, dallaglio led by example, leaving him as one of the few members of a squad lacking many world cup stars to live up to expectations. dallaglio walks away from the international game safe in the knowledge that he will go down as one of englands most accomplished players, if not one of the great captains despite his evident pride in leading his country.  the problem now for england is how to replace the almost irreplaceable. the likes of matt dawson, jonny wilkinson, phil vickery and hill have all been mentioned as contenders for dallaglios role as captain. but it is as a player that england will really struggle to replace the 32-year-old. although players like joe worsley and chris jones are more than capable of stepping up, the fact that there is no stand-out candidate speaks volumes about dallaglios massive influence on english rugby.",
                  "3": "rugby",
                  "4": "rugby"
                },
                {
                  "0": "511",
                  "1": "tennis075.txt",
                  "2": "federer joins all-time greats  the last year has seen one player dominate mens tennis, and one country dominate the womens game.  roger federer became the first man since mats wilander in 1988 to win three grand slams in one season. and after anastasia myskina became the first russian woman to win a grand slam at the french open, two more followed at wimbledon and the us open. meanwhile, briton tim henman enjoyed his best year, while greg rusedski fought back superbly from adversity. federer began the year as world number one and holder of the wimbledon and masters cup titles, and set about conquering new ground. the swiss sounded warning of the dominance to come at the australian open.  he ripped through the draw before beating marat safin in the final. andy roddick was the only player to put up any real resistance at wimbledon, and federers performance against lleyton hewitt in the us open final was breathtaking. federer again got the better of hewitt in the season-ending masters cup. his victory in houston proved to be his 13th successive win in a final, an open era record. the only major let-down was a third-round loss to gustavo kuerten at the french open, and roland garros will be his main target in 2005.  there was also a surprise loss to the unheralded tomas berdych at the olympic games, which saw chile dominate as nicoals massu took the singles and then paired up with fernando gonzaelz to win doubles gold. another major trophy that looks beyond federer is the davis cup, which was won by spain in a 3-2 home success over the usa in seville. roddick struggled on the clay, losing to rafael nadal on the opening day before going down to carlos moya in the all-important fourth rubber.  henman broke new ground by reaching the semis on clay at the french open - a stunning effort - and also at the us open. a quarter-final defeat to mario ancic at wimbledon was disappointing for the limp manner of the britons defeat, but he remains optimistic of going further next year.  british number two rusedski endured a rollercoaster year, returning to the circuit after being cleared of a doping offence in march. with his ranking down at 168, many feared the 31-year-olds career was over, but he battled back in the second half of the season to re-enter the top 50. the russian women finally delivered on their long-recognised promise in 2004, with myskina, maria sharapova and svetlana kuznetsova winning grand slams, before taking the season-ending fed cup. but while the young russians were on the way up, it was a different story for the belgians and the williams sisters. only veteran lindsay davenport held the new wave at bay, a stunning run of form after wimbledon taking her to number one ahead of amelie mauresmo, whose grand slam drought goes on. the year started in regulation fashion as justine henin-hardenne beat compatriot kim clijsters at the australian open.  a virus ruined the rest of henin-hardennes year, although she was fit enough to win olympic gold, but clijsters had an even more miserable 2004. she suffered a serious wrist injury and then announced the end of her relationship with lleyton hewitt, and will be happy to see the year end. in their absence, myskina thrashed elena dementieva in a historic, but woeful, all-russian final at the french open. wimbledon was a more refreshing affair as sharapova captivated sw19, showing nerves of steel as she battled past davenport and serena williams to take the title.  davenport was a strong favourite for the us open but, hampered by injury, lost to the powerful and unflappable kuznetsova in the semis. kuznetsova went on to give dementieva another grand slam final thrashing, with the latters wayward serve becoming one of the talking points of the year. with the russians still improving, the likes of henin-hardenne, clijsters, davenport, mauresmo, venus and serena will need to be fully fit and motivated in 2005. and it may take their compatriot safin to challenge federer on the mens side.",
                  "3": "tennis",
                  "4": "tennis"
                },
                {
                  "0": "512",
                  "1": "atheletics050.txt",
                  "2": "\"iaaf awaits greek pairs response  kostas kenteris and katerina thanou are yet to respond to doping charges from the international association of athletics federations (iaaf).  the greek pair were charged after missing a series of routine drugs tests in tel aviv, chicago and athens. they have until midnight on 16 december and an iaaf spokesman said: \"\"were sure their responses are on their way.\"\" if they do not respond or their explanations are rejected",
                  "3": "atheletics",
                  "4": "atheletics"
                },
                {
                  "0": "513",
                  "1": "atheletics044.txt",
                  "2": "\"white admits to balco drugs link  banned american sprinter kelli white says she knowingly took steroids given to her by bay area lab co-operative (balco) president victor conte.  conte faces a federal trial next year on charges of distributing steroids and tax evasion, and white said at first he tried to cover up what he was doing. \"\"hes the one who told me that it wasnt what he said it was",
                  "3": "",
                  "4": "atheletics"
                },
                {
                  "0": "514",
                  "1": "tennis049.txt",
                  "2": "\"moya emotional after davis cup win  carlos moya described spains davis cup victory as the highlight of his career after he beat andy roddick to end the usas challenge in seville.  moya made up for missing spains 2000 victory through injury by beating roddick 6-2 7-6 (7-1) 7-6 (7-5) to give the hosts an unassailable 3-1 lead. \"\"i have woken up so many nights dreaming of this day",
                  "3": "",
                  "4": "tennis"
                },
                {
                  "0": "515",
                  "1": "atheletics045.txt",
                  "2": "\"trial date is set for balco case  a us judge has set a preliminary trial date for the balco steroid distribution case which has rocked athletics.  us district court judge susan ilston rejected an attempt by the defence team to have the case dismissed at a pre-trial hearing in san francisco. and she set a march date for the case of the four men accused of distributing illegal performance-enhancing drugs to elite athletes to be heard. a firm decision on whether the trial takes place is expected in january. the judge said that she may conduct hearings in january into whether federal agents illegally searched the balco headquarters and wrongfully obtained statements from the companys founder victor conte and its vice-president james valente. the two men - along with personal trainer greg anderson and athletics coach remy korchemny - were all indicted earlier this year but have pleaded their innocence. the outcome of those hearings could result in some or all of the charges being dismissed. conte said that he would be telling his side of the story on an american tv show on friday.  \"\"the world deserves to know the truth about performance-enhancing drugs",
                  "3": "atheletics",
                  "4": "atheletics"
                },
                {
                  "0": "516",
                  "1": "tennis048.txt",
                  "2": "\"classy henman makes winning start  tim henman opened his 2005 campaign with a 6-1 7-5 victory over argentine david nalbandian at the kooyong classic exhibition tournament on wednesday.  the british number one will next play roger federer at the australian open warm-up event on friday. the world number one beat gaston gaudio 5-7 6-1 6-4, before andre agassi saw off chilean olympic gold medalist nicolas massu 6-1 7-6 (7-4). andy roddick beat ivan ljubicic, who replaced paradorn srichaphan, 6-1 6-4. henman made an impressive start to the year, only faltering against nalbandian when serving for the match at 5-4. but the briton regained his composure to win the next two games for only his second win in six matches against the argentine. \"\"its a great start to the year - just what i was looking for",
                  "3": "",
                  "4": "tennis"
                },
                {
                  "0": "517",
                  "1": "atheletics051.txt",
                  "2": "iaaf to rule on greek sprint pair  greek sprinters kostas kenteris and katerina thanou are expected to find out on wednesday if they will be banned for missing drugs tests this summer.  the international association of athletics federations (iaaf) council held a conference call on tuesday and are set to announce their decision. kenteris and thanou could be suspended for up to two years. the duo withdrew from the olympics after missing a test but claimed they had suffered a motorcycle crash. the greek authorities have also brought criminal charges against the sprinters for avoiding a drugs test and faking an accident. their former coach christos tzekos is also facing charges and all three are awaiting a trial date.  however, the iaaf will determine the sprinters future on the track after carefully considering all the evidence. the sports ruling body is expected to direct the greek federation in what action it should take against the sprinters. kenteris and thanou can appeal against any decision at the court of arbitration for sport. the sprinters both sent written explanations to the iaaf, which have been taken into account. the iaaf sent an official warning to the sprinters and coach tzekos after they were discovered training in qatar rather than in crete, where they had said they would be. but kenteris and thanou then went on to skip tests in tel aviv and chicago, when they decided to fly back to greece early. just before the olympics, the pair dramatically missed another test in athens before withdrawing from the games. kenteris, 31, won gold in the 200m at the sydney olympics in 2000, where thanou, 29, won silver in the 100m.",
                  "3": "atheletics",
                  "4": "atheletics"
                },
                {
                  "0": "518",
                  "1": "rugby093.txt",
                  "2": "\"wasps 31-37 leicester  leicester withstood a stunning wasps comeback to win a pulsating heineken cup encounter at the causeway stadium.  the tigers stormed 22-6 ahead within 18 minutes through tries from lewis moody, geordan murphy and martin corry. european champions wasps fought back through a josh lewsey try and mark van gisbergens boot, and they were level at 31-31 with five minutes remaining. but it was the visitors who kept their cool as andy goode kicked the tigers to victory with a penalty and a drop goal. the closing moments saw desperate defence from leicester as wasps turned down several penalties to go for the try they needed. wasps pounded the line and a penalty try looked likely before referee nigel williams controversially blew for full-time. fly-half goode was the tigers hero, kicking 22 points in total, while leicesters overwhelming domination in the scrums ultimately told. even their lack of discipline in defence - which presented the admirable van ginsberg with 26 points - could not undo them as they held out for a famous win.  lawrence dallaglios team have now got it all to do in the quest for a quarter-final place given that two of their last three games are away - against leicester and biarritz. however, wasps rugby director warren gatland warned his side will will not relinquish their european title without a fight. \"\"if we lose next week",
                  "3": "rugby",
                  "4": "rugby"
                },
                {
                  "0": "519",
                  "1": "atheletics079.txt",
                  "2": "\"wada will appeal against ruling  the world anti-doping agency (wada) will appeal against the acquittal of kostas kenteris and katerina thanou on doping charges, if the iaaf does not.  the pair were cleared of charges relating to missing dope tests by the greek athletics federation last week. wada chairman dick pound said: \"\"i am convinced the iaaf will appeal against the decision",
                  "3": "atheletics",
                  "4": "atheletics"
                },
                {
                  "0": "520",
                  "1": "tennis074.txt",
                  "2": "roche turns down federer offer  australian tennis coach tony roche has turned down an approach from roger federer to be the world number ones new full-time coach, say reports.  melbournes herald-sun said roche, troubled by a hip complaint, did not want to travel full-time again. however, roche is happy to work with the swiss star on a casual basis and is helping him prepare for next months defence of his australian open crown. federer has been without a coach since splitting with peter lundgren in 2003. roche, a former davis cup player for australia, won the french open, reached the wimbledon and us open finals and won five wimbledon doubles titles with john newcombe.  he also coached former number one ivan lendl and pat rafter to grand slam victories and has worked with australias lleyton hewitt. some reports claim federer initially wanted andre agassis australian coach darren cahill, before agassi confirmed he would play on in 2005. federer was named swiss sportsman of the year on saturday, to add to the bbc overseas sportsman and european sports journalists association awards he has already won.",
                  "3": "tennis",
                  "4": "tennis"
                },
                {
                  "0": "521",
                  "1": "tennis060.txt",
                  "2": "\"edgy agassi struggles past dent  andre agassi put in an erratic display before edging into the fourth round of the australian open with victory over taylor dent.  the 34-year-old american, seeded eighth, made a poor start, dropping serve early on and later needing two chances to serve out the set. having secured the lead, agassi still failed to take control as both players forced a succession of breaks. but agassi won the tie-break before wrapping up a 7-5 7-6 (7-3) 6-1 win. fourth seed  survived an injury scare as he battled past mario ancic 6-4 3-6 6-3 6-4. the russian turned his right ankle in the third game of the fourth set and called for treatment immediately. but he showed no sign of the problem when he returned to the court to wrap up victory in two hours 45 minutes.  ancic, wimbledon semi-finalist in 2004, looked set to push safin all the way when he took the second set but safin raised his game to sink the croatian. safin said he was trying to keep his temper under control at this years tournament. the russian hit himself on the head repeatedly in one second-set outburst but was otherwise largely calm in his victory. \"\"i try to stay calm because if you go crazy against players like ancic",
                  "3": "",
                  "4": "tennis"
                },
                {
                  "0": "522",
                  "1": "rugby087.txt",
                  "2": "\"robinson wants dual code success  england rugby union captain jason robinson has targeted dual code success over australia on saturday.  robinson, a former rugby league international before switching codes in 2000, leads england against australia at twickenham at 1430 gmt. and at 1815 gmt, great britains rugby league team take on australia in the final of the tri-nations tournament. \"\"beating the aussies in both games would be a massive achievement",
                  "3": "rugby",
                  "4": "rugby"
                },
                {
                  "0": "523",
                  "1": "football165.txt",
                  "2": "\"benitez deflects blame from dudek  liverpool manager rafael benitez has refused to point the finger of blame at goalkeeper jerzy dudek after portsmouth claimed a draw at anfield.  dudek fumbled a cross before lomana lualua headed home an injury-time equaliser, levelling after steven gerrard put liverpool ahead. benitez said: \"\"it was difficult for jerzy. it was an unlucky moment. \"\"he was expecting a cross from matthew taylor and it ended up like a shot",
                  "3": "",
                  "4": "football"
                },
                {
                  "0": "524",
                  "1": "atheletics086.txt",
                  "2": "\"disappointed scott in solid start  allan scott is confident of winning a medal at next weeks european indoor championships after a solid debut on the international circuit.  the 22-year-old scot finished fourth in the 60m hurdles at the jose m cagigal memorial meeting in madrid. \"\"it was definitely a learning curve and i certainly havent ruled out challenging for a medal next week",
                  "3": "",
                  "4": "atheletics"
                },
                {
                  "0": "525",
                  "1": "football171.txt",
                  "2": "\"gronkjaer agrees switch to madrid  jesper gronkjaer has agreed a move to atletico madrid from birmingham city.  the 27-year-old winger spent just five months at st andrews following a £2.2m move from chelsea in july after playing for denmark at euro 2004. he is set to move during the january transfer window in a deal rumoured to be about £1.4m, subject to a medical. \"\"we will meet with the players representative to finalise the contract and decide when he will sign",
                  "3": "",
                  "4": "football"
                },
                {
                  "0": "526",
                  "1": "atheletics092.txt",
                  "2": "\"collins calls for chambers return  world 100m champion kim collins says suspended sprinter dwain chambers should be allowed to compete in the olympics again.  chambers was banned for two years after testing positive for the anabolic steroid thg and his suspension runs out in november this year. but collins says the british olympic association should reverse the decision to ban him from the olympics for life. \"\"it was too harsh",
                  "3": "",
                  "4": "atheletics"
                },
                {
                  "0": "527",
                  "1": "rugby078.txt",
                  "2": "\"hodges announces rugby retirement  scarlets and usa eagles forward dave hodges has ended his playing career to pursue a coaching role in the states.  the 36-year-old, who has 54 caps, was llanellis player of the season in 2001/2, but has battled injury for the last two of his seven years at stradey. he tore a pectoral muscle against the ospreys on boxing day, an injury that would have kept him out for the season. \"\"realising i would be unable to play this season",
                  "3": "rugby",
                  "4": "rugby"
                },
                {
                  "0": "528",
                  "1": "football159.txt",
                  "2": "\"old firm pair handed suspensions  celtics henri camara and nacho novo of rangers have both been suspended for offences missed by the referee in a recent old firm game.  both were given automatic one-match bans and 12 additional disciplinary points for their actions. that means novo will miss a further two games because of his prior record. camara will miss one additional game. novo was found guilty of stamping on celtics stephen pearson. camara was punished for kicking gregory vignal. \"\"im extremely disappointed. i dont know if theres a lot to add to that",
                  "3": "",
                  "4": "football"
                },
                {
                  "0": "529",
                  "1": "rugby050.txt",
                  "2": "\"parker misses england clash  tom shanklin will start in the centre for wales against england in cardiff on saturday after sonny parker failed to recover from a trapped neck nerve.  shanklin was first-choice wing in the autumn tests, but prefers centre and will face england debutant mathew tait. dragons three-quarter hal luscombe takes shanklins wing berth. up front, mefin davies plays at hooker, open-side martyn williams is fit to start and lock rob sidoli replaces veteran gareth llewellyn. davies wins the vote ahead of robin mcbryde, who sits on the bench having recently returned to action for the scarlets following a neck injury.  sidoli is back for the first time since last seasons six nations, the blues second row back to form after a niggling groin problem. williams, sidolis team-mate at cardiff, is set to win his 50th cap, replacing the injured colin charvis after making a quicker-than-expected recovery from a neck disc problem. \"\"initially when i had the diagnosis it was a case of trying to get fit for the italy game next week",
                  "3": "",
                  "4": "rugby"
                },
                {
                  "0": "530",
                  "1": "rugby044.txt",
                  "2": "\"sella wants michalak recall  former france centre philippe sella believes coach bernard laporte must recall frederic michalak to give his side any chance of beating ireland.  sella admitted he had been impressed by current fly-half yann delaigue in the rbs six nations to date. but he told bbc sport: \"\"michalak is the answer both now and for the future. delaigue deserved his chance but the time has come to bring back michalak. \"\"he does have weaknesses but has the all-round game to upset ireland.\"\" the 22-year-old michalak has spent much of the tournament on the bench after delaigue impressed for castres early in the season. with michalak overlooked",
                  "3": "",
                  "4": "rugby"
                },
                {
                  "0": "531",
                  "1": "cricket075.txt",
                  "2": "south africa back in contention  first test, port elizabeth, day three (stumps): south africa 337 & 99-2 v england 425  england, who resumed play on 227-1, were bowled out for 425 after losing three wickets for 29 runs and four for 12 in two separate mini-collapses. makhaya ntini took three wickets in four balls before returning 3-75. south africa then lost ab de villiers and jacques rudolph before closing on 99-2, a lead of 11 runs. the hosts emerged for the days play with renewed zeal after their listless display in the field on saturday. andrew strauss could add only six to his overnight score of 120 before cutting shaun pollock on the up and picking out de villiers at point.  michael vaughan, fresh from his run-hungry deeds against zimbabwe and south africa a, broadcast his levels of confidence with a six over third man off andrew hall. but it was to prove a false dawn as two balls later the england captain dallied outside the off-stump to a fuller delivery and was caught at slip. graham thorpe was unimpressive in 45 minutes in the middle, scoring just four before being bowled around his legs sweeping at graeme smiths amateur off-breaks.  although three strikes in the morning was a good return for the hosts, butcher was keeping the score ticking over with an array of pulled and cut boundaries, and they were doing themselves no favours by continually no-balling. in the entire innings, south africa conceded a national record 57 extras, including 35 no-balls. debutant dale steyn was the chief culprit, overstepping 16 times. butcher and andrew flintoff built a promising 79-run stand either side of lunch, and the formers 12th boundary midway through the afternoon took the recovering visitors into the lead. ntini, unthreatening to this point, then turned the game on its head with three wickets in four balls to orchestrate a one-time familiar middle-order collapse. butchers demise - a faint edge through to impressive keeper thami tsolekile - was a soft way to end a 23rd test fifty that looked like becoming his ninth ton.  if his departure was unthinking, flintoffs was plain mindless. the powerful all-rounder had ridden a difficult period to move to 35, but threw his wicket away when despatching a deliberate short ball down the throat of rudolph at deep square. geraint jones misread the sluggishness of the pitch to be caught at short extra cover next ball, and though matthew hoggard kept out the hat-trick ball he soon fell to hall for a duck to reduce his team to 358-8. ashley giles emphasized his worth down the order with a brisk 26, putting on 36 with simon jones before edging pollock to slip. another 31 runs were added for the final wicket, during which time steve harmison was dropped twice and caught off a steyn no-ball.  steyn kept his foot behind the popping crease to eventually get rid of jones for 24 and end englands first innings. hoggard, so industrious with the ball in the first innings, again served his team well when snatching a wonderful, low-down catch off his own bowling to remove de villiers for 14. a sizeable first-innings deficit still hung over the hosts on 26-1, but with hoggard seemingly straining his side and harmison (0-29 off six overs) way off colour england did not fully cash in. it took the introduction of giles to oust rudolph (caught at slip) for a nicely crafted 29, but smith (33) and jacques kallis (10) comfortably saw south africa out of the red and to the safety of stumps. the day belonged to the home side, but they will need to repeat the dose on monday to ensure they cannot be beaten in the series opener.  g smith (captain), ab de villiers, j rudolph, j kallis, b dippenaar, z de bruyn, a hall, s pollock, t tsolekile (wk), m ntini, d steyn.  m vaughan (captain), m trescothick, a strauss, m butcher, g thorpe, a flintoff, g jones (wk), a giles, s jones, m hoggard, s harmison.",
                  "3": "",
                  "4": "cricket"
                },
                {
                  "0": "532",
                  "1": "cricket061.txt",
                  "2": "kumble overtakes kapils record  first test, dhaka, day one (stumps): bangladesh 184 all out v india  kumble overtook the mark set by kapil dev when he had mohammad rafique lbw. and he followed up with a wicket next ball before bangladesh were bowled out for 184 in 58 overs in dhaka. after the first session was lost to rain, irfan pathan took five wickets to reduce the hosts to 106-7 before mohammad ashraful dug in. ashraful ended unbeaten on 60, having hit six fours and faced 135 balls. kumble had a chance of a hat-trick after removing tapash baisya via a catch at first slip but mashrafe mortaza safely defended the fifth ball of his 12th over. but a run out ended the innings not long afterwards.  india did not get chance to begin their reply as openers virender sehwag and gautam gambhir were immediately offered the light on stepping to the wicket. india won the toss and pathan soon got stuck into the top order, dismissing javed omar lbw in his second over with one that nipped back. nafis iqbal and rajin saleh were also ajudged lbw by umpire jeremy lloyds off consecutive balls in pathans fifth over. captain habibul bashar then pulled zaheer khan straight to square leg and when the same bowler had khaled mashud caught behind, bangladesh were 50-5 after just 16 overs. ashraful, largely in partnership with rafique (47), did his best to build a recovery but india will expect to amass a huge lead on saturday. kumble is now fifth in the all-time list. aged 34, he may still be able to reach the 500-mark, passed by only three men. fellow leg-spinner shane warne tops the list with 552 wickets.  habibul bashar (capt), nafis iqbal, javed omar, mohammad ashraful, rajin saleh, khaled mashud (wkt), mushfiqur rahman, mohammad rafique, tapash baisya, mashrafe bin mortaza, manjurul islam rana.  s ganguly (capt), v sehwag, g gambhir, s tendulkar, r dravid, m kaif, d karthik (wkt), i pathan, a kumble, harbhajan singh, z khan.",
                  "3": "",
                  "4": "cricket"
                },
                {
                  "0": "533",
                  "1": "cricket049.txt",
                  "2": "\"wilson back in kiwi cricket squad  former all blacks winger jeff wilson is back in the new zealand cricket squad after a 12-year absence.  wilson has been included by the kiwis to face a world xi in a one-day series in aid of the tsunami victims. his last outing for the national team was in 1993 when he gave up cricket to concentrate on his rugby union career, which came to an end in 2002. \"\"now that i have this chance i am looking forward to getting in there and making the most of it",
                  "3": "cricket",
                  "4": "cricket"
                },
                {
                  "0": "534",
                  "1": "football213.txt",
                  "2": "no lack of christmas spirit  its that time of year when footballers and managers brace themselves for what i think is the most important period of the entire season.  i was thinking to myself last week that the last time i had a christmas off was 39 years ago. i have never been out of work at christmas as a player or manager since i was 17 when our youth team coach at chesterfield, a chap called reg wright, gave us christmans off. but only because there were no games. i think things have changed dramatically over the years in terms of discipline and looking after themselves. players take a lot more responsibility these days, in particular the older ones - im talking about those 32 and over, here. theyve changed their whole outlook in order to continue playing at this level. managers as well need to trust players more than we have in the past. in my squad i havent got anyone i have to warn regarding excess and over-eating, which is a massive bonus.  over the years, there have been some players in the squad who you would never know if they were going to turn up for training smelling of booze. as per usual, we will be training on christmas day, prior to our boxing day trip to coventry. but there are times when you can do too much over christmas, having the players in for training and then leaving for the game. ill try and strike a balance and after weve trained in the morning, the players can go home for a few hours and well leave for coventry about 7pm. i allow the players to have a pre-christmas night out. they came to me in november and asked if they could have a night out in leeds and i said no. i also said no to manchester, sheffield and nottingham and eventually let them go to dublin after we played at millwall. i send a minder with them to look after them, not because i dont trust them.  the problem is that nowadays, footballers are big news and you never know when somebody is going to step out with a mobile phone and take pictures of them. you have to trust your players to behave themselves, but unfortunately you cant govern for other peoples behaviour. there is always an idiot out there who wants to get himself a bit notoriety or his name in the local paper by picking a fight and taking a pop at a professional footballer. i also know that last year one newspaper asked certain young ladies to find out when and where players were holding their christmas parties in the hope of getting embarrassing photos. i tried to behave myself as a player and i remember when i was at scunthorpe, going to bed at 10pm on new years eve as we had a game on new years day.  i missed all the festivities and seeing the new year in, only to wake up the next morning to find there was two feet of snow on the ground! we all love christmas, though and i like to take my children william and amy to see the lights and take them to santas grotto. but when youre in football you accept that christmas is not the same for you as for others. in fact, until somebody mentioned it to me the other day, i never realised that its become the norm for me and others in football not to have a christmas holiday. one of the nice things when i do retire will be not having to worry about the phone ringing over christmas. youre always on tenterhooks on christmas day that somebody is injured or has had an accident playing with their kids. but i would like to take this opportunity to wish everybody a happy christmas and a prosperous new year.",
                  "3": "football",
                  "4": "football"
                },
                {
                  "0": "535",
                  "1": "cricket101.txt",
                  "2": "\"icc ponders one-day alterations  the rules of one-day cricket could be changed to allow the fielding side to take two wickets off a single ball.  a striking batsman could be dismissed lbw or caught and his partner run out. the international cricket council is also considering an idea to modify the 15-over period of fielding restrictions normally set for an innings start. instead, the batting side would choose three different slots of five overs when only two fielders would be permitted to cover the boundaries. sunil gavaskar heads the icc committee which has recommended the proposal in a bid to inject interest into the one-day game which the former india captain says has become \"\"predictable\"\". \"\"weve looked at a double play situation",
                  "3": "cricket",
                  "4": "cricket"
                },
                {
                  "0": "536",
                  "1": "cricket115.txt",
                  "2": "\"bangladesh delighted at test win  bangladeshi players and fans celebrated after the sides historic first test victory, over zimbabwe in chittagong.  thousands of fans, armed with drums and flags, ran into the streets in the capital dhaka within minutes of the end of the game, halting traffic. \"\"its the best day in my life. i wont forget the day i was a member of bangladeshs winning team. \"\"i dont want to remember those hard days",
                  "3": "",
                  "4": "cricket"
                },
                {
                  "0": "537",
                  "1": "football207.txt",
                  "2": "\"gunners clock up winning record  arsenal claimed the premiership title and re-wrote the record books in the process by going the entire 38-game season unbeaten.  it was the first time a team had gone through a top-flight season undefeated since preston in the 1888-89 season. arsenal romped home by a convincing 11-point margin from chelsea. the closest they came to defeat was in the so-called \"\"battle of old trafford\"\" when ruud van nistelrooy missed a last-minute penalty in a goalless draw.  it was a game that cast a shadow over the season",
                  "3": "",
                  "4": "football"
                },
                {
                  "0": "538",
                  "1": "tennis100.txt",
                  "2": "\"sharapova overcomes tough molik  wimbledon champion maria sharapova recovered from losing the opening set to win the final of the qatar open.  the second seed beat fourth-seeded australian alicia molik 4-6 6-1 6-4 for her second title of the year. molik, who had overcome top seed amelie mauresmo in fridays semi-final, broke sharapova in the third game of a first set she went on to win. but sharapova recovered to build up a healthy 5-0 lead in the second set and she never looked back after that. molik saw her game fall apart as sharapova broke in the fifth game of the decider to lead 3-2. and although molik stayed in touch, sharapova held on to her serve and then finished off the match with an ace after saving a break point in the 10th game.  sharapova said the key to her victory was her positive approach after losing the first set. \"\"alicia was dictating terms to me in the first set but in my mind i was always positive",
                  "3": "",
                  "4": "tennis"
                },
                {
                  "0": "539",
                  "1": "rugby118.txt",
                  "2": "\"marshall set for leeds move  all blacks scrum-half justin marshall has agreed a two-year contract to play for leeds from next season.  the 31-year-old has a release clause in his new zealand contract which allows him to move after the 2005 lions tour. \"\"it is a really exciting challenge and something new for me",
                  "3": "",
                  "4": "rugby"
                },
                {
                  "0": "540",
                  "1": "football011.txt",
                  "2": "\"newcastle 2-1 bolton  kieron dyer smashed home the winner to end boltons 10-game unbeaten run.  lee bowyer put newcastle ahead when he fed stephen carr on the right flank, then sprinted into the area to power home a header from the resultant cross. wanderers hit back through stelios giannakopoulos, who ended a fluid passing move with a well-struck volley. but dyer had the last word in a game of few chances, pouncing on a loose ball after alan shearers shot was blocked and firing into the top corner. neither side lacked urgency in the early stages of the game, with plenty of tackles flying in, but opportunities in front of goal were harder to come by. bolton keeper jussi jaaskelainen had to make two saves in quick succession midway through the first-half - keeping out shearers low shot and dyers close-range header - but that was the only goalmouth action of note. and it was almost out of nothing that the magpies took the lead on 35 minutes. bowyer found space with a neat turn on the half-way line and striding forward picked out carr to his right. he then continued his run and with perfect timing made his way into the box where he met carrs cross with a downward header into the far corner. bolton had produced little going forward at this point but they responded well.  they were level within six minutes thanks to a smart finish from giannakopoulos. jay-jay okocha twisted and turned on the edge of the area and after a neat exchange of passes involving kevin davies and gary speed, the greek striker found the bottom corner with a first-time strike. the magpies were opened up again before half-time as davies set giannakopoulos in space and given had to block at his near post. but the home side survived, and they should have re-taken the lead with the first meaningful attack of the second half. fernando hierro cynically chopped down dyer on the edge of the area with the midfielder clean through. but the veteran defender escaped with a booking as there were other defenders nearby, and from the resultant free-kick laurent robert curled the ball just wide. bolton were creating little going forward and they seemed content to frustrate the magpies. their strategy seemed to be working until the 69th minute. alan shearers snap-shot was charged down and dyer reacted first to smash the ball past the despairing jaaskelainen from six yards.  - bolton boss sam allardyce \"\"i am bitterly disappointed with the result",
                  "3": "",
                  "4": "football"
                },
                {
                  "0": "541",
                  "1": "football005.txt",
                  "2": "\"smith keen on home series return  scotland manager walter smith has given his backing to the reinstatement of the home international series.  such a plan is to be proposed by the new chief executive of the northern irish fa, howard wells, at the next meeting of the four home countries. the english fa has expressed doubt as to whether the fixtures could be accommodated at the end of each season. but smith said: \"\"bringing it back would add meaning to friendly games and thats something thats needed.\"\" the home international series was done away with in 1984",
                  "3": "",
                  "4": "football"
                },
                {
                  "0": "542",
                  "1": "rugby124.txt",
                  "2": "\"sculthorpe wants lions captaincy  paul sculthorpe has admitted he would love to succeed andy farrell as great britain skipper if the wigan star does switch codes to rugby union.  sculthorpe was vice-captain in the tri-nations, and took the st helens captaincy from chris joynt last year. \"\"i would definitely want the job - i make no bones about it",
                  "3": "rugby",
                  "4": "rugby"
                },
                {
                  "0": "543",
                  "1": "rugby130.txt",
                  "2": "\"celts savour grand slam prospect  the six nations has heralded a new order in northern hemisphere rugby this year and wales and ireland rather than traditional big guns france and england face a potential grand slam play-off in three weeks time.  but before that game in cardiff, wales must get past scotland at murrayfield, while ireland face the not insignificant task of a home fixture with the mercurial french. no-one knows what mood france will be in at lansdowne road on 12 march - sublime, as in the first half against wales, or ridiculous, like in the same period against england at twickenham. but how the mighty have fallen. england sat on rugbys summit 15 months ago as world champions and 2003 grand slam winners. but they have lost nine of their 14 matches since that heady night in sydney. and they face the ignominy of what could amount to a wooden spoon play-off against italy in a fortnight.  england are enduring their worst run in the championship since captain richard hill was dumped in favour of mike harrison after three straight losses in 1987. coach andy robinson, who took over from the successful sir clive woodward in september, has lost a phalanx of world cup stars. and he is enduring the toughest of teething problems in bedding down his own style with a new team. the same year that england ruled the roost, a woeful wales lost all five matches in the six nations. and they won only two games, against scotland and italy, in 2004. wales most recent championship title was in 1994, and their last grand slam success came in 1978 in the era of gareth edwards, phil bennett, jpr williams et al.  but welsh rugby fans remain on permanent tenterhooks for the blossoming of a new golden age. after several false dawns, coach mike ruddock may have come up with the team and philosophy to match expectations. the fresh verve is inspired by skipper gareth thomas, now out with a broken thumb, accurate kicking from either fly-half stephen jones or centre gavin henson, a rampant martyn williams leading the way up front, and exciting runners in the guise of henson and shane williams. ireland coach eddie osullivan and captain brian odriscoll have got their side buzzing too, and they are close to shedding the \"\"nearly-men\"\" tag that has dogged them for the past few years. the men from the emerald isle have been six nations runners-up for the past two years",
                  "3": "rugby",
                  "4": "rugby"
                },
                {
                  "0": "544",
                  "1": "football039.txt",
                  "2": "\"finnan says irish can win group  steve finnan believes the republic of ireland can qualify directly for the world cup finals.  after saturdays superb display in the draw in paris, ireland face minnows the faroe islands in dublin on wednesday. the versatile finnan, who starred against the french, is confident the group is irelands for the taking. \"\"there is a chance for us now to go on",
                  "3": "",
                  "4": "football"
                },
                {
                  "0": "545",
                  "1": "rugby126.txt",
                  "2": "\"farrell saga to drag on - lindsay  wigan chairman maurice lindsay says he does not expect a quick solution to the on-going saga of captain andy farrells possible switch to rugby union.  leicester and saracens are leading the chase for the player, but lindsay told the bbc it was not yet a done deal. \"\"as well as the rugby football union",
                  "3": "rugby",
                  "4": "rugby"
                },
                {
                  "0": "546",
                  "1": "rugby132.txt",
                  "2": "\"ireland 19-13 england  ireland consigned england to their third straight six nations defeat with a stirring victory at lansdowne road.  a second-half try from captain brian odriscoll and 14 points from ronan ogara kept ireland on track for their first grand slam since 1948. england scored first through martin corry but had \"\"tries\"\" from mark cueto and josh lewsey disallowed. andy robinsons men have now lost nine of their last 14 matches since the 2003 world cup final. the defeat also heralded englands worst run in the championship since 1987. ireland last won the title",
                  "3": "",
                  "4": "rugby"
                },
                {
                  "0": "547",
                  "1": "football013.txt",
                  "2": "dundee utd 4-1 aberdeen  dundee united eased into the semi-final of the scottish cup with an emphatic win over aberdeen.  alan archibald prodded united ahead in 19 minutes and james grady made it two from close range 10 minutes later. richie byrnes header gave aberdeen a way back into the game, but stevie crawford restored uniteds lead from 18 yards before half time. the scoring was completed by grady just after the break - a superb shot on the turn making it 4-1. tony bullock in the united goal was called into action for the first time with just over a quarter-of-an-hour on the clock. noel whelan laid the ball off to jamie winter on the edge of the box, but his first-time effort was gathered by the united keeper. moments later though, the home side took the lead. barry robson whipped in a free kick from the right, which stevie crawford caught on the volley. russell anderson failed to deal with it and whelans clearance off the line landed kindly at the feet of archibald, who poked the ball into the net. united doubled their lead after 29 minutes when grady tapped the ball into an empty net after robson had headed mark wilsons cross off the angle of post and bar. but only three minutes later aberdeen clawed their way back into the match. a free kick from the left by winter was met powerfully by the head of byrne at the back post, leaving bullock helpless.  united restored their two-goal lead four minutes before the end of a highly entertaining first half. jason scotland played a perfectly-weighted pass into the path of the onrushing crawford and he coolly beat ryan esson from 18 yards. united ended the game as a contest just two minutes after the interval. grady received a pass from crawford with his back to goal on the edge of the box and after taking one touch, he spun to volley the ball past the despairing dive of esson. the home side were in complete control and it required a good stop from esson to keep out robsons drive after 62 minutes. the keeper denied the same player again 10 minutes later, beating away his fierce shot from the left of the penalty area. robson saw another long-range effort tipped round the post before a cute lob was headed off the line.  bullock, duff, wilson, ritchie, archibald, scotland (samuel 63), brebner, kerr (cameron 87), robson, crawford, grady.  colgan, dodds, kenneth.  brebner.  archibald 19, grady 29, crawford 41, grady 47.  esson, hart, anderson, diamond, byrne (morrison 75), mcnaughton, heikkinen (foster 27), winter, clark (stewart 51), mackie, whelan.  blanchard, mcguire.  : anderson, diamond.  byrne 33.  8,661  k clark",
                  "3": "",
                  "4": "football"
                },
                {
                  "0": "548",
                  "1": "football007.txt",
                  "2": "\"man city 0-2 man utd  manchester united reduced chelseas premiership lead to nine points after a scrappy victory over manchester city.  wayne rooney met gary nevilles cross to the near post with a low shot, which went in via a deflection off richard dunne, to put united ahead. seven minutes later, the unfortunate dunne hooked a volley over david james head and into his own net. steve mcmanaman wasted citys best chance when he shot wide from three yards in the first half. in the opening 45 minutes united had looked unlikely to earn the win they needed to maintain any chance of catching chelsea in the title race. their approach play was more laboured than patient and they managed to fashion just one chance - a paul scholes header over the bar. and city seemed to be content to sit back and try and hit their rivals on the break as the game settled into a tepid pattern. only shaun wright-phillips appeared capable of interrupting the monotony, looking lively down the right and causing gabriel heinze problems.  wes brown also found wright-phillips to be a difficult opponent when the tricky winger embarrassed him near the touchline. wright-phillips sublime skill and pace took him past brown and he delivered a pin-point centre to the feet of mcmanaman. but the former liverpool player demonstrated why he has never scored against united by side-footing the easy chance wide. john oshea was forced off after an earlier clash with sylvain distin and cristiano ronaldo came on to replace him. he immediately caused ben thatcher some discomfort and looked set to inject some much-needed pace into the united attack. rooney was being well marshalled by dunne - but that was all about to change. after the break, united poured forward and there was a renewed urgency about their play. and when neville delivered a cross in a carbon copy of citys best first-half chance, rooney showed mcmanaman how to do it - even if he needed the help of dunnes leg. worse was to come for dunne, who had been having a fine match. on 75 minutes, he scored a horrible own goal when attempting to volley clear rooneys cross and united seemed home and dry. however, city did fight back and fowler missed another great chance from close range. and united keeper roy carroll saved well from kiki musampa. but united could have a had a third late on when substitute ryan giggs hit the post.  - manchester city boss kevin keegan: \"\"we had a great chance to take the lead and the first goal was always going to be crucial. \"\"we started off with a good tempo but then we allowed them to dictate the pace a bit too much. \"\"but we still had four good chances",
                  "3": "",
                  "4": "football"
                },
                {
                  "0": "549",
                  "1": "football239.txt",
                  "2": "\"premier league probes cole claims  the premier league is to investigate allegations that chelsea made an illegal approach for ashley cole.  arsenal and england defender cole reportedly met blues boss jose mourinho and chief executive peter kenyon in a london hotel 10 days ago. chelsea have yet to officially confirm or deny the meeting, which would be in breach of premier league rule k3. now the gunners have asked for an inquiry to look into claims that their player has been \"\"tapped up\"\". the premier league says it will look into \"\"further information\"\" concerning the allegations",
                  "3": "",
                  "4": "football"
                },
                {
                  "0": "550",
                  "1": "cricket103.txt",
                  "2": "\"holding slams twenty20 rubbish  west indies great michael holding has branded twenty20 cricket \"\"rubbish\"\" as its international future is debated.  holding refused to watch last months twenty20 match between australia a and pakistan in adelaide. he told the voice: \"\"it saddens me to hear people say that it is a real contest between bat and ball. how can simple slogging be good cricket? \"\"it might have a place in domestic cricket but should never be introduced as an international competition.\"\"  the international cricket council chief executives committee is to discuss the new format",
                  "3": "cricket",
                  "4": "cricket"
                },
                {
                  "0": "551",
                  "1": "football211.txt",
                  "2": "\"owen dismisses fresh real rumours  england striker michael owen helped inspire real madrid to a 2-1 win at osasuna in la liga on sunday before insisting he is happy at the club.  the ex-liverpool player started on the bench, an on-going situation that has led to rumours of a premiership return. owen has admitted he is frustrated at his lack of first-team chances but is determined to succeed in spain. \"\"im always going to say i want to play more minutes but that doesnt mean im unhappy being a substitute",
                  "3": "",
                  "4": "football"
                },
                {
                  "0": "552",
                  "1": "football205.txt",
                  "2": "\"linesman defends disallowed goal  linesman rob lewis has defended his role in tottenhams disallowed goal against manchester united.  pedro mendes shot clearly crossed the line and lewis has been criticised for his positioning in the incident. lewis said: \"\"the spurs player shot from distance and i was doing my primary job which was to stand in line with the last defender and watch for an offside. \"\"there was nothing i could have done differently apart from run faster than linford christie.\"\" he added: \"\"when the ball landed i was still 25 yards from goal and it was impossible to judge if it had crossed the line.\"\" tottenham boss martin jol criticised the decision",
                  "3": "",
                  "4": "football"
                },
                {
                  "0": "553",
                  "1": "cricket117.txt",
                  "2": "\"ecb defends england tour schedule  the england and wales cricket board has defended its role in the scheduling of the tour to south africa.  criticism of the itinerary intensified after englands defeat in cape town, the last of three back to back tests. ecb director of cricket operations john carr said: \"\"we raised our eyebrows when he received the first draft from the south african board. \"\"unfortunately",
                  "3": "cricket",
                  "4": "cricket"
                },
                {
                  "0": "554",
                  "1": "cricket077.txt",
                  "2": "kaif shines in india win  first one-day international, chittagong: india 245-8 (50 overs) v bangladesh 234-8 (50 overs) by 11 runs  mohammad kaif (80) and rahul dravid (53) shared a stand of 128 as the tourists posted a total of 245-8. skipper habibul bashar kept bangladesh in the hunt with 65, but his departure left them with too much to do. khaled mashud hit an unbeaten 50 but sridharan sriram took 3-43 as the home side were restricted to 234-8. after winning the test series 2-0, india took the opportunity to rest batsman virender sehwag and fast bowler zaheer khan and give debuts to wicket-keeper mahendra dhoni and seamer joginder sharma. but skipper sourav ganguly lost the toss and opposite number bashars decision to put them in paid off initially as india were reduced to 45-3. ganguly was bowled for nought by the second ball of the match from tapash baisya and 17-year-old nazmul hossain then claimed the prized scalp of sachin tendulkar, who was caught behind for 19.  mushfiqur rahman trapped yuvraj singh lbw for 21, but kaif and dravid steadied the innings and bangladesh had to wait 28 overs for their next success. both batsmen reached their half centuries off 74 balls, but dravid edged a catch to the keeper off khaled mahmud soon after and sriram was stumped for three off spinner mohammad rafique. dhonis first innings for india lasted one delivery as he was run out for nought and when kaif gave a return catch to nazmul in the 47th over, the total had only just passed 200. but ajit agarkar made 25 and irfan pathan hit two sixes in his 21 not out off 11 balls, runs which ultimately made all the difference.  bangladesh were soon in trouble in reply as rafique (eight), nafis iqbal (nine) and mohammad ashraful (two) all failed - the latter becoming sharmas first international victim when he was caught by ganguly. bashar and aftab ahmed put on 64 in 14 overs before both fell victim to srirams left-arm spin, along with rajin saleh (14), as the home side slumped from 108-3 to 156-6. mushfique was lbw to agarkar for two but mashud and mahmud did their best to revive their side, adding 40 for the eighth wicket in six overs. the target was out of reach, however, and mahmud perished for 21 to a catch by man of the match kaif as bangladeshs hopes were finally extinguished. mashud had the consolation of reaching his fifth one-day half century before baisya drove the final ball of the game to extra cover for four, but it was too late for bangladesh.  nafis iqbal, habibul bashar (capt), mohammad ashraful aftab ahmed, khaled mashud (wkt), mushfiqur rahman, khaled mahmud manjural islam rana, mohammad rafique, tapash baisya nazmul hossain.  s sriram, s r tendulkar, s c ganguly (capt), r dravid yuvraj singh, m kaif, m s dhoni (wkt), i k pathan, harbhajan singh j sharma, a b agarkar.  aleem dar and mahbubur rahman",
                  "3": "",
                  "4": "cricket"
                },
                {
                  "0": "555",
                  "1": "cricket063.txt",
                  "2": "\"rain holds up england  fifth test, centurion. south africa v england  start delayed, rain  england lead the series 2-1 with just this final test remaining so south africa desperately need to win. the officials had hoped play could get under way at noon local time but a further downpour led to an early lunch being taken by the players. for england, simon jones is expected to replace james anderson while the hosts play both andrew hall and andre nel, with batsman boeta dippenaar dropped. dale steyn had already been released from the squad for centurion and it means south africa go in with five seamers and one spin bowler.  on friday, england captain michael vaughan had said it was important his team targeted victory and not simply a draw. he said: \"\"you cant set out over five days to draw a game. we have to try to win. if you go out in a mindset to draw you dont have the right attitude. \"\"well just set out in a positive manner and try to put the south africans under a lot of pressure.\"\" england",
                  "3": "",
                  "4": "cricket"
                },
                {
                  "0": "556",
                  "1": "cricket088.txt",
                  "2": "australia complete series sweep  third test, sydney, day four (result): australia 568 & 62-1 bt pakistan 304 & 325  pakistan, continuing on 67-1 overnight, posted 325 all out in their second innings and the home team quickly scored the 62 runs needed for victory. asim kamal top scored for the visitors with a well-made 87, but australia were always in control after building a first-innings lead of 264. and on a turning wicket shane warne took 4-111 and stuart macgill 3-83. australia took three wickets during the morning session to reduce pakistan to 172-4, still 92 runs behind the home teams first-innings total. it seemed at one point as though stubborn resistance would limit the visitors to the loss of yasir hameed during the first session of the day. but with lunch approaching the australians swung the balance of the session in their favour with two wickets in two balls. yousef youhana was bowled by macgill for 30 before younis khan was trapped lbw to shane watson to become the all-rounders first test victim.  after lunch shahid afridi was run out after a typically aggressive innings and his dimissal was sparked a fall of five wickets for 32 runs as the pakistan lower order again threatened to capitulate. at one point they had been reduced to 270-9 after steadily losing wickets throughout the afternoon session. shortly before the scheduled tea interval australia claimed the extra half hour as they went in search of victory. but asim kamal, partnered by mohammad asif, who scored his first runs in test cricket, put on 55 for the last wicket to set australia a meagre target for victory. jason langer and matthew hayden wasted no time in setting about the victory target, thrashing a series of boundaries. with victory just four runs away langer was bowled sweeping around his legs and new batsman ricky ponting smashed the next delivery to the boundary to seal victory.  matthew hayden, justin langer, ricky ponting (capt), damien martyn, michael clarke, shane watson, adam gilchrist (wkt), shane warne, jason gillespie, glenn mcgrath, stuart macgill.  salman butt, imran farhat, yasir hameed, younis khan,yousuf youhana (capt), asim kamal, kamran akmal (wkt), mohammad asifshoaib akhtar, naved-ul-hasan, danish kaneria. umpires: b bowden (nz), d shepherd (eng).",
                  "3": "cricket",
                  "4": "cricket"
                },
                {
                  "0": "557",
                  "1": "rugby052.txt",
                  "2": "\"bortolami predicts dour contest  italy skipper marco bortolami believes saturdays six nations contest against scotland will be a scrappy encounter.  with both sides looking for their first win of the championship, the third-round game at murrayfield has been billed as a wooden-spoon decider. and bortolami feels the edinburgh contest could end up being a bruising battle of the packs. \"\"it will not be a pretty game because both teams are desperate to gain their first win",
                  "3": "",
                  "4": "rugby"
                },
                {
                  "0": "558",
                  "1": "rugby046.txt",
                  "2": "\"umaga ready for \"\"fearsome\"\" lions  all blacks captain tama umaga has warned the british and irish lions will be his most fearsome opponents yet ahead of their summer tour.  but umaga",
                  "3": "",
                  "4": "rugby"
                },
                {
                  "0": "559",
                  "1": "tennis089.txt",
                  "2": "\"melzer shocks agassi in san jose  second seed andre agassi suffered a comprehensive defeat by jurgen melzer in the quarter-finals of the sap open.  agassi was often bamboozled by the austrians drop shots in san jose, losing 6-3 6-1. defending champion and top seed andy roddick rallied to beat swedens thomas enqvist 3-6 7-6 (8-6) 7-5. but unseeded cyril saulnier beat the fourth seed vincent spadea 6-2 6-4 and tommy haas overcame eighth seed max mirnyi 6-7 (2-7) 7-6 (7-3) 6-2. melzer has now beaten agassi in two of their three meetings.  \"\"i had a good game plan and i executed it perfectly",
                  "3": "",
                  "4": "tennis"
                },
                {
                  "0": "560",
                  "1": "atheletics084.txt",
                  "2": "\"holmes starts 2005 with gb events  kelly holmes will start 2005 with a series of races in britain.  holmes will make her first track appearance on home soil since winning double olympic gold in januarys norwich union international in glasgow. she will also run in the grand prix in birmingham in february and may defend her indoor aaa 800m title in sheffield earlier that month. \"\"i am still competitive and still want to win",
                  "3": "",
                  "4": "atheletics"
                },
                {
                  "0": "561",
                  "1": "football167.txt",
                  "2": "\"mcclaren eyes uefa cup top spot  steve mcclaren wants his middlesbrough team to win their uefa cup group by beating partizan belgrade.  boro have already qualified for the knockout stages alongside partizan and villareal, at the expense of lazio. but boss mcclaren is looking for a victory which would mean they avoid a team that has played in the champions league in fridays third-round draw. \"\"to need a win to finish top is fantastic",
                  "3": "",
                  "4": "football"
                },
                {
                  "0": "562",
                  "1": "atheletics090.txt",
                  "2": "\"relay squad thrilled with honours  jason gardener says being made an mbe in the new year honours list underlines the achievement of great britains 4x100m relay squad at the olympics.  gardener, darren campbell, marlon devonish and mark lewis-francis have all been awarded mbes after beating pre-race favourites usa to gold. \"\"i think this award reinforces what we did on that fantastic night",
                  "3": "",
                  "4": "atheletics"
                },
                {
                  "0": "563",
                  "1": "football173.txt",
                  "2": "\"robertson out to retain euro lure  hearts manager john robertson hopes a place in the knock-out stages of the uefa cup could help keep some of his out-of-contract players at the club.  \"\"it could help. if we get through and have another european tie it may encourage players to stay at least until the end of the season",
                  "3": "",
                  "4": "football"
                },
                {
                  "0": "564",
                  "1": "tennis076.txt",
                  "2": "\"philippoussis doubt over open bid  mark philippoussis is almost certain to miss the australian open after suffering a groin injury during the hopman cup loss to the netherlands.  the 28-year-old suffered two tears to the adductor muscle and was unable to play in the deciding mixed doubles. he is now unlikely to be fit in time for the australian open which begins on 17 january in melbourne. \"\"he has to strengthen it enough to cope with repetitive days of tennis",
                  "3": "tennis",
                  "4": "tennis"
                },
                {
                  "0": "565",
                  "1": "football198.txt",
                  "2": "highbury will be our cup final  arsenal is a very special place for me because it is one of the few away games i remember going to when i was a boy.  i cant remember what the year was but i was so young i was in short trousers. my father worked for english steel corporation, he was a crane driver and worked 12-hour shifts. every year they had a trip to london and in this particular year they were going to london to watch arsenal play.  i remember him smuggling me on to the bus then into the imperial hotel, which i remember vividly, and then smuggling me over the turnstiles at highbury. i remember looking across at the massive clock which has gone now and it is a memory i will never forget. it was a marvellous game, the arsenal fans were absolutely brilliant and all the sheffield united fans mixed with them.  we lost 1-0 but our centre-half joe shaw was, for me, the best player in the world that day. on saturday my son, who at three-and-a-half-years is a similar age to what i was, is going to be on the pitch before the game, while my daughter is the mascot. i think it will have the same effect on him - i dont think you forget things like that. i think the next time i went to highbury was when i took a team there. when i was at notts county we went there in the top flight and lost 2-0, but i took huddersfield down there for the second leg of the league cup and got a draw. i think they expected to get a cricket score because they beat us 5-0 in the first leg. ian wright was in the team and george graham made one or two comments that made us pretty determined and had they not equalised late on we would have won that leg. they are a club i admire a lot. after we played arsenal in the semi-final in 2003 the number of letters and messages i got from arsenal fans regarding the behaviour of our fans and our team was quite outstanding and it just shows they are a great set of supporters. everybody will be making an issue of that game at old trafford. i felt personally hard done by. you dont mind getting beat but in this particular case i think everybody saw their goal - scored by freddie ljungberg - was a travesty and should not have been allowed. i got fined for comments i made about referee graham poll, though i would not take any of those back. but thats how it has gone for us. the higher you go means you have to have premier league referees and we have never really done very well with them. i would have liked a football league official but neale barry, who is an experienced referee, has been awarded the game and you have to get on with it. that said, i think we will need more than help from the referee on saturday after watching them demolish crystal palace on monday.  i turned it off after they scored three goals in about eight minutes and watched bambi with the kids. since i have watched the premiership there have been a number of players who i think have been absolutely out of this world and would have paid anything to watch. one was eric cantona and another was gianfranco zola, who i thought was absolutely fantastic. arsenal have two of those type of players. i still cannot believe some of dennis bergkamps touches. his movement, footballing brain and awareness - and at nearly 36 - is incredible. i dont think any adjective is good enough to describe thierry henry. for me he is the rolls royce of arsenal and the premiership itself. no doubt they will be thinking of resting a few players for their champions league game on tuesday, but i am doing the same for our championship game with plymouth! that is a far more important game for us. arsenal is like our cup final, i feel like we have already got to the final - we have earned the money we set out to earn for the club and now we can enjoy our day out. plymouth is the next big game for me and we have to be ready for that. whatever team arsenal play it is going to be a hell of a difficult task to get anything - we are just thinking about being respectable. after looking at palace the other night i think you will probably get odds of 100-1 for us to win - and thats in a two-horse race.  people ask me if we have done anything different in our preparations this week? we have...nothing! the players have been too exhausted after playing for almost an hour with 10 men on sunday that they have not been able to do anything. they have done stretches and warm downs but very little football because of tiredness. on thursday we will work on something but when it comes to dealing with bergkamp and henry i will probably say to my defenders just close your eyes and get your fingers crossed. when they are on their game there is not much you can do about them.",
                  "3": "cricket",
                  "4": "football"
                },
                {
                  "0": "566",
                  "1": "rugby091.txt",
                  "2": "\"hong kong in 2011 world cup bid  hong kong is hoping to join japan as co-host of the 2011 rugby world cup.  japan has applied to host the tournament on its own, with the aim of taking it outside rugbys traditional strongholds for the first time. but hong kong rugby football union (hkrfu) chairman john molloy has called for the territory to host one of the pools and a quarter-final. the japanese rugby football union (jrfu) says it has yet to receive a formal presentation from the hkrfu. \"\"at this stage",
                  "3": "rugby",
                  "4": "rugby"
                },
                {
                  "0": "567",
                  "1": "rugby085.txt",
                  "2": "\"a november to remember  last saturday, one newspaper proclaimed that england were still the number one side in the world.  that statement was made to look a little foolish by events later that afternoon at twickenham. but it illustrated the wonderful unpredictability of test rugby at the highest level, at the end of a richly entertaining autumn series. the final weekend threw the world pecking order into renewed confusion, with australias triumph in london followed by frances capitulation to new zealand. \"\"clearly",
                  "3": "rugby",
                  "4": "rugby"
                },
                {
                  "0": "568",
                  "1": "tennis062.txt",
                  "2": "\"roddick in talks over new coach  andy roddick is reportedly close to confirming us davis cup assistant dean goldfine as his new coach.  roddick ended his 18-month partnership with brad gilbert on monday, and goldfine admits talks have taken place. \"\"we had a really good conversation and were on the same page in terms of what i expect from a player in commitment and what he wants",
                  "3": "",
                  "4": "tennis"
                },
                {
                  "0": "569",
                  "1": "atheletics047.txt",
                  "2": "\"kenteris denies faking road crash  greek sprinter kostas kenteris has denied claims that he faked a motorbike crash to avoid a doping test days before the start of the olympics.  kenteris and fellow sprinter katerina thanou are set to learn if they will face criminal charges this week. part of the investigation has centred on whether they staged the crash. kenteris insisted: \"\"the accident happened. i went crazy when i found out i had supposedly missed a test and i wanted to rush to the olympic village.\"\" kenteris",
                  "3": "",
                  "4": "atheletics"
                },
                {
                  "0": "570",
                  "1": "atheletics053.txt",
                  "2": "\"gebrselassie in london triple bid  double olympic 10,000m champion haile gebrselassie will race in the london marathon for the next three years.  the ethiopian legend won sundays almeria half-marathon in spain on his return from an operation on his achilles tendon. he was third in london in 2002 in his first serious attempt at the marathon. \"\"it is a coup for us to secure hailes presence for the next three years and it guarantees a quality race",
                  "3": "",
                  "4": "atheletics"
                },
                {
                  "0": "571",
                  "1": "atheletics052.txt",
                  "2": "\"holmes starts 2005 with gb events  kelly holmes will start 2005 with a series of races in britain.  holmes will make her first track appearance on home soil since winning double olympic gold in januarys norwich union international in glasgow. she will also run in the grand prix in birmingham in february and may defend her indoor aaa 800m title in sheffield earlier that month. \"\"i am still competitive and still want to win",
                  "3": "",
                  "4": "atheletics"
                },
                {
                  "0": "572",
                  "1": "atheletics046.txt",
                  "2": "\"radcliffe eyes hard line on drugs  paula radcliffe has called for all athletes found guilty on drugs charges to be treated as criminals.  the marathon world record holder believes more needs to be done to rid athletics of the \"\"suspicions and innuendoes\"\" which greet any fast time. \"\"doping in sport is a criminal offence and should be treated as such",
                  "3": "atheletics",
                  "4": "atheletics"
                },
                {
                  "0": "573",
                  "1": "rugby084.txt",
                  "2": "\"johnson announces june retirement  former england captain martin johnson has announced he is to retire from rugby union at the end of the season.  johnson, who captained england to world cup glory in 2003, will play his final match in june. johnson won 84 england caps and quit test rugby at the start of 2004, just two months after leading sir clive woodwards team to victory in sydney. the 34-year-old leicester locks final match will be his testimonial at twickenham on 4 june. \"\"im confident i have made the right decision to retire",
                  "3": "rugby",
                  "4": "rugby"
                },
                {
                  "0": "574",
                  "1": "tennis063.txt",
                  "2": "\"hewitt survives nalbandian epic  home favourite lleyton hewitt came through a dramatic five-set battle with argentine david nalbandian to reach the australian open semi-finals.  hewitt looked to be cruising to victory after racing into a two-set lead. but nalbandian broke his serve three times in both of the next two sets to set up a nailbiting decider. hewitt eventually grabbed the vital break in the 17th game and served out to win 6-3 6-2 1-6 3-6 10-8 and set up a meeting with andy roddick. the winner of that match will face either roger federer or marat safin in the final. ninth seed nalbandian had never come back from two sets down to win a match, and there was no indication he would do so as hewitt dominated the first two sets.  the argentine had stoked up the temperature ahead of the match by saying hewitts exuberant on-court celebrations were \"\"not very good for the sport\"\". and he had words with hewitt during one change of ends in the second set when the australian appeared to brush shoulders with him as they went to their chairs. the balance of power changed completely in the third set as hewitt allowed his level to dip",
                  "3": "",
                  "4": "tennis"
                },
                {
                  "0": "575",
                  "1": "tennis077.txt",
                  "2": "\"slovakia reach hopman cup final  slovakia will play argentina in the final of the hopman cup after beating group b rivals the netherlands 3-0.  daniela hantuchova defeated michaella krajicek 6-4 6-2 to give the slovaks the perfect start before dutchman peter wessels retired against dominik hrbaty. wessels was unable to compete in the mixed doubles but slovakia had already booked their place in the final for the second year running. argentina claimed top spot in group a with three wins from three matches. in the other group b match, the united states defeated australia 2-1.  meghann shaughnessy lost the opening match against alicia molik but james blake levelled the tie with a 6-3 6-4 win over paul baccanello, who came in as a replacement for the injured mark philippoussis. blake and shaughnessy then beat molik and baccanello in a tense mixed doubles contest to take the win. hantuchova, who did not win a hopman cup singles match in 2004, has been in good form during this years event and has won two of her three matches. \"\"i feel like its really deserved this time as ive helped dominik to get through",
                  "3": "",
                  "4": "tennis"
                },
                {
                  "0": "576",
                  "1": "rugby090.txt",
                  "2": "\"wilkinson to lead england  fly-half jonny wilkinson has been named as englands new rugby union captain for the three november tests.  the 25-year-old newcastle star takes over from lawrence dallaglio, who retired from internationals in august. englands acting head coach andy robinson said: \"\"he is a natural leader",
                  "3": "rugby",
                  "4": "rugby"
                },
                {
                  "0": "577",
                  "1": "football199.txt",
                  "2": "\"beckham defends form for england  england captain david beckham insists he is not concerned by criticism of his displays for club and country.  \"\"as long as im happy with my form for real madrid and england",
                  "3": "",
                  "4": "football"
                },
                {
                  "0": "578",
                  "1": "football172.txt",
                  "2": "\"benitez to launch morientes bid  liverpool may launch an £8m january bid for long-time target fernando morientes, according to reports.  the real madrid striker has been linked with a move to anfield since the summer and is currently behind raul, ronaldo and michael owen at the bernabeu. liverpool boss rafael benitez is keen to bolster his forward options with djibril cisse out until next season. \"\"if there is an attractive propostition it could be i would be keen to leave",
                  "3": "",
                  "4": "football"
                },
                {
                  "0": "579",
                  "1": "atheletics091.txt",
                  "2": "balco case trial date pushed back  the trial date for the bay area laboratory cooperative (balco) steroid distribution case has been postponed.  us judge susan illston pushed back a preliminary evidentiary hearing - which was due to take place on wednesday - until 6 june. no official trial date has been set but it is expected to begin in september. balco founder victor conte along with james valente, coach remy korchemny and trainer greg anderson are charged with distributing steroids to athletes.  andersons clients include barry bonds, and several other baseball stars have been asked to appear before a congressional inquiry into steroid use in the major leagues. the balco defence team have already lost their appeal to have the case dismissed at a pre-trial hearing in san francisco but will still argue the case should not go to trial. the hearing in june will focus on the admissibility of evidence gathered during police raids on balcos offices and andersons home. conte and anderson were not arrested at that point but federal agents did obtain statements from them. the defence are expected to challenge the legality of those interviews and if ilston agrees she could could reject all the evidence from the raids. balco has been accused by the united states anti-doping agency (usada) of being the source of the banned steroid thg and modafinil.  former double world champion kelli white and olympic relay star alvin harrison have both been banned on the basis of materials discovered during the balco investigation. britains former european 100m champion dwain chambers is currently serving a two-year ban after testing positive for thg in an out-of-competition test in 2003. and american sprinter marion jones has filed a lawsuit for defamation against conte following his allegations that he gave her performance-enhancing drugs.",
                  "3": "",
                  "4": "atheletics"
                },
                {
                  "0": "580",
                  "1": "tennis088.txt",
                  "2": "\"almagro continues spanish surge  unseeded nicolas almagro became the fifth spaniard to reach the last eight at the buenos aires open, ousting eighth seed mariano zabaleta.  he showed admirable resolve to win a rain-affected match 6-7 6-4 6-4. compatriot and seventh seed rafael nadal also reached the last eight, beating italian potito starace 6-1 6-3. nadal, playing in the outdoor clay event for the first time, hit some powerful forehands to oust starace in a match delayed over an hour by rain. \"\"its always a problem to have to stop for rain but one gets used to it",
                  "3": "",
                  "4": "tennis"
                },
                {
                  "0": "581",
                  "1": "football166.txt",
                  "2": "\"bellamy fined after row  newcastle have fined their welsh striker craig bellamy two weeks wages - about £80,000 - following his row with manager graeme souness.  but bellamy, 25, has not been put on the transfer list, although he did not train with the first team on tuesday. magpies chairman freddy shepherd told the newcastle evening chronicle: \"\"it is not about money. it is about a player thinking he is bigger than this club. \"\"no individual is",
                  "3": "",
                  "4": "football"
                },
                {
                  "0": "582",
                  "1": "atheletics085.txt",
                  "2": "\"tulu to appear at caledonian run  two-time olympic 10,000 metres champion derartu tulu has confirmed she will take part in the bupa great caledonian run in edinburgh on 8 may.  the 32-year-old ethiopian is the first star name to enter the event. tulu has won the boston, london and tokyo marathons, as well as the world 10,000m title in 2001. \"\"we are delighted to have secured the services of one the most decorated competitors the sport has ever seen",
                  "3": "",
                  "4": "atheletics"
                },
                {
                  "0": "583",
                  "1": "rugby047.txt",
                  "2": "\"campese berates whingeing england  former australian wing david campese has told england to stop whingeing in the wake of their defeat to ireland.  england coach andy robinson lambasted referee jonathan kaplan for costing them the game after disallowing tries from mark cueto and josh lewsey. but campese told bbc sport: \"\"robinson is living up to englands reputation as whingeing poms. \"\"stop going on about it as who really cares? theyre acting like theyre the first team to be cheated of a win.\"\"  england are contemplating a complaint to the international rugby board after potential \"\"tries\"\" by cueto in the first half and lewsey late on were ruled out without recourse to the video referee. but campese added: \"\"scotland could have beaten france in the same way",
                  "3": "rugby",
                  "4": "rugby"
                },
                {
                  "0": "584",
                  "1": "rugby053.txt",
                  "2": "\"corry backs skipper robinson  england forward martin corry says jason robinson is the right man to lead the national team back to winning ways.  after losses to wales and france, critics have started to wonder whether robinson can captain from full-back. but corry has backed robinson, who was given the role after the injury to fly-half jonny wilkinson, ahead of this weekends trip to ireland. \"\"jason is doing a tremendous job. every week my respect for him goes up",
                  "3": "",
                  "4": "rugby"
                },
                {
                  "0": "585",
                  "1": "cricket089.txt",
                  "2": "\"england pondering line-up  first one-day international, johannesburg south africa v england  play starts sunday, 0800 gmt  ian bell, kevin pietersen and kabir ali all performed so well in the warm-up win over south africa a as to give captain michael vaughan some dilemmas. vaughan admired pietersens 97 off 84 balls on thursday. he said: \"\"the players are still talking about his innings so it must have been special. \"\"you certainly want any guy who can clear the ropes in your team.\"\" vaughan",
                  "3": "",
                  "4": "cricket"
                },
                {
                  "0": "586",
                  "1": "cricket062.txt",
                  "2": "australia unchanged for pakistan  australia have named an unchanged squad for the first test against pakistan in perth next friday.  matthew hayden missed the third one-day international against new zealand with a hamstring strain but selectors decided not to name a standby player. paceman brett lee is the 12th man but could be brought into the first team for next weeks contest. lee has been 12th man in the last three tests but has impressed in the new zealand one-day series. australia will enter the pakistan game full of confidence after beating new zealand 2-0 in their recent test series.  ricky ponting (captain), adam gilchrist, justin langer, matthew hayden, damien martyn, darren lehmann, michael clarke, shane warne, jason gillespie, michael kasprowicz, glenn mcgrath, brett lee.",
                  "3": "",
                  "4": "cricket"
                },
                {
                  "0": "587",
                  "1": "cricket076.txt",
                  "2": "\"england could win ashes  former england stalwart alec stewart believes michael vaughans team is capable of beating australia next year.  england last held the ashes in 1987 but have won eight tests in a row in the past year and stewart said: \"\"theyre going from strength to strength. \"\"weve got to remember that australia are the best side",
                  "3": "",
                  "4": "cricket"
                },
                {
                  "0": "588",
                  "1": "cricket116.txt",
                  "2": "\"scotland closing in on new coach  scotland cricket officials have announced that the teams new coach will be named later this month.  recent press reports indicated that an original short-list of four had been reduced to two. andy moles, currently the kenya coach, and south african peter kirsten are thought to be still in the running. but cricket scotland spokesman roddy smith declined to name names. \"\"its unfair as people are under contract to other people",
                  "3": "cricket",
                  "4": "cricket"
                },
                {
                  "0": "589",
                  "1": "football204.txt",
                  "2": "\"barwick calls for highbury calm  new football association chief brian barwick pleaded with arsenal and manchester united to show calm ahead of their highbury showdown.  \"\"when these two great teams meet it should represent all that is good about our domestic game",
                  "3": "football",
                  "4": "football"
                },
                {
                  "0": "590",
                  "1": "football210.txt",
                  "2": "\"moyes u-turn on beattie dismissal  everton manager david moyes will discipline striker james beattie after all for his headbutt on chelsea defender william gallas.  the scot initially defended beattie, whose dismissal put everton on the back foot in a game they ultimately lost 1-0, saying gallas overreacted. but he has had a rethink after looking over the video evidence again. he said: \"\"i believe that i should set the record straight by conceding that the dismissal was right and correct.\"\" moyes added: \"\"my comments on saturday came immediately after the final whistle and at a point when i had only had the opportunity to see one",
                  "3": "",
                  "4": "football"
                },
                {
                  "0": "591",
                  "1": "cricket102.txt",
                  "2": "\"icc relaxes bowling regulations  the international cricket council (icc) has agreed to relax its rules on bowling actions in a bid to defuse one of the most divisive issues in cricket.  bowlers will be allowed to straighten their arms by up to 15 degrees - the amount visible to the naked eye. but any bowler found to have an illegal action will be suspended immediately, shortening the current review process. \"\"this new process gives the game a sensible way forward",
                  "3": "cricket",
                  "4": "cricket"
                },
                {
                  "0": "592",
                  "1": "football238.txt",
                  "2": "tapping-up row is so much hot air  the big talking point of the week is the issue of making illegal approaches or tapping up a player.  as usual, the issue is probably blown out of proportion, but i dont think anyone in football will deny there is a problem with the rules as they apply to recruiting players. i read somewhere at the weekend that they did a straw poll and questioned every player at a particular club as to how he got there. just about every one said the first approach was through their agent, or a third party or somebody involved with the club.  on that basis, under the rules as they stand, they all got there illegally. thats the name of the game these days, im afraid. not that i have ever tapped a player up - i wouldnt dream of it! i know there is a school of thought that says the rules that apply in football just wouldnt be tolerated in the outside business world. in business, if you want to change jobs, you can simply go and have a chat with another prospective employer. but in football youre not allowed to do that. football does have strange anomalies. for example, the game has a disciplinary procedure where there is no evidence but you can still find yourself in trouble. its the sort of thing that wouldnt happen in a court of law.  compared to the outside world, football does have some very restrictive practices, and a lot of them have to be looked at, but if you want to be part of it, you have to adhere to the rules. you try and do things the right way, but its like buying a house. if you do things properly and play by the rules youll find yourself gazumped. but i dont think the tapping situation is as bad as people say, a lot of it is hot air. by its very nature, the only people who would be approached are the top players who are in demand anyway. i dont think you would find too many approaches being made to bad players. the championship is building up to an exciting climax, and in beating us 2-0 last week, ipswich gave signs of what a good team they are. i think a place in the top two is beyond our reach, but any one of 11 teams could make the play-offs and there are still 15 games to go.  of course the play-offs are exciting for fans, but theyre not great for the heart-rates of managers. i think ive been involved in five play-off finals now and they should really come with a government health warning. ideally, you wouldnt want to be involved in the play-offs, and the way to do that is to finish in the top two, but i think that is beyond us now. weve got a decent run-in, were still trying to strengthen the squad and by the time the next league game comes round i would hope weve got somebody in.  but that brings me on to another matter, and the fact that the next game is more than a week away because of international matches. youre always concerned about your players getting injured and some clubs withdraw their players more than others. i always try and let our players go out for international games - it keeps them happy. but the other thorny issue with internationals is that of wages. i think that while players are on international duty, their wages should be paid by their countries. sometimes, they can be away for a week or more, but the clubs still have to find their wages, even though the player is denied to them for that period of time. of course, if a player is injured while on international duty, its the clubs who have to pay his wages while hes out of action and recovering. i think the associations of the country involved should bear some share of the responsibility.",
                  "3": "football",
                  "4": "football"
                },
                {
                  "0": "593",
                  "1": "football006.txt",
                  "2": "\"mido makes third apology  ahmed mido hossam has made another apology to the egyptian people in an attempt to rejoin the national team.  the 21-year-old told a news conference in cairo on sunday that he is sorry for the problems that have led to his exclusion from the pharaohs since july last year. mido said: \"\"there isnt much i have to say today",
                  "3": "",
                  "4": "football"
                },
                {
                  "0": "594",
                  "1": "football012.txt",
                  "2": "\"middlesbrough 2-2 charlton  a late header by teenager danny graham earned middlesbrough a battling draw with charlton at the riverside.  matt holland had put the visitors ahead in the 14th minute after his shot took a deflection off franck queudrue. but middlesbrough peppered the charlton goal after the break and chris riggott stroked home the equaliser. shaun bartletts strike put charlton back in front but that lead lasted just six minutes before graham rushed onto queudrues pass to head home. the match burst to life from the whistle and charlton defender hermann hreidarsson had sight of an open goal after just six minutes. hreidarsson received danny murphys free-kick from the right but he crashed his free header wide of the far post. the iceland international looked such a danger the boro bench could be heard issuing frantic instructions to mark him.  charltons early pressure paid off when bartlett received a long ball from talal el karkouri in the box and laid it off to holland who buried his right-footed strike. szilard nemeth, recalled in place of joseph-desire job, was twice denied his chance to get middlesbrough back on level terms by dean kiely. the striker played a great one-two with jimmy floyd hasselbaink only to see kiely get down well to smother his shot before directing a header straight into the keepers arms. boro had plenty of time on the ball but the addicks comfortably mopped up the pressure - with kiely tipping a hasselbaink header over the bar - to take their lead into half-time.  it was all one-way traffic after the break at the riverside as middlesbrough poured forward and kiely even saved hreidarssons blushes when he palmed the ball away to prevent a charlton own goal. but the addicks keeper could do nothing about riggotts equaliser in the 74th minute. the boro defender looked suspiciously offside as he got on the end of gareth southgates misdirected effort, but despite the charlton protests his goal stood. the addicks did not let their heads drop and bartlett left the boro defence standing, picking up hreidarssons cross to easily sink his right-footed strike. but substitute graham was on hand to grab a share of the points for the home side. the 19-year-old striker nodding home the equaliser - and his first premiership goal - with five minutes left on the clock.  \"\"i felt we did enough to win the game even though the first half was lacklustre. \"\"we dominated after the break",
                  "3": "",
                  "4": "football"
                },
                {
                  "0": "595",
                  "1": "rugby133.txt",
                  "2": "\"fuming robinson blasts officials  england coach andy robinson said he was \"\"livid\"\" after his side were denied two tries in sundays 19-13 six nations loss to ireland in dublin.  mark cuetos first-half effort was ruled out for offside before the referee spurned tv replays when england crashed over in the dying minutes. \"\"[im] absolutely spitting. im livid. theres two tries weve been cost",
                  "3": "",
                  "4": "rugby"
                },
                {
                  "0": "596",
                  "1": "rugby127.txt",
                  "2": "\"england given tough sevens draw  england will have to negotiate their way through a tough draw if they are to win the rugby world cup sevens in hong kong next month.  the second seeds have been drawn against samoa, france, italy, georgia and chinese taipei. the top two sides in each pool qualify but england could face 2001 winners new zealand in the quarter-finals if they stumble against samoa. scotland and ireland are in pool a together with the all blacks. england won the first event of the international rugby board world sevens series in dubai but have slipped to fourth in the table after failing to build on that victory.  however, they beat samoa in the recent los angeles sevens before losing to argentina in the semi-finals. \"\"england have the ability and determination to win this world cup and create sporting history by being the only nation to hold both the 15s and sevens world cups at the same time",
                  "3": "rugby",
                  "4": "rugby"
                },
                {
                  "0": "597",
                  "1": "football075.txt",
                  "2": "\"fa decides not to punish mourinho  the football association will take no action against chelsea boss jose mourinho following his sending-off in sundays carling cup final.  mourinho, who was sent from the touchline for appearing to taunt liverpool fans, has been \"\"reminded of his responsibilities to the game\"\". but the fa confirmed: \"\"there will be no further action taken in this matter.\"\" mourinho claimed his silence gesture was aimed at the media",
                  "3": "football",
                  "4": "football"
                },
                {
                  "0": "598",
                  "1": "football061.txt",
                  "2": "\"benitez joy as reds take control  liverpool boss rafael benitez was satisfied after his teams 3-1 win over bayer leverkusen despite conceding a goal in the last minute.  \"\"before the game if you had said the score will be 3-1 i would have happily accepted that",
                  "3": "",
                  "4": "football"
                },
                {
                  "0": "599",
                  "1": "football049.txt",
                  "2": "\"wenger handed summer war chest  arsenal boss arsene wenger has been guaranteed transfer funds to boost his squad the summer.  the clubs managing director, keith edelman, stressed that the development of their new £350m stadium had no affect on wengers spending power. \"\"the money is there. dont worry weve got it",
                  "3": "",
                  "4": "football"
                },
                {
                  "0": "600",
                  "1": "rugby140.txt",
                  "2": "\"llewellyn plans wales retirement  wales record cap holder gareth llewellyn will retire from test rugby at the end of the six nations.  the veteran lock, who is 36 at the end of february, told bbc wales scrum v that it is time for him to bring down the curtain on his 92-cap wales career. llewellyn is on a one-season deal with french club side narbonne, but said he may consider retiring from all rugby. \"\"i dont know what ill do next year",
                  "3": "rugby",
                  "4": "rugby"
                },
                {
                  "0": "601",
                  "1": "football263.txt",
                  "2": "\"keane defiant over vieira bust-up  manchester united captain roy keane has insisted that he does not regret his tunnel bust-up with arsenals patrick vieira - and would do the same again.  keane clashed with midfield rival vieira before uniteds 4-2 win in the fiery match at highbury on 1 february. the irishman stepped in to protect united defender gary neville, who rowed with vieira before the match. \"\"id had enough of vieiras behaviour and i would do what i did again tomorrow if i had to",
                  "3": "",
                  "4": "football"
                },
                {
                  "0": "602",
                  "1": "cricket011.txt",
                  "2": "\"tendulkar eyes test return  star batsman sachin tendulkar is hopeful he will be fit for indias home series against pakistan next month.  the 31-year-old is poised to make his return from a long-term elbow injury on tuesday in a domestic four-day match. \"\"im here to prepare myself in a particular way",
                  "3": "",
                  "4": "cricket"
                },
                {
                  "0": "603",
                  "1": "cricket005.txt",
                  "2": "\"russell to instruct keeper jones  former england and gloucestershire wicket-keeper jack russell has been called in to give coaching to current national team gloveman geraint jones.  jones did not have the best of tours in south africa, dropping catches and conceding too many byes. now england coach duncan fletcher has sought out the 54-test veteran. russell told the daily express: \"\"duncan and captain michael vaughan have asked me to build a relationship with geraint and give him whatever help he needs.\"\" the pair have already worked closely but russell will be heavily involved as the countdown to the ashes begins. he said: \"\"geraint has got the ability to play 100 tests for england. he has the right attitude.  \"\"people have to remember he is still quite raw. there are some things we need to work out but its just a case of smoothing out a few rough edges. \"\"in terms of winning the ashes",
                  "3": "",
                  "4": "cricket"
                },
                {
                  "0": "604",
                  "1": "cricket039.txt",
                  "2": "\"bashar delighted after series win  bangladesh skipper habibul bashar was thrilled after the win in the decider against zimbabwe gave his country their first-ever one-day series triumph.  \"\"yes",
                  "3": "",
                  "4": "cricket"
                },
                {
                  "0": "605",
                  "1": "rugby008.txt",
                  "2": "\"thomas out of six nations  wales captain gareth thomas has been ruled out of the rest of the six nations with a broken thumb.  the full-back will have surgery on monday after fracturing his thumb in the 24-18 win over france on saturday. but welsh legend phil bennett insisted wales can cope without thomas as they chase a first grand slam in 27 years. bennett told bbc sport: \"\"such is the spirit in the camp",
                  "3": "",
                  "4": "rugby"
                },
                {
                  "0": "606",
                  "1": "football101.txt",
                  "2": "\"juninho demand for oneill talks  juninhos agent has confirmed that the player is hoping for talks with martin oneill as the brazilian midfielder comes closer to departing celtic.  brian hassell says no official approach has been received from manchester city but that the english club had been earmarked as a possible destination. but it was being stressed to bbc sport that juninho would prefer to remain with the scottish champions. juninho wants assurances that he will return to oneills first-team plans. he has become frustrated with his lack of first-team action since his move from middlesbrough in the summer. hassel says juninho, who has just bought a new home, would \"\"desperately like to stay at celtic\"\" but will seek a move if it is made clear that he is not wanted.  the agent also stressed that nothing should be read into the 30-year-olds father being in scotland and talk of a move back to botafogo in brazil. juninhos father was simply in the country to see his son and grandchildren. \"\"i know there is interest from a brazilian club",
                  "3": "",
                  "4": "football"
                },
                {
                  "0": "607",
                  "1": "football115.txt",
                  "2": "\"gallas sees two-horse race  chelseas william gallas believes they will battle it out with arsenal for the premiership in the coming months.  \"\"itll be a two-horse race all the way to the end of the season because we are both going to give it everything",
                  "3": "",
                  "4": "football"
                },
                {
                  "0": "608",
                  "1": "rugby034.txt",
                  "2": "\"munster cup tie switched to spain  munsters heineken cup quarter-final tie against biarritz on 3 april has been switched to real sociedads paseo de anoeta stadium in san sebastian.  reals ground holds 32,000 whereas the parc des sports aguilera in biarritz has a capacity of just 12,667. the irish province will be given at least 8,000 tickets. \"\"the decision to move was a difficult one",
                  "3": "",
                  "4": "rugby"
                },
                {
                  "0": "609",
                  "1": "rugby020.txt",
                  "2": "\"jones happy with henson heroics  wales fly-half stephen jones admitted he was happy to hand gavin henson responsibility for taking the match-winning kick against england.  jones had missed three earlier shots at goal when wales, 9-8 down, were awarded a long-range penalty with four minutes left in cardiff. \"\"i knew the percentages of gavin reaching it were far higher than me",
                  "3": "",
                  "4": "rugby"
                },
                {
                  "0": "610",
                  "1": "football129.txt",
                  "2": "\"benitez delight after crucial win  liverpool manager rafael benitez admitted victory against deportivo la coruna was vital in their tight champions league group.  jorge andrades early own goal gave liverpool a 1-0 win. and benitez said: \"\"we started at a very high tempo and had many chances. it is a very important win for us and we could have scored more goals. \"\"we were very good defensively and also good on the counter attack. we are pleased but move on to the next game.\"\" igor biscan was outstanding in midfield after replacing injured xabi alonso",
                  "3": "",
                  "4": "football"
                },
                {
                  "0": "611",
                  "1": "atheletics021.txt",
                  "2": "\"chepkemei hit by big ban  kenyas athletics body has suspended two-time london marathon runner-up susan chepkemei from all competition until the end of the year.  athletics kenya (ak) issued the ban after chepkemei failed to turn up for a cross country training camp in embu. \"\"we have banned her from all local and international competitions",
                  "3": "atheletics",
                  "4": "atheletics"
                },
                {
                  "0": "612",
                  "1": "atheletics035.txt",
                  "2": "\"collins banned in landmark case  sprinter michelle collins has received an eight-year ban for doping offences after a hearing at the north american court of arbitration for sport (cas).  americas former world indoor 200m champion is the first athlete to be suspended without a positive drugs test or an admission of drugs use. collins ban is a result of her connection to the federal inquiry into the balco doping scandal. the 33-year-old was found guilty of using performance-enhancing drugs. the us anti-doping agency (usada) decided to press charges against collins in the summer. the sprinter has consistently protested her innocence but the cas has upheld usadas findings. \"\"the usada has proved",
                  "3": "",
                  "4": "atheletics"
                },
                {
                  "0": "613",
                  "1": "tennis038.txt",
                  "2": "\"hewitt falls to dent in adelaide  lleyton hewitt suffered a shock defeat to taylor dent in the quarter-finals of the australian hardcourt championships in adelaide on friday.  the top seed was a strong favourite for the title but went down 7-6 (7-4) 6-3 to the american. dent will face juan ignacio chela next after the fourth seed was too strong for jurgen melzer. olivier rochus beat third seed nicolas kiefer 6-7 (4-7) 7-6 (8-6) 7-5 and will take on second seed joachim johansson. the swede reached the last four by beating compatriot thomas enqvist 6-3 4-6 6-1. \"\"i felt like i was striking the ball much better",
                  "3": "",
                  "4": "tennis"
                },
                {
                  "0": "614",
                  "1": "tennis010.txt",
                  "2": "\"hantuchova in dubai last eight  daniela hantuchova moved into the quarter-finals of the dubai open, after beating elene likhotseva of russia 7-5 6-4, and now faces serena williams.  australian open champion williams survived an early scare to beat russias elena bovina 1-6 6-1 6-4. world number one lindsay davenport and anastasia myskina also progressed. davenport defeated chinas jie zheng 6-2 7-5, while french open champion myskina sailed through after her opponent marion bartoli retired hurt. american davenport will now face fellow former wimbledon champion, conchita martinez of spain, who ousted seventh-seeded nathalie dechy of france 6-1 6-2. myskina will face eighth-seed patty schnyder from switzerland, who defeated chinas li na 6-3 7-6 (10-8). the other quarter final pits wild card sania mirza of india against jelena jankovic of serbia and montenegro, who both won on tuesday.  before her meeting with martinez, davenport believes there is some room for improvement in her game. \"\"i started well and finished well",
                  "3": "",
                  "4": "tennis"
                },
                {
                  "0": "615",
                  "1": "atheletics009.txt",
                  "2": "\"off-colour gardener storms to win  britains jason gardener shook off an upset stomach to win the 60m at sundays leipzig international meeting.  gardener clocked 6.56 seconds to equal the meeting record and finished well ahead of germanys marc blume, who crossed the line in 6.67 secs. the world indoor champion said: \"\"i got to the airport and my stomach was upset and i was vomiting. i almost went home. \"\"i felt a little better sunday morning but decided id only run in the main race. then everything went perfectly.\"\" gardener",
                  "3": "",
                  "4": "atheletics"
                },
                {
                  "0": "616",
                  "1": "tennis004.txt",
                  "2": "\"roddick into san jose final  andy roddick will play cyril saulnier in the final of the sap open in san jose on sunday.  the american top seed and defending champion overcame germanys tommy haas, the third seed, 7-6 (7-3) 6-3. and saulnier survived an injury scare in his semi-final with seventh-seeded austrian jurgen melzer. the frenchman twisted his ankle early in the second set but overcame melzer, who was left fuming over a series of line calls, 6-7 (3-7) 6-3 6-3. \"\"i was feeling horrible earlier in the week",
                  "3": "",
                  "4": "tennis"
                },
                {
                  "0": "617",
                  "1": "atheletics008.txt",
                  "2": "\"hansen delays return until 2006  british triple jumper ashia hansen has ruled out a comeback this year after a setback in her recovery from a bad knee injury, according to reports.  hansen, the commonwealth and european champion, has been sidelined since the european cup in poland in june 2004. it was hoped she would be able to return this summer, but the wound from the injury has been very slow to heal. her coach aston moore told the times: \"\"were not looking at any sooner than 2006",
                  "3": "",
                  "4": "atheletics"
                },
                {
                  "0": "618",
                  "1": "tennis005.txt",
                  "2": "\"federer claims dubai crown  world number one roger federer added the dubai championship trophy to his long list of successes - but not before he was given a test by ivan ljubicic.  top seed federer looked to be on course for a easy victory when he thumped the eighth seed 6-1 in the first set. but ljubicic, who beat tim henman in the last eight, dug deep to secure the second set after a tense tiebreak. swiss star federer was not about to lose his cool, though, turning on the style to win the deciding set 6-3. the match was a re-run of last weeks final at the world indoor tournament in rotterdam, where federer triumphed, but not until ljubicic had stretched him for five sets. \"\"i really wanted to get off to a good start this time",
                  "3": "",
                  "4": "tennis"
                },
                {
                  "0": "619",
                  "1": "tennis011.txt",
                  "2": "\"parmar ruled out of davis cup tie  a knee injury has forced arvind parmar out of great britains davis cup tie in israel and left alex bogdanovic in line to take the second singles place.  parmar picked up the injury last week and has failed to recover in time for the europe/africa zone i tie, which begins in tel aviv on friday. bogdanovic looks set to take the second singles place alongside greg rusedski. gb captain jeremy bates could use 17-year-old andrew murray and david sherwood in the doubles rubber. bogdanovic and murray both pulled out of tournaments last week through injury but are expected to be fit. jamie delgado and lee childs have been called into the squad in tel aviv as designated hitters for team practice but bates has no plans to call either of them into his squad at present.  the unheralded sherwood was the surprise inclusion when the squad was announced last week, and bates said: \"\"david has earned his place in this squad on the merit of his form and results over the last 12 months.\"\" the 6ft 4in sherwood is ranked 264th in the world and the lta have high hopes for him after futures tournament wins in wrexham and edinburgh.  the sheffield-born right-hander",
                  "3": "",
                  "4": "tennis"
                },
                {
                  "0": "620",
                  "1": "atheletics034.txt",
                  "2": "\"athens memories soar above lows  well, its goodbye to another olympic year and as usual there were plenty of highs and lows in athens.  obviously, theres no getting away from the differing fortunes of kelly holmes and paula radcliffe. but i want to remind you of a few more events that made 2004 another year to remember - or forget - for athletics.      one of my favourite olympic moments was kellys success in the 800m.  winning that race was the key to her success because if she won that then the 1500m would be a bit of a formality. kelly had been full of \"\"should i",
                  "3": "atheletics",
                  "4": "atheletics"
                },
                {
                  "0": "621",
                  "1": "tennis039.txt",
                  "2": "\"federer breezes into semi-finals  roger federer reached the last four of the qatar open with an easy 6-1 6-2 win over seventh seed feliciano lopez.  the swiss world number one reeled off a series winners to outclass the spaniard and set up a semi-final match against russian nikolay davydenko. federer, who lost in the quarter-final in his last qatar appearance in 2003, was happy with his form. \"\"i think i played better than against greg rusedski and i am happy i am playing so well",
                  "3": "",
                  "4": "tennis"
                },
                {
                  "0": "622",
                  "1": "atheletics020.txt",
                  "2": "\"edwards tips idowu for euro gold  world outdoor triple jump record holder and bbc pundit jonathan edwards believes phillips idowu can take gold at the european indoor championships.  idowu landed 17.30m at the british trials in sheffield last month to lead the world triple jump rankings. \"\"its all down to him",
                  "3": "",
                  "4": "atheletics"
                },
                {
                  "0": "623",
                  "1": "football128.txt",
                  "2": "\"mcclaren hails boros uefa spirit  middlesbrough boss steve mcclaren has praised the way his side have got to grips with european football after the 2-0 uefa cup win against lazio.  boro, who are playing in europe for the first time in their 128-year history, are top of group e with maximum points. \"\"i think we have taken to europe really well",
                  "3": "football",
                  "4": "football"
                },
                {
                  "0": "624",
                  "1": "rugby021.txt",
                  "2": "\"double injury blow strikes wales  wales centre sonny parker and number eight ryan jones will miss saturdays game with italy because of injury.  parker has not recovered from a trapped nerve in his neck that kept him out of the win over england, and tom shanklin is expected to continue at centre. jones damaged his collar bone after coming on as a replacement against england and joins flanker colin charvis (foot injury) on the sidelines. meanwhile, mike ruddock may make gavin henson his first-choice kicker in rome. the centre was wales hero in the 11-9 six nations win over england, landing a huge late penalty from wide out to clinch the game. first-choice kicker stephen jones handed over responsibility because of hensons greater kicking range, but the fly-half had already missed a number of shots at goal. \"\"our first aim was to get gavin settled into the team",
                  "3": "",
                  "4": "rugby"
                },
                {
                  "0": "625",
                  "1": "rugby035.txt",
                  "2": "\"williams says he will never quit  defiant matt williams says he will not quit as scotland coach even if his side slump to a new low with defeat by italy at murrayfield.  that would leave the scots as favourites to win the wooden spoon for the second year running. \"\"i have never quit anything in my life",
                  "3": "",
                  "4": "rugby"
                },
                {
                  "0": "626",
                  "1": "football114.txt",
                  "2": "\"souness backs smith for scotland  graeme souness believes walter smith would be the perfect choice to succeed berti vogts as scotland manager.  sounesss former assistant at rangers is hot favourite to take over from vogts, who resigned on monday. \"\"walter is most definitely the ideal candidate for that job. hed be perfect for it",
                  "3": "",
                  "4": "football"
                },
                {
                  "0": "627",
                  "1": "football100.txt",
                  "2": "\"klinsmann issues lehmann warning  germany coach jurgen klinsmann has warned goalkeeper jens lehmann he may have to quit arsenal to keep his world cup dreams alive.  lehmann is understudy to oliver kahn in the german squad, but has lost his place to manuel alumnia at highbury. klinsmann said: \"\"it will be difficult for any of our players if he is not a first-choice at his club. \"\"if jens is not arsenals number one keeper",
                  "3": "",
                  "4": "football"
                },
                {
                  "0": "628",
                  "1": "rugby009.txt",
                  "2": "\"wales coach elated with win  mike ruddock paid tribute to his wales side after they came from 15-6 down to beat france 24-18 in the six nations.  \"\"after going two tries down in 12 minutes we had to show character",
                  "3": "",
                  "4": "rugby"
                },
                {
                  "0": "629",
                  "1": "cricket038.txt",
                  "2": "\"lara injury worry for west indies  vb series, perth, match nine: west indies v pakistan  play starts friday 0315 gmt  lara is expected to play in perth despite a wrist injury, with the winners taking on hosts australia. pedro collins (thigh strain) and ramnesh sarwan (bruised elbow) are also injury concerns for the windies. pakistan are without leading bastman younis khan, who has flown home following the death of his father. their skipper inzamam-ul-haq believes the three-wicket victory over australia in perth on sunday will give his side the upper hand. he said: \"\"definitely we have the advantage because we have played one test match and played in perth for 15 or 16 days before that. \"\"this track is totally different and west indies are playing for the first time here. \"\"this win has definitely helped us for the coming games. hopefully we will play the final and we will win",
                  "3": "",
                  "4": "cricket"
                },
                {
                  "0": "630",
                  "1": "cricket004.txt",
                  "2": "\"pakistan on revenge mission  pakistans cricketers depart for delhi on monday with captain inzamam-ul-haq beseeching his side to make up for the 2004 defeat to india on home soil.  india outplayed pakistan 12 months ago, beating them 2-1 in the tests and 3-2 in the one-day internationals. inzamam said ahead of pakistans first full tour of india for six years: \"\"we want to make amends for last year. \"\"the australian tour was a big learning experience and i think we are in a position to reap benefits in india.\"\" series between india and pakistan are always eagerly awaited",
                  "3": "",
                  "4": "cricket"
                },
                {
                  "0": "631",
                  "1": "cricket010.txt",
                  "2": "\"tuffey pays price for profligacy  new zealand have dropped seam bowler daryl tuffey following his woeful display in the third one-day international against australia.  tuffey sent down four no-balls and four wides in a 14-ball opening over and went for 25 runs off two overs before he was removed from the attack. new zealand lost by 86 runs as australia wrapped up the series with two matches remaining. lance hamilton replaces tuffey for the fourth odi in wellington on tuesday. kiwi captain stephen fleming said he was disappointed with tuffeys performance at eden park. \"\"there was a lot of faith put in him for this game",
                  "3": "",
                  "4": "cricket"
                },
                {
                  "0": "632",
                  "1": "football262.txt",
                  "2": "\"van nistelrooy hungry for return  manchester united striker ruud van nistelrooy said he was \"\"hungry to play\"\" as he returned to training on tuesday.  the dutch striker",
                  "3": "",
                  "4": "football"
                },
                {
                  "0": "633",
                  "1": "rugby141.txt",
                  "2": "england 17-18 france  england suffered an eighth defeat in 11 tests as scrum-half dimitri yachvili booted france to victory at twickenham.  two converted tries from olly barkley and josh lewsey helped the world champions to a 17-6 half-time lead. but charlie hodgson and barkley missed six penalties between them, while yachvili landed six for france to put the visitors in front. england could have won the game with three minutes left, but hodgson pushed an easy drop goal opportunity wide. it was a dismal defeat for england, coming hard on the heels of an opening six nations loss in wales. they should have put the game well beyond frances reach, but remarkably remained scoreless for the entire second half. a scrappy opening quarter saw both sides betray the lack of confidence engendered by poor opening displays against wales and scotland respectively. hodgson had an early opportunity to settle english nerves but pushed a straightforward penalty attempt wide. but a probing kick from france centre damien traille saw mark cueto penalised for holding on to the ball in the tackle, yachvili giving france the lead with a kick from wide out.  france twice turned over england ball at the breakdown early on as the home side struggled to generate forward momentum, one ben kay charge apart. a spell of tit-for-tat kicking emphasised the caution on both sides, until england refused a possible three points to kick a penalty to the corner, only to botch the subsequent line-out. but england made the breakthrough after 19 minutes, when a faltering move off the back of a scrum led to the opening try. jamie noon took a short pass from barkley and ran a good angle to plough through yann delaigues flimsy tackle before sending his centre partner through to score at the posts.  hodgson converted and added a penalty after one of several french infringements on the floor for a 10-3 lead. the fly-half failed to dispense punishment though with a scuffed attempt after france full-back pepito elhorga, scragged by lewsey, threw the ball into touch. barkley also missed two longer-range efforts as the first half drew to a close, but by then england had scored a second converted try. after a series of phases lock danny grewcock ran hard at the french defence and off-loaded out of sylvain marconnets tackle to lewsey. the industrious wing cut back in on an angle and handed off hooker sebastien bruno to sprint over. after a dire opening to the second half, france threw on three forward replacements in an attempt to rectify the situation, wing jimmy marlu having already departed injured. yachvili nibbled away at the lead with a third penalty after 51 minutes.  and when lewis moody was twice penalised - for handling in a ruck and then straying offside - the scrum-halfs unerring left boot cut the deficit to two points. barkley then missed his third long-range effort to increase the tension. and after seeing another attempt drop just short, yachvili put france ahead with his sixth penalty with 11 minutes left.  england sent on ben cohen and matt dawson, and after barkleys kick saw christophe dominici take the ball over his own line, the stage was set for a victory platform. but even after a poor scrummage, hodgson had the chance to seal victory but pushed his drop-goal attempt wide. england threw everything at the french in the final frantic moments, but the visitors held on for their first win at twickenham since 1997.  j robinson (capt); m cueto, j noon, o barkley, j lewsey; c hodgson, h ellis; g rowntree, s thompson, p vickery; d grewcock, b kay; j worsley, l moody, m corry.  a titterrell, a sheridan, s borthwick, a hazell, m dawson, h paul, b cohen.  p elhorga; c dominici, b liebenberg, d traille, j marlu; y delaigue, d yachvili; s marconnet, s bruno, n mas; f pelous (capt), j thion, s betsen, j bonnaire, s chabal.  w servat, j milloud, g lamboley, y nyanga, p mignoni, f michalak, j-p grandclaude.  paddy obrien (new zealand)",
                  "3": "",
                  "4": "rugby"
                },
                {
                  "0": "634",
                  "1": "football048.txt",
                  "2": "\"owen determined to stay in madrid  england forward michael owen has told the bbc he is happy in spain and has no plans to quit real madrid to return to the premiership in the near future.  but the 25-year-old, who has spent much of his time coming off the bench in la liga, did not rule out a return to the premiership at some stage. \"\"im pleased with the start ive made here",
                  "3": "",
                  "4": "football"
                },
                {
                  "0": "635",
                  "1": "football060.txt",
                  "2": "\"reyes tricked into real admission  jose antonio reyes has added to speculation linking him with a move from arsenal to real madrid after falling victim to a radio prank.  the spaniard believed he was talking to real madrid sporting director emilio butragueno when he allegedly berated his team-mates as \"\"bad people\"\". \"\"i wish i was playing for real madrid",
                  "3": "",
                  "4": "football"
                },
                {
                  "0": "636",
                  "1": "football074.txt",
                  "2": "\"adrianos chelsea link rejected  adrianos agent gilmar rinaldi has insisted that he has had no contact with chelsea over the striker.  chelsea were reported to have made inquiries about inter milans 22-year-old brazilian star. rinaldi told bbc sport from rio de janeiro: \"\"i can assure you that chelsea have had no dealings whatsoever with either me or adriano. \"\"parma and real madrid are interested but theres nothing new there. their interest has been known for some time.\"\" adriano has scored 14 goals in 20 serie a appearances this season. and chelsea boss jose mourinho had claimed that he was in milan talking to adriano on the day he is alleged to have held a clandestine meeting with arsenal defender ashley cole. mourinho said he was \"\"just practising my portuguese with him because i dont need strikers\"\". rinaldi told bbc sport: \"\"i have to say that nobody from chelsea or any other london club has contacted me. \"\"if they want to",
                  "3": "",
                  "4": "football"
                },
                {
                  "0": "637",
                  "1": "football062.txt",
                  "2": "\"souness eyes summer move for owen  newcastle boss graeme souness is lining up a summer move for england and real madrid striker michael owen.  he sees owen as the ideal replacement for alan shearer, who is due to retire in the summer, although he hopes to persuade shearer to carry on. \"\"michael is in the category of players who would excite the fans and were monitoring him",
                  "3": "",
                  "4": "football"
                },
                {
                  "0": "638",
                  "1": "football076.txt",
                  "2": "\"aragones angered by racism fine  spain coach luis aragones is furious after being fined by the spanish football federation for his comments about thierry henry.  the 66-year-old criticised his 3000 euros (£2,060) punishment even though it was far below the maximum penalty. \"\"i am not guilty",
                  "3": "football",
                  "4": "football"
                },
                {
                  "0": "639",
                  "1": "rugby143.txt",
                  "2": "italy 8-38 wales  wales secured their first away win in the rbs six nations for nearly four years with a six-try victory in rome.  tries from jonathan thomas, tom shanklin and martyn williams gave the visitors a 19-5 half-time advantage. luciano orquera did reply with one for italy but second-half efforts from brent cockbain, shane williams and robert sidoli sealed victory. fly-half stephen jones added four conversions as wales maintained their superb start to this years tournament. starting full of confidence after their victory over england, the visitors scored the opening try after just four minutes. diminutive wing shane williams fielded a kick ahead and danced past the onrushing andrea masi and aaron persico into the italian half. his pass to tom shanklin appeared forward but when the centre was held up short, the ball was switched left and michael owens long cut-out pass gave the lurking thomas an easy run-in.  stephen jones, who retained the kicking duties despite gavin hensons heroics against england, slotted an excellent conversion from wide out. wales twice threatened further scores but failed to find the crucial pass, and italy hit back out of the blue in the 11th minute.  henson, sporting gold boots rather than the silver variety that did for england, beat two players with ease out on the left touchline. but his attempted chip ahead was charged down by orquera, who snaffled the loose ball and hared away from halfway to score in the right corner. with the welsh line-out stuttering and italy twice turning the visitors scrum, the home sides forward power brought them back into it. but a clever high kick from henson almost brought a try for hal luscombe when roland de marigny and ludovico nitoglia made a hash of claiming it as the ball bounced into touch.  wales regained control with a second try in the 21st minute, henson lobbing up a high kick to the left corner where shanklin jumped higher than nitoglia to dot down his 15th test try. jones was unable to convert and de marigny then hit the upright with a penalty attempt for italy. henson was also narrowly short with a long-range effort at goal, but wales ended the half with a vital third score to give themselves some breathing space.  henson sent luscombe streaking away and when he off-loaded to martyn williams, the flanker showed his nous to ground the ball against the padding of the post, jones adding the conversion. italy, who lost flanker mauro bergamasco with a head knock before half-time, built up a head of steam on the resumption. de marigny landed a penalty to make it 19-8 and a nitoglia break through the middle threatened a try only for the move to break down with a knock-on. but wales put the outcome beyond doubt with two superb tries in four minutes before the hour. their fourth after 53 minutes was sparked by another mazy run from shane williams, who beat several players with ease, and finished with a powerful angled run from lock cockbain. before italy could recover from that blow, a strong surge from gareth thomas and great off-loads from martyn williams and replacement kevin morgan saw shane williams scamper over.  with jones converting both for a 33-8 lead, wales had the luxury of sending on five more replacements for the final quarter. the icing on the cake came with a sixth try after more superb support work, shane williams and ceri sweeney combining to send sidoli over in the left corner. the only downside for wales was a hamstring injury suffered by luscombe. but after back-to-back wins at the start of the tournament for the first time in 11 years, they will travel to paris in a fortnight looking like genuine contenders.  r de marigny; mirco bergamasco, w pozzebon, a masi, l nitoglia; l orquera, a troncon; a lo cicero, f ongaro, m castrogiovanni, s dellape, m bortolami (capt), a persico, mauro bergamasco, s parisse.  g intoppa, s perugini, ca del fava, d dal maso, p griffen, m barbini, kp robertson.  g thomas (capt); h luscombe, t shanklin, g henson, s williams; s jones, d peel; g jenkins, m davies, a jones; b cockbain, r sidoli; j thomas, m williams, m owen.  r mcbryde, j yapp, i gough, r sowden-taylor, g cooper, c sweeney, k morgan.  andrew cole (australia).",
                  "3": "",
                  "4": "rugby"
                },
                {
                  "0": "640",
                  "1": "football089.txt",
                  "2": "\"mourinho expects fight to finish  chelsea manager jose mourinho expects the champions league clash with barcelona to be a fight to the finish.  mourinho is relishing the first leg of the tie against his former club in the last 16 in the nou camp. he said: \"\"i wouldnt be surprised if nothing had been decided by the last minute of the return leg and the match had to go into extra time. \"\"i have to defend what is mine and the champions league is mine at the moment. im the last manager to have won it.\"\" mourinho never coached barcelona",
                  "3": "",
                  "4": "football"
                },
                {
                  "0": "641",
                  "1": "football260.txt",
                  "2": "\"arsenal 1-1 sheff utd  andy grays 90th-minute penalty earned sheffield united a deserved fa cup replay against 10-man arsenal.  robert pires close-range finish looked to have sent the gunners into the quarter-finals. but referee neale barry pointed to the spot after philippe senderos handball and gray sent the keeper the wrong way. in an incident-packed game, arsenal captain dennis bergkamp was controversially sent off in the first half for a shove on danny cullip. and cullip subsequently had a headed goal disallowed as united took advantage of a makeshift arsenal team. gunners boss arsene wenger, already without sol campbell, ashley cole and edu, opted to rest patrick vieira and thierry henry. and while they looked promising going forward, the defence never looked comfortable, particularly against set-pieces.  they suffered an early scare when gray was given a free header but keeper manuel almunia palmed away his attempt at the second opportunity. blades boss neil warnock had earmarked bergkamp as arsenals key man and phil jagielka was charged with keeping a close eye on the dutchman. the veteran striker was nonetheless controlling arsenals attacking play until his departure. he came closest to giving arsenal a first-half lead when he saw his curling shot brush the top of the net. however, his influence was brought to an abrupt end after 35 minutes in an incident which began with a late challenge on cesc fabregas. a melee ensued and referee barry picked out bergkamp, who seemed only to push cullip, for punishment, leaving wenger incredulous. the controversy continued in a frantic end to the half.  cullip thought he had put his side ahead when he flicked home leigh brombys long throw-in - but the referee saw a foul. the half ended on another sour note when fabregas left nick montgomery motionless with a shocking late tackle. fabregas was lucky to escape with just a booking, but montgomery was perhaps luckier to get up from the challenge. the second half began in relative calm but burst into life again when reyes was denied a penalty - and seconds later was booked for an ugly challenge on jon harley. arsenal looked to have avoided a replay when pires tapped in 12 minutes from the end after united keeper paddy kenny had parried fabregas shot. but senderos handled cullips hooked shot giving gray the chance to equalise - and he took it with aplomb. the replay will be at bramall lane on tuesday 1 march.  - arsenal boss arsene wenger: \"\"the boys responded very well (to bergkamps sending-off). \"\"the second half was all us and we had three good chances to score a second goal. in the end we got caught. \"\"but overall the performance was good. the young lads can be very proud.\"\"   - sheffield united manager neil warnock: \"\"it is a fantastic result for me personally and the club. \"\"it is not very often that you come to a place like this and get the right result. it looked like it was going to be a bit cruel. \"\"i didnt think we deserved to lose. when they scored i think everyone wrote us off but we have got a lot of character in the team.\"\" arsenal: almunia",
                  "3": "",
                  "4": "football"
                },
                {
                  "0": "642",
                  "1": "football248.txt",
                  "2": "\"tanzania gets fifa backing  fifa is to give financial support to tanzania in order to revive football in the country after years of mismanagement.  this follows a meeting between officials of the tanzania football federation (tff) and the president of fifa, sepp blatter last week in switzerland. the tff president leodegar tenga said on wednesday that fifa has promised them an immediate donation of office equipment worth us$10,000 and us$17,705 cash. tenga said that the money would be used to settle part of the debt owed to caf. african footballs governing body has threatened to disqualify the taifa stars from its competitions. tanzania have failed to pay fines imposed on them following their withdrawal from the african cup of nations qualifier against sudan in 2003. tenga said that fifa has also offered to organize courses for tanzanian referees and support development programmes. a full-time chief executive officer (ceo) will be employed in order to draw up a development programme which will also be funded by fifa. \"\"we will employ a ceo in the near future who will implement our short and long term development programmes\"\"",
                  "3": "football",
                  "4": "football"
                },
                {
                  "0": "643",
                  "1": "cricket006.txt",
                  "2": "england a roll to second victory  one-day tour match, sharjah: england a v uae  prior top-scored with 84 as a stand of 100 helped england a to 280 for eight in sharjah with solanki making 55 and michael powell 42. glamorgans david harrison struck early to leave uae reeling on 22 for two. usman saleem restored some respectability with 50 but uae ran out of steam to close on 219 for nine. the tourists won saturdays first game by 42 runs.  rashid khan, amjad javed, usman saleem naeemuddin aslam, khuram khan (capt), ahmed nadeem, fahad usman sameer zia, mohammad taskeen (wkt), ali asad, rizwan latif.  v s solanki, m j prior (wkt), i r bell (capt), o a shah m j powell, a p r gidman, g p swann, p j franks, r k j dawson d s harrison, j lewis.  iftikhar ali and tariq butt",
                  "3": "",
                  "4": "cricket"
                },
                {
                  "0": "644",
                  "1": "cricket012.txt",
                  "2": "\"tudor given fresh start by essex  former england paceman alex tudor has joined essex on a one-year contract.  the 27-year-old, who 10 test caps, was released by surrey at the end of last season after 10 years at the oval. he only played one championship game in 2004 because of a side injury and has agreed performance related terms with essex after treatment by a specialist. \"\"i am determined to repay essex for the faith they have shown in me. this is a new start for me and i am just itching to get out on the field",
                  "3": "",
                  "4": "cricket"
                },
                {
                  "0": "645",
                  "1": "football116.txt",
                  "2": "tevez - an argentine in brazil  some 65 years ago bernardo gandulla left boca juniors in his native argentina and headed for brazil.  he arrived at the vasco da gama club with considerable prestige - which he failed to live up to. he left an impression, but not for reasons he would have wanted. the only thing of note he did was to throw the ball back when it went out of play. even today, gandula is the term used in brazil for ballboy. brazilians delighted in the failure of gandulla then, and many will delight now if history is repeated. another boca juniors player is coming to brazil. the new maradona - carlos tevez - is joining corinthians for nearly $20m in a strong candidate for the strangest move of the year. corinthians - or the london-based company who have just entered into partnership with them - appear to have paid well above the odds for tevez. it is particularly strange as - until last week - tevez was not even an especially big name in brazil, where the argentine championship is not shown.  presumably there is some financial logic behind the move. what is harder to work out is why tevez should be interested in heading north, rather than across the atlantic. argentinas brightest new star hit top form in august as he spearheaded the charge towards the olympic gold medal. but the subsequent months have not been easy for tevez. boca re-signed martin palermo, forcing tevez to vacate his favoured centre forward role. and off the pitch he gave the press plenty to report - atletico madrid gave up on him after declaring his private life to be disorganized. hounded by the press, tevez grew tired of his life in buenos aires. so now he says that he is heading for corinthians in search of tranquillity. anyone acquainted with the city of s&#227;o paulo will relish the nonsense of this declaration. brazils biggest city is a sprawling, ugly, restless metropolis. once it shared with buenos aires the same melancholy air of a city of italian immigrants.  but that world now lies buried under skyscrapers. the most turbulent place in this frenetic city is sport club corinthians. it is the most passionately supported club in brazil. pel&#233; scored reams of goals against them, reasoning that unless he did something special the corinthians fans were capable of winning the game on their own. that passion can also be turned against the team - especially nowadays, when the level of urban violence gives a hysterical edge to life in brazils big cities. corinthians fans have invaded the dressing room or ambushed the team coach to attack the players. tevez, then, can kiss tranquillity goodbye. he can also say farewell to the copa libertadores, south americas champions league. corinthians have not qualified. indeed, he will have a long wait for a worthwhile match. next years brazilian championship only gets underway at the end of april. until then he will have to make do with the foolish s&#227;o paulo state championship, an appalling waste of his talent. there will be matches in small towns on poor pitches with plenty of defenders keen to kick him all the way back to argentina. like so many of the top south american players, tevez has the gift of being able to surprise - to feint right and go left, to pass when he was expected to dribble, to shoot and catch the goalkeeper unawares. but his choice of destination is the biggest surprise of all.",
                  "3": "",
                  "4": "football"
                },
                {
                  "0": "646",
                  "1": "football102.txt",
                  "2": "\"wenger signs new deal  arsenal manager arsene wenger has signed a new contract to stay at the club until may 2008.  wenger has ended speculation about his future by agreeing a long-term contract that takes him beyond the opening of arsenals new stadium in two years. he said: \"\"signing a new contract just rubber-stamps my desire to take this club forward and fulfil my ambitions. \"\"i still have so much to achieve and my target is to drive this club on. these are exciting times for arsenal.\"\"  the 55-year-old frenchman told arsenals website www.arsenal.com: \"\"my intention has always been clear. i love this club and am very happy here.\"\" wenger has won the title and the fa cup three times each during his reign. chairman peter hill-wood said: \"\"we are absolutely delighted that arsene has signed an extension to his contract. \"\"since his arrival in 1996",
                  "3": "",
                  "4": "football"
                },
                {
                  "0": "647",
                  "1": "rugby023.txt",
                  "2": "\"fit-again betsen in france squad  france have brought flanker serge betsen back into their squad to face england at twickenham on sunday.  but the player, who missed the victory over scotland through injury, must attend a disciplinary hearing on wednesday after being cited by wasps. \"\"serge has a good case so we are confident he will play",
                  "3": "",
                  "4": "rugby"
                },
                {
                  "0": "648",
                  "1": "rugby037.txt",
                  "2": "\"france v wales (sat)  stade de france, paris  saturday, 26 february  1600 gmt  bbc1, radio 4 lw and this website  france may have beaten scotland and england but they were tedious and uninspired throughout both matches. wales, on the other hand, have played some fine rugby and have made their best start since they last won the title in 1994. they also have a good record at the stade de france, having won their first two games there, in 1999 and 2001. wales have made two changes from the team that thrashed italy 38-8 in rome.  kevin morgan takes over from his injured newport-gwent dragons colleague hal luscombe on the right wing. in the pack neath-swansea ospreys forward ryan jones bas been brought on the blind-side flank to beef up the wales back row in place of jonathan thomas. wales coach mike ruddock is determined that his team will not go into their shells after their promising start to the championship. \"\"graham henry (former wales coach) said a couple of years ago that we should be bold when going to france",
                  "3": "rugby",
                  "4": "rugby"
                },
                {
                  "0": "649",
                  "1": "atheletics036.txt",
                  "2": "\"jones doping probe begins  an investigation into doping claims against marion jones has been opened by the international olympic committee.  ioc president jacques rogge has set up a disciplinary body to look into claims by victor conte, of balco laboratories. jones, who says she is innocent, could lose all her olympic medals after conte said he gave her performance-enhancing drugs before the sydney olympics. but rogge said it was too early to speculate about that, hoping only that \"\"the truth will emerge\"\".  any decision on the medals would be taken by the iocs executive board and could hinge on interpretation of a rule stating that olympic decisions can only be challenged within three years of the games closing. the sydney olympics ended more than four years ago",
                  "3": "",
                  "4": "atheletics"
                },
                {
                  "0": "650",
                  "1": "atheletics022.txt",
                  "2": "\"holmes secures comeback victory  britains kelly holmes marked her first appearance on home soil since winning double olympic gold with 1500m victory at the norwich union international.  holmes hit the front just before the bell in front of a sell-out crowd in glasgow and cruised to victory in a time of four minutes 14.74 seconds. \"\"it was nice to get that out of the way. i was nervous about whether i would actually be able to get round. \"\"i felt good. i just had to relax and use my racing knowledge",
                  "3": "",
                  "4": "atheletics"
                },
                {
                  "0": "651",
                  "1": "tennis007.txt",
                  "2": "\"melzer shocks agassi  second seed andre agassi suffered a comprehensive defeat by jurgen melzer in the quarter-finals of the sap open.  agassi was often bamboozled by the austrians drop shots in san jose, losing 6-3 6-1. defending champion and top seed andy roddick rallied to beat swedens thomas enqvist 3-6 7-6 (8-6) 7-5. but unseeded cyril saulnier beat the fourth seed vincent spadea 6-2 6-4 and tommy haas overcame eighth seed max mirnyi 6-7 (2-7) 7-6 (7-3) 6-2. melzer has now beaten agassi in two of their three meetings.  \"\"i had a good game plan and i executed it perfectly",
                  "3": "",
                  "4": "tennis"
                },
                {
                  "0": "652",
                  "1": "tennis013.txt",
                  "2": "\"dogged federer claims dubai crown  world number one roger federer added the dubai championship trophy to his long list of successes - but not before he was given a test by ivan ljubicic.  top seed federer looked to be on course for a easy victory when he thumped the eighth seed 6-1 in the first set. but ljubicic, who beat tim henman in the last eight, dug deep to secure the second set after a tense tiebreak. swiss star federer was not about to lose his cool, though, turning on the style to win the deciding set 6-3. the match was a re-run of last weeks final at the world indoor tournament in rotterdam, where federer triumphed, but not until ljubicic had stretched him all the way. \"\"i really wanted to get off to a good start this time",
                  "3": "",
                  "4": "tennis"
                },
                {
                  "0": "653",
                  "1": "tennis012.txt",
                  "2": "\"davenport hits out at wimbledon  world number one lindsay davenport has criticised wimbledon over the issue of equal prize money for women.  reacting to a disputed comment by all england club chairman tim phillips, the american said: \"\"i think it is highly insulting if prize money is taken away. \"\"somebody",
                  "3": "",
                  "4": "tennis"
                },
                {
                  "0": "654",
                  "1": "tennis006.txt",
                  "2": "\"young debut cut short by ginepri  fifteen-year-old donald youngs first appearance in an atp tennis tournament proved brief as the teenager went out in round one of the san jose open.  young shot to the top of the junior world rankings when he won the boys singles at januarys australian open. but the wildcard entry was dispatched by fellow american robby ginepri in straight sets, 6-2 6-2, in california. despite that he was happy with his tour debut. \"\"it was fun. i had my chances",
                  "3": "tennis",
                  "4": "tennis"
                },
                {
                  "0": "655",
                  "1": "atheletics023.txt",
                  "2": "\"greek pair attend drugs hearing  greek sprinters kostas kenteris and katerina thanou have appeared before an independent tribunal which will decide if their bans should stand.  they were given provisional suspensions by athletics ruling body the iaaf in december for failing to take drugs tests before the athens olympics. the pair arrived with former coach christos tzekos to give evidence at the hellenic olympic committees offices. a decision is expected to be announced before the end of february. whatever the ruling, all parties will have the right to appeal to the court of arbitration for sport. yiannis papadoyiannakis, who was head of the greek olympic team at the athens games last year, also testified at the tribunal, along with other greek sports officials and athletes. \"\"i believe the tribunal will reach a decision that will uphold the standing of the institution",
                  "3": "atheletics",
                  "4": "atheletics"
                },
                {
                  "0": "656",
                  "1": "atheletics037.txt",
                  "2": "\"johnson accuses british sprinters  former olympic champion michael johnson has accused britains top sprinters of lacking pride and ambition.  \"\"at the moment",
                  "3": "",
                  "4": "atheletics"
                },
                {
                  "0": "657",
                  "1": "rugby036.txt",
                  "2": "\"pountney handed ban and fine  northampton coach budge pountney has been fined £2,000 and banned from match-day coaching for six weeks for calling a referee \"\"a disgrace\"\".  pountney was found guilty of bringing the game into disrepute at a rugby football union disciplinary hearing in london on thursday night. pountney criticised referee steve landers performance in northamptons defeat by saracens on 5 february. the last two weeks of the six-week ban are suspended. pountney pleaded guilty to the offence before a panel consisting of chairman robert horner",
                  "3": "rugby",
                  "4": "rugby"
                },
                {
                  "0": "658",
                  "1": "rugby022.txt",
                  "2": "\"kirwan demands italy consistency  italy coach john kirwan has challenged his side to match the performance they produced in pushing ireland close when they meet wales on saturday.  despite losing 28-17 in sundays six nations encounter, the italians confirmed their continuing improvement. \"\"our goal is to match every side we face and against ireland we showed we could do that",
                  "3": "",
                  "4": "rugby"
                },
                {
                  "0": "659",
                  "1": "football103.txt",
                  "2": "\"fa probes crowd trouble  the fa is to take action after trouble marred wednesdays carling cup tie between chelsea and west ham.  police in riot gear were confronted by a section of the west ham support after the match which the blues won 1-0. mateja kezman, the scorer of chelseas goal, needed treatment on a head injury during the match after being hit by a missile, believed to be a coin. a spokeswoman for chelsea said the club would await the referees report before deciding on its course of action. kezman was forced off the field to receive treatment on a cut above his eye but was able to continue.  chelsea assistant boss steve clarke said: \"\"i would rather talk about the football but we think it was something thrown from the crowd. he did not require stitches.\"\" west ham boss alan pardew said: \"\"its a shame because i thought there was good english banter in the crowd. \"\"theres big rivalry between the two clubs and it is a shame if thats happened. from where i was standing i didnt see any trouble.\"\" former hammers star joe cole also had a plastic bottle thrown at him",
                  "3": "football",
                  "4": "football"
                },
                {
                  "0": "660",
                  "1": "football117.txt",
                  "2": "\"edu blasts arsenal  arsenals brazilian midfielder edu has hit out at the club for stalling over offering him a new contract.  edus deal expires next summer and he has been linked with spanish trio real madrid, barcelona and valencia. he told bbc sport: \"\"im not sure if i want to stay or not because the club have let the situation go on this far. \"\"if they had really wanted to sign they should have come up with an offer six months before indicating they wanted to sign me and thats made me think.\"\" edus brother and representative amadeo fensao has previously said that arsenals current offer to the midfielder was well short of what he was seeking. and edu",
                  "3": "",
                  "4": "football"
                },
                {
                  "0": "661",
                  "1": "cricket013.txt",
                  "2": "england slump to defeat  fourth one-day international, cape town: south africa 291-5 (50 overs) beat england 183 all out (41.2 overs) by 108 runs  the home side tallied a massive 291-5, with gibbs making 100, jacques kallis 71 and justin kemp 57 from 36 balls. in reply, england were three wickets down inside eight overs, and bowled out for 183 in 41.2 overs. kevin pietersen smashed 75 from 85 balls but was caught in the deep trying to up the tempo. in all, 13 sixes were hit at a sun-baked newlands, kemp accounting for four of them with three each for gibbs and pietersen. gibbs and kallis, who both play for home side western province, set a new mark for the third wicket at this ground and beat their own record - set last week - for the third wicket against england with a stand of 143.  they set an even pace, notching half-centuries from successive deliveries, but still looked under par when kallis was run out by a brilliant direct throw from paul collingwood at point. however, kemp helped add 98 in the last 10 overs of the south african innings, building brutally on that platform. kemps best six came off darren gough, a drive into the pavilion at long on, and gough was actually hanging on to one of gibbs maximums, the momentum carrying him over the boundary rope. england looked like keeping pace only as far as the sixth over of their reply, when geraint jones edged ntini behind with 32 on the board.  captain michael vaughan, who returned from illness and replaced vikram solanki in the line-up, followed for a duck in the next over, edging shaun pollock to slip. and marcus trescothick went four balls later, playing around an ntini yorker which took out his middle stump. andrew strauss, who made 17, and paul collingwood, with 11, both settled but failed to move on. and pietersen was left to stage his own firework display, falling to his third successive slog-sweep off spinner nicky boje after the first two had flown over the square-leg boundary.  pietersen, sporting a new hairstyle with a diagonal streak of bleached blond, took his series figures to 238 runs at an average of 119. ntini had ashley giles caught at cover for 20 to finish with 3-29. ignoring the fact that the team batting first has won 17 of the last 25 one-day internationals at the cape town ground, vaughan had opted to put the home side in on winning the toss. he was forced into making changes early, though, as steve harmison struggled in his first match back from a calf injury. the pace bowler, who replaced matthew hoggard in the line-up, conceded 24 runs off his first three overs, including four wides.  although darren gough dismissed ab de villiers lbw, he was also wayward early. and it took the arrival of kabir ali as the first-change bowler to apply the brakes. ali, the hero of wednesdays tie in bloemfontein dismissed graeme smith, the hero of fridays victory, lbw with a straight delivery that may have been a little too high. and with collingwood in support his first six-over spell brought figures of 1-11. alis early figures were decimated, though, in the closing stages as gibbs and kemp blazed to put the match out of reach. the teams meet again in east london on wednesday for the fifth instalment of the seven-match series.  g c smith (capt), a b de villiers, j h kallis, h h gibbs, a g prince, j m kemp, m v boucher (wkt), s m pollock, n boje, m ntini, a nel.  mp vaughan (capt), m e trescothick, g o jones, a j strauss, k p pietersen, i r bell, p d collingwood, a f giles, kabir ali, d gough, s harmison.",
                  "3": "",
                  "4": "cricket"
                },
                {
                  "0": "662",
                  "1": "cricket007.txt",
                  "2": "\"kaif absence wrong - azharuddin  india were wrong to leave mohammad kaif out of their squad for the first test against pakistan, according to former captain mohammad azharuddin.  azharuddin, serving a life ban for match-fixing, feels the middle-order batsman deserves another chance. \"\"kaif batted very well against australia on a tough wicket",
                  "3": "",
                  "4": "cricket"
                },
                {
                  "0": "663",
                  "1": "football249.txt",
                  "2": "\"charlton 1-2 liverpool  fernando morientes grabbed his first premiership goal as liverpool earned all three points at charlton with a vintage second-half display.  inspired by former anfield ace danny murphy, the hosts took a deserved first-half lead, murphy swinging in a corner for shaun bartlett to head home. but liverpool, who had struck the bar twice, hit back when spaniard morientes rifled in from 20 yards out. john arne riise slotted the winner after a neat pass from luis garcia. the teams started with virtually identical league records and there was little to separate them on the pitch early on. liverpool where unlucky not to score when a garcia shot was spilled by dean kiely into the path steven gerrard, whose shot bounced back off the crossbar. but then the hosts went in front, murphys 20th-minute corner headed home powerfully by bartlett.  gerrard forced a sharp save from kiely shortly afterwards as liverpool looked to redress the balance. and the visiting captain almost set up an equaliser when he cut a clever cross back to morientes, who saw his shot saved from two yards out. the visitors continued to press forward on the restart. and riise came within inches of the breakthrough when he latched onto a superb ball from garcia and hit a rasping drive, which kiely tipped on to the charlton bar. morientes finally found the back of the net when he buried a left-foot shot into the top corner after charlton had failed to clear. djimi traore had to time his challenge well to deny murphy an instant reply. but liverpool were in the ascendancy now, with morientes causing plenty of problems. the spaniard went close himself, before releasing riise, who cooly finished with a trademark low drive. morientes departed to great ovation from the visiting fans, as charltons biggest home attendance for 10 years tasted disappointment.  - liverpool boss rafael benitez: \"\"we played a very good game with a high tempo and lots of confidence. \"\"we have seen the mentality of the players",
                  "3": "",
                  "4": "football"
                },
                {
                  "0": "664",
                  "1": "football261.txt",
                  "2": "crusaders 2-3 ballymena united  ballymena united came back from a goal down to take the daily mirror irish premier league points at seaview despite a late fightback by crusaders.  darren stirling gave the crues the lead before matthew nolan and then oran kearney put the visitors in front. nolan stretched his sides lead with his second goal early in the second half. however, crusaders never gave up and chris morrow fired in their second goal but it was too late to retrieve the situation. after a dull opening period, the game came alive in the 25th minute when stirling put the crues in front when he fired home a shot from a morrow cross. but ballymena stormed back with two goals before the break. in the 28th minute the energetic rory hamill floated over a free-kick and nolan, the on-loan striker from nodded past neil armstrong. hamill again was the instigator four minutes later when he threaded through a pass for kearney to latch on to and plant an unstoppable shot into the net. ballymena increased their lead six minutes after the restart when nolan pounced on a stevie livingstone deflection to grab his second goal. crusaders made sure that ballymena had a nervous final few minutes when morrow darted in to score.",
                  "3": "",
                  "4": "football"
                },
                {
                  "0": "665",
                  "1": "football088.txt",
                  "2": "\"desailly backs blues revenge trip  marcel desailly insists there is no chance of history repeating itself when chelsea take on barcelona on wednesday.  the french star was part of the chelsea side crushed 5-1 at the nou camp in the champions league quarter-final second leg in 2000. \"\"things will be totally different this time",
                  "3": "",
                  "4": "football"
                },
                {
                  "0": "666",
                  "1": "rugby142.txt",
                  "2": "\"wilkinson to miss ireland match  england will have to take on ireland in the six nations without captain and goal-kicker jonny wilkinson, according to his newcastle boss rob andrew.  wilkinson - who had targeted the 27 february match for his international comeback - has been missed by england, not least for his goal-kicking. \"\"jonnys not fit yet",
                  "3": "",
                  "4": "rugby"
                },
                {
                  "0": "667",
                  "1": "football077.txt",
                  "2": "\"boro suffer morrison injury blow  middlesbrough midfielder james morrison has been ruled out for up to eight weeks after an operation on tuesday.  the 18-year-old, who has played in 13 of the clubs last 14 games, had surgery to repair a double hernia. a club spokesman confirmed: \"\"it is a bilateral sportsmans hernia",
                  "3": "",
                  "4": "football"
                },
                {
                  "0": "668",
                  "1": "football063.txt",
                  "2": "\"wenger dejected as arsenal slump  arsenal manager arsene wenger claimed their display in the 3-1 defeat against bayern munich was \"\"our worst peformance in the champions league\"\".  kolo toures late goal gives the gunners hope for the second leg",
                  "3": "",
                  "4": "football"
                },
                {
                  "0": "669",
                  "1": "rugby146.txt",
                  "2": "\"tindall aiming to earn lions spot  bath and england centre mike tindall believes he can make this summers lions tour, despite missing most of the season through injury.  the world cup winner has been out of action since december, having damaged both his shoulder and his foot. but tindall, who recently signed for baths west-country rivals gloucester, told rugby special he would be fit in time for the tour to new zealand. \"\"im aiming to be fit by 18 april and hope i can play from then",
                  "3": "rugby",
                  "4": "rugby"
                },
                {
                  "0": "670",
                  "1": "football067.txt",
                  "2": "\"coach ranieri sacked by valencia  claudio ranieri has been sacked as valencia coach just eight months after taking charge at the primera liga club for the second time in his career.  the decision was taken at a board meeting following the sides surprise elimination from the uefa cup. \"\"we understand",
                  "3": "",
                  "4": "football"
                },
                {
                  "0": "671",
                  "1": "football073.txt",
                  "2": "\"robben plays down european return  injured chelsea winger arjen robben has insisted that he only has a 10% chance of making a return against barcelona in the champions league.  the 21-year-old has been sidelined since breaking a foot against blackburn last month. chelsea face barcelona at home on 8 march having lost 2-1 in the first leg. and robben told the daily star: \"\"it is not impossible that i will play against barcelona but it is just a very",
                  "3": "",
                  "4": "football"
                },
                {
                  "0": "672",
                  "1": "football098.txt",
                  "2": "\"redknapps saints face pompey tie  new southampton manager harry redknapp faces an immediate reunion with his old club portsmouth after they were drawn together in the fa cup fourth round.  exeter city face a home tie against middlesbrough if they can see off holders manchester united in a replay. oldhams reward for beating manchester city is a home tie with bolton, while yeovil will be away to charlton. chelsea host birmingham, tottenham travel to west brom and arsenal will entertain championship side wolves. saints boss redknapp was upbeat about the draw despite having to face the club he walked out on just six weeks ago. \"\"ive said before",
                  "3": "",
                  "4": "football"
                },
                {
                  "0": "673",
                  "1": "football259.txt",
                  "2": "bayern munich 3-1 arsenal  arsenals champions league hopes hang by a thread after a nightmare performance against bayern munich.  claudio pizarro took advantage of kolo toures mistake to volley bayern ahead after only four minutes. and pizarro profited from more poor defending by toure to head mehmet scholls free kick past goalkeeper jens lehmann 12 minutes after half-time. hasan salihamidzic volleyed a third on 64 minutes, but toure pulled a vital goal back with only two minutes left. it salvaged something from a dreadful display by arsene wengers side, and the fact that they failed to create a serious chance until the final minutes underlines the size of the task they face in the second leg at highbury. the gunners were forced to restrict ashley cole to a place on the bench when he failed to recover from a virus - and their problems worsened inside four minutes. oliver kahns long clearance was met by a poor headed clearance by toure, and pizarro met it first time on the volley from 12 yards to give jens lehmann no chance. arsenal had failed to make any attacking impact, and they lost another key figure 10 minutes before the interval, when edu limped off with a hamstring injury to be replaced by mathieu flamini. their first moment of threat came four minutes before the interval, when gael clichys shot was deflected narrowly wide with kahn well beaten.  lehmann, jeered throughout by the bayern crowd because of his bad relationship with germanys number one goalkeeper and arch-rival kahn, came to arsenals rescue after 51 minutes. ze robertos cross was met on the full by roy makaay, and lehmann reacted brilliantly to turn his effort over the top. but there was no escape after 57 minutes as bayern doubled their lead, and it was another nightmare moment for toure. pizarro lost toure from scholls free-kick and he headed powerfully past lehmann, who had no chance. and bayern were out of sight seven minutes later as arsenals champions league hopes looked to have been extinguished. lehmann could only palm out martin demichelis cross, and salihamidzic finished with a flourish with a side-footed volley at the far post. but arsenal grabbed at a slender lifeline when toure bundled home from close range after patrick vieira had hit the post.  kahn, sagnol, kovac, lucio, lizarazu, demichelis, salihamidzic (hargreaves 74), frings, ze roberto (scholl 57), makaay, pizarro (guerrero 68). subs not used: rensing, jeremies, linke, schweinsteiger.  demichelis, kovac.  pizarro 3, 58, salihamidzic 65.  lehmann, lauren, toure, cygan, clichy (cole 83), ljungberg (van persie 76), vieira, edu (flamini 36), pires, reyes, henry. subs not used: almunia, fabregas, senderos, larsson.  vieira, lauren.  toure 88.  59,000.  kim milton nielsen (denmark).",
                  "3": "",
                  "4": "football"
                },
                {
                  "0": "674",
                  "1": "football265.txt",
                  "2": "morocco 5-1 kenya  morocco thrashed kenya 5-1 in a 2006 world cup qualifier on wednesday in rabat.  the victory sees the atlas lions move to the top of group five with nine points from their five matches so far. jaouad zairi was the hero for morocco as he scored hat-trick with his first goal coming after just 12 minutes. he then doubled the lead six minutes before half-time. mounir diane made it 3-0 with a goal just a minute into the second half. youssouf hadji put the result beyond doubt when he found the target nine minutes before the final whistle. zairi completed his hat-trick with a goal in the last minute of the match. the harambee stars captain musa otieno grabbed a consolation goal for kenya deep into injury time.",
                  "3": "",
                  "4": "football"
                },
                {
                  "0": "675",
                  "1": "cricket003.txt",
                  "2": "\"south africa far too strong again  second one-day international, durban south africa 329-6 beat zimbabwe 198-7 by 131 runs  south africa lead three-match series 2-0  smiths 117 set up the best total at durban in 25 one-day internationals. he was given fine support by herschelle gibbs - they added 134 before justin kemp hit 53 not out off just 21 balls. zimbabwe finished on 198-7 to lose by 131 runs with barney rogers (47) the top-scorer. south africa lead the series 2-0 with just one to play. rogers put on 71 for the first wicket with stuart matsikenyeri. but their partnership soaked up 17.3 overs - matsikenyeri labouring for 79 minutes over his innings of 16 before offering a catch off the bowling of albie morkel.  the same bowler struck soon afterwards as rogers clipped a fullish delivery to wide mid-on. nicky boje and adam bacher each took a brace of wickets as the middle order simply played for pride. and it was telling that bacher, whose military medium pace was not even experimented with against england, finished with 2-36 off a full allotment of 10 overs. zimbabwe had won the toss at the start of the day and did well with the ball early on, reducing the south africans to 67-3 in the 15th over. but smith and gibbs, who so often form a powerful partnership in both tests and one-day internationals, were not backwards in coming forward, launching a barrage of boundaries off the spinners. zimbabwe were hampered when strike bowler tinashe panyangara left the field in his fourth over with a back strain.  the spinners had to do plenty of work as a result and one of them, prosper utseya, went for 60 in six overs. gibbs took a particular liking to him before eventually falling to rogers for 75 off 73 balls. seam bowler christopher mpofu took 3-59 in his nine overs. he was impressive in the main but had to bowl the final over of the innings, which disappeared for 17 as justin kemp equalled the fastest half-century by a south african. he hit two fours and five towering sixes in a brutal display of hitting. afterwards, kemp said he knew nothing about the record. \"\"i had no idea",
                  "3": "",
                  "4": "cricket"
                },
                {
                  "0": "676",
                  "1": "cricket017.txt",
                  "2": "jayasuriya set to join somerset  somerset are expected to announce later on thursday that sri lankan batsman sanath jayasuriya will join the county for the start of the 2005 season.  chief executive peter anderson told bbc sport that the club would release a statement on the matter at 1600 gmt. jayasuriya will probably fill the place of graeme smith on a temporary basis as the south african is due to arrive in late may to captain the team. jayasuriya, 35, had rejected an offer to play for the scottish saltires. jayasuriya has played in 94 tests, averaging 43.45 with the bat and taking 89 wickets with his left-arm spin. he has also played in more one-day internationals than all but three players in world cricket with 334 appearances. but the attack-minded left-hander has never played county cricket before. it is shaping up to be a golden summer for sri lankans in english domestic cricket, with upul chandana (gloucestershire), chaminda vaas (worcestershire) and muttiah muralitharan (lancashire) all contracted. kumar sangakkara and mahela jayawardene are also reported to be looking for opportunities.",
                  "3": "cricket",
                  "4": "cricket"
                },
                {
                  "0": "677",
                  "1": "rugby026.txt",
                  "2": "murphy: that was a bruising battle  thats what i call a tough game. it was very physical and fair play to the italians they made us work very hard for our victory.  their organisation was very, very good and they proved again that they are getting better and better as the years go by. it is by far the strongest italian team that we have faced. we knew all along that we would be a huge threat particularly the first game in the championship. it was not like the days gone by when you could get scores on the board early. we had to work our socks off and try and build our scores gradually. it was really hard work out there and the players have plenty of bumps and bruises to prove it. im not too bad, but there are one or two others who will be feeling it a bit on monday morning. in the backs, we were not frustrated at such, but the new rucking laws were a little bit problematical. the different interpretations between the referee and the players was a little difficult. but we managed to get the ball in our hands and i got a try near the end of the first half. its always good to score. it was great work by brian and i always knew i had scored even though it went upstairs to the video referee. eddie (osullivan) was very calm at half-time even though we were only 8-6 ahead. he spelled out what we needed to do and advocated getting the ball out of our own territory.  that new ruck law made it a bit more difficult to get out of our own half. we were penalised a lot at the breakdown, and if they had kicked all their chances at goal we would have been behind at the break. so really we went back to playing a territory game and simplifying things and having more patience on the ball. every one was a little down after the game following the injuries to brian and gordon. as yet we do not know the full extent of the injuries, but it does not that good. now we have to focus on scotland and only six days to recover. its a big ask after such a bruising encounter. i was very impressed the way the scots played against the french on saturday. it could so easily have gone their way but for a couple of decisions. we will be under no illusions it is going to be tough for us. in the meantime, when in rome ... .",
                  "3": "",
                  "4": "rugby"
                },
                {
                  "0": "678",
                  "1": "rugby032.txt",
                  "2": "\"barkley fit for match in ireland  england centre olly barkley has been passed fit for sundays six nations clash with ireland at lansdowne road.  barkley withdrew from baths team for fridays clash with gloucester after suffering a calf injury in training. gloucester centre henry paul has also been cleared to play after overcoming an ankle injury. england coach andy robinson, who names his team on wednesday, has called up bath prop duncan bell following phil vickerys broken arm. with vickery sidelined for at least six weeks and julian white out with a neck injury, bell could make his england debut. bell, 30, had set his sights on an international career with wales. but last december, the international rugby board confirmed that he could only be eligible for england as he had travelled on tour with them in 1998. \"\"i thought id burned all my bridges with england when i expressed an interest in wanting to play for wales",
                  "3": "rugby",
                  "4": "rugby"
                },
                {
                  "0": "679",
                  "1": "football113.txt",
                  "2": "\"arnesen denies rift with santini  tottenham sporting director frank arnesen has denied that coach jacques santini resigned because of a clash of personalities at white hart lane.  there had been newspaper speculation that santini had felt undermined by arnesens role at the club. \"\"it is absolutely not true",
                  "3": "",
                  "4": "football"
                },
                {
                  "0": "680",
                  "1": "football107.txt",
                  "2": "\"wenger offers mutu hope  arsenal boss arsene wenger would consider signing adrian mutu once the striker has served his drugs ban.  mutu was sacked by chelsea on friday after testing positive for cocaine - a move wenger has backed. but he said: \"\"i dont even wonder if that could happen because i think he will be suspended for a long period. \"\"but once he has served his suspension",
                  "3": "",
                  "4": "football"
                },
                {
                  "0": "681",
                  "1": "tennis002.txt",
                  "2": "safin slumps to shock dubai loss  marat safin suffered a shock loss to unseeded nicolas kiefer in round one of the dubai tennis championships.  playing his first match since winning the australian open, safin showed some good touches but was beaten 7-6 (7-2) 6-4 by the in-form kiefer. the german got on top in the first-set tie-break, striking a sweet forehand to win the first point against serve. and he maintained the momentum early in the second set, breaking the russian with the help of an inspired volley. spains feliciano lopez lined up a second round clash with andre agassi by beating thailands paradorn srichaphan. lopez, who lost in three sets to roger federer in last years final, won 6-2 3-6 6-3. former champion fabrice santoro of france was beaten 6-3 6-0 by sixth seeded russian nikolay davydenko. there were also wins for two other russians, igor andreev and seventh seed mikhail youzhny.",
                  "3": "tennis",
                  "4": "tennis"
                },
                {
                  "0": "682",
                  "1": "tennis016.txt",
                  "2": "\"hantuchova in dubai last eight  daniela hantuchova moved into the quarter-finals of the dubai open, after beating elene likhotseva of russia 7-5 6-4, and now faces serena williams.  australian open champion williams survived an early scare to beat russias elena bovina 1-6 6-1 6-4. world number one lindsay davenport and anastasia myskina also progressed. davenport defeated chinas jie zheng 6-2 7-5, while french open champion myskina sailed through after her opponent marion bartoli retired hurt. american davenport will now face fellow former wimbledon champion, conchita martinez of spain, who ousted seventh-seeded nathalie dechy of france 6-1 6-2. myskina will face eighth-seed patty schnyder from switzerland, who defeated chinas li na 6-3 7-6 (10-8). the other quarter final pits wild card sania mirza of india against jelena jankovic of serbia and montenegro, who both won on tuesday.  before her meeting with martinez, davenport believes there is some room for improvement in her game. \"\"i started well and finished well",
                  "3": "",
                  "4": "tennis"
                },
                {
                  "0": "683",
                  "1": "atheletics033.txt",
                  "2": "\"greek sprinters suspended by iaaf  greek sprinters kostas kenteris and katerina thanou have been suspended after failing to take drugs tests before the athens olympics.  athletics ruling body the iaaf said explanations from the pair and their former coach as to why they missed the tests were \"\"unacceptable\"\". it added that kenteris and thanou had been \"\"provisionally suspended pending the resolution of their cases\"\". they face two-year bans if found guilty by the greek athletics federation. the suspension also covers the athletes controversial coach",
                  "3": "atheletics",
                  "4": "atheletics"
                },
                {
                  "0": "684",
                  "1": "atheletics027.txt",
                  "2": "holmes feted with further honour  double olympic champion kelly holmes has been voted european athletics (eaa) woman athlete of 2004 in the governing bodys annual poll.  the briton, made a dame in the new year honours list for taking 800m and 1,500m gold, won vital votes from the public, press and eaa member federations. she is only the second british woman to land the title after- sally gunnell won for her world 400m hurdles win in 1993. swedish triple jumper christian olsson was voted male athlete of the year. the accolade is the latest in a long list of awards that holmes has received since her success in athens. in addition to becoming a dame, she was also named the bbc sports personality of the year in december. her gutsy victory in the 800m also earned her the international association of athletics federations award for the best womens performance in the world for 2004. and she scooped two awards at the british athletics writers association annual dinner in october.",
                  "3": "atheletics",
                  "4": "atheletics"
                },
                {
                  "0": "685",
                  "1": "atheletics026.txt",
                  "2": "collins appeals against drugs ban  sprinter michelle collins has lodged an appeal against her eight-year doping ban with the north american court of arbitration for sport (cas).  the 33-year-old received the ban last month as a result of her connection to the federal inquiry into the balco doping scandal. she is the first athlete to be banned without a positive drugs test or an admission of drugs use. cas has said that a ruling is normally given within four months of an appeal. collins was suspended by the us anti-doping agency based on patterns observed in her blood and urine tests as well as evidence in the balco investigation. as well as being hit with the ban, collins was stripped of her 2003 world and us indoor 200m titles. the san francisco-based balco laboratory is at the centre of the scandal which has rocked the sport. the company has been accused of distributing illegal performance-enhancing drugs to elite athletes.",
                  "3": "",
                  "4": "atheletics"
                },
                {
                  "0": "686",
                  "1": "atheletics032.txt",
                  "2": "\"bekele sets sights on world mark  olympic 10,000m champion kenenisa bekele is determined to add the world indoor two mile record at februarys norwich union grand prix in birmingham.  the 22-year-old will again be chasing a record held by his compatriot and mentor haile gebrselassie, who set the mark at the same meeting in 2003. \"\"i am still as hungry to do as much as i can in this sport",
                  "3": "",
                  "4": "atheletics"
                },
                {
                  "0": "687",
                  "1": "tennis017.txt",
                  "2": "\"murray to make cup history  andrew murray will become britains youngest-ever davis cup player after it was confirmed he will play in the doubles against israel on saturday.  the 17-year-old will play alongside fellow debutant david sherwood against israels jonathan erlich and andy ram. murray will eclipse the record set by roger becker back in 1952. greg rusedski takes tim henmans place as first choice in the singles, while alex bogdanovic will play in the second singles clash. rusedski will take on former world number 30 harel levy and bogdanovic - who has previously played in two singles rubbers against australia - will face noam okun.  murray is the brightest young hope in british tennis, after winning the us open junior title last year and the bbc young sports personality of the year. british number one tim henman, who announced his davis cup retirement earlier this year, believes britain can win the tie in tel aviv. \"\"its going to be as really tough match. israel have some really good players - and their doubles pair of andy ram and jonathan erlich are among the top eight in the world - but i fancy our chances",
                  "3": "tennis",
                  "4": "tennis"
                },
                {
                  "0": "688",
                  "1": "tennis003.txt",
                  "2": "\"ferrero eyes return to top form  former world number one juan carlos ferrero insists he can get back to his best despite a tough start to 2005.  the 2003 french open champion has slipped to 64 in the world after a year of illness and injuries in 2004, but is confident that his form will return. \"\"i dont know when it is going to happen",
                  "3": "",
                  "4": "tennis"
                },
                {
                  "0": "689",
                  "1": "football106.txt",
                  "2": "\"ferguson urges henry punishment  sir alex ferguson has called on the football association to punish arsenals thierry henry for an incident involving gabriel heinze.  ferguson believes henry deliberately caught heinze on the head with his knee during uniteds controversial win. the united boss said it was worse than ruud van nistelrooys foul on ashley cole for which he got a three-game ban. \"\"we shall present it to the fa and see what they do. the tackle on heinze was terrible",
                  "3": "football",
                  "4": "football"
                },
                {
                  "0": "690",
                  "1": "football112.txt",
                  "2": "\"anelka eyes man city departure  striker nicolas anelka reportedly wants to leave manchester city in search of champions league football.  anelka, 25, is in talks over a contract extension beyond 2007 with city but is believed to fear his career will go stale if he stays at the club. the news of the world reports that anelka told a french magazine: \"\"i either decide to win titles or to have an easy life. \"\"i think i will always choose football",
                  "3": "football",
                  "4": "football"
                },
                {
                  "0": "691",
                  "1": "rugby033.txt",
                  "2": "\"wales stars need a rest - ruddock  wales coach mike ruddock has defended his decision not to release any of the international stars for this weekends regional celtic league fixtures.  ruddock says the players will benefit from the rest, and their absence will give youngsters a chance to impress. \"\"weve got the wru charter in place now which outlines exactly what happens",
                  "3": "",
                  "4": "rugby"
                },
                {
                  "0": "692",
                  "1": "rugby027.txt",
                  "2": "\"wales make two changes for france  wales coach mike ruddock has made two changes from the team that beat italy 38-8 for saturdays trip to france.  kevin morgan takes over from his injured newport-gwent dragons colleague hal luscombe on the right wing. and in the pack neath-swansea ospreys forward ryan jones is preferred at blindside flanker to jonathan thomas. thomas, a try-scorer in rome, drops down to the bench instead of ian gough, while cardiff back rhys williams steps up in place of morgan. luscombe is sidelined by a hamstring problem sustained during the six nations game against italy last weekend.  however, the experienced and in-form morgan was already pushing hard for a start at stade de france. \"\"due to his impressive performances from the bench",
                  "3": "",
                  "4": "rugby"
                },
                {
                  "0": "693",
                  "1": "cricket016.txt",
                  "2": "\"batsman van jaarsveld joins kent  south african batsman martin van jaarsveld has ended his international career to sign a contract with kent.  the 30-year-old will move to england under the kolpak ruling, meaning he is not classed as an overseas player. kent chief executive paul millman refused to disclose the length of the deal but told bbc sport that he would be joining for \"\"at least two years\"\". \"\"weve been talking to him for some time but he was under contract so we had to stay silent",
                  "3": "",
                  "4": "cricket"
                },
                {
                  "0": "694",
                  "1": "cricket002.txt",
                  "2": "pietersen gives england a chance  lunch: england 240 all out (49.5 overs)  his innings of 116 came after the rest of the batsmen had failed dismally to be 68-6 at the mid-innings point. pietersen, who blasted 10 fours and six sixes off 110 deliveries, added 104 runs for the seventh wicket with ashley giles (41). darren gough was ruled out with a cold and was replaced by steve harmison.  hall bowls harmison for a duck.  hall bowls ali off his pads.  ali hits a boundary off nel as fine leg misfields. and he middles another down to long off.  hall finally has his revenge by bowling pietersen.  hall returns to the fray and is deposited for a straight six by pietersen. the next ball is steered down to the vacant third man area for four.  pietersen clobbers nel between square leg and midwicket for four.  ali and pietersen each hit fours before ntini is deposited high over long on as the hampshire batsman reaches 99. a scrambled single gives him his third century of the series.  pietersen drives a kallis full toss for four and nicks another ball wide of boucher for a second boundary.  pietersen drives ntini wide of mid-off for four. ntini, starting his third spell, yorks giles.  in this over, giles reaches his best score, and pietersen brings up the 100 partnership with a six off hall.  pietersen launches nel over long-on for another six. giles then drives him through extra cover for four.  a boundary for each batsman off hall underlines the quality of this centurion pitch.  pietersen drives nel wide of mid-off for four and giles then plays him behind square on the leg-side for another four.  boje finishes off with 1-34.  pietersen collectes his third one-day fifty with a single as pollock finishes off with 1-36.  pietersen slog sweeps boje for two massive sixes over cow corner.  giles thumps pollock over mid-on for four to bring up englands 100 and adds another boundary by slashing over gully.  the batsmen continue to trade in singles.  a few more singles come off pollock and a respite from the tedium of this partnership comes as drinks are brought on.  just 17 overs remain and at 89-6, england are merely hoping they can bat out the overs.  pollock returns to the attack and again england can only trade in singles.  five dots balls from boje, then a single for giles.  england can only take two singles off ntini.  boje concedes two runs off the bat and a single wide.  ntini goes for six runs in his first over of a new spell.  pietersen garners a solitary single off bojes fourth over.  with giles and pietersen batting together, england have a mountain to climb.  collingwood is given run out by the third umpire after a misunderstanding with pietersen.  collingwood takes three runs off hall.  four singles come off bojes second over.  a cover-drive from collingwood off nel brings the batsman four runs.  in bojes first over, solanki contrives to top-edge a sweep to short fine leg.  nel gets through another good over.  a pietersen single brings up the england team half-century but he will have to perform some more heroics to set a challenging total.  pietersen pulls a nel long-hop for four.  pietersen whips a straight ball from hall wide of mid-on for four.  jones top-edges a pull shot off nel and gives a dolly catch to kemp at square leg.  hall bowls a maiden at pietersen.  nel allows just a single from his second over.  hall is able to get through an economical first over.  nel strikes in his first over as strauss gets an under-edge trying to attack a short ball with a pull shot.  strauss plays a smart leg-glance off pollock for four.  strauss has his first boundary as he pulls ntini for four.  after 15 dots balls, jones square-cuts pollock for four.  ntini gets through his second maiden as englands run rate declines to desparate proportions.  boje misses a golden opportunity to run out strauss after the non-striker is sold a dummy by jones.  strauss is dropped by kemp at gully.  just two more singles come off pollock, with strauss and jones playing watchful cricket.  ntini bowls a maiden at strauss.  pollocks second over costs just two.  jones flicks ntini high over square leg for four. vaughan loses his middle and leg stumps as he is beaten for pace by ntini.  trescothick plays a flat-footed drive at a pollock half-volley which goes strsight to gully.  g smith (capt), n boje, j kallis, h gibbs, a prince, j kemp, m boucher (wkt), s pollock, m ntini, a nel, a hall.  m vaughan (capt), m trescothick, g jones (wkt), a strauss, k pietersen, i bell, v solanki, p collingwood, a giles, kabir ali, s harmison, a wharf.",
                  "3": "cricket",
                  "4": "cricket"
                },
                {
                  "0": "695",
                  "1": "football264.txt",
                  "2": "\"tartan army given safety pledge  scotland fans will be able to watch the world cup qualifier with italy in a safe section of the san siro - thanks to well-behaved celtic supporters.  the scots will sit above the home fans to avoid the shower of missiles which greeted welsh supporters two years ago. sfa security boss willie mcdougall said the good conduct of celtic fans earlier this season was a contributing factor. \"\"that night",
                  "3": "",
                  "4": "football"
                },
                {
                  "0": "696",
                  "1": "football258.txt",
                  "2": "\"sa supports fifa control  south african president thabo mbeki said on thursday the composition of the 2010 world cup local organising committee (loc) would \"\"be left up to fifa\"\".  in a show of support for the event",
                  "3": "",
                  "4": "football"
                },
                {
                  "0": "697",
                  "1": "football099.txt",
                  "2": "\"real in talks over gravesen move  real madrid are closing in on a £2m deal for evertons thomas gravesen after the danes agent travelled to spain to hold talks about a move.  john sivabaek told bbc sport: \"\"im here to listen to what real have to say. nothing has been agreed",
                  "3": "",
                  "4": "football"
                },
                {
                  "0": "698",
                  "1": "football072.txt",
                  "2": "\"prutton poised for lengthy fa ban  southamptons david prutton faces a possible seven-match ban when he goes before the football association.  the 23-year-old has admitted two charges of improper conduct following his dismissal against arsenal. the first charge relates to his failure to leave the field promptly, pushing referee alan wiley and remonstrating with assistant referee paul norman. and the second charge is for using threatening words and/or behaviour to a match official during the 1-1 draw.  paolo di canio was given a seven-match suspension when he pushed referee paul alcock over in a premiership game between sheffield wednesday and arsenal in 1998. prutton will be joined at wednesdays hearing by saints boss harry redknapp, who believes that the fa will throw the book at his player. redknapp himself sprinted along the touchline to help physio jim joyce and coach denis rofe shepherd the enraged prutton away from referees assistant norman. \"\"david has made a big mistake and he knows it. i cant condone what hes done. he was out of order but he knows that",
                  "3": "football",
                  "4": "football"
                },
                {
                  "0": "699",
                  "1": "football066.txt",
                  "2": "\"hodgson relishes european clashes  former blackburn boss roy hodgson says the premiership should follow the rest of europe and have a winter break - but insists that a gruelling domestic schedule will not damage the english elites bid for champions league glory.  hodgson - now in charge at viking stavanger - was at liverpools clash with bayer leverkusen at anfield on tuesday as a member of uefas technical committee. hodgson is a fierce advocate of the winter break employed throughout europe, although not in england - where the champions league contenders have ploughed through a heavy fixture list. but hodgson told bbc sport that while he believes the premiership should embrace the idea, he does not expect it to cost the english representatives in the last 16 of the champions league. \"\"i just feel it is very difficult to say with certainty that teams who have had the break will have a definite edge. \"\"i am a fervent supporter of the break. it gives players the chance to recharge their batteries midway through the season",
                  "3": "",
                  "4": "football"
                },
                {
                  "0": "700",
                  "1": "rugby147.txt",
                  "2": "\"oconnor aims to grab opportunity  johnny oconnor is determined to make a big impression when he makes his rbs six nations debut for ireland against scotland on saturday.  the wasps flanker replaces denis leamy but oconnor knows that the munster man will be pushing hard for a recall for the following game against england. \"\"its a horses for courses selection really",
                  "3": "",
                  "4": "rugby"
                },
                {
                  "0": "701",
                  "1": "rugby145.txt",
                  "2": "odriscoll out of scotland game  ireland captain brian odriscoll has been ruled out of saturdays rbs six nations clash against scotland.  odriscoll was originally named in the starting line-up but has failed to recover from the hamstring injury he picked up in the win over italy. his replacement will be named after training on friday morning. fellow centre gordon darcy is also struggling with a hamstring injury and he will undergo a fitness test on friday to see if he can play.  kevin maggs would be an obvious replacement at centre while shane horgan could also be moved from wing. ulster wing tommy bowe could also be asked to travel with the squad to scotland as a precautionary measure. the only other change to the ireland side sees wasps flanker johnny oconnor replacing denis leamy. oconnor will be winning his third cap after making his debut in the victory over south africa last november.  : murphy, horgan, tbc, darcy, hickie, ogara, stringer, corrigan, byrne, hayes, okelly, oconnell, s easterby, oconnor, foley.  : sheahan, horan, ocallaghan, miller, g easterby, humphreys, dempsey.",
                  "3": "",
                  "4": "rugby"
                },
                {
                  "0": "702",
                  "1": "football058.txt",
                  "2": "\"ferguson fears milan cutting edge  manchester united manager sir alex ferguson said his sides task against ac milan would not be made any easier by the absence of andriy shevchenko.  milans talismanic european footballer of the year misses wednesdays champions league first-leg tie after fracturing his cheekbone. \"\"its a loss (to milan)",
                  "3": "",
                  "4": "football"
                },
                {
                  "0": "703",
                  "1": "football070.txt",
                  "2": "\"ajax refuse to rule out jol move  ajax have refused to reveal whether tottenhams boss martin jol is on the dutch champions shortlist to become the amsterdam clubs new coach.  jol, who has coached in his native holland, has guided spurs to the premierships top eight. an ajax spokesman told bbc sport: \"\"the coach must fit our profile - a coach who understands the dutch league and offensive and distinctive football. \"\"we need to find a solution soon",
                  "3": "football",
                  "4": "football"
                },
                {
                  "0": "704",
                  "1": "football064.txt",
                  "2": "\"stam spices up man utd encounter  ac milan defender jaap stam says manchester united \"\"know they made a mistake\"\" by selling him in 2001.  the sides meet at old trafford in the champions league game on wednesday and the 32-year-olds dutchmans presence is sure to add spice to the fixture. \"\"united made a mistake in selling me",
                  "3": "",
                  "4": "football"
                },
                {
                  "0": "705",
                  "1": "cricket028.txt",
                  "2": "\"hodge earns aussie test call  australia have named prolific batsman brad hodge in their 13-man squad for the test series in new zealand.  the 30-year-old victorian went on the tour to india last year but has yet to play a test despite consistent performances in domestic cricket. veteran batsman darren lehmann needs shoulder surgery and misses out, as does all-rounder shane watson who has just recovered from a torn side muscle. the first of three tests will be in christchurch from 10-14 march. hodge only played one warm-up match on the tour of india but heavy scoring in recent weeks for victoria has earned him the nod ahead of mike hussey and andrew symonds.  chairman of selectors trevor hohns said: \"\"he has presented an irresistible case to be part of this tour and if he gets the opportunity",
                  "3": "cricket",
                  "4": "cricket"
                },
                {
                  "0": "706",
                  "1": "cricket014.txt",
                  "2": "\"streak ends zim dispute  former captain heath streak has signed a contract to play for zimbabwe after ending his 10-month dispute with the countrys cricketing authorities.  streak was sacked last april after criticising zimbabwe crickets selection policies. \"\"i just need to finalise some aspects of my contract with warwickshire so that it ties in with my international commitments",
                  "3": "",
                  "4": "cricket"
                },
                {
                  "0": "707",
                  "1": "football138.txt",
                  "2": "\"wolves appoint hoddle as manager  glenn hoddle has been unveiled as the new wolves manager.  the ex-england coach has been given a six-month contract to succeed dave jones, who was sacked after the clubs poor start to the season. wolves chairman rick hayward said: \"\"were delighted glenn is here. he has a six-month contract so we can test each other out and see if it works.\"\" hoddle",
                  "3": "",
                  "4": "football"
                },
                {
                  "0": "708",
                  "1": "rugby031.txt",
                  "2": "odriscoll saves irish blushes  two moments of magic from brian odriscoll guided ireland to a workmanlike victory against italy.  a pair of classic outside breaks from the ireland captain set up tries for geordan murphy and peter stringer. italy led 9-8 early in the second half but stringers try gave ireland a lead they never lost. the hosts cut the gap to 18-12 with 10 minutes left and nearly scored through ludovico nitoglia, but denis hickies try ensured an irish victory. italy came flying out of the blocks and took the lead through a luciano orquera penalty after seven minutes.  it could have been better for the hosts but the fly-half missed two kickable penalties and ireland drew level with a ronan ogara penalty midway through the first half. the italians were driving at the heart of the irish defence and, for the first quarter, the irish pack struggled to secure any ball for their talented backs.  when they finally did, just before the half-hour mark, odriscoll promptly created a sparkling try for murphy. the ireland captain ran a dummy scissors and made a magical outside break before drawing the full-back and putting the diving murphy in at the corner. ogara missed the twice-taken conversion and the visitors found themselves trailing once again. roland de marigny took over the kicking duties for italy from the hapless orquera, and he landed a penalty either side of the break to edge italy into a 9-8 lead.  the only ireland player offering a real threat was odriscoll, and it was his break that set up the second try for the visitors. shane horgan threw an overhead pass as he was about to be forced into touch and stringer scooted over, with ogara landing the tricky conversion. a penalty apiece saw ireland leading 18-12 as the game entered the final quarter, but they were lucky to survive when italy launched a series of attacks. winger nitoglia dropped the ball as he reached for the line and italy nearly rumbled over from a driving maul.  an ogara penalty put ireland more than a converted try ahead and they made the game safe when hickie latched onto an inside pass from murphy and crossed for a converted try. odriscoll limped off late on, joining centre partner gordon darcy on the sidelines, and the final word went to italy. prop martin castrogiovanni powered over for a try which was fitting reward for an italian pack which had kept the irish under pressure throughout.  de marigny; mi bergamasco, canale, masi, nitoglia; orquera, troncon; lo cicero, ongaro, castrogiovanni; dellape, bortolami; persico, ma bergamasco, parisse.  perugini, intoppa, del fava, dal maso, griffen, pozzebon, robertson.  murphy, horgan, odriscoll, darcy, hickie, ogara, stringer, corrigan, byrne, hayes, okelly, oconnell, s easterby, leamy, foley.  sheahan, horan, ocallaghan, miller, g easterby, humphreys, dempsey.  p obrien (new zealand)",
                  "3": "",
                  "4": "rugby"
                },
                {
                  "0": "709",
                  "1": "rugby025.txt",
                  "2": "henson stakes early lions claim  the six nations may be a glittering prize in itself but every player from the four home unions will also have one eye on a possible trip to new zealand with the lions this summer.  the player who staked the biggest claim for a place in the starting xv over the weekend was gavin henson. hes very confident. you just had to listen to his interview afterwards - he beamed with confidence - but although theres an element of arrogance its good arrogance. he certainly showed some nice touches. he once showed a clean pair of heels to mathew tait when he got outside him, his defence was very good and he made some great kicks out of hand. and thats without even mentioning his majestic match-winning penalty. but i think we need to wait and see what happens because he needs to be put to the test. he needs to come up against brian odriscoll or a big french midfield. wales fly-half stephen jones was another player who impressed me. he gave good direction, he was very confident and he was a nice general for his side. he showed he can control a game. with jonny wilkinson not playing at the moment due to inury the number 10 shirt could be up for grabs and jones, or maybe even henson, could make the lions team at fly-half.  jones stuck his hand up and he certainly looks a better bet than charlie hodgson after saturdays game. some of the wales forwards surprised me because i thought they would be out-muscled in the tight five. england prop julian white is a capable player but when it comes down to selection gethin jenkins is now going to have the upper hand because he came out on top. however, i still think white and phil vickery will be in the frame. some english players did their cause no harm. i thought joe worsley had a solid game and jason robinson and josh lewsey both did nothing wrong. but it looked too soon for young mathew tait and i think it will be a while before we see him again. despite being written off beforehand several scots caught my eye against france.  tom smith has been there and done it before, but the likes of chris cusiter, jason white and ally hogg all made their mark. hogg made a couple of good runs while white had a pretty robust game - his defence is right up there. cusiter looked very lively and he could be a very good option for lions coach sir clive woodward. the star of irelands win over italy in rome looks like a certainty to make the starting xv against new zealand. brian odriscoll is a class act. he ran some good lines against italy, made the breaks and fed his outside backs, although italy defended man on man which made it easy for him. gordon darcy was unlucky to go off injured early on but i think you could get a henson, darcy, odriscoll combination in the lions midfield. paul oconnell just needs to add a hard edge to his game and malcolm okelly keeps on going and seems to be putting his hand up, while shane byrne seems to be a lively character. but they will be a bit worried after the italian pack drove them off their own ball on sunday, although i used to play in italy and i know how difficult it can be. one player who didnt impress me was wales scrum-half dwayne peel. he choked late on in the second half when wales were trailing. they had good possession and he kicked the ball away - i wouldnt want him as my lions scrum-half after that.",
                  "3": "",
                  "4": "rugby"
                },
                {
                  "0": "710",
                  "1": "football104.txt",
                  "2": "\"edu describes tunnel fracas  arsenals edu has lifted the lid on the scenes that followed manchester uniteds win over the gunners.  the brazilian confirmed tempers had flared but could shed no light on reports that food was thrown at united boss sir alex ferguson. \"\"i saw people being pulled apart",
                  "3": "",
                  "4": "football"
                },
                {
                  "0": "711",
                  "1": "football110.txt",
                  "2": "\"uefa approves fake grass  uefa says it will allow european matches to be played on artificial pitches from the start of next season.  european footballs governing body made the decision at a meeting of its executive committee on wednesday. uefa explained that the move \"\"follows comprehensive studies into the sporting and medical aspects of using artificial playing surfaces.\"\" they can be used subject to complying with uefa quality criteria but there use will not be made obligatory. luton",
                  "3": "",
                  "4": "football"
                },
                {
                  "0": "712",
                  "1": "rugby019.txt",
                  "2": "italy 17-28 ireland  two moments of magic from brian odriscoll guided ireland to a workmanlike victory against italy.  a pair of classic outside breaks from the ireland captain set up tries for geordan murphy and peter stringer. italy led 9-8 early in the second half but stringers try gave ireland a lead they never lost. the hosts cut the gap to 18-12 with 10 minutes left and nearly scored through ludovico nitoglia, but denis hickies try ensured an irish victory. italy came flying out of the blocks and took the lead through a luciano orquera penalty after seven minutes.  it could have been better for the hosts but the fly-half missed two kickable penalties and ireland drew level with a ronan ogara penalty midway through the first half. the italians were driving at the heart of the irish defence and, for the first quarter, the irish pack struggled to secure any ball for their talented backs.  when they finally did, just before the half-hour mark, odriscoll promptly created a sparkling try for murphy. the ireland captain ran a dummy scissors and made a magical outside break before drawing the full-back and putting the diving murphy in at the corner. ogara missed the twice-taken conversion and the visitors found themselves trailing once again. roland de marigny took over the kicking duties for italy from the hapless orquera, and he landed a penalty either side of the break to edge italy into a 9-8 lead.  the only ireland player offering a real threat was odriscoll, and it was his break that set up the second try for the visitors. shane horgan threw an overhead pass as he was about to be forced into touch and stringer scooted over, with ogara landing the tricky conversion. a penalty apiece saw ireland leading 18-12 as the game entered the final quarter, but they were lucky to survive when italy launched a series of attacks. winger nitoglia dropped the ball as he reached for the line and italy nearly rumbled over from a driving maul.  an ogara penalty put ireland more than a converted try ahead and they made the game safe when hickie latched onto an inside pass from murphy and crossed for a converted try. odriscoll limped off late on, joining centre partner gordon darcy on the sidelines, and the final word went to italy. prop martin castrogiovanni powered over for a try which was fitting reward for an italian pack which had kept the irish under pressure throughout.  de marigny; mi bergamasco, canale, masi, nitoglia; orquera, troncon; lo cicero, ongaro, castrogiovanni; dellape, bortolami; persico, ma bergamasco, parisse.  perugini, intoppa, del fava, dal maso, griffen, pozzebon, robertson.  murphy, horgan, odriscoll, darcy, hickie, ogara, stringer, corrigan, byrne, hayes, okelly, oconnell, s easterby, leamy, foley.  sheahan, horan, ocallaghan, miller, g easterby, humphreys, dempsey.  p obrien (new zealand)",
                  "3": "",
                  "4": "rugby"
                },
                {
                  "0": "713",
                  "1": "atheletics018.txt",
                  "2": "merritt close to indoor 400m mark  teenager lashawn merritt ran the third fastest indoor 400m of all time at the fayetteville invitational meeting.  the world junior champion clocked 44.93 seconds to finish well clear of fellow american bershawn jackson in arkansas. only michael johnson has gone quicker, setting the world record of 44.63secs in 1995 and running 44.66secs in 1996. kenyan bernard lagat missed out on the world record by 1.45secs as he ran the third quickest indoor mile ever to beat canadas nate brannen by almost 10secs. the olympic silver medallists time of three minutes 49.89secs was inferior only to the 1997 world record of moroccan hicham el guerrouj and former world record holder eamonn coghlan of irelands 3:49.78. lagat was on course to break el guerroujs record through 1200m but could not maintain the pace over the final 400m. irelands  continued his excellent form by winning a tight 3,000m in 7:40.53. cragg, who recently defeated olympic 10,000m champion kenenisa bekele in boston, held off bekeles ethiopian colleague markos geneti by only 0.19secs to secure his victory. mark carroll, who will join cragg in the european indoor championships next month, finished a solid third in 7:46.78. olympic 200m gold medallist  of jamaica ran the fastest womens 60m in the world this year as she equalled her personal best of 7.09secs. world indoor 60m hurdles champion  also won, improving his season-leading time to 7.51secs.",
                  "3": "",
                  "4": "atheletics"
                },
                {
                  "0": "714",
                  "1": "tennis015.txt",
                  "2": "\"mirza shocks kuznetsova  sania mirza continued her remarkable rise with victory over us open champion svetlana kuznetsova at the dubai championships on tuesday.  the 18-year-old indian, who is already a huge star in her home country, won 6-4 6-2 in front of a delirious crowd. it was mirzas sixth straight victory following her first wta tournament win in hyderabad last month. earlier, daniela hantuchova built on her improving form with a 7-6 6-2 win over sixth seed alicia molik. mirza needed attention to an ankle injury after the second game against kuznetsova.  she quickly slipped 4-0 down but staged a dramatic comeback that thrilled the large indian contingent in the crowd. \"\"i really didnt expect that after my ankle turn",
                  "3": "",
                  "4": "tennis"
                },
                {
                  "0": "715",
                  "1": "tennis001.txt",
                  "2": "\"henman overcomes rival rusedski  tim henman saved a match point before fighting back to defeat british rival greg rusedski 4-6 7-6 (8-6) 6-4 at the dubai tennis championships on tuesday.  world number 46 rusedski broke in the ninth game to take a tight opening set. rusedski had match point at 6-5 in the second set tie-break after henman double-faulted, but missed his chance and henman rallied to clinch the set. the british number one then showed his superior strength to take the decider and earn his sixth win over rusedski. serve was held by both players with few alarms until the seventh game of the final set, when rusedskis wild volley gave henman a vital break. a furious rusedski slammed his racket onto the ground in disgust and was warned by the umpire.  henman, seeded three, then held his serve comfortably thanks to four serve-and-volley winners to take a clear 5-3 lead. rusedski won his service game but henman took the first of his three match points with a service winner to secure his place in the second round at dubai for the first time in three years. it was the first match between the pair for three years - henman last lost to rusedski six years ago - and lasted two hours and 40 minutes. the pair are now likely to only face each other on court as rivals - rather than as team-mates - after henman decided to retire from davis cup tennis leaving rusedski to lead the team out against israel on 4-6 march. henman, who now faces russian igor andreev in the last 16, admitted afterwards it was difficult coming up against his compatriot on a fast surface. \"\"you just take it point by point when youre fighting to stay in the match",
                  "3": "tennis",
                  "4": "tennis"
                },
                {
                  "0": "716",
                  "1": "atheletics024.txt",
                  "2": "\"chepkemei joins edinburgh line-up  susan chepkemei has decided she is fit enough to run in next months great edinburgh international cross country.  the kenyan was initially unsure if she would have recovered from her gruelling tussle with paula radcliffe in the new york marathon in time to compete. but she has declared herself up to the task and joins a field headed by world cross country champion benita johnson. race director matthew turnbull said: \"\"susan will add even more strength in depth to the world-class line up.\"\" chepkemei",
                  "3": "",
                  "4": "atheletics"
                },
                {
                  "0": "717",
                  "1": "tennis029.txt",
                  "2": "\"what now for british tennis?  tim henmans decision to quit davis cup tennis has left the british team with a gargantuan void to fill.  the world number seven is tied for fourth among his countrymen for wins in the history of the tournament (he has 36 from his 50 rubbers). and great britains last davis cup win without henman came against slovenia as far back as 1996. worse could follow, according to former british team member chris bailey. bailey told bbc sport: \"\"after tims announcement",
                  "3": "tennis",
                  "4": "tennis"
                },
                {
                  "0": "718",
                  "1": "atheletics030.txt",
                  "2": "2004: an irish athletics year  2004 wont be remembered as one of irish athletics great years.  the year began with that optimism which invariably and unaccountably, seems to herald an upcoming olympiad. but come late august, a few hot days in the magnificent stadium in athens told us of the true strength of irish athletics - or to be more accurate, the lack of it. sonia osullivans olympic farewell apart, there was little to stir the emotions of irish athletics watchers. but after the disastrous build-up to the games, we shouldnt have been surprised. at the start of the year, an osullivan had been earmarked as irelands best medal prospect but as it turned out, walker gillian never even made it to the start line because of injury. less than a week before the olympics, the sport was rocked by news that 10,000m hope cathal lombard had tested for the banned substance epo. lombards shattering of mark carrolls national 10,000m record in april had already set tongues wagging but even the most cynical of observers, were surprised when he was rumbled after an irish sports council sting operation. the corkman quickly held his hands up in admission and was promptly handed a two-year ban from the sport.  back at pre-olympic ranch in greece, it must have seemed that things couldnt have got any worse but they very nearly did with walker jamie costin lucky to escape with his life after being involved in a car crash near athens. once the track and field action began in athens, a familiar pattern of underachievement emerged although alistair craggs performance in being the only athlete from a european nation to qualify for the 5,000m final did offer hope for the future. our beloved sonia scraped into the womens 5k final as a fastest loser and for a couple of days, the country attempted to delude itself into believing that she might be in the medal shake-up. as it happened, she went out the back door early in the final although there was nothing undignified about the way that she insisted on finishing the race over a minute behind winner meseret defar. it later transpired that sonia had been suffering from a stomach bug in the 48 hours before the final although typically, the cobhwoman played down the effects of the illness. amazingly, she was back in action a couple of weeks later when beating a world-class field at the flora lite 5k road race in london and while her major championship days may be over, its unlikely that we have seen the last of her in competition. at least sonia managed to make it to athens. at the start of the year, several northern ireland athletes had genuine hopes of qualifying for the games but come august, an out-of-form and injured paul brizzel was the lone standard bearer for the province. the ballymena man gave it a lash but his achilles problem, and a bad lane draw, meant a time of 21.00 and an early exit.  james mcilroy, gareth turnbull, zoe brown and paul mckee all had to be content with watching the athens action on their television screens. 800m hope mcilroy never got near his best during the summer and a fourth place in the british trials effectively ended his hopes of making the plane. the injury-plagued turnbull gamely travelled round europe in search of the 1500m qualifying mark but 3:39 was the best he could achieve, after missing several months training during the previous winter. a lingering hamstring probem and a virus wrecked mckees athens ambitions and both he and turnbull deserve a slice of better fortune in 2005. pole vaulter brown had hoped for a vote of confidence from the british selectors after she had achieved the athens b standard but the call never came. as the summer ended, stalwarts catherina mckiernan and dermot donnelly hung up their competitive spikes. mckiernan had to candidly acknowledge that time had crept up on her after several injury-ravaged years. donnelly and his annadale striders team-mates later suffered tragedy when their friend and clubman andy campbell was found dead at his home on 18 december. a large turnout of athletics-loving folk turned out in west belfast to offer their respects to the campbell family and andys many friends. as only death can, it put the years athletics happenings in a sharp perspective.",
                  "3": "atheletics",
                  "4": "atheletics"
                },
                {
                  "0": "719",
                  "1": "atheletics031.txt",
                  "2": "\"sprinter walker quits athletics  former european 200m champion dougie walker is to retire from athletics after a series of six operations left him struggling for fitness.  walker had hoped to compete in the new year sprint which is staged at musselburgh racecourse near edinburgh on tuesday and wednesday. the 31-year-old scot was suspended for two years in 1998 after testing positive for nandrolone. \"\"i had intended to race but im running like a goon",
                  "3": "atheletics",
                  "4": "atheletics"
                },
                {
                  "0": "720",
                  "1": "atheletics025.txt",
                  "2": "\"el guerrouj targets cross country  double olympic champion hicham el guerrouj is set to make a rare appearance at the world cross country championships in france.  but the moroccan, who has not raced over cross country for 15 years, will not decide until two weeks before the event which starts on 19 march. \"\"if i am to compete in it",
                  "3": "",
                  "4": "atheletics"
                },
                {
                  "0": "721",
                  "1": "tennis028.txt",
                  "2": "\"kuznetsova failed a drugs test  us open champion svetlana kuznetsova has tested positive for a banned drug, according to belgian authorities.  belgian sports minister claude eerdekens said that the russian world number five tested positive for the stimulant ephedrine on 19 december. kuznetsova was playing in an exhibition event in charleroi at the time. eerdekens said: \"\"there is a problem. ephedrine was discovered. she remains innocent until proved guilty. she can ask for it to be tested again.\"\" the situation remains unclear as the tournament was not commissioned by the world anti-doping agency (wada)",
                  "3": "",
                  "4": "tennis"
                },
                {
                  "0": "722",
                  "1": "atheletics019.txt",
                  "2": "\"london hope over chepkemei  london marathon organisers are hoping that banned athlete susan chepkemei will still take part in this years race on 17 april.  chepkemei was suspended from all competition until the end of the year by athletics kenya after failing to report to a national training camp. \"\"we are watching it closely",
                  "3": "atheletics",
                  "4": "atheletics"
                },
                {
                  "0": "723",
                  "1": "tennis014.txt",
                  "2": "\"henman hopes ended in dubai  third seed tim henman slumped to a straight sets defeat in his rain-interrupted dubai open quarter-final against ivan ljubicic.  the croatian eighth seed booked his place in the last four with a 7-5 6-4 victory over the british number one. henman had looked on course to level the match after going 2-0 up in the second set, but his progress was halted as the rain intervened again. ljubicic hit back after the break to seal a fourth straight win over henman. earlier in the day, spanish fifth seed tommy robredo secured his semi-final place when he beat nicolas kiefer of germany 6-4 6-4. afterwards, henman was left cursing the weather and the umpire after seven breaks for rain during the match. \"\"it was incredibly frustrating",
                  "3": "",
                  "4": "tennis"
                },
                {
                  "0": "724",
                  "1": "rugby018.txt",
                  "2": "\"osullivan quick to hail italians  ireland coach eddie osullivan heaped praise on italy after seeing his side stutter to a 28-17 victory in rome.  \"\"it was a hell of a tough game",
                  "3": "",
                  "4": "rugby"
                },
                {
                  "0": "725",
                  "1": "football111.txt",
                  "2": "yeading face newcastle in fa cup  premiership side newcastle united face a trip to ryman premier league leaders yeading in the fa cup third round.  the game - arguably the highlight of the draw - is a potential money-spinner for non-league yeading, who beat slough in the second round. conference side exeter city, who knocked out doncaster on saturday, will travel to old trafford to meet holders manchester united in january. arsenal were drawn at home to stoke and chelsea will play host to scunthorpe. the only other non-league side in the draw are hinckley united, who held brentford to a goalless draw on sunday. they will meet league one leaders luton if they win their replay against martin allens team at griffin park.  a number of premiership teams face difficult away games against championship sides on the weekend of 8/9 january. third-placed everton visit plymouth, liverpool travel to burnley, crystal palace go to sunderland, fulham face carling cup semi-finalists watford, bolton meet ipswich, while aston villa were drawn against sheffield united. premiership strugglers norwich, blackburn, west brom are away at west ham, cardiff and preston north end respectively. southampton visit northampton, having already beaten the league two side in the carling cup earlier this season. middlesbrough were drawn away against either swindon or notts county, while spurs entertain brighton at white hart lane.  arsenal v stoke  swindon/notts co v middlesbrough  man utd v exeter  plymouth v everton  leicester v blackpool  derby v wigan  sunderland v crystal palace  wolves v millwall  yeading v newcastle  hull v colchester  tottenham v brighton  reading v stockport/swansea  birmingham v leeds  hartlepool v boston  milton keynes dons v peterborough  oldham v man city  chelsea v scunthorpe  cardiff v blackburn  charlton v rochdale  west ham v norwich  sheff utd v aston villa  preston v west brom  rotherham v yeovil  burnley v liverpool  bournemouth v chester  coventry v crewe  watford v fulham  ipswich v bolton  portsmouth v gillingham  northampton v southampton  qpr v nottm forest  luton v hinckley/brentford  matches to be played on weekend of 8/9 january.",
                  "3": "",
                  "4": "football"
                },
                {
                  "0": "726",
                  "1": "football105.txt",
                  "2": "\"chelsea sack mutu  chelsea have sacked adrian mutu after he failed a drugs test.  the 25-year-old tested positive for a banned substance - which he later denied was cocaine - in october. chelsea have decided to write off a possible transfer fee for mutu, a �15.8m signing from parma last season, who may face a two-year suspension. a statement from chelsea explaining the decision read:\"\"we want to make clear that chelsea has a zero tolerance policy towards drugs.\"\" mutu scored six goals in his first five games after arriving at stamford bridge but his form went into decline and he was frozen out by coach jose mourinho. chelseas statement added: \"\"this applies to both performance-enhancing drugs or so-called recreational drugs. they have no place at our club or in sport. \"\"in coming to a decision on this case",
                  "3": "",
                  "4": "football"
                },
                {
                  "0": "727",
                  "1": "rugby024.txt",
                  "2": "\"wales critical of clumsy grewcock  wales coach mike ruddock says england lock danny grewcock needs to review his actions after he kicked dwayne peel.  trouble flared at a ruck in the first half of wales 11-9 win in cardiff as grewcock came recklessly over the top with his boot, leaving peel bloodied. grewcock was sin-binned with wales captain gareth thomas for retaliation. \"\"its up to the citing commissioner",
                  "3": "",
                  "4": "rugby"
                },
                {
                  "0": "728",
                  "1": "rugby030.txt",
                  "2": "\"white prepared for battle  tough-scrummaging prop julian white is expecting a resurgent wales to give him a rough ride in englands six nations opener in cardiff on saturday.  the leicester tight-head is in the form of his life, making the england number three shirt his own. but he knows wales will put his technique under immense scrutiny. \"\"the welsh scrum is a force to be reckoned with",
                  "3": "",
                  "4": "rugby"
                },
                {
                  "0": "729",
                  "1": "football139.txt",
                  "2": "\"redknapp poised for saints  southampton are set to unveil harry redknapp as their new manager at a news conference at 1500 gmt on wednesday.  the former portsmouth boss replaces steve wigley, who has been relieved of first-team duties after just one win in 14 league games in charge. redknapp, 57, quit his fratton park position on 24 november and vowed: \"\"i will not go down the road - no chance.\"\" pompey coach kevin bond is poised to join redknapp",
                  "3": "",
                  "4": "football"
                },
                {
                  "0": "730",
                  "1": "cricket001.txt",
                  "2": "hayden sets up australia win  second one-day international, christchurch australia 314-6 (50 overs) beat new zealand 208 (40.4 overs) by 106 runs  ricky ponting (53) and damien martyn (58) provided the main support for hayden, who hit two sixes and 12 fours. they eventually totalled 314-6 and the game was as good as over when new zealand slumped to 73-6 in reply, with adam gilchrist taking five catches. daniel vettori made a rapid 83 but they were all out for 208 in the 41st over. new zealand must now win all three remaining matches to take the series, but such a turn-round looked a remote possibility at jade stadium. skipepr stephen fleming chose to put australia in after winning the toss, with former rugby star jeff wilson included in the new zealand team for his first one-day international since march 1993. he was taught a harsh lesson as his six overs cost 57 runs, with only left-arm spinner vettori (0-31 from 10) able to exercise any measure of control over the australian batsmen.  gilchrist was caught behind off daryl tuffey from the second ball of the match but hayden and ponting set about putting things right with a stand of 99 for the second wicket. ponting cleared the ropes twice as he raced to 50 off 51 balls, but only added three more before he was run out by hamish marshall. by then, hayden was into his stride and he and martyn added 133, although it took them 24 overs. martyn was run out off the final ball of the 41st over, but the final nine cost the kiwis 82 runs as australia raised the tempo. haydens century came up off 110 balls but he eventually fell to a catch by wilson off kyle mills, leaving michael clarke to add 23 off 13 balls and mike hussey 32 not out off 20 as the total mounted past 300.  the new ball pairing of brett lee and glenn mcgrath made short work of new zealands top order, claiming two wickets each - all of them catches behind the wicket by gilchrist. he claimed another when andrew symonds found the edge of craig mcmillans bat and when chris cairns followed for 22, caught by hayden, the home side were in danger of being embarrassed. vettori and brendon mccullum (20) halted their decline by sharing a stand of 62 before mccullum gave a return catch to symonds, who finished with 3-41. wilson made 22 in an eighth wicket stand of 62 but the end came quickly once he was caught by ponting off jason gillespie. having passed fifty for the first time in a limited overs international, vettori was denied a century when he was caught at deep square leg off gillespie after hitting 10 fours in his 77-ball knock. mills was last to go, run out by clarke, after setting off for a quick single and being sent back by tuffey.  s p fleming, n j astle, m s sinclair, j wilson, c d mcmillan, h j h marshall, c l cairns, b b mccullum, k d mills, d l vettori, d r tuffey  m l hayden, a c gilchrist, r t ponting, d r martyn, a symonds, m j clarke, m e k hussey, g b hogg, b lee, j gillespie, g d mcgrath",
                  "3": "rugby",
                  "4": "cricket"
                },
                {
                  "0": "731",
                  "1": "cricket015.txt",
                  "2": "\"aussie mcgrath to take match off  third one-day international, auckland: new zealand v australia  match begins 0100 gmt  opener matthew hayden will also sit out the match because of a shoulder injury suffered in the second game on tuesday. mcgraths place goes to michael kasprowicz while simon katich replaces hayden, and will open the batting in preference to michael clarke. new zealand trail 2-0 and need to win in auckland to keep the five-match series alive. the black caps dropped batsman mathew sinclair after the opening two defeats, calling in opener michael papps and all-rounder andre adams. but adams has been ruled out due to illness, adding to the home sides woes after scott styris injured his knee. batsman james marshall will make his international debut after acting as 12th man in the last game.  marshall is the identical twin of hamish marshall, new zealands best batsman in the first match. news that several batsmen had spent time with the team psychologist on wednesday added to the air of desperation in the new zealand camp. but captain stephen fleming played that down, and emphasised pride is at stake with three games left in the series. \"\"were pretty determined; we know the importance of the match to keep the series alive",
                  "3": "",
                  "4": "cricket"
                },
                {
                  "0": "732",
                  "1": "cricket029.txt",
                  "2": "\"weather worry for pakistan  pakistan have voiced concern about the choice of dharamshala to stage their only warm-up game in india.  tuesdays practice session had to be cancelled because of rain and the forecast is gloomy until the weekend. they are also worried about a travel schedule which could disrupt practice in mohali, venue for the first test. \"\"if we have to go back the same way we came",
                  "3": "",
                  "4": "cricket"
                },
                {
                  "0": "733",
                  "1": "football065.txt",
                  "2": "\"mourinho defiant on chelsea form  chelsea boss jose mourinho has insisted that sir alex ferguson and arsene wenger would swap places with him.  mourinhos side were knocked out of the fa cup by newcastle last sunday before seeing barcelona secure a 2-1 champions league first-leg lead in the nou camp. but he denied his club was suffering a dip in form which league rivals arsenal and manchester united could exploit. \"\"they cannot speak to us about blips because theyre not in a better position than us",
                  "3": "",
                  "4": "football"
                },
                {
                  "0": "734",
                  "1": "football071.txt",
                  "2": "\"unclear future for striker baros  liverpool forward milan baros is uncertain whether he remains part of boss rafa benitezs plans after being dropped for the carling cup final.  baros, who is liverpools leading scorer this season, denied reports of a row with benitez but claims he is mystified at being left on the bench. he told czech newspaper daily sport: \"\"i dont know why i didnt play on sunday. i didnt argue with anybody. \"\"i was disappointed but i am not thinking of leaving right now.\"\" the czech international came on as a substitute after 74 minutes but could not prevent his side losing 3-2 to chelsea after extra-time.  baros denied suggestions he wanted to leave the millennium stadium before the match upon learning of his omission from the starting line-up. but his admission that he \"\"guessed something like this was going to happen on saturday\"\"",
                  "3": "",
                  "4": "football"
                },
                {
                  "0": "735",
                  "1": "football059.txt",
                  "2": "\"rush future at chester uncertain  ian rushs future as chester manager is uncertain after he and assistant mark aizlewood refused a severance package.  chester have won only two of their last 10 league games but chairman steve vaughan claims he cannot afford to sack the 43-year-old liverpool legend. vaughan said: \"\"i offered a financial settlement so they could resign with dignity but an obvious action is to dismiss them. \"\"i havent because of the finances",
                  "3": "",
                  "4": "football"
                },
                {
                  "0": "736",
                  "1": "rugby144.txt",
                  "2": "darcy injury adds to ireland woe  gordon darcy has been ruled out of the ireland team for saturdays six nations clash against scotland in murrayfield.  like skipper brian odriscoll, darcy failed to recover from a hamstring injury. the side will now be led by munster lock paul oconnell. shane horgan switches from wing to centre where he will be joined by ulsters kevin maggs. girvan dempsey comes into the team to take the right wing spot while gavin duffy is called up to the replacements. we gave gordon a chance but it didnt work out, said ireland coach eddie osullivan. in terms of the risk element, it was a sensible precaution. he should be fine for the next game but we do not want to tempt fate.  maggs, who will win his 67th cap, was the obvious replacement at centre while shane horgan was always likely to be moved from the wing. the only other change to the ireland side from last weekends win in rome sees wasps flanker johnny oconnor replacing denis leamy. oconnor will be winning his third cap after making his debut in the victory over south africa last november.  : murphy, dempsey, horgan, maggs, hickie, ogara, stringer, corrigan, byrne, hayes, okelly, oconnell, capt, s easterby, oconnor, foley.  : sheahan, horan, ocallaghan, miller, g easterby, humphreys, duffy.",
                  "3": "",
                  "4": "rugby"
                }
              ],
              "schema": [
                {
                  "key": "0",
                  "name": "_c0",
                  "type": "string"
                },
                {
                  "key": "1",
                  "name": "filename",
                  "type": "string"
                },
                {
                  "key": "2",
                  "name": "text",
                  "type": "string"
                },
                {
                  "key": "3",
                  "name": "simple_sport_classification",
                  "type": "string"
                },
                {
                  "key": "4",
                  "name": "actual_sport_classification",
                  "type": "string"
                }
              ],
              "truncated": false
            },
            "isSummary": false,
            "language": "scala"
          },
          "persist_state": {
            "view": {
              "type": "details",
              "tableOptions": {},
              "chartOptions": {
                "chartType": "bar",
                "aggregationType": "count",
                "categoryFieldKeys": [
                  "0"
                ],
                "seriesFieldKeys": [
                  "0"
                ],
                "isStacked": false
              }
            }
          }
        }
      }
    }
  },
  "nbformat": 4,
  "nbformat_minor": 2
}