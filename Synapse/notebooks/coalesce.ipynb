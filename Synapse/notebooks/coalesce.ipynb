{
  "cells": [
    {
      "cell_type": "markdown",
      "source": [
        "# These are the parameters that need to be changed to your values"
      ],
      "metadata": {
        "nteract": {
          "transient": {
            "deleting": false
          }
        }
      }
    },
    {
      "cell_type": "code",
      "source": [
        "# The input file directory and file name \n",
        "input_filename = \"abfss://share@datadiscoverypipeline.dfs.core.windows.net/animal_faces/output/animal_faces_clustered_walkthrough.csv\"\n",
        "# The output file directory and file\n",
        "output_filename = \"abfss://share@datadiscoverypipeline.dfs.core.windows.net/animal_faces/output/animal_faces_clustered_single_walkthrough.csv\""
      ],
      "outputs": [
        {
          "output_type": "display_data",
          "data": {
            "application/vnd.livy.statement-meta+json": {
              "spark_pool": "small",
              "session_id": 213,
              "statement_id": 1,
              "state": "finished",
              "livy_statement_state": "available",
              "queued_time": "2022-04-06T15:12:05.1453049Z",
              "session_start_time": "2022-04-06T15:12:05.1912109Z",
              "execution_start_time": "2022-04-06T15:15:27.339861Z",
              "execution_finish_time": "2022-04-06T15:15:27.3401816Z"
            },
            "text/plain": "StatementMeta(small, 213, 1, Finished, Available)"
          },
          "metadata": {}
        }
      ],
      "execution_count": 1,
      "metadata": {
        "jupyter": {
          "source_hidden": false,
          "outputs_hidden": false
        },
        "nteract": {
          "transient": {
            "deleting": false
          }
        }
      }
    },
    {
      "cell_type": "code",
      "source": [
        "df = spark.read.load(input_filename, header=True, format='csv')\n",
        "df1 = df.filter((df.blob_path != 'blob_path'))\n",
        "df1.coalesce(1).write.mode('overwrite').options(header='true').csv(output_filename)"
      ],
      "outputs": [
        {
          "output_type": "display_data",
          "data": {
            "application/vnd.livy.statement-meta+json": {
              "spark_pool": "small",
              "session_id": 213,
              "statement_id": 3,
              "state": "finished",
              "livy_statement_state": "available",
              "queued_time": "2022-04-06T15:17:09.3787272Z",
              "session_start_time": null,
              "execution_start_time": "2022-04-06T15:17:09.5055761Z",
              "execution_finish_time": "2022-04-06T15:17:16.4679474Z"
            },
            "text/plain": "StatementMeta(small, 213, 3, Finished, Available)"
          },
          "metadata": {}
        }
      ],
      "execution_count": 3,
      "metadata": {
        "jupyter": {
          "source_hidden": false
        }
      }
    }
  ],
  "metadata": {
    "kernelspec": {
      "name": "synapse_pyspark",
      "language": "Python",
      "display_name": "Synapse PySpark"
    },
    "language_info": {
      "name": "python"
    },
    "kernel_info": {
      "name": "synapse_pyspark"
    },
    "description": null,
    "save_output": true,
    "synapse_widget": {
      "version": "0.1",
      "state": {}
    }
  },
  "nbformat": 4,
  "nbformat_minor": 2
}